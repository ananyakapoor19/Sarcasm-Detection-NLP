{
 "cells": [
  {
   "cell_type": "code",
   "execution_count": 13,
   "id": "27275828",
   "metadata": {},
   "outputs": [],
   "source": [
    "import json\n",
    "import csv\n",
    "\n",
    "with open('sarcasm_data.json') as json_file:\n",
    "    data = json.load(json_file)\n",
    "\n",
    "csv_data = [['id', 'utterance', 'speaker', 'context', 'context_speakers', 'show', 'sarcasm']]\n",
    "\n",
    "for key, value in data.items():\n",
    "    row = [key, value['utterance'], value['speaker'], '|'.join(value['context']), '|'.join(value['context_speakers']), value['show'], value['sarcasm']]\n",
    "    csv_data.append(row)\n",
    "\n",
    "with open('data.csv', mode='w', encoding='utf-8', newline='') as csv_file:\n",
    "    writer = csv.writer(csv_file)\n",
    "    writer.writerows(csv_data)\n"
   ]
  },
  {
   "cell_type": "code",
   "execution_count": null,
   "id": "fb8f1a59",
   "metadata": {},
   "outputs": [],
   "source": []
  }
 ],
 "metadata": {
  "kernelspec": {
   "display_name": "Python 3 (ipykernel)",
   "language": "python",
   "name": "python3"
  },
  "language_info": {
   "codemirror_mode": {
    "name": "ipython",
    "version": 3
   },
   "file_extension": ".py",
   "mimetype": "text/x-python",
   "name": "python",
   "nbconvert_exporter": "python",
   "pygments_lexer": "ipython3",
   "version": "3.9.12"
  }
 },
 "nbformat": 4,
 "nbformat_minor": 5
}
