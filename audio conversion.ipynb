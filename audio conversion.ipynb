{
 "cells": [
  {
   "cell_type": "code",
   "execution_count": null,
   "id": "2004ba0d",
   "metadata": {},
   "outputs": [],
   "source": [
    "import os\n",
    "import moviepy.editor as mp\n",
    "from moviepy.editor import *\n",
    "import cv2\n",
    "import numpy as np\n",
    "\n",
    "path_context = \"E:\\\\soft comp\\\\context_final\"\n",
    "save_context_path = \"C:\\\\Users\\\\Welcome\\\\Dhairya-Python\\\\sarcasm detection\\\\audio_context\"\n",
    "\n",
    "for file in os.listdir(path_context):\n",
    "    video_path = path_context + \"\\\\\" + file\n",
    "    video = mp.VideoFileClip(video_path)\n",
    "    name_audio = file.split(\".\")[0]\n",
    "    final_video_path = save_context_path + \"\\\\\" + name_audio + \".mp3\"\n",
    "    video.audio.write_audiofile(final_video_path)\n",
    "\n",
    "\n",
    "path_utter = \"E:\\\\soft comp\\\\utterances_final\"\n",
    "save_utter_path = \"C:\\\\Users\\\\Welcome\\\\Dhairya-Python\\\\sarcasm detection\\\\audio_utter\"\n",
    "\n",
    "for file in os.listdir(path_utter):\n",
    "    video_path = path_utter + \"\\\\\" + file\n",
    "    video = mp.VideoFileClip(video_path)\n",
    "    name_audio = file.split(\".\")[0]\n",
    "    final_video_path = save_utter_path + \"\\\\\" + name_audio + \".mp3\"\n",
    "    video.audio.write_audiofile(final_video_path)\n"
   ]
  }
 ],
 "metadata": {
  "kernelspec": {
   "display_name": "Python 3 (ipykernel)",
   "language": "python",
   "name": "python3"
  },
  "language_info": {
   "codemirror_mode": {
    "name": "ipython",
    "version": 3
   },
   "file_extension": ".py",
   "mimetype": "text/x-python",
   "name": "python",
   "nbconvert_exporter": "python",
   "pygments_lexer": "ipython3",
   "version": "3.9.12"
  }
 },
 "nbformat": 4,
 "nbformat_minor": 5
}
