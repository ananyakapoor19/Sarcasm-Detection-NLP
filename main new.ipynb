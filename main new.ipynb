{
 "cells": [
  {
   "cell_type": "code",
   "execution_count": 1,
   "id": "88cecffa",
   "metadata": {},
   "outputs": [],
   "source": [
    "import os\n",
    "import moviepy.editor as mp\n",
    "from moviepy.editor import *\n",
    "import cv2\n",
    "import numpy as np"
   ]
  },
  {
   "cell_type": "code",
   "execution_count": 3,
   "id": "781665e2",
   "metadata": {},
   "outputs": [
    {
     "name": "stderr",
     "output_type": "stream",
     "text": [
      "chunk:   7%| | 26/354 [01:05<00:11, 27.78it/s, now=No"
     ]
    },
    {
     "name": "stdout",
     "output_type": "stream",
     "text": [
      "MoviePy - Writing audio in C:\\Users\\Welcome\\Dhairya-Python\\sarcasm detection\\audio_context\\1_10004_c.wav\n"
     ]
    },
    {
     "name": "stderr",
     "output_type": "stream",
     "text": [
      "\n",
      "chunk:   0%|       | 0/354 [00:00<?, ?it/s, now=None]\u001b[A\n",
      "chunk:   1%| | 3/354 [00:00<00:14, 24.59it/s, now=Non\u001b[A\n",
      "chunk:  42%|▍| 150/354 [00:00<00:00, 804.16it/s, now=\u001b[A\n",
      "chunk:  72%|▋| 255/354 [00:00<00:00, 903.26it/s, now=\u001b[A\n",
      "chunk:   7%| | 26/354 [01:06<00:11, 27.78it/s, now=No\u001b[A"
     ]
    },
    {
     "name": "stdout",
     "output_type": "stream",
     "text": [
      "MoviePy - Done.\n"
     ]
    },
    {
     "name": "stderr",
     "output_type": "stream",
     "text": [
      "chunk:   7%| | 26/354 [01:06<00:11, 27.78it/s, now=No"
     ]
    },
    {
     "name": "stdout",
     "output_type": "stream",
     "text": [
      "MoviePy - Writing audio in C:\\Users\\Welcome\\Dhairya-Python\\sarcasm detection\\audio_context\\1_10009_c.wav\n"
     ]
    },
    {
     "name": "stderr",
     "output_type": "stream",
     "text": [
      "\n",
      "chunk:   0%|       | 0/442 [00:00<?, ?it/s, now=None]\u001b[A\n",
      "chunk:   9%| | 38/442 [00:00<00:01, 379.98it/s, now=N\u001b[A\n",
      "chunk:  23%|▏| 102/442 [00:00<00:00, 455.25it/s, now=\u001b[A\n",
      "chunk:  33%|▎| 147/442 [00:00<00:00, 447.44it/s, now=\u001b[A\n",
      "chunk:  50%|▍| 219/442 [00:00<00:00, 548.52it/s, now=\u001b[A\n",
      "chunk:  72%|▋| 318/442 [00:00<00:00, 701.40it/s, now=\u001b[A\n",
      "chunk:  92%|▉| 408/442 [00:00<00:00, 762.08it/s, now=\u001b[A\n",
      "chunk:   7%| | 26/354 [01:07<00:11, 27.78it/s, now=No\u001b[A"
     ]
    },
    {
     "name": "stdout",
     "output_type": "stream",
     "text": [
      "MoviePy - Done.\n"
     ]
    },
    {
     "name": "stderr",
     "output_type": "stream",
     "text": [
      "chunk:   7%| | 26/354 [01:08<00:11, 27.78it/s, now=No"
     ]
    },
    {
     "name": "stdout",
     "output_type": "stream",
     "text": [
      "MoviePy - Writing audio in C:\\Users\\Welcome\\Dhairya-Python\\sarcasm detection\\audio_context\\1_1001_c.wav\n"
     ]
    },
    {
     "name": "stderr",
     "output_type": "stream",
     "text": [
      "\n",
      "chunk:   0%|       | 0/332 [00:00<?, ?it/s, now=None]\u001b[A\n",
      "chunk:   1%| | 3/332 [00:00<00:14, 23.44it/s, now=Non\u001b[A\n",
      "chunk:  26%|▎| 86/332 [00:00<00:00, 448.81it/s, now=N\u001b[A\n",
      "chunk:  47%|▍| 156/332 [00:00<00:00, 556.73it/s, now=\u001b[A\n",
      "chunk:  71%|▋| 236/332 [00:00<00:00, 644.34it/s, now=\u001b[A\n",
      "chunk:  91%|▉| 303/332 [00:00<00:00, 541.41it/s, now=\u001b[A\n",
      "chunk:   7%| | 26/354 [01:09<00:11, 27.78it/s, now=No\u001b[A"
     ]
    },
    {
     "name": "stdout",
     "output_type": "stream",
     "text": [
      "MoviePy - Done.\n"
     ]
    },
    {
     "name": "stderr",
     "output_type": "stream",
     "text": [
      "chunk:   7%| | 26/354 [01:09<00:11, 27.78it/s, now=No"
     ]
    },
    {
     "name": "stdout",
     "output_type": "stream",
     "text": [
      "MoviePy - Writing audio in C:\\Users\\Welcome\\Dhairya-Python\\sarcasm detection\\audio_context\\1_1003_c.wav\n"
     ]
    },
    {
     "name": "stderr",
     "output_type": "stream",
     "text": [
      "\n",
      "chunk:   0%|       | 0/442 [00:00<?, ?it/s, now=None]\u001b[A\n",
      "chunk:   1%| | 3/442 [00:00<00:20, 21.28it/s, now=Non\u001b[A\n",
      "chunk:  17%|▏| 74/442 [00:00<00:01, 364.20it/s, now=N\u001b[A\n",
      "chunk:  26%|▎| 116/442 [00:00<00:00, 349.60it/s, now=\u001b[A\n",
      "chunk:  35%|▎| 154/442 [00:00<00:00, 341.15it/s, now=\u001b[A\n",
      "chunk:  57%|▌| 250/442 [00:00<00:00, 539.62it/s, now=\u001b[A\n",
      "chunk:  73%|▋| 324/442 [00:00<00:00, 602.57it/s, now=\u001b[A\n",
      "chunk:  95%|▉| 420/442 [00:00<00:00, 713.29it/s, now=\u001b[A\n",
      "chunk:   7%| | 26/354 [01:10<00:11, 27.78it/s, now=No\u001b[A"
     ]
    },
    {
     "name": "stdout",
     "output_type": "stream",
     "text": [
      "MoviePy - Done.\n"
     ]
    },
    {
     "name": "stderr",
     "output_type": "stream",
     "text": [
      "chunk:   7%| | 26/354 [01:11<00:11, 27.78it/s, now=No"
     ]
    },
    {
     "name": "stdout",
     "output_type": "stream",
     "text": [
      "MoviePy - Writing audio in C:\\Users\\Welcome\\Dhairya-Python\\sarcasm detection\\audio_context\\1_10190_c.wav\n"
     ]
    },
    {
     "name": "stderr",
     "output_type": "stream",
     "text": [
      "\n",
      "chunk:   0%|       | 0/530 [00:00<?, ?it/s, now=None]\u001b[A\n",
      "chunk:   1%| | 3/530 [00:00<00:20, 25.86it/s, now=Non\u001b[A\n",
      "chunk:  27%|▎| 144/530 [00:00<00:00, 789.69it/s, now=\u001b[A\n",
      "chunk:  48%|▍| 255/530 [00:00<00:00, 903.00it/s, now=\u001b[A\n",
      "chunk:  71%|▋| 377/530 [00:00<00:00, 1023.19it/s, now\u001b[A\n",
      "chunk:  93%|▉| 492/530 [00:00<00:00, 1067.73it/s, now\u001b[A\n",
      "chunk:   7%| | 26/354 [01:11<00:11, 27.78it/s, now=No\u001b[A"
     ]
    },
    {
     "name": "stdout",
     "output_type": "stream",
     "text": [
      "MoviePy - Done.\n"
     ]
    },
    {
     "name": "stderr",
     "output_type": "stream",
     "text": [
      "chunk:   7%| | 26/354 [01:12<00:11, 27.78it/s, now=No"
     ]
    },
    {
     "name": "stdout",
     "output_type": "stream",
     "text": [
      "MoviePy - Writing audio in C:\\Users\\Welcome\\Dhairya-Python\\sarcasm detection\\audio_context\\1_10462_c.wav\n"
     ]
    },
    {
     "name": "stderr",
     "output_type": "stream",
     "text": [
      "\n",
      "chunk:   0%|       | 0/442 [00:00<?, ?it/s, now=None]\u001b[A\n",
      "chunk:   1%| | 3/442 [00:00<00:15, 28.84it/s, now=Non\u001b[A\n",
      "chunk:  23%|▏| 102/442 [00:00<00:00, 529.84it/s, now=\u001b[A\n",
      "chunk:  50%|▌| 221/442 [00:00<00:00, 812.46it/s, now=\u001b[A\n",
      "chunk:  70%|▋| 309/442 [00:00<00:00, 838.08it/s, now=\u001b[A\n",
      "chunk: 100%|█| 442/442 [00:00<00:00, 1007.45it/s, now\u001b[A\n",
      "chunk:   7%| | 26/354 [01:13<00:11, 27.78it/s, now=No\u001b[A"
     ]
    },
    {
     "name": "stdout",
     "output_type": "stream",
     "text": [
      "MoviePy - Done.\n"
     ]
    },
    {
     "name": "stderr",
     "output_type": "stream",
     "text": [
      "chunk:   7%| | 26/354 [01:13<00:11, 27.78it/s, now=No"
     ]
    },
    {
     "name": "stdout",
     "output_type": "stream",
     "text": [
      "MoviePy - Writing audio in C:\\Users\\Welcome\\Dhairya-Python\\sarcasm detection\\audio_context\\1_10495_c.wav\n"
     ]
    },
    {
     "name": "stderr",
     "output_type": "stream",
     "text": [
      "\n",
      "chunk:   0%|       | 0/442 [00:00<?, ?it/s, now=None]\u001b[A\n",
      "chunk:   1%| | 3/442 [00:00<00:17, 25.42it/s, now=Non\u001b[A\n",
      "chunk:  28%|▎| 124/442 [00:00<00:00, 674.11it/s, now=\u001b[A\n",
      "chunk:  46%|▍| 204/442 [00:00<00:00, 710.63it/s, now=\u001b[A\n",
      "chunk:  66%|▋| 290/442 [00:00<00:00, 767.26it/s, now=\u001b[A\n",
      "chunk:  84%|▊| 370/442 [00:00<00:00, 734.85it/s, now=\u001b[A\n",
      "chunk:   7%| | 26/354 [01:14<00:11, 27.78it/s, now=No\u001b[A"
     ]
    },
    {
     "name": "stdout",
     "output_type": "stream",
     "text": [
      "MoviePy - Done.\n"
     ]
    },
    {
     "name": "stderr",
     "output_type": "stream",
     "text": [
      "chunk:   7%| | 26/354 [01:15<00:11, 27.78it/s, now=No"
     ]
    },
    {
     "name": "stdout",
     "output_type": "stream",
     "text": [
      "MoviePy - Writing audio in C:\\Users\\Welcome\\Dhairya-Python\\sarcasm detection\\audio_context\\1_10496_c.wav\n"
     ]
    },
    {
     "name": "stderr",
     "output_type": "stream",
     "text": [
      "\n",
      "chunk:   0%|       | 0/442 [00:00<?, ?it/s, now=None]\u001b[A\n",
      "chunk:   2%| | 8/442 [00:00<00:05, 80.00it/s, now=Non\u001b[A\n",
      "chunk:  35%|▎| 153/442 [00:00<00:00, 663.40it/s, now=\u001b[A\n",
      "chunk:  58%|▌| 255/442 [00:00<00:00, 798.03it/s, now=\u001b[A\n",
      "chunk:  92%|▉| 408/442 [00:00<00:00, 1021.40it/s, now\u001b[A\n",
      "chunk:   7%| | 26/354 [01:15<00:11, 27.78it/s, now=No\u001b[A"
     ]
    },
    {
     "name": "stdout",
     "output_type": "stream",
     "text": [
      "MoviePy - Done.\n"
     ]
    },
    {
     "name": "stderr",
     "output_type": "stream",
     "text": [
      "chunk:   7%| | 26/354 [01:16<00:11, 27.78it/s, now=No"
     ]
    },
    {
     "name": "stdout",
     "output_type": "stream",
     "text": [
      "MoviePy - Writing audio in C:\\Users\\Welcome\\Dhairya-Python\\sarcasm detection\\audio_context\\1_105_c.wav\n"
     ]
    },
    {
     "name": "stderr",
     "output_type": "stream",
     "text": [
      "\n",
      "chunk:   0%|       | 0/442 [00:00<?, ?it/s, now=None]\u001b[A\n",
      "chunk:   1%| | 3/442 [00:00<00:16, 27.03it/s, now=Non\u001b[A\n",
      "chunk:  35%|▎| 153/442 [00:00<00:00, 750.33it/s, now=\u001b[A\n",
      "chunk:  51%|▌| 226/442 [00:00<00:00, 667.41it/s, now=\u001b[A\n",
      "chunk:  81%|▊| 357/442 [00:00<00:00, 641.18it/s, now=\u001b[A\n",
      "chunk:   7%| | 26/354 [01:16<00:11, 27.78it/s, now=No\u001b[A"
     ]
    },
    {
     "name": "stdout",
     "output_type": "stream",
     "text": [
      "MoviePy - Done.\n"
     ]
    },
    {
     "name": "stderr",
     "output_type": "stream",
     "text": [
      "chunk:   7%| | 26/354 [01:17<00:11, 27.78it/s, now=No"
     ]
    },
    {
     "name": "stdout",
     "output_type": "stream",
     "text": [
      "MoviePy - Writing audio in C:\\Users\\Welcome\\Dhairya-Python\\sarcasm detection\\audio_context\\1_10748_c.wav\n"
     ]
    },
    {
     "name": "stderr",
     "output_type": "stream",
     "text": [
      "\n",
      "chunk:   0%|       | 0/486 [00:00<?, ?it/s, now=None]\u001b[A\n",
      "chunk:   1%| | 3/486 [00:00<00:18, 25.42it/s, now=Non\u001b[A\n",
      "chunk:  29%|▎| 140/486 [00:00<00:00, 761.73it/s, now=\u001b[A\n",
      "chunk:  52%|▌| 255/486 [00:00<00:00, 874.55it/s, now=\u001b[A\n",
      "chunk:  71%|▋| 347/486 [00:00<00:00, 807.60it/s, now=\u001b[A\n",
      "chunk:  88%|▉| 430/486 [00:00<00:00, 616.92it/s, now=\u001b[A\n",
      "chunk:   7%| | 26/354 [01:18<00:11, 27.78it/s, now=No\u001b[A"
     ]
    },
    {
     "name": "stdout",
     "output_type": "stream",
     "text": [
      "MoviePy - Done.\n"
     ]
    },
    {
     "name": "stderr",
     "output_type": "stream",
     "text": [
      "chunk:   7%| | 26/354 [01:18<00:11, 27.78it/s, now=No"
     ]
    },
    {
     "name": "stdout",
     "output_type": "stream",
     "text": [
      "MoviePy - Writing audio in C:\\Users\\Welcome\\Dhairya-Python\\sarcasm detection\\audio_context\\1_10797_c.wav\n"
     ]
    },
    {
     "name": "stderr",
     "output_type": "stream",
     "text": [
      "\n",
      "chunk:   0%|       | 0/464 [00:00<?, ?it/s, now=None]\u001b[A\n",
      "chunk:   1%| | 3/464 [00:00<00:16, 28.57it/s, now=Non\u001b[A\n",
      "chunk:  28%|▎| 129/464 [00:00<00:00, 738.29it/s, now=\u001b[A\n",
      "chunk:  48%|▍| 224/464 [00:00<00:00, 833.87it/s, now=\u001b[A\n",
      "chunk:  77%|▊| 357/464 [00:00<00:00, 978.50it/s, now=\u001b[A\n",
      "chunk:   7%| | 26/354 [01:19<00:11, 27.78it/s, now=No\u001b[A"
     ]
    },
    {
     "name": "stdout",
     "output_type": "stream",
     "text": [
      "MoviePy - Done.\n"
     ]
    },
    {
     "name": "stderr",
     "output_type": "stream",
     "text": [
      "chunk:   7%| | 26/354 [01:19<00:11, 27.78it/s, now=No"
     ]
    },
    {
     "name": "stdout",
     "output_type": "stream",
     "text": [
      "MoviePy - Writing audio in C:\\Users\\Welcome\\Dhairya-Python\\sarcasm detection\\audio_context\\1_10810_c.wav\n"
     ]
    },
    {
     "name": "stderr",
     "output_type": "stream",
     "text": [
      "\n",
      "chunk:   0%|       | 0/508 [00:00<?, ?it/s, now=None]\u001b[A\n",
      "chunk:   8%| | 42/508 [00:00<00:01, 419.98it/s, now=N\u001b[A\n",
      "chunk:  30%|▎| 153/508 [00:00<00:00, 784.31it/s, now=\u001b[A\n",
      "chunk:  50%|▌| 255/508 [00:00<00:00, 784.44it/s, now=\u001b[A\n",
      "chunk:  70%|▋| 354/508 [00:00<00:00, 858.18it/s, now=\u001b[A\n",
      "chunk:  92%|▉| 466/508 [00:00<00:00, 901.09it/s, now=\u001b[A\n",
      "chunk:   7%| | 26/354 [01:20<00:11, 27.78it/s, now=No\u001b[A"
     ]
    },
    {
     "name": "stdout",
     "output_type": "stream",
     "text": [
      "MoviePy - Done.\n"
     ]
    },
    {
     "name": "stderr",
     "output_type": "stream",
     "text": [
      "chunk:   7%| | 26/354 [01:21<00:11, 27.78it/s, now=No"
     ]
    },
    {
     "name": "stdout",
     "output_type": "stream",
     "text": [
      "MoviePy - Writing audio in C:\\Users\\Welcome\\Dhairya-Python\\sarcasm detection\\audio_context\\1_10829_c.wav\n"
     ]
    },
    {
     "name": "stderr",
     "output_type": "stream",
     "text": [
      "\n",
      "chunk:   0%|       | 0/442 [00:00<?, ?it/s, now=None]\u001b[A\n",
      "chunk:   1%| | 3/442 [00:00<00:36, 12.19it/s, now=Non\u001b[A\n",
      "chunk:  19%|▏| 85/442 [00:00<00:01, 308.95it/s, now=N\u001b[A\n",
      "chunk:  34%|▎| 149/442 [00:00<00:00, 422.88it/s, now=\u001b[A\n",
      "chunk:  47%|▍| 206/442 [00:00<00:00, 453.43it/s, now=\u001b[A\n",
      "chunk:  67%|▋| 294/442 [00:00<00:00, 515.66it/s, now=\u001b[A\n",
      "chunk:  83%|▊| 365/442 [00:00<00:00, 570.34it/s, now=\u001b[A\n",
      "chunk:   7%| | 26/354 [01:22<00:11, 27.78it/s, now=No\u001b[A"
     ]
    },
    {
     "name": "stdout",
     "output_type": "stream",
     "text": [
      "MoviePy - Done.\n"
     ]
    },
    {
     "name": "stderr",
     "output_type": "stream",
     "text": [
      "chunk:   7%| | 26/354 [01:23<00:11, 27.78it/s, now=No"
     ]
    },
    {
     "name": "stdout",
     "output_type": "stream",
     "text": [
      "MoviePy - Writing audio in C:\\Users\\Welcome\\Dhairya-Python\\sarcasm detection\\audio_context\\1_10849_c.wav\n"
     ]
    },
    {
     "name": "stderr",
     "output_type": "stream",
     "text": [
      "\n",
      "chunk:   0%|       | 0/486 [00:00<?, ?it/s, now=None]\u001b[A\n",
      "chunk:   6%| | 29/486 [00:00<00:01, 287.11it/s, now=N\u001b[A\n",
      "chunk:  31%|▎| 153/486 [00:00<00:00, 807.45it/s, now=\u001b[A\n",
      "chunk:  54%|▌| 261/486 [00:00<00:00, 928.51it/s, now=\u001b[A\n",
      "chunk:  73%|▋| 354/486 [00:00<00:00, 840.91it/s, now=\u001b[A\n",
      "chunk:  91%|▉| 440/486 [00:00<00:00, 688.50it/s, now=\u001b[A\n",
      "chunk:   7%| | 26/354 [01:24<00:11, 27.78it/s, now=No\u001b[A"
     ]
    },
    {
     "name": "stdout",
     "output_type": "stream",
     "text": [
      "MoviePy - Done.\n"
     ]
    },
    {
     "name": "stderr",
     "output_type": "stream",
     "text": [
      "chunk:   7%| | 26/354 [01:25<00:11, 27.78it/s, now=No"
     ]
    },
    {
     "name": "stdout",
     "output_type": "stream",
     "text": [
      "MoviePy - Writing audio in C:\\Users\\Welcome\\Dhairya-Python\\sarcasm detection\\audio_context\\1_10853_c.wav\n"
     ]
    },
    {
     "name": "stderr",
     "output_type": "stream",
     "text": [
      "\n",
      "chunk:   0%|       | 0/464 [00:00<?, ?it/s, now=None]\u001b[A\n",
      "chunk:   1%| | 3/464 [00:00<00:23, 19.87it/s, now=Non\u001b[A\n",
      "chunk:  22%|▏| 102/464 [00:00<00:00, 484.40it/s, now=\u001b[A\n",
      "chunk:  40%|▍| 186/464 [00:00<00:00, 628.88it/s, now=\u001b[A\n",
      "chunk:  55%|▌| 257/464 [00:00<00:00, 603.27it/s, now=\u001b[A\n",
      "chunk:  70%|▋| 323/464 [00:00<00:00, 600.24it/s, now=\u001b[A\n",
      "chunk:  88%|▉| 408/464 [00:00<00:00, 649.35it/s, now=\u001b[A\n",
      "chunk:   7%| | 26/354 [01:26<00:11, 27.78it/s, now=No\u001b[A"
     ]
    },
    {
     "name": "stdout",
     "output_type": "stream",
     "text": [
      "MoviePy - Done.\n"
     ]
    },
    {
     "name": "stderr",
     "output_type": "stream",
     "text": [
      "chunk:   7%| | 26/354 [01:27<00:11, 27.78it/s, now=No"
     ]
    },
    {
     "name": "stdout",
     "output_type": "stream",
     "text": [
      "MoviePy - Writing audio in C:\\Users\\Welcome\\Dhairya-Python\\sarcasm detection\\audio_context\\1_10857_c.wav\n"
     ]
    },
    {
     "name": "stderr",
     "output_type": "stream",
     "text": [
      "\n",
      "chunk:   0%|       | 0/442 [00:00<?, ?it/s, now=None]\u001b[A\n",
      "chunk:   1%| | 3/442 [00:00<00:24, 17.86it/s, now=Non\u001b[A\n",
      "chunk:  23%|▏| 102/442 [00:00<00:00, 450.11it/s, now=\u001b[A\n",
      "chunk:  46%|▍| 204/442 [00:00<00:00, 646.51it/s, now=\u001b[A\n",
      "chunk:  63%|▋| 277/442 [00:00<00:00, 600.30it/s, now=\u001b[A\n",
      "chunk:  81%|▊| 357/442 [00:00<00:00, 636.16it/s, now=\u001b[A\n",
      "chunk:  96%|▉| 425/442 [00:00<00:00, 571.26it/s, now=\u001b[A\n",
      "chunk:   7%| | 26/354 [01:28<00:11, 27.78it/s, now=No\u001b[A"
     ]
    },
    {
     "name": "stdout",
     "output_type": "stream",
     "text": [
      "MoviePy - Done.\n"
     ]
    },
    {
     "name": "stderr",
     "output_type": "stream",
     "text": [
      "chunk:   7%| | 26/354 [01:29<00:11, 27.78it/s, now=No"
     ]
    },
    {
     "name": "stdout",
     "output_type": "stream",
     "text": [
      "MoviePy - Writing audio in C:\\Users\\Welcome\\Dhairya-Python\\sarcasm detection\\audio_context\\1_10859_c.wav\n"
     ]
    },
    {
     "name": "stderr",
     "output_type": "stream",
     "text": [
      "\n",
      "chunk:   0%|       | 0/508 [00:00<?, ?it/s, now=None]\u001b[A\n",
      "chunk:   1%| | 3/508 [00:00<00:32, 15.54it/s, now=Non\u001b[A\n",
      "chunk:  20%|▏| 102/508 [00:00<00:01, 355.84it/s, now=\u001b[A\n",
      "chunk:  30%|▎| 153/508 [00:00<00:00, 374.81it/s, now=\u001b[A\n",
      "chunk:  50%|▌| 255/508 [00:00<00:00, 553.26it/s, now=\u001b[A\n",
      "chunk:  70%|▋| 357/508 [00:00<00:00, 658.56it/s, now=\u001b[A\n",
      "chunk:  84%|▊| 428/508 [00:00<00:00, 563.20it/s, now=\u001b[A\n",
      "chunk:  96%|▉| 489/508 [00:00<00:00, 575.16it/s, now=\u001b[A\n",
      "chunk:   7%| | 26/354 [01:30<00:11, 27.78it/s, now=No\u001b[A"
     ]
    },
    {
     "name": "stdout",
     "output_type": "stream",
     "text": [
      "MoviePy - Done.\n"
     ]
    },
    {
     "name": "stderr",
     "output_type": "stream",
     "text": [
      "chunk:   7%| | 26/354 [01:32<00:11, 27.78it/s, now=No"
     ]
    },
    {
     "name": "stdout",
     "output_type": "stream",
     "text": [
      "MoviePy - Writing audio in C:\\Users\\Welcome\\Dhairya-Python\\sarcasm detection\\audio_context\\1_10890_c.wav\n"
     ]
    },
    {
     "name": "stderr",
     "output_type": "stream",
     "text": [
      "\n",
      "chunk:   0%|       | 0/442 [00:00<?, ?it/s, now=None]\u001b[A\n",
      "chunk:   1%| | 3/442 [00:00<00:27, 15.96it/s, now=Non\u001b[A\n",
      "chunk:  14%|▏| 61/442 [00:00<00:01, 259.48it/s, now=N\u001b[A\n",
      "chunk:  40%|▍| 177/442 [00:00<00:00, 603.01it/s, now=\u001b[A\n",
      "chunk:  56%|▌| 249/442 [00:00<00:00, 644.26it/s, now=\u001b[A\n",
      "chunk:  73%|▋| 322/442 [00:00<00:00, 626.77it/s, now=\u001b[A\n",
      "chunk:  92%|▉| 408/442 [00:00<00:00, 671.75it/s, now=\u001b[A\n",
      "chunk:   7%| | 26/354 [01:33<00:11, 27.78it/s, now=No\u001b[A"
     ]
    },
    {
     "name": "stdout",
     "output_type": "stream",
     "text": [
      "MoviePy - Done.\n"
     ]
    },
    {
     "name": "stderr",
     "output_type": "stream",
     "text": [
      "chunk:   7%| | 26/354 [01:34<00:11, 27.78it/s, now=No"
     ]
    },
    {
     "name": "stdout",
     "output_type": "stream",
     "text": [
      "MoviePy - Writing audio in C:\\Users\\Welcome\\Dhairya-Python\\sarcasm detection\\audio_context\\1_10977_c.wav\n"
     ]
    },
    {
     "name": "stderr",
     "output_type": "stream",
     "text": [
      "\n",
      "chunk:   0%|       | 0/530 [00:00<?, ?it/s, now=None]\u001b[A\n",
      "chunk:   1%| | 3/530 [00:00<00:27, 19.48it/s, now=Non\u001b[A\n",
      "chunk:   6%| | 30/530 [00:00<00:03, 140.03it/s, now=N\u001b[A\n",
      "chunk:  26%|▎| 137/530 [00:00<00:00, 514.68it/s, now=\u001b[A\n",
      "chunk:  38%|▍| 204/530 [00:00<00:00, 547.47it/s, now=\u001b[A\n",
      "chunk:  58%|▌| 306/530 [00:00<00:00, 673.67it/s, now=\u001b[A\n",
      "chunk:  77%|▊| 408/530 [00:00<00:00, 758.30it/s, now=\u001b[A\n",
      "chunk: 100%|▉| 528/530 [00:00<00:00, 891.85it/s, now=\u001b[A\n",
      "chunk:   7%| | 26/354 [01:35<00:11, 27.78it/s, now=No\u001b[A"
     ]
    },
    {
     "name": "stdout",
     "output_type": "stream",
     "text": [
      "MoviePy - Done.\n"
     ]
    },
    {
     "name": "stderr",
     "output_type": "stream",
     "text": [
      "chunk:   7%| | 26/354 [01:37<00:11, 27.78it/s, now=No"
     ]
    },
    {
     "name": "stdout",
     "output_type": "stream",
     "text": [
      "MoviePy - Writing audio in C:\\Users\\Welcome\\Dhairya-Python\\sarcasm detection\\audio_context\\1_11006_c.wav\n"
     ]
    },
    {
     "name": "stderr",
     "output_type": "stream",
     "text": [
      "\n",
      "chunk:   0%|       | 0/442 [00:00<?, ?it/s, now=None]\u001b[A\n",
      "chunk:   1%| | 3/442 [00:00<00:46,  9.49it/s, now=Non\u001b[A\n",
      "chunk:  27%|▎| 120/442 [00:00<00:00, 370.78it/s, now=\u001b[A\n",
      "chunk:  46%|▍| 204/442 [00:00<00:00, 510.49it/s, now=\u001b[A\n",
      "chunk:  69%|▋| 306/442 [00:00<00:00, 643.62it/s, now=\u001b[A\n",
      "chunk:  92%|▉| 408/442 [00:00<00:00, 750.41it/s, now=\u001b[A\n",
      "chunk:   7%| | 26/354 [01:38<00:11, 27.78it/s, now=No\u001b[A"
     ]
    },
    {
     "name": "stdout",
     "output_type": "stream",
     "text": [
      "MoviePy - Done.\n"
     ]
    },
    {
     "name": "stderr",
     "output_type": "stream",
     "text": [
      "chunk:   7%| | 26/354 [01:39<00:11, 27.78it/s, now=No"
     ]
    },
    {
     "name": "stdout",
     "output_type": "stream",
     "text": [
      "MoviePy - Writing audio in C:\\Users\\Welcome\\Dhairya-Python\\sarcasm detection\\audio_context\\1_11021_c.wav\n"
     ]
    },
    {
     "name": "stderr",
     "output_type": "stream",
     "text": [
      "\n",
      "chunk:   0%|       | 0/221 [00:00<?, ?it/s, now=None]\u001b[A\n",
      "chunk:   1%| | 3/221 [00:00<00:14, 15.54it/s, now=Non\u001b[A\n",
      "chunk:  46%|▍| 102/221 [00:00<00:00, 402.61it/s, now=\u001b[A\n",
      "chunk:  69%|▋| 153/221 [00:00<00:00, 342.25it/s, now=\u001b[A\n",
      "chunk:  92%|▉| 204/221 [00:00<00:00, 368.15it/s, now=\u001b[A\n",
      "chunk:   7%| | 26/354 [01:40<00:11, 27.78it/s, now=No\u001b[A"
     ]
    },
    {
     "name": "stdout",
     "output_type": "stream",
     "text": [
      "MoviePy - Done.\n"
     ]
    },
    {
     "name": "stderr",
     "output_type": "stream",
     "text": [
      "chunk:   7%| | 26/354 [01:41<00:11, 27.78it/s, now=No"
     ]
    },
    {
     "name": "stdout",
     "output_type": "stream",
     "text": [
      "MoviePy - Writing audio in C:\\Users\\Welcome\\Dhairya-Python\\sarcasm detection\\audio_context\\1_11042_c.wav\n"
     ]
    },
    {
     "name": "stderr",
     "output_type": "stream",
     "text": [
      "\n",
      "chunk:   0%|       | 0/442 [00:00<?, ?it/s, now=None]\u001b[A\n",
      "chunk:   1%| | 3/442 [00:00<00:19, 22.06it/s, now=Non\u001b[A\n",
      "chunk:  18%|▏| 81/442 [00:00<00:00, 410.33it/s, now=N\u001b[A\n",
      "chunk:  35%|▎| 153/442 [00:00<00:00, 536.64it/s, now=\u001b[A\n",
      "chunk:  58%|▌| 255/442 [00:00<00:00, 689.23it/s, now=\u001b[A\n",
      "chunk:  78%|▊| 344/442 [00:00<00:00, 754.79it/s, now=\u001b[A\n",
      "chunk:  96%|▉| 423/442 [00:00<00:00, 761.29it/s, now=\u001b[A\n",
      "chunk:   7%| | 26/354 [01:41<00:11, 27.78it/s, now=No\u001b[A"
     ]
    },
    {
     "name": "stdout",
     "output_type": "stream",
     "text": [
      "MoviePy - Done.\n"
     ]
    },
    {
     "name": "stderr",
     "output_type": "stream",
     "text": [
      "chunk:   7%| | 26/354 [01:42<00:11, 27.78it/s, now=No"
     ]
    },
    {
     "name": "stdout",
     "output_type": "stream",
     "text": [
      "MoviePy - Writing audio in C:\\Users\\Welcome\\Dhairya-Python\\sarcasm detection\\audio_context\\1_11046_c.wav\n"
     ]
    },
    {
     "name": "stderr",
     "output_type": "stream",
     "text": [
      "\n",
      "chunk:   0%|       | 0/486 [00:00<?, ?it/s, now=None]\u001b[A\n",
      "chunk:   1%| | 3/486 [00:00<00:16, 29.70it/s, now=Non\u001b[A\n",
      "chunk:  21%|▏| 102/486 [00:00<00:00, 572.12it/s, now=\u001b[A\n",
      "chunk:  43%|▍| 208/486 [00:00<00:00, 790.20it/s, now=\u001b[A\n",
      "chunk:  63%|▋| 306/486 [00:00<00:00, 854.16it/s, now=\u001b[A\n",
      "chunk:  84%|▊| 408/486 [00:00<00:00, 809.56it/s, now=\u001b[A\n",
      "chunk:   7%| | 26/354 [01:43<00:11, 27.78it/s, now=No\u001b[A"
     ]
    },
    {
     "name": "stdout",
     "output_type": "stream",
     "text": [
      "MoviePy - Done.\n"
     ]
    },
    {
     "name": "stderr",
     "output_type": "stream",
     "text": [
      "chunk:   7%| | 26/354 [01:43<00:11, 27.78it/s, now=No"
     ]
    },
    {
     "name": "stdout",
     "output_type": "stream",
     "text": [
      "MoviePy - Writing audio in C:\\Users\\Welcome\\Dhairya-Python\\sarcasm detection\\audio_context\\1_11051_c.wav\n"
     ]
    },
    {
     "name": "stderr",
     "output_type": "stream",
     "text": [
      "\n",
      "chunk:   0%|       | 0/442 [00:00<?, ?it/s, now=None]\u001b[A\n",
      "chunk:   6%| | 28/442 [00:00<00:01, 279.98it/s, now=N\u001b[A\n",
      "chunk:  35%|▎| 153/442 [00:00<00:00, 777.38it/s, now=\u001b[A\n",
      "chunk:  61%|▌| 270/442 [00:00<00:00, 947.90it/s, now=\u001b[A\n",
      "chunk:  88%|▉| 387/442 [00:00<00:00, 1032.93it/s, now\u001b[A\n",
      "chunk:   7%| | 26/354 [01:44<00:11, 27.78it/s, now=No\u001b[A"
     ]
    },
    {
     "name": "stdout",
     "output_type": "stream",
     "text": [
      "MoviePy - Done.\n"
     ]
    },
    {
     "name": "stderr",
     "output_type": "stream",
     "text": [
      "chunk:   7%| | 26/354 [01:44<00:11, 27.78it/s, now=No"
     ]
    },
    {
     "name": "stdout",
     "output_type": "stream",
     "text": [
      "MoviePy - Writing audio in C:\\Users\\Welcome\\Dhairya-Python\\sarcasm detection\\audio_context\\1_11055_c.wav\n"
     ]
    },
    {
     "name": "stderr",
     "output_type": "stream",
     "text": [
      "\n",
      "chunk:   0%|       | 0/442 [00:00<?, ?it/s, now=None]\u001b[A\n",
      "chunk:  13%|▏| 56/442 [00:00<00:00, 559.97it/s, now=N\u001b[A\n",
      "chunk:  35%|▎| 153/442 [00:00<00:00, 756.62it/s, now=\u001b[A\n",
      "chunk:  63%|▋| 278/442 [00:00<00:00, 974.90it/s, now=\u001b[A\n",
      "chunk:  92%|▉| 408/442 [00:00<00:00, 1059.74it/s, now\u001b[A\n",
      "chunk:   7%| | 26/354 [01:45<00:11, 27.78it/s, now=No\u001b[A"
     ]
    },
    {
     "name": "stdout",
     "output_type": "stream",
     "text": [
      "MoviePy - Done.\n"
     ]
    },
    {
     "name": "stderr",
     "output_type": "stream",
     "text": [
      "chunk:   7%| | 26/354 [01:45<00:11, 27.78it/s, now=No"
     ]
    },
    {
     "name": "stdout",
     "output_type": "stream",
     "text": [
      "MoviePy - Writing audio in C:\\Users\\Welcome\\Dhairya-Python\\sarcasm detection\\audio_context\\1_11098_c.wav\n"
     ]
    },
    {
     "name": "stderr",
     "output_type": "stream",
     "text": [
      "\n",
      "chunk:   0%|       | 0/442 [00:00<?, ?it/s, now=None]\u001b[A\n",
      "chunk:   8%| | 37/442 [00:00<00:01, 369.98it/s, now=N\u001b[A\n",
      "chunk:  38%|▍| 166/442 [00:00<00:00, 911.12it/s, now=\u001b[A\n",
      "chunk:  65%|▋| 286/442 [00:00<00:00, 1043.00it/s, now\u001b[A\n",
      "chunk:  92%|▉| 408/442 [00:00<00:00, 1078.78it/s, now\u001b[A\n",
      "chunk:   7%| | 26/354 [01:46<00:11, 27.78it/s, now=No\u001b[A"
     ]
    },
    {
     "name": "stdout",
     "output_type": "stream",
     "text": [
      "MoviePy - Done.\n"
     ]
    },
    {
     "name": "stderr",
     "output_type": "stream",
     "text": [
      "chunk:   7%| | 26/354 [01:46<00:11, 27.78it/s, now=No"
     ]
    },
    {
     "name": "stdout",
     "output_type": "stream",
     "text": [
      "MoviePy - Writing audio in C:\\Users\\Welcome\\Dhairya-Python\\sarcasm detection\\audio_context\\1_11120_c.wav\n"
     ]
    },
    {
     "name": "stderr",
     "output_type": "stream",
     "text": [
      "\n",
      "chunk:   0%|       | 0/486 [00:00<?, ?it/s, now=None]\u001b[A\n",
      "chunk:   6%| | 29/486 [00:00<00:01, 268.50it/s, now=N\u001b[A\n",
      "chunk:  35%|▎| 170/486 [00:00<00:00, 918.51it/s, now=\u001b[A\n",
      "chunk:  59%|▌| 288/486 [00:00<00:00, 1035.78it/s, now\u001b[A\n",
      "chunk:  84%|▊| 408/486 [00:00<00:00, 1039.02it/s, now\u001b[A\n",
      "chunk:   7%| | 26/354 [01:47<00:11, 27.78it/s, now=No\u001b[A"
     ]
    },
    {
     "name": "stdout",
     "output_type": "stream",
     "text": [
      "MoviePy - Done.\n"
     ]
    },
    {
     "name": "stderr",
     "output_type": "stream",
     "text": [
      "chunk:   7%| | 26/354 [01:47<00:11, 27.78it/s, now=No"
     ]
    },
    {
     "name": "stdout",
     "output_type": "stream",
     "text": [
      "MoviePy - Writing audio in C:\\Users\\Welcome\\Dhairya-Python\\sarcasm detection\\audio_context\\1_11177_c.wav\n"
     ]
    },
    {
     "name": "stderr",
     "output_type": "stream",
     "text": [
      "\n",
      "chunk:   0%|       | 0/508 [00:00<?, ?it/s, now=None]\u001b[A\n",
      "chunk:   9%| | 44/508 [00:00<00:01, 439.97it/s, now=N\u001b[A\n",
      "chunk:  20%|▏| 102/508 [00:00<00:01, 401.79it/s, now=\u001b[A\n",
      "chunk:  47%|▍| 240/508 [00:00<00:00, 785.82it/s, now=\u001b[A\n",
      "chunk:  70%|▋| 357/508 [00:00<00:00, 907.54it/s, now=\u001b[A\n",
      "chunk:  91%|▉| 464/508 [00:00<00:00, 961.98it/s, now=\u001b[A\n",
      "chunk:   7%| | 26/354 [01:48<00:11, 27.78it/s, now=No\u001b[A"
     ]
    },
    {
     "name": "stdout",
     "output_type": "stream",
     "text": [
      "MoviePy - Done.\n"
     ]
    },
    {
     "name": "stderr",
     "output_type": "stream",
     "text": [
      "chunk:   7%| | 26/354 [01:50<00:11, 27.78it/s, now=No"
     ]
    },
    {
     "name": "stdout",
     "output_type": "stream",
     "text": [
      "MoviePy - Writing audio in C:\\Users\\Welcome\\Dhairya-Python\\sarcasm detection\\audio_context\\1_11201_c.wav\n"
     ]
    },
    {
     "name": "stderr",
     "output_type": "stream",
     "text": [
      "\n",
      "chunk:   0%|       | 0/442 [00:00<?, ?it/s, now=None]\u001b[A\n",
      "chunk:   1%| | 3/442 [00:00<00:18, 23.62it/s, now=Non\u001b[A\n",
      "chunk:  15%|▏| 66/442 [00:00<00:01, 341.00it/s, now=N\u001b[A\n",
      "chunk:  24%|▏| 105/442 [00:00<00:00, 354.38it/s, now=\u001b[A\n",
      "chunk:  35%|▎| 153/442 [00:00<00:00, 378.72it/s, now=\u001b[A\n",
      "chunk:  46%|▍| 204/442 [00:00<00:00, 410.36it/s, now=\u001b[A\n",
      "chunk:  61%|▌| 268/442 [00:00<00:00, 483.25it/s, now=\u001b[A\n",
      "chunk:  72%|▋| 320/442 [00:00<00:00, 465.65it/s, now=\u001b[A\n",
      "chunk:   7%| | 26/354 [01:50<00:11, 27.78it/s, now=No\u001b[A"
     ]
    },
    {
     "name": "stdout",
     "output_type": "stream",
     "text": [
      "MoviePy - Done.\n"
     ]
    },
    {
     "name": "stderr",
     "output_type": "stream",
     "text": [
      "chunk:   7%| | 26/354 [01:51<00:11, 27.78it/s, now=No"
     ]
    },
    {
     "name": "stdout",
     "output_type": "stream",
     "text": [
      "MoviePy - Writing audio in C:\\Users\\Welcome\\Dhairya-Python\\sarcasm detection\\audio_context\\1_11224_c.wav\n"
     ]
    },
    {
     "name": "stderr",
     "output_type": "stream",
     "text": [
      "\n",
      "chunk:   0%|       | 0/464 [00:00<?, ?it/s, now=None]\u001b[A\n",
      "chunk:   1%| | 3/464 [00:00<00:19, 23.62it/s, now=Non\u001b[A\n",
      "chunk:  19%|▏| 90/464 [00:00<00:00, 471.65it/s, now=N\u001b[A\n",
      "chunk:  31%|▎| 143/464 [00:00<00:00, 397.49it/s, now=\u001b[A\n",
      "chunk:  44%|▍| 204/464 [00:00<00:00, 442.75it/s, now=\u001b[A\n",
      "chunk:  55%|▌| 255/464 [00:00<00:00, 460.65it/s, now=\u001b[A\n",
      "chunk:  77%|▊| 357/464 [00:00<00:00, 574.97it/s, now=\u001b[A\n",
      "chunk:   7%| | 26/354 [01:52<00:11, 27.78it/s, now=No\u001b[A"
     ]
    },
    {
     "name": "stdout",
     "output_type": "stream",
     "text": [
      "MoviePy - Done.\n"
     ]
    },
    {
     "name": "stderr",
     "output_type": "stream",
     "text": [
      "chunk:   7%| | 26/354 [01:53<00:11, 27.78it/s, now=No"
     ]
    },
    {
     "name": "stdout",
     "output_type": "stream",
     "text": [
      "MoviePy - Writing audio in C:\\Users\\Welcome\\Dhairya-Python\\sarcasm detection\\audio_context\\1_11232_c.wav\n"
     ]
    },
    {
     "name": "stderr",
     "output_type": "stream",
     "text": [
      "\n",
      "chunk:   0%|       | 0/464 [00:00<?, ?it/s, now=None]\u001b[A\n",
      "chunk:   8%| | 36/464 [00:00<00:01, 359.98it/s, now=N\u001b[A\n",
      "chunk:  33%|▎| 154/464 [00:00<00:00, 837.38it/s, now=\u001b[A\n",
      "chunk:  57%|▌| 266/464 [00:00<00:00, 965.99it/s, now=\u001b[A\n",
      "chunk:  86%|▊| 397/464 [00:00<00:00, 1101.51it/s, now\u001b[A\n",
      "chunk:   7%| | 26/354 [01:53<00:11, 27.78it/s, now=No\u001b[A"
     ]
    },
    {
     "name": "stdout",
     "output_type": "stream",
     "text": [
      "MoviePy - Done.\n"
     ]
    },
    {
     "name": "stderr",
     "output_type": "stream",
     "text": [
      "chunk:   7%| | 26/354 [01:54<00:11, 27.78it/s, now=No"
     ]
    },
    {
     "name": "stdout",
     "output_type": "stream",
     "text": [
      "MoviePy - Writing audio in C:\\Users\\Welcome\\Dhairya-Python\\sarcasm detection\\audio_context\\1_11236_c.wav\n"
     ]
    },
    {
     "name": "stderr",
     "output_type": "stream",
     "text": [
      "\n",
      "chunk:   0%|       | 0/464 [00:00<?, ?it/s, now=None]\u001b[A\n",
      "chunk:  14%|▏| 63/464 [00:00<00:00, 629.96it/s, now=N\u001b[A\n",
      "chunk:  27%|▎| 127/464 [00:00<00:01, 306.21it/s, now=\u001b[A\n",
      "chunk:  48%|▍| 225/464 [00:00<00:00, 498.88it/s, now=\u001b[A\n",
      "chunk:  66%|▋| 306/464 [00:00<00:00, 544.99it/s, now=\u001b[A\n",
      "chunk:  99%|▉| 459/464 [00:00<00:00, 818.45it/s, now=\u001b[A\n",
      "chunk:   7%| | 26/354 [01:55<00:11, 27.78it/s, now=No\u001b[A"
     ]
    },
    {
     "name": "stdout",
     "output_type": "stream",
     "text": [
      "MoviePy - Done.\n"
     ]
    },
    {
     "name": "stderr",
     "output_type": "stream",
     "text": [
      "chunk:   7%| | 26/354 [01:55<00:11, 27.78it/s, now=No"
     ]
    },
    {
     "name": "stdout",
     "output_type": "stream",
     "text": [
      "MoviePy - Writing audio in C:\\Users\\Welcome\\Dhairya-Python\\sarcasm detection\\audio_context\\1_11242_c.wav\n"
     ]
    },
    {
     "name": "stderr",
     "output_type": "stream",
     "text": [
      "\n",
      "chunk:   0%|       | 0/508 [00:00<?, ?it/s, now=None]\u001b[A\n",
      "chunk:   9%| | 44/508 [00:00<00:01, 439.98it/s, now=N\u001b[A\n",
      "chunk:  40%|▍| 203/508 [00:00<00:00, 1116.41it/s, now\u001b[A\n",
      "chunk:  62%|▌| 315/508 [00:00<00:00, 1073.89it/s, now\u001b[A\n",
      "chunk:  84%|▊| 425/508 [00:00<00:00, 955.15it/s, now=\u001b[A\n",
      "chunk:   7%| | 26/354 [01:56<00:11, 27.78it/s, now=No\u001b[A"
     ]
    },
    {
     "name": "stdout",
     "output_type": "stream",
     "text": [
      "MoviePy - Done.\n"
     ]
    },
    {
     "name": "stderr",
     "output_type": "stream",
     "text": [
      "chunk:   7%| | 26/354 [01:57<00:11, 27.78it/s, now=No"
     ]
    },
    {
     "name": "stdout",
     "output_type": "stream",
     "text": [
      "MoviePy - Writing audio in C:\\Users\\Welcome\\Dhairya-Python\\sarcasm detection\\audio_context\\1_11243_c.wav\n"
     ]
    },
    {
     "name": "stderr",
     "output_type": "stream",
     "text": [
      "\n",
      "chunk:   0%|       | 0/464 [00:00<?, ?it/s, now=None]\u001b[A\n",
      "chunk:  11%| | 52/464 [00:00<00:00, 519.97it/s, now=N\u001b[A\n",
      "chunk:  44%|▍| 204/464 [00:00<00:00, 1058.37it/s, now\u001b[A\n",
      "chunk:  77%|▊| 357/464 [00:00<00:00, 1214.25it/s, now\u001b[A\n",
      "chunk:   7%| | 26/354 [01:57<00:11, 27.78it/s, now=No\u001b[A"
     ]
    },
    {
     "name": "stdout",
     "output_type": "stream",
     "text": [
      "MoviePy - Done.\n"
     ]
    },
    {
     "name": "stderr",
     "output_type": "stream",
     "text": [
      "chunk:   7%| | 26/354 [01:58<00:11, 27.78it/s, now=No"
     ]
    },
    {
     "name": "stdout",
     "output_type": "stream",
     "text": [
      "MoviePy - Writing audio in C:\\Users\\Welcome\\Dhairya-Python\\sarcasm detection\\audio_context\\1_11253_c.wav\n"
     ]
    },
    {
     "name": "stderr",
     "output_type": "stream",
     "text": [
      "\n",
      "chunk:   0%|       | 0/464 [00:00<?, ?it/s, now=None]\u001b[A\n",
      "chunk:   6%| | 29/464 [00:00<00:01, 289.98it/s, now=N\u001b[A\n",
      "chunk:  31%|▎| 143/464 [00:00<00:00, 789.96it/s, now=\u001b[A\n",
      "chunk:  48%|▍| 223/464 [00:00<00:00, 794.52it/s, now=\u001b[A\n",
      "chunk:  75%|▊| 348/464 [00:00<00:00, 974.31it/s, now=\u001b[A\n",
      "chunk:   7%| | 26/354 [01:58<00:11, 27.78it/s, now=No\u001b[A"
     ]
    },
    {
     "name": "stdout",
     "output_type": "stream",
     "text": [
      "MoviePy - Done.\n"
     ]
    },
    {
     "name": "stderr",
     "output_type": "stream",
     "text": [
      "chunk:   7%| | 26/354 [01:59<00:11, 27.78it/s, now=No"
     ]
    },
    {
     "name": "stdout",
     "output_type": "stream",
     "text": [
      "MoviePy - Writing audio in C:\\Users\\Welcome\\Dhairya-Python\\sarcasm detection\\audio_context\\1_11257_c.wav\n"
     ]
    },
    {
     "name": "stderr",
     "output_type": "stream",
     "text": [
      "\n",
      "chunk:   0%|       | 0/442 [00:00<?, ?it/s, now=None]\u001b[A\n",
      "chunk:   8%| | 34/442 [00:00<00:01, 339.98it/s, now=N\u001b[A\n",
      "chunk:  23%|▏| 102/442 [00:00<00:01, 301.96it/s, now=\u001b[A\n",
      "chunk:  35%|▎| 153/442 [00:00<00:01, 235.31it/s, now=\u001b[A\n",
      "chunk:  58%|▌| 255/442 [00:00<00:00, 408.79it/s, now=\u001b[A\n",
      "chunk:  81%|▊| 357/442 [00:00<00:00, 539.84it/s, now=\u001b[A\n",
      "chunk:   7%| | 26/354 [02:00<00:11, 27.78it/s, now=No\u001b[A"
     ]
    },
    {
     "name": "stdout",
     "output_type": "stream",
     "text": [
      "MoviePy - Done.\n"
     ]
    },
    {
     "name": "stderr",
     "output_type": "stream",
     "text": [
      "chunk:   7%| | 26/354 [02:00<00:11, 27.78it/s, now=No"
     ]
    },
    {
     "name": "stdout",
     "output_type": "stream",
     "text": [
      "MoviePy - Writing audio in C:\\Users\\Welcome\\Dhairya-Python\\sarcasm detection\\audio_context\\1_11306_c.wav\n"
     ]
    },
    {
     "name": "stderr",
     "output_type": "stream",
     "text": [
      "\n",
      "chunk:   0%|       | 0/376 [00:00<?, ?it/s, now=None]\u001b[A\n",
      "chunk:  19%|▏| 73/376 [00:00<00:00, 729.96it/s, now=N\u001b[A\n",
      "chunk:  54%|▌| 204/376 [00:00<00:00, 1071.11it/s, now\u001b[A\n",
      "chunk:  95%|▉| 357/376 [00:00<00:00, 1263.31it/s, now\u001b[A\n",
      "chunk:   7%| | 26/354 [02:00<00:11, 27.78it/s, now=No\u001b[A"
     ]
    },
    {
     "name": "stdout",
     "output_type": "stream",
     "text": [
      "MoviePy - Done.\n"
     ]
    },
    {
     "name": "stderr",
     "output_type": "stream",
     "text": [
      "chunk:   7%| | 26/354 [02:01<00:11, 27.78it/s, now=No"
     ]
    },
    {
     "name": "stdout",
     "output_type": "stream",
     "text": [
      "MoviePy - Writing audio in C:\\Users\\Welcome\\Dhairya-Python\\sarcasm detection\\audio_context\\1_11322_c.wav\n"
     ]
    },
    {
     "name": "stderr",
     "output_type": "stream",
     "text": [
      "\n",
      "chunk:   0%|       | 0/332 [00:00<?, ?it/s, now=None]\u001b[A\n",
      "chunk:   9%| | 29/332 [00:00<00:02, 111.10it/s, now=N\u001b[A\n",
      "chunk:  46%|▍| 153/332 [00:00<00:00, 487.97it/s, now=\u001b[A\n",
      "chunk:  92%|▉| 306/332 [00:00<00:00, 758.22it/s, now=\u001b[A\n",
      "chunk:   7%| | 26/354 [02:01<00:11, 27.78it/s, now=No\u001b[A"
     ]
    },
    {
     "name": "stdout",
     "output_type": "stream",
     "text": [
      "MoviePy - Done.\n"
     ]
    },
    {
     "name": "stderr",
     "output_type": "stream",
     "text": [
      "chunk:   7%| | 26/354 [02:02<00:11, 27.78it/s, now=No"
     ]
    },
    {
     "name": "stdout",
     "output_type": "stream",
     "text": [
      "MoviePy - Writing audio in C:\\Users\\Welcome\\Dhairya-Python\\sarcasm detection\\audio_context\\1_11378_c.wav\n"
     ]
    },
    {
     "name": "stderr",
     "output_type": "stream",
     "text": [
      "\n",
      "chunk:   0%|       | 0/464 [00:00<?, ?it/s, now=None]\u001b[A\n",
      "chunk:  13%|▏| 59/464 [00:00<00:00, 589.97it/s, now=N\u001b[A\n",
      "chunk:  43%|▍| 200/464 [00:00<00:00, 1072.29it/s, now\u001b[A\n",
      "chunk:  67%|▋| 309/464 [00:00<00:00, 1046.89it/s, now\u001b[A\n",
      "chunk:  89%|▉| 414/464 [00:00<00:00, 979.77it/s, now=\u001b[A\n",
      "chunk:   7%| | 26/354 [02:03<00:11, 27.78it/s, now=No\u001b[A"
     ]
    },
    {
     "name": "stdout",
     "output_type": "stream",
     "text": [
      "MoviePy - Done.\n"
     ]
    },
    {
     "name": "stderr",
     "output_type": "stream",
     "text": [
      "chunk:   7%| | 26/354 [02:03<00:11, 27.78it/s, now=No"
     ]
    },
    {
     "name": "stdout",
     "output_type": "stream",
     "text": [
      "MoviePy - Writing audio in C:\\Users\\Welcome\\Dhairya-Python\\sarcasm detection\\audio_context\\1_11439_c.wav\n"
     ]
    },
    {
     "name": "stderr",
     "output_type": "stream",
     "text": [
      "\n",
      "chunk:   0%|       | 0/420 [00:00<?, ?it/s, now=None]\u001b[A\n",
      "chunk:   6%| | 27/420 [00:00<00:01, 269.98it/s, now=N\u001b[A\n",
      "chunk:  35%|▎| 149/420 [00:00<00:00, 828.78it/s, now=\u001b[A\n",
      "chunk:  56%|▌| 234/420 [00:00<00:00, 791.46it/s, now=\u001b[A\n",
      "chunk:  85%|▊| 355/420 [00:00<00:00, 950.94it/s, now=\u001b[A\n",
      "chunk:   7%| | 26/354 [02:04<00:11, 27.78it/s, now=No\u001b[A"
     ]
    },
    {
     "name": "stdout",
     "output_type": "stream",
     "text": [
      "MoviePy - Done.\n"
     ]
    },
    {
     "name": "stderr",
     "output_type": "stream",
     "text": [
      "chunk:   7%| | 26/354 [02:04<00:11, 27.78it/s, now=No"
     ]
    },
    {
     "name": "stdout",
     "output_type": "stream",
     "text": [
      "MoviePy - Writing audio in C:\\Users\\Welcome\\Dhairya-Python\\sarcasm detection\\audio_context\\1_1144_c.wav\n"
     ]
    },
    {
     "name": "stderr",
     "output_type": "stream",
     "text": [
      "\n",
      "chunk:   0%|       | 0/486 [00:00<?, ?it/s, now=None]\u001b[A\n",
      "chunk:  14%|▏| 68/486 [00:00<00:00, 679.96it/s, now=N\u001b[A\n",
      "chunk:  42%|▍| 204/486 [00:00<00:00, 992.38it/s, now=\u001b[A\n",
      "chunk:  73%|▋| 357/486 [00:00<00:00, 1160.84it/s, now\u001b[A\n",
      "chunk:   7%| | 26/354 [02:05<00:11, 27.78it/s, now=No\u001b[A"
     ]
    },
    {
     "name": "stdout",
     "output_type": "stream",
     "text": [
      "MoviePy - Done.\n"
     ]
    },
    {
     "name": "stderr",
     "output_type": "stream",
     "text": [
      "chunk:   7%| | 26/354 [02:05<00:11, 27.78it/s, now=No"
     ]
    },
    {
     "name": "stdout",
     "output_type": "stream",
     "text": [
      "MoviePy - Writing audio in C:\\Users\\Welcome\\Dhairya-Python\\sarcasm detection\\audio_context\\1_11485_c.wav\n"
     ]
    },
    {
     "name": "stderr",
     "output_type": "stream",
     "text": [
      "\n",
      "chunk:   0%|       | 0/442 [00:00<?, ?it/s, now=None]\u001b[A\n",
      "chunk:  10%| | 44/442 [00:00<00:00, 439.97it/s, now=N\u001b[A\n",
      "chunk:  38%|▍| 166/442 [00:00<00:00, 898.77it/s, now=\u001b[A\n",
      "chunk:  69%|▋| 303/442 [00:00<00:00, 1113.91it/s, now\u001b[A\n",
      "chunk:  97%|▉| 429/442 [00:00<00:00, 1171.56it/s, now\u001b[A\n",
      "chunk:   7%| | 26/354 [02:06<00:11, 27.78it/s, now=No\u001b[A"
     ]
    },
    {
     "name": "stdout",
     "output_type": "stream",
     "text": [
      "MoviePy - Done.\n"
     ]
    },
    {
     "name": "stderr",
     "output_type": "stream",
     "text": [
      "chunk:   7%| | 26/354 [02:06<00:11, 27.78it/s, now=No"
     ]
    },
    {
     "name": "stdout",
     "output_type": "stream",
     "text": [
      "MoviePy - Writing audio in C:\\Users\\Welcome\\Dhairya-Python\\sarcasm detection\\audio_context\\1_11526_c.wav\n"
     ]
    },
    {
     "name": "stderr",
     "output_type": "stream",
     "text": [
      "\n",
      "chunk:   0%|       | 0/442 [00:00<?, ?it/s, now=None]\u001b[A\n",
      "chunk:   9%| | 40/442 [00:00<00:01, 399.98it/s, now=N\u001b[A\n",
      "chunk:  28%|▎| 122/442 [00:00<00:00, 647.02it/s, now=\u001b[A\n",
      "chunk:  58%|▌| 255/442 [00:00<00:00, 810.76it/s, now=\u001b[A\n",
      "chunk:  91%|▉| 403/442 [00:00<00:00, 1048.64it/s, now\u001b[A\n",
      "chunk:   7%| | 26/354 [02:07<00:11, 27.78it/s, now=No\u001b[A"
     ]
    },
    {
     "name": "stdout",
     "output_type": "stream",
     "text": [
      "MoviePy - Done.\n"
     ]
    },
    {
     "name": "stderr",
     "output_type": "stream",
     "text": [
      "chunk:   7%| | 26/354 [02:07<00:11, 27.78it/s, now=No"
     ]
    },
    {
     "name": "stdout",
     "output_type": "stream",
     "text": [
      "MoviePy - Writing audio in C:\\Users\\Welcome\\Dhairya-Python\\sarcasm detection\\audio_context\\1_11529_c.wav\n"
     ]
    },
    {
     "name": "stderr",
     "output_type": "stream",
     "text": [
      "\n",
      "chunk:   0%|       | 0/464 [00:00<?, ?it/s, now=None]\u001b[A\n",
      "chunk:  10%| | 45/464 [00:00<00:00, 449.97it/s, now=N\u001b[A\n",
      "chunk:  44%|▍| 204/464 [00:00<00:00, 1064.18it/s, now\u001b[A\n",
      "chunk:  67%|▋| 310/464 [00:00<00:00, 975.69it/s, now=\u001b[A\n",
      "chunk:  99%|▉| 459/464 [00:00<00:00, 1135.69it/s, now\u001b[A\n",
      "chunk:   7%| | 26/354 [02:08<00:11, 27.78it/s, now=No\u001b[A"
     ]
    },
    {
     "name": "stdout",
     "output_type": "stream",
     "text": [
      "MoviePy - Done.\n"
     ]
    },
    {
     "name": "stderr",
     "output_type": "stream",
     "text": [
      "chunk:   7%| | 26/354 [02:08<00:11, 27.78it/s, now=No"
     ]
    },
    {
     "name": "stdout",
     "output_type": "stream",
     "text": [
      "MoviePy - Writing audio in C:\\Users\\Welcome\\Dhairya-Python\\sarcasm detection\\audio_context\\1_11609_c.wav\n"
     ]
    },
    {
     "name": "stderr",
     "output_type": "stream",
     "text": [
      "\n",
      "chunk:   0%|       | 0/464 [00:00<?, ?it/s, now=None]\u001b[A\n",
      "chunk:   6%| | 29/464 [00:00<00:01, 287.11it/s, now=N\u001b[A\n",
      "chunk:  37%|▎| 170/464 [00:00<00:00, 933.94it/s, now=\u001b[A\n",
      "chunk:  57%|▌| 264/464 [00:00<00:00, 699.24it/s, now=\u001b[A\n",
      "chunk:  88%|▉| 408/464 [00:00<00:00, 907.89it/s, now=\u001b[A\n",
      "chunk:   7%| | 26/354 [02:09<00:11, 27.78it/s, now=No\u001b[A"
     ]
    },
    {
     "name": "stdout",
     "output_type": "stream",
     "text": [
      "MoviePy - Done.\n"
     ]
    },
    {
     "name": "stderr",
     "output_type": "stream",
     "text": [
      "chunk:   7%| | 26/354 [02:09<00:11, 27.78it/s, now=No"
     ]
    },
    {
     "name": "stdout",
     "output_type": "stream",
     "text": [
      "MoviePy - Writing audio in C:\\Users\\Welcome\\Dhairya-Python\\sarcasm detection\\audio_context\\1_11697_c.wav\n"
     ]
    },
    {
     "name": "stderr",
     "output_type": "stream",
     "text": [
      "\n",
      "chunk:   0%|       | 0/464 [00:00<?, ?it/s, now=None]\u001b[A\n",
      "chunk:   7%| | 32/464 [00:00<00:01, 319.98it/s, now=N\u001b[A\n",
      "chunk:  41%|▍| 190/464 [00:00<00:00, 1061.12it/s, now\u001b[A\n",
      "chunk:  66%|▋| 306/464 [00:00<00:00, 900.62it/s, now=\u001b[A\n",
      "chunk:  86%|▊| 400/464 [00:00<00:00, 756.76it/s, now=\u001b[A\n",
      "chunk:   7%| | 26/354 [02:10<00:11, 27.78it/s, now=No\u001b[A"
     ]
    },
    {
     "name": "stdout",
     "output_type": "stream",
     "text": [
      "MoviePy - Done.\n"
     ]
    },
    {
     "name": "stderr",
     "output_type": "stream",
     "text": [
      "chunk:   7%| | 26/354 [02:10<00:11, 27.78it/s, now=No"
     ]
    },
    {
     "name": "stdout",
     "output_type": "stream",
     "text": [
      "MoviePy - Writing audio in C:\\Users\\Welcome\\Dhairya-Python\\sarcasm detection\\audio_context\\1_11699_c.wav\n"
     ]
    },
    {
     "name": "stderr",
     "output_type": "stream",
     "text": [
      "\n",
      "chunk:   0%|       | 0/420 [00:00<?, ?it/s, now=None]\u001b[A\n",
      "chunk:   1%| | 3/420 [00:00<00:14, 28.30it/s, now=Non\u001b[A\n",
      "chunk:  25%|▎| 106/420 [00:00<00:00, 603.30it/s, now=\u001b[A\n",
      "chunk:  61%|▌| 255/420 [00:00<00:00, 927.55it/s, now=\u001b[A\n",
      "chunk:  95%|▉| 397/420 [00:00<00:00, 1111.30it/s, now\u001b[A\n",
      "chunk:   7%| | 26/354 [02:11<00:11, 27.78it/s, now=No\u001b[A"
     ]
    },
    {
     "name": "stdout",
     "output_type": "stream",
     "text": [
      "MoviePy - Done.\n"
     ]
    },
    {
     "name": "stderr",
     "output_type": "stream",
     "text": [
      "chunk:   7%| | 26/354 [02:11<00:11, 27.78it/s, now=No"
     ]
    },
    {
     "name": "stdout",
     "output_type": "stream",
     "text": [
      "MoviePy - Writing audio in C:\\Users\\Welcome\\Dhairya-Python\\sarcasm detection\\audio_context\\1_11723_c.wav\n"
     ]
    },
    {
     "name": "stderr",
     "output_type": "stream",
     "text": [
      "\n",
      "chunk:   0%|       | 0/442 [00:00<?, ?it/s, now=None]\u001b[A\n",
      "chunk:  10%| | 42/442 [00:00<00:00, 419.98it/s, now=N\u001b[A\n",
      "chunk:  37%|▎| 164/442 [00:00<00:00, 890.54it/s, now=\u001b[A\n",
      "chunk:  69%|▋| 306/442 [00:00<00:00, 1102.07it/s, now\u001b[A\n",
      "chunk:   7%| | 26/354 [02:12<00:11, 27.78it/s, now=No\u001b[A"
     ]
    },
    {
     "name": "stdout",
     "output_type": "stream",
     "text": [
      "MoviePy - Done.\n"
     ]
    },
    {
     "name": "stderr",
     "output_type": "stream",
     "text": [
      "chunk:   7%| | 26/354 [02:12<00:11, 27.78it/s, now=No"
     ]
    },
    {
     "name": "stdout",
     "output_type": "stream",
     "text": [
      "MoviePy - Writing audio in C:\\Users\\Welcome\\Dhairya-Python\\sarcasm detection\\audio_context\\1_11736_c.wav\n"
     ]
    },
    {
     "name": "stderr",
     "output_type": "stream",
     "text": [
      "\n",
      "chunk:   0%|       | 0/486 [00:00<?, ?it/s, now=None]\u001b[A\n",
      "chunk:   6%| | 29/486 [00:00<00:01, 281.54it/s, now=N\u001b[A\n",
      "chunk:  35%|▎| 171/486 [00:00<00:00, 943.00it/s, now=\u001b[A\n",
      "chunk:  63%|▋| 306/486 [00:00<00:00, 1069.37it/s, now\u001b[A\n",
      "chunk:  92%|▉| 448/486 [00:00<00:00, 1202.79it/s, now\u001b[A\n",
      "chunk:   7%| | 26/354 [02:12<00:11, 27.78it/s, now=No\u001b[A"
     ]
    },
    {
     "name": "stdout",
     "output_type": "stream",
     "text": [
      "MoviePy - Done.\n"
     ]
    },
    {
     "name": "stderr",
     "output_type": "stream",
     "text": [
      "chunk:   7%| | 26/354 [02:13<00:11, 27.78it/s, now=No"
     ]
    },
    {
     "name": "stdout",
     "output_type": "stream",
     "text": [
      "MoviePy - Writing audio in C:\\Users\\Welcome\\Dhairya-Python\\sarcasm detection\\audio_context\\1_11773_c.wav\n"
     ]
    },
    {
     "name": "stderr",
     "output_type": "stream",
     "text": [
      "\n",
      "chunk:   0%|       | 0/530 [00:00<?, ?it/s, now=None]\u001b[A\n",
      "chunk:  12%| | 61/530 [00:00<00:00, 609.97it/s, now=N\u001b[A\n",
      "chunk:  38%|▍| 204/530 [00:00<00:00, 1025.91it/s, now\u001b[A\n",
      "chunk:  67%|▋| 357/530 [00:00<00:00, 1185.48it/s, now\u001b[A\n",
      "chunk:  97%|▉| 512/530 [00:00<00:00, 1321.92it/s, now\u001b[A\n",
      "chunk:   7%| | 26/354 [02:13<00:11, 27.78it/s, now=No\u001b[A"
     ]
    },
    {
     "name": "stdout",
     "output_type": "stream",
     "text": [
      "MoviePy - Done.\n"
     ]
    },
    {
     "name": "stderr",
     "output_type": "stream",
     "text": [
      "chunk:   7%| | 26/354 [02:14<00:11, 27.78it/s, now=No"
     ]
    },
    {
     "name": "stdout",
     "output_type": "stream",
     "text": [
      "MoviePy - Writing audio in C:\\Users\\Welcome\\Dhairya-Python\\sarcasm detection\\audio_context\\1_1180_c.wav\n"
     ]
    },
    {
     "name": "stderr",
     "output_type": "stream",
     "text": [
      "\n",
      "chunk:   0%|       | 0/442 [00:00<?, ?it/s, now=None]\u001b[A\n",
      "chunk:  12%| | 55/442 [00:00<00:00, 549.97it/s, now=N\u001b[A\n",
      "chunk:  46%|▍| 204/442 [00:00<00:00, 1090.06it/s, now\u001b[A\n",
      "chunk:  81%|▊| 357/442 [00:00<00:00, 1255.45it/s, now\u001b[A\n",
      "chunk:   7%| | 26/354 [02:14<00:11, 27.78it/s, now=No\u001b[A"
     ]
    },
    {
     "name": "stdout",
     "output_type": "stream",
     "text": [
      "MoviePy - Done.\n"
     ]
    },
    {
     "name": "stderr",
     "output_type": "stream",
     "text": [
      "chunk:   7%| | 26/354 [02:15<00:11, 27.78it/s, now=No"
     ]
    },
    {
     "name": "stdout",
     "output_type": "stream",
     "text": [
      "MoviePy - Writing audio in C:\\Users\\Welcome\\Dhairya-Python\\sarcasm detection\\audio_context\\1_1185_c.wav\n"
     ]
    },
    {
     "name": "stderr",
     "output_type": "stream",
     "text": [
      "\n",
      "chunk:   0%|       | 0/420 [00:00<?, ?it/s, now=None]\u001b[A\n",
      "chunk:   7%| | 29/420 [00:00<00:01, 281.54it/s, now=N\u001b[A\n",
      "chunk:  43%|▍| 182/420 [00:00<00:00, 1006.92it/s, now\u001b[A\n",
      "chunk:  73%|▋| 306/420 [00:00<00:00, 1083.13it/s, now\u001b[A\n",
      "chunk:   7%| | 26/354 [02:15<00:11, 27.78it/s, now=No\u001b[A"
     ]
    },
    {
     "name": "stdout",
     "output_type": "stream",
     "text": [
      "MoviePy - Done.\n"
     ]
    },
    {
     "name": "stderr",
     "output_type": "stream",
     "text": [
      "chunk:   7%| | 26/354 [02:16<00:11, 27.78it/s, now=No"
     ]
    },
    {
     "name": "stdout",
     "output_type": "stream",
     "text": [
      "MoviePy - Writing audio in C:\\Users\\Welcome\\Dhairya-Python\\sarcasm detection\\audio_context\\1_11885_c.wav\n"
     ]
    },
    {
     "name": "stderr",
     "output_type": "stream",
     "text": [
      "\n",
      "chunk:   0%|       | 0/464 [00:00<?, ?it/s, now=None]\u001b[A\n",
      "chunk:   8%| | 37/464 [00:00<00:01, 369.98it/s, now=N\u001b[A\n",
      "chunk:  33%|▎| 153/464 [00:00<00:00, 829.78it/s, now=\u001b[A\n",
      "chunk:  55%|▌| 255/464 [00:00<00:00, 888.04it/s, now=\u001b[A\n",
      "chunk:  77%|▊| 357/464 [00:00<00:00, 935.41it/s, now=\u001b[A\n",
      "chunk:   7%| | 26/354 [02:16<00:11, 27.78it/s, now=No\u001b[A"
     ]
    },
    {
     "name": "stdout",
     "output_type": "stream",
     "text": [
      "MoviePy - Done.\n"
     ]
    },
    {
     "name": "stderr",
     "output_type": "stream",
     "text": [
      "chunk:   7%| | 26/354 [02:17<00:11, 27.78it/s, now=No"
     ]
    },
    {
     "name": "stdout",
     "output_type": "stream",
     "text": [
      "MoviePy - Writing audio in C:\\Users\\Welcome\\Dhairya-Python\\sarcasm detection\\audio_context\\1_11889_c.wav\n"
     ]
    },
    {
     "name": "stderr",
     "output_type": "stream",
     "text": [
      "\n",
      "chunk:   0%|       | 0/442 [00:00<?, ?it/s, now=None]\u001b[A\n",
      "chunk:   2%| | 8/442 [00:00<00:05, 80.00it/s, now=Non\u001b[A\n",
      "chunk:  35%|▎| 153/442 [00:00<00:00, 885.83it/s, now=\u001b[A\n",
      "chunk:  69%|▋| 306/442 [00:00<00:00, 1148.47it/s, now\u001b[A\n",
      "chunk:   7%| | 26/354 [02:17<00:11, 27.78it/s, now=No\u001b[A"
     ]
    },
    {
     "name": "stdout",
     "output_type": "stream",
     "text": [
      "MoviePy - Done.\n"
     ]
    },
    {
     "name": "stderr",
     "output_type": "stream",
     "text": [
      "chunk:   7%| | 26/354 [02:18<00:11, 27.78it/s, now=No"
     ]
    },
    {
     "name": "stdout",
     "output_type": "stream",
     "text": [
      "MoviePy - Writing audio in C:\\Users\\Welcome\\Dhairya-Python\\sarcasm detection\\audio_context\\1_1189_c.wav\n"
     ]
    },
    {
     "name": "stderr",
     "output_type": "stream",
     "text": [
      "\n",
      "chunk:   0%|       | 0/354 [00:00<?, ?it/s, now=None]\u001b[A\n",
      "chunk:  21%|▏| 75/354 [00:00<00:00, 749.96it/s, now=N\u001b[A\n",
      "chunk:  62%|▌| 220/354 [00:00<00:00, 1161.70it/s, now\u001b[A\n",
      "chunk:   7%| | 26/354 [02:18<00:11, 27.78it/s, now=No\u001b[A"
     ]
    },
    {
     "name": "stdout",
     "output_type": "stream",
     "text": [
      "MoviePy - Done.\n"
     ]
    },
    {
     "name": "stderr",
     "output_type": "stream",
     "text": [
      "chunk:   7%| | 26/354 [02:19<00:11, 27.78it/s, now=No"
     ]
    },
    {
     "name": "stdout",
     "output_type": "stream",
     "text": [
      "MoviePy - Writing audio in C:\\Users\\Welcome\\Dhairya-Python\\sarcasm detection\\audio_context\\1_11901_c.wav\n"
     ]
    },
    {
     "name": "stderr",
     "output_type": "stream",
     "text": [
      "\n",
      "chunk:   0%|       | 0/464 [00:00<?, ?it/s, now=None]\u001b[A\n",
      "chunk:   6%| | 29/464 [00:00<00:01, 287.11it/s, now=N\u001b[A\n",
      "chunk:  22%|▏| 102/464 [00:00<00:00, 534.03it/s, now=\u001b[A\n",
      "chunk:  44%|▍| 204/464 [00:01<00:02, 110.05it/s, now=\u001b[A\n",
      "chunk:  55%|▌| 255/464 [00:01<00:01, 122.24it/s, now=\u001b[A\n",
      "chunk:  66%|▋| 306/464 [00:02<00:01, 90.02it/s, now=N\u001b[A\n",
      "chunk:  88%|▉| 408/464 [00:03<00:00, 144.06it/s, now=\u001b[A\n",
      "chunk:   7%| | 26/354 [02:22<00:11, 27.78it/s, now=No\u001b[A"
     ]
    },
    {
     "name": "stdout",
     "output_type": "stream",
     "text": [
      "MoviePy - Done.\n"
     ]
    },
    {
     "name": "stderr",
     "output_type": "stream",
     "text": [
      "chunk:   7%| | 26/354 [02:23<00:11, 27.78it/s, now=No"
     ]
    },
    {
     "name": "stdout",
     "output_type": "stream",
     "text": [
      "MoviePy - Writing audio in C:\\Users\\Welcome\\Dhairya-Python\\sarcasm detection\\audio_context\\1_11913_c.wav\n"
     ]
    },
    {
     "name": "stderr",
     "output_type": "stream",
     "text": [
      "\n",
      "chunk:   0%|       | 0/486 [00:00<?, ?it/s, now=None]\u001b[A\n",
      "chunk:  11%| | 53/486 [00:00<00:00, 529.97it/s, now=N\u001b[A\n",
      "chunk:  31%|▎| 153/486 [00:00<00:00, 757.41it/s, now=\u001b[A\n",
      "chunk:  57%|▌| 277/486 [00:00<00:00, 970.26it/s, now=\u001b[A\n",
      "chunk:  77%|▊| 376/486 [00:00<00:00, 689.86it/s, now=\u001b[A\n",
      "chunk:   7%| | 26/354 [02:23<00:11, 27.78it/s, now=No\u001b[A"
     ]
    },
    {
     "name": "stdout",
     "output_type": "stream",
     "text": [
      "MoviePy - Done.\n"
     ]
    },
    {
     "name": "stderr",
     "output_type": "stream",
     "text": [
      "chunk:   7%| | 26/354 [02:24<00:11, 27.78it/s, now=No"
     ]
    },
    {
     "name": "stdout",
     "output_type": "stream",
     "text": [
      "MoviePy - Writing audio in C:\\Users\\Welcome\\Dhairya-Python\\sarcasm detection\\audio_context\\1_11924_c.wav\n"
     ]
    },
    {
     "name": "stderr",
     "output_type": "stream",
     "text": [
      "\n",
      "chunk:   0%|       | 0/442 [00:00<?, ?it/s, now=None]\u001b[A\n",
      "chunk:  12%| | 52/442 [00:00<00:00, 519.97it/s, now=N\u001b[A\n",
      "chunk:  24%|▏| 105/442 [00:00<00:00, 478.05it/s, now=\u001b[A\n",
      "chunk:  35%|▎| 155/442 [00:00<00:00, 359.77it/s, now=\u001b[A\n",
      "chunk:  46%|▍| 205/442 [00:00<00:00, 399.96it/s, now=\u001b[A\n",
      "chunk:  58%|▌| 255/442 [00:00<00:00, 294.80it/s, now=\u001b[A\n",
      "chunk:  69%|▋| 306/442 [00:01<00:00, 233.78it/s, now=\u001b[A\n",
      "chunk:  81%|▊| 357/442 [00:01<00:00, 267.67it/s, now=\u001b[A\n",
      "chunk:   7%| | 26/354 [02:25<00:11, 27.78it/s, now=No\u001b[A"
     ]
    },
    {
     "name": "stdout",
     "output_type": "stream",
     "text": [
      "MoviePy - Done.\n"
     ]
    },
    {
     "name": "stderr",
     "output_type": "stream",
     "text": [
      "chunk:   7%| | 26/354 [02:26<00:11, 27.78it/s, now=No"
     ]
    },
    {
     "name": "stdout",
     "output_type": "stream",
     "text": [
      "MoviePy - Writing audio in C:\\Users\\Welcome\\Dhairya-Python\\sarcasm detection\\audio_context\\1_11928_c.wav\n"
     ]
    },
    {
     "name": "stderr",
     "output_type": "stream",
     "text": [
      "\n",
      "chunk:   0%|       | 0/530 [00:00<?, ?it/s, now=None]\u001b[A\n",
      "chunk:  11%| | 57/530 [00:00<00:00, 569.97it/s, now=N\u001b[A\n",
      "chunk:  38%|▍| 204/530 [00:00<00:00, 1044.07it/s, now\u001b[A\n",
      "chunk:  67%|▋| 357/530 [00:00<00:00, 1211.33it/s, now\u001b[A\n",
      "chunk:  96%|▉| 510/530 [00:00<00:00, 1317.03it/s, now\u001b[A\n",
      "chunk:   7%| | 26/354 [02:27<00:11, 27.78it/s, now=No\u001b[A"
     ]
    },
    {
     "name": "stdout",
     "output_type": "stream",
     "text": [
      "MoviePy - Done.\n"
     ]
    },
    {
     "name": "stderr",
     "output_type": "stream",
     "text": [
      "chunk:   7%| | 26/354 [02:27<00:11, 27.78it/s, now=No"
     ]
    },
    {
     "name": "stdout",
     "output_type": "stream",
     "text": [
      "MoviePy - Writing audio in C:\\Users\\Welcome\\Dhairya-Python\\sarcasm detection\\audio_context\\1_12002_c.wav\n"
     ]
    },
    {
     "name": "stderr",
     "output_type": "stream",
     "text": [
      "\n",
      "chunk:   0%|       | 0/486 [00:00<?, ?it/s, now=None]\u001b[A\n",
      "chunk:  14%|▏| 69/486 [00:00<00:00, 689.96it/s, now=N\u001b[A\n",
      "chunk:  42%|▍| 204/486 [00:00<00:00, 1047.37it/s, now\u001b[A\n",
      "chunk:  73%|▋| 354/486 [00:00<00:00, 1250.76it/s, now\u001b[A\n",
      "chunk:   7%| | 26/354 [02:27<00:11, 27.78it/s, now=No\u001b[A"
     ]
    },
    {
     "name": "stdout",
     "output_type": "stream",
     "text": [
      "MoviePy - Done.\n"
     ]
    },
    {
     "name": "stderr",
     "output_type": "stream",
     "text": [
      "chunk:   7%| | 26/354 [02:28<00:11, 27.78it/s, now=No"
     ]
    },
    {
     "name": "stdout",
     "output_type": "stream",
     "text": [
      "MoviePy - Writing audio in C:\\Users\\Welcome\\Dhairya-Python\\sarcasm detection\\audio_context\\1_12083_c.wav\n"
     ]
    },
    {
     "name": "stderr",
     "output_type": "stream",
     "text": [
      "\n",
      "chunk:   0%|       | 0/442 [00:00<?, ?it/s, now=None]\u001b[A\n",
      "chunk:  10%| | 43/442 [00:00<00:00, 429.97it/s, now=N\u001b[A\n",
      "chunk:  26%|▎| 115/442 [00:00<00:00, 600.55it/s, now=\u001b[A\n",
      "chunk:  57%|▌| 252/442 [00:00<00:00, 951.86it/s, now=\u001b[A\n",
      "chunk:  81%|▊| 357/442 [00:00<00:00, 986.69it/s, now=\u001b[A\n",
      "chunk:   7%| | 26/354 [02:28<00:11, 27.78it/s, now=No\u001b[A"
     ]
    },
    {
     "name": "stdout",
     "output_type": "stream",
     "text": [
      "MoviePy - Done.\n"
     ]
    },
    {
     "name": "stderr",
     "output_type": "stream",
     "text": [
      "chunk:   7%| | 26/354 [02:29<00:11, 27.78it/s, now=No"
     ]
    },
    {
     "name": "stdout",
     "output_type": "stream",
     "text": [
      "MoviePy - Writing audio in C:\\Users\\Welcome\\Dhairya-Python\\sarcasm detection\\audio_context\\1_12202_c.wav\n"
     ]
    },
    {
     "name": "stderr",
     "output_type": "stream",
     "text": [
      "\n",
      "chunk:   0%|       | 0/111 [00:00<?, ?it/s, now=None]\u001b[A\n",
      "chunk:  51%|▌| 57/111 [00:00<00:00, 569.97it/s, now=N\u001b[A\n",
      "chunk:   7%| | 26/354 [02:29<00:11, 27.78it/s, now=No\u001b[A"
     ]
    },
    {
     "name": "stdout",
     "output_type": "stream",
     "text": [
      "MoviePy - Done.\n"
     ]
    },
    {
     "name": "stderr",
     "output_type": "stream",
     "text": [
      "chunk:   7%| | 26/354 [02:30<00:11, 27.78it/s, now=No"
     ]
    },
    {
     "name": "stdout",
     "output_type": "stream",
     "text": [
      "MoviePy - Writing audio in C:\\Users\\Welcome\\Dhairya-Python\\sarcasm detection\\audio_context\\1_12275_c.wav\n"
     ]
    },
    {
     "name": "stderr",
     "output_type": "stream",
     "text": [
      "\n",
      "chunk:   0%|       | 0/464 [00:00<?, ?it/s, now=None]\u001b[A\n",
      "chunk:  15%|▏| 70/464 [00:00<00:00, 699.96it/s, now=N\u001b[A\n",
      "chunk:  44%|▍| 204/464 [00:00<00:00, 1045.66it/s, now\u001b[A\n",
      "chunk:  69%|▋| 318/464 [00:00<00:00, 1088.03it/s, now\u001b[A\n",
      "chunk:  92%|▉| 427/464 [00:00<00:00, 1024.67it/s, now\u001b[A\n",
      "chunk:   7%| | 26/354 [02:31<00:11, 27.78it/s, now=No\u001b[A"
     ]
    },
    {
     "name": "stdout",
     "output_type": "stream",
     "text": [
      "MoviePy - Done.\n"
     ]
    },
    {
     "name": "stderr",
     "output_type": "stream",
     "text": [
      "chunk:   7%| | 26/354 [02:32<00:11, 27.78it/s, now=No"
     ]
    },
    {
     "name": "stdout",
     "output_type": "stream",
     "text": [
      "MoviePy - Writing audio in C:\\Users\\Welcome\\Dhairya-Python\\sarcasm detection\\audio_context\\1_12320_c.wav\n"
     ]
    },
    {
     "name": "stderr",
     "output_type": "stream",
     "text": [
      "\n",
      "chunk:   0%|       | 0/442 [00:00<?, ?it/s, now=None]\u001b[A\n",
      "chunk:  12%| | 54/442 [00:00<00:00, 539.97it/s, now=N\u001b[A\n",
      "chunk:  24%|▏| 108/442 [00:00<00:00, 536.81it/s, now=\u001b[A\n",
      "chunk:  57%|▌| 250/442 [00:00<00:00, 938.77it/s, now=\u001b[A\n",
      "chunk:  88%|▉| 388/442 [00:00<00:00, 1112.60it/s, now\u001b[A\n",
      "chunk:   7%| | 26/354 [02:32<00:11, 27.78it/s, now=No\u001b[A"
     ]
    },
    {
     "name": "stdout",
     "output_type": "stream",
     "text": [
      "MoviePy - Done.\n"
     ]
    },
    {
     "name": "stderr",
     "output_type": "stream",
     "text": [
      "chunk:   7%| | 26/354 [02:33<00:11, 27.78it/s, now=No"
     ]
    },
    {
     "name": "stdout",
     "output_type": "stream",
     "text": [
      "MoviePy - Writing audio in C:\\Users\\Welcome\\Dhairya-Python\\sarcasm detection\\audio_context\\1_12331_c.wav\n"
     ]
    },
    {
     "name": "stderr",
     "output_type": "stream",
     "text": [
      "\n",
      "chunk:   0%|       | 0/839 [00:00<?, ?it/s, now=None]\u001b[A\n",
      "chunk:   8%| | 64/839 [00:00<00:01, 639.96it/s, now=N\u001b[A\n",
      "chunk:  24%|▏| 204/839 [00:00<00:01, 439.97it/s, now=\u001b[A\n",
      "chunk:  39%|▍| 326/839 [00:00<00:00, 637.93it/s, now=\u001b[A\n",
      "chunk:  54%|▌| 453/839 [00:00<00:00, 806.11it/s, now=\u001b[A\n",
      "chunk:  67%|▋| 561/839 [00:00<00:00, 867.20it/s, now=\u001b[A\n",
      "chunk:  82%|▊| 692/839 [00:00<00:00, 990.75it/s, now=\u001b[A\n",
      "chunk:  97%|▉| 816/839 [00:00<00:00, 1046.85it/s, now\u001b[A\n",
      "chunk:   7%| | 26/354 [02:34<00:11, 27.78it/s, now=No\u001b[A"
     ]
    },
    {
     "name": "stdout",
     "output_type": "stream",
     "text": [
      "MoviePy - Done.\n"
     ]
    },
    {
     "name": "stderr",
     "output_type": "stream",
     "text": [
      "chunk:   7%| | 26/354 [02:35<00:11, 27.78it/s, now=No"
     ]
    },
    {
     "name": "stdout",
     "output_type": "stream",
     "text": [
      "MoviePy - Writing audio in C:\\Users\\Welcome\\Dhairya-Python\\sarcasm detection\\audio_context\\1_1262_c.wav\n"
     ]
    },
    {
     "name": "stderr",
     "output_type": "stream",
     "text": [
      "\n",
      "chunk:   0%|       | 0/354 [00:00<?, ?it/s, now=None]\u001b[A\n",
      "chunk:  12%| | 44/354 [00:00<00:00, 439.98it/s, now=N\u001b[A\n",
      "chunk:  43%|▍| 153/354 [00:00<00:00, 421.06it/s, now=\u001b[A\n",
      "chunk:  80%|▊| 282/354 [00:00<00:00, 682.45it/s, now=\u001b[A\n",
      "chunk:   7%| | 26/354 [02:35<00:11, 27.78it/s, now=No\u001b[A"
     ]
    },
    {
     "name": "stdout",
     "output_type": "stream",
     "text": [
      "MoviePy - Done.\n"
     ]
    },
    {
     "name": "stderr",
     "output_type": "stream",
     "text": [
      "chunk:   7%| | 26/354 [02:36<00:11, 27.78it/s, now=No"
     ]
    },
    {
     "name": "stdout",
     "output_type": "stream",
     "text": [
      "MoviePy - Writing audio in C:\\Users\\Welcome\\Dhairya-Python\\sarcasm detection\\audio_context\\1_1296_c.wav\n"
     ]
    },
    {
     "name": "stderr",
     "output_type": "stream",
     "text": [
      "\n",
      "chunk:   0%|       | 0/376 [00:00<?, ?it/s, now=None]\u001b[A\n",
      "chunk:  12%|▏| 47/376 [00:00<00:00, 469.97it/s, now=N\u001b[A\n",
      "chunk:  41%|▍| 153/376 [00:00<00:00, 373.37it/s, now=\u001b[A\n",
      "chunk:  78%|▊| 292/376 [00:00<00:00, 655.43it/s, now=\u001b[A\n",
      "chunk:   7%| | 26/354 [02:36<00:11, 27.78it/s, now=No\u001b[A"
     ]
    },
    {
     "name": "stdout",
     "output_type": "stream",
     "text": [
      "MoviePy - Done.\n"
     ]
    },
    {
     "name": "stderr",
     "output_type": "stream",
     "text": [
      "chunk:   7%| | 26/354 [02:37<00:11, 27.78it/s, now=No"
     ]
    },
    {
     "name": "stdout",
     "output_type": "stream",
     "text": [
      "MoviePy - Writing audio in C:\\Users\\Welcome\\Dhairya-Python\\sarcasm detection\\audio_context\\1_1466_c.wav\n"
     ]
    },
    {
     "name": "stderr",
     "output_type": "stream",
     "text": [
      "\n",
      "chunk:   0%|       | 0/398 [00:00<?, ?it/s, now=None]\u001b[A\n",
      "chunk:  10%| | 39/398 [00:00<00:00, 389.98it/s, now=N\u001b[A\n",
      "chunk:  43%|▍| 173/398 [00:00<00:00, 948.77it/s, now=\u001b[A\n",
      "chunk:  68%|▋| 269/398 [00:00<00:00, 920.26it/s, now=\u001b[A\n",
      "chunk:   7%| | 26/354 [02:38<00:11, 27.78it/s, now=No\u001b[A"
     ]
    },
    {
     "name": "stdout",
     "output_type": "stream",
     "text": [
      "MoviePy - Done.\n"
     ]
    },
    {
     "name": "stderr",
     "output_type": "stream",
     "text": [
      "chunk:   7%| | 26/354 [02:38<00:11, 27.78it/s, now=No"
     ]
    },
    {
     "name": "stdout",
     "output_type": "stream",
     "text": [
      "MoviePy - Writing audio in C:\\Users\\Welcome\\Dhairya-Python\\sarcasm detection\\audio_context\\1_1470_c.wav\n"
     ]
    },
    {
     "name": "stderr",
     "output_type": "stream",
     "text": [
      "\n",
      "chunk:   0%|       | 0/464 [00:00<?, ?it/s, now=None]\u001b[A\n",
      "chunk:   7%| | 31/464 [00:00<00:01, 309.98it/s, now=N\u001b[A\n",
      "chunk:  37%|▎| 172/464 [00:00<00:00, 957.00it/s, now=\u001b[A\n",
      "chunk:  65%|▋| 300/464 [00:00<00:00, 1104.46it/s, now\u001b[A\n",
      "chunk:  89%|▉| 413/464 [00:00<00:00, 1092.94it/s, now\u001b[A\n",
      "chunk:   7%| | 26/354 [02:39<00:11, 27.78it/s, now=No\u001b[A"
     ]
    },
    {
     "name": "stdout",
     "output_type": "stream",
     "text": [
      "MoviePy - Done.\n"
     ]
    },
    {
     "name": "stderr",
     "output_type": "stream",
     "text": [
      "chunk:   7%| | 26/354 [02:39<00:11, 27.78it/s, now=No"
     ]
    },
    {
     "name": "stdout",
     "output_type": "stream",
     "text": [
      "MoviePy - Writing audio in C:\\Users\\Welcome\\Dhairya-Python\\sarcasm detection\\audio_context\\1_1478_c.wav\n"
     ]
    },
    {
     "name": "stderr",
     "output_type": "stream",
     "text": [
      "\n",
      "chunk:   0%|       | 0/177 [00:00<?, ?it/s, now=None]\u001b[A\n",
      "chunk:  29%|▎| 51/177 [00:00<00:00, 509.97it/s, now=N\u001b[A\n",
      "chunk:   7%| | 26/354 [02:39<00:11, 27.78it/s, now=No\u001b[A"
     ]
    },
    {
     "name": "stdout",
     "output_type": "stream",
     "text": [
      "MoviePy - Done.\n"
     ]
    },
    {
     "name": "stderr",
     "output_type": "stream",
     "text": [
      "chunk:   7%| | 26/354 [02:40<00:11, 27.78it/s, now=No"
     ]
    },
    {
     "name": "stdout",
     "output_type": "stream",
     "text": [
      "MoviePy - Writing audio in C:\\Users\\Welcome\\Dhairya-Python\\sarcasm detection\\audio_context\\1_1484_c.wav\n"
     ]
    },
    {
     "name": "stderr",
     "output_type": "stream",
     "text": [
      "\n",
      "chunk:   0%|       | 0/464 [00:00<?, ?it/s, now=None]\u001b[A\n",
      "chunk:   1%| | 3/464 [00:00<00:18, 24.59it/s, now=Non\u001b[A\n",
      "chunk:  29%|▎| 135/464 [00:00<00:00, 723.26it/s, now=\u001b[A\n",
      "chunk:  55%|▌| 255/464 [00:00<00:00, 907.02it/s, now=\u001b[A\n",
      "chunk:  80%|▊| 372/464 [00:00<00:00, 1006.22it/s, now\u001b[A\n",
      "chunk:   7%| | 26/354 [02:41<00:11, 27.78it/s, now=No\u001b[A"
     ]
    },
    {
     "name": "stdout",
     "output_type": "stream",
     "text": [
      "MoviePy - Done.\n"
     ]
    },
    {
     "name": "stderr",
     "output_type": "stream",
     "text": [
      "chunk:   7%| | 26/354 [02:41<00:11, 27.78it/s, now=No"
     ]
    },
    {
     "name": "stdout",
     "output_type": "stream",
     "text": [
      "MoviePy - Writing audio in C:\\Users\\Welcome\\Dhairya-Python\\sarcasm detection\\audio_context\\1_1549_c.wav\n"
     ]
    },
    {
     "name": "stderr",
     "output_type": "stream",
     "text": [
      "\n",
      "chunk:   0%|       | 0/442 [00:00<?, ?it/s, now=None]\u001b[A\n",
      "chunk:  11%| | 50/442 [00:00<00:00, 499.97it/s, now=N\u001b[A\n",
      "chunk:  42%|▍| 185/442 [00:00<00:00, 999.94it/s, now=\u001b[A\n",
      "chunk:  69%|▋| 306/442 [00:00<00:00, 1047.97it/s, now\u001b[A\n",
      "chunk: 100%|█| 442/442 [00:00<00:00, 1167.82it/s, now\u001b[A\n",
      "chunk:   7%| | 26/354 [02:41<00:11, 27.78it/s, now=No\u001b[A"
     ]
    },
    {
     "name": "stdout",
     "output_type": "stream",
     "text": [
      "MoviePy - Done.\n"
     ]
    },
    {
     "name": "stderr",
     "output_type": "stream",
     "text": [
      "chunk:   7%| | 26/354 [02:42<00:11, 27.78it/s, now=No"
     ]
    },
    {
     "name": "stdout",
     "output_type": "stream",
     "text": [
      "MoviePy - Writing audio in C:\\Users\\Welcome\\Dhairya-Python\\sarcasm detection\\audio_context\\1_1560_c.wav\n"
     ]
    },
    {
     "name": "stderr",
     "output_type": "stream",
     "text": [
      "\n",
      "chunk:   0%|       | 0/442 [00:00<?, ?it/s, now=None]\u001b[A\n",
      "chunk:  12%| | 52/442 [00:00<00:00, 519.97it/s, now=N\u001b[A\n",
      "chunk:  35%|▎| 153/442 [00:00<00:00, 803.46it/s, now=\u001b[A\n",
      "chunk:  61%|▌| 269/442 [00:00<00:00, 965.72it/s, now=\u001b[A\n",
      "chunk:  89%|▉| 393/442 [00:00<00:00, 1073.76it/s, now\u001b[A\n",
      "chunk:   7%| | 26/354 [02:42<00:11, 27.78it/s, now=No\u001b[A"
     ]
    },
    {
     "name": "stdout",
     "output_type": "stream",
     "text": [
      "MoviePy - Done.\n"
     ]
    },
    {
     "name": "stderr",
     "output_type": "stream",
     "text": [
      "chunk:   7%| | 26/354 [02:43<00:11, 27.78it/s, now=No"
     ]
    },
    {
     "name": "stdout",
     "output_type": "stream",
     "text": [
      "MoviePy - Writing audio in C:\\Users\\Welcome\\Dhairya-Python\\sarcasm detection\\audio_context\\1_1627_c.wav\n"
     ]
    },
    {
     "name": "stderr",
     "output_type": "stream",
     "text": [
      "\n",
      "chunk:   0%|       | 0/288 [00:00<?, ?it/s, now=None]\u001b[A\n",
      "chunk:  14%|▏| 41/288 [00:00<00:00, 409.98it/s, now=N\u001b[A\n",
      "chunk:  64%|▋| 183/288 [00:00<00:00, 1004.06it/s, now\u001b[A\n",
      "chunk:   7%| | 26/354 [02:43<00:11, 27.78it/s, now=No\u001b[A"
     ]
    },
    {
     "name": "stdout",
     "output_type": "stream",
     "text": [
      "MoviePy - Done.\n"
     ]
    },
    {
     "name": "stderr",
     "output_type": "stream",
     "text": [
      "chunk:   7%| | 26/354 [02:44<00:11, 27.78it/s, now=No"
     ]
    },
    {
     "name": "stdout",
     "output_type": "stream",
     "text": [
      "MoviePy - Writing audio in C:\\Users\\Welcome\\Dhairya-Python\\sarcasm detection\\audio_context\\1_162_c.wav\n"
     ]
    },
    {
     "name": "stderr",
     "output_type": "stream",
     "text": [
      "\n",
      "chunk:   0%|       | 0/486 [00:00<?, ?it/s, now=None]\u001b[A\n",
      "chunk:   9%| | 43/486 [00:00<00:01, 429.98it/s, now=N\u001b[A\n",
      "chunk:  18%|▏| 86/486 [00:00<00:01, 354.83it/s, now=N\u001b[A\n",
      "chunk:  42%|▍| 204/486 [00:00<00:00, 668.09it/s, now=\u001b[A\n",
      "chunk:  66%|▋| 320/486 [00:00<00:00, 845.50it/s, now=\u001b[A\n",
      "chunk:  84%|▊| 408/486 [00:00<00:00, 724.22it/s, now=\u001b[A\n",
      "chunk:   7%| | 26/354 [02:44<00:11, 27.78it/s, now=No\u001b[A"
     ]
    },
    {
     "name": "stdout",
     "output_type": "stream",
     "text": [
      "MoviePy - Done.\n"
     ]
    },
    {
     "name": "stderr",
     "output_type": "stream",
     "text": [
      "chunk:   7%| | 26/354 [02:45<00:11, 27.78it/s, now=No"
     ]
    },
    {
     "name": "stdout",
     "output_type": "stream",
     "text": [
      "MoviePy - Writing audio in C:\\Users\\Welcome\\Dhairya-Python\\sarcasm detection\\audio_context\\1_1638_c.wav\n"
     ]
    },
    {
     "name": "stderr",
     "output_type": "stream",
     "text": [
      "\n",
      "chunk:   0%|       | 0/332 [00:00<?, ?it/s, now=None]\u001b[A\n",
      "chunk:  18%|▏| 61/332 [00:00<00:00, 609.97it/s, now=N\u001b[A\n",
      "chunk:  60%|▌| 199/332 [00:00<00:00, 1062.88it/s, now\u001b[A\n",
      "chunk:  96%|▉| 320/332 [00:00<00:00, 1130.03it/s, now\u001b[A\n",
      "chunk:   7%| | 26/354 [02:45<00:11, 27.78it/s, now=No\u001b[A"
     ]
    },
    {
     "name": "stdout",
     "output_type": "stream",
     "text": [
      "MoviePy - Done.\n"
     ]
    },
    {
     "name": "stderr",
     "output_type": "stream",
     "text": [
      "chunk:   7%| | 26/354 [02:45<00:11, 27.78it/s, now=No"
     ]
    },
    {
     "name": "stdout",
     "output_type": "stream",
     "text": [
      "MoviePy - Writing audio in C:\\Users\\Welcome\\Dhairya-Python\\sarcasm detection\\audio_context\\1_1666_c.wav\n"
     ]
    },
    {
     "name": "stderr",
     "output_type": "stream",
     "text": [
      "\n",
      "chunk:   0%|       | 0/464 [00:00<?, ?it/s, now=None]\u001b[A\n",
      "chunk:   6%| | 26/464 [00:00<00:01, 259.98it/s, now=N\u001b[A\n",
      "chunk:  27%|▎| 124/464 [00:00<00:00, 683.49it/s, now=\u001b[A\n",
      "chunk:  48%|▍| 223/464 [00:00<00:00, 823.42it/s, now=\u001b[A\n",
      "chunk:  69%|▋| 322/464 [00:00<00:00, 889.16it/s, now=\u001b[A\n",
      "chunk:  99%|▉| 459/464 [00:00<00:00, 1043.71it/s, now\u001b[A\n",
      "chunk:   7%| | 26/354 [02:46<00:11, 27.78it/s, now=No\u001b[A"
     ]
    },
    {
     "name": "stdout",
     "output_type": "stream",
     "text": [
      "MoviePy - Done.\n"
     ]
    },
    {
     "name": "stderr",
     "output_type": "stream",
     "text": [
      "chunk:   7%| | 26/354 [02:47<00:11, 27.78it/s, now=No"
     ]
    },
    {
     "name": "stdout",
     "output_type": "stream",
     "text": [
      "MoviePy - Writing audio in C:\\Users\\Welcome\\Dhairya-Python\\sarcasm detection\\audio_context\\1_1678_c.wav\n"
     ]
    },
    {
     "name": "stderr",
     "output_type": "stream",
     "text": [
      "\n",
      "chunk:   0%|       | 0/464 [00:00<?, ?it/s, now=None]\u001b[A\n",
      "chunk:   9%| | 41/464 [00:00<00:01, 409.98it/s, now=N\u001b[A\n",
      "chunk:  44%|▍| 204/464 [00:00<00:00, 1082.99it/s, now\u001b[A\n",
      "chunk:  77%|▊| 357/464 [00:00<00:00, 1227.76it/s, now\u001b[A\n",
      "chunk:   7%| | 26/354 [02:47<00:11, 27.78it/s, now=No\u001b[A"
     ]
    },
    {
     "name": "stdout",
     "output_type": "stream",
     "text": [
      "MoviePy - Done.\n"
     ]
    },
    {
     "name": "stderr",
     "output_type": "stream",
     "text": [
      "chunk:   7%| | 26/354 [02:48<00:11, 27.78it/s, now=No"
     ]
    },
    {
     "name": "stdout",
     "output_type": "stream",
     "text": [
      "MoviePy - Writing audio in C:\\Users\\Welcome\\Dhairya-Python\\sarcasm detection\\audio_context\\1_1722_c.wav\n"
     ]
    },
    {
     "name": "stderr",
     "output_type": "stream",
     "text": [
      "\n",
      "chunk:   0%|       | 0/332 [00:00<?, ?it/s, now=None]\u001b[A\n",
      "chunk:  16%|▏| 53/332 [00:00<00:00, 529.97it/s, now=N\u001b[A\n",
      "chunk:  60%|▌| 198/332 [00:00<00:00, 1071.12it/s, now\u001b[A\n",
      "chunk:  93%|▉| 308/332 [00:00<00:00, 1084.27it/s, now\u001b[A\n",
      "chunk:   7%| | 26/354 [02:48<00:11, 27.78it/s, now=No\u001b[A"
     ]
    },
    {
     "name": "stdout",
     "output_type": "stream",
     "text": [
      "MoviePy - Done.\n"
     ]
    },
    {
     "name": "stderr",
     "output_type": "stream",
     "text": [
      "chunk:   7%| | 26/354 [02:49<00:11, 27.78it/s, now=No"
     ]
    },
    {
     "name": "stdout",
     "output_type": "stream",
     "text": [
      "MoviePy - Writing audio in C:\\Users\\Welcome\\Dhairya-Python\\sarcasm detection\\audio_context\\1_1732_c.wav\n"
     ]
    },
    {
     "name": "stderr",
     "output_type": "stream",
     "text": [
      "\n",
      "chunk:   0%|       | 0/420 [00:00<?, ?it/s, now=None]\u001b[A\n",
      "chunk:  10%| | 43/420 [00:00<00:00, 429.98it/s, now=N\u001b[A\n",
      "chunk:  45%|▍| 187/420 [00:00<00:00, 1024.06it/s, now\u001b[A\n",
      "chunk:  72%|▋| 303/420 [00:00<00:00, 1086.10it/s, now\u001b[A\n",
      "chunk:  98%|▉| 413/420 [00:00<00:00, 1042.19it/s, now\u001b[A\n",
      "chunk:   7%| | 26/354 [02:49<00:11, 27.78it/s, now=No\u001b[A"
     ]
    },
    {
     "name": "stdout",
     "output_type": "stream",
     "text": [
      "MoviePy - Done.\n"
     ]
    },
    {
     "name": "stderr",
     "output_type": "stream",
     "text": [
      "chunk:   7%| | 26/354 [02:50<00:11, 27.78it/s, now=No"
     ]
    },
    {
     "name": "stdout",
     "output_type": "stream",
     "text": [
      "MoviePy - Writing audio in C:\\Users\\Welcome\\Dhairya-Python\\sarcasm detection\\audio_context\\1_175_c.wav\n"
     ]
    },
    {
     "name": "stderr",
     "output_type": "stream",
     "text": [
      "\n",
      "chunk:   0%|       | 0/332 [00:00<?, ?it/s, now=None]\u001b[A\n",
      "chunk:  16%|▏| 54/332 [00:00<00:00, 539.97it/s, now=N\u001b[A\n",
      "chunk:  56%|▌| 185/332 [00:00<00:00, 992.89it/s, now=\u001b[A\n",
      "chunk:  89%|▉| 295/332 [00:00<00:00, 1041.77it/s, now\u001b[A\n",
      "chunk:   7%| | 26/354 [02:50<00:11, 27.78it/s, now=No\u001b[A"
     ]
    },
    {
     "name": "stdout",
     "output_type": "stream",
     "text": [
      "MoviePy - Done.\n"
     ]
    },
    {
     "name": "stderr",
     "output_type": "stream",
     "text": [
      "chunk:   7%| | 26/354 [02:51<00:11, 27.78it/s, now=No"
     ]
    },
    {
     "name": "stdout",
     "output_type": "stream",
     "text": [
      "MoviePy - Writing audio in C:\\Users\\Welcome\\Dhairya-Python\\sarcasm detection\\audio_context\\1_1772_c.wav\n"
     ]
    },
    {
     "name": "stderr",
     "output_type": "stream",
     "text": [
      "\n",
      "chunk:   0%|       | 0/508 [00:00<?, ?it/s, now=None]\u001b[A\n",
      "chunk:   9%| | 46/508 [00:00<00:01, 459.97it/s, now=N\u001b[A\n",
      "chunk:  35%|▎| 180/508 [00:00<00:00, 977.59it/s, now=\u001b[A\n",
      "chunk:  60%|▌| 306/508 [00:00<00:00, 1049.03it/s, now\u001b[A\n",
      "chunk:  88%|▉| 445/508 [00:00<00:00, 1179.29it/s, now\u001b[A\n",
      "chunk:   7%| | 26/354 [02:51<00:11, 27.78it/s, now=No\u001b[A"
     ]
    },
    {
     "name": "stdout",
     "output_type": "stream",
     "text": [
      "MoviePy - Done.\n"
     ]
    },
    {
     "name": "stderr",
     "output_type": "stream",
     "text": [
      "chunk:   7%| | 26/354 [02:52<00:11, 27.78it/s, now=No"
     ]
    },
    {
     "name": "stdout",
     "output_type": "stream",
     "text": [
      "MoviePy - Writing audio in C:\\Users\\Welcome\\Dhairya-Python\\sarcasm detection\\audio_context\\1_1798_c.wav\n"
     ]
    },
    {
     "name": "stderr",
     "output_type": "stream",
     "text": [
      "\n",
      "chunk:   0%|       | 0/420 [00:00<?, ?it/s, now=None]\u001b[A\n",
      "chunk:  10%| | 44/420 [00:00<00:00, 439.98it/s, now=N\u001b[A\n",
      "chunk:  40%|▍| 168/420 [00:00<00:00, 910.54it/s, now=\u001b[A\n",
      "chunk:  72%|▋| 303/420 [00:00<00:00, 1111.17it/s, now\u001b[A\n",
      "chunk:  99%|▉| 415/420 [00:00<00:00, 1097.30it/s, now\u001b[A\n",
      "chunk:   7%| | 26/354 [02:52<00:11, 27.78it/s, now=No\u001b[A"
     ]
    },
    {
     "name": "stdout",
     "output_type": "stream",
     "text": [
      "MoviePy - Done.\n"
     ]
    },
    {
     "name": "stderr",
     "output_type": "stream",
     "text": [
      "chunk:   7%| | 26/354 [02:53<00:11, 27.78it/s, now=No"
     ]
    },
    {
     "name": "stdout",
     "output_type": "stream",
     "text": [
      "MoviePy - Writing audio in C:\\Users\\Welcome\\Dhairya-Python\\sarcasm detection\\audio_context\\1_1803_c.wav\n"
     ]
    },
    {
     "name": "stderr",
     "output_type": "stream",
     "text": [
      "\n",
      "chunk:   0%|       | 0/376 [00:00<?, ?it/s, now=None]\u001b[A\n",
      "chunk:   8%| | 31/376 [00:00<00:01, 309.98it/s, now=N\u001b[A\n",
      "chunk:  45%|▍| 169/376 [00:00<00:00, 939.36it/s, now=\u001b[A\n",
      "chunk:  81%|▊| 303/376 [00:00<00:00, 1122.26it/s, now\u001b[A\n",
      "chunk:   7%| | 26/354 [02:53<00:11, 27.78it/s, now=No\u001b[A"
     ]
    },
    {
     "name": "stdout",
     "output_type": "stream",
     "text": [
      "MoviePy - Done.\n"
     ]
    },
    {
     "name": "stderr",
     "output_type": "stream",
     "text": [
      "chunk:   7%| | 26/354 [02:53<00:11, 27.78it/s, now=No"
     ]
    },
    {
     "name": "stdout",
     "output_type": "stream",
     "text": [
      "MoviePy - Writing audio in C:\\Users\\Welcome\\Dhairya-Python\\sarcasm detection\\audio_context\\1_182_c.wav\n"
     ]
    },
    {
     "name": "stderr",
     "output_type": "stream",
     "text": [
      "\n",
      "chunk:   0%|       | 0/288 [00:00<?, ?it/s, now=None]\u001b[A\n",
      "chunk:  10%| | 29/288 [00:00<00:00, 289.98it/s, now=N\u001b[A\n",
      "chunk:  53%|▌| 154/288 [00:00<00:00, 854.66it/s, now=\u001b[A\n",
      "chunk:  97%|▉| 278/288 [00:00<00:00, 1030.58it/s, now\u001b[A\n",
      "chunk:   7%| | 26/354 [02:54<00:11, 27.78it/s, now=No\u001b[A"
     ]
    },
    {
     "name": "stdout",
     "output_type": "stream",
     "text": [
      "MoviePy - Done.\n"
     ]
    },
    {
     "name": "stderr",
     "output_type": "stream",
     "text": [
      "chunk:   7%| | 26/354 [02:54<00:11, 27.78it/s, now=No"
     ]
    },
    {
     "name": "stdout",
     "output_type": "stream",
     "text": [
      "MoviePy - Writing audio in C:\\Users\\Welcome\\Dhairya-Python\\sarcasm detection\\audio_context\\1_1931_c.wav\n"
     ]
    },
    {
     "name": "stderr",
     "output_type": "stream",
     "text": [
      "\n",
      "chunk:   0%|       | 0/464 [00:00<?, ?it/s, now=None]\u001b[A\n",
      "chunk:  12%| | 55/464 [00:00<00:00, 549.97it/s, now=N\u001b[A\n",
      "chunk:  44%|▍| 204/464 [00:00<00:00, 1018.96it/s, now\u001b[A\n",
      "chunk:  68%|▋| 315/464 [00:00<00:00, 1058.73it/s, now\u001b[A\n",
      "chunk:  91%|▉| 420/464 [00:00<00:00, 1039.37it/s, now\u001b[A\n",
      "chunk:   7%| | 26/354 [02:55<00:11, 27.78it/s, now=No\u001b[A"
     ]
    },
    {
     "name": "stdout",
     "output_type": "stream",
     "text": [
      "MoviePy - Done.\n"
     ]
    },
    {
     "name": "stderr",
     "output_type": "stream",
     "text": [
      "chunk:   7%| | 26/354 [02:55<00:11, 27.78it/s, now=No"
     ]
    },
    {
     "name": "stdout",
     "output_type": "stream",
     "text": [
      "MoviePy - Writing audio in C:\\Users\\Welcome\\Dhairya-Python\\sarcasm detection\\audio_context\\1_1973_c.wav\n"
     ]
    },
    {
     "name": "stderr",
     "output_type": "stream",
     "text": [
      "\n",
      "chunk:   0%|       | 0/442 [00:00<?, ?it/s, now=None]\u001b[A\n",
      "chunk:  12%| | 51/442 [00:00<00:00, 509.97it/s, now=N\u001b[A\n",
      "chunk:  43%|▍| 192/442 [00:00<00:00, 1039.35it/s, now\u001b[A\n",
      "chunk:  67%|▋| 296/442 [00:00<00:00, 1007.42it/s, now\u001b[A\n",
      "chunk:  92%|▉| 408/442 [00:00<00:00, 1019.41it/s, now\u001b[A\n",
      "chunk:   7%| | 26/354 [02:56<00:11, 27.78it/s, now=No\u001b[A"
     ]
    },
    {
     "name": "stdout",
     "output_type": "stream",
     "text": [
      "MoviePy - Done.\n"
     ]
    },
    {
     "name": "stderr",
     "output_type": "stream",
     "text": [
      "chunk:   7%| | 26/354 [02:56<00:11, 27.78it/s, now=No"
     ]
    },
    {
     "name": "stdout",
     "output_type": "stream",
     "text": [
      "MoviePy - Writing audio in C:\\Users\\Welcome\\Dhairya-Python\\sarcasm detection\\audio_context\\1_1987_c.wav\n"
     ]
    },
    {
     "name": "stderr",
     "output_type": "stream",
     "text": [
      "\n",
      "chunk:   0%|       | 0/398 [00:00<?, ?it/s, now=None]\u001b[A\n",
      "chunk:  13%|▏| 51/398 [00:00<00:00, 509.97it/s, now=N\u001b[A\n",
      "chunk:  48%|▍| 190/398 [00:00<00:00, 1027.59it/s, now\u001b[A\n",
      "chunk:  77%|▊| 306/398 [00:00<00:00, 1049.68it/s, now\u001b[A\n",
      "chunk:   7%| | 26/354 [02:56<00:11, 27.78it/s, now=No\u001b[A"
     ]
    },
    {
     "name": "stdout",
     "output_type": "stream",
     "text": [
      "MoviePy - Done.\n"
     ]
    },
    {
     "name": "stderr",
     "output_type": "stream",
     "text": [
      "chunk:   7%| | 26/354 [02:57<00:11, 27.78it/s, now=No"
     ]
    },
    {
     "name": "stdout",
     "output_type": "stream",
     "text": [
      "MoviePy - Writing audio in C:\\Users\\Welcome\\Dhairya-Python\\sarcasm detection\\audio_context\\1_2075_c.wav\n"
     ]
    },
    {
     "name": "stderr",
     "output_type": "stream",
     "text": [
      "\n",
      "chunk:   0%|       | 0/398 [00:00<?, ?it/s, now=None]\u001b[A\n",
      "chunk:   9%| | 34/398 [00:00<00:01, 339.98it/s, now=N\u001b[A\n",
      "chunk:  45%|▍| 179/398 [00:00<00:00, 992.88it/s, now=\u001b[A\n",
      "chunk:  70%|▋| 280/398 [00:00<00:00, 991.62it/s, now=\u001b[A\n",
      "chunk:   7%| | 26/354 [02:57<00:11, 27.78it/s, now=No\u001b[A"
     ]
    },
    {
     "name": "stdout",
     "output_type": "stream",
     "text": [
      "MoviePy - Done.\n"
     ]
    },
    {
     "name": "stderr",
     "output_type": "stream",
     "text": [
      "chunk:   7%| | 26/354 [02:58<00:11, 27.78it/s, now=No"
     ]
    },
    {
     "name": "stdout",
     "output_type": "stream",
     "text": [
      "MoviePy - Writing audio in C:\\Users\\Welcome\\Dhairya-Python\\sarcasm detection\\audio_context\\1_2119_c.wav\n"
     ]
    },
    {
     "name": "stderr",
     "output_type": "stream",
     "text": [
      "\n",
      "chunk:   0%|       | 0/464 [00:00<?, ?it/s, now=None]\u001b[A\n",
      "chunk:  11%| | 51/464 [00:00<00:00, 509.97it/s, now=N\u001b[A\n",
      "chunk:  39%|▍| 179/464 [00:00<00:00, 962.89it/s, now=\u001b[A\n",
      "chunk:  63%|▋| 291/464 [00:00<00:00, 1034.60it/s, now\u001b[A\n",
      "chunk:  85%|▊| 396/464 [00:00<00:00, 838.68it/s, now=\u001b[A\n",
      "chunk:   7%| | 26/354 [02:58<00:11, 27.78it/s, now=No\u001b[A"
     ]
    },
    {
     "name": "stdout",
     "output_type": "stream",
     "text": [
      "MoviePy - Done.\n"
     ]
    },
    {
     "name": "stderr",
     "output_type": "stream",
     "text": [
      "chunk:   7%| | 26/354 [02:59<00:11, 27.78it/s, now=No"
     ]
    },
    {
     "name": "stdout",
     "output_type": "stream",
     "text": [
      "MoviePy - Writing audio in C:\\Users\\Welcome\\Dhairya-Python\\sarcasm detection\\audio_context\\1_213_c.wav\n"
     ]
    },
    {
     "name": "stderr",
     "output_type": "stream",
     "text": [
      "\n",
      "chunk:   0%|       | 0/442 [00:00<?, ?it/s, now=None]\u001b[A\n",
      "chunk:   7%| | 29/442 [00:00<00:01, 256.62it/s, now=N\u001b[A\n",
      "chunk:  35%|▎| 153/442 [00:00<00:00, 755.06it/s, now=\u001b[A\n",
      "chunk:  63%|▋| 278/442 [00:00<00:00, 966.75it/s, now=\u001b[A\n",
      "chunk:  86%|▊| 380/442 [00:00<00:00, 986.93it/s, now=\u001b[A\n",
      "chunk:   7%| | 26/354 [03:00<00:11, 27.78it/s, now=No\u001b[A"
     ]
    },
    {
     "name": "stdout",
     "output_type": "stream",
     "text": [
      "MoviePy - Done.\n"
     ]
    },
    {
     "name": "stderr",
     "output_type": "stream",
     "text": [
      "chunk:   7%| | 26/354 [03:00<00:11, 27.78it/s, now=No"
     ]
    },
    {
     "name": "stdout",
     "output_type": "stream",
     "text": [
      "MoviePy - Writing audio in C:\\Users\\Welcome\\Dhairya-Python\\sarcasm detection\\audio_context\\1_2198_c.wav\n"
     ]
    },
    {
     "name": "stderr",
     "output_type": "stream",
     "text": [
      "\n",
      "chunk:   0%|       | 0/486 [00:00<?, ?it/s, now=None]\u001b[A\n",
      "chunk:  14%|▏| 66/486 [00:00<00:00, 659.96it/s, now=N\u001b[A\n",
      "chunk:  42%|▍| 204/486 [00:00<00:00, 1040.62it/s, now\u001b[A\n",
      "chunk:  63%|▋| 308/486 [00:00<00:00, 947.24it/s, now=\u001b[A\n",
      "chunk:  84%|▊| 408/486 [00:00<00:00, 945.76it/s, now=\u001b[A\n",
      "chunk:   7%| | 26/354 [03:01<00:11, 27.78it/s, now=No\u001b[A"
     ]
    },
    {
     "name": "stdout",
     "output_type": "stream",
     "text": [
      "MoviePy - Done.\n"
     ]
    },
    {
     "name": "stderr",
     "output_type": "stream",
     "text": [
      "chunk:   7%| | 26/354 [03:01<00:11, 27.78it/s, now=No"
     ]
    },
    {
     "name": "stdout",
     "output_type": "stream",
     "text": [
      "MoviePy - Writing audio in C:\\Users\\Welcome\\Dhairya-Python\\sarcasm detection\\audio_context\\1_2216_c.wav\n"
     ]
    },
    {
     "name": "stderr",
     "output_type": "stream",
     "text": [
      "\n",
      "chunk:   0%|       | 0/486 [00:00<?, ?it/s, now=None]\u001b[A\n",
      "chunk:   6%| | 29/486 [00:00<00:01, 287.11it/s, now=N\u001b[A\n",
      "chunk:  31%|▎| 153/486 [00:00<00:00, 816.59it/s, now=\u001b[A\n",
      "chunk:  54%|▌| 263/486 [00:00<00:00, 943.26it/s, now=\u001b[A\n",
      "chunk:  80%|▊| 390/486 [00:00<00:00, 1070.57it/s, now\u001b[A\n",
      "chunk:   7%| | 26/354 [03:02<00:11, 27.78it/s, now=No\u001b[A"
     ]
    },
    {
     "name": "stdout",
     "output_type": "stream",
     "text": [
      "MoviePy - Done.\n"
     ]
    },
    {
     "name": "stderr",
     "output_type": "stream",
     "text": [
      "chunk:   7%| | 26/354 [03:02<00:11, 27.78it/s, now=No"
     ]
    },
    {
     "name": "stdout",
     "output_type": "stream",
     "text": [
      "MoviePy - Writing audio in C:\\Users\\Welcome\\Dhairya-Python\\sarcasm detection\\audio_context\\1_2354_c.wav\n"
     ]
    },
    {
     "name": "stderr",
     "output_type": "stream",
     "text": [
      "\n",
      "chunk:   0%|       | 0/442 [00:00<?, ?it/s, now=None]\u001b[A\n",
      "chunk:   7%| | 30/442 [00:00<00:01, 299.98it/s, now=N\u001b[A\n",
      "chunk:  35%|▎| 153/442 [00:00<00:00, 822.81it/s, now=\u001b[A\n",
      "chunk:  69%|▋| 306/442 [00:00<00:00, 1101.02it/s, now\u001b[A\n",
      "chunk:   7%| | 26/354 [03:03<00:11, 27.78it/s, now=No\u001b[A"
     ]
    },
    {
     "name": "stdout",
     "output_type": "stream",
     "text": [
      "MoviePy - Done.\n"
     ]
    },
    {
     "name": "stderr",
     "output_type": "stream",
     "text": [
      "chunk:   7%| | 26/354 [03:03<00:11, 27.78it/s, now=No"
     ]
    },
    {
     "name": "stdout",
     "output_type": "stream",
     "text": [
      "MoviePy - Writing audio in C:\\Users\\Welcome\\Dhairya-Python\\sarcasm detection\\audio_context\\1_2361_c.wav\n"
     ]
    },
    {
     "name": "stderr",
     "output_type": "stream",
     "text": [
      "\n",
      "chunk:   0%|       | 0/508 [00:00<?, ?it/s, now=None]\u001b[A\n",
      "chunk:  14%|▏| 69/508 [00:00<00:00, 689.96it/s, now=N\u001b[A\n",
      "chunk:  40%|▍| 204/508 [00:00<00:00, 1053.39it/s, now\u001b[A\n",
      "chunk:  68%|▋| 345/508 [00:00<00:00, 1214.13it/s, now\u001b[A\n",
      "chunk:  93%|▉| 471/508 [00:00<00:00, 1232.07it/s, now\u001b[A\n",
      "chunk:   7%| | 26/354 [03:04<00:11, 27.78it/s, now=No\u001b[A"
     ]
    },
    {
     "name": "stdout",
     "output_type": "stream",
     "text": [
      "MoviePy - Done.\n"
     ]
    },
    {
     "name": "stderr",
     "output_type": "stream",
     "text": [
      "chunk:   7%| | 26/354 [03:04<00:11, 27.78it/s, now=No"
     ]
    },
    {
     "name": "stdout",
     "output_type": "stream",
     "text": [
      "MoviePy - Writing audio in C:\\Users\\Welcome\\Dhairya-Python\\sarcasm detection\\audio_context\\1_2420_c.wav\n"
     ]
    },
    {
     "name": "stderr",
     "output_type": "stream",
     "text": [
      "\n",
      "chunk:   0%|       | 0/442 [00:00<?, ?it/s, now=None]\u001b[A\n",
      "chunk:  12%| | 51/442 [00:00<00:00, 509.97it/s, now=N\u001b[A\n",
      "chunk:  43%|▍| 188/442 [00:00<00:00, 1015.82it/s, now\u001b[A\n",
      "chunk:  69%|▋| 306/442 [00:00<00:00, 1047.70it/s, now\u001b[A\n",
      "chunk: 100%|█| 442/442 [00:00<00:00, 1163.49it/s, now\u001b[A\n",
      "chunk:   7%| | 26/354 [03:05<00:11, 27.78it/s, now=No\u001b[A"
     ]
    },
    {
     "name": "stdout",
     "output_type": "stream",
     "text": [
      "MoviePy - Done.\n"
     ]
    },
    {
     "name": "stderr",
     "output_type": "stream",
     "text": [
      "chunk:   7%| | 26/354 [03:05<00:11, 27.78it/s, now=No"
     ]
    },
    {
     "name": "stdout",
     "output_type": "stream",
     "text": [
      "MoviePy - Writing audio in C:\\Users\\Welcome\\Dhairya-Python\\sarcasm detection\\audio_context\\1_2423_c.wav\n"
     ]
    },
    {
     "name": "stderr",
     "output_type": "stream",
     "text": [
      "\n",
      "chunk:   0%|       | 0/376 [00:00<?, ?it/s, now=None]\u001b[A\n",
      "chunk:  16%|▏| 62/376 [00:00<00:00, 619.97it/s, now=N\u001b[A\n",
      "chunk:  53%|▌| 200/376 [00:00<00:00, 1067.00it/s, now\u001b[A\n",
      "chunk:  82%|▊| 308/376 [00:00<00:00, 1026.05it/s, now\u001b[A\n",
      "chunk:   7%| | 26/354 [03:06<00:11, 27.78it/s, now=No\u001b[A"
     ]
    },
    {
     "name": "stdout",
     "output_type": "stream",
     "text": [
      "MoviePy - Done.\n"
     ]
    },
    {
     "name": "stderr",
     "output_type": "stream",
     "text": [
      "chunk:   7%| | 26/354 [03:06<00:11, 27.78it/s, now=No"
     ]
    },
    {
     "name": "stdout",
     "output_type": "stream",
     "text": [
      "MoviePy - Writing audio in C:\\Users\\Welcome\\Dhairya-Python\\sarcasm detection\\audio_context\\1_2464_c.wav\n"
     ]
    },
    {
     "name": "stderr",
     "output_type": "stream",
     "text": [
      "\n",
      "chunk:   0%|       | 0/464 [00:00<?, ?it/s, now=None]\u001b[A\n",
      "chunk:   9%| | 40/464 [00:00<00:01, 399.98it/s, now=N\u001b[A\n",
      "chunk:  38%|▍| 176/464 [00:00<00:00, 964.65it/s, now=\u001b[A\n",
      "chunk:  66%|▋| 306/464 [00:00<00:00, 1064.29it/s, now\u001b[A\n",
      "chunk:  98%|▉| 454/464 [00:00<00:00, 1223.53it/s, now\u001b[A\n",
      "chunk:   7%| | 26/354 [03:07<00:11, 27.78it/s, now=No\u001b[A"
     ]
    },
    {
     "name": "stdout",
     "output_type": "stream",
     "text": [
      "MoviePy - Done.\n"
     ]
    },
    {
     "name": "stderr",
     "output_type": "stream",
     "text": [
      "chunk:   7%| | 26/354 [03:07<00:11, 27.78it/s, now=No"
     ]
    },
    {
     "name": "stdout",
     "output_type": "stream",
     "text": [
      "MoviePy - Writing audio in C:\\Users\\Welcome\\Dhairya-Python\\sarcasm detection\\audio_context\\1_2575_c.wav\n"
     ]
    },
    {
     "name": "stderr",
     "output_type": "stream",
     "text": [
      "\n",
      "chunk:   0%|       | 0/420 [00:00<?, ?it/s, now=None]\u001b[A\n",
      "chunk:  20%|▏| 82/420 [00:00<00:00, 819.95it/s, now=N\u001b[A\n",
      "chunk:  52%|▌| 218/420 [00:00<00:00, 1137.58it/s, now\u001b[A\n",
      "chunk:  85%|▊| 357/420 [00:00<00:00, 1224.84it/s, now\u001b[A\n",
      "chunk:   7%| | 26/354 [03:07<00:11, 27.78it/s, now=No\u001b[A"
     ]
    },
    {
     "name": "stdout",
     "output_type": "stream",
     "text": [
      "MoviePy - Done.\n"
     ]
    },
    {
     "name": "stderr",
     "output_type": "stream",
     "text": [
      "chunk:   7%| | 26/354 [03:08<00:11, 27.78it/s, now=No"
     ]
    },
    {
     "name": "stdout",
     "output_type": "stream",
     "text": [
      "MoviePy - Writing audio in C:\\Users\\Welcome\\Dhairya-Python\\sarcasm detection\\audio_context\\1_2580_c.wav\n"
     ]
    },
    {
     "name": "stderr",
     "output_type": "stream",
     "text": [
      "\n",
      "chunk:   0%|       | 0/464 [00:00<?, ?it/s, now=None]\u001b[A\n",
      "chunk:   9%| | 40/464 [00:00<00:01, 399.98it/s, now=N\u001b[A\n",
      "chunk:  37%|▎| 171/464 [00:00<00:00, 935.24it/s, now=\u001b[A\n",
      "chunk:  57%|▌| 265/464 [00:00<00:00, 912.39it/s, now=\u001b[A\n",
      "chunk:  87%|▊| 402/464 [00:00<00:00, 1090.07it/s, now\u001b[A\n",
      "chunk:   7%| | 26/354 [03:08<00:11, 27.78it/s, now=No\u001b[A"
     ]
    },
    {
     "name": "stdout",
     "output_type": "stream",
     "text": [
      "MoviePy - Done.\n"
     ]
    },
    {
     "name": "stderr",
     "output_type": "stream",
     "text": [
      "chunk:   7%| | 26/354 [03:09<00:11, 27.78it/s, now=No"
     ]
    },
    {
     "name": "stdout",
     "output_type": "stream",
     "text": [
      "MoviePy - Writing audio in C:\\Users\\Welcome\\Dhairya-Python\\sarcasm detection\\audio_context\\1_2614_c.wav\n"
     ]
    },
    {
     "name": "stderr",
     "output_type": "stream",
     "text": [
      "\n",
      "chunk:   0%|       | 0/486 [00:00<?, ?it/s, now=None]\u001b[A\n",
      "chunk:   8%| | 39/486 [00:00<00:01, 389.98it/s, now=N\u001b[A\n",
      "chunk:  36%|▎| 177/486 [00:00<00:00, 972.30it/s, now=\u001b[A\n",
      "chunk:  61%|▌| 298/486 [00:00<00:00, 1080.81it/s, now\u001b[A\n",
      "chunk:  84%|▊| 408/486 [00:00<00:00, 1079.83it/s, now\u001b[A\n",
      "chunk:   7%| | 26/354 [03:09<00:11, 27.78it/s, now=No\u001b[A"
     ]
    },
    {
     "name": "stdout",
     "output_type": "stream",
     "text": [
      "MoviePy - Done.\n"
     ]
    },
    {
     "name": "stderr",
     "output_type": "stream",
     "text": [
      "chunk:   7%| | 26/354 [03:10<00:11, 27.78it/s, now=No"
     ]
    },
    {
     "name": "stdout",
     "output_type": "stream",
     "text": [
      "MoviePy - Writing audio in C:\\Users\\Welcome\\Dhairya-Python\\sarcasm detection\\audio_context\\1_2616_c.wav\n"
     ]
    },
    {
     "name": "stderr",
     "output_type": "stream",
     "text": [
      "\n",
      "chunk:   0%|       | 0/486 [00:00<?, ?it/s, now=None]\u001b[A\n",
      "chunk:   9%| | 44/486 [00:00<00:01, 439.98it/s, now=N\u001b[A\n",
      "chunk:  42%|▍| 203/486 [00:00<00:00, 1116.41it/s, now\u001b[A\n",
      "chunk:  67%|▋| 324/486 [00:00<00:00, 1159.11it/s, now\u001b[A\n",
      "chunk:  94%|▉| 459/486 [00:00<00:00, 1219.99it/s, now\u001b[A\n",
      "chunk:   7%| | 26/354 [03:10<00:11, 27.78it/s, now=No\u001b[A"
     ]
    },
    {
     "name": "stdout",
     "output_type": "stream",
     "text": [
      "MoviePy - Done.\n"
     ]
    },
    {
     "name": "stderr",
     "output_type": "stream",
     "text": [
      "chunk:   7%| | 26/354 [03:11<00:11, 27.78it/s, now=No"
     ]
    },
    {
     "name": "stdout",
     "output_type": "stream",
     "text": [
      "MoviePy - Writing audio in C:\\Users\\Welcome\\Dhairya-Python\\sarcasm detection\\audio_context\\1_2664_c.wav\n"
     ]
    },
    {
     "name": "stderr",
     "output_type": "stream",
     "text": [
      "\n",
      "chunk:   0%|       | 0/464 [00:00<?, ?it/s, now=None]\u001b[A\n",
      "chunk:   8%| | 38/464 [00:00<00:01, 379.98it/s, now=N\u001b[A\n",
      "chunk:  39%|▍| 182/464 [00:00<00:00, 1003.47it/s, now\u001b[A\n",
      "chunk:  66%|▋| 306/464 [00:00<00:00, 1111.44it/s, now\u001b[A\n",
      "chunk:  99%|▉| 459/464 [00:00<00:00, 1261.71it/s, now\u001b[A\n",
      "chunk:   7%| | 26/354 [03:11<00:11, 27.78it/s, now=No\u001b[A"
     ]
    },
    {
     "name": "stdout",
     "output_type": "stream",
     "text": [
      "MoviePy - Done.\n"
     ]
    },
    {
     "name": "stderr",
     "output_type": "stream",
     "text": [
      "chunk:   7%| | 26/354 [03:12<00:11, 27.78it/s, now=No"
     ]
    },
    {
     "name": "stdout",
     "output_type": "stream",
     "text": [
      "MoviePy - Writing audio in C:\\Users\\Welcome\\Dhairya-Python\\sarcasm detection\\audio_context\\1_2669_c.wav\n"
     ]
    },
    {
     "name": "stderr",
     "output_type": "stream",
     "text": [
      "\n",
      "chunk:   0%|       | 0/486 [00:00<?, ?it/s, now=None]\u001b[A\n",
      "chunk:  11%| | 54/486 [00:00<00:00, 539.97it/s, now=N\u001b[A\n",
      "chunk:  42%|▍| 204/486 [00:00<00:00, 1037.51it/s, now\u001b[A\n",
      "chunk:  63%|▋| 306/486 [00:00<00:00, 1011.91it/s, now\u001b[A\n",
      "chunk:  94%|▉| 459/486 [00:00<00:00, 1169.74it/s, now\u001b[A\n",
      "chunk:   7%| | 26/354 [03:12<00:11, 27.78it/s, now=No\u001b[A"
     ]
    },
    {
     "name": "stdout",
     "output_type": "stream",
     "text": [
      "MoviePy - Done.\n"
     ]
    },
    {
     "name": "stderr",
     "output_type": "stream",
     "text": [
      "chunk:   7%| | 26/354 [03:12<00:11, 27.78it/s, now=No"
     ]
    },
    {
     "name": "stdout",
     "output_type": "stream",
     "text": [
      "MoviePy - Writing audio in C:\\Users\\Welcome\\Dhairya-Python\\sarcasm detection\\audio_context\\1_276_c.wav\n"
     ]
    },
    {
     "name": "stderr",
     "output_type": "stream",
     "text": [
      "\n",
      "chunk:   0%|       | 0/464 [00:00<?, ?it/s, now=None]\u001b[A\n",
      "chunk:  12%|▏| 58/464 [00:00<00:00, 579.97it/s, now=N\u001b[A\n",
      "chunk:  44%|▍| 204/464 [00:00<00:00, 1025.22it/s, now\u001b[A\n",
      "chunk:  74%|▋| 342/464 [00:00<00:00, 1181.20it/s, now\u001b[A\n",
      "chunk:   7%| | 26/354 [03:13<00:11, 27.78it/s, now=No\u001b[A"
     ]
    },
    {
     "name": "stdout",
     "output_type": "stream",
     "text": [
      "MoviePy - Done.\n"
     ]
    },
    {
     "name": "stderr",
     "output_type": "stream",
     "text": [
      "chunk:   7%| | 26/354 [03:13<00:11, 27.78it/s, now=No"
     ]
    },
    {
     "name": "stdout",
     "output_type": "stream",
     "text": [
      "MoviePy - Writing audio in C:\\Users\\Welcome\\Dhairya-Python\\sarcasm detection\\audio_context\\1_2778_c.wav\n"
     ]
    },
    {
     "name": "stderr",
     "output_type": "stream",
     "text": [
      "\n",
      "chunk:   0%|       | 0/442 [00:00<?, ?it/s, now=None]\u001b[A\n",
      "chunk:  14%|▏| 60/442 [00:00<00:00, 599.97it/s, now=N\u001b[A\n",
      "chunk:  46%|▍| 204/442 [00:00<00:00, 1039.05it/s, now\u001b[A\n",
      "chunk:  77%|▊| 339/442 [00:00<00:00, 1177.03it/s, now\u001b[A\n",
      "chunk:   7%| | 26/354 [03:14<00:11, 27.78it/s, now=No\u001b[A"
     ]
    },
    {
     "name": "stdout",
     "output_type": "stream",
     "text": [
      "MoviePy - Done.\n"
     ]
    },
    {
     "name": "stderr",
     "output_type": "stream",
     "text": [
      "chunk:   7%| | 26/354 [03:14<00:11, 27.78it/s, now=No"
     ]
    },
    {
     "name": "stdout",
     "output_type": "stream",
     "text": [
      "MoviePy - Writing audio in C:\\Users\\Welcome\\Dhairya-Python\\sarcasm detection\\audio_context\\1_2792_c.wav\n"
     ]
    },
    {
     "name": "stderr",
     "output_type": "stream",
     "text": [
      "\n",
      "chunk:   0%|       | 0/464 [00:00<?, ?it/s, now=None]\u001b[A\n",
      "chunk:  11%| | 52/464 [00:00<00:00, 519.97it/s, now=N\u001b[A\n",
      "chunk:  44%|▍| 204/464 [00:00<00:00, 1082.70it/s, now\u001b[A\n",
      "chunk:  77%|▊| 357/464 [00:00<00:00, 1239.62it/s, now\u001b[A\n",
      "chunk:   7%| | 26/354 [03:15<00:11, 27.78it/s, now=No\u001b[A"
     ]
    },
    {
     "name": "stdout",
     "output_type": "stream",
     "text": [
      "MoviePy - Done.\n"
     ]
    },
    {
     "name": "stderr",
     "output_type": "stream",
     "text": [
      "chunk:   7%| | 26/354 [03:15<00:11, 27.78it/s, now=No"
     ]
    },
    {
     "name": "stdout",
     "output_type": "stream",
     "text": [
      "MoviePy - Writing audio in C:\\Users\\Welcome\\Dhairya-Python\\sarcasm detection\\audio_context\\1_2797_c.wav\n"
     ]
    },
    {
     "name": "stderr",
     "output_type": "stream",
     "text": [
      "\n",
      "chunk:   0%|       | 0/442 [00:00<?, ?it/s, now=None]\u001b[A\n",
      "chunk:  12%| | 55/442 [00:00<00:00, 549.97it/s, now=N\u001b[A\n",
      "chunk:  46%|▍| 204/442 [00:00<00:00, 1090.05it/s, now\u001b[A\n",
      "chunk:  81%|▊| 357/442 [00:00<00:00, 1249.93it/s, now\u001b[A\n",
      "chunk:   7%| | 26/354 [03:15<00:11, 27.78it/s, now=No\u001b[A"
     ]
    },
    {
     "name": "stdout",
     "output_type": "stream",
     "text": [
      "MoviePy - Done.\n"
     ]
    },
    {
     "name": "stderr",
     "output_type": "stream",
     "text": [
      "chunk:   7%| | 26/354 [03:16<00:11, 27.78it/s, now=No"
     ]
    },
    {
     "name": "stdout",
     "output_type": "stream",
     "text": [
      "MoviePy - Writing audio in C:\\Users\\Welcome\\Dhairya-Python\\sarcasm detection\\audio_context\\1_2819_c.wav\n"
     ]
    },
    {
     "name": "stderr",
     "output_type": "stream",
     "text": [
      "\n",
      "chunk:   0%|       | 0/464 [00:00<?, ?it/s, now=None]\u001b[A\n",
      "chunk:  12%| | 55/464 [00:00<00:00, 549.97it/s, now=N\u001b[A\n",
      "chunk:  44%|▍| 204/464 [00:00<00:00, 1013.46it/s, now\u001b[A\n",
      "chunk:  77%|▊| 357/464 [00:00<00:00, 1167.28it/s, now\u001b[A\n",
      "chunk:   7%| | 26/354 [03:16<00:11, 27.78it/s, now=No\u001b[A"
     ]
    },
    {
     "name": "stdout",
     "output_type": "stream",
     "text": [
      "MoviePy - Done.\n"
     ]
    },
    {
     "name": "stderr",
     "output_type": "stream",
     "text": [
      "chunk:   7%| | 26/354 [03:17<00:11, 27.78it/s, now=No"
     ]
    },
    {
     "name": "stdout",
     "output_type": "stream",
     "text": [
      "MoviePy - Writing audio in C:\\Users\\Welcome\\Dhairya-Python\\sarcasm detection\\audio_context\\1_2830_c.wav\n"
     ]
    },
    {
     "name": "stderr",
     "output_type": "stream",
     "text": [
      "\n",
      "chunk:   0%|       | 0/376 [00:00<?, ?it/s, now=None]\u001b[A\n",
      "chunk:  14%|▏| 53/376 [00:00<00:00, 529.97it/s, now=N\u001b[A\n",
      "chunk:  54%|▌| 202/376 [00:00<00:00, 1094.64it/s, now\u001b[A\n",
      "chunk:  83%|▊| 313/376 [00:00<00:00, 1077.04it/s, now\u001b[A\n",
      "chunk:   7%| | 26/354 [03:17<00:11, 27.78it/s, now=No\u001b[A"
     ]
    },
    {
     "name": "stdout",
     "output_type": "stream",
     "text": [
      "MoviePy - Done.\n"
     ]
    },
    {
     "name": "stderr",
     "output_type": "stream",
     "text": [
      "chunk:   7%| | 26/354 [03:17<00:11, 27.78it/s, now=No"
     ]
    },
    {
     "name": "stdout",
     "output_type": "stream",
     "text": [
      "MoviePy - Writing audio in C:\\Users\\Welcome\\Dhairya-Python\\sarcasm detection\\audio_context\\1_2837_c.wav\n"
     ]
    },
    {
     "name": "stderr",
     "output_type": "stream",
     "text": [
      "\n",
      "chunk:   0%|       | 0/486 [00:00<?, ?it/s, now=None]\u001b[A\n",
      "chunk:  13%|▏| 61/486 [00:00<00:00, 609.96it/s, now=N\u001b[A\n",
      "chunk:  42%|▍| 204/486 [00:00<00:00, 1049.09it/s, now\u001b[A\n",
      "chunk:  73%|▋| 357/486 [00:00<00:00, 1194.49it/s, now\u001b[A\n",
      "chunk:   7%| | 26/354 [03:18<00:11, 27.78it/s, now=No\u001b[A"
     ]
    },
    {
     "name": "stdout",
     "output_type": "stream",
     "text": [
      "MoviePy - Done.\n"
     ]
    },
    {
     "name": "stderr",
     "output_type": "stream",
     "text": [
      "chunk:   7%| | 26/354 [03:18<00:11, 27.78it/s, now=No"
     ]
    },
    {
     "name": "stdout",
     "output_type": "stream",
     "text": [
      "MoviePy - Writing audio in C:\\Users\\Welcome\\Dhairya-Python\\sarcasm detection\\audio_context\\1_2842_c.wav\n"
     ]
    },
    {
     "name": "stderr",
     "output_type": "stream",
     "text": [
      "\n",
      "chunk:   0%|       | 0/464 [00:00<?, ?it/s, now=None]\u001b[A\n",
      "chunk:  12%| | 55/464 [00:00<00:00, 549.97it/s, now=N\u001b[A\n",
      "chunk:  42%|▍| 196/464 [00:00<00:00, 1055.82it/s, now\u001b[A\n",
      "chunk:  69%|▋| 320/464 [00:00<00:00, 1139.89it/s, now\u001b[A\n",
      "chunk:   7%| | 26/354 [03:19<00:11, 27.78it/s, now=No\u001b[A"
     ]
    },
    {
     "name": "stdout",
     "output_type": "stream",
     "text": [
      "MoviePy - Done.\n"
     ]
    },
    {
     "name": "stderr",
     "output_type": "stream",
     "text": [
      "chunk:   7%| | 26/354 [03:19<00:11, 27.78it/s, now=No"
     ]
    },
    {
     "name": "stdout",
     "output_type": "stream",
     "text": [
      "MoviePy - Writing audio in C:\\Users\\Welcome\\Dhairya-Python\\sarcasm detection\\audio_context\\1_2853_c.wav\n"
     ]
    },
    {
     "name": "stderr",
     "output_type": "stream",
     "text": [
      "\n",
      "chunk:   0%|       | 0/354 [00:00<?, ?it/s, now=None]\u001b[A\n",
      "chunk:   6%| | 22/354 [00:00<00:01, 219.99it/s, now=N\u001b[A\n",
      "chunk:  43%|▍| 153/354 [00:00<00:00, 817.83it/s, now=\u001b[A\n",
      "chunk:  86%|▊| 306/354 [00:00<00:00, 1085.70it/s, now\u001b[A\n",
      "chunk:   7%| | 26/354 [03:20<00:11, 27.78it/s, now=No\u001b[A"
     ]
    },
    {
     "name": "stdout",
     "output_type": "stream",
     "text": [
      "MoviePy - Done.\n"
     ]
    },
    {
     "name": "stderr",
     "output_type": "stream",
     "text": [
      "chunk:   7%| | 26/354 [03:20<00:11, 27.78it/s, now=No"
     ]
    },
    {
     "name": "stdout",
     "output_type": "stream",
     "text": [
      "MoviePy - Writing audio in C:\\Users\\Welcome\\Dhairya-Python\\sarcasm detection\\audio_context\\1_3064_c.wav\n"
     ]
    },
    {
     "name": "stderr",
     "output_type": "stream",
     "text": [
      "\n",
      "chunk:   0%|        | 0/89 [00:00<?, ?it/s, now=None]\u001b[A\n",
      "chunk:  16%|▏| 14/89 [00:00<00:00, 139.99it/s, now=No\u001b[A\n",
      "chunk:   7%| | 26/354 [03:21<00:11, 27.78it/s, now=No\u001b[A"
     ]
    },
    {
     "name": "stdout",
     "output_type": "stream",
     "text": [
      "MoviePy - Done.\n"
     ]
    },
    {
     "name": "stderr",
     "output_type": "stream",
     "text": [
      "chunk:   7%| | 26/354 [03:21<00:11, 27.78it/s, now=No"
     ]
    },
    {
     "name": "stdout",
     "output_type": "stream",
     "text": [
      "MoviePy - Writing audio in C:\\Users\\Welcome\\Dhairya-Python\\sarcasm detection\\audio_context\\1_3069_c.wav\n"
     ]
    },
    {
     "name": "stderr",
     "output_type": "stream",
     "text": [
      "\n",
      "chunk:   0%|       | 0/464 [00:00<?, ?it/s, now=None]\u001b[A\n",
      "chunk:   6%| | 29/464 [00:00<00:01, 284.30it/s, now=N\u001b[A\n",
      "chunk:  37%|▎| 173/464 [00:00<00:00, 958.52it/s, now=\u001b[A\n",
      "chunk:  66%|▋| 306/464 [00:00<00:00, 1083.05it/s, now\u001b[A\n",
      "chunk:  90%|▉| 418/464 [00:00<00:00, 1097.22it/s, now\u001b[A\n",
      "chunk:   7%| | 26/354 [03:21<00:11, 27.78it/s, now=No\u001b[A"
     ]
    },
    {
     "name": "stdout",
     "output_type": "stream",
     "text": [
      "MoviePy - Done.\n"
     ]
    },
    {
     "name": "stderr",
     "output_type": "stream",
     "text": [
      "chunk:   7%| | 26/354 [03:22<00:11, 27.78it/s, now=No"
     ]
    },
    {
     "name": "stdout",
     "output_type": "stream",
     "text": [
      "MoviePy - Writing audio in C:\\Users\\Welcome\\Dhairya-Python\\sarcasm detection\\audio_context\\1_3125_c.wav\n"
     ]
    },
    {
     "name": "stderr",
     "output_type": "stream",
     "text": [
      "\n",
      "chunk:   0%|       | 0/442 [00:00<?, ?it/s, now=None]\u001b[A\n",
      "chunk:  12%| | 52/442 [00:00<00:00, 519.97it/s, now=N\u001b[A\n",
      "chunk:  46%|▍| 203/442 [00:00<00:00, 1102.29it/s, now\u001b[A\n",
      "chunk:  72%|▋| 319/442 [00:00<00:00, 1128.61it/s, now\u001b[A\n",
      "chunk:   7%| | 26/354 [03:22<00:11, 27.78it/s, now=No\u001b[A"
     ]
    },
    {
     "name": "stdout",
     "output_type": "stream",
     "text": [
      "MoviePy - Done.\n"
     ]
    },
    {
     "name": "stderr",
     "output_type": "stream",
     "text": [
      "chunk:   7%| | 26/354 [03:23<00:11, 27.78it/s, now=No"
     ]
    },
    {
     "name": "stdout",
     "output_type": "stream",
     "text": [
      "MoviePy - Writing audio in C:\\Users\\Welcome\\Dhairya-Python\\sarcasm detection\\audio_context\\1_3177_c.wav\n"
     ]
    },
    {
     "name": "stderr",
     "output_type": "stream",
     "text": [
      "\n",
      "chunk:   0%|       | 0/464 [00:00<?, ?it/s, now=None]\u001b[A\n",
      "chunk:   8%| | 39/464 [00:00<00:01, 389.98it/s, now=N\u001b[A\n",
      "chunk:  32%|▎| 148/464 [00:00<00:00, 792.40it/s, now=\u001b[A\n",
      "chunk:  52%|▌| 239/464 [00:00<00:00, 845.73it/s, now=\u001b[A\n",
      "chunk:  77%|▊| 357/464 [00:00<00:00, 962.03it/s, now=\u001b[A\n",
      "chunk: 100%|█| 464/464 [00:00<00:00, 989.88it/s, now=\u001b[A\n",
      "chunk:   7%| | 26/354 [03:24<00:11, 27.78it/s, now=No\u001b[A"
     ]
    },
    {
     "name": "stdout",
     "output_type": "stream",
     "text": [
      "MoviePy - Done.\n"
     ]
    },
    {
     "name": "stderr",
     "output_type": "stream",
     "text": [
      "chunk:   7%| | 26/354 [03:24<00:11, 27.78it/s, now=No"
     ]
    },
    {
     "name": "stdout",
     "output_type": "stream",
     "text": [
      "MoviePy - Writing audio in C:\\Users\\Welcome\\Dhairya-Python\\sarcasm detection\\audio_context\\1_3204_c.wav\n"
     ]
    },
    {
     "name": "stderr",
     "output_type": "stream",
     "text": [
      "\n",
      "chunk:   0%|       | 0/266 [00:00<?, ?it/s, now=None]\u001b[A\n",
      "chunk:   1%| | 3/266 [00:00<00:10, 25.64it/s, now=Non\u001b[A\n",
      "chunk:  58%|▌| 153/266 [00:00<00:00, 776.37it/s, now=\u001b[A\n",
      "chunk:   7%| | 26/354 [03:25<00:11, 27.78it/s, now=No\u001b[A"
     ]
    },
    {
     "name": "stdout",
     "output_type": "stream",
     "text": [
      "MoviePy - Done.\n"
     ]
    },
    {
     "name": "stderr",
     "output_type": "stream",
     "text": [
      "chunk:   7%| | 26/354 [03:25<00:11, 27.78it/s, now=No"
     ]
    },
    {
     "name": "stdout",
     "output_type": "stream",
     "text": [
      "MoviePy - Writing audio in C:\\Users\\Welcome\\Dhairya-Python\\sarcasm detection\\audio_context\\1_3256_c.wav\n"
     ]
    },
    {
     "name": "stderr",
     "output_type": "stream",
     "text": [
      "\n",
      "chunk:   0%|       | 0/332 [00:00<?, ?it/s, now=None]\u001b[A\n",
      "chunk:   3%| | 11/332 [00:00<00:02, 109.99it/s, now=N\u001b[A\n",
      "chunk:  30%|▎| 98/332 [00:00<00:00, 557.03it/s, now=N\u001b[A\n",
      "chunk:  46%|▍| 154/332 [00:00<00:00, 427.56it/s, now=\u001b[A\n",
      "chunk:  77%|▊| 255/332 [00:00<00:00, 593.86it/s, now=\u001b[A\n",
      "chunk:   7%| | 26/354 [03:26<00:11, 27.78it/s, now=No\u001b[A"
     ]
    },
    {
     "name": "stdout",
     "output_type": "stream",
     "text": [
      "MoviePy - Done.\n"
     ]
    },
    {
     "name": "stderr",
     "output_type": "stream",
     "text": [
      "chunk:   7%| | 26/354 [03:27<00:11, 27.78it/s, now=No"
     ]
    },
    {
     "name": "stdout",
     "output_type": "stream",
     "text": [
      "MoviePy - Writing audio in C:\\Users\\Welcome\\Dhairya-Python\\sarcasm detection\\audio_context\\1_3259_c.wav\n"
     ]
    },
    {
     "name": "stderr",
     "output_type": "stream",
     "text": [
      "\n",
      "chunk:   0%|       | 0/420 [00:00<?, ?it/s, now=None]\u001b[A\n",
      "chunk:   1%| | 3/420 [00:00<00:15, 26.09it/s, now=Non\u001b[A\n",
      "chunk:  27%|▎| 112/420 [00:00<00:00, 615.48it/s, now=\u001b[A\n",
      "chunk:  57%|▌| 238/420 [00:00<00:00, 900.19it/s, now=\u001b[A\n",
      "chunk:  85%|▊| 357/420 [00:00<00:00, 996.87it/s, now=\u001b[A\n",
      "chunk:   7%| | 26/354 [03:27<00:11, 27.78it/s, now=No\u001b[A"
     ]
    },
    {
     "name": "stdout",
     "output_type": "stream",
     "text": [
      "MoviePy - Done.\n"
     ]
    },
    {
     "name": "stderr",
     "output_type": "stream",
     "text": [
      "chunk:   7%| | 26/354 [03:28<00:11, 27.78it/s, now=No"
     ]
    },
    {
     "name": "stdout",
     "output_type": "stream",
     "text": [
      "MoviePy - Writing audio in C:\\Users\\Welcome\\Dhairya-Python\\sarcasm detection\\audio_context\\1_3287_c.wav\n"
     ]
    },
    {
     "name": "stderr",
     "output_type": "stream",
     "text": [
      "\n",
      "chunk:   0%|       | 0/442 [00:00<?, ?it/s, now=None]\u001b[A\n",
      "chunk:   1%| | 3/442 [00:00<00:16, 25.86it/s, now=Non\u001b[A\n",
      "chunk:  23%|▏| 102/442 [00:00<00:00, 528.74it/s, now=\u001b[A\n",
      "chunk:  52%|▌| 232/442 [00:00<00:00, 858.53it/s, now=\u001b[A\n",
      "chunk:  74%|▋| 328/442 [00:00<00:00, 896.99it/s, now=\u001b[A\n",
      "chunk:  95%|▉| 421/442 [00:00<00:00, 886.76it/s, now=\u001b[A\n",
      "chunk:   7%| | 26/354 [03:28<00:11, 27.78it/s, now=No\u001b[A"
     ]
    },
    {
     "name": "stdout",
     "output_type": "stream",
     "text": [
      "MoviePy - Done.\n"
     ]
    },
    {
     "name": "stderr",
     "output_type": "stream",
     "text": [
      "chunk:   7%| | 26/354 [03:29<00:11, 27.78it/s, now=No"
     ]
    },
    {
     "name": "stdout",
     "output_type": "stream",
     "text": [
      "MoviePy - Writing audio in C:\\Users\\Welcome\\Dhairya-Python\\sarcasm detection\\audio_context\\1_3293_c.wav\n"
     ]
    },
    {
     "name": "stderr",
     "output_type": "stream",
     "text": [
      "\n",
      "chunk:   0%|       | 0/442 [00:00<?, ?it/s, now=None]\u001b[A\n",
      "chunk:   5%| | 23/442 [00:00<00:01, 229.99it/s, now=N\u001b[A\n",
      "chunk:  29%|▎| 126/442 [00:00<00:00, 700.55it/s, now=\u001b[A\n",
      "chunk:  45%|▍| 197/442 [00:00<00:00, 701.64it/s, now=\u001b[A\n",
      "chunk:  61%|▌| 268/442 [00:00<00:00, 639.46it/s, now=\u001b[A\n",
      "chunk:  79%|▊| 348/442 [00:00<00:00, 691.35it/s, now=\u001b[A\n",
      "chunk:  98%|▉| 431/442 [00:00<00:00, 736.36it/s, now=\u001b[A\n",
      "chunk:   7%| | 26/354 [03:30<00:11, 27.78it/s, now=No\u001b[A"
     ]
    },
    {
     "name": "stdout",
     "output_type": "stream",
     "text": [
      "MoviePy - Done.\n"
     ]
    },
    {
     "name": "stderr",
     "output_type": "stream",
     "text": [
      "chunk:   7%| | 26/354 [03:30<00:11, 27.78it/s, now=No"
     ]
    },
    {
     "name": "stdout",
     "output_type": "stream",
     "text": [
      "MoviePy - Writing audio in C:\\Users\\Welcome\\Dhairya-Python\\sarcasm detection\\audio_context\\1_3333_c.wav\n"
     ]
    },
    {
     "name": "stderr",
     "output_type": "stream",
     "text": [
      "\n",
      "chunk:   0%|       | 0/464 [00:00<?, ?it/s, now=None]\u001b[A\n",
      "chunk:   1%| | 3/464 [00:00<00:23, 20.00it/s, now=Non\u001b[A\n",
      "chunk:   9%| | 44/464 [00:00<00:02, 208.20it/s, now=N\u001b[A\n",
      "chunk:  26%|▎| 121/464 [00:00<00:00, 437.58it/s, now=\u001b[A\n",
      "chunk:  51%|▌| 236/464 [00:00<00:00, 697.46it/s, now=\u001b[A\n",
      "chunk:  67%|▋| 311/464 [00:00<00:00, 630.88it/s, now=\u001b[A\n",
      "chunk:  91%|▉| 422/464 [00:00<00:00, 775.70it/s, now=\u001b[A\n",
      "chunk:   7%| | 26/354 [03:31<00:11, 27.78it/s, now=No\u001b[A"
     ]
    },
    {
     "name": "stdout",
     "output_type": "stream",
     "text": [
      "MoviePy - Done.\n"
     ]
    },
    {
     "name": "stderr",
     "output_type": "stream",
     "text": [
      "chunk:   7%| | 26/354 [03:32<00:11, 27.78it/s, now=No"
     ]
    },
    {
     "name": "stdout",
     "output_type": "stream",
     "text": [
      "MoviePy - Writing audio in C:\\Users\\Welcome\\Dhairya-Python\\sarcasm detection\\audio_context\\1_3348_c.wav\n"
     ]
    },
    {
     "name": "stderr",
     "output_type": "stream",
     "text": [
      "\n",
      "chunk:   0%|       | 0/442 [00:00<?, ?it/s, now=None]\u001b[A\n",
      "chunk:   1%| | 3/442 [00:00<00:14, 29.41it/s, now=Non\u001b[A\n",
      "chunk:  35%|▎| 153/442 [00:00<00:00, 686.95it/s, now=\u001b[A\n",
      "chunk:  57%|▌| 254/442 [00:00<00:00, 813.62it/s, now=\u001b[A\n",
      "chunk:  81%|▊| 357/442 [00:00<00:00, 881.80it/s, now=\u001b[A\n",
      "chunk:   7%| | 26/354 [03:33<00:11, 27.78it/s, now=No\u001b[A"
     ]
    },
    {
     "name": "stdout",
     "output_type": "stream",
     "text": [
      "MoviePy - Done.\n"
     ]
    },
    {
     "name": "stderr",
     "output_type": "stream",
     "text": [
      "chunk:   7%| | 26/354 [03:33<00:11, 27.78it/s, now=No"
     ]
    },
    {
     "name": "stdout",
     "output_type": "stream",
     "text": [
      "MoviePy - Writing audio in C:\\Users\\Welcome\\Dhairya-Python\\sarcasm detection\\audio_context\\1_3371_c.wav\n"
     ]
    },
    {
     "name": "stderr",
     "output_type": "stream",
     "text": [
      "\n",
      "chunk:   0%|       | 0/486 [00:00<?, ?it/s, now=None]\u001b[A\n",
      "chunk:   7%| | 34/486 [00:00<00:01, 339.98it/s, now=N\u001b[A\n",
      "chunk:  39%|▍| 190/486 [00:00<00:00, 1057.59it/s, now\u001b[A\n",
      "chunk:  63%|▋| 308/486 [00:00<00:00, 1113.45it/s, now\u001b[A\n",
      "chunk:  94%|▉| 459/486 [00:00<00:00, 1221.74it/s, now\u001b[A\n",
      "chunk:   7%| | 26/354 [03:34<00:11, 27.78it/s, now=No\u001b[A"
     ]
    },
    {
     "name": "stdout",
     "output_type": "stream",
     "text": [
      "MoviePy - Done.\n"
     ]
    },
    {
     "name": "stderr",
     "output_type": "stream",
     "text": [
      "chunk:   7%| | 26/354 [03:34<00:11, 27.78it/s, now=No"
     ]
    },
    {
     "name": "stdout",
     "output_type": "stream",
     "text": [
      "MoviePy - Writing audio in C:\\Users\\Welcome\\Dhairya-Python\\sarcasm detection\\audio_context\\1_340_c.wav\n"
     ]
    },
    {
     "name": "stderr",
     "output_type": "stream",
     "text": [
      "\n",
      "chunk:   0%|       | 0/442 [00:00<?, ?it/s, now=None]\u001b[A\n",
      "chunk:   8%| | 34/442 [00:00<00:01, 339.98it/s, now=N\u001b[A\n",
      "chunk:  35%|▎| 153/442 [00:00<00:00, 797.72it/s, now=\u001b[A\n",
      "chunk:  69%|▋| 304/442 [00:00<00:00, 1113.83it/s, now\u001b[A\n",
      "chunk:  94%|▉| 417/442 [00:00<00:00, 1120.08it/s, now\u001b[A\n",
      "chunk:   7%| | 26/354 [03:35<00:11, 27.78it/s, now=No\u001b[A"
     ]
    },
    {
     "name": "stdout",
     "output_type": "stream",
     "text": [
      "MoviePy - Done.\n"
     ]
    },
    {
     "name": "stderr",
     "output_type": "stream",
     "text": [
      "chunk:   7%| | 26/354 [03:35<00:11, 27.78it/s, now=No"
     ]
    },
    {
     "name": "stdout",
     "output_type": "stream",
     "text": [
      "MoviePy - Writing audio in C:\\Users\\Welcome\\Dhairya-Python\\sarcasm detection\\audio_context\\1_3419_c.wav\n"
     ]
    },
    {
     "name": "stderr",
     "output_type": "stream",
     "text": [
      "\n",
      "chunk:   0%|       | 0/310 [00:00<?, ?it/s, now=None]\u001b[A\n",
      "chunk:   1%| | 3/310 [00:00<00:10, 29.41it/s, now=Non\u001b[A\n",
      "chunk:  36%|▎| 113/310 [00:00<00:00, 653.99it/s, now=\u001b[A\n",
      "chunk:  81%|▊| 251/310 [00:00<00:00, 983.99it/s, now=\u001b[A\n",
      "chunk:   7%| | 26/354 [03:35<00:11, 27.78it/s, now=No\u001b[A"
     ]
    },
    {
     "name": "stdout",
     "output_type": "stream",
     "text": [
      "MoviePy - Done.\n"
     ]
    },
    {
     "name": "stderr",
     "output_type": "stream",
     "text": [
      "chunk:   7%| | 26/354 [03:36<00:11, 27.78it/s, now=No"
     ]
    },
    {
     "name": "stdout",
     "output_type": "stream",
     "text": [
      "MoviePy - Writing audio in C:\\Users\\Welcome\\Dhairya-Python\\sarcasm detection\\audio_context\\1_3476_c.wav\n"
     ]
    },
    {
     "name": "stderr",
     "output_type": "stream",
     "text": [
      "\n",
      "chunk:   0%|       | 0/508 [00:00<?, ?it/s, now=None]\u001b[A\n",
      "chunk:   6%| | 33/508 [00:00<00:01, 329.98it/s, now=N\u001b[A\n",
      "chunk:  35%|▎| 180/508 [00:00<00:00, 1000.53it/s, now\u001b[A\n",
      "chunk:  60%|▌| 306/508 [00:00<00:00, 1108.85it/s, now\u001b[A\n",
      "chunk:  90%|▉| 459/508 [00:00<00:00, 1198.86it/s, now\u001b[A\n",
      "chunk:   7%| | 26/354 [03:37<00:11, 27.78it/s, now=No\u001b[A"
     ]
    },
    {
     "name": "stdout",
     "output_type": "stream",
     "text": [
      "MoviePy - Done.\n"
     ]
    },
    {
     "name": "stderr",
     "output_type": "stream",
     "text": [
      "chunk:   7%| | 26/354 [03:37<00:11, 27.78it/s, now=No"
     ]
    },
    {
     "name": "stdout",
     "output_type": "stream",
     "text": [
      "MoviePy - Writing audio in C:\\Users\\Welcome\\Dhairya-Python\\sarcasm detection\\audio_context\\1_3545_c.wav\n"
     ]
    },
    {
     "name": "stderr",
     "output_type": "stream",
     "text": [
      "\n",
      "chunk:   0%|       | 0/508 [00:00<?, ?it/s, now=None]\u001b[A\n",
      "chunk:   9%| | 47/508 [00:00<00:00, 469.97it/s, now=N\u001b[A\n",
      "chunk:  37%|▎| 189/508 [00:00<00:00, 1028.76it/s, now\u001b[A\n",
      "chunk:  60%|▌| 306/508 [00:00<00:00, 1036.43it/s, now\u001b[A\n",
      "chunk:  90%|▉| 459/508 [00:00<00:00, 1162.80it/s, now\u001b[A\n",
      "chunk:   7%| | 26/354 [03:37<00:11, 27.78it/s, now=No\u001b[A"
     ]
    },
    {
     "name": "stdout",
     "output_type": "stream",
     "text": [
      "MoviePy - Done.\n"
     ]
    },
    {
     "name": "stderr",
     "output_type": "stream",
     "text": [
      "chunk:   7%| | 26/354 [03:38<00:11, 27.78it/s, now=No"
     ]
    },
    {
     "name": "stdout",
     "output_type": "stream",
     "text": [
      "MoviePy - Writing audio in C:\\Users\\Welcome\\Dhairya-Python\\sarcasm detection\\audio_context\\1_3573_c.wav\n"
     ]
    },
    {
     "name": "stderr",
     "output_type": "stream",
     "text": [
      "\n",
      "chunk:   0%|       | 0/464 [00:00<?, ?it/s, now=None]\u001b[A\n",
      "chunk:   8%| | 39/464 [00:00<00:01, 389.98it/s, now=N\u001b[A\n",
      "chunk:  39%|▍| 182/464 [00:00<00:00, 1001.71it/s, now\u001b[A\n",
      "chunk:  66%|▋| 306/464 [00:00<00:00, 1100.43it/s, now\u001b[A\n",
      "chunk:  98%|▉| 454/464 [00:00<00:00, 1249.43it/s, now\u001b[A\n",
      "chunk:   7%| | 26/354 [03:38<00:11, 27.78it/s, now=No\u001b[A"
     ]
    },
    {
     "name": "stdout",
     "output_type": "stream",
     "text": [
      "MoviePy - Done.\n"
     ]
    },
    {
     "name": "stderr",
     "output_type": "stream",
     "text": [
      "chunk:   7%| | 26/354 [03:39<00:11, 27.78it/s, now=No"
     ]
    },
    {
     "name": "stdout",
     "output_type": "stream",
     "text": [
      "MoviePy - Writing audio in C:\\Users\\Welcome\\Dhairya-Python\\sarcasm detection\\audio_context\\1_3599_c.wav\n"
     ]
    },
    {
     "name": "stderr",
     "output_type": "stream",
     "text": [
      "\n",
      "chunk:   0%|       | 0/442 [00:00<?, ?it/s, now=None]\u001b[A\n",
      "chunk:   9%| | 39/442 [00:00<00:01, 389.98it/s, now=N\u001b[A\n",
      "chunk:  39%|▍| 171/442 [00:00<00:00, 937.01it/s, now=\u001b[A\n",
      "chunk:  69%|▋| 306/442 [00:00<00:00, 1062.48it/s, now\u001b[A\n",
      "chunk:   7%| | 26/354 [03:39<00:11, 27.78it/s, now=No\u001b[A"
     ]
    },
    {
     "name": "stdout",
     "output_type": "stream",
     "text": [
      "MoviePy - Done.\n"
     ]
    },
    {
     "name": "stderr",
     "output_type": "stream",
     "text": [
      "chunk:   7%| | 26/354 [03:40<00:11, 27.78it/s, now=No"
     ]
    },
    {
     "name": "stdout",
     "output_type": "stream",
     "text": [
      "MoviePy - Writing audio in C:\\Users\\Welcome\\Dhairya-Python\\sarcasm detection\\audio_context\\1_3649_c.wav\n"
     ]
    },
    {
     "name": "stderr",
     "output_type": "stream",
     "text": [
      "\n",
      "chunk:   0%|       | 0/486 [00:00<?, ?it/s, now=None]\u001b[A\n",
      "chunk:  12%| | 56/486 [00:00<00:00, 559.97it/s, now=N\u001b[A\n",
      "chunk:  42%|▍| 204/486 [00:00<00:00, 1017.33it/s, now\u001b[A\n",
      "chunk:  73%|▋| 357/486 [00:00<00:00, 1179.50it/s, now\u001b[A\n",
      "chunk:   7%| | 26/354 [03:40<00:11, 27.78it/s, now=No\u001b[A"
     ]
    },
    {
     "name": "stdout",
     "output_type": "stream",
     "text": [
      "MoviePy - Done.\n"
     ]
    },
    {
     "name": "stderr",
     "output_type": "stream",
     "text": [
      "chunk:   7%| | 26/354 [03:41<00:11, 27.78it/s, now=No"
     ]
    },
    {
     "name": "stdout",
     "output_type": "stream",
     "text": [
      "MoviePy - Writing audio in C:\\Users\\Welcome\\Dhairya-Python\\sarcasm detection\\audio_context\\1_3660_c.wav\n"
     ]
    },
    {
     "name": "stderr",
     "output_type": "stream",
     "text": [
      "\n",
      "chunk:   0%|       | 0/530 [00:00<?, ?it/s, now=None]\u001b[A\n",
      "chunk:   3%| | 18/530 [00:00<00:02, 179.99it/s, now=N\u001b[A\n",
      "chunk:  26%|▎| 137/530 [00:00<00:00, 774.07it/s, now=\u001b[A\n",
      "chunk:  48%|▍| 255/530 [00:00<00:00, 942.19it/s, now=\u001b[A\n",
      "chunk:  77%|▊| 408/530 [00:00<00:00, 1115.08it/s, now\u001b[A\n",
      "chunk:   7%| | 26/354 [03:41<00:11, 27.78it/s, now=No\u001b[A"
     ]
    },
    {
     "name": "stdout",
     "output_type": "stream",
     "text": [
      "MoviePy - Done.\n"
     ]
    },
    {
     "name": "stderr",
     "output_type": "stream",
     "text": [
      "chunk:   7%| | 26/354 [03:42<00:11, 27.78it/s, now=No"
     ]
    },
    {
     "name": "stdout",
     "output_type": "stream",
     "text": [
      "MoviePy - Writing audio in C:\\Users\\Welcome\\Dhairya-Python\\sarcasm detection\\audio_context\\1_3707_c.wav\n"
     ]
    },
    {
     "name": "stderr",
     "output_type": "stream",
     "text": [
      "\n",
      "chunk:   0%|       | 0/442 [00:00<?, ?it/s, now=None]\u001b[A\n",
      "chunk:   7%| | 31/442 [00:00<00:01, 309.98it/s, now=N\u001b[A\n",
      "chunk:  35%|▎| 153/442 [00:00<00:00, 845.25it/s, now=\u001b[A\n",
      "chunk:  68%|▋| 301/442 [00:00<00:00, 1135.05it/s, now\u001b[A\n",
      "chunk:  95%|▉| 422/442 [00:00<00:00, 1164.61it/s, now\u001b[A\n",
      "chunk:   7%| | 26/354 [03:42<00:11, 27.78it/s, now=No\u001b[A"
     ]
    },
    {
     "name": "stdout",
     "output_type": "stream",
     "text": [
      "MoviePy - Done.\n"
     ]
    },
    {
     "name": "stderr",
     "output_type": "stream",
     "text": [
      "chunk:   7%| | 26/354 [03:43<00:11, 27.78it/s, now=No"
     ]
    },
    {
     "name": "stdout",
     "output_type": "stream",
     "text": [
      "MoviePy - Writing audio in C:\\Users\\Welcome\\Dhairya-Python\\sarcasm detection\\audio_context\\1_3766_c.wav\n"
     ]
    },
    {
     "name": "stderr",
     "output_type": "stream",
     "text": [
      "\n",
      "chunk:   0%|       | 0/464 [00:00<?, ?it/s, now=None]\u001b[A\n",
      "chunk:   2%| | 8/464 [00:00<00:05, 80.00it/s, now=Non\u001b[A\n",
      "chunk:  33%|▎| 153/464 [00:00<00:00, 860.52it/s, now=\u001b[A\n",
      "chunk:  66%|▋| 306/464 [00:00<00:00, 1106.66it/s, now\u001b[A\n",
      "chunk:  97%|▉| 451/464 [00:00<00:00, 1236.95it/s, now\u001b[A\n",
      "chunk:   7%| | 26/354 [03:43<00:11, 27.78it/s, now=No\u001b[A"
     ]
    },
    {
     "name": "stdout",
     "output_type": "stream",
     "text": [
      "MoviePy - Done.\n"
     ]
    },
    {
     "name": "stderr",
     "output_type": "stream",
     "text": [
      "chunk:   7%| | 26/354 [03:44<00:11, 27.78it/s, now=No"
     ]
    },
    {
     "name": "stdout",
     "output_type": "stream",
     "text": [
      "MoviePy - Writing audio in C:\\Users\\Welcome\\Dhairya-Python\\sarcasm detection\\audio_context\\1_3837_c.wav\n"
     ]
    },
    {
     "name": "stderr",
     "output_type": "stream",
     "text": [
      "\n",
      "chunk:   0%|       | 0/442 [00:00<?, ?it/s, now=None]\u001b[A\n",
      "chunk:   3%| | 15/442 [00:00<00:02, 149.99it/s, now=N\u001b[A\n",
      "chunk:  35%|▎| 153/442 [00:00<00:00, 742.46it/s, now=\u001b[A\n",
      "chunk:  69%|▋| 306/442 [00:00<00:00, 1019.58it/s, now\u001b[A\n",
      "chunk: 100%|█| 442/442 [00:00<00:00, 1138.60it/s, now\u001b[A\n",
      "chunk:   7%| | 26/354 [03:44<00:11, 27.78it/s, now=No\u001b[A"
     ]
    },
    {
     "name": "stdout",
     "output_type": "stream",
     "text": [
      "MoviePy - Done.\n"
     ]
    },
    {
     "name": "stderr",
     "output_type": "stream",
     "text": [
      "chunk:   7%| | 26/354 [03:45<00:11, 27.78it/s, now=No"
     ]
    },
    {
     "name": "stdout",
     "output_type": "stream",
     "text": [
      "MoviePy - Writing audio in C:\\Users\\Welcome\\Dhairya-Python\\sarcasm detection\\audio_context\\1_3840_c.wav\n"
     ]
    },
    {
     "name": "stderr",
     "output_type": "stream",
     "text": [
      "\n",
      "chunk:   0%|       | 0/376 [00:00<?, ?it/s, now=None]\u001b[A\n",
      "chunk:  12%| | 46/376 [00:00<00:00, 459.97it/s, now=N\u001b[A\n",
      "chunk:  54%|▌| 203/376 [00:00<00:00, 1112.88it/s, now\u001b[A\n",
      "chunk:  84%|▊| 316/376 [00:00<00:00, 1026.89it/s, now\u001b[A\n",
      "chunk:   7%| | 26/354 [03:45<00:11, 27.78it/s, now=No\u001b[A"
     ]
    },
    {
     "name": "stdout",
     "output_type": "stream",
     "text": [
      "MoviePy - Done.\n"
     ]
    },
    {
     "name": "stderr",
     "output_type": "stream",
     "text": [
      "chunk:   7%| | 26/354 [03:45<00:11, 27.78it/s, now=No"
     ]
    },
    {
     "name": "stdout",
     "output_type": "stream",
     "text": [
      "MoviePy - Writing audio in C:\\Users\\Welcome\\Dhairya-Python\\sarcasm detection\\audio_context\\1_3842_c.wav\n"
     ]
    },
    {
     "name": "stderr",
     "output_type": "stream",
     "text": [
      "\n",
      "chunk:   0%|       | 0/464 [00:00<?, ?it/s, now=None]\u001b[A\n",
      "chunk:   6%| | 27/464 [00:00<00:01, 269.98it/s, now=N\u001b[A\n",
      "chunk:  34%|▎| 157/464 [00:00<00:00, 875.83it/s, now=\u001b[A\n",
      "chunk:  64%|▋| 298/464 [00:00<00:00, 1119.71it/s, now\u001b[A\n",
      "chunk:  88%|▉| 410/464 [00:00<00:00, 1049.37it/s, now\u001b[A\n",
      "chunk:   7%| | 26/354 [03:46<00:11, 27.78it/s, now=No\u001b[A"
     ]
    },
    {
     "name": "stdout",
     "output_type": "stream",
     "text": [
      "MoviePy - Done.\n"
     ]
    },
    {
     "name": "stderr",
     "output_type": "stream",
     "text": [
      "chunk:   7%| | 26/354 [03:46<00:11, 27.78it/s, now=No"
     ]
    },
    {
     "name": "stdout",
     "output_type": "stream",
     "text": [
      "MoviePy - Writing audio in C:\\Users\\Welcome\\Dhairya-Python\\sarcasm detection\\audio_context\\1_3911_c.wav\n"
     ]
    },
    {
     "name": "stderr",
     "output_type": "stream",
     "text": [
      "\n",
      "chunk:   0%|       | 0/398 [00:00<?, ?it/s, now=None]\u001b[A\n",
      "chunk:   6%| | 23/398 [00:00<00:01, 229.99it/s, now=N\u001b[A\n",
      "chunk:  28%|▎| 112/398 [00:00<00:00, 618.20it/s, now=\u001b[A\n",
      "chunk:  64%|▋| 255/398 [00:00<00:00, 945.67it/s, now=\u001b[A\n",
      "chunk:  87%|▊| 348/398 [00:00<00:00, 918.46it/s, now=\u001b[A\n",
      "chunk:   7%| | 26/354 [03:47<00:11, 27.78it/s, now=No\u001b[A"
     ]
    },
    {
     "name": "stdout",
     "output_type": "stream",
     "text": [
      "MoviePy - Done.\n"
     ]
    },
    {
     "name": "stderr",
     "output_type": "stream",
     "text": [
      "chunk:   7%| | 26/354 [03:48<00:11, 27.78it/s, now=No"
     ]
    },
    {
     "name": "stdout",
     "output_type": "stream",
     "text": [
      "MoviePy - Writing audio in C:\\Users\\Welcome\\Dhairya-Python\\sarcasm detection\\audio_context\\1_4031_c.wav\n"
     ]
    },
    {
     "name": "stderr",
     "output_type": "stream",
     "text": [
      "\n",
      "chunk:   0%|       | 0/420 [00:00<?, ?it/s, now=None]\u001b[A\n",
      "chunk:   5%| | 22/420 [00:00<00:01, 219.99it/s, now=N\u001b[A\n",
      "chunk:  24%|▏| 102/420 [00:00<00:00, 414.76it/s, now=\u001b[A\n",
      "chunk:  34%|▎| 141/420 [00:00<00:00, 331.58it/s, now=\u001b[A\n",
      "chunk:  41%|▍| 174/420 [00:00<00:00, 307.32it/s, now=\u001b[A\n",
      "chunk:  49%|▍| 204/420 [00:00<00:00, 264.42it/s, now=\u001b[A\n",
      "chunk:  61%|▌| 255/420 [00:00<00:00, 302.96it/s, now=\u001b[A\n",
      "chunk:  76%|▊| 318/420 [00:00<00:00, 386.34it/s, now=\u001b[A\n",
      "chunk:  85%|▊| 359/420 [00:01<00:00, 352.00it/s, now=\u001b[A\n",
      "chunk:   7%| | 26/354 [03:50<00:11, 27.78it/s, now=No\u001b[A"
     ]
    },
    {
     "name": "stdout",
     "output_type": "stream",
     "text": [
      "MoviePy - Done.\n"
     ]
    },
    {
     "name": "stderr",
     "output_type": "stream",
     "text": [
      "chunk:   7%| | 26/354 [03:50<00:11, 27.78it/s, now=No"
     ]
    },
    {
     "name": "stdout",
     "output_type": "stream",
     "text": [
      "MoviePy - Writing audio in C:\\Users\\Welcome\\Dhairya-Python\\sarcasm detection\\audio_context\\1_410_c.wav\n"
     ]
    },
    {
     "name": "stderr",
     "output_type": "stream",
     "text": [
      "\n",
      "chunk:   0%|       | 0/552 [00:00<?, ?it/s, now=None]\u001b[A\n",
      "chunk:   8%| | 43/552 [00:00<00:01, 429.98it/s, now=N\u001b[A\n",
      "chunk:  36%|▎| 196/552 [00:00<00:00, 1077.00it/s, now\u001b[A\n",
      "chunk:  55%|▌| 304/552 [00:00<00:00, 894.53it/s, now=\u001b[A\n",
      "chunk:  74%|▋| 408/552 [00:00<00:00, 544.27it/s, now=\u001b[A\n",
      "chunk:  95%|▉| 527/552 [00:00<00:00, 688.92it/s, now=\u001b[A\n",
      "chunk:   7%| | 26/354 [03:51<00:11, 27.78it/s, now=No\u001b[A"
     ]
    },
    {
     "name": "stdout",
     "output_type": "stream",
     "text": [
      "MoviePy - Done.\n"
     ]
    },
    {
     "name": "stderr",
     "output_type": "stream",
     "text": [
      "chunk:   7%| | 26/354 [03:52<00:11, 27.78it/s, now=No"
     ]
    },
    {
     "name": "stdout",
     "output_type": "stream",
     "text": [
      "MoviePy - Writing audio in C:\\Users\\Welcome\\Dhairya-Python\\sarcasm detection\\audio_context\\1_4145_c.wav\n"
     ]
    },
    {
     "name": "stderr",
     "output_type": "stream",
     "text": [
      "\n",
      "chunk:   0%|       | 0/398 [00:00<?, ?it/s, now=None]\u001b[A\n",
      "chunk:   7%| | 28/398 [00:00<00:01, 279.98it/s, now=N\u001b[A\n",
      "chunk:  38%|▍| 153/398 [00:00<00:00, 845.57it/s, now=\u001b[A\n",
      "chunk:  69%|▋| 274/398 [00:00<00:00, 1011.41it/s, now\u001b[A\n",
      "chunk:   7%| | 26/354 [03:52<00:11, 27.78it/s, now=No\u001b[A"
     ]
    },
    {
     "name": "stdout",
     "output_type": "stream",
     "text": [
      "MoviePy - Done.\n"
     ]
    },
    {
     "name": "stderr",
     "output_type": "stream",
     "text": [
      "chunk:   7%| | 26/354 [03:53<00:11, 27.78it/s, now=No"
     ]
    },
    {
     "name": "stdout",
     "output_type": "stream",
     "text": [
      "MoviePy - Writing audio in C:\\Users\\Welcome\\Dhairya-Python\\sarcasm detection\\audio_context\\1_427_c.wav\n"
     ]
    },
    {
     "name": "stderr",
     "output_type": "stream",
     "text": [
      "\n",
      "chunk:   0%|       | 0/266 [00:00<?, ?it/s, now=None]\u001b[A\n",
      "chunk:   6%| | 17/266 [00:00<00:01, 169.99it/s, now=N\u001b[A\n",
      "chunk:  38%|▍| 102/266 [00:00<00:00, 532.39it/s, now=\u001b[A\n",
      "chunk:  96%|▉| 255/266 [00:00<00:00, 962.59it/s, now=\u001b[A\n",
      "chunk:   7%| | 26/354 [03:53<00:11, 27.78it/s, now=No\u001b[A"
     ]
    },
    {
     "name": "stdout",
     "output_type": "stream",
     "text": [
      "MoviePy - Done.\n"
     ]
    },
    {
     "name": "stderr",
     "output_type": "stream",
     "text": [
      "chunk:   7%| | 26/354 [03:54<00:11, 27.78it/s, now=No"
     ]
    },
    {
     "name": "stdout",
     "output_type": "stream",
     "text": [
      "MoviePy - Writing audio in C:\\Users\\Welcome\\Dhairya-Python\\sarcasm detection\\audio_context\\1_4281_c.wav\n"
     ]
    },
    {
     "name": "stderr",
     "output_type": "stream",
     "text": [
      "\n",
      "chunk:   0%|       | 0/486 [00:00<?, ?it/s, now=None]\u001b[A\n",
      "chunk:   8%| | 37/486 [00:00<00:01, 369.98it/s, now=N\u001b[A\n",
      "chunk:  40%|▍| 196/486 [00:00<00:00, 1087.58it/s, now\u001b[A\n",
      "chunk:  67%|▋| 325/486 [00:00<00:00, 1179.98it/s, now\u001b[A\n",
      "chunk:  94%|▉| 459/486 [00:00<00:00, 1209.69it/s, now\u001b[A\n",
      "chunk:   7%| | 26/354 [03:54<00:11, 27.78it/s, now=No\u001b[A"
     ]
    },
    {
     "name": "stdout",
     "output_type": "stream",
     "text": [
      "MoviePy - Done.\n"
     ]
    },
    {
     "name": "stderr",
     "output_type": "stream",
     "text": [
      "chunk:   7%| | 26/354 [03:55<00:11, 27.78it/s, now=No"
     ]
    },
    {
     "name": "stdout",
     "output_type": "stream",
     "text": [
      "MoviePy - Writing audio in C:\\Users\\Welcome\\Dhairya-Python\\sarcasm detection\\audio_context\\1_4286_c.wav\n"
     ]
    },
    {
     "name": "stderr",
     "output_type": "stream",
     "text": [
      "\n",
      "chunk:   0%|       | 0/486 [00:00<?, ?it/s, now=None]\u001b[A\n",
      "chunk:  13%|▏| 65/486 [00:00<00:00, 649.96it/s, now=N\u001b[A\n",
      "chunk:  42%|▍| 204/486 [00:00<00:00, 1054.22it/s, now\u001b[A\n",
      "chunk:  64%|▋| 311/486 [00:00<00:00, 1042.54it/s, now\u001b[A\n",
      "chunk:  94%|▉| 459/486 [00:00<00:00, 1188.72it/s, now\u001b[A\n",
      "chunk:   7%| | 26/354 [03:55<00:11, 27.78it/s, now=No\u001b[A"
     ]
    },
    {
     "name": "stdout",
     "output_type": "stream",
     "text": [
      "MoviePy - Done.\n"
     ]
    },
    {
     "name": "stderr",
     "output_type": "stream",
     "text": [
      "chunk:   7%| | 26/354 [03:55<00:11, 27.78it/s, now=No"
     ]
    },
    {
     "name": "stdout",
     "output_type": "stream",
     "text": [
      "MoviePy - Writing audio in C:\\Users\\Welcome\\Dhairya-Python\\sarcasm detection\\audio_context\\1_4290_c.wav\n"
     ]
    },
    {
     "name": "stderr",
     "output_type": "stream",
     "text": [
      "\n",
      "chunk:   0%|       | 0/177 [00:00<?, ?it/s, now=None]\u001b[A\n",
      "chunk:  27%|▎| 47/177 [00:00<00:00, 469.97it/s, now=N\u001b[A\n",
      "chunk:   7%| | 26/354 [03:56<00:11, 27.78it/s, now=No\u001b[A"
     ]
    },
    {
     "name": "stdout",
     "output_type": "stream",
     "text": [
      "MoviePy - Done.\n"
     ]
    },
    {
     "name": "stderr",
     "output_type": "stream",
     "text": [
      "chunk:   7%| | 26/354 [03:56<00:11, 27.78it/s, now=No"
     ]
    },
    {
     "name": "stdout",
     "output_type": "stream",
     "text": [
      "MoviePy - Writing audio in C:\\Users\\Welcome\\Dhairya-Python\\sarcasm detection\\audio_context\\1_430_c.wav\n"
     ]
    },
    {
     "name": "stderr",
     "output_type": "stream",
     "text": [
      "\n",
      "chunk:   0%|       | 0/486 [00:00<?, ?it/s, now=None]\u001b[A\n",
      "chunk:   3%| | 14/486 [00:00<00:03, 139.99it/s, now=N\u001b[A\n",
      "chunk:  33%|▎| 160/486 [00:00<00:00, 916.42it/s, now=\u001b[A\n",
      "chunk:  52%|▌| 253/486 [00:00<00:00, 870.90it/s, now=\u001b[A\n",
      "chunk:  79%|▊| 385/486 [00:00<00:00, 1042.02it/s, now\u001b[A\n",
      "chunk:   7%| | 26/354 [03:57<00:11, 27.78it/s, now=No\u001b[A"
     ]
    },
    {
     "name": "stdout",
     "output_type": "stream",
     "text": [
      "MoviePy - Done.\n"
     ]
    },
    {
     "name": "stderr",
     "output_type": "stream",
     "text": [
      "chunk:   7%| | 26/354 [03:57<00:11, 27.78it/s, now=No"
     ]
    },
    {
     "name": "stdout",
     "output_type": "stream",
     "text": [
      "MoviePy - Writing audio in C:\\Users\\Welcome\\Dhairya-Python\\sarcasm detection\\audio_context\\1_4352_c.wav\n"
     ]
    },
    {
     "name": "stderr",
     "output_type": "stream",
     "text": [
      "\n",
      "chunk:   0%|       | 0/442 [00:00<?, ?it/s, now=None]\u001b[A\n",
      "chunk:  13%|▏| 56/442 [00:00<00:00, 559.97it/s, now=N\u001b[A\n",
      "chunk:  35%|▎| 153/442 [00:00<00:00, 748.31it/s, now=\u001b[A\n",
      "chunk:  67%|▋| 297/442 [00:00<00:00, 1052.45it/s, now\u001b[A\n",
      "chunk:  95%|▉| 418/442 [00:00<00:00, 1113.21it/s, now\u001b[A\n",
      "chunk:   7%| | 26/354 [03:58<00:11, 27.78it/s, now=No\u001b[A"
     ]
    },
    {
     "name": "stdout",
     "output_type": "stream",
     "text": [
      "MoviePy - Done.\n"
     ]
    },
    {
     "name": "stderr",
     "output_type": "stream",
     "text": [
      "chunk:   7%| | 26/354 [03:58<00:11, 27.78it/s, now=No"
     ]
    },
    {
     "name": "stdout",
     "output_type": "stream",
     "text": [
      "MoviePy - Writing audio in C:\\Users\\Welcome\\Dhairya-Python\\sarcasm detection\\audio_context\\1_4477_c.wav\n"
     ]
    },
    {
     "name": "stderr",
     "output_type": "stream",
     "text": [
      "\n",
      "chunk:   0%|       | 0/442 [00:00<?, ?it/s, now=None]\u001b[A\n",
      "chunk:   8%| | 36/442 [00:00<00:01, 359.98it/s, now=N\u001b[A\n",
      "chunk:  44%|▍| 196/442 [00:00<00:00, 1089.35it/s, now\u001b[A\n",
      "chunk:  70%|▋| 309/442 [00:00<00:00, 1107.88it/s, now\u001b[A\n",
      "chunk:   7%| | 26/354 [03:59<00:11, 27.78it/s, now=No\u001b[A"
     ]
    },
    {
     "name": "stdout",
     "output_type": "stream",
     "text": [
      "MoviePy - Done.\n"
     ]
    },
    {
     "name": "stderr",
     "output_type": "stream",
     "text": [
      "chunk:   7%| | 26/354 [03:59<00:11, 27.78it/s, now=No"
     ]
    },
    {
     "name": "stdout",
     "output_type": "stream",
     "text": [
      "MoviePy - Writing audio in C:\\Users\\Welcome\\Dhairya-Python\\sarcasm detection\\audio_context\\1_4544_c.wav\n"
     ]
    },
    {
     "name": "stderr",
     "output_type": "stream",
     "text": [
      "\n",
      "chunk:   0%|       | 0/442 [00:00<?, ?it/s, now=None]\u001b[A\n",
      "chunk:  11%| | 48/442 [00:00<00:00, 479.97it/s, now=N\u001b[A\n",
      "chunk:  40%|▍| 175/442 [00:00<00:00, 944.65it/s, now=\u001b[A\n",
      "chunk:  69%|▋| 306/442 [00:00<00:00, 965.90it/s, now=\u001b[A\n",
      "chunk:   7%| | 26/354 [04:00<00:11, 27.78it/s, now=No\u001b[A"
     ]
    },
    {
     "name": "stdout",
     "output_type": "stream",
     "text": [
      "MoviePy - Done.\n"
     ]
    },
    {
     "name": "stderr",
     "output_type": "stream",
     "text": [
      "chunk:   7%| | 26/354 [04:00<00:11, 27.78it/s, now=No"
     ]
    },
    {
     "name": "stdout",
     "output_type": "stream",
     "text": [
      "MoviePy - Writing audio in C:\\Users\\Welcome\\Dhairya-Python\\sarcasm detection\\audio_context\\1_4552_c.wav\n"
     ]
    },
    {
     "name": "stderr",
     "output_type": "stream",
     "text": [
      "\n",
      "chunk:   0%|       | 0/530 [00:00<?, ?it/s, now=None]\u001b[A\n",
      "chunk:   9%| | 49/530 [00:00<00:00, 489.97it/s, now=N\u001b[A\n",
      "chunk:  35%|▎| 186/530 [00:00<00:00, 1007.59it/s, now\u001b[A\n",
      "chunk:  61%|▌| 324/530 [00:00<00:00, 1177.60it/s, now\u001b[A\n",
      "chunk:  87%|▊| 459/530 [00:00<00:00, 1216.81it/s, now\u001b[A\n",
      "chunk:   7%| | 26/354 [04:01<00:11, 27.78it/s, now=No\u001b[A"
     ]
    },
    {
     "name": "stdout",
     "output_type": "stream",
     "text": [
      "MoviePy - Done.\n"
     ]
    },
    {
     "name": "stderr",
     "output_type": "stream",
     "text": [
      "chunk:   7%| | 26/354 [04:01<00:11, 27.78it/s, now=No"
     ]
    },
    {
     "name": "stdout",
     "output_type": "stream",
     "text": [
      "MoviePy - Writing audio in C:\\Users\\Welcome\\Dhairya-Python\\sarcasm detection\\audio_context\\1_4576_c.wav\n"
     ]
    },
    {
     "name": "stderr",
     "output_type": "stream",
     "text": [
      "\n",
      "chunk:   0%|       | 0/442 [00:00<?, ?it/s, now=None]\u001b[A\n",
      "chunk:  10%| | 44/442 [00:00<00:00, 439.98it/s, now=N\u001b[A\n",
      "chunk:  39%|▍| 173/442 [00:00<00:00, 939.95it/s, now=\u001b[A\n",
      "chunk:  69%|▋| 306/442 [00:00<00:00, 1059.94it/s, now\u001b[A\n",
      "chunk:   7%| | 26/354 [04:02<00:11, 27.78it/s, now=No\u001b[A"
     ]
    },
    {
     "name": "stdout",
     "output_type": "stream",
     "text": [
      "MoviePy - Done.\n"
     ]
    },
    {
     "name": "stderr",
     "output_type": "stream",
     "text": [
      "chunk:   7%| | 26/354 [04:02<00:11, 27.78it/s, now=No"
     ]
    },
    {
     "name": "stdout",
     "output_type": "stream",
     "text": [
      "MoviePy - Writing audio in C:\\Users\\Welcome\\Dhairya-Python\\sarcasm detection\\audio_context\\1_4603_c.wav\n"
     ]
    },
    {
     "name": "stderr",
     "output_type": "stream",
     "text": [
      "\n",
      "chunk:   0%|       | 0/442 [00:00<?, ?it/s, now=None]\u001b[A\n",
      "chunk:  10%| | 46/442 [00:00<00:00, 459.97it/s, now=N\u001b[A\n",
      "chunk:  40%|▍| 179/442 [00:00<00:00, 971.71it/s, now=\u001b[A\n",
      "chunk:  69%|▋| 306/442 [00:00<00:00, 1097.86it/s, now\u001b[A\n",
      "chunk:   7%| | 26/354 [04:03<00:11, 27.78it/s, now=No\u001b[A"
     ]
    },
    {
     "name": "stdout",
     "output_type": "stream",
     "text": [
      "MoviePy - Done.\n"
     ]
    },
    {
     "name": "stderr",
     "output_type": "stream",
     "text": [
      "chunk:   7%| | 26/354 [04:03<00:11, 27.78it/s, now=No"
     ]
    },
    {
     "name": "stdout",
     "output_type": "stream",
     "text": [
      "MoviePy - Writing audio in C:\\Users\\Welcome\\Dhairya-Python\\sarcasm detection\\audio_context\\1_4639_c.wav\n"
     ]
    },
    {
     "name": "stderr",
     "output_type": "stream",
     "text": [
      "\n",
      "chunk:   0%|       | 0/464 [00:00<?, ?it/s, now=None]\u001b[A\n",
      "chunk:  11%| | 49/464 [00:00<00:00, 489.97it/s, now=N\u001b[A\n",
      "chunk:  44%|▍| 204/464 [00:00<00:00, 1034.37it/s, now\u001b[A\n",
      "chunk:  77%|▊| 357/464 [00:00<00:00, 1209.21it/s, now\u001b[A\n",
      "chunk:   7%| | 26/354 [04:03<00:11, 27.78it/s, now=No\u001b[A"
     ]
    },
    {
     "name": "stdout",
     "output_type": "stream",
     "text": [
      "MoviePy - Done.\n"
     ]
    },
    {
     "name": "stderr",
     "output_type": "stream",
     "text": [
      "chunk:   7%| | 26/354 [04:04<00:11, 27.78it/s, now=No"
     ]
    },
    {
     "name": "stdout",
     "output_type": "stream",
     "text": [
      "MoviePy - Writing audio in C:\\Users\\Welcome\\Dhairya-Python\\sarcasm detection\\audio_context\\1_467_c.wav\n"
     ]
    },
    {
     "name": "stderr",
     "output_type": "stream",
     "text": [
      "\n",
      "chunk:   0%|       | 0/486 [00:00<?, ?it/s, now=None]\u001b[A\n",
      "chunk:   5%| | 25/486 [00:00<00:01, 249.99it/s, now=N\u001b[A\n",
      "chunk:  22%|▏| 106/486 [00:00<00:00, 579.38it/s, now=\u001b[A\n",
      "chunk:  42%|▍| 204/486 [00:00<00:00, 741.96it/s, now=\u001b[A\n",
      "chunk:  69%|▋| 334/486 [00:00<00:00, 958.64it/s, now=\u001b[A\n",
      "chunk:  89%|▉| 431/486 [00:00<00:00, 962.68it/s, now=\u001b[A\n",
      "chunk:   7%| | 26/354 [04:05<00:11, 27.78it/s, now=No\u001b[A"
     ]
    },
    {
     "name": "stdout",
     "output_type": "stream",
     "text": [
      "MoviePy - Done.\n"
     ]
    },
    {
     "name": "stderr",
     "output_type": "stream",
     "text": [
      "chunk:   7%| | 26/354 [04:05<00:11, 27.78it/s, now=No"
     ]
    },
    {
     "name": "stdout",
     "output_type": "stream",
     "text": [
      "MoviePy - Writing audio in C:\\Users\\Welcome\\Dhairya-Python\\sarcasm detection\\audio_context\\1_4743_c.wav\n"
     ]
    },
    {
     "name": "stderr",
     "output_type": "stream",
     "text": [
      "\n",
      "chunk:   0%|       | 0/464 [00:00<?, ?it/s, now=None]\u001b[A\n",
      "chunk:   7%| | 31/464 [00:00<00:01, 309.98it/s, now=N\u001b[A\n",
      "chunk:  34%|▎| 158/464 [00:00<00:00, 874.66it/s, now=\u001b[A\n",
      "chunk:  55%|▌| 255/464 [00:00<00:00, 874.25it/s, now=\u001b[A\n",
      "chunk:  80%|▊| 372/464 [00:00<00:00, 987.54it/s, now=\u001b[A\n",
      "chunk:   7%| | 26/354 [04:06<00:11, 27.78it/s, now=No\u001b[A"
     ]
    },
    {
     "name": "stdout",
     "output_type": "stream",
     "text": [
      "MoviePy - Done.\n"
     ]
    },
    {
     "name": "stderr",
     "output_type": "stream",
     "text": [
      "chunk:   7%| | 26/354 [04:07<00:11, 27.78it/s, now=No"
     ]
    },
    {
     "name": "stdout",
     "output_type": "stream",
     "text": [
      "MoviePy - Writing audio in C:\\Users\\Welcome\\Dhairya-Python\\sarcasm detection\\audio_context\\1_4760_c.wav\n"
     ]
    },
    {
     "name": "stderr",
     "output_type": "stream",
     "text": [
      "\n",
      "chunk:   0%|       | 0/442 [00:00<?, ?it/s, now=None]\u001b[A\n",
      "chunk:  13%|▏| 58/442 [00:00<00:00, 579.97it/s, now=N\u001b[A\n",
      "chunk:  43%|▍| 191/442 [00:00<00:00, 1021.12it/s, now\u001b[A\n",
      "chunk:  67%|▋| 295/442 [00:00<00:00, 1002.25it/s, now\u001b[A\n",
      "chunk:  90%|▉| 397/442 [00:00<00:00, 967.78it/s, now=\u001b[A\n",
      "chunk:   7%| | 26/354 [04:07<00:11, 27.78it/s, now=No\u001b[A"
     ]
    },
    {
     "name": "stdout",
     "output_type": "stream",
     "text": [
      "MoviePy - Done.\n"
     ]
    },
    {
     "name": "stderr",
     "output_type": "stream",
     "text": [
      "chunk:   7%| | 26/354 [04:08<00:11, 27.78it/s, now=No"
     ]
    },
    {
     "name": "stdout",
     "output_type": "stream",
     "text": [
      "MoviePy - Writing audio in C:\\Users\\Welcome\\Dhairya-Python\\sarcasm detection\\audio_context\\1_4789_c.wav\n"
     ]
    },
    {
     "name": "stderr",
     "output_type": "stream",
     "text": [
      "\n",
      "chunk:   0%|       | 0/508 [00:00<?, ?it/s, now=None]\u001b[A\n",
      "chunk:   6%| | 29/508 [00:00<00:01, 284.30it/s, now=N\u001b[A\n",
      "chunk:  33%|▎| 170/508 [00:00<00:00, 941.02it/s, now=\u001b[A\n",
      "chunk:  60%|▌| 306/508 [00:00<00:00, 1126.33it/s, now\u001b[A\n",
      "chunk:  90%|▉| 459/508 [00:00<00:00, 1204.40it/s, now\u001b[A\n",
      "chunk:   7%| | 26/354 [04:08<00:11, 27.78it/s, now=No\u001b[A"
     ]
    },
    {
     "name": "stdout",
     "output_type": "stream",
     "text": [
      "MoviePy - Done.\n"
     ]
    },
    {
     "name": "stderr",
     "output_type": "stream",
     "text": [
      "chunk:   7%| | 26/354 [04:09<00:11, 27.78it/s, now=No"
     ]
    },
    {
     "name": "stdout",
     "output_type": "stream",
     "text": [
      "MoviePy - Writing audio in C:\\Users\\Welcome\\Dhairya-Python\\sarcasm detection\\audio_context\\1_4792_c.wav\n"
     ]
    },
    {
     "name": "stderr",
     "output_type": "stream",
     "text": [
      "\n",
      "chunk:   0%|       | 0/420 [00:00<?, ?it/s, now=None]\u001b[A\n",
      "chunk:  10%| | 43/420 [00:00<00:00, 429.98it/s, now=N\u001b[A\n",
      "chunk:  41%|▍| 172/420 [00:00<00:00, 935.83it/s, now=\u001b[A\n",
      "chunk:  73%|▋| 307/420 [00:00<00:00, 1124.91it/s, now\u001b[A\n",
      "chunk:   7%| | 26/354 [04:09<00:11, 27.78it/s, now=No\u001b[A"
     ]
    },
    {
     "name": "stdout",
     "output_type": "stream",
     "text": [
      "MoviePy - Done.\n"
     ]
    },
    {
     "name": "stderr",
     "output_type": "stream",
     "text": [
      "chunk:   7%| | 26/354 [04:09<00:11, 27.78it/s, now=No"
     ]
    },
    {
     "name": "stdout",
     "output_type": "stream",
     "text": [
      "MoviePy - Writing audio in C:\\Users\\Welcome\\Dhairya-Python\\sarcasm detection\\audio_context\\1_4850_c.wav\n"
     ]
    },
    {
     "name": "stderr",
     "output_type": "stream",
     "text": [
      "\n",
      "chunk:   0%|       | 0/464 [00:00<?, ?it/s, now=None]\u001b[A\n",
      "chunk:  10%| | 47/464 [00:00<00:00, 469.97it/s, now=N\u001b[A\n",
      "chunk:  44%|▍| 204/464 [00:00<00:00, 1037.65it/s, now\u001b[A\n",
      "chunk:  70%|▋| 324/464 [00:00<00:00, 1094.40it/s, now\u001b[A\n",
      "chunk:   7%| | 26/354 [04:10<00:11, 27.78it/s, now=No\u001b[A"
     ]
    },
    {
     "name": "stdout",
     "output_type": "stream",
     "text": [
      "MoviePy - Done.\n"
     ]
    },
    {
     "name": "stderr",
     "output_type": "stream",
     "text": [
      "chunk:   7%| | 26/354 [04:10<00:11, 27.78it/s, now=No"
     ]
    },
    {
     "name": "stdout",
     "output_type": "stream",
     "text": [
      "MoviePy - Writing audio in C:\\Users\\Welcome\\Dhairya-Python\\sarcasm detection\\audio_context\\1_4949_c.wav\n"
     ]
    },
    {
     "name": "stderr",
     "output_type": "stream",
     "text": [
      "\n",
      "chunk:   0%|       | 0/464 [00:00<?, ?it/s, now=None]\u001b[A\n",
      "chunk:  11%| | 51/464 [00:00<00:00, 509.97it/s, now=N\u001b[A\n",
      "chunk:  44%|▍| 204/464 [00:00<00:00, 998.36it/s, now=\u001b[A\n",
      "chunk:  77%|▊| 357/464 [00:00<00:00, 1171.70it/s, now\u001b[A\n",
      "chunk:   7%| | 26/354 [04:11<00:11, 27.78it/s, now=No\u001b[A"
     ]
    },
    {
     "name": "stdout",
     "output_type": "stream",
     "text": [
      "MoviePy - Done.\n"
     ]
    },
    {
     "name": "stderr",
     "output_type": "stream",
     "text": [
      "chunk:   7%| | 26/354 [04:11<00:11, 27.78it/s, now=No"
     ]
    },
    {
     "name": "stdout",
     "output_type": "stream",
     "text": [
      "MoviePy - Writing audio in C:\\Users\\Welcome\\Dhairya-Python\\sarcasm detection\\audio_context\\1_4967_c.wav\n"
     ]
    },
    {
     "name": "stderr",
     "output_type": "stream",
     "text": [
      "\n",
      "chunk:   0%|       | 0/442 [00:00<?, ?it/s, now=None]\u001b[A\n",
      "chunk:  12%| | 52/442 [00:00<00:00, 519.97it/s, now=N\u001b[A\n",
      "chunk:  43%|▍| 188/442 [00:00<00:00, 1014.06it/s, now\u001b[A\n",
      "chunk:  69%|▋| 306/442 [00:00<00:00, 1042.21it/s, now\u001b[A\n",
      "chunk:   7%| | 26/354 [04:12<00:11, 27.78it/s, now=No\u001b[A"
     ]
    },
    {
     "name": "stdout",
     "output_type": "stream",
     "text": [
      "MoviePy - Done.\n"
     ]
    },
    {
     "name": "stderr",
     "output_type": "stream",
     "text": [
      "chunk:   7%| | 26/354 [04:12<00:11, 27.78it/s, now=No"
     ]
    },
    {
     "name": "stdout",
     "output_type": "stream",
     "text": [
      "MoviePy - Writing audio in C:\\Users\\Welcome\\Dhairya-Python\\sarcasm detection\\audio_context\\1_4995_c.wav\n"
     ]
    },
    {
     "name": "stderr",
     "output_type": "stream",
     "text": [
      "\n",
      "chunk:   0%|       | 0/442 [00:00<?, ?it/s, now=None]\u001b[A\n",
      "chunk:   4%| | 18/442 [00:00<00:02, 179.99it/s, now=N\u001b[A\n",
      "chunk:  35%|▎| 155/442 [00:00<00:00, 879.95it/s, now=\u001b[A\n",
      "chunk:  69%|▋| 306/442 [00:00<00:00, 1102.18it/s, now\u001b[A\n",
      "chunk:   7%| | 26/354 [04:13<00:11, 27.78it/s, now=No\u001b[A"
     ]
    },
    {
     "name": "stdout",
     "output_type": "stream",
     "text": [
      "MoviePy - Done.\n"
     ]
    },
    {
     "name": "stderr",
     "output_type": "stream",
     "text": [
      "chunk:   7%| | 26/354 [04:13<00:11, 27.78it/s, now=No"
     ]
    },
    {
     "name": "stdout",
     "output_type": "stream",
     "text": [
      "MoviePy - Writing audio in C:\\Users\\Welcome\\Dhairya-Python\\sarcasm detection\\audio_context\\1_5058_c.wav\n"
     ]
    },
    {
     "name": "stderr",
     "output_type": "stream",
     "text": [
      "\n",
      "chunk:   0%|       | 0/464 [00:00<?, ?it/s, now=None]\u001b[A\n",
      "chunk:  11%| | 51/464 [00:00<00:00, 509.97it/s, now=N\u001b[A\n",
      "chunk:  43%|▍| 198/464 [00:00<00:00, 1074.65it/s, now\u001b[A\n",
      "chunk:  66%|▋| 306/464 [00:00<00:00, 890.10it/s, now=\u001b[A\n",
      "chunk:  99%|▉| 460/464 [00:00<00:00, 1117.70it/s, now\u001b[A\n",
      "chunk:   7%| | 26/354 [04:13<00:11, 27.78it/s, now=No\u001b[A"
     ]
    },
    {
     "name": "stdout",
     "output_type": "stream",
     "text": [
      "MoviePy - Done.\n"
     ]
    },
    {
     "name": "stderr",
     "output_type": "stream",
     "text": [
      "chunk:   7%| | 26/354 [04:14<00:11, 27.78it/s, now=No"
     ]
    },
    {
     "name": "stdout",
     "output_type": "stream",
     "text": [
      "MoviePy - Writing audio in C:\\Users\\Welcome\\Dhairya-Python\\sarcasm detection\\audio_context\\1_506_c.wav\n"
     ]
    },
    {
     "name": "stderr",
     "output_type": "stream",
     "text": [
      "\n",
      "chunk:   0%|       | 0/420 [00:00<?, ?it/s, now=None]\u001b[A\n",
      "chunk:  11%| | 47/420 [00:00<00:00, 469.97it/s, now=N\u001b[A\n",
      "chunk:  49%|▍| 204/420 [00:00<00:00, 1032.01it/s, now\u001b[A\n",
      "chunk:  85%|▊| 357/420 [00:00<00:00, 1202.33it/s, now\u001b[A\n",
      "chunk:   7%| | 26/354 [04:15<00:11, 27.78it/s, now=No\u001b[A"
     ]
    },
    {
     "name": "stdout",
     "output_type": "stream",
     "text": [
      "MoviePy - Done.\n"
     ]
    },
    {
     "name": "stderr",
     "output_type": "stream",
     "text": [
      "chunk:   7%| | 26/354 [04:15<00:11, 27.78it/s, now=No"
     ]
    },
    {
     "name": "stdout",
     "output_type": "stream",
     "text": [
      "MoviePy - Writing audio in C:\\Users\\Welcome\\Dhairya-Python\\sarcasm detection\\audio_context\\1_507_c.wav\n"
     ]
    },
    {
     "name": "stderr",
     "output_type": "stream",
     "text": [
      "\n",
      "chunk:   0%|       | 0/442 [00:00<?, ?it/s, now=None]\u001b[A\n",
      "chunk:  12%| | 51/442 [00:00<00:00, 509.97it/s, now=N\u001b[A\n",
      "chunk:  46%|▍| 204/442 [00:00<00:00, 1036.75it/s, now\u001b[A\n",
      "chunk:  81%|▊| 357/442 [00:00<00:00, 1176.05it/s, now\u001b[A\n",
      "chunk:   7%| | 26/354 [04:15<00:11, 27.78it/s, now=No\u001b[A"
     ]
    },
    {
     "name": "stdout",
     "output_type": "stream",
     "text": [
      "MoviePy - Done.\n"
     ]
    },
    {
     "name": "stderr",
     "output_type": "stream",
     "text": [
      "chunk:   7%| | 26/354 [04:16<00:11, 27.78it/s, now=No"
     ]
    },
    {
     "name": "stdout",
     "output_type": "stream",
     "text": [
      "MoviePy - Writing audio in C:\\Users\\Welcome\\Dhairya-Python\\sarcasm detection\\audio_context\\1_5109_c.wav\n"
     ]
    },
    {
     "name": "stderr",
     "output_type": "stream",
     "text": [
      "\n",
      "chunk:   0%|       | 0/442 [00:00<?, ?it/s, now=None]\u001b[A\n",
      "chunk:  13%|▏| 57/442 [00:00<00:00, 569.97it/s, now=N\u001b[A\n",
      "chunk:  46%|▍| 204/442 [00:00<00:00, 1049.94it/s, now\u001b[A\n",
      "chunk:  81%|▊| 357/442 [00:00<00:00, 1199.55it/s, now\u001b[A\n",
      "chunk:   7%| | 26/354 [04:16<00:11, 27.78it/s, now=No\u001b[A"
     ]
    },
    {
     "name": "stdout",
     "output_type": "stream",
     "text": [
      "MoviePy - Done.\n"
     ]
    },
    {
     "name": "stderr",
     "output_type": "stream",
     "text": [
      "chunk:   7%| | 26/354 [04:17<00:11, 27.78it/s, now=No"
     ]
    },
    {
     "name": "stdout",
     "output_type": "stream",
     "text": [
      "MoviePy - Writing audio in C:\\Users\\Welcome\\Dhairya-Python\\sarcasm detection\\audio_context\\1_5134_c.wav\n"
     ]
    },
    {
     "name": "stderr",
     "output_type": "stream",
     "text": [
      "\n",
      "chunk:   0%|       | 0/464 [00:00<?, ?it/s, now=None]\u001b[A\n",
      "chunk:   9%| | 40/464 [00:00<00:01, 399.98it/s, now=N\u001b[A\n",
      "chunk:  33%|▎| 153/464 [00:00<00:00, 787.66it/s, now=\u001b[A\n",
      "chunk:  66%|▋| 306/464 [00:00<00:00, 1034.47it/s, now\u001b[A\n",
      "chunk:  96%|▉| 447/464 [00:00<00:00, 1173.36it/s, now\u001b[A\n",
      "chunk:   7%| | 26/354 [04:17<00:11, 27.78it/s, now=No\u001b[A"
     ]
    },
    {
     "name": "stdout",
     "output_type": "stream",
     "text": [
      "MoviePy - Done.\n"
     ]
    },
    {
     "name": "stderr",
     "output_type": "stream",
     "text": [
      "chunk:   7%| | 26/354 [04:18<00:11, 27.78it/s, now=No"
     ]
    },
    {
     "name": "stdout",
     "output_type": "stream",
     "text": [
      "MoviePy - Writing audio in C:\\Users\\Welcome\\Dhairya-Python\\sarcasm detection\\audio_context\\1_5156_c.wav\n"
     ]
    },
    {
     "name": "stderr",
     "output_type": "stream",
     "text": [
      "\n",
      "chunk:   0%|       | 0/486 [00:00<?, ?it/s, now=None]\u001b[A\n",
      "chunk:  10%| | 51/486 [00:00<00:00, 509.97it/s, now=N\u001b[A\n",
      "chunk:  38%|▍| 184/486 [00:00<00:00, 992.30it/s, now=\u001b[A\n",
      "chunk:  63%|▋| 306/486 [00:00<00:00, 1034.81it/s, now\u001b[A\n",
      "chunk:  94%|▉| 459/486 [00:00<00:00, 1191.70it/s, now\u001b[A\n",
      "chunk:   7%| | 26/354 [04:18<00:11, 27.78it/s, now=No\u001b[A"
     ]
    },
    {
     "name": "stdout",
     "output_type": "stream",
     "text": [
      "MoviePy - Done.\n"
     ]
    },
    {
     "name": "stderr",
     "output_type": "stream",
     "text": [
      "chunk:   7%| | 26/354 [04:19<00:11, 27.78it/s, now=No"
     ]
    },
    {
     "name": "stdout",
     "output_type": "stream",
     "text": [
      "MoviePy - Writing audio in C:\\Users\\Welcome\\Dhairya-Python\\sarcasm detection\\audio_context\\1_5166_c.wav\n"
     ]
    },
    {
     "name": "stderr",
     "output_type": "stream",
     "text": [
      "\n",
      "chunk:   0%|       | 0/464 [00:00<?, ?it/s, now=None]\u001b[A\n",
      "chunk:   7%| | 31/464 [00:00<00:01, 309.98it/s, now=N\u001b[A\n",
      "chunk:  36%|▎| 165/464 [00:00<00:00, 915.83it/s, now=\u001b[A\n",
      "chunk:  55%|▌| 257/464 [00:00<00:00, 752.73it/s, now=\u001b[A\n",
      "chunk:  88%|▉| 408/464 [00:00<00:00, 979.11it/s, now=\u001b[A\n",
      "chunk:   7%| | 26/354 [04:19<00:11, 27.78it/s, now=No\u001b[A"
     ]
    },
    {
     "name": "stdout",
     "output_type": "stream",
     "text": [
      "MoviePy - Done.\n"
     ]
    },
    {
     "name": "stderr",
     "output_type": "stream",
     "text": [
      "chunk:   7%| | 26/354 [04:20<00:11, 27.78it/s, now=No"
     ]
    },
    {
     "name": "stdout",
     "output_type": "stream",
     "text": [
      "MoviePy - Writing audio in C:\\Users\\Welcome\\Dhairya-Python\\sarcasm detection\\audio_context\\1_5169_c.wav\n"
     ]
    },
    {
     "name": "stderr",
     "output_type": "stream",
     "text": [
      "\n",
      "chunk:   0%|       | 0/508 [00:00<?, ?it/s, now=None]\u001b[A\n",
      "chunk:  11%| | 54/508 [00:00<00:00, 539.97it/s, now=N\u001b[A\n",
      "chunk:  33%|▎| 170/508 [00:00<00:00, 904.65it/s, now=\u001b[A\n",
      "chunk:  60%|▌| 306/508 [00:00<00:00, 1082.87it/s, now\u001b[A\n",
      "chunk:  90%|▉| 456/508 [00:00<00:00, 1244.83it/s, now\u001b[A\n",
      "chunk:   7%| | 26/354 [04:20<00:11, 27.78it/s, now=No\u001b[A"
     ]
    },
    {
     "name": "stdout",
     "output_type": "stream",
     "text": [
      "MoviePy - Done.\n"
     ]
    },
    {
     "name": "stderr",
     "output_type": "stream",
     "text": [
      "chunk:   7%| | 26/354 [04:21<00:11, 27.78it/s, now=No"
     ]
    },
    {
     "name": "stdout",
     "output_type": "stream",
     "text": [
      "MoviePy - Writing audio in C:\\Users\\Welcome\\Dhairya-Python\\sarcasm detection\\audio_context\\1_5211_c.wav\n"
     ]
    },
    {
     "name": "stderr",
     "output_type": "stream",
     "text": [
      "\n",
      "chunk:   0%|       | 0/442 [00:00<?, ?it/s, now=None]\u001b[A\n",
      "chunk:  10%| | 42/442 [00:00<00:00, 419.98it/s, now=N\u001b[A\n",
      "chunk:  36%|▎| 159/442 [00:00<00:00, 861.13it/s, now=\u001b[A\n",
      "chunk:  69%|▋| 306/442 [00:00<00:00, 1070.67it/s, now\u001b[A\n",
      "chunk:   7%| | 26/354 [04:21<00:11, 27.78it/s, now=No\u001b[A"
     ]
    },
    {
     "name": "stdout",
     "output_type": "stream",
     "text": [
      "MoviePy - Done.\n"
     ]
    },
    {
     "name": "stderr",
     "output_type": "stream",
     "text": [
      "chunk:   7%| | 26/354 [04:22<00:11, 27.78it/s, now=No"
     ]
    },
    {
     "name": "stdout",
     "output_type": "stream",
     "text": [
      "MoviePy - Writing audio in C:\\Users\\Welcome\\Dhairya-Python\\sarcasm detection\\audio_context\\1_5212_c.wav\n"
     ]
    },
    {
     "name": "stderr",
     "output_type": "stream",
     "text": [
      "\n",
      "chunk:   0%|       | 0/442 [00:00<?, ?it/s, now=None]\u001b[A\n",
      "chunk:  11%| | 48/442 [00:00<00:00, 479.97it/s, now=N\u001b[A\n",
      "chunk:  42%|▍| 184/442 [00:00<00:00, 997.59it/s, now=\u001b[A\n",
      "chunk:  69%|▋| 306/442 [00:00<00:00, 929.37it/s, now=\u001b[A\n",
      "chunk:   7%| | 26/354 [04:22<00:11, 27.78it/s, now=No\u001b[A"
     ]
    },
    {
     "name": "stdout",
     "output_type": "stream",
     "text": [
      "MoviePy - Done.\n"
     ]
    },
    {
     "name": "stderr",
     "output_type": "stream",
     "text": [
      "chunk:   7%| | 26/354 [04:23<00:11, 27.78it/s, now=No"
     ]
    },
    {
     "name": "stdout",
     "output_type": "stream",
     "text": [
      "MoviePy - Writing audio in C:\\Users\\Welcome\\Dhairya-Python\\sarcasm detection\\audio_context\\1_533_c.wav\n"
     ]
    },
    {
     "name": "stderr",
     "output_type": "stream",
     "text": [
      "\n",
      "chunk:   0%|       | 0/442 [00:00<?, ?it/s, now=None]\u001b[A\n",
      "chunk:  11%| | 48/442 [00:00<00:00, 479.97it/s, now=N\u001b[A\n",
      "chunk:  37%|▎| 164/442 [00:00<00:00, 879.95it/s, now=\u001b[A\n",
      "chunk:  69%|▋| 306/442 [00:00<00:00, 1086.81it/s, now\u001b[A\n",
      "chunk:   7%| | 26/354 [04:23<00:11, 27.78it/s, now=No\u001b[A"
     ]
    },
    {
     "name": "stdout",
     "output_type": "stream",
     "text": [
      "MoviePy - Done.\n"
     ]
    },
    {
     "name": "stderr",
     "output_type": "stream",
     "text": [
      "chunk:   7%| | 26/354 [04:24<00:11, 27.78it/s, now=No"
     ]
    },
    {
     "name": "stdout",
     "output_type": "stream",
     "text": [
      "MoviePy - Writing audio in C:\\Users\\Welcome\\Dhairya-Python\\sarcasm detection\\audio_context\\1_536_c.wav\n"
     ]
    },
    {
     "name": "stderr",
     "output_type": "stream",
     "text": [
      "\n",
      "chunk:   0%|       | 0/442 [00:00<?, ?it/s, now=None]\u001b[A\n",
      "chunk:  12%| | 55/442 [00:00<00:00, 549.97it/s, now=N\u001b[A\n",
      "chunk:  46%|▍| 204/442 [00:00<00:00, 1002.62it/s, now\u001b[A\n",
      "chunk:  79%|▊| 351/442 [00:00<00:00, 1205.00it/s, now\u001b[A\n",
      "chunk:   7%| | 26/354 [04:24<00:11, 27.78it/s, now=No\u001b[A"
     ]
    },
    {
     "name": "stdout",
     "output_type": "stream",
     "text": [
      "MoviePy - Done.\n"
     ]
    },
    {
     "name": "stderr",
     "output_type": "stream",
     "text": [
      "chunk:   7%| | 26/354 [04:24<00:11, 27.78it/s, now=No"
     ]
    },
    {
     "name": "stdout",
     "output_type": "stream",
     "text": [
      "MoviePy - Writing audio in C:\\Users\\Welcome\\Dhairya-Python\\sarcasm detection\\audio_context\\1_537_c.wav\n"
     ]
    },
    {
     "name": "stderr",
     "output_type": "stream",
     "text": [
      "\n",
      "chunk:   0%|       | 0/442 [00:00<?, ?it/s, now=None]\u001b[A\n",
      "chunk:  12%| | 51/442 [00:00<00:00, 509.97it/s, now=N\u001b[A\n",
      "chunk:  43%|▍| 192/442 [00:00<00:00, 1039.35it/s, now\u001b[A\n",
      "chunk:  69%|▋| 306/442 [00:00<00:00, 1024.47it/s, now\u001b[A\n",
      "chunk:   7%| | 26/354 [04:25<00:11, 27.78it/s, now=No\u001b[A"
     ]
    },
    {
     "name": "stdout",
     "output_type": "stream",
     "text": [
      "MoviePy - Done.\n"
     ]
    },
    {
     "name": "stderr",
     "output_type": "stream",
     "text": [
      "chunk:   7%| | 26/354 [04:25<00:11, 27.78it/s, now=No"
     ]
    },
    {
     "name": "stdout",
     "output_type": "stream",
     "text": [
      "MoviePy - Writing audio in C:\\Users\\Welcome\\Dhairya-Python\\sarcasm detection\\audio_context\\1_5496_c.wav\n"
     ]
    },
    {
     "name": "stderr",
     "output_type": "stream",
     "text": [
      "\n",
      "chunk:   0%|       | 0/486 [00:00<?, ?it/s, now=None]\u001b[A\n",
      "chunk:   8%| | 38/486 [00:00<00:01, 379.98it/s, now=N\u001b[A\n",
      "chunk:  34%|▎| 164/486 [00:00<00:00, 897.60it/s, now=\u001b[A\n",
      "chunk:  63%|▋| 306/486 [00:00<00:00, 1081.76it/s, now\u001b[A\n",
      "chunk:  85%|▊| 415/486 [00:00<00:00, 1011.28it/s, now\u001b[A\n",
      "chunk:   7%| | 26/354 [04:26<00:11, 27.78it/s, now=No\u001b[A"
     ]
    },
    {
     "name": "stdout",
     "output_type": "stream",
     "text": [
      "MoviePy - Done.\n"
     ]
    },
    {
     "name": "stderr",
     "output_type": "stream",
     "text": [
      "chunk:   7%| | 26/354 [04:26<00:11, 27.78it/s, now=No"
     ]
    },
    {
     "name": "stdout",
     "output_type": "stream",
     "text": [
      "MoviePy - Writing audio in C:\\Users\\Welcome\\Dhairya-Python\\sarcasm detection\\audio_context\\1_5571_c.wav\n"
     ]
    },
    {
     "name": "stderr",
     "output_type": "stream",
     "text": [
      "\n",
      "chunk:   0%|       | 0/464 [00:00<?, ?it/s, now=None]\u001b[A\n",
      "chunk:   8%| | 38/464 [00:00<00:01, 379.98it/s, now=N\u001b[A\n",
      "chunk:  33%|▎| 155/464 [00:00<00:00, 844.66it/s, now=\u001b[A\n",
      "chunk:  64%|▋| 297/464 [00:00<00:00, 1107.33it/s, now\u001b[A\n",
      "chunk:  89%|▉| 414/464 [00:00<00:00, 1132.05it/s, now\u001b[A\n",
      "chunk:   7%| | 26/354 [04:27<00:11, 27.78it/s, now=No\u001b[A"
     ]
    },
    {
     "name": "stdout",
     "output_type": "stream",
     "text": [
      "MoviePy - Done.\n"
     ]
    },
    {
     "name": "stderr",
     "output_type": "stream",
     "text": [
      "chunk:   7%| | 26/354 [04:27<00:11, 27.78it/s, now=No"
     ]
    },
    {
     "name": "stdout",
     "output_type": "stream",
     "text": [
      "MoviePy - Writing audio in C:\\Users\\Welcome\\Dhairya-Python\\sarcasm detection\\audio_context\\1_5572_c.wav\n"
     ]
    },
    {
     "name": "stderr",
     "output_type": "stream",
     "text": [
      "\n",
      "chunk:   0%|       | 0/486 [00:00<?, ?it/s, now=None]\u001b[A\n",
      "chunk:   1%| | 3/486 [00:00<00:17, 28.04it/s, now=Non\u001b[A\n",
      "chunk:  32%|▎| 155/486 [00:00<00:00, 881.02it/s, now=\u001b[A\n",
      "chunk:  52%|▌| 255/486 [00:00<00:00, 926.16it/s, now=\u001b[A\n",
      "chunk:  84%|▊| 408/486 [00:00<00:00, 1113.36it/s, now\u001b[A\n",
      "chunk:   7%| | 26/354 [04:28<00:11, 27.78it/s, now=No\u001b[A"
     ]
    },
    {
     "name": "stdout",
     "output_type": "stream",
     "text": [
      "MoviePy - Done.\n"
     ]
    },
    {
     "name": "stderr",
     "output_type": "stream",
     "text": [
      "chunk:   7%| | 26/354 [04:28<00:11, 27.78it/s, now=No"
     ]
    },
    {
     "name": "stdout",
     "output_type": "stream",
     "text": [
      "MoviePy - Writing audio in C:\\Users\\Welcome\\Dhairya-Python\\sarcasm detection\\audio_context\\1_5580_c.wav\n"
     ]
    },
    {
     "name": "stderr",
     "output_type": "stream",
     "text": [
      "\n",
      "chunk:   0%|       | 0/442 [00:00<?, ?it/s, now=None]\u001b[A\n",
      "chunk:  11%| | 50/442 [00:00<00:00, 499.97it/s, now=N\u001b[A\n",
      "chunk:  45%|▍| 198/442 [00:00<00:00, 1076.41it/s, now\u001b[A\n",
      "chunk:  69%|▋| 306/442 [00:00<00:00, 1040.03it/s, now\u001b[A\n",
      "chunk:   7%| | 26/354 [04:29<00:11, 27.78it/s, now=No\u001b[A"
     ]
    },
    {
     "name": "stdout",
     "output_type": "stream",
     "text": [
      "MoviePy - Done.\n"
     ]
    },
    {
     "name": "stderr",
     "output_type": "stream",
     "text": [
      "chunk:   7%| | 26/354 [04:29<00:11, 27.78it/s, now=No"
     ]
    },
    {
     "name": "stdout",
     "output_type": "stream",
     "text": [
      "MoviePy - Writing audio in C:\\Users\\Welcome\\Dhairya-Python\\sarcasm detection\\audio_context\\1_5581_c.wav\n"
     ]
    },
    {
     "name": "stderr",
     "output_type": "stream",
     "text": [
      "\n",
      "chunk:   0%|       | 0/442 [00:00<?, ?it/s, now=None]\u001b[A\n",
      "chunk:  12%| | 53/442 [00:00<00:00, 529.97it/s, now=N\u001b[A\n",
      "chunk:  46%|▍| 204/442 [00:00<00:00, 1033.46it/s, now\u001b[A\n",
      "chunk:  81%|▊| 357/442 [00:00<00:00, 1204.12it/s, now\u001b[A\n",
      "chunk:   7%| | 26/354 [04:30<00:11, 27.78it/s, now=No\u001b[A"
     ]
    },
    {
     "name": "stdout",
     "output_type": "stream",
     "text": [
      "MoviePy - Done.\n"
     ]
    },
    {
     "name": "stderr",
     "output_type": "stream",
     "text": [
      "chunk:   7%| | 26/354 [04:30<00:11, 27.78it/s, now=No"
     ]
    },
    {
     "name": "stdout",
     "output_type": "stream",
     "text": [
      "MoviePy - Writing audio in C:\\Users\\Welcome\\Dhairya-Python\\sarcasm detection\\audio_context\\1_5617_c.wav\n"
     ]
    },
    {
     "name": "stderr",
     "output_type": "stream",
     "text": [
      "\n",
      "chunk:   0%|       | 0/486 [00:00<?, ?it/s, now=None]\u001b[A\n",
      "chunk:   9%| | 44/486 [00:00<00:01, 439.98it/s, now=N\u001b[A\n",
      "chunk:  33%|▎| 162/486 [00:00<00:00, 875.24it/s, now=\u001b[A\n",
      "chunk:  63%|▋| 306/486 [00:00<00:00, 1088.36it/s, now\u001b[A\n",
      "chunk:  94%|▉| 459/486 [00:00<00:00, 1211.77it/s, now\u001b[A\n",
      "chunk:   7%| | 26/354 [04:31<00:11, 27.78it/s, now=No\u001b[A"
     ]
    },
    {
     "name": "stdout",
     "output_type": "stream",
     "text": [
      "MoviePy - Done.\n"
     ]
    },
    {
     "name": "stderr",
     "output_type": "stream",
     "text": [
      "chunk:   7%| | 26/354 [04:31<00:11, 27.78it/s, now=No"
     ]
    },
    {
     "name": "stdout",
     "output_type": "stream",
     "text": [
      "MoviePy - Writing audio in C:\\Users\\Welcome\\Dhairya-Python\\sarcasm detection\\audio_context\\1_5627_c.wav\n"
     ]
    },
    {
     "name": "stderr",
     "output_type": "stream",
     "text": [
      "\n",
      "chunk:   0%|       | 0/442 [00:00<?, ?it/s, now=None]\u001b[A\n",
      "chunk:   9%| | 40/442 [00:00<00:01, 399.98it/s, now=N\u001b[A\n",
      "chunk:  40%|▍| 177/442 [00:00<00:00, 970.53it/s, now=\u001b[A\n",
      "chunk:  69%|▋| 306/442 [00:00<00:00, 1096.35it/s, now\u001b[A\n",
      "chunk:   7%| | 26/354 [04:32<00:11, 27.78it/s, now=No\u001b[A"
     ]
    },
    {
     "name": "stdout",
     "output_type": "stream",
     "text": [
      "MoviePy - Done.\n"
     ]
    },
    {
     "name": "stderr",
     "output_type": "stream",
     "text": [
      "chunk:   7%| | 26/354 [04:32<00:11, 27.78it/s, now=No"
     ]
    },
    {
     "name": "stdout",
     "output_type": "stream",
     "text": [
      "MoviePy - Writing audio in C:\\Users\\Welcome\\Dhairya-Python\\sarcasm detection\\audio_context\\1_5679_c.wav\n"
     ]
    },
    {
     "name": "stderr",
     "output_type": "stream",
     "text": [
      "\n",
      "chunk:   0%|       | 0/464 [00:00<?, ?it/s, now=None]\u001b[A\n",
      "chunk:   7%| | 33/464 [00:00<00:01, 329.98it/s, now=N\u001b[A\n",
      "chunk:  33%|▎| 153/464 [00:00<00:00, 781.92it/s, now=\u001b[A\n",
      "chunk:  50%|▍| 230/464 [00:00<00:00, 744.06it/s, now=\u001b[A\n",
      "chunk:  77%|▊| 358/464 [00:00<00:00, 945.01it/s, now=\u001b[A\n",
      "chunk:   7%| | 26/354 [04:33<00:11, 27.78it/s, now=No\u001b[A"
     ]
    },
    {
     "name": "stdout",
     "output_type": "stream",
     "text": [
      "MoviePy - Done.\n"
     ]
    },
    {
     "name": "stderr",
     "output_type": "stream",
     "text": [
      "chunk:   7%| | 26/354 [04:33<00:11, 27.78it/s, now=No"
     ]
    },
    {
     "name": "stdout",
     "output_type": "stream",
     "text": [
      "MoviePy - Writing audio in C:\\Users\\Welcome\\Dhairya-Python\\sarcasm detection\\audio_context\\1_5699_c.wav\n"
     ]
    },
    {
     "name": "stderr",
     "output_type": "stream",
     "text": [
      "\n",
      "chunk:   0%|       | 0/486 [00:00<?, ?it/s, now=None]\u001b[A\n",
      "chunk:   7%| | 32/486 [00:00<00:01, 319.98it/s, now=N\u001b[A\n",
      "chunk:  35%|▎| 171/486 [00:00<00:00, 949.36it/s, now=\u001b[A\n",
      "chunk:  63%|▋| 306/486 [00:00<00:00, 843.42it/s, now=\u001b[A\n",
      "chunk:  90%|▉| 435/486 [00:00<00:00, 989.43it/s, now=\u001b[A\n",
      "chunk:   7%| | 26/354 [04:34<00:11, 27.78it/s, now=No\u001b[A"
     ]
    },
    {
     "name": "stdout",
     "output_type": "stream",
     "text": [
      "MoviePy - Done.\n"
     ]
    },
    {
     "name": "stderr",
     "output_type": "stream",
     "text": [
      "chunk:   7%| | 26/354 [04:35<00:11, 27.78it/s, now=No"
     ]
    },
    {
     "name": "stdout",
     "output_type": "stream",
     "text": [
      "MoviePy - Writing audio in C:\\Users\\Welcome\\Dhairya-Python\\sarcasm detection\\audio_context\\1_5751_c.wav\n"
     ]
    },
    {
     "name": "stderr",
     "output_type": "stream",
     "text": [
      "\n",
      "chunk:   0%|       | 0/442 [00:00<?, ?it/s, now=None]\u001b[A\n",
      "chunk:   1%| | 3/442 [00:00<00:29, 15.00it/s, now=Non\u001b[A\n",
      "chunk:  35%|▎| 154/442 [00:00<00:00, 637.88it/s, now=\u001b[A\n",
      "chunk:  65%|▋| 289/442 [00:00<00:00, 903.57it/s, now=\u001b[A\n",
      "chunk:  92%|▉| 408/442 [00:00<00:00, 959.76it/s, now=\u001b[A\n",
      "chunk:   7%| | 26/354 [04:35<00:11, 27.78it/s, now=No\u001b[A"
     ]
    },
    {
     "name": "stdout",
     "output_type": "stream",
     "text": [
      "MoviePy - Done.\n"
     ]
    },
    {
     "name": "stderr",
     "output_type": "stream",
     "text": [
      "chunk:   7%| | 26/354 [04:36<00:11, 27.78it/s, now=No"
     ]
    },
    {
     "name": "stdout",
     "output_type": "stream",
     "text": [
      "MoviePy - Writing audio in C:\\Users\\Welcome\\Dhairya-Python\\sarcasm detection\\audio_context\\1_5758_c.wav\n"
     ]
    },
    {
     "name": "stderr",
     "output_type": "stream",
     "text": [
      "\n",
      "chunk:   0%|       | 0/464 [00:00<?, ?it/s, now=None]\u001b[A\n",
      "chunk:   1%| | 3/464 [00:00<00:19, 23.81it/s, now=Non\u001b[A\n",
      "chunk:   9%| | 43/464 [00:00<00:01, 219.03it/s, now=N\u001b[A\n",
      "chunk:  24%|▏| 112/464 [00:00<00:00, 419.82it/s, now=\u001b[A\n",
      "chunk:  45%|▍| 210/464 [00:00<00:00, 631.84it/s, now=\u001b[A\n",
      "chunk:  59%|▌| 276/464 [00:00<00:00, 473.77it/s, now=\u001b[A\n",
      "chunk:  88%|▉| 408/464 [00:00<00:00, 678.54it/s, now=\u001b[A\n",
      "chunk:   7%| | 26/354 [04:37<00:11, 27.78it/s, now=No\u001b[A"
     ]
    },
    {
     "name": "stdout",
     "output_type": "stream",
     "text": [
      "MoviePy - Done.\n"
     ]
    },
    {
     "name": "stderr",
     "output_type": "stream",
     "text": [
      "chunk:   7%| | 26/354 [04:37<00:11, 27.78it/s, now=No"
     ]
    },
    {
     "name": "stdout",
     "output_type": "stream",
     "text": [
      "MoviePy - Writing audio in C:\\Users\\Welcome\\Dhairya-Python\\sarcasm detection\\audio_context\\1_5786_c.wav\n"
     ]
    },
    {
     "name": "stderr",
     "output_type": "stream",
     "text": [
      "\n",
      "chunk:   0%|       | 0/332 [00:00<?, ?it/s, now=None]\u001b[A\n",
      "chunk:   1%| | 3/332 [00:00<00:13, 25.00it/s, now=Non\u001b[A\n",
      "chunk:  25%|▏| 82/332 [00:00<00:00, 440.74it/s, now=N\u001b[A\n",
      "chunk:  43%|▍| 144/332 [00:00<00:00, 516.81it/s, now=\u001b[A\n",
      "chunk:  63%|▋| 208/332 [00:00<00:00, 561.87it/s, now=\u001b[A\n",
      "chunk:  85%|▊| 283/332 [00:00<00:00, 628.26it/s, now=\u001b[A\n",
      "chunk:   7%| | 26/354 [04:38<00:11, 27.78it/s, now=No\u001b[A"
     ]
    },
    {
     "name": "stdout",
     "output_type": "stream",
     "text": [
      "MoviePy - Done.\n"
     ]
    },
    {
     "name": "stderr",
     "output_type": "stream",
     "text": [
      "chunk:   7%| | 26/354 [04:39<00:11, 27.78it/s, now=No"
     ]
    },
    {
     "name": "stdout",
     "output_type": "stream",
     "text": [
      "MoviePy - Writing audio in C:\\Users\\Welcome\\Dhairya-Python\\sarcasm detection\\audio_context\\1_5880_c.wav\n"
     ]
    },
    {
     "name": "stderr",
     "output_type": "stream",
     "text": [
      "\n",
      "chunk:   0%|       | 0/464 [00:00<?, ?it/s, now=None]\u001b[A\n",
      "chunk:   6%| | 27/464 [00:00<00:01, 269.98it/s, now=N\u001b[A\n",
      "chunk:  23%|▏| 107/464 [00:00<00:00, 581.73it/s, now=\u001b[A\n",
      "chunk:  44%|▍| 204/464 [00:00<00:00, 759.00it/s, now=\u001b[A\n",
      "chunk:  75%|▋| 347/464 [00:00<00:00, 1023.87it/s, now\u001b[A\n",
      "chunk: 100%|▉| 462/464 [00:00<00:00, 1069.33it/s, now\u001b[A\n",
      "chunk:   7%| | 26/354 [04:39<00:11, 27.78it/s, now=No\u001b[A"
     ]
    },
    {
     "name": "stdout",
     "output_type": "stream",
     "text": [
      "MoviePy - Done.\n"
     ]
    },
    {
     "name": "stderr",
     "output_type": "stream",
     "text": [
      "chunk:   7%| | 26/354 [04:40<00:11, 27.78it/s, now=No"
     ]
    },
    {
     "name": "stdout",
     "output_type": "stream",
     "text": [
      "MoviePy - Writing audio in C:\\Users\\Welcome\\Dhairya-Python\\sarcasm detection\\audio_context\\1_5919_c.wav\n"
     ]
    },
    {
     "name": "stderr",
     "output_type": "stream",
     "text": [
      "\n",
      "chunk:   0%|       | 0/464 [00:00<?, ?it/s, now=None]\u001b[A\n",
      "chunk:   9%| | 40/464 [00:00<00:01, 399.98it/s, now=N\u001b[A\n",
      "chunk:  42%|▍| 193/464 [00:00<00:00, 1064.64it/s, now\u001b[A\n",
      "chunk:  65%|▋| 302/464 [00:00<00:00, 1061.65it/s, now\u001b[A\n",
      "chunk:  88%|▉| 410/464 [00:00<00:00, 1056.40it/s, now\u001b[A\n",
      "chunk:   7%| | 26/354 [04:41<00:11, 27.78it/s, now=No\u001b[A"
     ]
    },
    {
     "name": "stdout",
     "output_type": "stream",
     "text": [
      "MoviePy - Done.\n"
     ]
    },
    {
     "name": "stderr",
     "output_type": "stream",
     "text": [
      "chunk:   7%| | 26/354 [04:41<00:11, 27.78it/s, now=No"
     ]
    },
    {
     "name": "stdout",
     "output_type": "stream",
     "text": [
      "MoviePy - Writing audio in C:\\Users\\Welcome\\Dhairya-Python\\sarcasm detection\\audio_context\\1_5953_c.wav\n"
     ]
    },
    {
     "name": "stderr",
     "output_type": "stream",
     "text": [
      "\n",
      "chunk:   0%|       | 0/464 [00:00<?, ?it/s, now=None]\u001b[A\n",
      "chunk:   1%| | 3/464 [00:00<00:36, 12.50it/s, now=Non\u001b[A\n",
      "chunk:  27%|▎| 127/464 [00:00<00:00, 470.50it/s, now=\u001b[A\n",
      "chunk:  50%|▌| 234/464 [00:00<00:00, 678.93it/s, now=\u001b[A\n",
      "chunk:  74%|▋| 344/464 [00:00<00:00, 818.65it/s, now=\u001b[A\n",
      "chunk:  95%|▉| 442/464 [00:00<00:00, 835.59it/s, now=\u001b[A\n",
      "chunk:   7%| | 26/354 [04:42<00:11, 27.78it/s, now=No\u001b[A"
     ]
    },
    {
     "name": "stdout",
     "output_type": "stream",
     "text": [
      "MoviePy - Done.\n"
     ]
    },
    {
     "name": "stderr",
     "output_type": "stream",
     "text": [
      "chunk:   7%| | 26/354 [04:42<00:11, 27.78it/s, now=No"
     ]
    },
    {
     "name": "stdout",
     "output_type": "stream",
     "text": [
      "MoviePy - Writing audio in C:\\Users\\Welcome\\Dhairya-Python\\sarcasm detection\\audio_context\\1_5964_c.wav\n"
     ]
    },
    {
     "name": "stderr",
     "output_type": "stream",
     "text": [
      "\n",
      "chunk:   0%|       | 0/420 [00:00<?, ?it/s, now=None]\u001b[A\n",
      "chunk:   1%| | 3/420 [00:00<00:14, 29.12it/s, now=Non\u001b[A\n",
      "chunk:  35%|▎| 146/420 [00:00<00:00, 843.07it/s, now=\u001b[A\n",
      "chunk:  61%|▌| 255/420 [00:00<00:00, 938.02it/s, now=\u001b[A\n",
      "chunk:  91%|▉| 383/420 [00:00<00:00, 1070.99it/s, now\u001b[A\n",
      "chunk:   7%| | 26/354 [04:43<00:11, 27.78it/s, now=No\u001b[A"
     ]
    },
    {
     "name": "stdout",
     "output_type": "stream",
     "text": [
      "MoviePy - Done.\n"
     ]
    },
    {
     "name": "stderr",
     "output_type": "stream",
     "text": [
      "chunk:   7%| | 26/354 [04:43<00:11, 27.78it/s, now=No"
     ]
    },
    {
     "name": "stdout",
     "output_type": "stream",
     "text": [
      "MoviePy - Writing audio in C:\\Users\\Welcome\\Dhairya-Python\\sarcasm detection\\audio_context\\1_6020_c.wav\n"
     ]
    },
    {
     "name": "stderr",
     "output_type": "stream",
     "text": [
      "\n",
      "chunk:   0%|       | 0/442 [00:00<?, ?it/s, now=None]\u001b[A\n",
      "chunk:   5%| | 23/442 [00:00<00:01, 227.71it/s, now=N\u001b[A\n",
      "chunk:  21%|▏| 95/442 [00:00<00:00, 516.08it/s, now=N\u001b[A\n",
      "chunk:  33%|▎| 147/442 [00:00<00:00, 497.45it/s, now=\u001b[A\n",
      "chunk:  58%|▌| 255/442 [00:00<00:00, 697.39it/s, now=\u001b[A\n",
      "chunk:  92%|▉| 408/442 [00:00<00:00, 956.34it/s, now=\u001b[A\n",
      "chunk:   7%| | 26/354 [04:44<00:11, 27.78it/s, now=No\u001b[A"
     ]
    },
    {
     "name": "stdout",
     "output_type": "stream",
     "text": [
      "MoviePy - Done.\n"
     ]
    },
    {
     "name": "stderr",
     "output_type": "stream",
     "text": [
      "chunk:   7%| | 26/354 [04:45<00:11, 27.78it/s, now=No"
     ]
    },
    {
     "name": "stdout",
     "output_type": "stream",
     "text": [
      "MoviePy - Writing audio in C:\\Users\\Welcome\\Dhairya-Python\\sarcasm detection\\audio_context\\1_6032_c.wav\n"
     ]
    },
    {
     "name": "stderr",
     "output_type": "stream",
     "text": [
      "\n",
      "chunk:   0%|       | 0/442 [00:00<?, ?it/s, now=None]\u001b[A\n",
      "chunk:   1%| | 3/442 [00:00<00:17, 25.00it/s, now=Non\u001b[A\n",
      "chunk:  23%|▏| 102/442 [00:00<00:00, 500.47it/s, now=\u001b[A\n",
      "chunk:  46%|▍| 204/442 [00:00<00:00, 706.87it/s, now=\u001b[A\n",
      "chunk:  77%|▊| 340/442 [00:00<00:00, 947.78it/s, now=\u001b[A\n",
      "chunk:   7%| | 26/354 [04:45<00:11, 27.78it/s, now=No\u001b[A"
     ]
    },
    {
     "name": "stdout",
     "output_type": "stream",
     "text": [
      "MoviePy - Done.\n"
     ]
    },
    {
     "name": "stderr",
     "output_type": "stream",
     "text": [
      "chunk:   7%| | 26/354 [04:46<00:11, 27.78it/s, now=No"
     ]
    },
    {
     "name": "stdout",
     "output_type": "stream",
     "text": [
      "MoviePy - Writing audio in C:\\Users\\Welcome\\Dhairya-Python\\sarcasm detection\\audio_context\\1_6039_c.wav\n"
     ]
    },
    {
     "name": "stderr",
     "output_type": "stream",
     "text": [
      "\n",
      "chunk:   0%|       | 0/464 [00:00<?, ?it/s, now=None]\u001b[A\n",
      "chunk:   1%| | 3/464 [00:00<00:15, 29.41it/s, now=Non\u001b[A\n",
      "chunk:  32%|▎| 150/464 [00:00<00:00, 869.84it/s, now=\u001b[A\n",
      "chunk:  55%|▌| 255/464 [00:00<00:00, 914.31it/s, now=\u001b[A\n",
      "chunk:  75%|▊| 349/464 [00:00<00:00, 924.16it/s, now=\u001b[A\n",
      "chunk:   7%| | 26/354 [04:46<00:11, 27.78it/s, now=No\u001b[A"
     ]
    },
    {
     "name": "stdout",
     "output_type": "stream",
     "text": [
      "MoviePy - Done.\n"
     ]
    },
    {
     "name": "stderr",
     "output_type": "stream",
     "text": [
      "chunk:   7%| | 26/354 [04:47<00:11, 27.78it/s, now=No"
     ]
    },
    {
     "name": "stdout",
     "output_type": "stream",
     "text": [
      "MoviePy - Writing audio in C:\\Users\\Welcome\\Dhairya-Python\\sarcasm detection\\audio_context\\1_6065_c.wav\n"
     ]
    },
    {
     "name": "stderr",
     "output_type": "stream",
     "text": [
      "\n",
      "chunk:   0%|       | 0/486 [00:00<?, ?it/s, now=None]\u001b[A\n",
      "chunk:   3%| | 13/486 [00:00<00:03, 129.99it/s, now=N\u001b[A\n",
      "chunk:  31%|▎| 153/486 [00:00<00:00, 819.18it/s, now=\u001b[A\n",
      "chunk:  55%|▌| 266/486 [00:00<00:00, 955.84it/s, now=\u001b[A\n",
      "chunk:  84%|▊| 406/486 [00:00<00:00, 1127.18it/s, now\u001b[A\n",
      "chunk:   7%| | 26/354 [04:47<00:11, 27.78it/s, now=No\u001b[A"
     ]
    },
    {
     "name": "stdout",
     "output_type": "stream",
     "text": [
      "MoviePy - Done.\n"
     ]
    },
    {
     "name": "stderr",
     "output_type": "stream",
     "text": [
      "chunk:   7%| | 26/354 [04:48<00:11, 27.78it/s, now=No"
     ]
    },
    {
     "name": "stdout",
     "output_type": "stream",
     "text": [
      "MoviePy - Writing audio in C:\\Users\\Welcome\\Dhairya-Python\\sarcasm detection\\audio_context\\1_6092_c.wav\n"
     ]
    },
    {
     "name": "stderr",
     "output_type": "stream",
     "text": [
      "\n",
      "chunk:   0%|       | 0/508 [00:00<?, ?it/s, now=None]\u001b[A\n",
      "chunk:   6%| | 29/508 [00:00<00:01, 287.11it/s, now=N\u001b[A\n",
      "chunk:  30%|▎| 153/508 [00:00<00:00, 821.24it/s, now=\u001b[A\n",
      "chunk:  59%|▌| 302/508 [00:00<00:00, 1121.11it/s, now\u001b[A\n",
      "chunk:  82%|▊| 417/508 [00:00<00:00, 1110.68it/s, now\u001b[A\n",
      "chunk:   7%| | 26/354 [04:49<00:11, 27.78it/s, now=No\u001b[A"
     ]
    },
    {
     "name": "stdout",
     "output_type": "stream",
     "text": [
      "MoviePy - Done.\n"
     ]
    },
    {
     "name": "stderr",
     "output_type": "stream",
     "text": [
      "chunk:   7%| | 26/354 [04:49<00:11, 27.78it/s, now=No"
     ]
    },
    {
     "name": "stdout",
     "output_type": "stream",
     "text": [
      "MoviePy - Writing audio in C:\\Users\\Welcome\\Dhairya-Python\\sarcasm detection\\audio_context\\1_60_c.wav\n"
     ]
    },
    {
     "name": "stderr",
     "output_type": "stream",
     "text": [
      "\n",
      "chunk:   0%|       | 0/486 [00:00<?, ?it/s, now=None]\u001b[A\n",
      "chunk:   6%| | 29/486 [00:00<00:01, 287.11it/s, now=N\u001b[A\n",
      "chunk:  31%|▎| 153/486 [00:00<00:00, 840.37it/s, now=\u001b[A\n",
      "chunk:  61%|▌| 296/486 [00:00<00:00, 1108.12it/s, now\u001b[A\n",
      "chunk:  84%|▊| 408/486 [00:00<00:00, 1095.52it/s, now\u001b[A\n",
      "chunk:   7%| | 26/354 [04:50<00:11, 27.78it/s, now=No\u001b[A"
     ]
    },
    {
     "name": "stdout",
     "output_type": "stream",
     "text": [
      "MoviePy - Done.\n"
     ]
    },
    {
     "name": "stderr",
     "output_type": "stream",
     "text": [
      "chunk:   7%| | 26/354 [04:50<00:11, 27.78it/s, now=No"
     ]
    },
    {
     "name": "stdout",
     "output_type": "stream",
     "text": [
      "MoviePy - Writing audio in C:\\Users\\Welcome\\Dhairya-Python\\sarcasm detection\\audio_context\\1_6113_c.wav\n"
     ]
    },
    {
     "name": "stderr",
     "output_type": "stream",
     "text": [
      "\n",
      "chunk:   0%|       | 0/442 [00:00<?, ?it/s, now=None]\u001b[A\n",
      "chunk:   2%| | 8/442 [00:00<00:05, 80.00it/s, now=Non\u001b[A\n",
      "chunk:  33%|▎| 148/442 [00:00<00:00, 856.42it/s, now=\u001b[A\n",
      "chunk:  58%|▌| 255/442 [00:00<00:00, 949.58it/s, now=\u001b[A\n",
      "chunk:  92%|▉| 408/442 [00:00<00:00, 1124.91it/s, now\u001b[A\n",
      "chunk:   7%| | 26/354 [04:51<00:11, 27.78it/s, now=No\u001b[A"
     ]
    },
    {
     "name": "stdout",
     "output_type": "stream",
     "text": [
      "MoviePy - Done.\n"
     ]
    },
    {
     "name": "stderr",
     "output_type": "stream",
     "text": [
      "chunk:   7%| | 26/354 [04:52<00:11, 27.78it/s, now=No"
     ]
    },
    {
     "name": "stdout",
     "output_type": "stream",
     "text": [
      "MoviePy - Writing audio in C:\\Users\\Welcome\\Dhairya-Python\\sarcasm detection\\audio_context\\1_6134_c.wav\n"
     ]
    },
    {
     "name": "stderr",
     "output_type": "stream",
     "text": [
      "\n",
      "chunk:   0%|       | 0/464 [00:00<?, ?it/s, now=None]\u001b[A\n",
      "chunk:  11%| | 52/464 [00:00<00:00, 519.97it/s, now=N\u001b[A\n",
      "chunk:  38%|▍| 177/464 [00:00<00:00, 949.36it/s, now=\u001b[A\n",
      "chunk:  66%|▋| 306/464 [00:00<00:00, 1089.94it/s, now\u001b[A\n",
      "chunk:  98%|▉| 454/464 [00:00<00:00, 1242.63it/s, now\u001b[A\n",
      "chunk:   7%| | 26/354 [04:52<00:11, 27.78it/s, now=No\u001b[A"
     ]
    },
    {
     "name": "stdout",
     "output_type": "stream",
     "text": [
      "MoviePy - Done.\n"
     ]
    },
    {
     "name": "stderr",
     "output_type": "stream",
     "text": [
      "chunk:   7%| | 26/354 [04:53<00:11, 27.78it/s, now=No"
     ]
    },
    {
     "name": "stdout",
     "output_type": "stream",
     "text": [
      "MoviePy - Writing audio in C:\\Users\\Welcome\\Dhairya-Python\\sarcasm detection\\audio_context\\1_6165_c.wav\n"
     ]
    },
    {
     "name": "stderr",
     "output_type": "stream",
     "text": [
      "\n",
      "chunk:   0%|       | 0/486 [00:00<?, ?it/s, now=None]\u001b[A\n",
      "chunk:   1%| | 3/486 [00:00<00:16, 30.00it/s, now=Non\u001b[A\n",
      "chunk:  31%|▎| 153/486 [00:00<00:00, 835.67it/s, now=\u001b[A\n",
      "chunk:  55%|▌| 267/486 [00:00<00:00, 969.47it/s, now=\u001b[A\n",
      "chunk:  81%|▊| 392/486 [00:00<00:00, 1077.68it/s, now\u001b[A\n",
      "chunk:   7%| | 26/354 [04:53<00:11, 27.78it/s, now=No\u001b[A"
     ]
    },
    {
     "name": "stdout",
     "output_type": "stream",
     "text": [
      "MoviePy - Done.\n"
     ]
    },
    {
     "name": "stderr",
     "output_type": "stream",
     "text": [
      "chunk:   7%| | 26/354 [04:54<00:11, 27.78it/s, now=No"
     ]
    },
    {
     "name": "stdout",
     "output_type": "stream",
     "text": [
      "MoviePy - Writing audio in C:\\Users\\Welcome\\Dhairya-Python\\sarcasm detection\\audio_context\\1_6183_c.wav\n"
     ]
    },
    {
     "name": "stderr",
     "output_type": "stream",
     "text": [
      "\n",
      "chunk:   0%|       | 0/464 [00:00<?, ?it/s, now=None]\u001b[A\n",
      "chunk:   6%| | 29/464 [00:00<00:01, 284.30it/s, now=N\u001b[A\n",
      "chunk:  38%|▍| 174/464 [00:00<00:00, 964.35it/s, now=\u001b[A\n",
      "chunk:  66%|▋| 306/464 [00:00<00:00, 1077.03it/s, now\u001b[A\n",
      "chunk:  99%|▉| 459/464 [00:00<00:00, 1231.68it/s, now\u001b[A\n",
      "chunk:   7%| | 26/354 [04:54<00:11, 27.78it/s, now=No\u001b[A"
     ]
    },
    {
     "name": "stdout",
     "output_type": "stream",
     "text": [
      "MoviePy - Done.\n"
     ]
    },
    {
     "name": "stderr",
     "output_type": "stream",
     "text": [
      "chunk:   7%| | 26/354 [04:55<00:11, 27.78it/s, now=No"
     ]
    },
    {
     "name": "stdout",
     "output_type": "stream",
     "text": [
      "MoviePy - Writing audio in C:\\Users\\Welcome\\Dhairya-Python\\sarcasm detection\\audio_context\\1_6188_c.wav\n"
     ]
    },
    {
     "name": "stderr",
     "output_type": "stream",
     "text": [
      "\n",
      "chunk:   0%|       | 0/442 [00:00<?, ?it/s, now=None]\u001b[A\n",
      "chunk:  13%|▏| 58/442 [00:00<00:00, 579.97it/s, now=N\u001b[A\n",
      "chunk:  45%|▍| 197/442 [00:00<00:00, 1056.41it/s, now\u001b[A\n",
      "chunk:  69%|▋| 303/442 [00:00<00:00, 881.01it/s, now=\u001b[A\n",
      "chunk:  94%|▉| 417/442 [00:00<00:00, 972.15it/s, now=\u001b[A\n",
      "chunk:   7%| | 26/354 [04:55<00:11, 27.78it/s, now=No\u001b[A"
     ]
    },
    {
     "name": "stdout",
     "output_type": "stream",
     "text": [
      "MoviePy - Done.\n"
     ]
    },
    {
     "name": "stderr",
     "output_type": "stream",
     "text": [
      "chunk:   7%| | 26/354 [04:56<00:11, 27.78it/s, now=No"
     ]
    },
    {
     "name": "stdout",
     "output_type": "stream",
     "text": [
      "MoviePy - Writing audio in C:\\Users\\Welcome\\Dhairya-Python\\sarcasm detection\\audio_context\\1_6211_c.wav\n"
     ]
    },
    {
     "name": "stderr",
     "output_type": "stream",
     "text": [
      "\n",
      "chunk:   0%|       | 0/442 [00:00<?, ?it/s, now=None]\u001b[A\n",
      "chunk:   5%| | 22/442 [00:00<00:01, 219.99it/s, now=N\u001b[A\n",
      "chunk:  31%|▎| 135/442 [00:00<00:00, 755.25it/s, now=\u001b[A\n",
      "chunk:  48%|▍| 213/442 [00:00<00:00, 633.47it/s, now=\u001b[A\n",
      "chunk:  80%|▊| 354/442 [00:00<00:00, 905.43it/s, now=\u001b[A\n",
      "chunk:   7%| | 26/354 [04:56<00:11, 27.78it/s, now=No\u001b[A"
     ]
    },
    {
     "name": "stdout",
     "output_type": "stream",
     "text": [
      "MoviePy - Done.\n"
     ]
    },
    {
     "name": "stderr",
     "output_type": "stream",
     "text": [
      "chunk:   7%| | 26/354 [04:57<00:11, 27.78it/s, now=No"
     ]
    },
    {
     "name": "stdout",
     "output_type": "stream",
     "text": [
      "MoviePy - Writing audio in C:\\Users\\Welcome\\Dhairya-Python\\sarcasm detection\\audio_context\\1_6221_c.wav\n"
     ]
    },
    {
     "name": "stderr",
     "output_type": "stream",
     "text": [
      "\n",
      "chunk:   0%|        | 0/67 [00:00<?, ?it/s, now=None]\u001b[A\n",
      "chunk:  43%|▍| 29/67 [00:00<00:00, 281.54it/s, now=No\u001b[A\n",
      "chunk:   7%| | 26/354 [04:57<00:11, 27.78it/s, now=No\u001b[A"
     ]
    },
    {
     "name": "stdout",
     "output_type": "stream",
     "text": [
      "MoviePy - Done.\n"
     ]
    },
    {
     "name": "stderr",
     "output_type": "stream",
     "text": [
      "chunk:   7%| | 26/354 [04:58<00:11, 27.78it/s, now=No"
     ]
    },
    {
     "name": "stdout",
     "output_type": "stream",
     "text": [
      "MoviePy - Writing audio in C:\\Users\\Welcome\\Dhairya-Python\\sarcasm detection\\audio_context\\1_6355_c.wav\n"
     ]
    },
    {
     "name": "stderr",
     "output_type": "stream",
     "text": [
      "\n",
      "chunk:   0%|       | 0/126 [00:00<?, ?it/s, now=None]\u001b[A\n",
      "chunk:  10%| | 13/126 [00:00<00:00, 129.99it/s, now=N\u001b[A\n",
      "chunk:  89%|▉| 112/126 [00:00<00:00, 635.85it/s, now=\u001b[A\n",
      "chunk:   7%| | 26/354 [04:58<00:11, 27.78it/s, now=No\u001b[A"
     ]
    },
    {
     "name": "stdout",
     "output_type": "stream",
     "text": [
      "MoviePy - Done.\n"
     ]
    },
    {
     "name": "stderr",
     "output_type": "stream",
     "text": [
      "chunk:   7%| | 26/354 [04:58<00:11, 27.78it/s, now=No"
     ]
    },
    {
     "name": "stdout",
     "output_type": "stream",
     "text": [
      "MoviePy - Writing audio in C:\\Users\\Welcome\\Dhairya-Python\\sarcasm detection\\audio_context\\1_6370_c.wav\n"
     ]
    },
    {
     "name": "stderr",
     "output_type": "stream",
     "text": [
      "\n",
      "chunk:   0%|       | 0/442 [00:00<?, ?it/s, now=None]\u001b[A\n",
      "chunk:   7%| | 29/442 [00:00<00:01, 284.30it/s, now=N\u001b[A\n",
      "chunk:  38%|▍| 170/442 [00:00<00:00, 941.02it/s, now=\u001b[A\n",
      "chunk:  69%|▋| 306/442 [00:00<00:00, 1072.92it/s, now\u001b[A\n",
      "chunk:   7%| | 26/354 [04:59<00:11, 27.78it/s, now=No\u001b[A"
     ]
    },
    {
     "name": "stdout",
     "output_type": "stream",
     "text": [
      "MoviePy - Done.\n"
     ]
    },
    {
     "name": "stderr",
     "output_type": "stream",
     "text": [
      "chunk:   7%| | 26/354 [04:59<00:11, 27.78it/s, now=No"
     ]
    },
    {
     "name": "stdout",
     "output_type": "stream",
     "text": [
      "MoviePy - Writing audio in C:\\Users\\Welcome\\Dhairya-Python\\sarcasm detection\\audio_context\\1_6426_c.wav\n"
     ]
    },
    {
     "name": "stderr",
     "output_type": "stream",
     "text": [
      "\n",
      "chunk:   0%|       | 0/486 [00:00<?, ?it/s, now=None]\u001b[A\n",
      "chunk:   1%| | 3/486 [00:00<00:23, 20.55it/s, now=Non\u001b[A\n",
      "chunk:  31%|▎| 153/486 [00:00<00:00, 706.74it/s, now=\u001b[A\n",
      "chunk:  57%|▌| 278/486 [00:00<00:00, 923.46it/s, now=\u001b[A\n",
      "chunk:  84%|▊| 408/486 [00:00<00:00, 1030.22it/s, now\u001b[A\n",
      "chunk:   7%| | 26/354 [05:00<00:11, 27.78it/s, now=No\u001b[A"
     ]
    },
    {
     "name": "stdout",
     "output_type": "stream",
     "text": [
      "MoviePy - Done.\n"
     ]
    },
    {
     "name": "stderr",
     "output_type": "stream",
     "text": [
      "chunk:   7%| | 26/354 [05:01<00:11, 27.78it/s, now=No"
     ]
    },
    {
     "name": "stdout",
     "output_type": "stream",
     "text": [
      "MoviePy - Writing audio in C:\\Users\\Welcome\\Dhairya-Python\\sarcasm detection\\audio_context\\1_6427_c.wav\n"
     ]
    },
    {
     "name": "stderr",
     "output_type": "stream",
     "text": [
      "\n",
      "chunk:   0%|       | 0/464 [00:00<?, ?it/s, now=None]\u001b[A\n",
      "chunk:   5%| | 21/464 [00:00<00:02, 209.99it/s, now=N\u001b[A\n",
      "chunk:  33%|▎| 153/464 [00:00<00:00, 838.24it/s, now=\u001b[A\n",
      "chunk:  64%|▋| 297/464 [00:00<00:00, 1108.66it/s, now\u001b[A\n",
      "chunk:  88%|▉| 409/464 [00:00<00:00, 1113.07it/s, now\u001b[A\n",
      "chunk:   7%| | 26/354 [05:01<00:11, 27.78it/s, now=No\u001b[A"
     ]
    },
    {
     "name": "stdout",
     "output_type": "stream",
     "text": [
      "MoviePy - Done.\n"
     ]
    },
    {
     "name": "stderr",
     "output_type": "stream",
     "text": [
      "chunk:   7%| | 26/354 [05:02<00:11, 27.78it/s, now=No"
     ]
    },
    {
     "name": "stdout",
     "output_type": "stream",
     "text": [
      "MoviePy - Writing audio in C:\\Users\\Welcome\\Dhairya-Python\\sarcasm detection\\audio_context\\1_6428_c.wav\n"
     ]
    },
    {
     "name": "stderr",
     "output_type": "stream",
     "text": [
      "\n",
      "chunk:   0%|       | 0/464 [00:00<?, ?it/s, now=None]\u001b[A\n",
      "chunk:   6%| | 27/464 [00:00<00:01, 269.98it/s, now=N\u001b[A\n",
      "chunk:  33%|▎| 153/464 [00:00<00:00, 766.62it/s, now=\u001b[A\n",
      "chunk:  60%|▌| 279/464 [00:00<00:00, 978.98it/s, now=\u001b[A\n",
      "chunk:  88%|▉| 408/464 [00:00<00:00, 1061.02it/s, now\u001b[A\n",
      "chunk:   7%| | 26/354 [05:02<00:11, 27.78it/s, now=No\u001b[A"
     ]
    },
    {
     "name": "stdout",
     "output_type": "stream",
     "text": [
      "MoviePy - Done.\n"
     ]
    },
    {
     "name": "stderr",
     "output_type": "stream",
     "text": [
      "chunk:   7%| | 26/354 [05:03<00:11, 27.78it/s, now=No"
     ]
    },
    {
     "name": "stdout",
     "output_type": "stream",
     "text": [
      "MoviePy - Writing audio in C:\\Users\\Welcome\\Dhairya-Python\\sarcasm detection\\audio_context\\1_6472_c.wav\n"
     ]
    },
    {
     "name": "stderr",
     "output_type": "stream",
     "text": [
      "\n",
      "chunk:   0%|       | 0/442 [00:00<?, ?it/s, now=None]\u001b[A\n",
      "chunk:   1%| | 3/442 [00:00<00:15, 28.57it/s, now=Non\u001b[A\n",
      "chunk:  35%|▎| 153/442 [00:00<00:00, 837.97it/s, now=\u001b[A\n",
      "chunk:  67%|▋| 295/442 [00:00<00:00, 1094.28it/s, now\u001b[A\n",
      "chunk:  92%|▉| 408/442 [00:00<00:00, 1091.19it/s, now\u001b[A\n",
      "chunk:   7%| | 26/354 [05:03<00:11, 27.78it/s, now=No\u001b[A"
     ]
    },
    {
     "name": "stdout",
     "output_type": "stream",
     "text": [
      "MoviePy - Done.\n"
     ]
    },
    {
     "name": "stderr",
     "output_type": "stream",
     "text": [
      "chunk:   7%| | 26/354 [05:04<00:11, 27.78it/s, now=No"
     ]
    },
    {
     "name": "stdout",
     "output_type": "stream",
     "text": [
      "MoviePy - Writing audio in C:\\Users\\Welcome\\Dhairya-Python\\sarcasm detection\\audio_context\\1_6504_c.wav\n"
     ]
    },
    {
     "name": "stderr",
     "output_type": "stream",
     "text": [
      "\n",
      "chunk:   0%|       | 0/464 [00:00<?, ?it/s, now=None]\u001b[A\n",
      "chunk:   8%| | 36/464 [00:00<00:01, 359.98it/s, now=N\u001b[A\n",
      "chunk:  34%|▎| 158/464 [00:00<00:00, 865.83it/s, now=\u001b[A\n",
      "chunk:  61%|▌| 281/464 [00:00<00:00, 1032.09it/s, now\u001b[A\n",
      "chunk:  86%|▊| 398/464 [00:00<00:00, 1086.51it/s, now\u001b[A\n",
      "chunk:   7%| | 26/354 [05:04<00:11, 27.78it/s, now=No\u001b[A"
     ]
    },
    {
     "name": "stdout",
     "output_type": "stream",
     "text": [
      "MoviePy - Done.\n"
     ]
    },
    {
     "name": "stderr",
     "output_type": "stream",
     "text": [
      "chunk:   7%| | 26/354 [05:05<00:11, 27.78it/s, now=No"
     ]
    },
    {
     "name": "stdout",
     "output_type": "stream",
     "text": [
      "MoviePy - Writing audio in C:\\Users\\Welcome\\Dhairya-Python\\sarcasm detection\\audio_context\\1_6534_c.wav\n"
     ]
    },
    {
     "name": "stderr",
     "output_type": "stream",
     "text": [
      "\n",
      "chunk:   0%|       | 0/420 [00:00<?, ?it/s, now=None]\u001b[A\n",
      "chunk:   1%| | 3/420 [00:00<00:15, 27.52it/s, now=Non\u001b[A\n",
      "chunk:  36%|▎| 153/420 [00:00<00:00, 816.38it/s, now=\u001b[A\n",
      "chunk:  61%|▌| 255/420 [00:00<00:00, 751.44it/s, now=\u001b[A\n",
      "chunk:  85%|▊| 357/420 [00:00<00:00, 809.68it/s, now=\u001b[A\n",
      "chunk:   7%| | 26/354 [05:05<00:11, 27.78it/s, now=No\u001b[A"
     ]
    },
    {
     "name": "stdout",
     "output_type": "stream",
     "text": [
      "MoviePy - Done.\n"
     ]
    },
    {
     "name": "stderr",
     "output_type": "stream",
     "text": [
      "chunk:   7%| | 26/354 [05:06<00:11, 27.78it/s, now=No"
     ]
    },
    {
     "name": "stdout",
     "output_type": "stream",
     "text": [
      "MoviePy - Writing audio in C:\\Users\\Welcome\\Dhairya-Python\\sarcasm detection\\audio_context\\1_6627_c.wav\n"
     ]
    },
    {
     "name": "stderr",
     "output_type": "stream",
     "text": [
      "\n",
      "chunk:   0%|       | 0/442 [00:00<?, ?it/s, now=None]\u001b[A\n",
      "chunk:   1%| | 3/442 [00:00<00:14, 29.41it/s, now=Non\u001b[A\n",
      "chunk:  23%|▏| 102/442 [00:00<00:00, 542.35it/s, now=\u001b[A\n",
      "chunk:  50%|▍| 219/442 [00:00<00:00, 814.64it/s, now=\u001b[A\n",
      "chunk:  73%|▋| 324/442 [00:00<00:00, 904.68it/s, now=\u001b[A\n",
      "chunk:   7%| | 26/354 [05:06<00:11, 27.78it/s, now=No\u001b[A"
     ]
    },
    {
     "name": "stdout",
     "output_type": "stream",
     "text": [
      "MoviePy - Done.\n"
     ]
    },
    {
     "name": "stderr",
     "output_type": "stream",
     "text": [
      "chunk:   7%| | 26/354 [05:07<00:11, 27.78it/s, now=No"
     ]
    },
    {
     "name": "stdout",
     "output_type": "stream",
     "text": [
      "MoviePy - Writing audio in C:\\Users\\Welcome\\Dhairya-Python\\sarcasm detection\\audio_context\\1_6645_c.wav\n"
     ]
    },
    {
     "name": "stderr",
     "output_type": "stream",
     "text": [
      "\n",
      "chunk:   0%|       | 0/376 [00:00<?, ?it/s, now=None]\u001b[A\n",
      "chunk:   1%| | 3/376 [00:00<00:12, 30.00it/s, now=Non\u001b[A\n",
      "chunk:  27%|▎| 102/376 [00:00<00:00, 591.19it/s, now=\u001b[A\n",
      "chunk:  67%|▋| 252/376 [00:00<00:00, 1004.81it/s, now\u001b[A\n",
      "chunk:   7%| | 26/354 [05:07<00:11, 27.78it/s, now=No\u001b[A"
     ]
    },
    {
     "name": "stdout",
     "output_type": "stream",
     "text": [
      "MoviePy - Done.\n"
     ]
    },
    {
     "name": "stderr",
     "output_type": "stream",
     "text": [
      "chunk:   7%| | 26/354 [05:08<00:11, 27.78it/s, now=No"
     ]
    },
    {
     "name": "stdout",
     "output_type": "stream",
     "text": [
      "MoviePy - Writing audio in C:\\Users\\Welcome\\Dhairya-Python\\sarcasm detection\\audio_context\\1_6648_c.wav\n"
     ]
    },
    {
     "name": "stderr",
     "output_type": "stream",
     "text": [
      "\n",
      "chunk:   0%|       | 0/376 [00:00<?, ?it/s, now=None]\u001b[A\n",
      "chunk:   1%| | 3/376 [00:00<00:12, 29.41it/s, now=Non\u001b[A\n",
      "chunk:  41%|▍| 153/376 [00:00<00:00, 838.43it/s, now=\u001b[A\n",
      "chunk:  75%|▊| 283/376 [00:00<00:00, 1041.75it/s, now\u001b[A\n",
      "chunk:   7%| | 26/354 [05:08<00:11, 27.78it/s, now=No\u001b[A"
     ]
    },
    {
     "name": "stdout",
     "output_type": "stream",
     "text": [
      "MoviePy - Done.\n"
     ]
    },
    {
     "name": "stderr",
     "output_type": "stream",
     "text": [
      "chunk:   7%| | 26/354 [05:09<00:11, 27.78it/s, now=No"
     ]
    },
    {
     "name": "stdout",
     "output_type": "stream",
     "text": [
      "MoviePy - Writing audio in C:\\Users\\Welcome\\Dhairya-Python\\sarcasm detection\\audio_context\\1_6683_c.wav\n"
     ]
    },
    {
     "name": "stderr",
     "output_type": "stream",
     "text": [
      "\n",
      "chunk:   0%|       | 0/486 [00:00<?, ?it/s, now=None]\u001b[A\n",
      "chunk:   3%| | 14/486 [00:00<00:03, 139.99it/s, now=N\u001b[A\n",
      "chunk:  31%|▎| 153/486 [00:00<00:00, 804.28it/s, now=\u001b[A\n",
      "chunk:  58%|▌| 281/486 [00:00<00:00, 1011.53it/s, now\u001b[A\n",
      "chunk:  84%|▊| 408/486 [00:00<00:00, 1042.66it/s, now\u001b[A\n",
      "chunk:   7%| | 26/354 [05:09<00:11, 27.78it/s, now=No\u001b[A"
     ]
    },
    {
     "name": "stdout",
     "output_type": "stream",
     "text": [
      "MoviePy - Done.\n"
     ]
    },
    {
     "name": "stderr",
     "output_type": "stream",
     "text": [
      "chunk:   7%| | 26/354 [05:10<00:11, 27.78it/s, now=No"
     ]
    },
    {
     "name": "stdout",
     "output_type": "stream",
     "text": [
      "MoviePy - Writing audio in C:\\Users\\Welcome\\Dhairya-Python\\sarcasm detection\\audio_context\\1_672_c.wav\n"
     ]
    },
    {
     "name": "stderr",
     "output_type": "stream",
     "text": [
      "\n",
      "chunk:   0%|       | 0/420 [00:00<?, ?it/s, now=None]\u001b[A\n",
      "chunk:   7%| | 29/420 [00:00<00:01, 287.11it/s, now=N\u001b[A\n",
      "chunk:  41%|▍| 174/420 [00:00<00:00, 968.31it/s, now=\u001b[A\n",
      "chunk:  73%|▋| 306/420 [00:00<00:00, 1065.40it/s, now\u001b[A\n",
      "chunk:   7%| | 26/354 [05:10<00:11, 27.78it/s, now=No\u001b[A"
     ]
    },
    {
     "name": "stdout",
     "output_type": "stream",
     "text": [
      "MoviePy - Done.\n"
     ]
    },
    {
     "name": "stderr",
     "output_type": "stream",
     "text": [
      "chunk:   7%| | 26/354 [05:10<00:11, 27.78it/s, now=No"
     ]
    },
    {
     "name": "stdout",
     "output_type": "stream",
     "text": [
      "MoviePy - Writing audio in C:\\Users\\Welcome\\Dhairya-Python\\sarcasm detection\\audio_context\\1_6766_c.wav\n"
     ]
    },
    {
     "name": "stderr",
     "output_type": "stream",
     "text": [
      "\n",
      "chunk:   0%|       | 0/464 [00:00<?, ?it/s, now=None]\u001b[A\n",
      "chunk:   9%| | 42/464 [00:00<00:01, 419.98it/s, now=N\u001b[A\n",
      "chunk:  39%|▍| 182/464 [00:00<00:00, 996.41it/s, now=\u001b[A\n",
      "chunk:  66%|▋| 306/464 [00:00<00:00, 1087.74it/s, now\u001b[A\n",
      "chunk:  99%|▉| 459/464 [00:00<00:00, 1236.26it/s, now\u001b[A\n",
      "chunk:   7%| | 26/354 [05:11<00:11, 27.78it/s, now=No\u001b[A"
     ]
    },
    {
     "name": "stdout",
     "output_type": "stream",
     "text": [
      "MoviePy - Done.\n"
     ]
    },
    {
     "name": "stderr",
     "output_type": "stream",
     "text": [
      "chunk:   7%| | 26/354 [05:12<00:11, 27.78it/s, now=No"
     ]
    },
    {
     "name": "stdout",
     "output_type": "stream",
     "text": [
      "MoviePy - Writing audio in C:\\Users\\Welcome\\Dhairya-Python\\sarcasm detection\\audio_context\\1_6769_c.wav\n"
     ]
    },
    {
     "name": "stderr",
     "output_type": "stream",
     "text": [
      "\n",
      "chunk:   0%|       | 0/486 [00:00<?, ?it/s, now=None]\u001b[A\n",
      "chunk:   7%| | 32/486 [00:00<00:01, 319.98it/s, now=N\u001b[A\n",
      "chunk:  33%|▎| 161/486 [00:00<00:00, 890.54it/s, now=\u001b[A\n",
      "chunk:  62%|▌| 301/486 [00:00<00:00, 1123.13it/s, now\u001b[A\n",
      "chunk:  85%|▊| 415/486 [00:00<00:00, 1070.59it/s, now\u001b[A\n",
      "chunk:   7%| | 26/354 [05:12<00:11, 27.78it/s, now=No\u001b[A"
     ]
    },
    {
     "name": "stdout",
     "output_type": "stream",
     "text": [
      "MoviePy - Done.\n"
     ]
    },
    {
     "name": "stderr",
     "output_type": "stream",
     "text": [
      "chunk:   7%| | 26/354 [05:13<00:11, 27.78it/s, now=No"
     ]
    },
    {
     "name": "stdout",
     "output_type": "stream",
     "text": [
      "MoviePy - Writing audio in C:\\Users\\Welcome\\Dhairya-Python\\sarcasm detection\\audio_context\\1_6835_c.wav\n"
     ]
    },
    {
     "name": "stderr",
     "output_type": "stream",
     "text": [
      "\n",
      "chunk:   0%|       | 0/442 [00:00<?, ?it/s, now=None]\u001b[A\n",
      "chunk:   4%| | 18/442 [00:00<00:02, 179.99it/s, now=N\u001b[A\n",
      "chunk:  35%|▎| 153/442 [00:00<00:00, 819.95it/s, now=\u001b[A\n",
      "chunk:  69%|▋| 306/442 [00:00<00:00, 1076.91it/s, now\u001b[A\n",
      "chunk:   7%| | 26/354 [05:13<00:11, 27.78it/s, now=No\u001b[A"
     ]
    },
    {
     "name": "stdout",
     "output_type": "stream",
     "text": [
      "MoviePy - Done.\n"
     ]
    },
    {
     "name": "stderr",
     "output_type": "stream",
     "text": [
      "chunk:   7%| | 26/354 [05:14<00:11, 27.78it/s, now=No"
     ]
    },
    {
     "name": "stdout",
     "output_type": "stream",
     "text": [
      "MoviePy - Writing audio in C:\\Users\\Welcome\\Dhairya-Python\\sarcasm detection\\audio_context\\1_6860_c.wav\n"
     ]
    },
    {
     "name": "stderr",
     "output_type": "stream",
     "text": [
      "\n",
      "chunk:   0%|       | 0/464 [00:00<?, ?it/s, now=None]\u001b[A\n",
      "chunk:   5%| | 25/464 [00:00<00:01, 249.99it/s, now=N\u001b[A\n",
      "chunk:  33%|▎| 153/464 [00:00<00:00, 840.99it/s, now=\u001b[A\n",
      "chunk:  62%|▌| 286/464 [00:00<00:00, 1062.13it/s, now\u001b[A\n",
      "chunk:  87%|▊| 404/464 [00:00<00:00, 1108.37it/s, now\u001b[A\n",
      "chunk:   7%| | 26/354 [05:14<00:11, 27.78it/s, now=No\u001b[A"
     ]
    },
    {
     "name": "stdout",
     "output_type": "stream",
     "text": [
      "MoviePy - Done.\n"
     ]
    },
    {
     "name": "stderr",
     "output_type": "stream",
     "text": [
      "chunk:   7%| | 26/354 [05:15<00:11, 27.78it/s, now=No"
     ]
    },
    {
     "name": "stdout",
     "output_type": "stream",
     "text": [
      "MoviePy - Writing audio in C:\\Users\\Welcome\\Dhairya-Python\\sarcasm detection\\audio_context\\1_7047_c.wav\n"
     ]
    },
    {
     "name": "stderr",
     "output_type": "stream",
     "text": [
      "\n",
      "chunk:   0%|       | 0/486 [00:00<?, ?it/s, now=None]\u001b[A\n",
      "chunk:   6%| | 29/486 [00:00<00:01, 289.98it/s, now=N\u001b[A\n",
      "chunk:  32%|▎| 157/486 [00:00<00:00, 872.30it/s, now=\u001b[A\n",
      "chunk:  61%|▌| 297/486 [00:00<00:00, 1113.23it/s, now\u001b[A\n",
      "chunk:  84%|▊| 410/486 [00:00<00:00, 1041.68it/s, now\u001b[A\n",
      "chunk:   7%| | 26/354 [05:15<00:11, 27.78it/s, now=No\u001b[A"
     ]
    },
    {
     "name": "stdout",
     "output_type": "stream",
     "text": [
      "MoviePy - Done.\n"
     ]
    },
    {
     "name": "stderr",
     "output_type": "stream",
     "text": [
      "chunk:   7%| | 26/354 [05:16<00:11, 27.78it/s, now=No"
     ]
    },
    {
     "name": "stdout",
     "output_type": "stream",
     "text": [
      "MoviePy - Writing audio in C:\\Users\\Welcome\\Dhairya-Python\\sarcasm detection\\audio_context\\1_7082_c.wav\n"
     ]
    },
    {
     "name": "stderr",
     "output_type": "stream",
     "text": [
      "\n",
      "chunk:   0%|       | 0/398 [00:00<?, ?it/s, now=None]\u001b[A\n",
      "chunk:   1%| | 3/398 [00:00<00:20, 18.87it/s, now=Non\u001b[A\n",
      "chunk:  30%|▎| 119/398 [00:00<00:00, 558.89it/s, now=\u001b[A\n",
      "chunk:  55%|▌| 218/398 [00:00<00:00, 732.76it/s, now=\u001b[A\n",
      "chunk:  90%|▉| 357/398 [00:00<00:00, 938.69it/s, now=\u001b[A\n",
      "chunk:   7%| | 26/354 [05:16<00:11, 27.78it/s, now=No\u001b[A"
     ]
    },
    {
     "name": "stdout",
     "output_type": "stream",
     "text": [
      "MoviePy - Done.\n"
     ]
    },
    {
     "name": "stderr",
     "output_type": "stream",
     "text": [
      "chunk:   7%| | 26/354 [05:17<00:11, 27.78it/s, now=No"
     ]
    },
    {
     "name": "stdout",
     "output_type": "stream",
     "text": [
      "MoviePy - Writing audio in C:\\Users\\Welcome\\Dhairya-Python\\sarcasm detection\\audio_context\\1_7089_c.wav\n"
     ]
    },
    {
     "name": "stderr",
     "output_type": "stream",
     "text": [
      "\n",
      "chunk:   0%|       | 0/508 [00:00<?, ?it/s, now=None]\u001b[A\n",
      "chunk:   5%| | 25/508 [00:00<00:01, 249.99it/s, now=N\u001b[A\n",
      "chunk:  30%|▎| 153/508 [00:00<00:00, 826.66it/s, now=\u001b[A\n",
      "chunk:  60%|▌| 306/508 [00:00<00:00, 1069.84it/s, now\u001b[A\n",
      "chunk:  88%|▉| 447/508 [00:00<00:00, 1197.33it/s, now\u001b[A\n",
      "chunk:   7%| | 26/354 [05:17<00:11, 27.78it/s, now=No\u001b[A"
     ]
    },
    {
     "name": "stdout",
     "output_type": "stream",
     "text": [
      "MoviePy - Done.\n"
     ]
    },
    {
     "name": "stderr",
     "output_type": "stream",
     "text": [
      "chunk:   7%| | 26/354 [05:18<00:11, 27.78it/s, now=No"
     ]
    },
    {
     "name": "stdout",
     "output_type": "stream",
     "text": [
      "MoviePy - Writing audio in C:\\Users\\Welcome\\Dhairya-Python\\sarcasm detection\\audio_context\\1_70_c.wav\n"
     ]
    },
    {
     "name": "stderr",
     "output_type": "stream",
     "text": [
      "\n",
      "chunk:   0%|       | 0/486 [00:00<?, ?it/s, now=None]\u001b[A\n",
      "chunk:   6%| | 28/486 [00:00<00:01, 279.98it/s, now=N\u001b[A\n",
      "chunk:  31%|▎| 153/486 [00:00<00:00, 794.46it/s, now=\u001b[A\n",
      "chunk:  62%|▌| 303/486 [00:00<00:00, 1104.69it/s, now\u001b[A\n",
      "chunk:  88%|▉| 427/486 [00:00<00:00, 1156.87it/s, now\u001b[A\n",
      "chunk:   7%| | 26/354 [05:18<00:11, 27.78it/s, now=No\u001b[A"
     ]
    },
    {
     "name": "stdout",
     "output_type": "stream",
     "text": [
      "MoviePy - Done.\n"
     ]
    },
    {
     "name": "stderr",
     "output_type": "stream",
     "text": [
      "chunk:   7%| | 26/354 [05:19<00:11, 27.78it/s, now=No"
     ]
    },
    {
     "name": "stdout",
     "output_type": "stream",
     "text": [
      "MoviePy - Writing audio in C:\\Users\\Welcome\\Dhairya-Python\\sarcasm detection\\audio_context\\1_7186_c.wav\n"
     ]
    },
    {
     "name": "stderr",
     "output_type": "stream",
     "text": [
      "\n",
      "chunk:   0%|       | 0/464 [00:00<?, ?it/s, now=None]\u001b[A\n",
      "chunk:   6%| | 28/464 [00:00<00:01, 277.21it/s, now=N\u001b[A\n",
      "chunk:  33%|▎| 153/464 [00:00<00:00, 832.42it/s, now=\u001b[A\n",
      "chunk:  66%|▋| 304/464 [00:00<00:00, 1138.16it/s, now\u001b[A\n",
      "chunk:  90%|▉| 419/464 [00:00<00:00, 1120.81it/s, now\u001b[A\n",
      "chunk:   7%| | 26/354 [05:19<00:11, 27.78it/s, now=No\u001b[A"
     ]
    },
    {
     "name": "stdout",
     "output_type": "stream",
     "text": [
      "MoviePy - Done.\n"
     ]
    },
    {
     "name": "stderr",
     "output_type": "stream",
     "text": [
      "chunk:   7%| | 26/354 [05:20<00:11, 27.78it/s, now=No"
     ]
    },
    {
     "name": "stdout",
     "output_type": "stream",
     "text": [
      "MoviePy - Writing audio in C:\\Users\\Welcome\\Dhairya-Python\\sarcasm detection\\audio_context\\1_7281_c.wav\n"
     ]
    },
    {
     "name": "stderr",
     "output_type": "stream",
     "text": [
      "\n",
      "chunk:   0%|       | 0/464 [00:00<?, ?it/s, now=None]\u001b[A\n",
      "chunk:  15%|▏| 71/464 [00:00<00:00, 709.96it/s, now=N\u001b[A\n",
      "chunk:  33%|▎| 153/464 [00:00<00:00, 678.83it/s, now=\u001b[A\n",
      "chunk:  61%|▌| 283/464 [00:00<00:00, 942.23it/s, now=\u001b[A\n",
      "chunk:  88%|▉| 409/464 [00:00<00:00, 1062.09it/s, now\u001b[A\n",
      "chunk:   7%| | 26/354 [05:20<00:11, 27.78it/s, now=No\u001b[A"
     ]
    },
    {
     "name": "stdout",
     "output_type": "stream",
     "text": [
      "MoviePy - Done.\n"
     ]
    },
    {
     "name": "stderr",
     "output_type": "stream",
     "text": [
      "chunk:   7%| | 26/354 [05:21<00:11, 27.78it/s, now=No"
     ]
    },
    {
     "name": "stdout",
     "output_type": "stream",
     "text": [
      "MoviePy - Writing audio in C:\\Users\\Welcome\\Dhairya-Python\\sarcasm detection\\audio_context\\1_7341_c.wav\n"
     ]
    },
    {
     "name": "stderr",
     "output_type": "stream",
     "text": [
      "\n",
      "chunk:   0%|       | 0/486 [00:00<?, ?it/s, now=None]\u001b[A\n",
      "chunk:   7%| | 34/486 [00:00<00:01, 339.98it/s, now=N\u001b[A\n",
      "chunk:  29%|▎| 142/486 [00:00<00:00, 775.25it/s, now=\u001b[A\n",
      "chunk:  46%|▍| 222/486 [00:00<00:00, 729.87it/s, now=\u001b[A\n",
      "chunk:  73%|▋| 357/486 [00:00<00:00, 932.05it/s, now=\u001b[A\n",
      "chunk:   7%| | 26/354 [05:22<00:11, 27.78it/s, now=No\u001b[A"
     ]
    },
    {
     "name": "stdout",
     "output_type": "stream",
     "text": [
      "MoviePy - Done.\n"
     ]
    },
    {
     "name": "stderr",
     "output_type": "stream",
     "text": [
      "chunk:   7%| | 26/354 [05:22<00:11, 27.78it/s, now=No"
     ]
    },
    {
     "name": "stdout",
     "output_type": "stream",
     "text": [
      "MoviePy - Writing audio in C:\\Users\\Welcome\\Dhairya-Python\\sarcasm detection\\audio_context\\1_7357_c.wav\n"
     ]
    },
    {
     "name": "stderr",
     "output_type": "stream",
     "text": [
      "\n",
      "chunk:   0%|       | 0/486 [00:00<?, ?it/s, now=None]\u001b[A\n",
      "chunk:   1%| | 3/486 [00:00<00:17, 27.03it/s, now=Non\u001b[A\n",
      "chunk:  30%|▎| 146/486 [00:00<00:00, 816.50it/s, now=\u001b[A\n",
      "chunk:  48%|▍| 233/486 [00:00<00:00, 822.00it/s, now=\u001b[A\n",
      "chunk:  73%|▋| 357/486 [00:00<00:00, 939.14it/s, now=\u001b[A\n",
      "chunk:   7%| | 26/354 [05:23<00:11, 27.78it/s, now=No\u001b[A"
     ]
    },
    {
     "name": "stdout",
     "output_type": "stream",
     "text": [
      "MoviePy - Done.\n"
     ]
    },
    {
     "name": "stderr",
     "output_type": "stream",
     "text": [
      "chunk:   7%| | 26/354 [05:23<00:11, 27.78it/s, now=No"
     ]
    },
    {
     "name": "stdout",
     "output_type": "stream",
     "text": [
      "MoviePy - Writing audio in C:\\Users\\Welcome\\Dhairya-Python\\sarcasm detection\\audio_context\\1_7395_c.wav\n"
     ]
    },
    {
     "name": "stderr",
     "output_type": "stream",
     "text": [
      "\n",
      "chunk:   0%|       | 0/398 [00:00<?, ?it/s, now=None]\u001b[A\n",
      "chunk:   7%| | 27/398 [00:00<00:01, 269.98it/s, now=N\u001b[A\n",
      "chunk:  40%|▍| 159/398 [00:00<00:00, 887.60it/s, now=\u001b[A\n",
      "chunk:  76%|▊| 303/398 [00:00<00:00, 1139.80it/s, now\u001b[A\n",
      "chunk:   7%| | 26/354 [05:24<00:11, 27.78it/s, now=No\u001b[A"
     ]
    },
    {
     "name": "stdout",
     "output_type": "stream",
     "text": [
      "MoviePy - Done.\n"
     ]
    },
    {
     "name": "stderr",
     "output_type": "stream",
     "text": [
      "chunk:   7%| | 26/354 [05:24<00:11, 27.78it/s, now=No"
     ]
    },
    {
     "name": "stdout",
     "output_type": "stream",
     "text": [
      "MoviePy - Writing audio in C:\\Users\\Welcome\\Dhairya-Python\\sarcasm detection\\audio_context\\1_7400_c.wav\n"
     ]
    },
    {
     "name": "stderr",
     "output_type": "stream",
     "text": [
      "\n",
      "chunk:   0%|       | 0/486 [00:00<?, ?it/s, now=None]\u001b[A\n",
      "chunk:   1%| | 3/486 [00:00<00:16, 28.84it/s, now=Non\u001b[A\n",
      "chunk:  27%|▎| 130/486 [00:00<00:00, 747.06it/s, now=\u001b[A\n",
      "chunk:  47%|▍| 230/486 [00:00<00:00, 861.51it/s, now=\u001b[A\n",
      "chunk:  73%|▋| 357/486 [00:00<00:00, 998.36it/s, now=\u001b[A\n",
      "chunk:   7%| | 26/354 [05:25<00:11, 27.78it/s, now=No\u001b[A"
     ]
    },
    {
     "name": "stdout",
     "output_type": "stream",
     "text": [
      "MoviePy - Done.\n"
     ]
    },
    {
     "name": "stderr",
     "output_type": "stream",
     "text": [
      "chunk:   7%| | 26/354 [05:25<00:11, 27.78it/s, now=No"
     ]
    },
    {
     "name": "stdout",
     "output_type": "stream",
     "text": [
      "MoviePy - Writing audio in C:\\Users\\Welcome\\Dhairya-Python\\sarcasm detection\\audio_context\\1_7402_c.wav\n"
     ]
    },
    {
     "name": "stderr",
     "output_type": "stream",
     "text": [
      "\n",
      "chunk:   0%|       | 0/486 [00:00<?, ?it/s, now=None]\u001b[A\n",
      "chunk:   1%| | 3/486 [00:00<00:16, 28.57it/s, now=Non\u001b[A\n",
      "chunk:  29%|▎| 140/486 [00:00<00:00, 801.68it/s, now=\u001b[A\n",
      "chunk:  57%|▌| 276/486 [00:00<00:00, 1053.77it/s, now\u001b[A\n",
      "chunk:  84%|▊| 408/486 [00:00<00:00, 1114.44it/s, now\u001b[A\n",
      "chunk:   7%| | 26/354 [05:26<00:11, 27.78it/s, now=No\u001b[A"
     ]
    },
    {
     "name": "stdout",
     "output_type": "stream",
     "text": [
      "MoviePy - Done.\n"
     ]
    },
    {
     "name": "stderr",
     "output_type": "stream",
     "text": [
      "chunk:   7%| | 26/354 [05:26<00:11, 27.78it/s, now=No"
     ]
    },
    {
     "name": "stdout",
     "output_type": "stream",
     "text": [
      "MoviePy - Writing audio in C:\\Users\\Welcome\\Dhairya-Python\\sarcasm detection\\audio_context\\1_7442_c.wav\n"
     ]
    },
    {
     "name": "stderr",
     "output_type": "stream",
     "text": [
      "\n",
      "chunk:   0%|       | 0/442 [00:00<?, ?it/s, now=None]\u001b[A\n",
      "chunk:   7%| | 32/442 [00:00<00:01, 319.98it/s, now=N\u001b[A\n",
      "chunk:  35%|▎| 153/442 [00:00<00:00, 833.67it/s, now=\u001b[A\n",
      "chunk:  58%|▌| 255/442 [00:00<00:00, 874.54it/s, now=\u001b[A\n",
      "chunk:  92%|▉| 408/442 [00:00<00:00, 1099.52it/s, now\u001b[A\n",
      "chunk:   7%| | 26/354 [05:27<00:11, 27.78it/s, now=No\u001b[A"
     ]
    },
    {
     "name": "stdout",
     "output_type": "stream",
     "text": [
      "MoviePy - Done.\n"
     ]
    },
    {
     "name": "stderr",
     "output_type": "stream",
     "text": [
      "chunk:   7%| | 26/354 [05:27<00:11, 27.78it/s, now=No"
     ]
    },
    {
     "name": "stdout",
     "output_type": "stream",
     "text": [
      "MoviePy - Writing audio in C:\\Users\\Welcome\\Dhairya-Python\\sarcasm detection\\audio_context\\1_7443_c.wav\n"
     ]
    },
    {
     "name": "stderr",
     "output_type": "stream",
     "text": [
      "\n",
      "chunk:   0%|       | 0/464 [00:00<?, ?it/s, now=None]\u001b[A\n",
      "chunk:   6%| | 29/464 [00:00<00:01, 287.11it/s, now=N\u001b[A\n",
      "chunk:  34%|▎| 158/464 [00:00<00:00, 874.58it/s, now=\u001b[A\n",
      "chunk:  66%|▋| 306/464 [00:00<00:00, 1095.47it/s, now\u001b[A\n",
      "chunk:  99%|▉| 459/464 [00:00<00:00, 1242.69it/s, now\u001b[A\n",
      "chunk:   7%| | 26/354 [05:28<00:11, 27.78it/s, now=No\u001b[A"
     ]
    },
    {
     "name": "stdout",
     "output_type": "stream",
     "text": [
      "MoviePy - Done.\n"
     ]
    },
    {
     "name": "stderr",
     "output_type": "stream",
     "text": [
      "chunk:   7%| | 26/354 [05:28<00:11, 27.78it/s, now=No"
     ]
    },
    {
     "name": "stdout",
     "output_type": "stream",
     "text": [
      "MoviePy - Writing audio in C:\\Users\\Welcome\\Dhairya-Python\\sarcasm detection\\audio_context\\1_7445_c.wav\n"
     ]
    },
    {
     "name": "stderr",
     "output_type": "stream",
     "text": [
      "\n",
      "chunk:   0%|       | 0/442 [00:00<?, ?it/s, now=None]\u001b[A\n",
      "chunk:  10%| | 44/442 [00:00<00:00, 439.97it/s, now=N\u001b[A\n",
      "chunk:  46%|▍| 204/442 [00:00<00:00, 1054.08it/s, now\u001b[A\n",
      "chunk:  70%|▋| 308/442 [00:00<00:00, 1025.23it/s, now\u001b[A\n",
      "chunk:   7%| | 26/354 [05:29<00:11, 27.78it/s, now=No\u001b[A"
     ]
    },
    {
     "name": "stdout",
     "output_type": "stream",
     "text": [
      "MoviePy - Done.\n"
     ]
    },
    {
     "name": "stderr",
     "output_type": "stream",
     "text": [
      "chunk:   7%| | 26/354 [05:29<00:11, 27.78it/s, now=No"
     ]
    },
    {
     "name": "stdout",
     "output_type": "stream",
     "text": [
      "MoviePy - Writing audio in C:\\Users\\Welcome\\Dhairya-Python\\sarcasm detection\\audio_context\\1_7449_c.wav\n"
     ]
    },
    {
     "name": "stderr",
     "output_type": "stream",
     "text": [
      "\n",
      "chunk:   0%|       | 0/486 [00:00<?, ?it/s, now=None]\u001b[A\n",
      "chunk:   6%| | 28/486 [00:00<00:01, 279.98it/s, now=N\u001b[A\n",
      "chunk:  33%|▎| 160/486 [00:00<00:00, 891.71it/s, now=\u001b[A\n",
      "chunk:  63%|▋| 306/486 [00:00<00:00, 1151.17it/s, now\u001b[A\n",
      "chunk:  87%|▊| 424/486 [00:00<00:00, 1109.94it/s, now\u001b[A\n",
      "chunk:   7%| | 26/354 [05:30<00:11, 27.78it/s, now=No\u001b[A"
     ]
    },
    {
     "name": "stdout",
     "output_type": "stream",
     "text": [
      "MoviePy - Done.\n"
     ]
    },
    {
     "name": "stderr",
     "output_type": "stream",
     "text": [
      "chunk:   7%| | 26/354 [05:30<00:11, 27.78it/s, now=No"
     ]
    },
    {
     "name": "stdout",
     "output_type": "stream",
     "text": [
      "MoviePy - Writing audio in C:\\Users\\Welcome\\Dhairya-Python\\sarcasm detection\\audio_context\\1_7487_c.wav\n"
     ]
    },
    {
     "name": "stderr",
     "output_type": "stream",
     "text": [
      "\n",
      "chunk:   0%|       | 0/442 [00:00<?, ?it/s, now=None]\u001b[A\n",
      "chunk:   2%| | 11/442 [00:00<00:03, 109.99it/s, now=N\u001b[A\n",
      "chunk:  35%|▎| 153/442 [00:00<00:00, 860.30it/s, now=\u001b[A\n",
      "chunk:  58%|▌| 255/442 [00:00<00:00, 834.46it/s, now=\u001b[A\n",
      "chunk:  85%|▊| 376/442 [00:00<00:00, 971.76it/s, now=\u001b[A\n",
      "chunk:   7%| | 26/354 [05:31<00:11, 27.78it/s, now=No\u001b[A"
     ]
    },
    {
     "name": "stdout",
     "output_type": "stream",
     "text": [
      "MoviePy - Done.\n"
     ]
    },
    {
     "name": "stderr",
     "output_type": "stream",
     "text": [
      "chunk:   7%| | 26/354 [05:31<00:11, 27.78it/s, now=No"
     ]
    },
    {
     "name": "stdout",
     "output_type": "stream",
     "text": [
      "MoviePy - Writing audio in C:\\Users\\Welcome\\Dhairya-Python\\sarcasm detection\\audio_context\\1_7490_c.wav\n"
     ]
    },
    {
     "name": "stderr",
     "output_type": "stream",
     "text": [
      "\n",
      "chunk:   0%|       | 0/442 [00:00<?, ?it/s, now=None]\u001b[A\n",
      "chunk:   1%| | 3/442 [00:00<00:15, 28.84it/s, now=Non\u001b[A\n",
      "chunk:  31%|▎| 138/442 [00:00<00:00, 771.05it/s, now=\u001b[A\n",
      "chunk:  58%|▌| 255/442 [00:00<00:00, 885.63it/s, now=\u001b[A\n",
      "chunk:  86%|▊| 378/442 [00:00<00:00, 1013.94it/s, now\u001b[A\n",
      "chunk:   7%| | 26/354 [05:32<00:11, 27.78it/s, now=No\u001b[A"
     ]
    },
    {
     "name": "stdout",
     "output_type": "stream",
     "text": [
      "MoviePy - Done.\n"
     ]
    },
    {
     "name": "stderr",
     "output_type": "stream",
     "text": [
      "chunk:   7%| | 26/354 [05:33<00:11, 27.78it/s, now=No"
     ]
    },
    {
     "name": "stdout",
     "output_type": "stream",
     "text": [
      "MoviePy - Writing audio in C:\\Users\\Welcome\\Dhairya-Python\\sarcasm detection\\audio_context\\1_7494_c.wav\n"
     ]
    },
    {
     "name": "stderr",
     "output_type": "stream",
     "text": [
      "\n",
      "chunk:   0%|       | 0/464 [00:00<?, ?it/s, now=None]\u001b[A\n",
      "chunk:   4%| | 17/464 [00:00<00:02, 169.99it/s, now=N\u001b[A\n",
      "chunk:  33%|▎| 153/464 [00:00<00:00, 854.86it/s, now=\u001b[A\n",
      "chunk:  66%|▋| 306/464 [00:00<00:00, 1119.67it/s, now\u001b[A\n",
      "chunk:  97%|▉| 451/464 [00:00<00:00, 1246.51it/s, now\u001b[A\n",
      "chunk:   7%| | 26/354 [05:33<00:11, 27.78it/s, now=No\u001b[A"
     ]
    },
    {
     "name": "stdout",
     "output_type": "stream",
     "text": [
      "MoviePy - Done.\n"
     ]
    },
    {
     "name": "stderr",
     "output_type": "stream",
     "text": [
      "chunk:   7%| | 26/354 [05:34<00:11, 27.78it/s, now=No"
     ]
    },
    {
     "name": "stdout",
     "output_type": "stream",
     "text": [
      "MoviePy - Writing audio in C:\\Users\\Welcome\\Dhairya-Python\\sarcasm detection\\audio_context\\1_7504_c.wav\n"
     ]
    },
    {
     "name": "stderr",
     "output_type": "stream",
     "text": [
      "\n",
      "chunk:   0%|       | 0/332 [00:00<?, ?it/s, now=None]\u001b[A\n",
      "chunk:   7%| | 24/332 [00:00<00:01, 239.99it/s, now=N\u001b[A\n",
      "chunk:  45%|▍| 151/332 [00:00<00:00, 845.83it/s, now=\u001b[A\n",
      "chunk:  86%|▊| 287/332 [00:00<00:00, 1080.58it/s, now\u001b[A\n",
      "chunk:   7%| | 26/354 [05:34<00:11, 27.78it/s, now=No\u001b[A"
     ]
    },
    {
     "name": "stdout",
     "output_type": "stream",
     "text": [
      "MoviePy - Done.\n"
     ]
    },
    {
     "name": "stderr",
     "output_type": "stream",
     "text": [
      "chunk:   7%| | 26/354 [05:34<00:11, 27.78it/s, now=No"
     ]
    },
    {
     "name": "stdout",
     "output_type": "stream",
     "text": [
      "MoviePy - Writing audio in C:\\Users\\Welcome\\Dhairya-Python\\sarcasm detection\\audio_context\\1_7575_c.wav\n"
     ]
    },
    {
     "name": "stderr",
     "output_type": "stream",
     "text": [
      "\n",
      "chunk:   0%|       | 0/464 [00:00<?, ?it/s, now=None]\u001b[A\n",
      "chunk:   6%| | 29/464 [00:00<00:01, 281.54it/s, now=N\u001b[A\n",
      "chunk:  33%|▎| 153/464 [00:00<00:00, 838.42it/s, now=\u001b[A\n",
      "chunk:  66%|▋| 306/464 [00:00<00:00, 1106.88it/s, now\u001b[A\n",
      "chunk:  99%|▉| 459/464 [00:00<00:00, 1264.34it/s, now\u001b[A\n",
      "chunk:   7%| | 26/354 [05:35<00:11, 27.78it/s, now=No\u001b[A"
     ]
    },
    {
     "name": "stdout",
     "output_type": "stream",
     "text": [
      "MoviePy - Done.\n"
     ]
    },
    {
     "name": "stderr",
     "output_type": "stream",
     "text": [
      "chunk:   7%| | 26/354 [05:35<00:11, 27.78it/s, now=No"
     ]
    },
    {
     "name": "stdout",
     "output_type": "stream",
     "text": [
      "MoviePy - Writing audio in C:\\Users\\Welcome\\Dhairya-Python\\sarcasm detection\\audio_context\\1_7593_c.wav\n"
     ]
    },
    {
     "name": "stderr",
     "output_type": "stream",
     "text": [
      "\n",
      "chunk:   0%|       | 0/442 [00:00<?, ?it/s, now=None]\u001b[A\n",
      "chunk:   7%| | 29/442 [00:00<00:01, 287.11it/s, now=N\u001b[A\n",
      "chunk:  33%|▎| 148/442 [00:00<00:00, 816.00it/s, now=\u001b[A\n",
      "chunk:  59%|▌| 259/442 [00:00<00:00, 949.92it/s, now=\u001b[A\n",
      "chunk:  92%|▉| 408/442 [00:00<00:00, 1106.12it/s, now\u001b[A\n",
      "chunk:   7%| | 26/354 [05:36<00:11, 27.78it/s, now=No\u001b[A"
     ]
    },
    {
     "name": "stdout",
     "output_type": "stream",
     "text": [
      "MoviePy - Done.\n"
     ]
    },
    {
     "name": "stderr",
     "output_type": "stream",
     "text": [
      "chunk:   7%| | 26/354 [05:36<00:11, 27.78it/s, now=No"
     ]
    },
    {
     "name": "stdout",
     "output_type": "stream",
     "text": [
      "MoviePy - Writing audio in C:\\Users\\Welcome\\Dhairya-Python\\sarcasm detection\\audio_context\\1_7641_c.wav\n"
     ]
    },
    {
     "name": "stderr",
     "output_type": "stream",
     "text": [
      "\n",
      "chunk:   0%|       | 0/442 [00:00<?, ?it/s, now=None]\u001b[A\n",
      "chunk:  10%| | 44/442 [00:00<00:00, 439.98it/s, now=N\u001b[A\n",
      "chunk:  35%|▎| 153/442 [00:00<00:00, 817.50it/s, now=\u001b[A\n",
      "chunk:  65%|▋| 288/442 [00:00<00:00, 1059.84it/s, now\u001b[A\n",
      "chunk:  89%|▉| 395/442 [00:00<00:00, 1055.50it/s, now\u001b[A\n",
      "chunk:   7%| | 26/354 [05:37<00:11, 27.78it/s, now=No\u001b[A"
     ]
    },
    {
     "name": "stdout",
     "output_type": "stream",
     "text": [
      "MoviePy - Done.\n"
     ]
    },
    {
     "name": "stderr",
     "output_type": "stream",
     "text": [
      "chunk:   7%| | 26/354 [05:37<00:11, 27.78it/s, now=No"
     ]
    },
    {
     "name": "stdout",
     "output_type": "stream",
     "text": [
      "MoviePy - Writing audio in C:\\Users\\Welcome\\Dhairya-Python\\sarcasm detection\\audio_context\\1_7661_c.wav\n"
     ]
    },
    {
     "name": "stderr",
     "output_type": "stream",
     "text": [
      "\n",
      "chunk:   0%|       | 0/464 [00:00<?, ?it/s, now=None]\u001b[A\n",
      "chunk:   6%| | 28/464 [00:00<00:01, 279.98it/s, now=N\u001b[A\n",
      "chunk:  34%|▎| 159/464 [00:00<00:00, 885.83it/s, now=\u001b[A\n",
      "chunk:  66%|▋| 306/464 [00:00<00:00, 1078.66it/s, now\u001b[A\n",
      "chunk:  99%|▉| 459/464 [00:00<00:00, 1231.05it/s, now\u001b[A\n",
      "chunk:   7%| | 26/354 [05:38<00:11, 27.78it/s, now=No\u001b[A"
     ]
    },
    {
     "name": "stdout",
     "output_type": "stream",
     "text": [
      "MoviePy - Done.\n"
     ]
    },
    {
     "name": "stderr",
     "output_type": "stream",
     "text": [
      "chunk:   7%| | 26/354 [05:38<00:11, 27.78it/s, now=No"
     ]
    },
    {
     "name": "stdout",
     "output_type": "stream",
     "text": [
      "MoviePy - Writing audio in C:\\Users\\Welcome\\Dhairya-Python\\sarcasm detection\\audio_context\\1_7675_c.wav\n"
     ]
    },
    {
     "name": "stderr",
     "output_type": "stream",
     "text": [
      "\n",
      "chunk:   0%|       | 0/398 [00:00<?, ?it/s, now=None]\u001b[A\n",
      "chunk:  12%| | 47/398 [00:00<00:00, 469.97it/s, now=N\u001b[A\n",
      "chunk:  48%|▍| 192/398 [00:00<00:00, 1046.41it/s, now\u001b[A\n",
      "chunk:  77%|▊| 306/398 [00:00<00:00, 1079.26it/s, now\u001b[A\n",
      "chunk:   7%| | 26/354 [05:39<00:11, 27.78it/s, now=No\u001b[A"
     ]
    },
    {
     "name": "stdout",
     "output_type": "stream",
     "text": [
      "MoviePy - Done.\n"
     ]
    },
    {
     "name": "stderr",
     "output_type": "stream",
     "text": [
      "chunk:   7%| | 26/354 [05:39<00:11, 27.78it/s, now=No"
     ]
    },
    {
     "name": "stdout",
     "output_type": "stream",
     "text": [
      "MoviePy - Writing audio in C:\\Users\\Welcome\\Dhairya-Python\\sarcasm detection\\audio_context\\1_7722_c.wav\n"
     ]
    },
    {
     "name": "stderr",
     "output_type": "stream",
     "text": [
      "\n",
      "chunk:   0%|       | 0/464 [00:00<?, ?it/s, now=None]\u001b[A\n",
      "chunk:   7%| | 31/464 [00:00<00:01, 309.98it/s, now=N\u001b[A\n",
      "chunk:  37%|▎| 171/464 [00:00<00:00, 951.12it/s, now=\u001b[A\n",
      "chunk:  64%|▋| 299/464 [00:00<00:00, 1101.26it/s, now\u001b[A\n",
      "chunk:  89%|▉| 411/464 [00:00<00:00, 1078.82it/s, now\u001b[A\n",
      "chunk:   7%| | 26/354 [05:40<00:11, 27.78it/s, now=No\u001b[A"
     ]
    },
    {
     "name": "stdout",
     "output_type": "stream",
     "text": [
      "MoviePy - Done.\n"
     ]
    },
    {
     "name": "stderr",
     "output_type": "stream",
     "text": [
      "chunk:   7%| | 26/354 [05:40<00:11, 27.78it/s, now=No"
     ]
    },
    {
     "name": "stdout",
     "output_type": "stream",
     "text": [
      "MoviePy - Writing audio in C:\\Users\\Welcome\\Dhairya-Python\\sarcasm detection\\audio_context\\1_7894_c.wav\n"
     ]
    },
    {
     "name": "stderr",
     "output_type": "stream",
     "text": [
      "\n",
      "chunk:   0%|       | 0/464 [00:00<?, ?it/s, now=None]\u001b[A\n",
      "chunk:   3%| | 16/464 [00:00<00:02, 159.99it/s, now=N\u001b[A\n",
      "chunk:  33%|▎| 153/464 [00:00<00:00, 814.24it/s, now=\u001b[A\n",
      "chunk:  63%|▋| 293/464 [00:00<00:00, 1071.80it/s, now\u001b[A\n",
      "chunk:  88%|▉| 408/464 [00:00<00:00, 1097.71it/s, now\u001b[A\n",
      "chunk:   7%| | 26/354 [05:41<00:11, 27.78it/s, now=No\u001b[A"
     ]
    },
    {
     "name": "stdout",
     "output_type": "stream",
     "text": [
      "MoviePy - Done.\n"
     ]
    },
    {
     "name": "stderr",
     "output_type": "stream",
     "text": [
      "chunk:   7%| | 26/354 [05:41<00:11, 27.78it/s, now=No"
     ]
    },
    {
     "name": "stdout",
     "output_type": "stream",
     "text": [
      "MoviePy - Writing audio in C:\\Users\\Welcome\\Dhairya-Python\\sarcasm detection\\audio_context\\1_7938_c.wav\n"
     ]
    },
    {
     "name": "stderr",
     "output_type": "stream",
     "text": [
      "\n",
      "chunk:   0%|       | 0/442 [00:00<?, ?it/s, now=None]\u001b[A\n",
      "chunk:   7%| | 29/442 [00:00<00:01, 284.30it/s, now=N\u001b[A\n",
      "chunk:  35%|▎| 153/442 [00:00<00:00, 799.84it/s, now=\u001b[A\n",
      "chunk:  66%|▋| 291/442 [00:00<00:00, 1056.20it/s, now\u001b[A\n",
      "chunk:  94%|▉| 417/442 [00:00<00:00, 1135.04it/s, now\u001b[A\n",
      "chunk:   7%| | 26/354 [05:42<00:11, 27.78it/s, now=No\u001b[A"
     ]
    },
    {
     "name": "stdout",
     "output_type": "stream",
     "text": [
      "MoviePy - Done.\n"
     ]
    },
    {
     "name": "stderr",
     "output_type": "stream",
     "text": [
      "chunk:   7%| | 26/354 [05:42<00:11, 27.78it/s, now=No"
     ]
    },
    {
     "name": "stdout",
     "output_type": "stream",
     "text": [
      "MoviePy - Writing audio in C:\\Users\\Welcome\\Dhairya-Python\\sarcasm detection\\audio_context\\1_7953_c.wav\n"
     ]
    },
    {
     "name": "stderr",
     "output_type": "stream",
     "text": [
      "\n",
      "chunk:   0%|       | 0/332 [00:00<?, ?it/s, now=None]\u001b[A\n",
      "chunk:   9%| | 29/332 [00:00<00:01, 284.30it/s, now=N\u001b[A\n",
      "chunk:  51%|▌| 170/332 [00:00<00:00, 941.02it/s, now=\u001b[A\n",
      "chunk:  92%|▉| 306/332 [00:00<00:00, 1131.45it/s, now\u001b[A\n",
      "chunk:   7%| | 26/354 [05:43<00:11, 27.78it/s, now=No\u001b[A"
     ]
    },
    {
     "name": "stdout",
     "output_type": "stream",
     "text": [
      "MoviePy - Done.\n"
     ]
    },
    {
     "name": "stderr",
     "output_type": "stream",
     "text": [
      "chunk:   7%| | 26/354 [05:43<00:11, 27.78it/s, now=No"
     ]
    },
    {
     "name": "stdout",
     "output_type": "stream",
     "text": [
      "MoviePy - Writing audio in C:\\Users\\Welcome\\Dhairya-Python\\sarcasm detection\\audio_context\\1_8042_c.wav\n"
     ]
    },
    {
     "name": "stderr",
     "output_type": "stream",
     "text": [
      "\n",
      "chunk:   0%|       | 0/530 [00:00<?, ?it/s, now=None]\u001b[A\n",
      "chunk:   9%| | 47/530 [00:00<00:01, 469.97it/s, now=N\u001b[A\n",
      "chunk:  29%|▎| 153/530 [00:00<00:00, 775.93it/s, now=\u001b[A\n",
      "chunk:  54%|▌| 285/530 [00:00<00:00, 1017.38it/s, now\u001b[A\n",
      "chunk:  77%|▊| 408/530 [00:00<00:00, 1087.20it/s, now\u001b[A\n",
      "chunk:   7%| | 26/354 [05:44<00:11, 27.78it/s, now=No\u001b[A"
     ]
    },
    {
     "name": "stdout",
     "output_type": "stream",
     "text": [
      "MoviePy - Done.\n"
     ]
    },
    {
     "name": "stderr",
     "output_type": "stream",
     "text": [
      "chunk:   7%| | 26/354 [05:44<00:11, 27.78it/s, now=No"
     ]
    },
    {
     "name": "stdout",
     "output_type": "stream",
     "text": [
      "MoviePy - Writing audio in C:\\Users\\Welcome\\Dhairya-Python\\sarcasm detection\\audio_context\\1_8045_c.wav\n"
     ]
    },
    {
     "name": "stderr",
     "output_type": "stream",
     "text": [
      "\n",
      "chunk:   0%|       | 0/464 [00:00<?, ?it/s, now=None]\u001b[A\n",
      "chunk:   9%| | 43/464 [00:00<00:00, 429.98it/s, now=N\u001b[A\n",
      "chunk:  37%|▎| 171/464 [00:00<00:00, 929.95it/s, now=\u001b[A\n",
      "chunk:  66%|▋| 306/464 [00:00<00:00, 1058.86it/s, now\u001b[A\n",
      "chunk:  89%|▉| 413/464 [00:00<00:00, 1047.12it/s, now\u001b[A\n",
      "chunk:   7%| | 26/354 [05:45<00:11, 27.78it/s, now=No\u001b[A"
     ]
    },
    {
     "name": "stdout",
     "output_type": "stream",
     "text": [
      "MoviePy - Done.\n"
     ]
    },
    {
     "name": "stderr",
     "output_type": "stream",
     "text": [
      "chunk:   7%| | 26/354 [05:45<00:11, 27.78it/s, now=No"
     ]
    },
    {
     "name": "stdout",
     "output_type": "stream",
     "text": [
      "MoviePy - Writing audio in C:\\Users\\Welcome\\Dhairya-Python\\sarcasm detection\\audio_context\\1_8052_c.wav\n"
     ]
    },
    {
     "name": "stderr",
     "output_type": "stream",
     "text": [
      "\n",
      "chunk:   0%|       | 0/464 [00:00<?, ?it/s, now=None]\u001b[A\n",
      "chunk:   3%| | 15/464 [00:00<00:02, 149.99it/s, now=N\u001b[A\n",
      "chunk:  31%|▎| 144/464 [00:00<00:00, 820.54it/s, now=\u001b[A\n",
      "chunk:  55%|▌| 255/464 [00:00<00:00, 903.20it/s, now=\u001b[A\n",
      "chunk:  77%|▊| 357/464 [00:00<00:00, 912.92it/s, now=\u001b[A\n",
      "chunk:   7%| | 26/354 [05:46<00:11, 27.78it/s, now=No\u001b[A"
     ]
    },
    {
     "name": "stdout",
     "output_type": "stream",
     "text": [
      "MoviePy - Done.\n"
     ]
    },
    {
     "name": "stderr",
     "output_type": "stream",
     "text": [
      "chunk:   7%| | 26/354 [05:46<00:11, 27.78it/s, now=No"
     ]
    },
    {
     "name": "stdout",
     "output_type": "stream",
     "text": [
      "MoviePy - Writing audio in C:\\Users\\Welcome\\Dhairya-Python\\sarcasm detection\\audio_context\\1_8078_c.wav\n"
     ]
    },
    {
     "name": "stderr",
     "output_type": "stream",
     "text": [
      "\n",
      "chunk:   0%|       | 0/442 [00:00<?, ?it/s, now=None]\u001b[A\n",
      "chunk:   7%| | 32/442 [00:00<00:01, 319.98it/s, now=N\u001b[A\n",
      "chunk:  35%|▎| 153/442 [00:00<00:00, 833.67it/s, now=\u001b[A\n",
      "chunk:  67%|▋| 297/442 [00:00<00:00, 1108.74it/s, now\u001b[A\n",
      "chunk:  92%|▉| 408/442 [00:00<00:00, 1100.55it/s, now\u001b[A\n",
      "chunk:   7%| | 26/354 [05:47<00:11, 27.78it/s, now=No\u001b[A"
     ]
    },
    {
     "name": "stdout",
     "output_type": "stream",
     "text": [
      "MoviePy - Done.\n"
     ]
    },
    {
     "name": "stderr",
     "output_type": "stream",
     "text": [
      "chunk:   7%| | 26/354 [05:47<00:11, 27.78it/s, now=No"
     ]
    },
    {
     "name": "stdout",
     "output_type": "stream",
     "text": [
      "MoviePy - Writing audio in C:\\Users\\Welcome\\Dhairya-Python\\sarcasm detection\\audio_context\\1_80_c.wav\n"
     ]
    },
    {
     "name": "stderr",
     "output_type": "stream",
     "text": [
      "\n",
      "chunk:   0%|       | 0/199 [00:00<?, ?it/s, now=None]\u001b[A\n",
      "chunk:  17%|▏| 34/199 [00:00<00:00, 339.98it/s, now=N\u001b[A\n",
      "chunk:  84%|▊| 168/199 [00:00<00:00, 928.18it/s, now=\u001b[A\n",
      "chunk:   7%| | 26/354 [05:48<00:11, 27.78it/s, now=No\u001b[A"
     ]
    },
    {
     "name": "stdout",
     "output_type": "stream",
     "text": [
      "MoviePy - Done.\n"
     ]
    },
    {
     "name": "stderr",
     "output_type": "stream",
     "text": [
      "chunk:   7%| | 26/354 [05:48<00:11, 27.78it/s, now=No"
     ]
    },
    {
     "name": "stdout",
     "output_type": "stream",
     "text": [
      "MoviePy - Writing audio in C:\\Users\\Welcome\\Dhairya-Python\\sarcasm detection\\audio_context\\1_8136_c.wav\n"
     ]
    },
    {
     "name": "stderr",
     "output_type": "stream",
     "text": [
      "\n",
      "chunk:   0%|       | 0/420 [00:00<?, ?it/s, now=None]\u001b[A\n",
      "chunk:  11%| | 48/420 [00:00<00:00, 479.97it/s, now=N\u001b[A\n",
      "chunk:  42%|▍| 177/420 [00:00<00:00, 956.42it/s, now=\u001b[A\n",
      "chunk:  73%|▋| 306/420 [00:00<00:00, 1074.36it/s, now\u001b[A\n",
      "chunk:   7%| | 26/354 [05:49<00:11, 27.78it/s, now=No\u001b[A"
     ]
    },
    {
     "name": "stdout",
     "output_type": "stream",
     "text": [
      "MoviePy - Done.\n"
     ]
    },
    {
     "name": "stderr",
     "output_type": "stream",
     "text": [
      "chunk:   7%| | 26/354 [05:49<00:11, 27.78it/s, now=No"
     ]
    },
    {
     "name": "stdout",
     "output_type": "stream",
     "text": [
      "MoviePy - Writing audio in C:\\Users\\Welcome\\Dhairya-Python\\sarcasm detection\\audio_context\\1_8159_c.wav\n"
     ]
    },
    {
     "name": "stderr",
     "output_type": "stream",
     "text": [
      "\n",
      "chunk:   0%|       | 0/442 [00:00<?, ?it/s, now=None]\u001b[A\n",
      "chunk:  10%| | 46/442 [00:00<00:00, 459.97it/s, now=N\u001b[A\n",
      "chunk:  36%|▎| 159/442 [00:00<00:00, 854.07it/s, now=\u001b[A\n",
      "chunk:  65%|▋| 288/442 [00:00<00:00, 1053.09it/s, now\u001b[A\n",
      "chunk:  92%|▉| 408/442 [00:00<00:00, 1089.55it/s, now\u001b[A\n",
      "chunk:   7%| | 26/354 [05:50<00:11, 27.78it/s, now=No\u001b[A"
     ]
    },
    {
     "name": "stdout",
     "output_type": "stream",
     "text": [
      "MoviePy - Done.\n"
     ]
    },
    {
     "name": "stderr",
     "output_type": "stream",
     "text": [
      "chunk:   7%| | 26/354 [05:50<00:11, 27.78it/s, now=No"
     ]
    },
    {
     "name": "stdout",
     "output_type": "stream",
     "text": [
      "MoviePy - Writing audio in C:\\Users\\Welcome\\Dhairya-Python\\sarcasm detection\\audio_context\\1_8185_c.wav\n"
     ]
    },
    {
     "name": "stderr",
     "output_type": "stream",
     "text": [
      "\n",
      "chunk:   0%|       | 0/442 [00:00<?, ?it/s, now=None]\u001b[A\n",
      "chunk:  10%| | 44/442 [00:00<00:00, 439.97it/s, now=N\u001b[A\n",
      "chunk:  38%|▍| 167/442 [00:00<00:00, 904.65it/s, now=\u001b[A\n",
      "chunk:  69%|▋| 306/442 [00:00<00:00, 959.71it/s, now=\u001b[A\n",
      "chunk: 100%|▉| 441/442 [00:00<00:00, 1099.12it/s, now\u001b[A\n",
      "chunk:   7%| | 26/354 [05:51<00:11, 27.78it/s, now=No\u001b[A"
     ]
    },
    {
     "name": "stdout",
     "output_type": "stream",
     "text": [
      "MoviePy - Done.\n"
     ]
    },
    {
     "name": "stderr",
     "output_type": "stream",
     "text": [
      "chunk:   7%| | 26/354 [05:51<00:11, 27.78it/s, now=No"
     ]
    },
    {
     "name": "stdout",
     "output_type": "stream",
     "text": [
      "MoviePy - Writing audio in C:\\Users\\Welcome\\Dhairya-Python\\sarcasm detection\\audio_context\\1_8217_c.wav\n"
     ]
    },
    {
     "name": "stderr",
     "output_type": "stream",
     "text": [
      "\n",
      "chunk:   0%|       | 0/464 [00:00<?, ?it/s, now=None]\u001b[A\n",
      "chunk:   6%| | 27/464 [00:00<00:01, 269.98it/s, now=N\u001b[A\n",
      "chunk:  33%|▎| 153/464 [00:00<00:00, 832.71it/s, now=\u001b[A\n",
      "chunk:  64%|▋| 295/464 [00:00<00:00, 1097.46it/s, now\u001b[A\n",
      "chunk:  88%|▉| 408/464 [00:00<00:00, 1110.18it/s, now\u001b[A\n",
      "chunk:   7%| | 26/354 [05:52<00:11, 27.78it/s, now=No\u001b[A"
     ]
    },
    {
     "name": "stdout",
     "output_type": "stream",
     "text": [
      "MoviePy - Done.\n"
     ]
    },
    {
     "name": "stderr",
     "output_type": "stream",
     "text": [
      "chunk:   7%| | 26/354 [05:53<00:11, 27.78it/s, now=No"
     ]
    },
    {
     "name": "stdout",
     "output_type": "stream",
     "text": [
      "MoviePy - Writing audio in C:\\Users\\Welcome\\Dhairya-Python\\sarcasm detection\\audio_context\\1_8407_c.wav\n"
     ]
    },
    {
     "name": "stderr",
     "output_type": "stream",
     "text": [
      "\n",
      "chunk:   0%|       | 0/464 [00:00<?, ?it/s, now=None]\u001b[A\n",
      "chunk:   2%| | 10/464 [00:00<00:04, 99.99it/s, now=No\u001b[A\n",
      "chunk:  33%|▎| 153/464 [00:00<00:00, 824.13it/s, now=\u001b[A\n",
      "chunk:  61%|▌| 283/464 [00:00<00:00, 1033.36it/s, now\u001b[A\n",
      "chunk:  88%|▉| 408/464 [00:00<00:00, 1048.17it/s, now\u001b[A\n",
      "chunk:   7%| | 26/354 [05:53<00:11, 27.78it/s, now=No\u001b[A"
     ]
    },
    {
     "name": "stdout",
     "output_type": "stream",
     "text": [
      "MoviePy - Done.\n"
     ]
    },
    {
     "name": "stderr",
     "output_type": "stream",
     "text": [
      "chunk:   7%| | 26/354 [05:54<00:11, 27.78it/s, now=No"
     ]
    },
    {
     "name": "stdout",
     "output_type": "stream",
     "text": [
      "MoviePy - Writing audio in C:\\Users\\Welcome\\Dhairya-Python\\sarcasm detection\\audio_context\\1_8417_c.wav\n"
     ]
    },
    {
     "name": "stderr",
     "output_type": "stream",
     "text": [
      "\n",
      "chunk:   0%|       | 0/486 [00:00<?, ?it/s, now=None]\u001b[A\n",
      "chunk:   4%| | 20/486 [00:00<00:02, 199.99it/s, now=N\u001b[A\n",
      "chunk:  31%|▎| 153/486 [00:00<00:00, 844.78it/s, now=\u001b[A\n",
      "chunk:  57%|▌| 278/486 [00:00<00:00, 1027.44it/s, now\u001b[A\n",
      "chunk:  84%|▊| 408/486 [00:00<00:00, 1029.34it/s, now\u001b[A\n",
      "chunk:   7%| | 26/354 [05:54<00:11, 27.78it/s, now=No\u001b[A"
     ]
    },
    {
     "name": "stdout",
     "output_type": "stream",
     "text": [
      "MoviePy - Done.\n"
     ]
    },
    {
     "name": "stderr",
     "output_type": "stream",
     "text": [
      "chunk:   7%| | 26/354 [05:55<00:11, 27.78it/s, now=No"
     ]
    },
    {
     "name": "stdout",
     "output_type": "stream",
     "text": [
      "MoviePy - Writing audio in C:\\Users\\Welcome\\Dhairya-Python\\sarcasm detection\\audio_context\\1_8452_c.wav\n"
     ]
    },
    {
     "name": "stderr",
     "output_type": "stream",
     "text": [
      "\n",
      "chunk:   0%|       | 0/442 [00:00<?, ?it/s, now=None]\u001b[A\n",
      "chunk:   7%| | 31/442 [00:00<00:01, 309.98it/s, now=N\u001b[A\n",
      "chunk:  39%|▍| 171/442 [00:00<00:00, 951.12it/s, now=\u001b[A\n",
      "chunk:  69%|▋| 306/442 [00:00<00:00, 1098.12it/s, now\u001b[A\n",
      "chunk:   7%| | 26/354 [05:55<00:11, 27.78it/s, now=No\u001b[A"
     ]
    },
    {
     "name": "stdout",
     "output_type": "stream",
     "text": [
      "MoviePy - Done.\n"
     ]
    },
    {
     "name": "stderr",
     "output_type": "stream",
     "text": [
      "chunk:   7%| | 26/354 [05:56<00:11, 27.78it/s, now=No"
     ]
    },
    {
     "name": "stdout",
     "output_type": "stream",
     "text": [
      "MoviePy - Writing audio in C:\\Users\\Welcome\\Dhairya-Python\\sarcasm detection\\audio_context\\1_8505_c.wav\n"
     ]
    },
    {
     "name": "stderr",
     "output_type": "stream",
     "text": [
      "\n",
      "chunk:   0%|       | 0/442 [00:00<?, ?it/s, now=None]\u001b[A\n",
      "chunk:  10%| | 46/442 [00:00<00:00, 459.97it/s, now=N\u001b[A\n",
      "chunk:  35%|▎| 153/442 [00:00<00:00, 710.16it/s, now=\u001b[A\n",
      "chunk:  69%|▋| 305/442 [00:00<00:00, 1051.54it/s, now\u001b[A\n",
      "chunk:  94%|▉| 416/442 [00:00<00:00, 1073.49it/s, now\u001b[A\n",
      "chunk:   7%| | 26/354 [05:56<00:11, 27.78it/s, now=No\u001b[A"
     ]
    },
    {
     "name": "stdout",
     "output_type": "stream",
     "text": [
      "MoviePy - Done.\n"
     ]
    },
    {
     "name": "stderr",
     "output_type": "stream",
     "text": [
      "chunk:   7%| | 26/354 [05:57<00:11, 27.78it/s, now=No"
     ]
    },
    {
     "name": "stdout",
     "output_type": "stream",
     "text": [
      "MoviePy - Writing audio in C:\\Users\\Welcome\\Dhairya-Python\\sarcasm detection\\audio_context\\1_8717_c.wav\n"
     ]
    },
    {
     "name": "stderr",
     "output_type": "stream",
     "text": [
      "\n",
      "chunk:   0%|       | 0/464 [00:00<?, ?it/s, now=None]\u001b[A\n",
      "chunk:   6%| | 29/464 [00:00<00:01, 284.30it/s, now=N\u001b[A\n",
      "chunk:  34%|▎| 157/464 [00:00<00:00, 865.18it/s, now=\u001b[A\n",
      "chunk:  66%|▋| 304/464 [00:00<00:00, 1140.08it/s, now\u001b[A\n",
      "chunk:  91%|▉| 420/464 [00:00<00:00, 1075.89it/s, now\u001b[A\n",
      "chunk:   7%| | 26/354 [05:57<00:11, 27.78it/s, now=No\u001b[A"
     ]
    },
    {
     "name": "stdout",
     "output_type": "stream",
     "text": [
      "MoviePy - Done.\n"
     ]
    },
    {
     "name": "stderr",
     "output_type": "stream",
     "text": [
      "chunk:   7%| | 26/354 [05:58<00:11, 27.78it/s, now=No"
     ]
    },
    {
     "name": "stdout",
     "output_type": "stream",
     "text": [
      "MoviePy - Writing audio in C:\\Users\\Welcome\\Dhairya-Python\\sarcasm detection\\audio_context\\1_8746_c.wav\n"
     ]
    },
    {
     "name": "stderr",
     "output_type": "stream",
     "text": [
      "\n",
      "chunk:   0%|       | 0/111 [00:00<?, ?it/s, now=None]\u001b[A\n",
      "chunk:  26%|▎| 29/111 [00:00<00:00, 289.98it/s, now=N\u001b[A\n",
      "chunk:   7%| | 26/354 [05:58<00:11, 27.78it/s, now=No\u001b[A"
     ]
    },
    {
     "name": "stdout",
     "output_type": "stream",
     "text": [
      "MoviePy - Done.\n"
     ]
    },
    {
     "name": "stderr",
     "output_type": "stream",
     "text": [
      "chunk:   7%| | 26/354 [05:58<00:11, 27.78it/s, now=No"
     ]
    },
    {
     "name": "stdout",
     "output_type": "stream",
     "text": [
      "MoviePy - Writing audio in C:\\Users\\Welcome\\Dhairya-Python\\sarcasm detection\\audio_context\\1_8749_c.wav\n"
     ]
    },
    {
     "name": "stderr",
     "output_type": "stream",
     "text": [
      "\n",
      "chunk:   0%|       | 0/486 [00:00<?, ?it/s, now=None]\u001b[A\n",
      "chunk:   7%| | 34/486 [00:00<00:01, 339.98it/s, now=N\u001b[A\n",
      "chunk:  31%|▎| 153/486 [00:00<00:00, 835.04it/s, now=\u001b[A\n",
      "chunk:  60%|▌| 290/486 [00:00<00:00, 1078.50it/s, now\u001b[A\n",
      "chunk:  84%|▊| 408/486 [00:00<00:00, 1101.11it/s, now\u001b[A\n",
      "chunk:   7%| | 26/354 [05:59<00:11, 27.78it/s, now=No\u001b[A"
     ]
    },
    {
     "name": "stdout",
     "output_type": "stream",
     "text": [
      "MoviePy - Done.\n"
     ]
    },
    {
     "name": "stderr",
     "output_type": "stream",
     "text": [
      "chunk:   7%| | 26/354 [05:59<00:11, 27.78it/s, now=No"
     ]
    },
    {
     "name": "stdout",
     "output_type": "stream",
     "text": [
      "MoviePy - Writing audio in C:\\Users\\Welcome\\Dhairya-Python\\sarcasm detection\\audio_context\\1_8827_c.wav\n"
     ]
    },
    {
     "name": "stderr",
     "output_type": "stream",
     "text": [
      "\n",
      "chunk:   0%|       | 0/442 [00:00<?, ?it/s, now=None]\u001b[A\n",
      "chunk:   6%| | 25/442 [00:00<00:01, 249.99it/s, now=N\u001b[A\n",
      "chunk:  35%|▎| 153/442 [00:00<00:00, 734.81it/s, now=\u001b[A\n",
      "chunk:  67%|▋| 294/442 [00:00<00:00, 1017.75it/s, now\u001b[A\n",
      "chunk:  92%|▉| 408/442 [00:00<00:00, 1040.14it/s, now\u001b[A\n",
      "chunk:   7%| | 26/354 [06:00<00:11, 27.78it/s, now=No\u001b[A"
     ]
    },
    {
     "name": "stdout",
     "output_type": "stream",
     "text": [
      "MoviePy - Done.\n"
     ]
    },
    {
     "name": "stderr",
     "output_type": "stream",
     "text": [
      "chunk:   7%| | 26/354 [06:01<00:11, 27.78it/s, now=No"
     ]
    },
    {
     "name": "stdout",
     "output_type": "stream",
     "text": [
      "MoviePy - Writing audio in C:\\Users\\Welcome\\Dhairya-Python\\sarcasm detection\\audio_context\\1_8837_c.wav\n"
     ]
    },
    {
     "name": "stderr",
     "output_type": "stream",
     "text": [
      "\n",
      "chunk:   0%|       | 0/442 [00:00<?, ?it/s, now=None]\u001b[A\n",
      "chunk:   7%| | 33/442 [00:00<00:01, 329.98it/s, now=N\u001b[A\n",
      "chunk:  39%|▍| 172/442 [00:00<00:00, 953.47it/s, now=\u001b[A\n",
      "chunk:  69%|▋| 306/442 [00:00<00:00, 1090.11it/s, now\u001b[A\n",
      "chunk:  95%|▉| 422/442 [00:00<00:00, 1117.08it/s, now\u001b[A\n",
      "chunk:   7%| | 26/354 [06:01<00:11, 27.78it/s, now=No\u001b[A"
     ]
    },
    {
     "name": "stdout",
     "output_type": "stream",
     "text": [
      "MoviePy - Done.\n"
     ]
    },
    {
     "name": "stderr",
     "output_type": "stream",
     "text": [
      "chunk:   7%| | 26/354 [06:02<00:11, 27.78it/s, now=No"
     ]
    },
    {
     "name": "stdout",
     "output_type": "stream",
     "text": [
      "MoviePy - Writing audio in C:\\Users\\Welcome\\Dhairya-Python\\sarcasm detection\\audio_context\\1_9003_c.wav\n"
     ]
    },
    {
     "name": "stderr",
     "output_type": "stream",
     "text": [
      "\n",
      "chunk:   0%|       | 0/486 [00:00<?, ?it/s, now=None]\u001b[A\n",
      "chunk:   1%| | 3/486 [00:00<00:20, 23.44it/s, now=Non\u001b[A\n",
      "chunk:  30%|▎| 145/486 [00:00<00:00, 759.98it/s, now=\u001b[A\n",
      "chunk:  52%|▌| 255/486 [00:00<00:00, 894.53it/s, now=\u001b[A\n",
      "chunk:  77%|▊| 372/486 [00:00<00:00, 998.45it/s, now=\u001b[A\n",
      "chunk:   7%| | 26/354 [06:02<00:11, 27.78it/s, now=No\u001b[A"
     ]
    },
    {
     "name": "stdout",
     "output_type": "stream",
     "text": [
      "MoviePy - Done.\n"
     ]
    },
    {
     "name": "stderr",
     "output_type": "stream",
     "text": [
      "chunk:   7%| | 26/354 [06:03<00:11, 27.78it/s, now=No"
     ]
    },
    {
     "name": "stdout",
     "output_type": "stream",
     "text": [
      "MoviePy - Writing audio in C:\\Users\\Welcome\\Dhairya-Python\\sarcasm detection\\audio_context\\1_9009_c.wav\n"
     ]
    },
    {
     "name": "stderr",
     "output_type": "stream",
     "text": [
      "\n",
      "chunk:   0%|       | 0/486 [00:00<?, ?it/s, now=None]\u001b[A\n",
      "chunk:   1%| | 3/486 [00:00<00:17, 27.27it/s, now=Non\u001b[A\n",
      "chunk:  31%|▎| 153/486 [00:00<00:00, 800.48it/s, now=\u001b[A\n",
      "chunk:  61%|▌| 297/486 [00:00<00:00, 1074.92it/s, now\u001b[A\n",
      "chunk:  84%|▊| 408/486 [00:00<00:00, 1067.93it/s, now\u001b[A\n",
      "chunk:   7%| | 26/354 [06:03<00:11, 27.78it/s, now=No\u001b[A"
     ]
    },
    {
     "name": "stdout",
     "output_type": "stream",
     "text": [
      "MoviePy - Done.\n"
     ]
    },
    {
     "name": "stderr",
     "output_type": "stream",
     "text": [
      "chunk:   7%| | 26/354 [06:04<00:11, 27.78it/s, now=No"
     ]
    },
    {
     "name": "stdout",
     "output_type": "stream",
     "text": [
      "MoviePy - Writing audio in C:\\Users\\Welcome\\Dhairya-Python\\sarcasm detection\\audio_context\\1_9087_c.wav\n"
     ]
    },
    {
     "name": "stderr",
     "output_type": "stream",
     "text": [
      "\n",
      "chunk:   0%|       | 0/442 [00:00<?, ?it/s, now=None]\u001b[A\n",
      "chunk:   1%| | 3/442 [00:00<00:16, 25.86it/s, now=Non\u001b[A\n",
      "chunk:  24%|▏| 106/442 [00:00<00:00, 579.99it/s, now=\u001b[A\n",
      "chunk:  54%|▌| 237/442 [00:00<00:00, 901.77it/s, now=\u001b[A\n",
      "chunk:  81%|▊| 357/442 [00:00<00:00, 993.94it/s, now=\u001b[A\n",
      "chunk:   7%| | 26/354 [06:04<00:11, 27.78it/s, now=No\u001b[A"
     ]
    },
    {
     "name": "stdout",
     "output_type": "stream",
     "text": [
      "MoviePy - Done.\n"
     ]
    },
    {
     "name": "stderr",
     "output_type": "stream",
     "text": [
      "chunk:   7%| | 26/354 [06:05<00:11, 27.78it/s, now=No"
     ]
    },
    {
     "name": "stdout",
     "output_type": "stream",
     "text": [
      "MoviePy - Writing audio in C:\\Users\\Welcome\\Dhairya-Python\\sarcasm detection\\audio_context\\1_90_c.wav\n"
     ]
    },
    {
     "name": "stderr",
     "output_type": "stream",
     "text": [
      "\n",
      "chunk:   0%|       | 0/486 [00:00<?, ?it/s, now=None]\u001b[A\n",
      "chunk:   6%| | 30/486 [00:00<00:01, 299.98it/s, now=N\u001b[A\n",
      "chunk:  31%|▎| 153/486 [00:00<00:00, 770.01it/s, now=\u001b[A\n",
      "chunk:  54%|▌| 263/486 [00:00<00:00, 912.90it/s, now=\u001b[A\n",
      "chunk:  82%|▊| 397/486 [00:00<00:00, 1076.11it/s, now\u001b[A\n",
      "chunk:   7%| | 26/354 [06:05<00:11, 27.78it/s, now=No\u001b[A"
     ]
    },
    {
     "name": "stdout",
     "output_type": "stream",
     "text": [
      "MoviePy - Done.\n"
     ]
    },
    {
     "name": "stderr",
     "output_type": "stream",
     "text": [
      "chunk:   7%| | 26/354 [06:06<00:11, 27.78it/s, now=No"
     ]
    },
    {
     "name": "stdout",
     "output_type": "stream",
     "text": [
      "MoviePy - Writing audio in C:\\Users\\Welcome\\Dhairya-Python\\sarcasm detection\\audio_context\\1_9245_c.wav\n"
     ]
    },
    {
     "name": "stderr",
     "output_type": "stream",
     "text": [
      "\n",
      "chunk:   0%|       | 0/486 [00:00<?, ?it/s, now=None]\u001b[A\n",
      "chunk:   5%| | 24/486 [00:00<00:01, 239.99it/s, now=N\u001b[A\n",
      "chunk:  31%|▎| 153/486 [00:00<00:00, 539.97it/s, now=\u001b[A\n",
      "chunk:  42%|▍| 204/486 [00:00<00:00, 446.21it/s, now=\u001b[A\n",
      "chunk:  64%|▋| 311/486 [00:00<00:00, 629.61it/s, now=\u001b[A\n",
      "chunk:  94%|▉| 459/486 [00:00<00:00, 855.81it/s, now=\u001b[A\n",
      "chunk:   7%| | 26/354 [06:06<00:11, 27.78it/s, now=No\u001b[A"
     ]
    },
    {
     "name": "stdout",
     "output_type": "stream",
     "text": [
      "MoviePy - Done.\n"
     ]
    },
    {
     "name": "stderr",
     "output_type": "stream",
     "text": [
      "chunk:   7%| | 26/354 [06:07<00:11, 27.78it/s, now=No"
     ]
    },
    {
     "name": "stdout",
     "output_type": "stream",
     "text": [
      "MoviePy - Writing audio in C:\\Users\\Welcome\\Dhairya-Python\\sarcasm detection\\audio_context\\1_9594_c.wav\n"
     ]
    },
    {
     "name": "stderr",
     "output_type": "stream",
     "text": [
      "\n",
      "chunk:   0%|       | 0/508 [00:00<?, ?it/s, now=None]\u001b[A\n",
      "chunk:   4%| | 21/508 [00:00<00:02, 209.99it/s, now=N\u001b[A\n",
      "chunk:  30%|▎| 153/508 [00:00<00:00, 828.77it/s, now=\u001b[A\n",
      "chunk:  59%|▌| 299/508 [00:00<00:00, 1110.65it/s, now\u001b[A\n",
      "chunk:  81%|▊| 414/508 [00:00<00:00, 1125.95it/s, now\u001b[A\n",
      "chunk:   7%| | 26/354 [06:07<00:11, 27.78it/s, now=No\u001b[A"
     ]
    },
    {
     "name": "stdout",
     "output_type": "stream",
     "text": [
      "MoviePy - Done.\n"
     ]
    },
    {
     "name": "stderr",
     "output_type": "stream",
     "text": [
      "chunk:   7%| | 26/354 [06:08<00:11, 27.78it/s, now=No"
     ]
    },
    {
     "name": "stdout",
     "output_type": "stream",
     "text": [
      "MoviePy - Writing audio in C:\\Users\\Welcome\\Dhairya-Python\\sarcasm detection\\audio_context\\1_9668_c.wav\n"
     ]
    },
    {
     "name": "stderr",
     "output_type": "stream",
     "text": [
      "\n",
      "chunk:   0%|       | 0/464 [00:00<?, ?it/s, now=None]\u001b[A\n",
      "chunk:   1%| | 3/464 [00:00<00:15, 29.41it/s, now=Non\u001b[A\n",
      "chunk:  33%|▎| 153/464 [00:00<00:00, 824.79it/s, now=\u001b[A\n",
      "chunk:  64%|▋| 297/464 [00:00<00:00, 1093.31it/s, now\u001b[A\n",
      "chunk:  88%|▉| 408/464 [00:00<00:00, 1087.17it/s, now\u001b[A\n",
      "chunk:   7%| | 26/354 [06:08<00:11, 27.78it/s, now=No\u001b[A"
     ]
    },
    {
     "name": "stdout",
     "output_type": "stream",
     "text": [
      "MoviePy - Done.\n"
     ]
    },
    {
     "name": "stderr",
     "output_type": "stream",
     "text": [
      "chunk:   7%| | 26/354 [06:09<00:11, 27.78it/s, now=No"
     ]
    },
    {
     "name": "stdout",
     "output_type": "stream",
     "text": [
      "MoviePy - Writing audio in C:\\Users\\Welcome\\Dhairya-Python\\sarcasm detection\\audio_context\\1_971_c.wav\n"
     ]
    },
    {
     "name": "stderr",
     "output_type": "stream",
     "text": [
      "\n",
      "chunk:   0%|       | 0/464 [00:00<?, ?it/s, now=None]\u001b[A\n",
      "chunk:   3%| | 15/464 [00:00<00:02, 149.99it/s, now=N\u001b[A\n",
      "chunk:  33%|▎| 153/464 [00:00<00:00, 858.33it/s, now=\u001b[A\n",
      "chunk:  64%|▋| 299/464 [00:00<00:00, 1130.42it/s, now\u001b[A\n",
      "chunk:  89%|▉| 412/464 [00:00<00:00, 1121.43it/s, now\u001b[A\n",
      "chunk:   7%| | 26/354 [06:09<00:11, 27.78it/s, now=No\u001b[A"
     ]
    },
    {
     "name": "stdout",
     "output_type": "stream",
     "text": [
      "MoviePy - Done.\n"
     ]
    },
    {
     "name": "stderr",
     "output_type": "stream",
     "text": [
      "chunk:   7%| | 26/354 [06:10<00:11, 27.78it/s, now=No"
     ]
    },
    {
     "name": "stdout",
     "output_type": "stream",
     "text": [
      "MoviePy - Writing audio in C:\\Users\\Welcome\\Dhairya-Python\\sarcasm detection\\audio_context\\1_9963_c.wav\n"
     ]
    },
    {
     "name": "stderr",
     "output_type": "stream",
     "text": [
      "\n",
      "chunk:   0%|       | 0/464 [00:00<?, ?it/s, now=None]\u001b[A\n",
      "chunk:  10%| | 48/464 [00:00<00:00, 479.97it/s, now=N\u001b[A\n",
      "chunk:  33%|▎| 154/464 [00:00<00:00, 821.13it/s, now=\u001b[A\n",
      "chunk:  62%|▌| 287/464 [00:00<00:00, 1053.46it/s, now\u001b[A\n",
      "chunk:  88%|▉| 408/464 [00:00<00:00, 1085.24it/s, now\u001b[A\n",
      "chunk:   7%| | 26/354 [06:10<00:11, 27.78it/s, now=No\u001b[A"
     ]
    },
    {
     "name": "stdout",
     "output_type": "stream",
     "text": [
      "MoviePy - Done.\n"
     ]
    },
    {
     "name": "stderr",
     "output_type": "stream",
     "text": [
      "chunk:   7%| | 26/354 [06:11<00:11, 27.78it/s, now=No"
     ]
    },
    {
     "name": "stdout",
     "output_type": "stream",
     "text": [
      "MoviePy - Writing audio in C:\\Users\\Welcome\\Dhairya-Python\\sarcasm detection\\audio_context\\1_9971_c.wav\n"
     ]
    },
    {
     "name": "stderr",
     "output_type": "stream",
     "text": [
      "\n",
      "chunk:   0%|       | 0/442 [00:00<?, ?it/s, now=None]\u001b[A\n",
      "chunk:  11%| | 47/442 [00:00<00:00, 469.97it/s, now=N\u001b[A\n",
      "chunk:  35%|▎| 153/442 [00:00<00:00, 789.16it/s, now=\u001b[A\n",
      "chunk:  65%|▋| 287/442 [00:00<00:00, 1035.92it/s, now\u001b[A\n",
      "chunk:  90%|▉| 396/442 [00:00<00:00, 1057.00it/s, now\u001b[A\n",
      "chunk:   7%| | 26/354 [06:12<00:11, 27.78it/s, now=No\u001b[A"
     ]
    },
    {
     "name": "stdout",
     "output_type": "stream",
     "text": [
      "MoviePy - Done.\n"
     ]
    },
    {
     "name": "stderr",
     "output_type": "stream",
     "text": [
      "chunk:   7%| | 26/354 [06:12<00:11, 27.78it/s, now=No"
     ]
    },
    {
     "name": "stdout",
     "output_type": "stream",
     "text": [
      "MoviePy - Writing audio in C:\\Users\\Welcome\\Dhairya-Python\\sarcasm detection\\audio_context\\1_9972_c.wav\n"
     ]
    },
    {
     "name": "stderr",
     "output_type": "stream",
     "text": [
      "\n",
      "chunk:   0%|       | 0/464 [00:00<?, ?it/s, now=None]\u001b[A\n",
      "chunk:   1%| | 3/464 [00:00<00:15, 29.12it/s, now=Non\u001b[A\n",
      "chunk:  32%|▎| 148/464 [00:00<00:00, 854.69it/s, now=\u001b[A\n",
      "chunk:  55%|▌| 255/464 [00:00<00:00, 907.06it/s, now=\u001b[A\n",
      "chunk:  80%|▊| 373/464 [00:00<00:00, 1011.20it/s, now\u001b[A\n",
      "chunk:   7%| | 26/354 [06:12<00:11, 27.78it/s, now=No\u001b[A"
     ]
    },
    {
     "name": "stdout",
     "output_type": "stream",
     "text": [
      "MoviePy - Done.\n"
     ]
    },
    {
     "name": "stderr",
     "output_type": "stream",
     "text": [
      "chunk:   7%| | 26/354 [06:13<00:11, 27.78it/s, now=No"
     ]
    },
    {
     "name": "stdout",
     "output_type": "stream",
     "text": [
      "MoviePy - Writing audio in C:\\Users\\Welcome\\Dhairya-Python\\sarcasm detection\\audio_context\\1_9993_c.wav\n"
     ]
    },
    {
     "name": "stderr",
     "output_type": "stream",
     "text": [
      "\n",
      "chunk:   0%|       | 0/442 [00:00<?, ?it/s, now=None]\u001b[A\n",
      "chunk:   6%| | 28/442 [00:00<00:01, 279.98it/s, now=N\u001b[A\n",
      "chunk:  23%|▏| 102/442 [00:00<00:00, 492.60it/s, now=\u001b[A\n",
      "chunk:  55%|▌| 245/442 [00:00<00:00, 894.88it/s, now=\u001b[A\n",
      "chunk:  76%|▊| 338/442 [00:00<00:00, 788.35it/s, now=\u001b[A\n",
      "chunk:   7%| | 26/354 [06:14<00:11, 27.78it/s, now=No\u001b[A"
     ]
    },
    {
     "name": "stdout",
     "output_type": "stream",
     "text": [
      "MoviePy - Done.\n"
     ]
    },
    {
     "name": "stderr",
     "output_type": "stream",
     "text": [
      "chunk:   7%| | 26/354 [06:14<00:11, 27.78it/s, now=No"
     ]
    },
    {
     "name": "stdout",
     "output_type": "stream",
     "text": [
      "MoviePy - Writing audio in C:\\Users\\Welcome\\Dhairya-Python\\sarcasm detection\\audio_context\\2_102_c.wav\n"
     ]
    },
    {
     "name": "stderr",
     "output_type": "stream",
     "text": [
      "\n",
      "chunk:   0%|       | 0/287 [00:00<?, ?it/s, now=None]\u001b[A\n",
      "chunk:  10%| | 29/287 [00:00<00:00, 284.30it/s, now=N\u001b[A\n",
      "chunk:  62%|▌| 177/287 [00:00<00:00, 981.86it/s, now=\u001b[A\n",
      "chunk:   7%| | 26/354 [06:15<00:11, 27.78it/s, now=No\u001b[A"
     ]
    },
    {
     "name": "stdout",
     "output_type": "stream",
     "text": [
      "MoviePy - Done.\n"
     ]
    },
    {
     "name": "stderr",
     "output_type": "stream",
     "text": [
      "chunk:   7%| | 26/354 [06:15<00:11, 27.78it/s, now=No"
     ]
    },
    {
     "name": "stdout",
     "output_type": "stream",
     "text": [
      "MoviePy - Writing audio in C:\\Users\\Welcome\\Dhairya-Python\\sarcasm detection\\audio_context\\2_103_c.wav\n"
     ]
    },
    {
     "name": "stderr",
     "output_type": "stream",
     "text": [
      "\n",
      "chunk:   0%|        | 0/89 [00:00<?, ?it/s, now=None]\u001b[A\n",
      "chunk:  25%|▏| 22/89 [00:00<00:00, 219.99it/s, now=No\u001b[A\n",
      "chunk:   7%| | 26/354 [06:15<00:11, 27.78it/s, now=No\u001b[A"
     ]
    },
    {
     "name": "stdout",
     "output_type": "stream",
     "text": [
      "MoviePy - Done.\n"
     ]
    },
    {
     "name": "stderr",
     "output_type": "stream",
     "text": [
      "chunk:   7%| | 26/354 [06:16<00:11, 27.78it/s, now=No"
     ]
    },
    {
     "name": "stdout",
     "output_type": "stream",
     "text": [
      "MoviePy - Writing audio in C:\\Users\\Welcome\\Dhairya-Python\\sarcasm detection\\audio_context\\2_104_c.wav\n"
     ]
    },
    {
     "name": "stderr",
     "output_type": "stream",
     "text": [
      "\n",
      "chunk:   0%|       | 0/254 [00:00<?, ?it/s, now=None]\u001b[A\n",
      "chunk:   6%| | 14/254 [00:00<00:01, 139.99it/s, now=N\u001b[A\n",
      "chunk:  50%|▍| 126/254 [00:00<00:00, 716.43it/s, now=\u001b[A\n",
      "chunk:  93%|▉| 235/254 [00:00<00:00, 886.98it/s, now=\u001b[A\n",
      "chunk:   7%| | 26/354 [06:16<00:11, 27.78it/s, now=No\u001b[A"
     ]
    },
    {
     "name": "stdout",
     "output_type": "stream",
     "text": [
      "MoviePy - Done.\n"
     ]
    },
    {
     "name": "stderr",
     "output_type": "stream",
     "text": [
      "chunk:   7%| | 26/354 [06:17<00:11, 27.78it/s, now=No"
     ]
    },
    {
     "name": "stdout",
     "output_type": "stream",
     "text": [
      "MoviePy - Writing audio in C:\\Users\\Welcome\\Dhairya-Python\\sarcasm detection\\audio_context\\2_105_c.wav\n"
     ]
    },
    {
     "name": "stderr",
     "output_type": "stream",
     "text": [
      "\n",
      "chunk:   0%|        | 0/87 [00:00<?, ?it/s, now=None]\u001b[A\n",
      "chunk:   3%| | 3/87 [00:00<00:03, 26.78it/s, now=None\u001b[A\n",
      "chunk:   7%| | 26/354 [06:17<00:11, 27.78it/s, now=No\u001b[A"
     ]
    },
    {
     "name": "stdout",
     "output_type": "stream",
     "text": [
      "MoviePy - Done.\n"
     ]
    },
    {
     "name": "stderr",
     "output_type": "stream",
     "text": [
      "chunk:   7%| | 26/354 [06:18<00:11, 27.78it/s, now=No"
     ]
    },
    {
     "name": "stdout",
     "output_type": "stream",
     "text": [
      "MoviePy - Writing audio in C:\\Users\\Welcome\\Dhairya-Python\\sarcasm detection\\audio_context\\2_107_c.wav\n"
     ]
    },
    {
     "name": "stderr",
     "output_type": "stream",
     "text": [
      "\n",
      "chunk:   0%|       | 0/106 [00:00<?, ?it/s, now=None]\u001b[A\n",
      "chunk:  23%|▏| 24/106 [00:00<00:00, 239.99it/s, now=N\u001b[A\n",
      "chunk:   7%| | 26/354 [06:18<00:11, 27.78it/s, now=No\u001b[A"
     ]
    },
    {
     "name": "stdout",
     "output_type": "stream",
     "text": [
      "MoviePy - Done.\n"
     ]
    },
    {
     "name": "stderr",
     "output_type": "stream",
     "text": [
      "chunk:   7%| | 26/354 [06:18<00:11, 27.78it/s, now=No"
     ]
    },
    {
     "name": "stdout",
     "output_type": "stream",
     "text": [
      "MoviePy - Writing audio in C:\\Users\\Welcome\\Dhairya-Python\\sarcasm detection\\audio_context\\2_109_c.wav\n"
     ]
    },
    {
     "name": "stderr",
     "output_type": "stream",
     "text": [
      "\n",
      "chunk:   0%|        | 0/81 [00:00<?, ?it/s, now=None]\u001b[A\n",
      "chunk:  54%|▌| 44/81 [00:00<00:00, 439.97it/s, now=No\u001b[A\n",
      "chunk:   7%| | 26/354 [06:18<00:11, 27.78it/s, now=No\u001b[A"
     ]
    },
    {
     "name": "stdout",
     "output_type": "stream",
     "text": [
      "MoviePy - Done.\n"
     ]
    },
    {
     "name": "stderr",
     "output_type": "stream",
     "text": [
      "chunk:   7%| | 26/354 [06:19<00:11, 27.78it/s, now=No"
     ]
    },
    {
     "name": "stdout",
     "output_type": "stream",
     "text": [
      "MoviePy - Writing audio in C:\\Users\\Welcome\\Dhairya-Python\\sarcasm detection\\audio_context\\2_111_c.wav\n"
     ]
    },
    {
     "name": "stderr",
     "output_type": "stream",
     "text": [
      "\n",
      "chunk:   0%|       | 0/309 [00:00<?, ?it/s, now=None]\u001b[A\n",
      "chunk:   9%| | 29/309 [00:00<00:00, 289.98it/s, now=N\u001b[A\n",
      "chunk:  42%|▍| 130/309 [00:00<00:00, 713.49it/s, now=\u001b[A\n",
      "chunk:  66%|▋| 205/309 [00:00<00:00, 730.14it/s, now=\u001b[A\n",
      "chunk: 100%|█| 309/309 [00:00<00:00, 852.45it/s, now=\u001b[A\n",
      "chunk:   7%| | 26/354 [06:19<00:11, 27.78it/s, now=No\u001b[A"
     ]
    },
    {
     "name": "stdout",
     "output_type": "stream",
     "text": [
      "MoviePy - Done.\n"
     ]
    },
    {
     "name": "stderr",
     "output_type": "stream",
     "text": [
      "chunk:   7%| | 26/354 [06:20<00:11, 27.78it/s, now=No"
     ]
    },
    {
     "name": "stdout",
     "output_type": "stream",
     "text": [
      "MoviePy - Writing audio in C:\\Users\\Welcome\\Dhairya-Python\\sarcasm detection\\audio_context\\2_112_c.wav\n"
     ]
    },
    {
     "name": "stderr",
     "output_type": "stream",
     "text": [
      "\n",
      "chunk:   0%|       | 0/275 [00:00<?, ?it/s, now=None]\u001b[A\n",
      "chunk:   1%| | 4/275 [00:00<00:06, 40.00it/s, now=Non\u001b[A\n",
      "chunk:  56%|▌| 153/275 [00:00<00:00, 882.51it/s, now=\u001b[A\n",
      "chunk:   7%| | 26/354 [06:20<00:11, 27.78it/s, now=No\u001b[A"
     ]
    },
    {
     "name": "stdout",
     "output_type": "stream",
     "text": [
      "MoviePy - Done.\n"
     ]
    },
    {
     "name": "stderr",
     "output_type": "stream",
     "text": [
      "chunk:   7%| | 26/354 [06:21<00:11, 27.78it/s, now=No"
     ]
    },
    {
     "name": "stdout",
     "output_type": "stream",
     "text": [
      "MoviePy - Writing audio in C:\\Users\\Welcome\\Dhairya-Python\\sarcasm detection\\audio_context\\2_113_c.wav\n"
     ]
    },
    {
     "name": "stderr",
     "output_type": "stream",
     "text": [
      "\n",
      "chunk:   0%|       | 0/114 [00:00<?, ?it/s, now=None]\u001b[A\n",
      "chunk:   3%| | 3/114 [00:00<00:03, 28.57it/s, now=Non\u001b[A\n",
      "chunk:   7%| | 26/354 [06:21<00:11, 27.78it/s, now=No\u001b[A"
     ]
    },
    {
     "name": "stdout",
     "output_type": "stream",
     "text": [
      "MoviePy - Done.\n"
     ]
    },
    {
     "name": "stderr",
     "output_type": "stream",
     "text": [
      "chunk:   7%| | 26/354 [06:22<00:11, 27.78it/s, now=No"
     ]
    },
    {
     "name": "stdout",
     "output_type": "stream",
     "text": [
      "MoviePy - Writing audio in C:\\Users\\Welcome\\Dhairya-Python\\sarcasm detection\\audio_context\\2_114_c.wav\n"
     ]
    },
    {
     "name": "stderr",
     "output_type": "stream",
     "text": [
      "\n",
      "chunk:   0%|       | 0/145 [00:00<?, ?it/s, now=None]\u001b[A\n",
      "chunk:   4%| | 6/145 [00:00<00:02, 60.00it/s, now=Non\u001b[A\n",
      "chunk:   7%| | 26/354 [06:22<00:11, 27.78it/s, now=No\u001b[A"
     ]
    },
    {
     "name": "stdout",
     "output_type": "stream",
     "text": [
      "MoviePy - Done.\n"
     ]
    },
    {
     "name": "stderr",
     "output_type": "stream",
     "text": [
      "chunk:   7%| | 26/354 [06:23<00:11, 27.78it/s, now=No"
     ]
    },
    {
     "name": "stdout",
     "output_type": "stream",
     "text": [
      "MoviePy - Writing audio in C:\\Users\\Welcome\\Dhairya-Python\\sarcasm detection\\audio_context\\2_115_c.wav\n"
     ]
    },
    {
     "name": "stderr",
     "output_type": "stream",
     "text": [
      "\n",
      "chunk:   0%|        | 0/93 [00:00<?, ?it/s, now=None]\u001b[A\n",
      "chunk:   3%| | 3/93 [00:00<00:03, 24.00it/s, now=None\u001b[A\n",
      "chunk:   7%| | 26/354 [06:23<00:11, 27.78it/s, now=No\u001b[A"
     ]
    },
    {
     "name": "stdout",
     "output_type": "stream",
     "text": [
      "MoviePy - Done.\n"
     ]
    },
    {
     "name": "stderr",
     "output_type": "stream",
     "text": [
      "chunk:   7%| | 26/354 [06:24<00:11, 27.78it/s, now=No"
     ]
    },
    {
     "name": "stdout",
     "output_type": "stream",
     "text": [
      "MoviePy - Writing audio in C:\\Users\\Welcome\\Dhairya-Python\\sarcasm detection\\audio_context\\2_118_c.wav\n"
     ]
    },
    {
     "name": "stderr",
     "output_type": "stream",
     "text": [
      "\n",
      "chunk:   0%|       | 0/128 [00:00<?, ?it/s, now=None]\u001b[A\n",
      "chunk:  17%|▏| 22/128 [00:00<00:00, 219.99it/s, now=N\u001b[A\n",
      "chunk:   7%| | 26/354 [06:24<00:11, 27.78it/s, now=No\u001b[A"
     ]
    },
    {
     "name": "stdout",
     "output_type": "stream",
     "text": [
      "MoviePy - Done.\n"
     ]
    },
    {
     "name": "stderr",
     "output_type": "stream",
     "text": [
      "chunk:   7%| | 26/354 [06:24<00:11, 27.78it/s, now=No"
     ]
    },
    {
     "name": "stdout",
     "output_type": "stream",
     "text": [
      "MoviePy - Writing audio in C:\\Users\\Welcome\\Dhairya-Python\\sarcasm detection\\audio_context\\2_119_c.wav\n"
     ]
    },
    {
     "name": "stderr",
     "output_type": "stream",
     "text": [
      "\n",
      "chunk:   0%|       | 0/304 [00:00<?, ?it/s, now=None]\u001b[A\n",
      "chunk:  10%| | 29/304 [00:00<00:00, 287.11it/s, now=N\u001b[A\n",
      "chunk:  47%|▍| 143/304 [00:00<00:00, 786.72it/s, now=\u001b[A\n",
      "chunk:  73%|▋| 222/304 [00:00<00:00, 788.19it/s, now=\u001b[A\n",
      "chunk:   7%| | 26/354 [06:25<00:11, 27.78it/s, now=No\u001b[A"
     ]
    },
    {
     "name": "stdout",
     "output_type": "stream",
     "text": [
      "MoviePy - Done.\n"
     ]
    },
    {
     "name": "stderr",
     "output_type": "stream",
     "text": [
      "chunk:   7%| | 26/354 [06:25<00:11, 27.78it/s, now=No"
     ]
    },
    {
     "name": "stdout",
     "output_type": "stream",
     "text": [
      "MoviePy - Writing audio in C:\\Users\\Welcome\\Dhairya-Python\\sarcasm detection\\audio_context\\2_11_c.wav\n"
     ]
    },
    {
     "name": "stderr",
     "output_type": "stream",
     "text": [
      "\n",
      "chunk:   0%|       | 0/193 [00:00<?, ?it/s, now=None]\u001b[A\n",
      "chunk:   2%| | 3/193 [00:00<00:06, 27.27it/s, now=Non\u001b[A\n",
      "chunk:  58%|▌| 112/193 [00:00<00:00, 627.65it/s, now=\u001b[A\n",
      "chunk:   7%| | 26/354 [06:26<00:11, 27.78it/s, now=No\u001b[A"
     ]
    },
    {
     "name": "stdout",
     "output_type": "stream",
     "text": [
      "MoviePy - Done.\n"
     ]
    },
    {
     "name": "stderr",
     "output_type": "stream",
     "text": [
      "chunk:   7%| | 26/354 [06:26<00:11, 27.78it/s, now=No"
     ]
    },
    {
     "name": "stdout",
     "output_type": "stream",
     "text": [
      "MoviePy - Writing audio in C:\\Users\\Welcome\\Dhairya-Python\\sarcasm detection\\audio_context\\2_120_c.wav\n"
     ]
    },
    {
     "name": "stderr",
     "output_type": "stream",
     "text": [
      "\n",
      "chunk:   0%|        | 0/79 [00:00<?, ?it/s, now=None]\u001b[A\n",
      "chunk:   4%| | 3/79 [00:00<00:03, 19.61it/s, now=None\u001b[A\n",
      "chunk:   7%| | 26/354 [06:26<00:11, 27.78it/s, now=No\u001b[A"
     ]
    },
    {
     "name": "stdout",
     "output_type": "stream",
     "text": [
      "MoviePy - Done.\n"
     ]
    },
    {
     "name": "stderr",
     "output_type": "stream",
     "text": [
      "chunk:   7%| | 26/354 [06:27<00:11, 27.78it/s, now=No"
     ]
    },
    {
     "name": "stdout",
     "output_type": "stream",
     "text": [
      "MoviePy - Writing audio in C:\\Users\\Welcome\\Dhairya-Python\\sarcasm detection\\audio_context\\2_121_c.wav\n"
     ]
    },
    {
     "name": "stderr",
     "output_type": "stream",
     "text": [
      "\n",
      "chunk:   0%|       | 0/115 [00:00<?, ?it/s, now=None]\u001b[A\n",
      "chunk:   3%| | 3/115 [00:00<00:04, 26.31it/s, now=Non\u001b[A\n",
      "chunk:   7%| | 26/354 [06:27<00:11, 27.78it/s, now=No\u001b[A"
     ]
    },
    {
     "name": "stdout",
     "output_type": "stream",
     "text": [
      "MoviePy - Done.\n"
     ]
    },
    {
     "name": "stderr",
     "output_type": "stream",
     "text": [
      "chunk:   7%| | 26/354 [06:28<00:11, 27.78it/s, now=No"
     ]
    },
    {
     "name": "stdout",
     "output_type": "stream",
     "text": [
      "MoviePy - Writing audio in C:\\Users\\Welcome\\Dhairya-Python\\sarcasm detection\\audio_context\\2_123_c.wav\n"
     ]
    },
    {
     "name": "stderr",
     "output_type": "stream",
     "text": [
      "\n",
      "chunk:   0%|       | 0/154 [00:00<?, ?it/s, now=None]\u001b[A\n",
      "chunk:   2%| | 3/154 [00:00<00:05, 28.04it/s, now=Non\u001b[A\n",
      "chunk:  99%|▉| 153/154 [00:00<00:00, 854.92it/s, now=\u001b[A\n",
      "chunk:   7%| | 26/354 [06:28<00:11, 27.78it/s, now=No\u001b[A"
     ]
    },
    {
     "name": "stdout",
     "output_type": "stream",
     "text": [
      "MoviePy - Done.\n"
     ]
    },
    {
     "name": "stderr",
     "output_type": "stream",
     "text": [
      "chunk:   7%| | 26/354 [06:29<00:11, 27.78it/s, now=No"
     ]
    },
    {
     "name": "stdout",
     "output_type": "stream",
     "text": [
      "MoviePy - Writing audio in C:\\Users\\Welcome\\Dhairya-Python\\sarcasm detection\\audio_context\\2_124_c.wav\n"
     ]
    },
    {
     "name": "stderr",
     "output_type": "stream",
     "text": [
      "\n",
      "chunk:   0%|       | 0/344 [00:00<?, ?it/s, now=None]\u001b[A\n",
      "chunk:   1%| | 3/344 [00:00<00:12, 26.31it/s, now=Non\u001b[A\n",
      "chunk:  44%|▍| 153/344 [00:00<00:00, 742.63it/s, now=\u001b[A\n",
      "chunk:  89%|▉| 306/344 [00:00<00:00, 1053.16it/s, now\u001b[A\n",
      "chunk:   7%| | 26/354 [06:29<00:11, 27.78it/s, now=No\u001b[A"
     ]
    },
    {
     "name": "stdout",
     "output_type": "stream",
     "text": [
      "MoviePy - Done.\n"
     ]
    },
    {
     "name": "stderr",
     "output_type": "stream",
     "text": [
      "chunk:   7%| | 26/354 [06:30<00:11, 27.78it/s, now=No"
     ]
    },
    {
     "name": "stdout",
     "output_type": "stream",
     "text": [
      "MoviePy - Writing audio in C:\\Users\\Welcome\\Dhairya-Python\\sarcasm detection\\audio_context\\2_125_c.wav\n"
     ]
    },
    {
     "name": "stderr",
     "output_type": "stream",
     "text": [
      "\n",
      "chunk:   0%|       | 0/329 [00:00<?, ?it/s, now=None]\u001b[A\n",
      "chunk:  12%| | 39/329 [00:00<00:00, 389.98it/s, now=N\u001b[A\n",
      "chunk:  47%|▍| 153/329 [00:00<00:00, 807.38it/s, now=\u001b[A\n",
      "chunk:  82%|▊| 269/329 [00:00<00:00, 965.83it/s, now=\u001b[A\n",
      "chunk:   7%| | 26/354 [06:30<00:11, 27.78it/s, now=No\u001b[A"
     ]
    },
    {
     "name": "stdout",
     "output_type": "stream",
     "text": [
      "MoviePy - Done.\n"
     ]
    },
    {
     "name": "stderr",
     "output_type": "stream",
     "text": [
      "chunk:   7%| | 26/354 [06:31<00:11, 27.78it/s, now=No"
     ]
    },
    {
     "name": "stdout",
     "output_type": "stream",
     "text": [
      "MoviePy - Writing audio in C:\\Users\\Welcome\\Dhairya-Python\\sarcasm detection\\audio_context\\2_126_c.wav\n"
     ]
    },
    {
     "name": "stderr",
     "output_type": "stream",
     "text": [
      "\n",
      "chunk:   0%|       | 0/135 [00:00<?, ?it/s, now=None]\u001b[A\n",
      "chunk:  25%|▎| 34/135 [00:00<00:00, 339.98it/s, now=N\u001b[A\n",
      "chunk:   7%| | 26/354 [06:31<00:11, 27.78it/s, now=No\u001b[A"
     ]
    },
    {
     "name": "stdout",
     "output_type": "stream",
     "text": [
      "MoviePy - Done.\n"
     ]
    },
    {
     "name": "stderr",
     "output_type": "stream",
     "text": [
      "chunk:   7%| | 26/354 [06:31<00:11, 27.78it/s, now=No"
     ]
    },
    {
     "name": "stdout",
     "output_type": "stream",
     "text": [
      "MoviePy - Writing audio in C:\\Users\\Welcome\\Dhairya-Python\\sarcasm detection\\audio_context\\2_127_c.wav\n"
     ]
    },
    {
     "name": "stderr",
     "output_type": "stream",
     "text": [
      "\n",
      "chunk:   0%|       | 0/187 [00:00<?, ?it/s, now=None]\u001b[A\n",
      "chunk:  16%|▏| 29/187 [00:00<00:00, 284.30it/s, now=N\u001b[A\n",
      "chunk:  82%|▊| 153/187 [00:00<00:00, 757.83it/s, now=\u001b[A\n",
      "chunk:   7%| | 26/354 [06:32<00:11, 27.78it/s, now=No\u001b[A"
     ]
    },
    {
     "name": "stdout",
     "output_type": "stream",
     "text": [
      "MoviePy - Done.\n"
     ]
    },
    {
     "name": "stderr",
     "output_type": "stream",
     "text": [
      "chunk:   7%| | 26/354 [06:32<00:11, 27.78it/s, now=No"
     ]
    },
    {
     "name": "stdout",
     "output_type": "stream",
     "text": [
      "MoviePy - Writing audio in C:\\Users\\Welcome\\Dhairya-Python\\sarcasm detection\\audio_context\\2_128_c.wav\n"
     ]
    },
    {
     "name": "stderr",
     "output_type": "stream",
     "text": [
      "\n",
      "chunk:   0%|       | 0/220 [00:00<?, ?it/s, now=None]\u001b[A\n",
      "chunk:   4%| | 9/220 [00:00<00:02, 89.99it/s, now=Non\u001b[A\n",
      "chunk:  46%|▍| 102/220 [00:00<00:00, 533.84it/s, now=\u001b[A\n",
      "chunk:  93%|▉| 204/220 [00:00<00:00, 708.09it/s, now=\u001b[A\n",
      "chunk:   7%| | 26/354 [06:33<00:11, 27.78it/s, now=No\u001b[A"
     ]
    },
    {
     "name": "stdout",
     "output_type": "stream",
     "text": [
      "MoviePy - Done.\n"
     ]
    },
    {
     "name": "stderr",
     "output_type": "stream",
     "text": [
      "chunk:   7%| | 26/354 [06:33<00:11, 27.78it/s, now=No"
     ]
    },
    {
     "name": "stdout",
     "output_type": "stream",
     "text": [
      "MoviePy - Writing audio in C:\\Users\\Welcome\\Dhairya-Python\\sarcasm detection\\audio_context\\2_129_c.wav\n"
     ]
    },
    {
     "name": "stderr",
     "output_type": "stream",
     "text": [
      "\n",
      "chunk:   0%|       | 0/183 [00:00<?, ?it/s, now=None]\u001b[A\n",
      "chunk:  16%|▏| 30/183 [00:00<00:00, 299.98it/s, now=N\u001b[A\n",
      "chunk:  81%|▊| 148/183 [00:00<00:00, 817.60it/s, now=\u001b[A\n",
      "chunk:   7%| | 26/354 [06:34<00:11, 27.78it/s, now=No\u001b[A"
     ]
    },
    {
     "name": "stdout",
     "output_type": "stream",
     "text": [
      "MoviePy - Done.\n"
     ]
    },
    {
     "name": "stderr",
     "output_type": "stream",
     "text": [
      "chunk:   7%| | 26/354 [06:35<00:11, 27.78it/s, now=No"
     ]
    },
    {
     "name": "stdout",
     "output_type": "stream",
     "text": [
      "MoviePy - Writing audio in C:\\Users\\Welcome\\Dhairya-Python\\sarcasm detection\\audio_context\\2_12_c.wav\n"
     ]
    },
    {
     "name": "stderr",
     "output_type": "stream",
     "text": [
      "\n",
      "chunk:   0%|       | 0/341 [00:00<?, ?it/s, now=None]\u001b[A\n",
      "chunk:   1%| | 3/341 [00:00<00:12, 27.27it/s, now=Non\u001b[A\n",
      "chunk:  30%|▎| 102/341 [00:00<00:00, 543.52it/s, now=\u001b[A\n",
      "chunk:  60%|▌| 204/341 [00:00<00:00, 644.15it/s, now=\u001b[A\n",
      "chunk:  84%|▊| 287/341 [00:00<00:00, 708.72it/s, now=\u001b[A\n",
      "chunk:   7%| | 26/354 [06:35<00:11, 27.78it/s, now=No\u001b[A"
     ]
    },
    {
     "name": "stdout",
     "output_type": "stream",
     "text": [
      "MoviePy - Done.\n"
     ]
    },
    {
     "name": "stderr",
     "output_type": "stream",
     "text": [
      "chunk:   7%| | 26/354 [06:36<00:11, 27.78it/s, now=No"
     ]
    },
    {
     "name": "stdout",
     "output_type": "stream",
     "text": [
      "MoviePy - Writing audio in C:\\Users\\Welcome\\Dhairya-Python\\sarcasm detection\\audio_context\\2_131_c.wav\n"
     ]
    },
    {
     "name": "stderr",
     "output_type": "stream",
     "text": [
      "\n",
      "chunk:   0%|        | 0/37 [00:00<?, ?it/s, now=None]\u001b[A\n",
      "chunk:   8%| | 3/37 [00:00<00:01, 25.21it/s, now=None\u001b[A\n",
      "chunk:   7%| | 26/354 [06:36<00:11, 27.78it/s, now=No\u001b[A"
     ]
    },
    {
     "name": "stdout",
     "output_type": "stream",
     "text": [
      "MoviePy - Done.\n"
     ]
    },
    {
     "name": "stderr",
     "output_type": "stream",
     "text": [
      "chunk:   7%| | 26/354 [06:36<00:11, 27.78it/s, now=No"
     ]
    },
    {
     "name": "stdout",
     "output_type": "stream",
     "text": [
      "MoviePy - Writing audio in C:\\Users\\Welcome\\Dhairya-Python\\sarcasm detection\\audio_context\\2_134_c.wav\n"
     ]
    },
    {
     "name": "stderr",
     "output_type": "stream",
     "text": [
      "\n",
      "chunk:   0%|       | 0/117 [00:00<?, ?it/s, now=None]\u001b[A\n",
      "chunk:  15%|▏| 18/117 [00:00<00:00, 179.99it/s, now=N\u001b[A\n",
      "chunk:   7%| | 26/354 [06:37<00:11, 27.78it/s, now=No\u001b[A"
     ]
    },
    {
     "name": "stdout",
     "output_type": "stream",
     "text": [
      "MoviePy - Done.\n"
     ]
    },
    {
     "name": "stderr",
     "output_type": "stream",
     "text": [
      "chunk:   7%| | 26/354 [06:37<00:11, 27.78it/s, now=No"
     ]
    },
    {
     "name": "stdout",
     "output_type": "stream",
     "text": [
      "MoviePy - Writing audio in C:\\Users\\Welcome\\Dhairya-Python\\sarcasm detection\\audio_context\\2_135_c.wav\n"
     ]
    },
    {
     "name": "stderr",
     "output_type": "stream",
     "text": [
      "\n",
      "chunk:   0%|       | 0/118 [00:00<?, ?it/s, now=None]\u001b[A\n",
      "chunk:   3%| | 3/118 [00:00<00:03, 29.70it/s, now=Non\u001b[A\n",
      "chunk:   7%| | 26/354 [06:37<00:11, 27.78it/s, now=No\u001b[A"
     ]
    },
    {
     "name": "stdout",
     "output_type": "stream",
     "text": [
      "MoviePy - Done.\n"
     ]
    },
    {
     "name": "stderr",
     "output_type": "stream",
     "text": [
      "chunk:   7%| | 26/354 [06:38<00:11, 27.78it/s, now=No"
     ]
    },
    {
     "name": "stdout",
     "output_type": "stream",
     "text": [
      "MoviePy - Writing audio in C:\\Users\\Welcome\\Dhairya-Python\\sarcasm detection\\audio_context\\2_137_c.wav\n"
     ]
    },
    {
     "name": "stderr",
     "output_type": "stream",
     "text": [
      "\n",
      "chunk:   0%|       | 0/150 [00:00<?, ?it/s, now=None]\u001b[A\n",
      "chunk:   7%| | 10/150 [00:00<00:01, 99.99it/s, now=No\u001b[A\n",
      "chunk:   7%| | 26/354 [06:38<00:11, 27.78it/s, now=No\u001b[A"
     ]
    },
    {
     "name": "stdout",
     "output_type": "stream",
     "text": [
      "MoviePy - Done.\n"
     ]
    },
    {
     "name": "stderr",
     "output_type": "stream",
     "text": [
      "chunk:   7%| | 26/354 [06:39<00:11, 27.78it/s, now=No"
     ]
    },
    {
     "name": "stdout",
     "output_type": "stream",
     "text": [
      "MoviePy - Writing audio in C:\\Users\\Welcome\\Dhairya-Python\\sarcasm detection\\audio_context\\2_13_c.wav\n"
     ]
    },
    {
     "name": "stderr",
     "output_type": "stream",
     "text": [
      "\n",
      "chunk:   0%|       | 0/236 [00:00<?, ?it/s, now=None]\u001b[A\n",
      "chunk:  12%| | 29/236 [00:00<00:00, 287.11it/s, now=N\u001b[A\n",
      "chunk:  43%|▍| 102/236 [00:00<00:00, 522.07it/s, now=\u001b[A\n",
      "chunk:  66%|▋| 155/236 [00:00<00:00, 409.23it/s, now=\u001b[A\n",
      "chunk:   7%| | 26/354 [06:39<00:11, 27.78it/s, now=No\u001b[A"
     ]
    },
    {
     "name": "stdout",
     "output_type": "stream",
     "text": [
      "MoviePy - Done.\n"
     ]
    },
    {
     "name": "stderr",
     "output_type": "stream",
     "text": [
      "chunk:   7%| | 26/354 [06:40<00:11, 27.78it/s, now=No"
     ]
    },
    {
     "name": "stdout",
     "output_type": "stream",
     "text": [
      "MoviePy - Writing audio in C:\\Users\\Welcome\\Dhairya-Python\\sarcasm detection\\audio_context\\2_140_c.wav\n"
     ]
    },
    {
     "name": "stderr",
     "output_type": "stream",
     "text": [
      "\n",
      "chunk:   0%|        | 0/45 [00:00<?, ?it/s, now=None]\u001b[A\n",
      "chunk:  64%|▋| 29/45 [00:00<00:00, 287.11it/s, now=No\u001b[A\n",
      "chunk:   7%| | 26/354 [06:40<00:11, 27.78it/s, now=No\u001b[A"
     ]
    },
    {
     "name": "stdout",
     "output_type": "stream",
     "text": [
      "MoviePy - Done.\n"
     ]
    },
    {
     "name": "stderr",
     "output_type": "stream",
     "text": [
      "chunk:   7%| | 26/354 [06:41<00:11, 27.78it/s, now=No"
     ]
    },
    {
     "name": "stdout",
     "output_type": "stream",
     "text": [
      "MoviePy - Writing audio in C:\\Users\\Welcome\\Dhairya-Python\\sarcasm detection\\audio_context\\2_141_c.wav\n"
     ]
    },
    {
     "name": "stderr",
     "output_type": "stream",
     "text": [
      "\n",
      "chunk:   0%|       | 0/112 [00:00<?, ?it/s, now=None]\u001b[A\n",
      "chunk:   3%| | 3/112 [00:00<00:03, 29.70it/s, now=Non\u001b[A\n",
      "chunk:   7%| | 26/354 [06:41<00:11, 27.78it/s, now=No\u001b[A"
     ]
    },
    {
     "name": "stdout",
     "output_type": "stream",
     "text": [
      "MoviePy - Done.\n"
     ]
    },
    {
     "name": "stderr",
     "output_type": "stream",
     "text": [
      "chunk:   7%| | 26/354 [06:41<00:11, 27.78it/s, now=No"
     ]
    },
    {
     "name": "stdout",
     "output_type": "stream",
     "text": [
      "MoviePy - Writing audio in C:\\Users\\Welcome\\Dhairya-Python\\sarcasm detection\\audio_context\\2_144_c.wav\n"
     ]
    },
    {
     "name": "stderr",
     "output_type": "stream",
     "text": [
      "\n",
      "chunk:   0%|       | 0/136 [00:00<?, ?it/s, now=None]\u001b[A\n",
      "chunk:  14%|▏| 19/136 [00:00<00:00, 189.99it/s, now=N\u001b[A\n",
      "chunk:   7%| | 26/354 [06:41<00:11, 27.78it/s, now=No\u001b[A"
     ]
    },
    {
     "name": "stdout",
     "output_type": "stream",
     "text": [
      "MoviePy - Done.\n"
     ]
    },
    {
     "name": "stderr",
     "output_type": "stream",
     "text": [
      "chunk:   7%| | 26/354 [06:42<00:11, 27.78it/s, now=No"
     ]
    },
    {
     "name": "stdout",
     "output_type": "stream",
     "text": [
      "MoviePy - Writing audio in C:\\Users\\Welcome\\Dhairya-Python\\sarcasm detection\\audio_context\\2_146_c.wav\n"
     ]
    },
    {
     "name": "stderr",
     "output_type": "stream",
     "text": [
      "\n",
      "chunk:   0%|       | 0/358 [00:00<?, ?it/s, now=None]\u001b[A\n",
      "chunk:   8%| | 29/358 [00:00<00:01, 284.30it/s, now=N\u001b[A\n",
      "chunk:  43%|▍| 153/358 [00:00<00:00, 663.72it/s, now=\u001b[A\n",
      "chunk:  71%|▋| 255/358 [00:00<00:00, 709.34it/s, now=\u001b[A\n",
      "chunk:   7%| | 26/354 [06:43<00:11, 27.78it/s, now=No\u001b[A"
     ]
    },
    {
     "name": "stdout",
     "output_type": "stream",
     "text": [
      "MoviePy - Done.\n"
     ]
    },
    {
     "name": "stderr",
     "output_type": "stream",
     "text": [
      "chunk:   7%| | 26/354 [06:43<00:11, 27.78it/s, now=No"
     ]
    },
    {
     "name": "stdout",
     "output_type": "stream",
     "text": [
      "MoviePy - Writing audio in C:\\Users\\Welcome\\Dhairya-Python\\sarcasm detection\\audio_context\\2_147_c.wav\n"
     ]
    },
    {
     "name": "stderr",
     "output_type": "stream",
     "text": [
      "\n",
      "chunk:   0%|        | 0/69 [00:00<?, ?it/s, now=None]\u001b[A\n",
      "chunk:  25%|▏| 17/69 [00:00<00:00, 169.99it/s, now=No\u001b[A\n",
      "chunk:   7%| | 26/354 [06:43<00:11, 27.78it/s, now=No\u001b[A"
     ]
    },
    {
     "name": "stdout",
     "output_type": "stream",
     "text": [
      "MoviePy - Done.\n"
     ]
    },
    {
     "name": "stderr",
     "output_type": "stream",
     "text": [
      "chunk:   7%| | 26/354 [06:44<00:11, 27.78it/s, now=No"
     ]
    },
    {
     "name": "stdout",
     "output_type": "stream",
     "text": [
      "MoviePy - Writing audio in C:\\Users\\Welcome\\Dhairya-Python\\sarcasm detection\\audio_context\\2_148_c.wav\n"
     ]
    },
    {
     "name": "stderr",
     "output_type": "stream",
     "text": [
      "\n",
      "chunk:   0%|       | 0/223 [00:00<?, ?it/s, now=None]\u001b[A\n",
      "chunk:   1%| | 3/223 [00:00<00:10, 20.13it/s, now=Non\u001b[A\n",
      "chunk:  46%|▍| 102/223 [00:00<00:00, 469.55it/s, now=\u001b[A\n",
      "chunk:  98%|▉| 218/223 [00:00<00:00, 744.92it/s, now=\u001b[A\n",
      "chunk:   7%| | 26/354 [06:44<00:11, 27.78it/s, now=No\u001b[A"
     ]
    },
    {
     "name": "stdout",
     "output_type": "stream",
     "text": [
      "MoviePy - Done.\n"
     ]
    },
    {
     "name": "stderr",
     "output_type": "stream",
     "text": [
      "chunk:   7%| | 26/354 [06:45<00:11, 27.78it/s, now=No"
     ]
    },
    {
     "name": "stdout",
     "output_type": "stream",
     "text": [
      "MoviePy - Writing audio in C:\\Users\\Welcome\\Dhairya-Python\\sarcasm detection\\audio_context\\2_149_c.wav\n"
     ]
    },
    {
     "name": "stderr",
     "output_type": "stream",
     "text": [
      "\n",
      "chunk:   0%|        | 0/94 [00:00<?, ?it/s, now=None]\u001b[A\n",
      "chunk:   4%| | 4/94 [00:00<00:02, 40.00it/s, now=None\u001b[A\n",
      "chunk:   7%| | 26/354 [06:46<00:11, 27.78it/s, now=No\u001b[A"
     ]
    },
    {
     "name": "stdout",
     "output_type": "stream",
     "text": [
      "MoviePy - Done.\n"
     ]
    },
    {
     "name": "stderr",
     "output_type": "stream",
     "text": [
      "chunk:   7%| | 26/354 [06:46<00:11, 27.78it/s, now=No"
     ]
    },
    {
     "name": "stdout",
     "output_type": "stream",
     "text": [
      "MoviePy - Writing audio in C:\\Users\\Welcome\\Dhairya-Python\\sarcasm detection\\audio_context\\2_150_c.wav\n"
     ]
    },
    {
     "name": "stderr",
     "output_type": "stream",
     "text": [
      "\n",
      "chunk:   0%|       | 0/161 [00:00<?, ?it/s, now=None]\u001b[A\n",
      "chunk:   2%| | 3/161 [00:00<00:06, 25.21it/s, now=Non\u001b[A\n",
      "chunk:  63%|▋| 102/161 [00:00<00:00, 476.19it/s, now=\u001b[A\n",
      "chunk:   7%| | 26/354 [06:47<00:11, 27.78it/s, now=No\u001b[A"
     ]
    },
    {
     "name": "stdout",
     "output_type": "stream",
     "text": [
      "MoviePy - Done.\n"
     ]
    },
    {
     "name": "stderr",
     "output_type": "stream",
     "text": [
      "chunk:   7%| | 26/354 [06:48<00:11, 27.78it/s, now=No"
     ]
    },
    {
     "name": "stdout",
     "output_type": "stream",
     "text": [
      "MoviePy - Writing audio in C:\\Users\\Welcome\\Dhairya-Python\\sarcasm detection\\audio_context\\2_151_c.wav\n"
     ]
    },
    {
     "name": "stderr",
     "output_type": "stream",
     "text": [
      "\n",
      "chunk:   0%|       | 0/159 [00:00<?, ?it/s, now=None]\u001b[A\n",
      "chunk:   8%| | 13/159 [00:00<00:01, 129.99it/s, now=N\u001b[A\n",
      "chunk:  64%|▋| 102/159 [00:00<00:00, 503.05it/s, now=\u001b[A\n",
      "chunk:   7%| | 26/354 [06:48<00:11, 27.78it/s, now=No\u001b[A"
     ]
    },
    {
     "name": "stdout",
     "output_type": "stream",
     "text": [
      "MoviePy - Done.\n"
     ]
    },
    {
     "name": "stderr",
     "output_type": "stream",
     "text": [
      "chunk:   7%| | 26/354 [06:49<00:11, 27.78it/s, now=No"
     ]
    },
    {
     "name": "stdout",
     "output_type": "stream",
     "text": [
      "MoviePy - Writing audio in C:\\Users\\Welcome\\Dhairya-Python\\sarcasm detection\\audio_context\\2_152_c.wav\n"
     ]
    },
    {
     "name": "stderr",
     "output_type": "stream",
     "text": [
      "\n",
      "chunk:   0%|       | 0/329 [00:00<?, ?it/s, now=None]\u001b[A\n",
      "chunk:   7%| | 24/329 [00:00<00:01, 239.99it/s, now=N\u001b[A\n",
      "chunk:  44%|▍| 146/329 [00:00<00:00, 816.42it/s, now=\u001b[A\n",
      "chunk:  75%|▊| 247/329 [00:00<00:00, 904.79it/s, now=\u001b[A\n",
      "chunk:   7%| | 26/354 [06:49<00:11, 27.78it/s, now=No\u001b[A"
     ]
    },
    {
     "name": "stdout",
     "output_type": "stream",
     "text": [
      "MoviePy - Done.\n"
     ]
    },
    {
     "name": "stderr",
     "output_type": "stream",
     "text": [
      "chunk:   7%| | 26/354 [06:50<00:11, 27.78it/s, now=No"
     ]
    },
    {
     "name": "stdout",
     "output_type": "stream",
     "text": [
      "MoviePy - Writing audio in C:\\Users\\Welcome\\Dhairya-Python\\sarcasm detection\\audio_context\\2_154_c.wav\n"
     ]
    },
    {
     "name": "stderr",
     "output_type": "stream",
     "text": [
      "\n",
      "chunk:   0%|       | 0/118 [00:00<?, ?it/s, now=None]\u001b[A\n",
      "chunk:   8%| | 9/118 [00:00<00:01, 89.99it/s, now=Non\u001b[A\n",
      "chunk:   7%| | 26/354 [06:50<00:11, 27.78it/s, now=No\u001b[A"
     ]
    },
    {
     "name": "stdout",
     "output_type": "stream",
     "text": [
      "MoviePy - Done.\n"
     ]
    },
    {
     "name": "stderr",
     "output_type": "stream",
     "text": [
      "chunk:   7%| | 26/354 [06:51<00:11, 27.78it/s, now=No"
     ]
    },
    {
     "name": "stdout",
     "output_type": "stream",
     "text": [
      "MoviePy - Writing audio in C:\\Users\\Welcome\\Dhairya-Python\\sarcasm detection\\audio_context\\2_155_c.wav\n"
     ]
    },
    {
     "name": "stderr",
     "output_type": "stream",
     "text": [
      "\n",
      "chunk:   0%|       | 0/632 [00:00<?, ?it/s, now=None]\u001b[A\n",
      "chunk:   4%| | 24/632 [00:00<00:02, 239.99it/s, now=N\u001b[A\n",
      "chunk:  29%|▎| 181/632 [00:00<00:00, 1022.30it/s, now\u001b[A\n",
      "chunk:  51%|▌| 323/632 [00:00<00:00, 1203.86it/s, now\u001b[A\n",
      "chunk:  72%|▋| 453/632 [00:00<00:00, 1241.78it/s, now\u001b[A\n",
      "chunk:  93%|▉| 590/632 [00:00<00:00, 1287.99it/s, now\u001b[A\n",
      "chunk:   7%| | 26/354 [06:51<00:11, 27.78it/s, now=No\u001b[A"
     ]
    },
    {
     "name": "stdout",
     "output_type": "stream",
     "text": [
      "MoviePy - Done.\n"
     ]
    },
    {
     "name": "stderr",
     "output_type": "stream",
     "text": [
      "chunk:   7%| | 26/354 [06:52<00:11, 27.78it/s, now=No"
     ]
    },
    {
     "name": "stdout",
     "output_type": "stream",
     "text": [
      "MoviePy - Writing audio in C:\\Users\\Welcome\\Dhairya-Python\\sarcasm detection\\audio_context\\2_158_c.wav\n"
     ]
    },
    {
     "name": "stderr",
     "output_type": "stream",
     "text": [
      "\n",
      "chunk:   0%|        | 0/59 [00:00<?, ?it/s, now=None]\u001b[A\n",
      "chunk:  20%|▏| 12/59 [00:00<00:00, 119.99it/s, now=No\u001b[A\n",
      "chunk:   7%| | 26/354 [06:52<00:11, 27.78it/s, now=No\u001b[A"
     ]
    },
    {
     "name": "stdout",
     "output_type": "stream",
     "text": [
      "MoviePy - Done.\n"
     ]
    },
    {
     "name": "stderr",
     "output_type": "stream",
     "text": [
      "chunk:   7%| | 26/354 [06:53<00:11, 27.78it/s, now=No"
     ]
    },
    {
     "name": "stdout",
     "output_type": "stream",
     "text": [
      "MoviePy - Writing audio in C:\\Users\\Welcome\\Dhairya-Python\\sarcasm detection\\audio_context\\2_15_c.wav\n"
     ]
    },
    {
     "name": "stderr",
     "output_type": "stream",
     "text": [
      "\n",
      "chunk:   0%|       | 0/244 [00:00<?, ?it/s, now=None]\u001b[A\n",
      "chunk:   1%| | 3/244 [00:00<00:08, 27.27it/s, now=Non\u001b[A\n",
      "chunk:  70%|▋| 171/244 [00:00<00:00, 960.96it/s, now=\u001b[A\n",
      "chunk:   7%| | 26/354 [06:53<00:11, 27.78it/s, now=No\u001b[A"
     ]
    },
    {
     "name": "stdout",
     "output_type": "stream",
     "text": [
      "MoviePy - Done.\n"
     ]
    },
    {
     "name": "stderr",
     "output_type": "stream",
     "text": [
      "chunk:   7%| | 26/354 [06:53<00:11, 27.78it/s, now=No"
     ]
    },
    {
     "name": "stdout",
     "output_type": "stream",
     "text": [
      "MoviePy - Writing audio in C:\\Users\\Welcome\\Dhairya-Python\\sarcasm detection\\audio_context\\2_160_c.wav\n"
     ]
    },
    {
     "name": "stderr",
     "output_type": "stream",
     "text": [
      "\n",
      "chunk:   0%|        | 0/64 [00:00<?, ?it/s, now=None]\u001b[A\n",
      "chunk:  34%|▎| 22/64 [00:00<00:00, 219.99it/s, now=No\u001b[A\n",
      "chunk:   7%| | 26/354 [06:54<00:11, 27.78it/s, now=No\u001b[A"
     ]
    },
    {
     "name": "stdout",
     "output_type": "stream",
     "text": [
      "MoviePy - Done.\n"
     ]
    },
    {
     "name": "stderr",
     "output_type": "stream",
     "text": [
      "chunk:   7%| | 26/354 [06:54<00:11, 27.78it/s, now=No"
     ]
    },
    {
     "name": "stdout",
     "output_type": "stream",
     "text": [
      "MoviePy - Writing audio in C:\\Users\\Welcome\\Dhairya-Python\\sarcasm detection\\audio_context\\2_161_c.wav\n"
     ]
    },
    {
     "name": "stderr",
     "output_type": "stream",
     "text": [
      "\n",
      "chunk:   0%|       | 0/114 [00:00<?, ?it/s, now=None]\u001b[A\n",
      "chunk:   3%| | 3/114 [00:00<00:03, 28.30it/s, now=Non\u001b[A\n",
      "chunk:   7%| | 26/354 [06:54<00:11, 27.78it/s, now=No\u001b[A"
     ]
    },
    {
     "name": "stdout",
     "output_type": "stream",
     "text": [
      "MoviePy - Done.\n"
     ]
    },
    {
     "name": "stderr",
     "output_type": "stream",
     "text": [
      "chunk:   7%| | 26/354 [06:55<00:11, 27.78it/s, now=No"
     ]
    },
    {
     "name": "stdout",
     "output_type": "stream",
     "text": [
      "MoviePy - Writing audio in C:\\Users\\Welcome\\Dhairya-Python\\sarcasm detection\\audio_context\\2_162_c.wav\n"
     ]
    },
    {
     "name": "stderr",
     "output_type": "stream",
     "text": [
      "\n",
      "chunk:   0%|       | 0/344 [00:00<?, ?it/s, now=None]\u001b[A\n",
      "chunk:   1%| | 4/344 [00:00<00:08, 40.00it/s, now=Non\u001b[A\n",
      "chunk:  31%|▎| 105/344 [00:00<00:00, 610.55it/s, now=\u001b[A\n",
      "chunk:  59%|▌| 204/344 [00:00<00:00, 694.94it/s, now=\u001b[A\n",
      "chunk:  89%|▉| 306/344 [00:00<00:00, 750.76it/s, now=\u001b[A\n",
      "chunk:   7%| | 26/354 [06:56<00:11, 27.78it/s, now=No\u001b[A"
     ]
    },
    {
     "name": "stdout",
     "output_type": "stream",
     "text": [
      "MoviePy - Done.\n"
     ]
    },
    {
     "name": "stderr",
     "output_type": "stream",
     "text": [
      "chunk:   7%| | 26/354 [06:56<00:11, 27.78it/s, now=No"
     ]
    },
    {
     "name": "stdout",
     "output_type": "stream",
     "text": [
      "MoviePy - Writing audio in C:\\Users\\Welcome\\Dhairya-Python\\sarcasm detection\\audio_context\\2_163_c.wav\n"
     ]
    },
    {
     "name": "stderr",
     "output_type": "stream",
     "text": [
      "\n",
      "chunk:   0%|       | 0/197 [00:00<?, ?it/s, now=None]\u001b[A\n",
      "chunk:   2%| | 3/197 [00:00<00:07, 27.52it/s, now=Non\u001b[A\n",
      "chunk:  52%|▌| 102/197 [00:00<00:00, 551.52it/s, now=\u001b[A\n",
      "chunk:   7%| | 26/354 [06:57<00:11, 27.78it/s, now=No\u001b[A"
     ]
    },
    {
     "name": "stdout",
     "output_type": "stream",
     "text": [
      "MoviePy - Done.\n"
     ]
    },
    {
     "name": "stderr",
     "output_type": "stream",
     "text": [
      "chunk:   7%| | 26/354 [06:57<00:11, 27.78it/s, now=No"
     ]
    },
    {
     "name": "stdout",
     "output_type": "stream",
     "text": [
      "MoviePy - Writing audio in C:\\Users\\Welcome\\Dhairya-Python\\sarcasm detection\\audio_context\\2_166_c.wav\n"
     ]
    },
    {
     "name": "stderr",
     "output_type": "stream",
     "text": [
      "\n",
      "chunk:   0%|       | 0/187 [00:00<?, ?it/s, now=None]\u001b[A\n",
      "chunk:  12%| | 23/187 [00:00<00:00, 229.99it/s, now=N\u001b[A\n",
      "chunk:  55%|▌| 102/187 [00:00<00:00, 492.72it/s, now=\u001b[A\n",
      "chunk:   7%| | 26/354 [06:58<00:11, 27.78it/s, now=No\u001b[A"
     ]
    },
    {
     "name": "stdout",
     "output_type": "stream",
     "text": [
      "MoviePy - Done.\n"
     ]
    },
    {
     "name": "stderr",
     "output_type": "stream",
     "text": [
      "chunk:   7%| | 26/354 [06:58<00:11, 27.78it/s, now=No"
     ]
    },
    {
     "name": "stdout",
     "output_type": "stream",
     "text": [
      "MoviePy - Writing audio in C:\\Users\\Welcome\\Dhairya-Python\\sarcasm detection\\audio_context\\2_167_c.wav\n"
     ]
    },
    {
     "name": "stderr",
     "output_type": "stream",
     "text": [
      "\n",
      "chunk:   0%|       | 0/155 [00:00<?, ?it/s, now=None]\u001b[A\n",
      "chunk:  10%| | 16/155 [00:00<00:00, 159.99it/s, now=N\u001b[A\n",
      "chunk:  99%|▉| 153/155 [00:00<00:00, 861.58it/s, now=\u001b[A\n",
      "chunk:   7%| | 26/354 [06:59<00:11, 27.78it/s, now=No\u001b[A"
     ]
    },
    {
     "name": "stdout",
     "output_type": "stream",
     "text": [
      "MoviePy - Done.\n"
     ]
    },
    {
     "name": "stderr",
     "output_type": "stream",
     "text": [
      "chunk:   7%| | 26/354 [06:59<00:11, 27.78it/s, now=No"
     ]
    },
    {
     "name": "stdout",
     "output_type": "stream",
     "text": [
      "MoviePy - Writing audio in C:\\Users\\Welcome\\Dhairya-Python\\sarcasm detection\\audio_context\\2_168_c.wav\n"
     ]
    },
    {
     "name": "stderr",
     "output_type": "stream",
     "text": [
      "\n",
      "chunk:   0%|       | 0/573 [00:00<?, ?it/s, now=None]\u001b[A\n",
      "chunk:   1%| | 3/573 [00:00<00:21, 26.55it/s, now=Non\u001b[A\n",
      "chunk:  27%|▎| 153/573 [00:00<00:00, 826.13it/s, now=\u001b[A\n",
      "chunk:  53%|▌| 306/573 [00:00<00:00, 1086.18it/s, now\u001b[A\n",
      "chunk:  80%|▊| 459/573 [00:00<00:00, 1215.84it/s, now\u001b[A\n",
      "chunk:   7%| | 26/354 [07:00<00:11, 27.78it/s, now=No\u001b[A"
     ]
    },
    {
     "name": "stdout",
     "output_type": "stream",
     "text": [
      "MoviePy - Done.\n"
     ]
    },
    {
     "name": "stderr",
     "output_type": "stream",
     "text": [
      "chunk:   7%| | 26/354 [07:00<00:11, 27.78it/s, now=No"
     ]
    },
    {
     "name": "stdout",
     "output_type": "stream",
     "text": [
      "MoviePy - Writing audio in C:\\Users\\Welcome\\Dhairya-Python\\sarcasm detection\\audio_context\\2_169_c.wav\n"
     ]
    },
    {
     "name": "stderr",
     "output_type": "stream",
     "text": [
      "\n",
      "chunk:   0%|        | 0/80 [00:00<?, ?it/s, now=None]\u001b[A\n",
      "chunk:  46%|▍| 37/80 [00:00<00:00, 369.98it/s, now=No\u001b[A\n",
      "chunk:   7%| | 26/354 [07:00<00:11, 27.78it/s, now=No\u001b[A"
     ]
    },
    {
     "name": "stdout",
     "output_type": "stream",
     "text": [
      "MoviePy - Done.\n"
     ]
    },
    {
     "name": "stderr",
     "output_type": "stream",
     "text": [
      "chunk:   7%| | 26/354 [07:01<00:11, 27.78it/s, now=No"
     ]
    },
    {
     "name": "stdout",
     "output_type": "stream",
     "text": [
      "MoviePy - Writing audio in C:\\Users\\Welcome\\Dhairya-Python\\sarcasm detection\\audio_context\\2_170_c.wav\n"
     ]
    },
    {
     "name": "stderr",
     "output_type": "stream",
     "text": [
      "\n",
      "chunk:   0%|       | 0/114 [00:00<?, ?it/s, now=None]\u001b[A\n",
      "chunk:  30%|▎| 34/114 [00:00<00:00, 339.98it/s, now=N\u001b[A\n",
      "chunk:   7%| | 26/354 [07:01<00:11, 27.78it/s, now=No\u001b[A"
     ]
    },
    {
     "name": "stdout",
     "output_type": "stream",
     "text": [
      "MoviePy - Done.\n"
     ]
    },
    {
     "name": "stderr",
     "output_type": "stream",
     "text": [
      "chunk:   7%| | 26/354 [07:02<00:11, 27.78it/s, now=No"
     ]
    },
    {
     "name": "stdout",
     "output_type": "stream",
     "text": [
      "MoviePy - Writing audio in C:\\Users\\Welcome\\Dhairya-Python\\sarcasm detection\\audio_context\\2_171_c.wav\n"
     ]
    },
    {
     "name": "stderr",
     "output_type": "stream",
     "text": [
      "\n",
      "chunk:   0%|       | 0/252 [00:00<?, ?it/s, now=None]\u001b[A\n",
      "chunk:  11%| | 28/252 [00:00<00:00, 276.67it/s, now=N\u001b[A\n",
      "chunk:  54%|▌| 135/252 [00:00<00:00, 684.15it/s, now=\u001b[A\n",
      "chunk:  81%|▊| 204/252 [00:00<00:00, 620.22it/s, now=\u001b[A\n",
      "chunk:   7%| | 26/354 [07:03<00:11, 27.78it/s, now=No\u001b[A"
     ]
    },
    {
     "name": "stdout",
     "output_type": "stream",
     "text": [
      "MoviePy - Done.\n"
     ]
    },
    {
     "name": "stderr",
     "output_type": "stream",
     "text": [
      "chunk:   7%| | 26/354 [07:03<00:11, 27.78it/s, now=No"
     ]
    },
    {
     "name": "stdout",
     "output_type": "stream",
     "text": [
      "MoviePy - Writing audio in C:\\Users\\Welcome\\Dhairya-Python\\sarcasm detection\\audio_context\\2_172_c.wav\n"
     ]
    },
    {
     "name": "stderr",
     "output_type": "stream",
     "text": [
      "\n",
      "chunk:   0%|       | 0/117 [00:00<?, ?it/s, now=None]\u001b[A\n",
      "chunk:   5%| | 6/117 [00:00<00:01, 58.71it/s, now=Non\u001b[A\n",
      "chunk:   7%| | 26/354 [07:03<00:11, 27.78it/s, now=No\u001b[A"
     ]
    },
    {
     "name": "stdout",
     "output_type": "stream",
     "text": [
      "MoviePy - Done.\n"
     ]
    },
    {
     "name": "stderr",
     "output_type": "stream",
     "text": [
      "chunk:   7%| | 26/354 [07:04<00:11, 27.78it/s, now=No"
     ]
    },
    {
     "name": "stdout",
     "output_type": "stream",
     "text": [
      "MoviePy - Writing audio in C:\\Users\\Welcome\\Dhairya-Python\\sarcasm detection\\audio_context\\2_173_c.wav\n"
     ]
    },
    {
     "name": "stderr",
     "output_type": "stream",
     "text": [
      "\n",
      "chunk:   0%|        | 0/89 [00:00<?, ?it/s, now=None]\u001b[A\n",
      "chunk:   3%| | 3/89 [00:00<00:03, 25.73it/s, now=None\u001b[A\n",
      "chunk:   7%| | 26/354 [07:04<00:11, 27.78it/s, now=No\u001b[A"
     ]
    },
    {
     "name": "stdout",
     "output_type": "stream",
     "text": [
      "MoviePy - Done.\n"
     ]
    },
    {
     "name": "stderr",
     "output_type": "stream",
     "text": [
      "chunk:   7%| | 26/354 [07:05<00:11, 27.78it/s, now=No"
     ]
    },
    {
     "name": "stdout",
     "output_type": "stream",
     "text": [
      "MoviePy - Writing audio in C:\\Users\\Welcome\\Dhairya-Python\\sarcasm detection\\audio_context\\2_174_c.wav\n"
     ]
    },
    {
     "name": "stderr",
     "output_type": "stream",
     "text": [
      "\n",
      "chunk:   0%|       | 0/112 [00:00<?, ?it/s, now=None]\u001b[A\n",
      "chunk:  54%|▌| 61/112 [00:00<00:00, 565.84it/s, now=N\u001b[A\n",
      "chunk:   7%| | 26/354 [07:05<00:11, 27.78it/s, now=No\u001b[A"
     ]
    },
    {
     "name": "stdout",
     "output_type": "stream",
     "text": [
      "MoviePy - Done.\n"
     ]
    },
    {
     "name": "stderr",
     "output_type": "stream",
     "text": [
      "chunk:   7%| | 26/354 [07:06<00:11, 27.78it/s, now=No"
     ]
    },
    {
     "name": "stdout",
     "output_type": "stream",
     "text": [
      "MoviePy - Writing audio in C:\\Users\\Welcome\\Dhairya-Python\\sarcasm detection\\audio_context\\2_176_c.wav\n"
     ]
    },
    {
     "name": "stderr",
     "output_type": "stream",
     "text": [
      "\n",
      "chunk:   0%|       | 0/195 [00:00<?, ?it/s, now=None]\u001b[A\n",
      "chunk:   2%| | 3/195 [00:00<00:08, 23.81it/s, now=Non\u001b[A\n",
      "chunk:  52%|▌| 102/195 [00:00<00:00, 517.90it/s, now=\u001b[A\n",
      "chunk:   7%| | 26/354 [07:06<00:11, 27.78it/s, now=No\u001b[A"
     ]
    },
    {
     "name": "stdout",
     "output_type": "stream",
     "text": [
      "MoviePy - Done.\n"
     ]
    },
    {
     "name": "stderr",
     "output_type": "stream",
     "text": [
      "chunk:   7%| | 26/354 [07:07<00:11, 27.78it/s, now=No"
     ]
    },
    {
     "name": "stdout",
     "output_type": "stream",
     "text": [
      "MoviePy - Writing audio in C:\\Users\\Welcome\\Dhairya-Python\\sarcasm detection\\audio_context\\2_177_c.wav\n"
     ]
    },
    {
     "name": "stderr",
     "output_type": "stream",
     "text": [
      "\n",
      "chunk:   0%|       | 0/118 [00:00<?, ?it/s, now=None]\u001b[A\n",
      "chunk:   3%| | 3/118 [00:00<00:03, 29.70it/s, now=Non\u001b[A\n",
      "chunk:   7%| | 26/354 [07:07<00:11, 27.78it/s, now=No\u001b[A"
     ]
    },
    {
     "name": "stdout",
     "output_type": "stream",
     "text": [
      "MoviePy - Done.\n"
     ]
    },
    {
     "name": "stderr",
     "output_type": "stream",
     "text": [
      "chunk:   7%| | 26/354 [07:08<00:11, 27.78it/s, now=No"
     ]
    },
    {
     "name": "stdout",
     "output_type": "stream",
     "text": [
      "MoviePy - Writing audio in C:\\Users\\Welcome\\Dhairya-Python\\sarcasm detection\\audio_context\\2_178_c.wav\n"
     ]
    },
    {
     "name": "stderr",
     "output_type": "stream",
     "text": [
      "\n",
      "chunk:   0%|        | 0/61 [00:00<?, ?it/s, now=None]\u001b[A\n",
      "chunk:  11%| | 7/61 [00:00<00:00, 70.00it/s, now=None\u001b[A\n",
      "chunk:   7%| | 26/354 [07:08<00:11, 27.78it/s, now=No\u001b[A"
     ]
    },
    {
     "name": "stdout",
     "output_type": "stream",
     "text": [
      "MoviePy - Done.\n"
     ]
    },
    {
     "name": "stderr",
     "output_type": "stream",
     "text": [
      "chunk:   7%| | 26/354 [07:09<00:11, 27.78it/s, now=No"
     ]
    },
    {
     "name": "stdout",
     "output_type": "stream",
     "text": [
      "MoviePy - Writing audio in C:\\Users\\Welcome\\Dhairya-Python\\sarcasm detection\\audio_context\\2_180_c.wav\n"
     ]
    },
    {
     "name": "stderr",
     "output_type": "stream",
     "text": [
      "\n",
      "chunk:   0%|       | 0/116 [00:00<?, ?it/s, now=None]\u001b[A\n",
      "chunk:  25%|▎| 29/116 [00:00<00:00, 287.11it/s, now=N\u001b[A\n",
      "chunk:   7%| | 26/354 [07:09<00:11, 27.78it/s, now=No\u001b[A"
     ]
    },
    {
     "name": "stdout",
     "output_type": "stream",
     "text": [
      "MoviePy - Done.\n"
     ]
    },
    {
     "name": "stderr",
     "output_type": "stream",
     "text": [
      "chunk:   7%| | 26/354 [07:10<00:11, 27.78it/s, now=No"
     ]
    },
    {
     "name": "stdout",
     "output_type": "stream",
     "text": [
      "MoviePy - Writing audio in C:\\Users\\Welcome\\Dhairya-Python\\sarcasm detection\\audio_context\\2_181_c.wav\n"
     ]
    },
    {
     "name": "stderr",
     "output_type": "stream",
     "text": [
      "\n",
      "chunk:   0%|       | 0/161 [00:00<?, ?it/s, now=None]\u001b[A\n",
      "chunk:   4%| | 6/161 [00:00<00:02, 60.00it/s, now=Non\u001b[A\n",
      "chunk:  71%|▋| 115/161 [00:00<00:00, 665.84it/s, now=\u001b[A\n",
      "chunk:   7%| | 26/354 [07:10<00:11, 27.78it/s, now=No\u001b[A"
     ]
    },
    {
     "name": "stdout",
     "output_type": "stream",
     "text": [
      "MoviePy - Done.\n"
     ]
    },
    {
     "name": "stderr",
     "output_type": "stream",
     "text": [
      "chunk:   7%| | 26/354 [07:10<00:11, 27.78it/s, now=No"
     ]
    },
    {
     "name": "stdout",
     "output_type": "stream",
     "text": [
      "MoviePy - Writing audio in C:\\Users\\Welcome\\Dhairya-Python\\sarcasm detection\\audio_context\\2_182_c.wav\n"
     ]
    },
    {
     "name": "stderr",
     "output_type": "stream",
     "text": [
      "\n",
      "chunk:   0%|        | 0/99 [00:00<?, ?it/s, now=None]\u001b[A\n",
      "chunk:  21%|▏| 21/99 [00:00<00:00, 209.99it/s, now=No\u001b[A\n",
      "chunk:   7%| | 26/354 [07:11<00:11, 27.78it/s, now=No\u001b[A"
     ]
    },
    {
     "name": "stdout",
     "output_type": "stream",
     "text": [
      "MoviePy - Done.\n"
     ]
    },
    {
     "name": "stderr",
     "output_type": "stream",
     "text": [
      "chunk:   7%| | 26/354 [07:11<00:11, 27.78it/s, now=No"
     ]
    },
    {
     "name": "stdout",
     "output_type": "stream",
     "text": [
      "MoviePy - Writing audio in C:\\Users\\Welcome\\Dhairya-Python\\sarcasm detection\\audio_context\\2_183_c.wav\n"
     ]
    },
    {
     "name": "stderr",
     "output_type": "stream",
     "text": [
      "\n",
      "chunk:   0%|       | 0/134 [00:00<?, ?it/s, now=None]\u001b[A\n",
      "chunk:   2%| | 3/134 [00:00<00:05, 24.79it/s, now=Non\u001b[A\n",
      "chunk:   7%| | 26/354 [07:11<00:11, 27.78it/s, now=No\u001b[A"
     ]
    },
    {
     "name": "stdout",
     "output_type": "stream",
     "text": [
      "MoviePy - Done.\n"
     ]
    },
    {
     "name": "stderr",
     "output_type": "stream",
     "text": [
      "chunk:   7%| | 26/354 [07:12<00:11, 27.78it/s, now=No"
     ]
    },
    {
     "name": "stdout",
     "output_type": "stream",
     "text": [
      "MoviePy - Writing audio in C:\\Users\\Welcome\\Dhairya-Python\\sarcasm detection\\audio_context\\2_186_c.wav\n"
     ]
    },
    {
     "name": "stderr",
     "output_type": "stream",
     "text": [
      "\n",
      "chunk:   0%|       | 0/179 [00:00<?, ?it/s, now=None]\u001b[A\n",
      "chunk:   9%| | 16/179 [00:00<00:01, 159.99it/s, now=N\u001b[A\n",
      "chunk:  57%|▌| 102/179 [00:00<00:00, 476.44it/s, now=\u001b[A\n",
      "chunk:   7%| | 26/354 [07:12<00:11, 27.78it/s, now=No\u001b[A"
     ]
    },
    {
     "name": "stdout",
     "output_type": "stream",
     "text": [
      "MoviePy - Done.\n"
     ]
    },
    {
     "name": "stderr",
     "output_type": "stream",
     "text": [
      "chunk:   7%| | 26/354 [07:13<00:11, 27.78it/s, now=No"
     ]
    },
    {
     "name": "stdout",
     "output_type": "stream",
     "text": [
      "MoviePy - Writing audio in C:\\Users\\Welcome\\Dhairya-Python\\sarcasm detection\\audio_context\\2_187_c.wav\n"
     ]
    },
    {
     "name": "stderr",
     "output_type": "stream",
     "text": [
      "\n",
      "chunk:   0%|       | 0/233 [00:00<?, ?it/s, now=None]\u001b[A\n",
      "chunk:   1%| | 3/233 [00:00<00:08, 25.64it/s, now=Non\u001b[A\n",
      "chunk:  44%|▍| 102/233 [00:00<00:00, 510.84it/s, now=\u001b[A\n",
      "chunk:  67%|▋| 156/233 [00:00<00:00, 508.14it/s, now=\u001b[A\n",
      "chunk:   7%| | 26/354 [07:14<00:11, 27.78it/s, now=No\u001b[A"
     ]
    },
    {
     "name": "stdout",
     "output_type": "stream",
     "text": [
      "MoviePy - Done.\n"
     ]
    },
    {
     "name": "stderr",
     "output_type": "stream",
     "text": [
      "chunk:   7%| | 26/354 [07:14<00:11, 27.78it/s, now=No"
     ]
    },
    {
     "name": "stdout",
     "output_type": "stream",
     "text": [
      "MoviePy - Writing audio in C:\\Users\\Welcome\\Dhairya-Python\\sarcasm detection\\audio_context\\2_188_c.wav\n"
     ]
    },
    {
     "name": "stderr",
     "output_type": "stream",
     "text": [
      "\n",
      "chunk:   0%|       | 0/296 [00:00<?, ?it/s, now=None]\u001b[A\n",
      "chunk:   8%| | 24/296 [00:00<00:01, 226.84it/s, now=N\u001b[A\n",
      "chunk:  37%|▎| 110/296 [00:00<00:00, 589.90it/s, now=\u001b[A\n",
      "chunk:  69%|▋| 204/296 [00:00<00:00, 649.83it/s, now=\u001b[A\n",
      "chunk:   7%| | 26/354 [07:15<00:11, 27.78it/s, now=No\u001b[A"
     ]
    },
    {
     "name": "stdout",
     "output_type": "stream",
     "text": [
      "MoviePy - Done.\n"
     ]
    },
    {
     "name": "stderr",
     "output_type": "stream",
     "text": [
      "chunk:   7%| | 26/354 [07:16<00:11, 27.78it/s, now=No"
     ]
    },
    {
     "name": "stdout",
     "output_type": "stream",
     "text": [
      "MoviePy - Writing audio in C:\\Users\\Welcome\\Dhairya-Python\\sarcasm detection\\audio_context\\2_189_c.wav\n"
     ]
    },
    {
     "name": "stderr",
     "output_type": "stream",
     "text": [
      "\n",
      "chunk:   0%|       | 0/150 [00:00<?, ?it/s, now=None]\u001b[A\n",
      "chunk:   2%| | 3/150 [00:00<00:05, 27.47it/s, now=Non\u001b[A\n",
      "chunk: 100%|█| 150/150 [00:00<00:00, 807.48it/s, now=\u001b[A\n",
      "chunk:   7%| | 26/354 [07:16<00:11, 27.78it/s, now=No\u001b[A"
     ]
    },
    {
     "name": "stdout",
     "output_type": "stream",
     "text": [
      "MoviePy - Done.\n"
     ]
    },
    {
     "name": "stderr",
     "output_type": "stream",
     "text": [
      "chunk:   7%| | 26/354 [07:17<00:11, 27.78it/s, now=No"
     ]
    },
    {
     "name": "stdout",
     "output_type": "stream",
     "text": [
      "MoviePy - Writing audio in C:\\Users\\Welcome\\Dhairya-Python\\sarcasm detection\\audio_context\\2_190_c.wav\n"
     ]
    },
    {
     "name": "stderr",
     "output_type": "stream",
     "text": [
      "\n",
      "chunk:   0%|       | 0/116 [00:00<?, ?it/s, now=None]\u001b[A\n",
      "chunk:   3%| | 3/116 [00:00<00:04, 23.11it/s, now=Non\u001b[A\n",
      "chunk:   7%| | 26/354 [07:17<00:11, 27.78it/s, now=No\u001b[A"
     ]
    },
    {
     "name": "stdout",
     "output_type": "stream",
     "text": [
      "MoviePy - Done.\n"
     ]
    },
    {
     "name": "stderr",
     "output_type": "stream",
     "text": [
      "chunk:   7%| | 26/354 [07:17<00:11, 27.78it/s, now=No"
     ]
    },
    {
     "name": "stdout",
     "output_type": "stream",
     "text": [
      "MoviePy - Writing audio in C:\\Users\\Welcome\\Dhairya-Python\\sarcasm detection\\audio_context\\2_191_c.wav\n"
     ]
    },
    {
     "name": "stderr",
     "output_type": "stream",
     "text": [
      "\n",
      "chunk:   0%|       | 0/191 [00:00<?, ?it/s, now=None]\u001b[A\n",
      "chunk:  12%| | 23/191 [00:00<00:00, 227.26it/s, now=N\u001b[A\n",
      "chunk:  62%|▌| 118/191 [00:00<00:00, 649.53it/s, now=\u001b[A\n",
      "chunk:   7%| | 26/354 [07:18<00:11, 27.78it/s, now=No\u001b[A"
     ]
    },
    {
     "name": "stdout",
     "output_type": "stream",
     "text": [
      "MoviePy - Done.\n"
     ]
    },
    {
     "name": "stderr",
     "output_type": "stream",
     "text": [
      "chunk:   7%| | 26/354 [07:18<00:11, 27.78it/s, now=No"
     ]
    },
    {
     "name": "stdout",
     "output_type": "stream",
     "text": [
      "MoviePy - Writing audio in C:\\Users\\Welcome\\Dhairya-Python\\sarcasm detection\\audio_context\\2_193_c.wav\n"
     ]
    },
    {
     "name": "stderr",
     "output_type": "stream",
     "text": [
      "\n",
      "chunk:   0%|       | 0/202 [00:00<?, ?it/s, now=None]\u001b[A\n",
      "chunk:   1%| | 3/202 [00:00<00:06, 29.53it/s, now=Non\u001b[A\n",
      "chunk:  59%|▌| 119/202 [00:00<00:00, 689.32it/s, now=\u001b[A\n",
      "chunk:   7%| | 26/354 [07:19<00:11, 27.78it/s, now=No\u001b[A"
     ]
    },
    {
     "name": "stdout",
     "output_type": "stream",
     "text": [
      "MoviePy - Done.\n"
     ]
    },
    {
     "name": "stderr",
     "output_type": "stream",
     "text": [
      "chunk:   7%| | 26/354 [07:19<00:11, 27.78it/s, now=No"
     ]
    },
    {
     "name": "stdout",
     "output_type": "stream",
     "text": [
      "MoviePy - Writing audio in C:\\Users\\Welcome\\Dhairya-Python\\sarcasm detection\\audio_context\\2_194_c.wav\n"
     ]
    },
    {
     "name": "stderr",
     "output_type": "stream",
     "text": [
      "\n",
      "chunk:   0%|       | 0/117 [00:00<?, ?it/s, now=None]\u001b[A\n",
      "chunk:   3%| | 3/117 [00:00<00:03, 29.82it/s, now=Non\u001b[A\n",
      "chunk:   7%| | 26/354 [07:19<00:11, 27.78it/s, now=No\u001b[A"
     ]
    },
    {
     "name": "stdout",
     "output_type": "stream",
     "text": [
      "MoviePy - Done.\n"
     ]
    },
    {
     "name": "stderr",
     "output_type": "stream",
     "text": [
      "chunk:   7%| | 26/354 [07:20<00:11, 27.78it/s, now=No"
     ]
    },
    {
     "name": "stdout",
     "output_type": "stream",
     "text": [
      "MoviePy - Writing audio in C:\\Users\\Welcome\\Dhairya-Python\\sarcasm detection\\audio_context\\2_196_c.wav\n"
     ]
    },
    {
     "name": "stderr",
     "output_type": "stream",
     "text": [
      "\n",
      "chunk:   0%|       | 0/230 [00:00<?, ?it/s, now=None]\u001b[A\n",
      "chunk:   1%| | 3/230 [00:00<00:07, 29.70it/s, now=Non\u001b[A\n",
      "chunk:  44%|▍| 102/230 [00:00<00:00, 565.72it/s, now=\u001b[A\n",
      "chunk:  75%|▋| 172/230 [00:00<00:00, 625.36it/s, now=\u001b[A\n",
      "chunk:   7%| | 26/354 [07:21<00:11, 27.78it/s, now=No\u001b[A"
     ]
    },
    {
     "name": "stdout",
     "output_type": "stream",
     "text": [
      "MoviePy - Done.\n"
     ]
    },
    {
     "name": "stderr",
     "output_type": "stream",
     "text": [
      "chunk:   7%| | 26/354 [07:21<00:11, 27.78it/s, now=No"
     ]
    },
    {
     "name": "stdout",
     "output_type": "stream",
     "text": [
      "MoviePy - Writing audio in C:\\Users\\Welcome\\Dhairya-Python\\sarcasm detection\\audio_context\\2_197_c.wav\n"
     ]
    },
    {
     "name": "stderr",
     "output_type": "stream",
     "text": [
      "\n",
      "chunk:   0%|       | 0/144 [00:00<?, ?it/s, now=None]\u001b[A\n",
      "chunk:   3%| | 5/144 [00:00<00:02, 50.00it/s, now=Non\u001b[A\n",
      "chunk:  71%|▋| 102/144 [00:00<00:00, 531.72it/s, now=\u001b[A\n",
      "chunk:   7%| | 26/354 [07:22<00:11, 27.78it/s, now=No\u001b[A"
     ]
    },
    {
     "name": "stdout",
     "output_type": "stream",
     "text": [
      "MoviePy - Done.\n"
     ]
    },
    {
     "name": "stderr",
     "output_type": "stream",
     "text": [
      "chunk:   7%| | 26/354 [07:22<00:11, 27.78it/s, now=No"
     ]
    },
    {
     "name": "stdout",
     "output_type": "stream",
     "text": [
      "MoviePy - Writing audio in C:\\Users\\Welcome\\Dhairya-Python\\sarcasm detection\\audio_context\\2_198_c.wav\n"
     ]
    },
    {
     "name": "stderr",
     "output_type": "stream",
     "text": [
      "\n",
      "chunk:   0%|       | 0/211 [00:00<?, ?it/s, now=None]\u001b[A\n",
      "chunk:  16%|▏| 33/211 [00:00<00:00, 329.98it/s, now=N\u001b[A\n",
      "chunk:  48%|▍| 102/211 [00:00<00:00, 372.85it/s, now=\u001b[A\n",
      "chunk:  98%|▉| 207/211 [00:00<00:00, 620.96it/s, now=\u001b[A\n",
      "chunk:   7%| | 26/354 [07:23<00:11, 27.78it/s, now=No\u001b[A"
     ]
    },
    {
     "name": "stdout",
     "output_type": "stream",
     "text": [
      "MoviePy - Done.\n"
     ]
    },
    {
     "name": "stderr",
     "output_type": "stream",
     "text": [
      "chunk:   7%| | 26/354 [07:23<00:11, 27.78it/s, now=No"
     ]
    },
    {
     "name": "stdout",
     "output_type": "stream",
     "text": [
      "MoviePy - Writing audio in C:\\Users\\Welcome\\Dhairya-Python\\sarcasm detection\\audio_context\\2_1_c.wav\n"
     ]
    },
    {
     "name": "stderr",
     "output_type": "stream",
     "text": [
      "\n",
      "chunk:   0%|       | 0/198 [00:00<?, ?it/s, now=None]\u001b[A\n",
      "chunk:   2%| | 3/198 [00:00<00:07, 26.78it/s, now=Non\u001b[A\n",
      "chunk:  77%|▊| 153/198 [00:00<00:00, 820.34it/s, now=\u001b[A\n",
      "chunk:   7%| | 26/354 [07:24<00:11, 27.78it/s, now=No\u001b[A"
     ]
    },
    {
     "name": "stdout",
     "output_type": "stream",
     "text": [
      "MoviePy - Done.\n"
     ]
    },
    {
     "name": "stderr",
     "output_type": "stream",
     "text": [
      "chunk:   7%| | 26/354 [07:24<00:11, 27.78it/s, now=No"
     ]
    },
    {
     "name": "stdout",
     "output_type": "stream",
     "text": [
      "MoviePy - Writing audio in C:\\Users\\Welcome\\Dhairya-Python\\sarcasm detection\\audio_context\\2_202_c.wav\n"
     ]
    },
    {
     "name": "stderr",
     "output_type": "stream",
     "text": [
      "\n",
      "chunk:   0%|       | 0/210 [00:00<?, ?it/s, now=None]\u001b[A\n",
      "chunk:   1%| | 3/210 [00:00<00:12, 16.67it/s, now=Non\u001b[A\n",
      "chunk:  49%|▍| 102/210 [00:00<00:00, 402.77it/s, now=\u001b[A\n",
      "chunk:  81%|▊| 171/210 [00:00<00:00, 506.94it/s, now=\u001b[A\n",
      "chunk:   7%| | 26/354 [07:25<00:11, 27.78it/s, now=No\u001b[A"
     ]
    },
    {
     "name": "stdout",
     "output_type": "stream",
     "text": [
      "MoviePy - Done.\n"
     ]
    },
    {
     "name": "stderr",
     "output_type": "stream",
     "text": [
      "chunk:   7%| | 26/354 [07:26<00:11, 27.78it/s, now=No"
     ]
    },
    {
     "name": "stdout",
     "output_type": "stream",
     "text": [
      "MoviePy - Writing audio in C:\\Users\\Welcome\\Dhairya-Python\\sarcasm detection\\audio_context\\2_203_c.wav\n"
     ]
    },
    {
     "name": "stderr",
     "output_type": "stream",
     "text": [
      "\n",
      "chunk:   0%|       | 0/125 [00:00<?, ?it/s, now=None]\u001b[A\n",
      "chunk:   2%| | 3/125 [00:00<00:04, 27.37it/s, now=Non\u001b[A\n",
      "chunk:   7%| | 26/354 [07:26<00:11, 27.78it/s, now=No\u001b[A"
     ]
    },
    {
     "name": "stdout",
     "output_type": "stream",
     "text": [
      "MoviePy - Done.\n"
     ]
    },
    {
     "name": "stderr",
     "output_type": "stream",
     "text": [
      "chunk:   7%| | 26/354 [07:26<00:11, 27.78it/s, now=No"
     ]
    },
    {
     "name": "stdout",
     "output_type": "stream",
     "text": [
      "MoviePy - Writing audio in C:\\Users\\Welcome\\Dhairya-Python\\sarcasm detection\\audio_context\\2_204_c.wav\n"
     ]
    },
    {
     "name": "stderr",
     "output_type": "stream",
     "text": [
      "\n",
      "chunk:   0%|       | 0/476 [00:00<?, ?it/s, now=None]\u001b[A\n",
      "chunk:   1%| | 3/476 [00:00<00:24, 19.40it/s, now=Non\u001b[A\n",
      "chunk:  26%|▎| 126/476 [00:00<00:00, 600.77it/s, now=\u001b[A\n",
      "chunk:  54%|▌| 255/476 [00:00<00:00, 860.20it/s, now=\u001b[A\n",
      "chunk:  78%|▊| 371/476 [00:00<00:00, 968.71it/s, now=\u001b[A\n",
      "chunk: 100%|█| 476/476 [00:00<00:00, 966.74it/s, now=\u001b[A\n",
      "chunk:   7%| | 26/354 [07:27<00:11, 27.78it/s, now=No\u001b[A"
     ]
    },
    {
     "name": "stdout",
     "output_type": "stream",
     "text": [
      "MoviePy - Done.\n"
     ]
    },
    {
     "name": "stderr",
     "output_type": "stream",
     "text": [
      "chunk:   7%| | 26/354 [07:28<00:11, 27.78it/s, now=No"
     ]
    },
    {
     "name": "stdout",
     "output_type": "stream",
     "text": [
      "MoviePy - Writing audio in C:\\Users\\Welcome\\Dhairya-Python\\sarcasm detection\\audio_context\\2_205_c.wav\n"
     ]
    },
    {
     "name": "stderr",
     "output_type": "stream",
     "text": [
      "\n",
      "chunk:   0%|       | 0/100 [00:00<?, ?it/s, now=None]\u001b[A\n",
      "chunk:   3%| | 3/100 [00:00<00:03, 29.41it/s, now=Non\u001b[A\n",
      "chunk:   7%| | 26/354 [07:28<00:11, 27.78it/s, now=No\u001b[A"
     ]
    },
    {
     "name": "stdout",
     "output_type": "stream",
     "text": [
      "MoviePy - Done.\n"
     ]
    },
    {
     "name": "stderr",
     "output_type": "stream",
     "text": [
      "chunk:   7%| | 26/354 [07:29<00:11, 27.78it/s, now=No"
     ]
    },
    {
     "name": "stdout",
     "output_type": "stream",
     "text": [
      "MoviePy - Writing audio in C:\\Users\\Welcome\\Dhairya-Python\\sarcasm detection\\audio_context\\2_206_c.wav\n"
     ]
    },
    {
     "name": "stderr",
     "output_type": "stream",
     "text": [
      "\n",
      "chunk:   0%|        | 0/65 [00:00<?, ?it/s, now=None]\u001b[A\n",
      "chunk:   5%| | 3/65 [00:00<00:03, 18.63it/s, now=None\u001b[A\n",
      "chunk:   7%| | 26/354 [07:29<00:11, 27.78it/s, now=No\u001b[A"
     ]
    },
    {
     "name": "stdout",
     "output_type": "stream",
     "text": [
      "MoviePy - Done.\n"
     ]
    },
    {
     "name": "stderr",
     "output_type": "stream",
     "text": [
      "chunk:   7%| | 26/354 [07:30<00:11, 27.78it/s, now=No"
     ]
    },
    {
     "name": "stdout",
     "output_type": "stream",
     "text": [
      "MoviePy - Writing audio in C:\\Users\\Welcome\\Dhairya-Python\\sarcasm detection\\audio_context\\2_208_c.wav\n"
     ]
    },
    {
     "name": "stderr",
     "output_type": "stream",
     "text": [
      "\n",
      "chunk:   0%|       | 0/158 [00:00<?, ?it/s, now=None]\u001b[A\n",
      "chunk:  34%|▎| 53/158 [00:00<00:00, 472.35it/s, now=N\u001b[A\n",
      "chunk:  65%|▋| 102/158 [00:00<00:00, 480.08it/s, now=\u001b[A\n",
      "chunk:   7%| | 26/354 [07:30<00:11, 27.78it/s, now=No\u001b[A"
     ]
    },
    {
     "name": "stdout",
     "output_type": "stream",
     "text": [
      "MoviePy - Done.\n"
     ]
    },
    {
     "name": "stderr",
     "output_type": "stream",
     "text": [
      "chunk:   7%| | 26/354 [07:31<00:11, 27.78it/s, now=No"
     ]
    },
    {
     "name": "stdout",
     "output_type": "stream",
     "text": [
      "MoviePy - Writing audio in C:\\Users\\Welcome\\Dhairya-Python\\sarcasm detection\\audio_context\\2_209_c.wav\n"
     ]
    },
    {
     "name": "stderr",
     "output_type": "stream",
     "text": [
      "\n",
      "chunk:   0%|       | 0/110 [00:00<?, ?it/s, now=None]\u001b[A\n",
      "chunk:   3%| | 3/110 [00:00<00:03, 29.41it/s, now=Non\u001b[A\n",
      "chunk:   7%| | 26/354 [07:31<00:11, 27.78it/s, now=No\u001b[A"
     ]
    },
    {
     "name": "stdout",
     "output_type": "stream",
     "text": [
      "MoviePy - Done.\n"
     ]
    },
    {
     "name": "stderr",
     "output_type": "stream",
     "text": [
      "chunk:   7%| | 26/354 [07:31<00:11, 27.78it/s, now=No"
     ]
    },
    {
     "name": "stdout",
     "output_type": "stream",
     "text": [
      "MoviePy - Writing audio in C:\\Users\\Welcome\\Dhairya-Python\\sarcasm detection\\audio_context\\2_20_c.wav\n"
     ]
    },
    {
     "name": "stderr",
     "output_type": "stream",
     "text": [
      "\n",
      "chunk:   0%|       | 0/160 [00:00<?, ?it/s, now=None]\u001b[A\n",
      "chunk:   2%| | 3/160 [00:00<00:07, 20.41it/s, now=Non\u001b[A\n",
      "chunk:  71%|▋| 114/160 [00:00<00:00, 557.39it/s, now=\u001b[A\n",
      "chunk:   7%| | 26/354 [07:32<00:11, 27.78it/s, now=No\u001b[A"
     ]
    },
    {
     "name": "stdout",
     "output_type": "stream",
     "text": [
      "MoviePy - Done.\n"
     ]
    },
    {
     "name": "stderr",
     "output_type": "stream",
     "text": [
      "chunk:   7%| | 26/354 [07:32<00:11, 27.78it/s, now=No"
     ]
    },
    {
     "name": "stdout",
     "output_type": "stream",
     "text": [
      "MoviePy - Writing audio in C:\\Users\\Welcome\\Dhairya-Python\\sarcasm detection\\audio_context\\2_210_c.wav\n"
     ]
    },
    {
     "name": "stderr",
     "output_type": "stream",
     "text": [
      "\n",
      "chunk:   0%|       | 0/169 [00:00<?, ?it/s, now=None]\u001b[A\n",
      "chunk:  17%|▏| 29/169 [00:00<00:00, 284.30it/s, now=N\u001b[A\n",
      "chunk:  82%|▊| 139/169 [00:00<00:00, 760.17it/s, now=\u001b[A\n",
      "chunk:   7%| | 26/354 [07:33<00:11, 27.78it/s, now=No\u001b[A"
     ]
    },
    {
     "name": "stdout",
     "output_type": "stream",
     "text": [
      "MoviePy - Done.\n"
     ]
    },
    {
     "name": "stderr",
     "output_type": "stream",
     "text": [
      "chunk:   7%| | 26/354 [07:33<00:11, 27.78it/s, now=No"
     ]
    },
    {
     "name": "stdout",
     "output_type": "stream",
     "text": [
      "MoviePy - Writing audio in C:\\Users\\Welcome\\Dhairya-Python\\sarcasm detection\\audio_context\\2_213_c.wav\n"
     ]
    },
    {
     "name": "stderr",
     "output_type": "stream",
     "text": [
      "\n",
      "chunk:   0%|       | 0/291 [00:00<?, ?it/s, now=None]\u001b[A\n",
      "chunk:  10%| | 30/291 [00:00<00:00, 299.98it/s, now=N\u001b[A\n",
      "chunk:  51%|▌| 148/291 [00:00<00:00, 817.60it/s, now=\u001b[A\n",
      "chunk:  79%|▊| 231/291 [00:00<00:00, 615.32it/s, now=\u001b[A\n",
      "chunk:   7%| | 26/354 [07:34<00:11, 27.78it/s, now=No\u001b[A"
     ]
    },
    {
     "name": "stdout",
     "output_type": "stream",
     "text": [
      "MoviePy - Done.\n"
     ]
    },
    {
     "name": "stderr",
     "output_type": "stream",
     "text": [
      "chunk:   7%| | 26/354 [07:35<00:11, 27.78it/s, now=No"
     ]
    },
    {
     "name": "stdout",
     "output_type": "stream",
     "text": [
      "MoviePy - Writing audio in C:\\Users\\Welcome\\Dhairya-Python\\sarcasm detection\\audio_context\\2_217_c.wav\n"
     ]
    },
    {
     "name": "stderr",
     "output_type": "stream",
     "text": [
      "\n",
      "chunk:   0%|       | 0/466 [00:00<?, ?it/s, now=None]\u001b[A\n",
      "chunk:   7%| | 32/466 [00:00<00:01, 319.98it/s, now=N\u001b[A\n",
      "chunk:  33%|▎| 153/466 [00:00<00:00, 713.39it/s, now=\u001b[A\n",
      "chunk:  55%|▌| 255/466 [00:00<00:00, 782.25it/s, now=\u001b[A\n",
      "chunk:  77%|▊| 357/466 [00:00<00:00, 837.03it/s, now=\u001b[A\n",
      "chunk:  98%|▉| 455/466 [00:00<00:00, 881.18it/s, now=\u001b[A\n",
      "chunk:   7%| | 26/354 [07:35<00:11, 27.78it/s, now=No\u001b[A"
     ]
    },
    {
     "name": "stdout",
     "output_type": "stream",
     "text": [
      "MoviePy - Done.\n"
     ]
    },
    {
     "name": "stderr",
     "output_type": "stream",
     "text": [
      "chunk:   7%| | 26/354 [07:36<00:11, 27.78it/s, now=No"
     ]
    },
    {
     "name": "stdout",
     "output_type": "stream",
     "text": [
      "MoviePy - Writing audio in C:\\Users\\Welcome\\Dhairya-Python\\sarcasm detection\\audio_context\\2_218_c.wav\n"
     ]
    },
    {
     "name": "stderr",
     "output_type": "stream",
     "text": [
      "\n",
      "chunk:   0%|       | 0/398 [00:00<?, ?it/s, now=None]\u001b[A\n",
      "chunk:   4%| | 17/398 [00:00<00:02, 169.99it/s, now=N\u001b[A\n",
      "chunk:  27%|▎| 107/398 [00:00<00:00, 599.38it/s, now=\u001b[A\n",
      "chunk:  51%|▌| 204/398 [00:00<00:00, 687.02it/s, now=\u001b[A\n",
      "chunk:  75%|▋| 297/398 [00:00<00:00, 756.98it/s, now=\u001b[A\n",
      "chunk:  94%|▉| 374/398 [00:00<00:00, 678.56it/s, now=\u001b[A\n",
      "chunk:   7%| | 26/354 [07:37<00:11, 27.78it/s, now=No\u001b[A"
     ]
    },
    {
     "name": "stdout",
     "output_type": "stream",
     "text": [
      "MoviePy - Done.\n"
     ]
    },
    {
     "name": "stderr",
     "output_type": "stream",
     "text": [
      "chunk:   7%| | 26/354 [07:37<00:11, 27.78it/s, now=No"
     ]
    },
    {
     "name": "stdout",
     "output_type": "stream",
     "text": [
      "MoviePy - Writing audio in C:\\Users\\Welcome\\Dhairya-Python\\sarcasm detection\\audio_context\\2_221_c.wav\n"
     ]
    },
    {
     "name": "stderr",
     "output_type": "stream",
     "text": [
      "\n",
      "chunk:   0%|       | 0/234 [00:00<?, ?it/s, now=None]\u001b[A\n",
      "chunk:   3%| | 8/234 [00:00<00:02, 80.00it/s, now=Non\u001b[A\n",
      "chunk:  66%|▋| 155/234 [00:00<00:00, 897.60it/s, now=\u001b[A\n",
      "chunk:   7%| | 26/354 [07:37<00:11, 27.78it/s, now=No\u001b[A"
     ]
    },
    {
     "name": "stdout",
     "output_type": "stream",
     "text": [
      "MoviePy - Done.\n"
     ]
    },
    {
     "name": "stderr",
     "output_type": "stream",
     "text": [
      "chunk:   7%| | 26/354 [07:38<00:11, 27.78it/s, now=No"
     ]
    },
    {
     "name": "stdout",
     "output_type": "stream",
     "text": [
      "MoviePy - Writing audio in C:\\Users\\Welcome\\Dhairya-Python\\sarcasm detection\\audio_context\\2_222_c.wav\n"
     ]
    },
    {
     "name": "stderr",
     "output_type": "stream",
     "text": [
      "\n",
      "chunk:   0%|        | 0/52 [00:00<?, ?it/s, now=None]\u001b[A\n",
      "chunk:  62%|▌| 32/52 [00:00<00:00, 319.98it/s, now=No\u001b[A\n",
      "chunk:   7%| | 26/354 [07:38<00:11, 27.78it/s, now=No\u001b[A"
     ]
    },
    {
     "name": "stdout",
     "output_type": "stream",
     "text": [
      "MoviePy - Done.\n"
     ]
    },
    {
     "name": "stderr",
     "output_type": "stream",
     "text": [
      "chunk:   7%| | 26/354 [07:38<00:11, 27.78it/s, now=No"
     ]
    },
    {
     "name": "stdout",
     "output_type": "stream",
     "text": [
      "MoviePy - Writing audio in C:\\Users\\Welcome\\Dhairya-Python\\sarcasm detection\\audio_context\\2_223_c.wav\n"
     ]
    },
    {
     "name": "stderr",
     "output_type": "stream",
     "text": [
      "\n",
      "chunk:   0%|       | 0/143 [00:00<?, ?it/s, now=None]\u001b[A\n",
      "chunk:  20%|▏| 28/143 [00:00<00:00, 279.98it/s, now=N\u001b[A\n",
      "chunk:   7%| | 26/354 [07:39<00:11, 27.78it/s, now=No\u001b[A"
     ]
    },
    {
     "name": "stdout",
     "output_type": "stream",
     "text": [
      "MoviePy - Done.\n"
     ]
    },
    {
     "name": "stderr",
     "output_type": "stream",
     "text": [
      "chunk:   7%| | 26/354 [07:39<00:11, 27.78it/s, now=No"
     ]
    },
    {
     "name": "stdout",
     "output_type": "stream",
     "text": [
      "MoviePy - Writing audio in C:\\Users\\Welcome\\Dhairya-Python\\sarcasm detection\\audio_context\\2_225_c.wav\n"
     ]
    },
    {
     "name": "stderr",
     "output_type": "stream",
     "text": [
      "\n",
      "chunk:   0%|       | 0/158 [00:00<?, ?it/s, now=None]\u001b[A\n",
      "chunk:   2%| | 3/158 [00:00<00:06, 25.42it/s, now=Non\u001b[A\n",
      "chunk:  65%|▋| 102/158 [00:00<00:00, 530.40it/s, now=\u001b[A\n",
      "chunk:   7%| | 26/354 [07:40<00:11, 27.78it/s, now=No\u001b[A"
     ]
    },
    {
     "name": "stdout",
     "output_type": "stream",
     "text": [
      "MoviePy - Done.\n"
     ]
    },
    {
     "name": "stderr",
     "output_type": "stream",
     "text": [
      "chunk:   7%| | 26/354 [07:40<00:11, 27.78it/s, now=No"
     ]
    },
    {
     "name": "stdout",
     "output_type": "stream",
     "text": [
      "MoviePy - Writing audio in C:\\Users\\Welcome\\Dhairya-Python\\sarcasm detection\\audio_context\\2_226_c.wav\n"
     ]
    },
    {
     "name": "stderr",
     "output_type": "stream",
     "text": [
      "\n",
      "chunk:   0%|       | 0/115 [00:00<?, ?it/s, now=None]\u001b[A\n",
      "chunk:  25%|▎| 29/115 [00:00<00:00, 287.11it/s, now=N\u001b[A\n",
      "chunk:   7%| | 26/354 [07:40<00:11, 27.78it/s, now=No\u001b[A"
     ]
    },
    {
     "name": "stdout",
     "output_type": "stream",
     "text": [
      "MoviePy - Done.\n"
     ]
    },
    {
     "name": "stderr",
     "output_type": "stream",
     "text": [
      "chunk:   7%| | 26/354 [07:41<00:11, 27.78it/s, now=No"
     ]
    },
    {
     "name": "stdout",
     "output_type": "stream",
     "text": [
      "MoviePy - Writing audio in C:\\Users\\Welcome\\Dhairya-Python\\sarcasm detection\\audio_context\\2_227_c.wav\n"
     ]
    },
    {
     "name": "stderr",
     "output_type": "stream",
     "text": [
      "\n",
      "chunk:   0%|       | 0/213 [00:00<?, ?it/s, now=None]\u001b[A\n",
      "chunk:   1%| | 3/213 [00:00<00:07, 28.04it/s, now=Non\u001b[A\n",
      "chunk:  76%|▊| 162/213 [00:00<00:00, 921.05it/s, now=\u001b[A\n",
      "chunk:   7%| | 26/354 [07:41<00:11, 27.78it/s, now=No\u001b[A"
     ]
    },
    {
     "name": "stdout",
     "output_type": "stream",
     "text": [
      "MoviePy - Done.\n"
     ]
    },
    {
     "name": "stderr",
     "output_type": "stream",
     "text": [
      "chunk:   7%| | 26/354 [07:42<00:11, 27.78it/s, now=No"
     ]
    },
    {
     "name": "stdout",
     "output_type": "stream",
     "text": [
      "MoviePy - Writing audio in C:\\Users\\Welcome\\Dhairya-Python\\sarcasm detection\\audio_context\\2_228_c.wav\n"
     ]
    },
    {
     "name": "stderr",
     "output_type": "stream",
     "text": [
      "\n",
      "chunk:   0%|       | 0/185 [00:00<?, ?it/s, now=None]\u001b[A\n",
      "chunk:   2%| | 3/185 [00:00<00:06, 28.57it/s, now=Non\u001b[A\n",
      "chunk:  57%|▌| 105/185 [00:00<00:00, 599.97it/s, now=\u001b[A\n",
      "chunk:   7%| | 26/354 [07:42<00:11, 27.78it/s, now=No\u001b[A"
     ]
    },
    {
     "name": "stdout",
     "output_type": "stream",
     "text": [
      "MoviePy - Done.\n"
     ]
    },
    {
     "name": "stderr",
     "output_type": "stream",
     "text": [
      "chunk:   7%| | 26/354 [07:43<00:11, 27.78it/s, now=No"
     ]
    },
    {
     "name": "stdout",
     "output_type": "stream",
     "text": [
      "MoviePy - Writing audio in C:\\Users\\Welcome\\Dhairya-Python\\sarcasm detection\\audio_context\\2_230_c.wav\n"
     ]
    },
    {
     "name": "stderr",
     "output_type": "stream",
     "text": [
      "\n",
      "chunk:   0%|       | 0/267 [00:00<?, ?it/s, now=None]\u001b[A\n",
      "chunk:  21%|▏| 57/267 [00:00<00:00, 569.97it/s, now=N\u001b[A\n",
      "chunk:  57%|▌| 153/267 [00:00<00:00, 746.66it/s, now=\u001b[A\n",
      "chunk: 100%|▉| 266/267 [00:00<00:00, 915.21it/s, now=\u001b[A\n",
      "chunk:   7%| | 26/354 [07:43<00:11, 27.78it/s, now=No\u001b[A"
     ]
    },
    {
     "name": "stdout",
     "output_type": "stream",
     "text": [
      "MoviePy - Done.\n"
     ]
    },
    {
     "name": "stderr",
     "output_type": "stream",
     "text": [
      "chunk:   7%| | 26/354 [07:44<00:11, 27.78it/s, now=No"
     ]
    },
    {
     "name": "stdout",
     "output_type": "stream",
     "text": [
      "MoviePy - Writing audio in C:\\Users\\Welcome\\Dhairya-Python\\sarcasm detection\\audio_context\\2_231_c.wav\n"
     ]
    },
    {
     "name": "stderr",
     "output_type": "stream",
     "text": [
      "\n",
      "chunk:   0%|       | 0/260 [00:00<?, ?it/s, now=None]\u001b[A\n",
      "chunk:   1%| | 3/260 [00:00<00:14, 18.29it/s, now=Non\u001b[A\n",
      "chunk:  47%|▍| 122/260 [00:00<00:00, 563.75it/s, now=\u001b[A\n",
      "chunk:  78%|▊| 204/260 [00:00<00:00, 523.81it/s, now=\u001b[A\n",
      "chunk:   7%| | 26/354 [07:45<00:11, 27.78it/s, now=No\u001b[A"
     ]
    },
    {
     "name": "stdout",
     "output_type": "stream",
     "text": [
      "MoviePy - Done.\n"
     ]
    },
    {
     "name": "stderr",
     "output_type": "stream",
     "text": [
      "chunk:   7%| | 26/354 [07:45<00:11, 27.78it/s, now=No"
     ]
    },
    {
     "name": "stdout",
     "output_type": "stream",
     "text": [
      "MoviePy - Writing audio in C:\\Users\\Welcome\\Dhairya-Python\\sarcasm detection\\audio_context\\2_232_c.wav\n"
     ]
    },
    {
     "name": "stderr",
     "output_type": "stream",
     "text": [
      "\n",
      "chunk:   0%|       | 0/276 [00:00<?, ?it/s, now=None]\u001b[A\n",
      "chunk:   4%| | 12/276 [00:00<00:02, 119.99it/s, now=N\u001b[A\n",
      "chunk:  42%|▍| 117/276 [00:00<00:00, 667.02it/s, now=\u001b[A\n",
      "chunk:  74%|▋| 204/276 [00:00<00:00, 704.96it/s, now=\u001b[A\n",
      "chunk:   7%| | 26/354 [07:46<00:11, 27.78it/s, now=No\u001b[A"
     ]
    },
    {
     "name": "stdout",
     "output_type": "stream",
     "text": [
      "MoviePy - Done.\n"
     ]
    },
    {
     "name": "stderr",
     "output_type": "stream",
     "text": [
      "chunk:   7%| | 26/354 [07:46<00:11, 27.78it/s, now=No"
     ]
    },
    {
     "name": "stdout",
     "output_type": "stream",
     "text": [
      "MoviePy - Writing audio in C:\\Users\\Welcome\\Dhairya-Python\\sarcasm detection\\audio_context\\2_234_c.wav\n"
     ]
    },
    {
     "name": "stderr",
     "output_type": "stream",
     "text": [
      "\n",
      "chunk:   0%|       | 0/143 [00:00<?, ?it/s, now=None]\u001b[A\n",
      "chunk:  20%|▏| 29/143 [00:00<00:00, 281.54it/s, now=N\u001b[A\n",
      "chunk: 100%|█| 143/143 [00:00<00:00, 780.32it/s, now=\u001b[A\n",
      "chunk:   7%| | 26/354 [07:46<00:11, 27.78it/s, now=No\u001b[A"
     ]
    },
    {
     "name": "stdout",
     "output_type": "stream",
     "text": [
      "MoviePy - Done.\n"
     ]
    },
    {
     "name": "stderr",
     "output_type": "stream",
     "text": [
      "chunk:   7%| | 26/354 [07:47<00:11, 27.78it/s, now=No"
     ]
    },
    {
     "name": "stdout",
     "output_type": "stream",
     "text": [
      "MoviePy - Writing audio in C:\\Users\\Welcome\\Dhairya-Python\\sarcasm detection\\audio_context\\2_235_c.wav\n"
     ]
    },
    {
     "name": "stderr",
     "output_type": "stream",
     "text": [
      "\n",
      "chunk:   0%|       | 0/437 [00:00<?, ?it/s, now=None]\u001b[A\n",
      "chunk:   1%| | 3/437 [00:00<00:14, 29.41it/s, now=Non\u001b[A\n",
      "chunk:  38%|▍| 165/437 [00:00<00:00, 957.35it/s, now=\u001b[A\n",
      "chunk:  71%|▋| 311/437 [00:00<00:00, 1185.81it/s, now\u001b[A\n",
      "chunk:   7%| | 26/354 [07:47<00:11, 27.78it/s, now=No\u001b[A"
     ]
    },
    {
     "name": "stdout",
     "output_type": "stream",
     "text": [
      "MoviePy - Done.\n"
     ]
    },
    {
     "name": "stderr",
     "output_type": "stream",
     "text": [
      "chunk:   7%| | 26/354 [07:48<00:11, 27.78it/s, now=No"
     ]
    },
    {
     "name": "stdout",
     "output_type": "stream",
     "text": [
      "MoviePy - Writing audio in C:\\Users\\Welcome\\Dhairya-Python\\sarcasm detection\\audio_context\\2_236_c.wav\n"
     ]
    },
    {
     "name": "stderr",
     "output_type": "stream",
     "text": [
      "\n",
      "chunk:   0%|       | 0/199 [00:00<?, ?it/s, now=None]\u001b[A\n",
      "chunk:   2%| | 4/199 [00:00<00:04, 40.00it/s, now=Non\u001b[A\n",
      "chunk:  77%|▊| 153/199 [00:00<00:00, 848.00it/s, now=\u001b[A\n",
      "chunk:   7%| | 26/354 [07:48<00:11, 27.78it/s, now=No\u001b[A"
     ]
    },
    {
     "name": "stdout",
     "output_type": "stream",
     "text": [
      "MoviePy - Done.\n"
     ]
    },
    {
     "name": "stderr",
     "output_type": "stream",
     "text": [
      "chunk:   7%| | 26/354 [07:49<00:11, 27.78it/s, now=No"
     ]
    },
    {
     "name": "stdout",
     "output_type": "stream",
     "text": [
      "MoviePy - Writing audio in C:\\Users\\Welcome\\Dhairya-Python\\sarcasm detection\\audio_context\\2_240_c.wav\n"
     ]
    },
    {
     "name": "stderr",
     "output_type": "stream",
     "text": [
      "\n",
      "chunk:   0%|       | 0/164 [00:00<?, ?it/s, now=None]\u001b[A\n",
      "chunk:  10%| | 16/164 [00:00<00:00, 159.99it/s, now=N\u001b[A\n",
      "chunk:  77%|▊| 127/164 [00:00<00:00, 718.78it/s, now=\u001b[A\n",
      "chunk:   7%| | 26/354 [07:49<00:11, 27.78it/s, now=No\u001b[A"
     ]
    },
    {
     "name": "stdout",
     "output_type": "stream",
     "text": [
      "MoviePy - Done.\n"
     ]
    },
    {
     "name": "stderr",
     "output_type": "stream",
     "text": [
      "chunk:   7%| | 26/354 [07:50<00:11, 27.78it/s, now=No"
     ]
    },
    {
     "name": "stdout",
     "output_type": "stream",
     "text": [
      "MoviePy - Writing audio in C:\\Users\\Welcome\\Dhairya-Python\\sarcasm detection\\audio_context\\2_241_c.wav\n"
     ]
    },
    {
     "name": "stderr",
     "output_type": "stream",
     "text": [
      "\n",
      "chunk:   0%|       | 0/254 [00:00<?, ?it/s, now=None]\u001b[A\n",
      "chunk:  24%|▏| 62/254 [00:00<00:00, 619.97it/s, now=N\u001b[A\n",
      "chunk:  71%|▋| 181/254 [00:00<00:00, 955.24it/s, now=\u001b[A\n",
      "chunk:   7%| | 26/354 [07:50<00:11, 27.78it/s, now=No\u001b[A"
     ]
    },
    {
     "name": "stdout",
     "output_type": "stream",
     "text": [
      "MoviePy - Done.\n"
     ]
    },
    {
     "name": "stderr",
     "output_type": "stream",
     "text": [
      "chunk:   7%| | 26/354 [07:50<00:11, 27.78it/s, now=No"
     ]
    },
    {
     "name": "stdout",
     "output_type": "stream",
     "text": [
      "MoviePy - Writing audio in C:\\Users\\Welcome\\Dhairya-Python\\sarcasm detection\\audio_context\\2_242_c.wav\n"
     ]
    },
    {
     "name": "stderr",
     "output_type": "stream",
     "text": [
      "\n",
      "chunk:   0%|        | 0/82 [00:00<?, ?it/s, now=None]\u001b[A\n",
      "chunk:  35%|▎| 29/82 [00:00<00:00, 284.30it/s, now=No\u001b[A\n",
      "chunk:   7%| | 26/354 [07:51<00:11, 27.78it/s, now=No\u001b[A"
     ]
    },
    {
     "name": "stdout",
     "output_type": "stream",
     "text": [
      "MoviePy - Done.\n"
     ]
    },
    {
     "name": "stderr",
     "output_type": "stream",
     "text": [
      "chunk:   7%| | 26/354 [07:51<00:11, 27.78it/s, now=No"
     ]
    },
    {
     "name": "stdout",
     "output_type": "stream",
     "text": [
      "MoviePy - Writing audio in C:\\Users\\Welcome\\Dhairya-Python\\sarcasm detection\\audio_context\\2_243_c.wav\n"
     ]
    },
    {
     "name": "stderr",
     "output_type": "stream",
     "text": [
      "\n",
      "chunk:   0%|       | 0/199 [00:00<?, ?it/s, now=None]\u001b[A\n",
      "chunk:  25%|▏| 49/199 [00:00<00:00, 489.97it/s, now=N\u001b[A\n",
      "chunk:  77%|▊| 153/199 [00:00<00:00, 716.54it/s, now=\u001b[A\n",
      "chunk:   7%| | 26/354 [07:52<00:11, 27.78it/s, now=No\u001b[A"
     ]
    },
    {
     "name": "stdout",
     "output_type": "stream",
     "text": [
      "MoviePy - Done.\n"
     ]
    },
    {
     "name": "stderr",
     "output_type": "stream",
     "text": [
      "chunk:   7%| | 26/354 [07:52<00:11, 27.78it/s, now=No"
     ]
    },
    {
     "name": "stdout",
     "output_type": "stream",
     "text": [
      "MoviePy - Writing audio in C:\\Users\\Welcome\\Dhairya-Python\\sarcasm detection\\audio_context\\2_245_c.wav\n"
     ]
    },
    {
     "name": "stderr",
     "output_type": "stream",
     "text": [
      "\n",
      "chunk:   0%|       | 0/212 [00:00<?, ?it/s, now=None]\u001b[A\n",
      "chunk:   1%| | 3/212 [00:00<00:07, 26.31it/s, now=Non\u001b[A\n",
      "chunk:  49%|▍| 103/212 [00:00<00:00, 567.82it/s, now=\u001b[A\n",
      "chunk:   7%| | 26/354 [07:53<00:11, 27.78it/s, now=No\u001b[A"
     ]
    },
    {
     "name": "stdout",
     "output_type": "stream",
     "text": [
      "MoviePy - Done.\n"
     ]
    },
    {
     "name": "stderr",
     "output_type": "stream",
     "text": [
      "chunk:   7%| | 26/354 [07:53<00:11, 27.78it/s, now=No"
     ]
    },
    {
     "name": "stdout",
     "output_type": "stream",
     "text": [
      "MoviePy - Writing audio in C:\\Users\\Welcome\\Dhairya-Python\\sarcasm detection\\audio_context\\2_246_c.wav\n"
     ]
    },
    {
     "name": "stderr",
     "output_type": "stream",
     "text": [
      "\n",
      "chunk:   0%|       | 0/582 [00:00<?, ?it/s, now=None]\u001b[A\n",
      "chunk:   1%| | 3/582 [00:00<00:25, 22.39it/s, now=Non\u001b[A\n",
      "chunk:  26%|▎| 153/582 [00:00<00:00, 753.67it/s, now=\u001b[A\n",
      "chunk:  53%|▌| 306/582 [00:00<00:00, 1020.43it/s, now\u001b[A\n",
      "chunk:  79%|▊| 459/582 [00:00<00:00, 1157.89it/s, now\u001b[A\n",
      "chunk:   7%| | 26/354 [07:54<00:11, 27.78it/s, now=No\u001b[A"
     ]
    },
    {
     "name": "stdout",
     "output_type": "stream",
     "text": [
      "MoviePy - Done.\n"
     ]
    },
    {
     "name": "stderr",
     "output_type": "stream",
     "text": [
      "chunk:   7%| | 26/354 [07:54<00:11, 27.78it/s, now=No"
     ]
    },
    {
     "name": "stdout",
     "output_type": "stream",
     "text": [
      "MoviePy - Writing audio in C:\\Users\\Welcome\\Dhairya-Python\\sarcasm detection\\audio_context\\2_247_c.wav\n"
     ]
    },
    {
     "name": "stderr",
     "output_type": "stream",
     "text": [
      "\n",
      "chunk:   0%|       | 0/141 [00:00<?, ?it/s, now=None]\u001b[A\n",
      "chunk:   6%| | 9/141 [00:00<00:01, 89.99it/s, now=Non\u001b[A\n",
      "chunk:   7%| | 26/354 [07:55<00:11, 27.78it/s, now=No\u001b[A"
     ]
    },
    {
     "name": "stdout",
     "output_type": "stream",
     "text": [
      "MoviePy - Done.\n"
     ]
    },
    {
     "name": "stderr",
     "output_type": "stream",
     "text": [
      "chunk:   7%| | 26/354 [07:55<00:11, 27.78it/s, now=No"
     ]
    },
    {
     "name": "stdout",
     "output_type": "stream",
     "text": [
      "MoviePy - Writing audio in C:\\Users\\Welcome\\Dhairya-Python\\sarcasm detection\\audio_context\\2_248_c.wav\n"
     ]
    },
    {
     "name": "stderr",
     "output_type": "stream",
     "text": [
      "\n",
      "chunk:   0%|       | 0/275 [00:00<?, ?it/s, now=None]\u001b[A\n",
      "chunk:   4%| | 10/275 [00:00<00:02, 99.99it/s, now=No\u001b[A\n",
      "chunk:  37%|▎| 102/275 [00:00<00:00, 572.22it/s, now=\u001b[A\n",
      "chunk:  74%|▋| 204/275 [00:00<00:00, 693.20it/s, now=\u001b[A\n",
      "chunk:   7%| | 26/354 [07:56<00:11, 27.78it/s, now=No\u001b[A"
     ]
    },
    {
     "name": "stdout",
     "output_type": "stream",
     "text": [
      "MoviePy - Done.\n"
     ]
    },
    {
     "name": "stderr",
     "output_type": "stream",
     "text": [
      "chunk:   7%| | 26/354 [07:56<00:11, 27.78it/s, now=No"
     ]
    },
    {
     "name": "stdout",
     "output_type": "stream",
     "text": [
      "MoviePy - Writing audio in C:\\Users\\Welcome\\Dhairya-Python\\sarcasm detection\\audio_context\\2_24_c.wav\n"
     ]
    },
    {
     "name": "stderr",
     "output_type": "stream",
     "text": [
      "\n",
      "chunk:   0%|        | 0/81 [00:00<?, ?it/s, now=None]\u001b[A\n",
      "chunk:  36%|▎| 29/81 [00:00<00:00, 289.98it/s, now=No\u001b[A\n",
      "chunk:   7%| | 26/354 [07:56<00:11, 27.78it/s, now=No\u001b[A"
     ]
    },
    {
     "name": "stdout",
     "output_type": "stream",
     "text": [
      "MoviePy - Done.\n"
     ]
    },
    {
     "name": "stderr",
     "output_type": "stream",
     "text": [
      "chunk:   7%| | 26/354 [07:57<00:11, 27.78it/s, now=No"
     ]
    },
    {
     "name": "stdout",
     "output_type": "stream",
     "text": [
      "MoviePy - Writing audio in C:\\Users\\Welcome\\Dhairya-Python\\sarcasm detection\\audio_context\\2_250_c.wav\n"
     ]
    },
    {
     "name": "stderr",
     "output_type": "stream",
     "text": [
      "\n",
      "chunk:   0%|       | 0/200 [00:00<?, ?it/s, now=None]\u001b[A\n",
      "chunk:   2%| | 3/200 [00:00<00:06, 30.00it/s, now=Non\u001b[A\n",
      "chunk:  51%|▌| 102/200 [00:00<00:00, 584.36it/s, now=\u001b[A\n",
      "chunk:   7%| | 26/354 [07:57<00:11, 27.78it/s, now=No\u001b[A"
     ]
    },
    {
     "name": "stdout",
     "output_type": "stream",
     "text": [
      "MoviePy - Done.\n"
     ]
    },
    {
     "name": "stderr",
     "output_type": "stream",
     "text": [
      "chunk:   7%| | 26/354 [07:58<00:11, 27.78it/s, now=No"
     ]
    },
    {
     "name": "stdout",
     "output_type": "stream",
     "text": [
      "MoviePy - Writing audio in C:\\Users\\Welcome\\Dhairya-Python\\sarcasm detection\\audio_context\\2_251_c.wav\n"
     ]
    },
    {
     "name": "stderr",
     "output_type": "stream",
     "text": [
      "\n",
      "chunk:   0%|       | 0/173 [00:00<?, ?it/s, now=None]\u001b[A\n",
      "chunk:  18%|▏| 31/173 [00:00<00:00, 309.98it/s, now=N\u001b[A\n",
      "chunk:  88%|▉| 153/173 [00:00<00:00, 802.75it/s, now=\u001b[A\n",
      "chunk:   7%| | 26/354 [07:58<00:11, 27.78it/s, now=No\u001b[A"
     ]
    },
    {
     "name": "stdout",
     "output_type": "stream",
     "text": [
      "MoviePy - Done.\n"
     ]
    },
    {
     "name": "stderr",
     "output_type": "stream",
     "text": [
      "chunk:   7%| | 26/354 [07:59<00:11, 27.78it/s, now=No"
     ]
    },
    {
     "name": "stdout",
     "output_type": "stream",
     "text": [
      "MoviePy - Writing audio in C:\\Users\\Welcome\\Dhairya-Python\\sarcasm detection\\audio_context\\2_253_c.wav\n"
     ]
    },
    {
     "name": "stderr",
     "output_type": "stream",
     "text": [
      "\n",
      "chunk:   0%|       | 0/194 [00:00<?, ?it/s, now=None]\u001b[A\n",
      "chunk:  15%|▏| 29/194 [00:00<00:00, 287.11it/s, now=N\u001b[A\n",
      "chunk:  79%|▊| 153/194 [00:00<00:00, 684.82it/s, now=\u001b[A\n",
      "chunk:   7%| | 26/354 [07:59<00:11, 27.78it/s, now=No\u001b[A"
     ]
    },
    {
     "name": "stdout",
     "output_type": "stream",
     "text": [
      "MoviePy - Done.\n"
     ]
    },
    {
     "name": "stderr",
     "output_type": "stream",
     "text": [
      "chunk:   7%| | 26/354 [08:00<00:11, 27.78it/s, now=No"
     ]
    },
    {
     "name": "stdout",
     "output_type": "stream",
     "text": [
      "MoviePy - Writing audio in C:\\Users\\Welcome\\Dhairya-Python\\sarcasm detection\\audio_context\\2_254_c.wav\n"
     ]
    },
    {
     "name": "stderr",
     "output_type": "stream",
     "text": [
      "\n",
      "chunk:   0%|       | 0/158 [00:00<?, ?it/s, now=None]\u001b[A\n",
      "chunk:  18%|▏| 29/158 [00:00<00:00, 281.54it/s, now=N\u001b[A\n",
      "chunk:   7%| | 26/354 [08:00<00:11, 27.78it/s, now=No\u001b[A"
     ]
    },
    {
     "name": "stdout",
     "output_type": "stream",
     "text": [
      "MoviePy - Done.\n"
     ]
    },
    {
     "name": "stderr",
     "output_type": "stream",
     "text": [
      "chunk:   7%| | 26/354 [08:01<00:11, 27.78it/s, now=No"
     ]
    },
    {
     "name": "stdout",
     "output_type": "stream",
     "text": [
      "MoviePy - Writing audio in C:\\Users\\Welcome\\Dhairya-Python\\sarcasm detection\\audio_context\\2_255_c.wav\n"
     ]
    },
    {
     "name": "stderr",
     "output_type": "stream",
     "text": [
      "\n",
      "chunk:   0%|        | 0/76 [00:00<?, ?it/s, now=None]\u001b[A\n",
      "chunk:   8%| | 6/76 [00:00<00:01, 60.00it/s, now=None\u001b[A\n",
      "chunk:   7%| | 26/354 [08:01<00:11, 27.78it/s, now=No\u001b[A"
     ]
    },
    {
     "name": "stdout",
     "output_type": "stream",
     "text": [
      "MoviePy - Done.\n"
     ]
    },
    {
     "name": "stderr",
     "output_type": "stream",
     "text": [
      "chunk:   7%| | 26/354 [08:02<00:11, 27.78it/s, now=No"
     ]
    },
    {
     "name": "stdout",
     "output_type": "stream",
     "text": [
      "MoviePy - Writing audio in C:\\Users\\Welcome\\Dhairya-Python\\sarcasm detection\\audio_context\\2_257_c.wav\n"
     ]
    },
    {
     "name": "stderr",
     "output_type": "stream",
     "text": [
      "\n",
      "chunk:   0%|        | 0/92 [00:00<?, ?it/s, now=None]\u001b[A\n",
      "chunk:   9%| | 8/92 [00:00<00:01, 80.00it/s, now=None\u001b[A\n",
      "chunk:   7%| | 26/354 [08:02<00:11, 27.78it/s, now=No\u001b[A"
     ]
    },
    {
     "name": "stdout",
     "output_type": "stream",
     "text": [
      "MoviePy - Done.\n"
     ]
    },
    {
     "name": "stderr",
     "output_type": "stream",
     "text": [
      "chunk:   7%| | 26/354 [08:02<00:11, 27.78it/s, now=No"
     ]
    },
    {
     "name": "stdout",
     "output_type": "stream",
     "text": [
      "MoviePy - Writing audio in C:\\Users\\Welcome\\Dhairya-Python\\sarcasm detection\\audio_context\\2_258_c.wav\n"
     ]
    },
    {
     "name": "stderr",
     "output_type": "stream",
     "text": [
      "\n",
      "chunk:   0%|       | 0/197 [00:00<?, ?it/s, now=None]\u001b[A\n",
      "chunk:  11%| | 21/197 [00:00<00:00, 209.99it/s, now=N\u001b[A\n",
      "chunk:  79%|▊| 155/197 [00:00<00:00, 874.66it/s, now=\u001b[A\n",
      "chunk:   7%| | 26/354 [08:03<00:11, 27.78it/s, now=No\u001b[A"
     ]
    },
    {
     "name": "stdout",
     "output_type": "stream",
     "text": [
      "MoviePy - Done.\n"
     ]
    },
    {
     "name": "stderr",
     "output_type": "stream",
     "text": [
      "chunk:   7%| | 26/354 [08:03<00:11, 27.78it/s, now=No"
     ]
    },
    {
     "name": "stdout",
     "output_type": "stream",
     "text": [
      "MoviePy - Writing audio in C:\\Users\\Welcome\\Dhairya-Python\\sarcasm detection\\audio_context\\2_259_c.wav\n"
     ]
    },
    {
     "name": "stderr",
     "output_type": "stream",
     "text": [
      "\n",
      "chunk:   0%|       | 0/220 [00:00<?, ?it/s, now=None]\u001b[A\n",
      "chunk:  10%| | 22/220 [00:00<00:00, 219.99it/s, now=N\u001b[A\n",
      "chunk:  59%|▌| 129/220 [00:00<00:00, 719.96it/s, now=\u001b[A\n",
      "chunk:   7%| | 26/354 [08:04<00:11, 27.78it/s, now=No\u001b[A"
     ]
    },
    {
     "name": "stdout",
     "output_type": "stream",
     "text": [
      "MoviePy - Done.\n"
     ]
    },
    {
     "name": "stderr",
     "output_type": "stream",
     "text": [
      "chunk:   7%| | 26/354 [08:04<00:11, 27.78it/s, now=No"
     ]
    },
    {
     "name": "stdout",
     "output_type": "stream",
     "text": [
      "MoviePy - Writing audio in C:\\Users\\Welcome\\Dhairya-Python\\sarcasm detection\\audio_context\\2_260_c.wav\n"
     ]
    },
    {
     "name": "stderr",
     "output_type": "stream",
     "text": [
      "\n",
      "chunk:   0%|       | 0/249 [00:00<?, ?it/s, now=None]\u001b[A\n",
      "chunk:   1%| | 3/249 [00:00<00:12, 20.41it/s, now=Non\u001b[A\n",
      "chunk:  42%|▍| 104/249 [00:00<00:00, 508.10it/s, now=\u001b[A\n",
      "chunk:  82%|▊| 204/249 [00:00<00:00, 691.32it/s, now=\u001b[A\n",
      "chunk:   7%| | 26/354 [08:05<00:11, 27.78it/s, now=No\u001b[A"
     ]
    },
    {
     "name": "stdout",
     "output_type": "stream",
     "text": [
      "MoviePy - Done.\n"
     ]
    },
    {
     "name": "stderr",
     "output_type": "stream",
     "text": [
      "chunk:   7%| | 26/354 [08:05<00:11, 27.78it/s, now=No"
     ]
    },
    {
     "name": "stdout",
     "output_type": "stream",
     "text": [
      "MoviePy - Writing audio in C:\\Users\\Welcome\\Dhairya-Python\\sarcasm detection\\audio_context\\2_261_c.wav\n"
     ]
    },
    {
     "name": "stderr",
     "output_type": "stream",
     "text": [
      "\n",
      "chunk:   0%|       | 0/190 [00:00<?, ?it/s, now=None]\u001b[A\n",
      "chunk:   2%| | 3/190 [00:00<00:06, 29.12it/s, now=Non\u001b[A\n",
      "chunk:  54%|▌| 103/190 [00:00<00:00, 593.23it/s, now=\u001b[A\n",
      "chunk:   7%| | 26/354 [08:06<00:11, 27.78it/s, now=No\u001b[A"
     ]
    },
    {
     "name": "stdout",
     "output_type": "stream",
     "text": [
      "MoviePy - Done.\n"
     ]
    },
    {
     "name": "stderr",
     "output_type": "stream",
     "text": [
      "chunk:   7%| | 26/354 [08:06<00:11, 27.78it/s, now=No"
     ]
    },
    {
     "name": "stdout",
     "output_type": "stream",
     "text": [
      "MoviePy - Writing audio in C:\\Users\\Welcome\\Dhairya-Python\\sarcasm detection\\audio_context\\2_263_c.wav\n"
     ]
    },
    {
     "name": "stderr",
     "output_type": "stream",
     "text": [
      "\n",
      "chunk:   0%|       | 0/169 [00:00<?, ?it/s, now=None]\u001b[A\n",
      "chunk:  21%|▏| 36/169 [00:00<00:00, 359.98it/s, now=N\u001b[A\n",
      "chunk:  66%|▋| 112/169 [00:00<00:00, 595.26it/s, now=\u001b[A\n",
      "chunk:   7%| | 26/354 [08:07<00:11, 27.78it/s, now=No\u001b[A"
     ]
    },
    {
     "name": "stdout",
     "output_type": "stream",
     "text": [
      "MoviePy - Done.\n"
     ]
    },
    {
     "name": "stderr",
     "output_type": "stream",
     "text": [
      "chunk:   7%| | 26/354 [08:07<00:11, 27.78it/s, now=No"
     ]
    },
    {
     "name": "stdout",
     "output_type": "stream",
     "text": [
      "MoviePy - Writing audio in C:\\Users\\Welcome\\Dhairya-Python\\sarcasm detection\\audio_context\\2_264_c.wav\n"
     ]
    },
    {
     "name": "stderr",
     "output_type": "stream",
     "text": [
      "\n",
      "chunk:   0%|       | 0/319 [00:00<?, ?it/s, now=None]\u001b[A\n",
      "chunk:   8%| | 26/319 [00:00<00:01, 259.99it/s, now=N\u001b[A\n",
      "chunk:  48%|▍| 153/319 [00:00<00:00, 806.62it/s, now=\u001b[A\n",
      "chunk:  90%|▉| 288/319 [00:00<00:00, 1047.02it/s, now\u001b[A\n",
      "chunk:   7%| | 26/354 [08:08<00:11, 27.78it/s, now=No\u001b[A"
     ]
    },
    {
     "name": "stdout",
     "output_type": "stream",
     "text": [
      "MoviePy - Done.\n"
     ]
    },
    {
     "name": "stderr",
     "output_type": "stream",
     "text": [
      "chunk:   7%| | 26/354 [08:08<00:11, 27.78it/s, now=No"
     ]
    },
    {
     "name": "stdout",
     "output_type": "stream",
     "text": [
      "MoviePy - Writing audio in C:\\Users\\Welcome\\Dhairya-Python\\sarcasm detection\\audio_context\\2_267_c.wav\n"
     ]
    },
    {
     "name": "stderr",
     "output_type": "stream",
     "text": [
      "\n",
      "chunk:   0%|       | 0/182 [00:00<?, ?it/s, now=None]\u001b[A\n",
      "chunk:  11%| | 20/182 [00:00<00:00, 199.99it/s, now=N\u001b[A\n",
      "chunk:  67%|▋| 122/182 [00:00<00:00, 682.31it/s, now=\u001b[A\n",
      "chunk:   7%| | 26/354 [08:08<00:11, 27.78it/s, now=No\u001b[A"
     ]
    },
    {
     "name": "stdout",
     "output_type": "stream",
     "text": [
      "MoviePy - Done.\n"
     ]
    },
    {
     "name": "stderr",
     "output_type": "stream",
     "text": [
      "chunk:   7%| | 26/354 [08:09<00:11, 27.78it/s, now=No"
     ]
    },
    {
     "name": "stdout",
     "output_type": "stream",
     "text": [
      "MoviePy - Writing audio in C:\\Users\\Welcome\\Dhairya-Python\\sarcasm detection\\audio_context\\2_268_c.wav\n"
     ]
    },
    {
     "name": "stderr",
     "output_type": "stream",
     "text": [
      "\n",
      "chunk:   0%|       | 0/339 [00:00<?, ?it/s, now=None]\u001b[A\n",
      "chunk:   9%| | 29/339 [00:00<00:01, 284.30it/s, now=N\u001b[A\n",
      "chunk:  52%|▌| 177/339 [00:00<00:00, 981.86it/s, now=\u001b[A\n",
      "chunk:  91%|▉| 309/339 [00:00<00:00, 1135.54it/s, now\u001b[A\n",
      "chunk:   7%| | 26/354 [08:09<00:11, 27.78it/s, now=No\u001b[A"
     ]
    },
    {
     "name": "stdout",
     "output_type": "stream",
     "text": [
      "MoviePy - Done.\n"
     ]
    },
    {
     "name": "stderr",
     "output_type": "stream",
     "text": [
      "chunk:   7%| | 26/354 [08:10<00:11, 27.78it/s, now=No"
     ]
    },
    {
     "name": "stdout",
     "output_type": "stream",
     "text": [
      "MoviePy - Writing audio in C:\\Users\\Welcome\\Dhairya-Python\\sarcasm detection\\audio_context\\2_270_c.wav\n"
     ]
    },
    {
     "name": "stderr",
     "output_type": "stream",
     "text": [
      "\n",
      "chunk:   0%|       | 0/250 [00:00<?, ?it/s, now=None]\u001b[A\n",
      "chunk:   2%| | 6/250 [00:00<00:04, 60.00it/s, now=Non\u001b[A\n",
      "chunk:  56%|▌| 140/250 [00:00<00:00, 812.89it/s, now=\u001b[A\n",
      "chunk:  90%|▉| 224/250 [00:00<00:00, 737.67it/s, now=\u001b[A\n",
      "chunk:   7%| | 26/354 [08:10<00:11, 27.78it/s, now=No\u001b[A"
     ]
    },
    {
     "name": "stdout",
     "output_type": "stream",
     "text": [
      "MoviePy - Done.\n"
     ]
    },
    {
     "name": "stderr",
     "output_type": "stream",
     "text": [
      "chunk:   7%| | 26/354 [08:11<00:11, 27.78it/s, now=No"
     ]
    },
    {
     "name": "stdout",
     "output_type": "stream",
     "text": [
      "MoviePy - Writing audio in C:\\Users\\Welcome\\Dhairya-Python\\sarcasm detection\\audio_context\\2_271_c.wav\n"
     ]
    },
    {
     "name": "stderr",
     "output_type": "stream",
     "text": [
      "\n",
      "chunk:   0%|        | 0/82 [00:00<?, ?it/s, now=None]\u001b[A\n",
      "chunk:  55%|▌| 45/82 [00:00<00:00, 449.97it/s, now=No\u001b[A\n",
      "chunk:   7%| | 26/354 [08:11<00:11, 27.78it/s, now=No\u001b[A"
     ]
    },
    {
     "name": "stdout",
     "output_type": "stream",
     "text": [
      "MoviePy - Done.\n"
     ]
    },
    {
     "name": "stderr",
     "output_type": "stream",
     "text": [
      "chunk:   7%| | 26/354 [08:11<00:11, 27.78it/s, now=No"
     ]
    },
    {
     "name": "stdout",
     "output_type": "stream",
     "text": [
      "MoviePy - Writing audio in C:\\Users\\Welcome\\Dhairya-Python\\sarcasm detection\\audio_context\\2_272_c.wav\n"
     ]
    },
    {
     "name": "stderr",
     "output_type": "stream",
     "text": [
      "\n",
      "chunk:   0%|        | 0/58 [00:00<?, ?it/s, now=None]\u001b[A\n",
      "chunk:  40%|▍| 23/58 [00:00<00:00, 229.99it/s, now=No\u001b[A\n",
      "chunk:   7%| | 26/354 [08:12<00:11, 27.78it/s, now=No\u001b[A"
     ]
    },
    {
     "name": "stdout",
     "output_type": "stream",
     "text": [
      "MoviePy - Done.\n"
     ]
    },
    {
     "name": "stderr",
     "output_type": "stream",
     "text": [
      "chunk:   7%| | 26/354 [08:13<00:11, 27.78it/s, now=No"
     ]
    },
    {
     "name": "stdout",
     "output_type": "stream",
     "text": [
      "MoviePy - Writing audio in C:\\Users\\Welcome\\Dhairya-Python\\sarcasm detection\\audio_context\\2_278_c.wav\n"
     ]
    },
    {
     "name": "stderr",
     "output_type": "stream",
     "text": [
      "\n",
      "chunk:   0%|       | 0/335 [00:00<?, ?it/s, now=None]\u001b[A\n",
      "chunk:   1%| | 3/335 [00:00<00:12, 27.03it/s, now=Non\u001b[A\n",
      "chunk:  41%|▍| 136/335 [00:00<00:00, 760.23it/s, now=\u001b[A\n",
      "chunk:  67%|▋| 224/335 [00:00<00:00, 813.58it/s, now=\u001b[A\n",
      "chunk:   7%| | 26/354 [08:13<00:11, 27.78it/s, now=No\u001b[A"
     ]
    },
    {
     "name": "stdout",
     "output_type": "stream",
     "text": [
      "MoviePy - Done.\n"
     ]
    },
    {
     "name": "stderr",
     "output_type": "stream",
     "text": [
      "chunk:   7%| | 26/354 [08:14<00:11, 27.78it/s, now=No"
     ]
    },
    {
     "name": "stdout",
     "output_type": "stream",
     "text": [
      "MoviePy - Writing audio in C:\\Users\\Welcome\\Dhairya-Python\\sarcasm detection\\audio_context\\2_279_c.wav\n"
     ]
    },
    {
     "name": "stderr",
     "output_type": "stream",
     "text": [
      "\n",
      "chunk:   0%|       | 0/249 [00:00<?, ?it/s, now=None]\u001b[A\n",
      "chunk:  12%| | 29/249 [00:00<00:00, 287.11it/s, now=N\u001b[A\n",
      "chunk:  70%|▋| 174/249 [00:00<00:00, 968.31it/s, now=\u001b[A\n",
      "chunk:   7%| | 26/354 [08:14<00:11, 27.78it/s, now=No\u001b[A"
     ]
    },
    {
     "name": "stdout",
     "output_type": "stream",
     "text": [
      "MoviePy - Done.\n"
     ]
    },
    {
     "name": "stderr",
     "output_type": "stream",
     "text": [
      "chunk:   7%| | 26/354 [08:14<00:11, 27.78it/s, now=No"
     ]
    },
    {
     "name": "stdout",
     "output_type": "stream",
     "text": [
      "MoviePy - Writing audio in C:\\Users\\Welcome\\Dhairya-Python\\sarcasm detection\\audio_context\\2_27_c.wav\n"
     ]
    },
    {
     "name": "stderr",
     "output_type": "stream",
     "text": [
      "\n",
      "chunk:   0%|       | 0/161 [00:00<?, ?it/s, now=None]\u001b[A\n",
      "chunk:   2%| | 3/161 [00:00<00:05, 28.30it/s, now=Non\u001b[A\n",
      "chunk:  89%|▉| 144/161 [00:00<00:00, 821.42it/s, now=\u001b[A\n",
      "chunk:   7%| | 26/354 [08:15<00:11, 27.78it/s, now=No\u001b[A"
     ]
    },
    {
     "name": "stdout",
     "output_type": "stream",
     "text": [
      "MoviePy - Done.\n"
     ]
    },
    {
     "name": "stderr",
     "output_type": "stream",
     "text": [
      "chunk:   7%| | 26/354 [08:15<00:11, 27.78it/s, now=No"
     ]
    },
    {
     "name": "stdout",
     "output_type": "stream",
     "text": [
      "MoviePy - Writing audio in C:\\Users\\Welcome\\Dhairya-Python\\sarcasm detection\\audio_context\\2_280_c.wav\n"
     ]
    },
    {
     "name": "stderr",
     "output_type": "stream",
     "text": [
      "\n",
      "chunk:   0%|       | 0/393 [00:00<?, ?it/s, now=None]\u001b[A\n",
      "chunk:   1%| | 3/393 [00:00<00:15, 25.00it/s, now=Non\u001b[A\n",
      "chunk:  26%|▎| 104/393 [00:00<00:00, 560.29it/s, now=\u001b[A\n",
      "chunk:  57%|▌| 225/393 [00:00<00:00, 844.23it/s, now=\u001b[A\n",
      "chunk:  81%|▊| 317/393 [00:00<00:00, 873.33it/s, now=\u001b[A\n",
      "chunk:   7%| | 26/354 [08:16<00:11, 27.78it/s, now=No\u001b[A"
     ]
    },
    {
     "name": "stdout",
     "output_type": "stream",
     "text": [
      "MoviePy - Done.\n"
     ]
    },
    {
     "name": "stderr",
     "output_type": "stream",
     "text": [
      "chunk:   7%| | 26/354 [08:17<00:11, 27.78it/s, now=No"
     ]
    },
    {
     "name": "stdout",
     "output_type": "stream",
     "text": [
      "MoviePy - Writing audio in C:\\Users\\Welcome\\Dhairya-Python\\sarcasm detection\\audio_context\\2_281_c.wav\n"
     ]
    },
    {
     "name": "stderr",
     "output_type": "stream",
     "text": [
      "\n",
      "chunk:   0%|       | 0/191 [00:00<?, ?it/s, now=None]\u001b[A\n",
      "chunk:   2%| | 3/191 [00:00<00:07, 23.81it/s, now=Non\u001b[A\n",
      "chunk:  76%|▊| 145/191 [00:00<00:00, 765.63it/s, now=\u001b[A\n",
      "chunk:   7%| | 26/354 [08:17<00:11, 27.78it/s, now=No\u001b[A"
     ]
    },
    {
     "name": "stdout",
     "output_type": "stream",
     "text": [
      "MoviePy - Done.\n"
     ]
    },
    {
     "name": "stderr",
     "output_type": "stream",
     "text": [
      "chunk:   7%| | 26/354 [08:18<00:11, 27.78it/s, now=No"
     ]
    },
    {
     "name": "stdout",
     "output_type": "stream",
     "text": [
      "MoviePy - Writing audio in C:\\Users\\Welcome\\Dhairya-Python\\sarcasm detection\\audio_context\\2_282_c.wav\n"
     ]
    },
    {
     "name": "stderr",
     "output_type": "stream",
     "text": [
      "\n",
      "chunk:   0%|       | 0/240 [00:00<?, ?it/s, now=None]\u001b[A\n",
      "chunk:  11%| | 26/240 [00:00<00:00, 259.99it/s, now=N\u001b[A\n",
      "chunk:  51%|▌| 123/240 [00:00<00:00, 677.61it/s, now=\u001b[A\n",
      "chunk:  85%|▊| 204/240 [00:00<00:00, 631.37it/s, now=\u001b[A\n",
      "chunk:   7%| | 26/354 [08:18<00:11, 27.78it/s, now=No\u001b[A"
     ]
    },
    {
     "name": "stdout",
     "output_type": "stream",
     "text": [
      "MoviePy - Done.\n"
     ]
    },
    {
     "name": "stderr",
     "output_type": "stream",
     "text": [
      "chunk:   7%| | 26/354 [08:19<00:11, 27.78it/s, now=No"
     ]
    },
    {
     "name": "stdout",
     "output_type": "stream",
     "text": [
      "MoviePy - Writing audio in C:\\Users\\Welcome\\Dhairya-Python\\sarcasm detection\\audio_context\\2_283_c.wav\n"
     ]
    },
    {
     "name": "stderr",
     "output_type": "stream",
     "text": [
      "\n",
      "chunk:   0%|        | 0/89 [00:00<?, ?it/s, now=None]\u001b[A\n",
      "chunk:  31%|▎| 28/89 [00:00<00:00, 277.21it/s, now=No\u001b[A\n",
      "chunk:   7%| | 26/354 [08:19<00:11, 27.78it/s, now=No\u001b[A"
     ]
    },
    {
     "name": "stdout",
     "output_type": "stream",
     "text": [
      "MoviePy - Done.\n"
     ]
    },
    {
     "name": "stderr",
     "output_type": "stream",
     "text": [
      "chunk:   7%| | 26/354 [08:20<00:11, 27.78it/s, now=No"
     ]
    },
    {
     "name": "stdout",
     "output_type": "stream",
     "text": [
      "MoviePy - Writing audio in C:\\Users\\Welcome\\Dhairya-Python\\sarcasm detection\\audio_context\\2_284_c.wav\n"
     ]
    },
    {
     "name": "stderr",
     "output_type": "stream",
     "text": [
      "\n",
      "chunk:   0%|       | 0/203 [00:00<?, ?it/s, now=None]\u001b[A\n",
      "chunk:  13%|▏| 27/203 [00:00<00:00, 269.98it/s, now=N\u001b[A\n",
      "chunk:  50%|▌| 102/203 [00:00<00:00, 552.32it/s, now=\u001b[A\n",
      "chunk:  78%|▊| 159/203 [00:00<00:00, 538.26it/s, now=\u001b[A\n",
      "chunk:   7%| | 26/354 [08:20<00:11, 27.78it/s, now=No\u001b[A"
     ]
    },
    {
     "name": "stdout",
     "output_type": "stream",
     "text": [
      "MoviePy - Done.\n"
     ]
    },
    {
     "name": "stderr",
     "output_type": "stream",
     "text": [
      "chunk:   7%| | 26/354 [08:21<00:11, 27.78it/s, now=No"
     ]
    },
    {
     "name": "stdout",
     "output_type": "stream",
     "text": [
      "MoviePy - Writing audio in C:\\Users\\Welcome\\Dhairya-Python\\sarcasm detection\\audio_context\\2_286_c.wav\n"
     ]
    },
    {
     "name": "stderr",
     "output_type": "stream",
     "text": [
      "\n",
      "chunk:   0%|       | 0/386 [00:00<?, ?it/s, now=None]\u001b[A\n",
      "chunk:   8%| | 30/386 [00:00<00:01, 299.98it/s, now=N\u001b[A\n",
      "chunk:  45%|▍| 172/386 [00:00<00:00, 958.77it/s, now=\u001b[A\n",
      "chunk:  79%|▊| 306/386 [00:00<00:00, 1083.34it/s, now\u001b[A\n",
      "chunk:   7%| | 26/354 [08:21<00:11, 27.78it/s, now=No\u001b[A"
     ]
    },
    {
     "name": "stdout",
     "output_type": "stream",
     "text": [
      "MoviePy - Done.\n"
     ]
    },
    {
     "name": "stderr",
     "output_type": "stream",
     "text": [
      "chunk:   7%| | 26/354 [08:22<00:11, 27.78it/s, now=No"
     ]
    },
    {
     "name": "stdout",
     "output_type": "stream",
     "text": [
      "MoviePy - Writing audio in C:\\Users\\Welcome\\Dhairya-Python\\sarcasm detection\\audio_context\\2_287_c.wav\n"
     ]
    },
    {
     "name": "stderr",
     "output_type": "stream",
     "text": [
      "\n",
      "chunk:   0%|        | 0/60 [00:00<?, ?it/s, now=None]\u001b[A\n",
      "chunk:  47%|▍| 28/60 [00:00<00:00, 279.98it/s, now=No\u001b[A\n",
      "chunk:   7%| | 26/354 [08:22<00:11, 27.78it/s, now=No\u001b[A"
     ]
    },
    {
     "name": "stdout",
     "output_type": "stream",
     "text": [
      "MoviePy - Done.\n"
     ]
    },
    {
     "name": "stderr",
     "output_type": "stream",
     "text": [
      "chunk:   7%| | 26/354 [08:22<00:11, 27.78it/s, now=No"
     ]
    },
    {
     "name": "stdout",
     "output_type": "stream",
     "text": [
      "MoviePy - Writing audio in C:\\Users\\Welcome\\Dhairya-Python\\sarcasm detection\\audio_context\\2_288_c.wav\n"
     ]
    },
    {
     "name": "stderr",
     "output_type": "stream",
     "text": [
      "\n",
      "chunk:   0%|       | 0/225 [00:00<?, ?it/s, now=None]\u001b[A\n",
      "chunk:   2%| | 4/225 [00:00<00:05, 40.00it/s, now=Non\u001b[A\n",
      "chunk:  58%|▌| 131/225 [00:00<00:00, 763.49it/s, now=\u001b[A\n",
      "chunk:  98%|▉| 221/225 [00:00<00:00, 825.80it/s, now=\u001b[A\n",
      "chunk:   7%| | 26/354 [08:23<00:11, 27.78it/s, now=No\u001b[A"
     ]
    },
    {
     "name": "stdout",
     "output_type": "stream",
     "text": [
      "MoviePy - Done.\n"
     ]
    },
    {
     "name": "stderr",
     "output_type": "stream",
     "text": [
      "chunk:   7%| | 26/354 [08:23<00:11, 27.78it/s, now=No"
     ]
    },
    {
     "name": "stdout",
     "output_type": "stream",
     "text": [
      "MoviePy - Writing audio in C:\\Users\\Welcome\\Dhairya-Python\\sarcasm detection\\audio_context\\2_289_c.wav\n"
     ]
    },
    {
     "name": "stderr",
     "output_type": "stream",
     "text": [
      "\n",
      "chunk:   0%|       | 0/211 [00:00<?, ?it/s, now=None]\u001b[A\n",
      "chunk:   1%| | 3/211 [00:00<00:07, 28.57it/s, now=Non\u001b[A\n",
      "chunk:  48%|▍| 102/211 [00:00<00:00, 566.35it/s, now=\u001b[A\n",
      "chunk:  76%|▊| 160/211 [00:00<00:00, 493.44it/s, now=\u001b[A\n",
      "chunk:   7%| | 26/354 [08:24<00:11, 27.78it/s, now=No\u001b[A"
     ]
    },
    {
     "name": "stdout",
     "output_type": "stream",
     "text": [
      "MoviePy - Done.\n"
     ]
    },
    {
     "name": "stderr",
     "output_type": "stream",
     "text": [
      "chunk:   7%| | 26/354 [08:25<00:11, 27.78it/s, now=No"
     ]
    },
    {
     "name": "stdout",
     "output_type": "stream",
     "text": [
      "MoviePy - Writing audio in C:\\Users\\Welcome\\Dhairya-Python\\sarcasm detection\\audio_context\\2_28_c.wav\n"
     ]
    },
    {
     "name": "stderr",
     "output_type": "stream",
     "text": [
      "\n",
      "chunk:   0%|       | 0/132 [00:00<?, ?it/s, now=None]\u001b[A\n",
      "chunk:   2%| | 3/132 [00:00<00:05, 24.59it/s, now=Non\u001b[A\n",
      "chunk:  77%|▊| 102/132 [00:00<00:00, 533.76it/s, now=\u001b[A\n",
      "chunk:   7%| | 26/354 [08:25<00:11, 27.78it/s, now=No\u001b[A"
     ]
    },
    {
     "name": "stdout",
     "output_type": "stream",
     "text": [
      "MoviePy - Done.\n"
     ]
    },
    {
     "name": "stderr",
     "output_type": "stream",
     "text": [
      "chunk:   7%| | 26/354 [08:25<00:11, 27.78it/s, now=No"
     ]
    },
    {
     "name": "stdout",
     "output_type": "stream",
     "text": [
      "MoviePy - Writing audio in C:\\Users\\Welcome\\Dhairya-Python\\sarcasm detection\\audio_context\\2_291_c.wav\n"
     ]
    },
    {
     "name": "stderr",
     "output_type": "stream",
     "text": [
      "\n",
      "chunk:   0%|       | 0/128 [00:00<?, ?it/s, now=None]\u001b[A\n",
      "chunk:  23%|▏| 29/128 [00:00<00:00, 281.54it/s, now=N\u001b[A\n",
      "chunk:   7%| | 26/354 [08:26<00:11, 27.78it/s, now=No\u001b[A"
     ]
    },
    {
     "name": "stdout",
     "output_type": "stream",
     "text": [
      "MoviePy - Done.\n"
     ]
    },
    {
     "name": "stderr",
     "output_type": "stream",
     "text": [
      "chunk:   7%| | 26/354 [08:26<00:11, 27.78it/s, now=No"
     ]
    },
    {
     "name": "stdout",
     "output_type": "stream",
     "text": [
      "MoviePy - Writing audio in C:\\Users\\Welcome\\Dhairya-Python\\sarcasm detection\\audio_context\\2_292_c.wav\n"
     ]
    },
    {
     "name": "stderr",
     "output_type": "stream",
     "text": [
      "\n",
      "chunk:   0%|       | 0/155 [00:00<?, ?it/s, now=None]\u001b[A\n",
      "chunk:   5%| | 8/155 [00:00<00:01, 80.00it/s, now=Non\u001b[A\n",
      "chunk:  82%|▊| 127/155 [00:00<00:00, 732.90it/s, now=\u001b[A\n",
      "chunk:   7%| | 26/354 [08:26<00:11, 27.78it/s, now=No\u001b[A"
     ]
    },
    {
     "name": "stdout",
     "output_type": "stream",
     "text": [
      "MoviePy - Done.\n"
     ]
    },
    {
     "name": "stderr",
     "output_type": "stream",
     "text": [
      "chunk:   7%| | 26/354 [08:27<00:11, 27.78it/s, now=No"
     ]
    },
    {
     "name": "stdout",
     "output_type": "stream",
     "text": [
      "MoviePy - Writing audio in C:\\Users\\Welcome\\Dhairya-Python\\sarcasm detection\\audio_context\\2_293_c.wav\n"
     ]
    },
    {
     "name": "stderr",
     "output_type": "stream",
     "text": [
      "\n",
      "chunk:   0%|       | 0/121 [00:00<?, ?it/s, now=None]\u001b[A\n",
      "chunk:   2%| | 3/121 [00:00<00:04, 28.84it/s, now=Non\u001b[A\n",
      "chunk:  97%|▉| 117/121 [00:00<00:00, 671.84it/s, now=\u001b[A\n",
      "chunk:   7%| | 26/354 [08:27<00:11, 27.78it/s, now=No\u001b[A"
     ]
    },
    {
     "name": "stdout",
     "output_type": "stream",
     "text": [
      "MoviePy - Done.\n"
     ]
    },
    {
     "name": "stderr",
     "output_type": "stream",
     "text": [
      "chunk:   7%| | 26/354 [08:29<00:11, 27.78it/s, now=No"
     ]
    },
    {
     "name": "stdout",
     "output_type": "stream",
     "text": [
      "MoviePy - Writing audio in C:\\Users\\Welcome\\Dhairya-Python\\sarcasm detection\\audio_context\\2_294_c.wav\n"
     ]
    },
    {
     "name": "stderr",
     "output_type": "stream",
     "text": [
      "\n",
      "chunk:   0%|        | 0/89 [00:00<?, ?it/s, now=None]\u001b[A\n",
      "chunk:   3%| | 3/89 [00:00<00:03, 26.78it/s, now=None\u001b[A\n",
      "chunk:   7%| | 26/354 [08:29<00:11, 27.78it/s, now=No\u001b[A"
     ]
    },
    {
     "name": "stdout",
     "output_type": "stream",
     "text": [
      "MoviePy - Done.\n"
     ]
    },
    {
     "name": "stderr",
     "output_type": "stream",
     "text": [
      "chunk:   7%| | 26/354 [08:29<00:11, 27.78it/s, now=No"
     ]
    },
    {
     "name": "stdout",
     "output_type": "stream",
     "text": [
      "MoviePy - Writing audio in C:\\Users\\Welcome\\Dhairya-Python\\sarcasm detection\\audio_context\\2_295_c.wav\n"
     ]
    },
    {
     "name": "stderr",
     "output_type": "stream",
     "text": [
      "\n",
      "chunk:   0%|       | 0/498 [00:00<?, ?it/s, now=None]\u001b[A\n",
      "chunk:   1%| | 3/498 [00:00<00:19, 25.21it/s, now=Non\u001b[A\n",
      "chunk:  20%|▏| 102/498 [00:00<00:00, 458.89it/s, now=\u001b[A\n",
      "chunk:  37%|▎| 186/498 [00:00<00:00, 608.79it/s, now=\u001b[A\n",
      "chunk:  51%|▌| 255/498 [00:00<00:00, 537.45it/s, now=\u001b[A\n",
      "chunk:  72%|▋| 357/498 [00:00<00:00, 653.61it/s, now=\u001b[A\n",
      "chunk:  85%|▊| 425/498 [00:00<00:00, 624.79it/s, now=\u001b[A\n",
      "chunk:   7%| | 26/354 [08:30<00:11, 27.78it/s, now=No\u001b[A"
     ]
    },
    {
     "name": "stdout",
     "output_type": "stream",
     "text": [
      "MoviePy - Done.\n"
     ]
    },
    {
     "name": "stderr",
     "output_type": "stream",
     "text": [
      "chunk:   7%| | 26/354 [08:31<00:11, 27.78it/s, now=No"
     ]
    },
    {
     "name": "stdout",
     "output_type": "stream",
     "text": [
      "MoviePy - Writing audio in C:\\Users\\Welcome\\Dhairya-Python\\sarcasm detection\\audio_context\\2_297_c.wav\n"
     ]
    },
    {
     "name": "stderr",
     "output_type": "stream",
     "text": [
      "\n",
      "chunk:   0%|       | 0/268 [00:00<?, ?it/s, now=None]\u001b[A\n",
      "chunk:   1%| | 3/268 [00:00<00:11, 22.56it/s, now=Non\u001b[A\n",
      "chunk:  38%|▍| 102/268 [00:00<00:00, 488.14it/s, now=\u001b[A\n",
      "chunk:  76%|▊| 204/268 [00:00<00:00, 691.12it/s, now=\u001b[A\n",
      "chunk:   7%| | 26/354 [08:31<00:11, 27.78it/s, now=No\u001b[A"
     ]
    },
    {
     "name": "stdout",
     "output_type": "stream",
     "text": [
      "MoviePy - Done.\n"
     ]
    },
    {
     "name": "stderr",
     "output_type": "stream",
     "text": [
      "chunk:   7%| | 26/354 [08:32<00:11, 27.78it/s, now=No"
     ]
    },
    {
     "name": "stdout",
     "output_type": "stream",
     "text": [
      "MoviePy - Writing audio in C:\\Users\\Welcome\\Dhairya-Python\\sarcasm detection\\audio_context\\2_299_c.wav\n"
     ]
    },
    {
     "name": "stderr",
     "output_type": "stream",
     "text": [
      "\n",
      "chunk:   0%|       | 0/169 [00:00<?, ?it/s, now=None]\u001b[A\n",
      "chunk:   2%| | 3/169 [00:00<00:09, 17.96it/s, now=Non\u001b[A\n",
      "chunk:  60%|▌| 102/169 [00:00<00:00, 449.51it/s, now=\u001b[A\n",
      "chunk:   7%| | 26/354 [08:32<00:11, 27.78it/s, now=No\u001b[A"
     ]
    },
    {
     "name": "stdout",
     "output_type": "stream",
     "text": [
      "MoviePy - Done.\n"
     ]
    },
    {
     "name": "stderr",
     "output_type": "stream",
     "text": [
      "chunk:   7%| | 26/354 [08:33<00:11, 27.78it/s, now=No"
     ]
    },
    {
     "name": "stdout",
     "output_type": "stream",
     "text": [
      "MoviePy - Writing audio in C:\\Users\\Welcome\\Dhairya-Python\\sarcasm detection\\audio_context\\2_29_c.wav\n"
     ]
    },
    {
     "name": "stderr",
     "output_type": "stream",
     "text": [
      "\n",
      "chunk:   0%|       | 0/145 [00:00<?, ?it/s, now=None]\u001b[A\n",
      "chunk:  21%|▏| 31/145 [00:00<00:00, 309.98it/s, now=N\u001b[A\n",
      "chunk:  96%|▉| 139/145 [00:00<00:00, 762.90it/s, now=\u001b[A\n",
      "chunk:   7%| | 26/354 [08:33<00:11, 27.78it/s, now=No\u001b[A"
     ]
    },
    {
     "name": "stdout",
     "output_type": "stream",
     "text": [
      "MoviePy - Done.\n"
     ]
    },
    {
     "name": "stderr",
     "output_type": "stream",
     "text": [
      "chunk:   7%| | 26/354 [08:34<00:11, 27.78it/s, now=No"
     ]
    },
    {
     "name": "stdout",
     "output_type": "stream",
     "text": [
      "MoviePy - Writing audio in C:\\Users\\Welcome\\Dhairya-Python\\sarcasm detection\\audio_context\\2_2_c.wav\n"
     ]
    },
    {
     "name": "stderr",
     "output_type": "stream",
     "text": [
      "\n",
      "chunk:   0%|       | 0/107 [00:00<?, ?it/s, now=None]\u001b[A\n",
      "chunk:  27%|▎| 29/107 [00:00<00:00, 287.11it/s, now=N\u001b[A\n",
      "chunk:   7%| | 26/354 [08:34<00:11, 27.78it/s, now=No\u001b[A"
     ]
    },
    {
     "name": "stdout",
     "output_type": "stream",
     "text": [
      "MoviePy - Done.\n"
     ]
    },
    {
     "name": "stderr",
     "output_type": "stream",
     "text": [
      "chunk:   7%| | 26/354 [08:35<00:11, 27.78it/s, now=No"
     ]
    },
    {
     "name": "stdout",
     "output_type": "stream",
     "text": [
      "MoviePy - Writing audio in C:\\Users\\Welcome\\Dhairya-Python\\sarcasm detection\\audio_context\\2_300_c.wav\n"
     ]
    },
    {
     "name": "stderr",
     "output_type": "stream",
     "text": [
      "\n",
      "chunk:   0%|       | 0/369 [00:00<?, ?it/s, now=None]\u001b[A\n",
      "chunk:   8%| | 29/369 [00:00<00:01, 278.83it/s, now=N\u001b[A\n",
      "chunk:  28%|▎| 102/369 [00:00<00:00, 483.89it/s, now=\u001b[A\n",
      "chunk:  41%|▍| 153/369 [00:00<00:00, 465.29it/s, now=\u001b[A\n",
      "chunk:  61%|▌| 226/369 [00:00<00:00, 561.54it/s, now=\u001b[A\n",
      "chunk:  83%|▊| 306/369 [00:00<00:00, 577.86it/s, now=\u001b[A\n",
      "chunk:   7%| | 26/354 [08:35<00:11, 27.78it/s, now=No\u001b[A"
     ]
    },
    {
     "name": "stdout",
     "output_type": "stream",
     "text": [
      "MoviePy - Done.\n"
     ]
    },
    {
     "name": "stderr",
     "output_type": "stream",
     "text": [
      "chunk:   7%| | 26/354 [08:36<00:11, 27.78it/s, now=No"
     ]
    },
    {
     "name": "stdout",
     "output_type": "stream",
     "text": [
      "MoviePy - Writing audio in C:\\Users\\Welcome\\Dhairya-Python\\sarcasm detection\\audio_context\\2_301_c.wav\n"
     ]
    },
    {
     "name": "stderr",
     "output_type": "stream",
     "text": [
      "\n",
      "chunk:   0%|        | 0/81 [00:00<?, ?it/s, now=None]\u001b[A\n",
      "chunk:   4%| | 3/81 [00:00<00:03, 23.44it/s, now=None\u001b[A\n",
      "chunk:   7%| | 26/354 [08:36<00:11, 27.78it/s, now=No\u001b[A"
     ]
    },
    {
     "name": "stdout",
     "output_type": "stream",
     "text": [
      "MoviePy - Done.\n"
     ]
    },
    {
     "name": "stderr",
     "output_type": "stream",
     "text": [
      "chunk:   7%| | 26/354 [08:37<00:11, 27.78it/s, now=No"
     ]
    },
    {
     "name": "stdout",
     "output_type": "stream",
     "text": [
      "MoviePy - Writing audio in C:\\Users\\Welcome\\Dhairya-Python\\sarcasm detection\\audio_context\\2_302_c.wav\n"
     ]
    },
    {
     "name": "stderr",
     "output_type": "stream",
     "text": [
      "\n",
      "chunk:   0%|       | 0/121 [00:00<?, ?it/s, now=None]\u001b[A\n",
      "chunk:  24%|▏| 29/121 [00:00<00:00, 269.50it/s, now=N\u001b[A\n",
      "chunk:   7%| | 26/354 [08:37<00:11, 27.78it/s, now=No\u001b[A"
     ]
    },
    {
     "name": "stdout",
     "output_type": "stream",
     "text": [
      "MoviePy - Done.\n"
     ]
    },
    {
     "name": "stderr",
     "output_type": "stream",
     "text": [
      "chunk:   7%| | 26/354 [08:38<00:11, 27.78it/s, now=No"
     ]
    },
    {
     "name": "stdout",
     "output_type": "stream",
     "text": [
      "MoviePy - Writing audio in C:\\Users\\Welcome\\Dhairya-Python\\sarcasm detection\\audio_context\\2_303_c.wav\n"
     ]
    },
    {
     "name": "stderr",
     "output_type": "stream",
     "text": [
      "\n",
      "chunk:   0%|       | 0/147 [00:00<?, ?it/s, now=None]\u001b[A\n",
      "chunk:  54%|▌| 80/147 [00:00<00:00, 698.05it/s, now=N\u001b[A\n",
      "chunk:   7%| | 26/354 [08:38<00:11, 27.78it/s, now=No\u001b[A"
     ]
    },
    {
     "name": "stdout",
     "output_type": "stream",
     "text": [
      "MoviePy - Done.\n"
     ]
    },
    {
     "name": "stderr",
     "output_type": "stream",
     "text": [
      "chunk:   7%| | 26/354 [08:39<00:11, 27.78it/s, now=No"
     ]
    },
    {
     "name": "stdout",
     "output_type": "stream",
     "text": [
      "MoviePy - Writing audio in C:\\Users\\Welcome\\Dhairya-Python\\sarcasm detection\\audio_context\\2_305_c.wav\n"
     ]
    },
    {
     "name": "stderr",
     "output_type": "stream",
     "text": [
      "\n",
      "chunk:   0%|        | 0/67 [00:00<?, ?it/s, now=None]\u001b[A\n",
      "chunk:  37%|▎| 25/67 [00:00<00:00, 249.99it/s, now=No\u001b[A\n",
      "chunk:   7%| | 26/354 [08:39<00:11, 27.78it/s, now=No\u001b[A"
     ]
    },
    {
     "name": "stdout",
     "output_type": "stream",
     "text": [
      "MoviePy - Done.\n"
     ]
    },
    {
     "name": "stderr",
     "output_type": "stream",
     "text": [
      "chunk:   7%| | 26/354 [08:39<00:11, 27.78it/s, now=No"
     ]
    },
    {
     "name": "stdout",
     "output_type": "stream",
     "text": [
      "MoviePy - Writing audio in C:\\Users\\Welcome\\Dhairya-Python\\sarcasm detection\\audio_context\\2_306_c.wav\n"
     ]
    },
    {
     "name": "stderr",
     "output_type": "stream",
     "text": [
      "\n",
      "chunk:   0%|        | 0/37 [00:00<?, ?it/s, now=None]\u001b[A\n",
      "chunk:   8%| | 3/37 [00:00<00:01, 26.50it/s, now=None\u001b[A\n",
      "chunk:   7%| | 26/354 [08:40<00:11, 27.78it/s, now=No\u001b[A"
     ]
    },
    {
     "name": "stdout",
     "output_type": "stream",
     "text": [
      "MoviePy - Done.\n"
     ]
    },
    {
     "name": "stderr",
     "output_type": "stream",
     "text": [
      "chunk:   7%| | 26/354 [08:40<00:11, 27.78it/s, now=No"
     ]
    },
    {
     "name": "stdout",
     "output_type": "stream",
     "text": [
      "MoviePy - Writing audio in C:\\Users\\Welcome\\Dhairya-Python\\sarcasm detection\\audio_context\\2_30_c.wav\n"
     ]
    },
    {
     "name": "stderr",
     "output_type": "stream",
     "text": [
      "\n",
      "chunk:   0%|       | 0/124 [00:00<?, ?it/s, now=None]\u001b[A\n",
      "chunk:   2%| | 3/124 [00:00<00:04, 29.82it/s, now=Non\u001b[A\n",
      "chunk:   7%| | 26/354 [08:41<00:11, 27.78it/s, now=No\u001b[A"
     ]
    },
    {
     "name": "stdout",
     "output_type": "stream",
     "text": [
      "MoviePy - Done.\n"
     ]
    },
    {
     "name": "stderr",
     "output_type": "stream",
     "text": [
      "chunk:   7%| | 26/354 [08:41<00:11, 27.78it/s, now=No"
     ]
    },
    {
     "name": "stdout",
     "output_type": "stream",
     "text": [
      "MoviePy - Writing audio in C:\\Users\\Welcome\\Dhairya-Python\\sarcasm detection\\audio_context\\2_310_c.wav\n"
     ]
    },
    {
     "name": "stderr",
     "output_type": "stream",
     "text": [
      "\n",
      "chunk:   0%|       | 0/447 [00:00<?, ?it/s, now=None]\u001b[A\n",
      "chunk:   5%| | 23/447 [00:00<00:01, 229.99it/s, now=N\u001b[A\n",
      "chunk:  34%|▎| 153/447 [00:00<00:00, 844.46it/s, now=\u001b[A\n",
      "chunk:  68%|▋| 306/447 [00:00<00:00, 1100.72it/s, now\u001b[A\n",
      "chunk:   7%| | 26/354 [08:41<00:11, 27.78it/s, now=No\u001b[A"
     ]
    },
    {
     "name": "stdout",
     "output_type": "stream",
     "text": [
      "MoviePy - Done.\n"
     ]
    },
    {
     "name": "stderr",
     "output_type": "stream",
     "text": [
      "chunk:   7%| | 26/354 [08:42<00:11, 27.78it/s, now=No"
     ]
    },
    {
     "name": "stdout",
     "output_type": "stream",
     "text": [
      "MoviePy - Writing audio in C:\\Users\\Welcome\\Dhairya-Python\\sarcasm detection\\audio_context\\2_312_c.wav\n"
     ]
    },
    {
     "name": "stderr",
     "output_type": "stream",
     "text": [
      "\n",
      "chunk:   0%|        | 0/20 [00:00<?, ?it/s, now=None]\u001b[A\n",
      "chunk:  15%|▏| 3/20 [00:00<00:00, 26.78it/s, now=None\u001b[A\n",
      "chunk:   7%| | 26/354 [08:42<00:11, 27.78it/s, now=No\u001b[A"
     ]
    },
    {
     "name": "stdout",
     "output_type": "stream",
     "text": [
      "MoviePy - Done.\n"
     ]
    },
    {
     "name": "stderr",
     "output_type": "stream",
     "text": [
      "chunk:   7%| | 26/354 [08:43<00:11, 27.78it/s, now=No"
     ]
    },
    {
     "name": "stdout",
     "output_type": "stream",
     "text": [
      "MoviePy - Writing audio in C:\\Users\\Welcome\\Dhairya-Python\\sarcasm detection\\audio_context\\2_313_c.wav\n"
     ]
    },
    {
     "name": "stderr",
     "output_type": "stream",
     "text": [
      "\n",
      "chunk:   0%|       | 0/116 [00:00<?, ?it/s, now=None]\u001b[A\n",
      "chunk:  39%|▍| 45/116 [00:00<00:00, 449.97it/s, now=N\u001b[A\n",
      "chunk:   7%| | 26/354 [08:43<00:11, 27.78it/s, now=No\u001b[A"
     ]
    },
    {
     "name": "stdout",
     "output_type": "stream",
     "text": [
      "MoviePy - Done.\n"
     ]
    },
    {
     "name": "stderr",
     "output_type": "stream",
     "text": [
      "chunk:   7%| | 26/354 [08:44<00:11, 27.78it/s, now=No"
     ]
    },
    {
     "name": "stdout",
     "output_type": "stream",
     "text": [
      "MoviePy - Writing audio in C:\\Users\\Welcome\\Dhairya-Python\\sarcasm detection\\audio_context\\2_314_c.wav\n"
     ]
    },
    {
     "name": "stderr",
     "output_type": "stream",
     "text": [
      "\n",
      "chunk:   0%|       | 0/201 [00:00<?, ?it/s, now=None]\u001b[A\n",
      "chunk:  14%|▏| 29/201 [00:00<00:00, 284.30it/s, now=N\u001b[A\n",
      "chunk:  75%|▋| 150/201 [00:00<00:00, 824.34it/s, now=\u001b[A\n",
      "chunk:   7%| | 26/354 [08:44<00:11, 27.78it/s, now=No\u001b[A"
     ]
    },
    {
     "name": "stdout",
     "output_type": "stream",
     "text": [
      "MoviePy - Done.\n"
     ]
    },
    {
     "name": "stderr",
     "output_type": "stream",
     "text": [
      "chunk:   7%| | 26/354 [08:45<00:11, 27.78it/s, now=No"
     ]
    },
    {
     "name": "stdout",
     "output_type": "stream",
     "text": [
      "MoviePy - Writing audio in C:\\Users\\Welcome\\Dhairya-Python\\sarcasm detection\\audio_context\\2_315_c.wav\n"
     ]
    },
    {
     "name": "stderr",
     "output_type": "stream",
     "text": [
      "\n",
      "chunk:   0%|       | 0/159 [00:00<?, ?it/s, now=None]\u001b[A\n",
      "chunk:  17%|▏| 27/159 [00:00<00:00, 269.98it/s, now=N\u001b[A\n",
      "chunk:  43%|▍| 69/159 [00:00<00:00, 358.21it/s, now=N\u001b[A\n",
      "chunk:  66%|▋| 105/159 [00:00<00:00, 313.25it/s, now=\u001b[A\n",
      "chunk:   7%| | 26/354 [08:45<00:11, 27.78it/s, now=No\u001b[A"
     ]
    },
    {
     "name": "stdout",
     "output_type": "stream",
     "text": [
      "MoviePy - Done.\n"
     ]
    },
    {
     "name": "stderr",
     "output_type": "stream",
     "text": [
      "chunk:   7%| | 26/354 [08:46<00:11, 27.78it/s, now=No"
     ]
    },
    {
     "name": "stdout",
     "output_type": "stream",
     "text": [
      "MoviePy - Writing audio in C:\\Users\\Welcome\\Dhairya-Python\\sarcasm detection\\audio_context\\2_316_c.wav\n"
     ]
    },
    {
     "name": "stderr",
     "output_type": "stream",
     "text": [
      "\n",
      "chunk:   0%|       | 0/206 [00:00<?, ?it/s, now=None]\u001b[A\n",
      "chunk:  17%|▏| 36/206 [00:00<00:00, 359.98it/s, now=N\u001b[A\n",
      "chunk:  74%|▋| 153/206 [00:00<00:00, 732.95it/s, now=\u001b[A\n",
      "chunk:   7%| | 26/354 [08:46<00:11, 27.78it/s, now=No\u001b[A"
     ]
    },
    {
     "name": "stdout",
     "output_type": "stream",
     "text": [
      "MoviePy - Done.\n"
     ]
    },
    {
     "name": "stderr",
     "output_type": "stream",
     "text": [
      "chunk:   7%| | 26/354 [08:47<00:11, 27.78it/s, now=No"
     ]
    },
    {
     "name": "stdout",
     "output_type": "stream",
     "text": [
      "MoviePy - Writing audio in C:\\Users\\Welcome\\Dhairya-Python\\sarcasm detection\\audio_context\\2_317_c.wav\n"
     ]
    },
    {
     "name": "stderr",
     "output_type": "stream",
     "text": [
      "\n",
      "chunk:   0%|       | 0/194 [00:00<?, ?it/s, now=None]\u001b[A\n",
      "chunk:  15%|▏| 30/194 [00:00<00:00, 299.98it/s, now=N\u001b[A\n",
      "chunk:  79%|▊| 153/194 [00:00<00:00, 734.65it/s, now=\u001b[A\n",
      "chunk:   7%| | 26/354 [08:47<00:11, 27.78it/s, now=No\u001b[A"
     ]
    },
    {
     "name": "stdout",
     "output_type": "stream",
     "text": [
      "MoviePy - Done.\n"
     ]
    },
    {
     "name": "stderr",
     "output_type": "stream",
     "text": [
      "chunk:   7%| | 26/354 [08:48<00:11, 27.78it/s, now=No"
     ]
    },
    {
     "name": "stdout",
     "output_type": "stream",
     "text": [
      "MoviePy - Writing audio in C:\\Users\\Welcome\\Dhairya-Python\\sarcasm detection\\audio_context\\2_318_c.wav\n"
     ]
    },
    {
     "name": "stderr",
     "output_type": "stream",
     "text": [
      "\n",
      "chunk:   0%|       | 0/280 [00:00<?, ?it/s, now=None]\u001b[A\n",
      "chunk:   2%| | 7/280 [00:00<00:03, 70.00it/s, now=Non\u001b[A\n",
      "chunk:  39%|▍| 110/280 [00:00<00:00, 634.67it/s, now=\u001b[A\n",
      "chunk:  73%|▋| 204/280 [00:00<00:00, 712.27it/s, now=\u001b[A\n",
      "chunk:   7%| | 26/354 [08:48<00:11, 27.78it/s, now=No\u001b[A"
     ]
    },
    {
     "name": "stdout",
     "output_type": "stream",
     "text": [
      "MoviePy - Done.\n"
     ]
    },
    {
     "name": "stderr",
     "output_type": "stream",
     "text": [
      "chunk:   7%| | 26/354 [08:49<00:11, 27.78it/s, now=No"
     ]
    },
    {
     "name": "stdout",
     "output_type": "stream",
     "text": [
      "MoviePy - Writing audio in C:\\Users\\Welcome\\Dhairya-Python\\sarcasm detection\\audio_context\\2_319_c.wav\n"
     ]
    },
    {
     "name": "stderr",
     "output_type": "stream",
     "text": [
      "\n",
      "chunk:   0%|       | 0/312 [00:00<?, ?it/s, now=None]\u001b[A\n",
      "chunk:   8%| | 26/312 [00:00<00:01, 259.98it/s, now=N\u001b[A\n",
      "chunk:  33%|▎| 102/312 [00:00<00:00, 511.93it/s, now=\u001b[A\n",
      "chunk:  65%|▋| 204/312 [00:00<00:00, 727.60it/s, now=\u001b[A\n",
      "chunk:   7%| | 26/354 [08:49<00:11, 27.78it/s, now=No\u001b[A"
     ]
    },
    {
     "name": "stdout",
     "output_type": "stream",
     "text": [
      "MoviePy - Done.\n"
     ]
    },
    {
     "name": "stderr",
     "output_type": "stream",
     "text": [
      "chunk:   7%| | 26/354 [08:50<00:11, 27.78it/s, now=No"
     ]
    },
    {
     "name": "stdout",
     "output_type": "stream",
     "text": [
      "MoviePy - Writing audio in C:\\Users\\Welcome\\Dhairya-Python\\sarcasm detection\\audio_context\\2_31_c.wav\n"
     ]
    },
    {
     "name": "stderr",
     "output_type": "stream",
     "text": [
      "\n",
      "chunk:   0%|        | 0/94 [00:00<?, ?it/s, now=None]\u001b[A\n",
      "chunk:   3%| | 3/94 [00:00<00:04, 19.23it/s, now=None\u001b[A\n",
      "chunk:   7%| | 26/354 [08:50<00:11, 27.78it/s, now=No\u001b[A"
     ]
    },
    {
     "name": "stdout",
     "output_type": "stream",
     "text": [
      "MoviePy - Done.\n"
     ]
    },
    {
     "name": "stderr",
     "output_type": "stream",
     "text": [
      "chunk:   7%| | 26/354 [08:51<00:11, 27.78it/s, now=No"
     ]
    },
    {
     "name": "stdout",
     "output_type": "stream",
     "text": [
      "MoviePy - Writing audio in C:\\Users\\Welcome\\Dhairya-Python\\sarcasm detection\\audio_context\\2_322_c.wav\n"
     ]
    },
    {
     "name": "stderr",
     "output_type": "stream",
     "text": [
      "\n",
      "chunk:   0%|       | 0/152 [00:00<?, ?it/s, now=None]\u001b[A\n",
      "chunk:  11%| | 16/152 [00:00<00:00, 159.99it/s, now=N\u001b[A\n",
      "chunk:   7%| | 26/354 [08:51<00:11, 27.78it/s, now=No\u001b[A"
     ]
    },
    {
     "name": "stdout",
     "output_type": "stream",
     "text": [
      "MoviePy - Done.\n"
     ]
    },
    {
     "name": "stderr",
     "output_type": "stream",
     "text": [
      "chunk:   7%| | 26/354 [08:52<00:11, 27.78it/s, now=No"
     ]
    },
    {
     "name": "stdout",
     "output_type": "stream",
     "text": [
      "MoviePy - Writing audio in C:\\Users\\Welcome\\Dhairya-Python\\sarcasm detection\\audio_context\\2_323_c.wav\n"
     ]
    },
    {
     "name": "stderr",
     "output_type": "stream",
     "text": [
      "\n",
      "chunk:   0%|        | 0/20 [00:00<?, ?it/s, now=None]\u001b[A\n",
      "chunk:  35%|▎| 7/20 [00:00<00:00, 70.00it/s, now=None\u001b[A\n",
      "chunk:   7%| | 26/354 [08:52<00:11, 27.78it/s, now=No\u001b[A"
     ]
    },
    {
     "name": "stdout",
     "output_type": "stream",
     "text": [
      "MoviePy - Done.\n"
     ]
    },
    {
     "name": "stderr",
     "output_type": "stream",
     "text": [
      "chunk:   7%| | 26/354 [08:52<00:11, 27.78it/s, now=No"
     ]
    },
    {
     "name": "stdout",
     "output_type": "stream",
     "text": [
      "MoviePy - Writing audio in C:\\Users\\Welcome\\Dhairya-Python\\sarcasm detection\\audio_context\\2_326_c.wav\n"
     ]
    },
    {
     "name": "stderr",
     "output_type": "stream",
     "text": [
      "\n",
      "chunk:   0%|       | 0/111 [00:00<?, ?it/s, now=None]\u001b[A\n",
      "chunk:  20%|▏| 22/111 [00:00<00:00, 219.99it/s, now=N\u001b[A\n",
      "chunk:   7%| | 26/354 [08:53<00:11, 27.78it/s, now=No\u001b[A"
     ]
    },
    {
     "name": "stdout",
     "output_type": "stream",
     "text": [
      "MoviePy - Done.\n"
     ]
    },
    {
     "name": "stderr",
     "output_type": "stream",
     "text": [
      "chunk:   7%| | 26/354 [08:53<00:11, 27.78it/s, now=No"
     ]
    },
    {
     "name": "stdout",
     "output_type": "stream",
     "text": [
      "MoviePy - Writing audio in C:\\Users\\Welcome\\Dhairya-Python\\sarcasm detection\\audio_context\\2_334_c.wav\n"
     ]
    },
    {
     "name": "stderr",
     "output_type": "stream",
     "text": [
      "\n",
      "chunk:   0%|       | 0/206 [00:00<?, ?it/s, now=None]\u001b[A\n",
      "chunk:   4%| | 9/206 [00:00<00:02, 89.99it/s, now=Non\u001b[A\n",
      "chunk:  50%|▍| 102/206 [00:00<00:00, 522.60it/s, now=\u001b[A\n",
      "chunk:   7%| | 26/354 [08:54<00:11, 27.78it/s, now=No\u001b[A"
     ]
    },
    {
     "name": "stdout",
     "output_type": "stream",
     "text": [
      "MoviePy - Done.\n"
     ]
    },
    {
     "name": "stderr",
     "output_type": "stream",
     "text": [
      "chunk:   7%| | 26/354 [08:54<00:11, 27.78it/s, now=No"
     ]
    },
    {
     "name": "stdout",
     "output_type": "stream",
     "text": [
      "MoviePy - Writing audio in C:\\Users\\Welcome\\Dhairya-Python\\sarcasm detection\\audio_context\\2_337_c.wav\n"
     ]
    },
    {
     "name": "stderr",
     "output_type": "stream",
     "text": [
      "\n",
      "chunk:   0%|       | 0/150 [00:00<?, ?it/s, now=None]\u001b[A\n",
      "chunk:  28%|▎| 42/150 [00:00<00:00, 419.98it/s, now=N\u001b[A\n",
      "chunk:  95%|▉| 143/150 [00:00<00:00, 767.01it/s, now=\u001b[A\n",
      "chunk:   7%| | 26/354 [08:55<00:11, 27.78it/s, now=No\u001b[A"
     ]
    },
    {
     "name": "stdout",
     "output_type": "stream",
     "text": [
      "MoviePy - Done.\n"
     ]
    },
    {
     "name": "stderr",
     "output_type": "stream",
     "text": [
      "chunk:   7%| | 26/354 [08:55<00:11, 27.78it/s, now=No"
     ]
    },
    {
     "name": "stdout",
     "output_type": "stream",
     "text": [
      "MoviePy - Writing audio in C:\\Users\\Welcome\\Dhairya-Python\\sarcasm detection\\audio_context\\2_338_c.wav\n"
     ]
    },
    {
     "name": "stderr",
     "output_type": "stream",
     "text": [
      "\n",
      "chunk:   0%|       | 0/647 [00:00<?, ?it/s, now=None]\u001b[A\n",
      "chunk:   3%| | 21/647 [00:00<00:02, 209.99it/s, now=N\u001b[A\n",
      "chunk:  16%|▏| 102/647 [00:00<00:00, 562.91it/s, now=\u001b[A\n",
      "chunk:  34%|▎| 221/647 [00:00<00:00, 849.22it/s, now=\u001b[A\n",
      "chunk:  53%|▌| 340/647 [00:00<00:00, 983.73it/s, now=\u001b[A\n",
      "chunk:  68%|▋| 439/647 [00:00<00:00, 929.02it/s, now=\u001b[A\n",
      "chunk:  83%|▊| 534/647 [00:00<00:00, 873.09it/s, now=\u001b[A\n",
      "chunk:  98%|▉| 631/647 [00:00<00:00, 902.47it/s, now=\u001b[A\n",
      "chunk:   7%| | 26/354 [08:56<00:11, 27.78it/s, now=No\u001b[A"
     ]
    },
    {
     "name": "stdout",
     "output_type": "stream",
     "text": [
      "MoviePy - Done.\n"
     ]
    },
    {
     "name": "stderr",
     "output_type": "stream",
     "text": [
      "chunk:   7%| | 26/354 [08:57<00:11, 27.78it/s, now=No"
     ]
    },
    {
     "name": "stdout",
     "output_type": "stream",
     "text": [
      "MoviePy - Writing audio in C:\\Users\\Welcome\\Dhairya-Python\\sarcasm detection\\audio_context\\2_339_c.wav\n"
     ]
    },
    {
     "name": "stderr",
     "output_type": "stream",
     "text": [
      "\n",
      "chunk:   0%|       | 0/182 [00:00<?, ?it/s, now=None]\u001b[A\n",
      "chunk:   2%| | 3/182 [00:00<00:06, 27.27it/s, now=Non\u001b[A\n",
      "chunk:  56%|▌| 102/182 [00:00<00:00, 518.43it/s, now=\u001b[A\n",
      "chunk:   7%| | 26/354 [08:57<00:11, 27.78it/s, now=No\u001b[A"
     ]
    },
    {
     "name": "stdout",
     "output_type": "stream",
     "text": [
      "MoviePy - Done.\n"
     ]
    },
    {
     "name": "stderr",
     "output_type": "stream",
     "text": [
      "chunk:   7%| | 26/354 [08:58<00:11, 27.78it/s, now=No"
     ]
    },
    {
     "name": "stdout",
     "output_type": "stream",
     "text": [
      "MoviePy - Writing audio in C:\\Users\\Welcome\\Dhairya-Python\\sarcasm detection\\audio_context\\2_33_c.wav\n"
     ]
    },
    {
     "name": "stderr",
     "output_type": "stream",
     "text": [
      "\n",
      "chunk:   0%|       | 0/257 [00:00<?, ?it/s, now=None]\u001b[A\n",
      "chunk:   1%| | 3/257 [00:00<00:08, 29.70it/s, now=Non\u001b[A\n",
      "chunk:  40%|▍| 102/257 [00:00<00:00, 578.67it/s, now=\u001b[A\n",
      "chunk:  79%|▊| 202/257 [00:00<00:00, 748.00it/s, now=\u001b[A\n",
      "chunk:   7%| | 26/354 [08:58<00:11, 27.78it/s, now=No\u001b[A"
     ]
    },
    {
     "name": "stdout",
     "output_type": "stream",
     "text": [
      "MoviePy - Done.\n"
     ]
    },
    {
     "name": "stderr",
     "output_type": "stream",
     "text": [
      "chunk:   7%| | 26/354 [08:59<00:11, 27.78it/s, now=No"
     ]
    },
    {
     "name": "stdout",
     "output_type": "stream",
     "text": [
      "MoviePy - Writing audio in C:\\Users\\Welcome\\Dhairya-Python\\sarcasm detection\\audio_context\\2_340_c.wav\n"
     ]
    },
    {
     "name": "stderr",
     "output_type": "stream",
     "text": [
      "\n",
      "chunk:   0%|       | 0/296 [00:00<?, ?it/s, now=None]\u001b[A\n",
      "chunk:   1%| | 3/296 [00:00<00:09, 30.00it/s, now=Non\u001b[A\n",
      "chunk:  42%|▍| 124/296 [00:00<00:00, 724.08it/s, now=\u001b[A\n",
      "chunk:  69%|▋| 204/296 [00:00<00:00, 722.44it/s, now=\u001b[A\n",
      "chunk:   7%| | 26/354 [08:59<00:11, 27.78it/s, now=No\u001b[A"
     ]
    },
    {
     "name": "stdout",
     "output_type": "stream",
     "text": [
      "MoviePy - Done.\n"
     ]
    },
    {
     "name": "stderr",
     "output_type": "stream",
     "text": [
      "chunk:   7%| | 26/354 [09:00<00:11, 27.78it/s, now=No"
     ]
    },
    {
     "name": "stdout",
     "output_type": "stream",
     "text": [
      "MoviePy - Writing audio in C:\\Users\\Welcome\\Dhairya-Python\\sarcasm detection\\audio_context\\2_341_c.wav\n"
     ]
    },
    {
     "name": "stderr",
     "output_type": "stream",
     "text": [
      "\n",
      "chunk:   0%|       | 0/133 [00:00<?, ?it/s, now=None]\u001b[A\n",
      "chunk:  17%|▏| 23/133 [00:00<00:00, 229.99it/s, now=N\u001b[A\n",
      "chunk:  77%|▊| 102/133 [00:00<00:00, 556.11it/s, now=\u001b[A\n",
      "chunk:   7%| | 26/354 [09:00<00:11, 27.78it/s, now=No\u001b[A"
     ]
    },
    {
     "name": "stdout",
     "output_type": "stream",
     "text": [
      "MoviePy - Done.\n"
     ]
    },
    {
     "name": "stderr",
     "output_type": "stream",
     "text": [
      "chunk:   7%| | 26/354 [09:00<00:11, 27.78it/s, now=No"
     ]
    },
    {
     "name": "stdout",
     "output_type": "stream",
     "text": [
      "MoviePy - Writing audio in C:\\Users\\Welcome\\Dhairya-Python\\sarcasm detection\\audio_context\\2_342_c.wav\n"
     ]
    },
    {
     "name": "stderr",
     "output_type": "stream",
     "text": [
      "\n",
      "chunk:   0%|       | 0/248 [00:00<?, ?it/s, now=None]\u001b[A\n",
      "chunk:   7%| | 18/248 [00:00<00:01, 179.99it/s, now=N\u001b[A\n",
      "chunk:  62%|▌| 153/248 [00:00<00:00, 833.85it/s, now=\u001b[A\n",
      "chunk:   7%| | 26/354 [09:01<00:11, 27.78it/s, now=No\u001b[A"
     ]
    },
    {
     "name": "stdout",
     "output_type": "stream",
     "text": [
      "MoviePy - Done.\n"
     ]
    },
    {
     "name": "stderr",
     "output_type": "stream",
     "text": [
      "chunk:   7%| | 26/354 [09:01<00:11, 27.78it/s, now=No"
     ]
    },
    {
     "name": "stdout",
     "output_type": "stream",
     "text": [
      "MoviePy - Writing audio in C:\\Users\\Welcome\\Dhairya-Python\\sarcasm detection\\audio_context\\2_343_c.wav\n"
     ]
    },
    {
     "name": "stderr",
     "output_type": "stream",
     "text": [
      "\n",
      "chunk:   0%|       | 0/185 [00:00<?, ?it/s, now=None]\u001b[A\n",
      "chunk:   9%| | 17/185 [00:00<00:00, 169.99it/s, now=N\u001b[A\n",
      "chunk:  83%|▊| 153/185 [00:00<00:00, 840.29it/s, now=\u001b[A\n",
      "chunk:   7%| | 26/354 [09:02<00:11, 27.78it/s, now=No\u001b[A"
     ]
    },
    {
     "name": "stdout",
     "output_type": "stream",
     "text": [
      "MoviePy - Done.\n"
     ]
    },
    {
     "name": "stderr",
     "output_type": "stream",
     "text": [
      "chunk:   7%| | 26/354 [09:02<00:11, 27.78it/s, now=No"
     ]
    },
    {
     "name": "stdout",
     "output_type": "stream",
     "text": [
      "MoviePy - Writing audio in C:\\Users\\Welcome\\Dhairya-Python\\sarcasm detection\\audio_context\\2_344_c.wav\n"
     ]
    },
    {
     "name": "stderr",
     "output_type": "stream",
     "text": [
      "\n",
      "chunk:   0%|        | 0/88 [00:00<?, ?it/s, now=None]\u001b[A\n",
      "chunk:  32%|▎| 28/88 [00:00<00:00, 279.98it/s, now=No\u001b[A\n",
      "chunk:   7%| | 26/354 [09:02<00:11, 27.78it/s, now=No\u001b[A"
     ]
    },
    {
     "name": "stdout",
     "output_type": "stream",
     "text": [
      "MoviePy - Done.\n"
     ]
    },
    {
     "name": "stderr",
     "output_type": "stream",
     "text": [
      "chunk:   7%| | 26/354 [09:03<00:11, 27.78it/s, now=No"
     ]
    },
    {
     "name": "stdout",
     "output_type": "stream",
     "text": [
      "MoviePy - Writing audio in C:\\Users\\Welcome\\Dhairya-Python\\sarcasm detection\\audio_context\\2_345_c.wav\n"
     ]
    },
    {
     "name": "stderr",
     "output_type": "stream",
     "text": [
      "\n",
      "chunk:   0%|       | 0/273 [00:00<?, ?it/s, now=None]\u001b[A\n",
      "chunk:  10%| | 27/273 [00:00<00:00, 269.98it/s, now=N\u001b[A\n",
      "chunk:  57%|▌| 156/273 [00:00<00:00, 869.95it/s, now=\u001b[A\n",
      "chunk:   7%| | 26/354 [09:03<00:11, 27.78it/s, now=No\u001b[A"
     ]
    },
    {
     "name": "stdout",
     "output_type": "stream",
     "text": [
      "MoviePy - Done.\n"
     ]
    },
    {
     "name": "stderr",
     "output_type": "stream",
     "text": [
      "chunk:   7%| | 26/354 [09:04<00:11, 27.78it/s, now=No"
     ]
    },
    {
     "name": "stdout",
     "output_type": "stream",
     "text": [
      "MoviePy - Writing audio in C:\\Users\\Welcome\\Dhairya-Python\\sarcasm detection\\audio_context\\2_347_c.wav\n"
     ]
    },
    {
     "name": "stderr",
     "output_type": "stream",
     "text": [
      "\n",
      "chunk:   0%|       | 0/254 [00:00<?, ?it/s, now=None]\u001b[A\n",
      "chunk:   2%| | 6/254 [00:00<00:04, 60.00it/s, now=Non\u001b[A\n",
      "chunk:  59%|▌| 150/254 [00:00<00:00, 871.71it/s, now=\u001b[A\n",
      "chunk:  94%|▉| 238/254 [00:00<00:00, 840.92it/s, now=\u001b[A\n",
      "chunk:   7%| | 26/354 [09:04<00:11, 27.78it/s, now=No\u001b[A"
     ]
    },
    {
     "name": "stdout",
     "output_type": "stream",
     "text": [
      "MoviePy - Done.\n"
     ]
    },
    {
     "name": "stderr",
     "output_type": "stream",
     "text": [
      "chunk:   7%| | 26/354 [09:04<00:11, 27.78it/s, now=No"
     ]
    },
    {
     "name": "stdout",
     "output_type": "stream",
     "text": [
      "MoviePy - Writing audio in C:\\Users\\Welcome\\Dhairya-Python\\sarcasm detection\\audio_context\\2_34_c.wav\n"
     ]
    },
    {
     "name": "stderr",
     "output_type": "stream",
     "text": [
      "\n",
      "chunk:   0%|        | 0/80 [00:00<?, ?it/s, now=None]\u001b[A\n",
      "chunk:   4%| | 3/80 [00:00<00:02, 28.04it/s, now=None\u001b[A\n",
      "chunk:   7%| | 26/354 [09:05<00:11, 27.78it/s, now=No\u001b[A"
     ]
    },
    {
     "name": "stdout",
     "output_type": "stream",
     "text": [
      "MoviePy - Done.\n"
     ]
    },
    {
     "name": "stderr",
     "output_type": "stream",
     "text": [
      "chunk:   7%| | 26/354 [09:05<00:11, 27.78it/s, now=No"
     ]
    },
    {
     "name": "stdout",
     "output_type": "stream",
     "text": [
      "MoviePy - Writing audio in C:\\Users\\Welcome\\Dhairya-Python\\sarcasm detection\\audio_context\\2_350_c.wav\n"
     ]
    },
    {
     "name": "stderr",
     "output_type": "stream",
     "text": [
      "\n",
      "chunk:   0%|       | 0/205 [00:00<?, ?it/s, now=None]\u001b[A\n",
      "chunk:  14%|▏| 29/205 [00:00<00:00, 284.30it/s, now=N\u001b[A\n",
      "chunk:  91%|▉| 187/205 [00:00<00:00, 1040.20it/s, now\u001b[A\n",
      "chunk:   7%| | 26/354 [09:05<00:11, 27.78it/s, now=No\u001b[A"
     ]
    },
    {
     "name": "stdout",
     "output_type": "stream",
     "text": [
      "MoviePy - Done.\n"
     ]
    },
    {
     "name": "stderr",
     "output_type": "stream",
     "text": [
      "chunk:   7%| | 26/354 [09:06<00:11, 27.78it/s, now=No"
     ]
    },
    {
     "name": "stdout",
     "output_type": "stream",
     "text": [
      "MoviePy - Writing audio in C:\\Users\\Welcome\\Dhairya-Python\\sarcasm detection\\audio_context\\2_351_c.wav\n"
     ]
    },
    {
     "name": "stderr",
     "output_type": "stream",
     "text": [
      "\n",
      "chunk:   0%|       | 0/116 [00:00<?, ?it/s, now=None]\u001b[A\n",
      "chunk:  31%|▎| 36/116 [00:00<00:00, 359.98it/s, now=N\u001b[A\n",
      "chunk:   7%| | 26/354 [09:06<00:11, 27.78it/s, now=No\u001b[A"
     ]
    },
    {
     "name": "stdout",
     "output_type": "stream",
     "text": [
      "MoviePy - Done.\n"
     ]
    },
    {
     "name": "stderr",
     "output_type": "stream",
     "text": [
      "chunk:   7%| | 26/354 [09:07<00:11, 27.78it/s, now=No"
     ]
    },
    {
     "name": "stdout",
     "output_type": "stream",
     "text": [
      "MoviePy - Writing audio in C:\\Users\\Welcome\\Dhairya-Python\\sarcasm detection\\audio_context\\2_352_c.wav\n"
     ]
    },
    {
     "name": "stderr",
     "output_type": "stream",
     "text": [
      "\n",
      "chunk:   0%|       | 0/143 [00:00<?, ?it/s, now=None]\u001b[A\n",
      "chunk:  28%|▎| 40/143 [00:00<00:00, 399.98it/s, now=N\u001b[A\n",
      "chunk:   7%| | 26/354 [09:07<00:11, 27.78it/s, now=No\u001b[A"
     ]
    },
    {
     "name": "stdout",
     "output_type": "stream",
     "text": [
      "MoviePy - Done.\n"
     ]
    },
    {
     "name": "stderr",
     "output_type": "stream",
     "text": [
      "chunk:   7%| | 26/354 [09:07<00:11, 27.78it/s, now=No"
     ]
    },
    {
     "name": "stdout",
     "output_type": "stream",
     "text": [
      "MoviePy - Writing audio in C:\\Users\\Welcome\\Dhairya-Python\\sarcasm detection\\audio_context\\2_353_c.wav\n"
     ]
    },
    {
     "name": "stderr",
     "output_type": "stream",
     "text": [
      "\n",
      "chunk:   0%|       | 0/310 [00:00<?, ?it/s, now=None]\u001b[A\n",
      "chunk:   1%| | 4/310 [00:00<00:07, 40.00it/s, now=Non\u001b[A\n",
      "chunk:  35%|▎| 107/310 [00:00<00:00, 622.32it/s, now=\u001b[A\n",
      "chunk:  66%|▋| 204/310 [00:00<00:00, 724.79it/s, now=\u001b[A\n",
      "chunk:  99%|▉| 306/310 [00:00<00:00, 836.08it/s, now=\u001b[A\n",
      "chunk:   7%| | 26/354 [09:08<00:11, 27.78it/s, now=No\u001b[A"
     ]
    },
    {
     "name": "stdout",
     "output_type": "stream",
     "text": [
      "MoviePy - Done.\n"
     ]
    },
    {
     "name": "stderr",
     "output_type": "stream",
     "text": [
      "chunk:   7%| | 26/354 [09:08<00:11, 27.78it/s, now=No"
     ]
    },
    {
     "name": "stdout",
     "output_type": "stream",
     "text": [
      "MoviePy - Writing audio in C:\\Users\\Welcome\\Dhairya-Python\\sarcasm detection\\audio_context\\2_356_c.wav\n"
     ]
    },
    {
     "name": "stderr",
     "output_type": "stream",
     "text": [
      "\n",
      "chunk:   0%|       | 0/400 [00:00<?, ?it/s, now=None]\u001b[A\n",
      "chunk:   6%| | 24/400 [00:00<00:01, 239.99it/s, now=N\u001b[A\n",
      "chunk:  37%|▎| 148/400 [00:00<00:00, 828.19it/s, now=\u001b[A\n",
      "chunk:  58%|▌| 231/400 [00:00<00:00, 711.96it/s, now=\u001b[A\n",
      "chunk:  76%|▊| 306/400 [00:00<00:00, 688.52it/s, now=\u001b[A\n",
      "chunk:   7%| | 26/354 [09:09<00:11, 27.78it/s, now=No\u001b[A"
     ]
    },
    {
     "name": "stdout",
     "output_type": "stream",
     "text": [
      "MoviePy - Done.\n"
     ]
    },
    {
     "name": "stderr",
     "output_type": "stream",
     "text": [
      "chunk:   7%| | 26/354 [09:10<00:11, 27.78it/s, now=No"
     ]
    },
    {
     "name": "stdout",
     "output_type": "stream",
     "text": [
      "MoviePy - Writing audio in C:\\Users\\Welcome\\Dhairya-Python\\sarcasm detection\\audio_context\\2_357_c.wav\n"
     ]
    },
    {
     "name": "stderr",
     "output_type": "stream",
     "text": [
      "\n",
      "chunk:   0%|       | 0/392 [00:00<?, ?it/s, now=None]\u001b[A\n",
      "chunk:   1%| | 3/392 [00:00<00:13, 29.70it/s, now=Non\u001b[A\n",
      "chunk:  39%|▍| 153/392 [00:00<00:00, 860.73it/s, now=\u001b[A\n",
      "chunk:  75%|▊| 294/392 [00:00<00:00, 1106.24it/s, now\u001b[A\n",
      "chunk:   7%| | 26/354 [09:10<00:11, 27.78it/s, now=No\u001b[A"
     ]
    },
    {
     "name": "stdout",
     "output_type": "stream",
     "text": [
      "MoviePy - Done.\n"
     ]
    },
    {
     "name": "stderr",
     "output_type": "stream",
     "text": [
      "chunk:   7%| | 26/354 [09:11<00:11, 27.78it/s, now=No"
     ]
    },
    {
     "name": "stdout",
     "output_type": "stream",
     "text": [
      "MoviePy - Writing audio in C:\\Users\\Welcome\\Dhairya-Python\\sarcasm detection\\audio_context\\2_358_c.wav\n"
     ]
    },
    {
     "name": "stderr",
     "output_type": "stream",
     "text": [
      "\n",
      "chunk:   0%|       | 0/266 [00:00<?, ?it/s, now=None]\u001b[A\n",
      "chunk:  18%|▏| 47/266 [00:00<00:00, 469.97it/s, now=N\u001b[A\n",
      "chunk:  58%|▌| 153/266 [00:00<00:00, 680.84it/s, now=\u001b[A\n",
      "chunk:   7%| | 26/354 [09:11<00:11, 27.78it/s, now=No\u001b[A"
     ]
    },
    {
     "name": "stdout",
     "output_type": "stream",
     "text": [
      "MoviePy - Done.\n"
     ]
    },
    {
     "name": "stderr",
     "output_type": "stream",
     "text": [
      "chunk:   7%| | 26/354 [09:12<00:11, 27.78it/s, now=No"
     ]
    },
    {
     "name": "stdout",
     "output_type": "stream",
     "text": [
      "MoviePy - Writing audio in C:\\Users\\Welcome\\Dhairya-Python\\sarcasm detection\\audio_context\\2_359_c.wav\n"
     ]
    },
    {
     "name": "stderr",
     "output_type": "stream",
     "text": [
      "\n",
      "chunk:   0%|        | 0/81 [00:00<?, ?it/s, now=None]\u001b[A\n",
      "chunk:  14%|▏| 11/81 [00:00<00:00, 109.99it/s, now=No\u001b[A\n",
      "chunk:   7%| | 26/354 [09:12<00:11, 27.78it/s, now=No\u001b[A"
     ]
    },
    {
     "name": "stdout",
     "output_type": "stream",
     "text": [
      "MoviePy - Done.\n"
     ]
    },
    {
     "name": "stderr",
     "output_type": "stream",
     "text": [
      "chunk:   7%| | 26/354 [09:13<00:11, 27.78it/s, now=No"
     ]
    },
    {
     "name": "stdout",
     "output_type": "stream",
     "text": [
      "MoviePy - Writing audio in C:\\Users\\Welcome\\Dhairya-Python\\sarcasm detection\\audio_context\\2_35_c.wav\n"
     ]
    },
    {
     "name": "stderr",
     "output_type": "stream",
     "text": [
      "\n",
      "chunk:   0%|       | 0/276 [00:00<?, ?it/s, now=None]\u001b[A\n",
      "chunk:  16%|▏| 43/276 [00:00<00:00, 429.98it/s, now=N\u001b[A\n",
      "chunk:  74%|▋| 204/276 [00:00<00:00, 1104.56it/s, now\u001b[A\n",
      "chunk:   7%| | 26/354 [09:13<00:11, 27.78it/s, now=No\u001b[A"
     ]
    },
    {
     "name": "stdout",
     "output_type": "stream",
     "text": [
      "MoviePy - Done.\n"
     ]
    },
    {
     "name": "stderr",
     "output_type": "stream",
     "text": [
      "chunk:   7%| | 26/354 [09:14<00:11, 27.78it/s, now=No"
     ]
    },
    {
     "name": "stdout",
     "output_type": "stream",
     "text": [
      "MoviePy - Writing audio in C:\\Users\\Welcome\\Dhairya-Python\\sarcasm detection\\audio_context\\2_361_c.wav\n"
     ]
    },
    {
     "name": "stderr",
     "output_type": "stream",
     "text": [
      "\n",
      "chunk:   0%|       | 0/391 [00:00<?, ?it/s, now=None]\u001b[A\n",
      "chunk:   1%| | 3/391 [00:00<00:13, 28.04it/s, now=Non\u001b[A\n",
      "chunk:  38%|▍| 148/391 [00:00<00:00, 841.00it/s, now=\u001b[A\n",
      "chunk:  66%|▋| 260/391 [00:00<00:00, 966.41it/s, now=\u001b[A\n",
      "chunk:  98%|▉| 385/391 [00:00<00:00, 1077.29it/s, now\u001b[A\n",
      "chunk:   7%| | 26/354 [09:14<00:11, 27.78it/s, now=No\u001b[A"
     ]
    },
    {
     "name": "stdout",
     "output_type": "stream",
     "text": [
      "MoviePy - Done.\n"
     ]
    },
    {
     "name": "stderr",
     "output_type": "stream",
     "text": [
      "chunk:   7%| | 26/354 [09:15<00:11, 27.78it/s, now=No"
     ]
    },
    {
     "name": "stdout",
     "output_type": "stream",
     "text": [
      "MoviePy - Writing audio in C:\\Users\\Welcome\\Dhairya-Python\\sarcasm detection\\audio_context\\2_365_c.wav\n"
     ]
    },
    {
     "name": "stderr",
     "output_type": "stream",
     "text": [
      "\n",
      "chunk:   0%|       | 0/154 [00:00<?, ?it/s, now=None]\u001b[A\n",
      "chunk:   2%| | 3/154 [00:00<00:05, 30.00it/s, now=Non\u001b[A\n",
      "chunk:  66%|▋| 102/154 [00:00<00:00, 567.95it/s, now=\u001b[A\n",
      "chunk:   7%| | 26/354 [09:15<00:11, 27.78it/s, now=No\u001b[A"
     ]
    },
    {
     "name": "stdout",
     "output_type": "stream",
     "text": [
      "MoviePy - Done.\n"
     ]
    },
    {
     "name": "stderr",
     "output_type": "stream",
     "text": [
      "chunk:   7%| | 26/354 [09:16<00:11, 27.78it/s, now=No"
     ]
    },
    {
     "name": "stdout",
     "output_type": "stream",
     "text": [
      "MoviePy - Writing audio in C:\\Users\\Welcome\\Dhairya-Python\\sarcasm detection\\audio_context\\2_367_c.wav\n"
     ]
    },
    {
     "name": "stderr",
     "output_type": "stream",
     "text": [
      "\n",
      "chunk:   0%|       | 0/311 [00:00<?, ?it/s, now=None]\u001b[A\n",
      "chunk:   1%| | 4/311 [00:00<00:07, 40.00it/s, now=Non\u001b[A\n",
      "chunk:  40%|▍| 124/311 [00:00<00:00, 722.31it/s, now=\u001b[A\n",
      "chunk:  66%|▋| 204/311 [00:00<00:00, 674.59it/s, now=\u001b[A\n",
      "chunk:  91%|▉| 282/311 [00:00<00:00, 713.30it/s, now=\u001b[A\n",
      "chunk:   7%| | 26/354 [09:16<00:11, 27.78it/s, now=No\u001b[A"
     ]
    },
    {
     "name": "stdout",
     "output_type": "stream",
     "text": [
      "MoviePy - Done.\n"
     ]
    },
    {
     "name": "stderr",
     "output_type": "stream",
     "text": [
      "chunk:   7%| | 26/354 [09:17<00:11, 27.78it/s, now=No"
     ]
    },
    {
     "name": "stdout",
     "output_type": "stream",
     "text": [
      "MoviePy - Writing audio in C:\\Users\\Welcome\\Dhairya-Python\\sarcasm detection\\audio_context\\2_369_c.wav\n"
     ]
    },
    {
     "name": "stderr",
     "output_type": "stream",
     "text": [
      "\n",
      "chunk:   0%|       | 0/875 [00:00<?, ?it/s, now=None]\u001b[A\n",
      "chunk:   3%| | 29/875 [00:00<00:02, 289.98it/s, now=N\u001b[A\n",
      "chunk:  22%|▏| 191/875 [00:00<00:00, 1072.29it/s, now\u001b[A\n",
      "chunk:  35%|▎| 306/875 [00:00<00:00, 1083.02it/s, now\u001b[A\n",
      "chunk:  52%|▌| 459/875 [00:00<00:00, 1219.07it/s, now\u001b[A\n",
      "chunk:  70%|▋| 612/875 [00:00<00:00, 1291.78it/s, now\u001b[A\n",
      "chunk:  86%|▊| 753/875 [00:00<00:00, 1330.47it/s, now\u001b[A\n",
      "chunk:   7%| | 26/354 [09:17<00:11, 27.78it/s, now=No\u001b[A"
     ]
    },
    {
     "name": "stdout",
     "output_type": "stream",
     "text": [
      "MoviePy - Done.\n"
     ]
    },
    {
     "name": "stderr",
     "output_type": "stream",
     "text": [
      "chunk:   7%| | 26/354 [09:18<00:11, 27.78it/s, now=No"
     ]
    },
    {
     "name": "stdout",
     "output_type": "stream",
     "text": [
      "MoviePy - Writing audio in C:\\Users\\Welcome\\Dhairya-Python\\sarcasm detection\\audio_context\\2_36_c.wav\n"
     ]
    },
    {
     "name": "stderr",
     "output_type": "stream",
     "text": [
      "\n",
      "chunk:   0%|       | 0/262 [00:00<?, ?it/s, now=None]\u001b[A\n",
      "chunk:   1%| | 3/262 [00:00<00:12, 20.69it/s, now=Non\u001b[A\n",
      "chunk:  53%|▌| 140/262 [00:00<00:00, 690.28it/s, now=\u001b[A\n",
      "chunk:  85%|▊| 224/262 [00:00<00:00, 681.67it/s, now=\u001b[A\n",
      "chunk:   7%| | 26/354 [09:18<00:11, 27.78it/s, now=No\u001b[A"
     ]
    },
    {
     "name": "stdout",
     "output_type": "stream",
     "text": [
      "MoviePy - Done.\n"
     ]
    },
    {
     "name": "stderr",
     "output_type": "stream",
     "text": [
      "chunk:   7%| | 26/354 [09:19<00:11, 27.78it/s, now=No"
     ]
    },
    {
     "name": "stdout",
     "output_type": "stream",
     "text": [
      "MoviePy - Writing audio in C:\\Users\\Welcome\\Dhairya-Python\\sarcasm detection\\audio_context\\2_370_c.wav\n"
     ]
    },
    {
     "name": "stderr",
     "output_type": "stream",
     "text": [
      "\n",
      "chunk:   0%|       | 0/344 [00:00<?, ?it/s, now=None]\u001b[A\n",
      "chunk:   8%| | 29/344 [00:00<00:01, 289.98it/s, now=N\u001b[A\n",
      "chunk:  53%|▌| 182/344 [00:00<00:00, 1019.35it/s, now\u001b[A\n",
      "chunk:  93%|▉| 320/344 [00:00<00:00, 1184.00it/s, now\u001b[A\n",
      "chunk:   7%| | 26/354 [09:19<00:11, 27.78it/s, now=No\u001b[A"
     ]
    },
    {
     "name": "stdout",
     "output_type": "stream",
     "text": [
      "MoviePy - Done.\n"
     ]
    },
    {
     "name": "stderr",
     "output_type": "stream",
     "text": [
      "chunk:   7%| | 26/354 [09:20<00:11, 27.78it/s, now=No"
     ]
    },
    {
     "name": "stdout",
     "output_type": "stream",
     "text": [
      "MoviePy - Writing audio in C:\\Users\\Welcome\\Dhairya-Python\\sarcasm detection\\audio_context\\2_371_c.wav\n"
     ]
    },
    {
     "name": "stderr",
     "output_type": "stream",
     "text": [
      "\n",
      "chunk:   0%|       | 0/140 [00:00<?, ?it/s, now=None]\u001b[A\n",
      "chunk:   2%| | 3/140 [00:00<00:05, 24.79it/s, now=Non\u001b[A\n",
      "chunk:   7%| | 26/354 [09:20<00:11, 27.78it/s, now=No\u001b[A"
     ]
    },
    {
     "name": "stdout",
     "output_type": "stream",
     "text": [
      "MoviePy - Done.\n"
     ]
    },
    {
     "name": "stderr",
     "output_type": "stream",
     "text": [
      "chunk:   7%| | 26/354 [09:21<00:11, 27.78it/s, now=No"
     ]
    },
    {
     "name": "stdout",
     "output_type": "stream",
     "text": [
      "MoviePy - Writing audio in C:\\Users\\Welcome\\Dhairya-Python\\sarcasm detection\\audio_context\\2_372_c.wav\n"
     ]
    },
    {
     "name": "stderr",
     "output_type": "stream",
     "text": [
      "\n",
      "chunk:   0%|       | 0/204 [00:00<?, ?it/s, now=None]\u001b[A\n",
      "chunk:  15%|▏| 31/204 [00:00<00:00, 309.98it/s, now=N\u001b[A\n",
      "chunk:  91%|▉| 185/204 [00:00<00:00, 1033.47it/s, now\u001b[A\n",
      "chunk:   7%| | 26/354 [09:21<00:11, 27.78it/s, now=No\u001b[A"
     ]
    },
    {
     "name": "stdout",
     "output_type": "stream",
     "text": [
      "MoviePy - Done.\n"
     ]
    },
    {
     "name": "stderr",
     "output_type": "stream",
     "text": [
      "chunk:   7%| | 26/354 [09:21<00:11, 27.78it/s, now=No"
     ]
    },
    {
     "name": "stdout",
     "output_type": "stream",
     "text": [
      "MoviePy - Writing audio in C:\\Users\\Welcome\\Dhairya-Python\\sarcasm detection\\audio_context\\2_373_c.wav\n"
     ]
    },
    {
     "name": "stderr",
     "output_type": "stream",
     "text": [
      "\n",
      "chunk:   0%|        | 0/40 [00:00<?, ?it/s, now=None]\u001b[A\n",
      "chunk:   8%| | 3/40 [00:00<00:01, 29.41it/s, now=None\u001b[A\n",
      "chunk:   7%| | 26/354 [09:21<00:11, 27.78it/s, now=No\u001b[A"
     ]
    },
    {
     "name": "stdout",
     "output_type": "stream",
     "text": [
      "MoviePy - Done.\n"
     ]
    },
    {
     "name": "stderr",
     "output_type": "stream",
     "text": [
      "chunk:   7%| | 26/354 [09:22<00:11, 27.78it/s, now=No"
     ]
    },
    {
     "name": "stdout",
     "output_type": "stream",
     "text": [
      "MoviePy - Writing audio in C:\\Users\\Welcome\\Dhairya-Python\\sarcasm detection\\audio_context\\2_374_c.wav\n"
     ]
    },
    {
     "name": "stderr",
     "output_type": "stream",
     "text": [
      "\n",
      "chunk:   0%|       | 0/217 [00:00<?, ?it/s, now=None]\u001b[A\n",
      "chunk:  13%|▏| 29/217 [00:00<00:00, 284.30it/s, now=N\u001b[A\n",
      "chunk:  94%|▉| 204/217 [00:00<00:00, 1119.78it/s, now\u001b[A\n",
      "chunk:   7%| | 26/354 [09:22<00:11, 27.78it/s, now=No\u001b[A"
     ]
    },
    {
     "name": "stdout",
     "output_type": "stream",
     "text": [
      "MoviePy - Done.\n"
     ]
    },
    {
     "name": "stderr",
     "output_type": "stream",
     "text": [
      "chunk:   7%| | 26/354 [09:23<00:11, 27.78it/s, now=No"
     ]
    },
    {
     "name": "stdout",
     "output_type": "stream",
     "text": [
      "MoviePy - Writing audio in C:\\Users\\Welcome\\Dhairya-Python\\sarcasm detection\\audio_context\\2_375_c.wav\n"
     ]
    },
    {
     "name": "stderr",
     "output_type": "stream",
     "text": [
      "\n",
      "chunk:   0%|       | 0/173 [00:00<?, ?it/s, now=None]\u001b[A\n",
      "chunk:  17%|▏| 29/173 [00:00<00:00, 289.98it/s, now=N\u001b[A\n",
      "chunk:  88%|▉| 153/173 [00:00<00:00, 788.48it/s, now=\u001b[A\n",
      "chunk:   7%| | 26/354 [09:23<00:11, 27.78it/s, now=No\u001b[A"
     ]
    },
    {
     "name": "stdout",
     "output_type": "stream",
     "text": [
      "MoviePy - Done.\n"
     ]
    },
    {
     "name": "stderr",
     "output_type": "stream",
     "text": [
      "chunk:   7%| | 26/354 [09:24<00:11, 27.78it/s, now=No"
     ]
    },
    {
     "name": "stdout",
     "output_type": "stream",
     "text": [
      "MoviePy - Writing audio in C:\\Users\\Welcome\\Dhairya-Python\\sarcasm detection\\audio_context\\2_376_c.wav\n"
     ]
    },
    {
     "name": "stderr",
     "output_type": "stream",
     "text": [
      "\n",
      "chunk:   0%|        | 0/88 [00:00<?, ?it/s, now=None]\u001b[A\n",
      "chunk:  20%|▏| 18/88 [00:00<00:00, 179.99it/s, now=No\u001b[A\n",
      "chunk:   7%| | 26/354 [09:24<00:11, 27.78it/s, now=No\u001b[A"
     ]
    },
    {
     "name": "stdout",
     "output_type": "stream",
     "text": [
      "MoviePy - Done.\n"
     ]
    },
    {
     "name": "stderr",
     "output_type": "stream",
     "text": [
      "chunk:   7%| | 26/354 [09:24<00:11, 27.78it/s, now=No"
     ]
    },
    {
     "name": "stdout",
     "output_type": "stream",
     "text": [
      "MoviePy - Writing audio in C:\\Users\\Welcome\\Dhairya-Python\\sarcasm detection\\audio_context\\2_377_c.wav\n"
     ]
    },
    {
     "name": "stderr",
     "output_type": "stream",
     "text": [
      "\n",
      "chunk:   0%|       | 0/400 [00:00<?, ?it/s, now=None]\u001b[A\n",
      "chunk:   7%| | 29/400 [00:00<00:01, 289.98it/s, now=N\u001b[A\n",
      "chunk:  45%|▍| 179/400 [00:00<00:00, 1001.71it/s, now\u001b[A\n",
      "chunk:  76%|▊| 306/400 [00:00<00:00, 1094.20it/s, now\u001b[A\n",
      "chunk:   7%| | 26/354 [09:25<00:11, 27.78it/s, now=No\u001b[A"
     ]
    },
    {
     "name": "stdout",
     "output_type": "stream",
     "text": [
      "MoviePy - Done.\n"
     ]
    },
    {
     "name": "stderr",
     "output_type": "stream",
     "text": [
      "chunk:   7%| | 26/354 [09:25<00:11, 27.78it/s, now=No"
     ]
    },
    {
     "name": "stdout",
     "output_type": "stream",
     "text": [
      "MoviePy - Writing audio in C:\\Users\\Welcome\\Dhairya-Python\\sarcasm detection\\audio_context\\2_378_c.wav\n"
     ]
    },
    {
     "name": "stderr",
     "output_type": "stream",
     "text": [
      "\n",
      "chunk:   0%|       | 0/143 [00:00<?, ?it/s, now=None]\u001b[A\n",
      "chunk:  20%|▏| 29/143 [00:00<00:00, 289.98it/s, now=N\u001b[A\n",
      "chunk:   7%| | 26/354 [09:25<00:11, 27.78it/s, now=No\u001b[A"
     ]
    },
    {
     "name": "stdout",
     "output_type": "stream",
     "text": [
      "MoviePy - Done.\n"
     ]
    },
    {
     "name": "stderr",
     "output_type": "stream",
     "text": [
      "chunk:   7%| | 26/354 [09:26<00:11, 27.78it/s, now=No"
     ]
    },
    {
     "name": "stdout",
     "output_type": "stream",
     "text": [
      "MoviePy - Writing audio in C:\\Users\\Welcome\\Dhairya-Python\\sarcasm detection\\audio_context\\2_380_c.wav\n"
     ]
    },
    {
     "name": "stderr",
     "output_type": "stream",
     "text": [
      "\n",
      "chunk:   0%|       | 0/159 [00:00<?, ?it/s, now=None]\u001b[A\n",
      "chunk:  25%|▏| 39/159 [00:00<00:00, 389.98it/s, now=N\u001b[A\n",
      "chunk:   7%| | 26/354 [09:26<00:11, 27.78it/s, now=No\u001b[A"
     ]
    },
    {
     "name": "stdout",
     "output_type": "stream",
     "text": [
      "MoviePy - Done.\n"
     ]
    },
    {
     "name": "stderr",
     "output_type": "stream",
     "text": [
      "chunk:   7%| | 26/354 [09:27<00:11, 27.78it/s, now=No"
     ]
    },
    {
     "name": "stdout",
     "output_type": "stream",
     "text": [
      "MoviePy - Writing audio in C:\\Users\\Welcome\\Dhairya-Python\\sarcasm detection\\audio_context\\2_381_c.wav\n"
     ]
    },
    {
     "name": "stderr",
     "output_type": "stream",
     "text": [
      "\n",
      "chunk:   0%|       | 0/232 [00:00<?, ?it/s, now=None]\u001b[A\n",
      "chunk:  12%|▏| 29/232 [00:00<00:00, 287.11it/s, now=N\u001b[A\n",
      "chunk:  76%|▊| 177/232 [00:00<00:00, 985.88it/s, now=\u001b[A\n",
      "chunk:   7%| | 26/354 [09:27<00:11, 27.78it/s, now=No\u001b[A"
     ]
    },
    {
     "name": "stdout",
     "output_type": "stream",
     "text": [
      "MoviePy - Done.\n"
     ]
    },
    {
     "name": "stderr",
     "output_type": "stream",
     "text": [
      "chunk:   7%| | 26/354 [09:27<00:11, 27.78it/s, now=No"
     ]
    },
    {
     "name": "stdout",
     "output_type": "stream",
     "text": [
      "MoviePy - Writing audio in C:\\Users\\Welcome\\Dhairya-Python\\sarcasm detection\\audio_context\\2_385_c.wav\n"
     ]
    },
    {
     "name": "stderr",
     "output_type": "stream",
     "text": [
      "\n",
      "chunk:   0%|       | 0/161 [00:00<?, ?it/s, now=None]\u001b[A\n",
      "chunk:  18%|▏| 29/161 [00:00<00:00, 281.54it/s, now=N\u001b[A\n",
      "chunk:  89%|▉| 143/161 [00:00<00:00, 780.32it/s, now=\u001b[A\n",
      "chunk:   7%| | 26/354 [09:28<00:11, 27.78it/s, now=No\u001b[A"
     ]
    },
    {
     "name": "stdout",
     "output_type": "stream",
     "text": [
      "MoviePy - Done.\n"
     ]
    },
    {
     "name": "stderr",
     "output_type": "stream",
     "text": [
      "chunk:   7%| | 26/354 [09:28<00:11, 27.78it/s, now=No"
     ]
    },
    {
     "name": "stdout",
     "output_type": "stream",
     "text": [
      "MoviePy - Writing audio in C:\\Users\\Welcome\\Dhairya-Python\\sarcasm detection\\audio_context\\2_387_c.wav\n"
     ]
    },
    {
     "name": "stderr",
     "output_type": "stream",
     "text": [
      "\n",
      "chunk:   0%|       | 0/269 [00:00<?, ?it/s, now=None]\u001b[A\n",
      "chunk:   1%| | 3/269 [00:00<00:09, 26.78it/s, now=Non\u001b[A\n",
      "chunk:  48%|▍| 129/269 [00:00<00:00, 718.01it/s, now=\u001b[A\n",
      "chunk:  76%|▊| 205/269 [00:00<00:00, 693.49it/s, now=\u001b[A\n",
      "chunk:   7%| | 26/354 [09:29<00:11, 27.78it/s, now=No\u001b[A"
     ]
    },
    {
     "name": "stdout",
     "output_type": "stream",
     "text": [
      "MoviePy - Done.\n"
     ]
    },
    {
     "name": "stderr",
     "output_type": "stream",
     "text": [
      "chunk:   7%| | 26/354 [09:29<00:11, 27.78it/s, now=No"
     ]
    },
    {
     "name": "stdout",
     "output_type": "stream",
     "text": [
      "MoviePy - Writing audio in C:\\Users\\Welcome\\Dhairya-Python\\sarcasm detection\\audio_context\\2_388_c.wav\n"
     ]
    },
    {
     "name": "stderr",
     "output_type": "stream",
     "text": [
      "\n",
      "chunk:   0%|       | 0/111 [00:00<?, ?it/s, now=None]\u001b[A\n",
      "chunk:   3%| | 3/111 [00:00<00:03, 29.41it/s, now=Non\u001b[A\n",
      "chunk:   7%| | 26/354 [09:30<00:11, 27.78it/s, now=No\u001b[A"
     ]
    },
    {
     "name": "stdout",
     "output_type": "stream",
     "text": [
      "MoviePy - Done.\n"
     ]
    },
    {
     "name": "stderr",
     "output_type": "stream",
     "text": [
      "chunk:   7%| | 26/354 [09:30<00:11, 27.78it/s, now=No"
     ]
    },
    {
     "name": "stdout",
     "output_type": "stream",
     "text": [
      "MoviePy - Writing audio in C:\\Users\\Welcome\\Dhairya-Python\\sarcasm detection\\audio_context\\2_389_c.wav\n"
     ]
    },
    {
     "name": "stderr",
     "output_type": "stream",
     "text": [
      "\n",
      "chunk:   0%|       | 0/267 [00:00<?, ?it/s, now=None]\u001b[A\n",
      "chunk:   3%| | 7/267 [00:00<00:03, 70.00it/s, now=Non\u001b[A\n",
      "chunk:  62%|▌| 166/267 [00:00<00:00, 964.06it/s, now=\u001b[A\n",
      "chunk:   7%| | 26/354 [09:30<00:11, 27.78it/s, now=No\u001b[A"
     ]
    },
    {
     "name": "stdout",
     "output_type": "stream",
     "text": [
      "MoviePy - Done.\n"
     ]
    },
    {
     "name": "stderr",
     "output_type": "stream",
     "text": [
      "chunk:   7%| | 26/354 [09:31<00:11, 27.78it/s, now=No"
     ]
    },
    {
     "name": "stdout",
     "output_type": "stream",
     "text": [
      "MoviePy - Writing audio in C:\\Users\\Welcome\\Dhairya-Python\\sarcasm detection\\audio_context\\2_38_c.wav\n"
     ]
    },
    {
     "name": "stderr",
     "output_type": "stream",
     "text": [
      "\n",
      "chunk:   0%|       | 0/132 [00:00<?, ?it/s, now=None]\u001b[A\n",
      "chunk:   2%| | 3/132 [00:00<00:04, 29.12it/s, now=Non\u001b[A\n",
      "chunk:  77%|▊| 102/132 [00:00<00:00, 394.75it/s, now=\u001b[A\n",
      "chunk:   7%| | 26/354 [09:32<00:11, 27.78it/s, now=No\u001b[A"
     ]
    },
    {
     "name": "stdout",
     "output_type": "stream",
     "text": [
      "MoviePy - Done.\n"
     ]
    },
    {
     "name": "stderr",
     "output_type": "stream",
     "text": [
      "chunk:   7%| | 26/354 [09:32<00:11, 27.78it/s, now=No"
     ]
    },
    {
     "name": "stdout",
     "output_type": "stream",
     "text": [
      "MoviePy - Writing audio in C:\\Users\\Welcome\\Dhairya-Python\\sarcasm detection\\audio_context\\2_390_c.wav\n"
     ]
    },
    {
     "name": "stderr",
     "output_type": "stream",
     "text": [
      "\n",
      "chunk:   0%|       | 0/122 [00:00<?, ?it/s, now=None]\u001b[A\n",
      "chunk:   2%| | 3/122 [00:00<00:05, 22.39it/s, now=Non\u001b[A\n",
      "chunk:  84%|▊| 102/122 [00:00<00:00, 505.98it/s, now=\u001b[A\n",
      "chunk:   7%| | 26/354 [09:32<00:11, 27.78it/s, now=No\u001b[A"
     ]
    },
    {
     "name": "stdout",
     "output_type": "stream",
     "text": [
      "MoviePy - Done.\n"
     ]
    },
    {
     "name": "stderr",
     "output_type": "stream",
     "text": [
      "chunk:   7%| | 26/354 [09:33<00:11, 27.78it/s, now=No"
     ]
    },
    {
     "name": "stdout",
     "output_type": "stream",
     "text": [
      "MoviePy - Writing audio in C:\\Users\\Welcome\\Dhairya-Python\\sarcasm detection\\audio_context\\2_392_c.wav\n"
     ]
    },
    {
     "name": "stderr",
     "output_type": "stream",
     "text": [
      "\n",
      "chunk:   0%|        | 0/77 [00:00<?, ?it/s, now=None]\u001b[A\n",
      "chunk:  17%|▏| 13/77 [00:00<00:00, 122.63it/s, now=No\u001b[A\n",
      "chunk:   7%| | 26/354 [09:33<00:11, 27.78it/s, now=No\u001b[A"
     ]
    },
    {
     "name": "stdout",
     "output_type": "stream",
     "text": [
      "MoviePy - Done.\n"
     ]
    },
    {
     "name": "stderr",
     "output_type": "stream",
     "text": [
      "chunk:   7%| | 26/354 [09:34<00:11, 27.78it/s, now=No"
     ]
    },
    {
     "name": "stdout",
     "output_type": "stream",
     "text": [
      "MoviePy - Writing audio in C:\\Users\\Welcome\\Dhairya-Python\\sarcasm detection\\audio_context\\2_393_c.wav\n"
     ]
    },
    {
     "name": "stderr",
     "output_type": "stream",
     "text": [
      "\n",
      "chunk:   0%|        | 0/64 [00:00<?, ?it/s, now=None]\u001b[A\n",
      "chunk:   5%| | 3/64 [00:00<00:02, 27.52it/s, now=None\u001b[A\n",
      "chunk:   7%| | 26/354 [09:34<00:11, 27.78it/s, now=No\u001b[A"
     ]
    },
    {
     "name": "stdout",
     "output_type": "stream",
     "text": [
      "MoviePy - Done.\n"
     ]
    },
    {
     "name": "stderr",
     "output_type": "stream",
     "text": [
      "chunk:   7%| | 26/354 [09:35<00:11, 27.78it/s, now=No"
     ]
    },
    {
     "name": "stdout",
     "output_type": "stream",
     "text": [
      "MoviePy - Writing audio in C:\\Users\\Welcome\\Dhairya-Python\\sarcasm detection\\audio_context\\2_397_c.wav\n"
     ]
    },
    {
     "name": "stderr",
     "output_type": "stream",
     "text": [
      "\n",
      "chunk:   0%|       | 0/279 [00:00<?, ?it/s, now=None]\u001b[A\n",
      "chunk:  18%|▏| 49/279 [00:00<00:00, 489.97it/s, now=N\u001b[A\n",
      "chunk:  55%|▌| 153/279 [00:00<00:00, 727.85it/s, now=\u001b[A\n",
      "chunk:  91%|▉| 255/279 [00:00<00:00, 845.95it/s, now=\u001b[A\n",
      "chunk:   7%| | 26/354 [09:35<00:11, 27.78it/s, now=No\u001b[A"
     ]
    },
    {
     "name": "stdout",
     "output_type": "stream",
     "text": [
      "MoviePy - Done.\n"
     ]
    },
    {
     "name": "stderr",
     "output_type": "stream",
     "text": [
      "chunk:   7%| | 26/354 [09:36<00:11, 27.78it/s, now=No"
     ]
    },
    {
     "name": "stdout",
     "output_type": "stream",
     "text": [
      "MoviePy - Writing audio in C:\\Users\\Welcome\\Dhairya-Python\\sarcasm detection\\audio_context\\2_398_c.wav\n"
     ]
    },
    {
     "name": "stderr",
     "output_type": "stream",
     "text": [
      "\n",
      "chunk:   0%|       | 0/237 [00:00<?, ?it/s, now=None]\u001b[A\n",
      "chunk:   1%| | 3/237 [00:00<00:13, 17.04it/s, now=Non\u001b[A\n",
      "chunk:  43%|▍| 102/237 [00:00<00:00, 448.91it/s, now=\u001b[A\n",
      "chunk:  86%|▊| 204/237 [00:00<00:00, 624.49it/s, now=\u001b[A\n",
      "chunk:   7%| | 26/354 [09:36<00:11, 27.78it/s, now=No\u001b[A"
     ]
    },
    {
     "name": "stdout",
     "output_type": "stream",
     "text": [
      "MoviePy - Done.\n"
     ]
    },
    {
     "name": "stderr",
     "output_type": "stream",
     "text": [
      "chunk:   7%| | 26/354 [09:37<00:11, 27.78it/s, now=No"
     ]
    },
    {
     "name": "stdout",
     "output_type": "stream",
     "text": [
      "MoviePy - Writing audio in C:\\Users\\Welcome\\Dhairya-Python\\sarcasm detection\\audio_context\\2_39_c.wav\n"
     ]
    },
    {
     "name": "stderr",
     "output_type": "stream",
     "text": [
      "\n",
      "chunk:   0%|       | 0/177 [00:00<?, ?it/s, now=None]\u001b[A\n",
      "chunk:   2%| | 3/177 [00:00<00:07, 24.39it/s, now=Non\u001b[A\n",
      "chunk:  86%|▊| 153/177 [00:00<00:00, 808.57it/s, now=\u001b[A\n",
      "chunk:   7%| | 26/354 [09:37<00:11, 27.78it/s, now=No\u001b[A"
     ]
    },
    {
     "name": "stdout",
     "output_type": "stream",
     "text": [
      "MoviePy - Done.\n"
     ]
    },
    {
     "name": "stderr",
     "output_type": "stream",
     "text": [
      "chunk:   7%| | 26/354 [09:38<00:11, 27.78it/s, now=No"
     ]
    },
    {
     "name": "stdout",
     "output_type": "stream",
     "text": [
      "MoviePy - Writing audio in C:\\Users\\Welcome\\Dhairya-Python\\sarcasm detection\\audio_context\\2_3_c.wav\n"
     ]
    },
    {
     "name": "stderr",
     "output_type": "stream",
     "text": [
      "\n",
      "chunk:   0%|       | 0/184 [00:00<?, ?it/s, now=None]\u001b[A\n",
      "chunk:   2%| | 3/184 [00:00<00:11, 15.96it/s, now=Non\u001b[A\n",
      "chunk:  29%|▎| 54/184 [00:00<00:00, 221.61it/s, now=N\u001b[A\n",
      "chunk:  46%|▍| 84/184 [00:00<00:00, 231.03it/s, now=N\u001b[A\n",
      "chunk:  80%|▊| 147/184 [00:00<00:00, 362.48it/s, now=\u001b[A\n",
      "chunk:   7%| | 26/354 [09:38<00:11, 27.78it/s, now=No\u001b[A"
     ]
    },
    {
     "name": "stdout",
     "output_type": "stream",
     "text": [
      "MoviePy - Done.\n"
     ]
    },
    {
     "name": "stderr",
     "output_type": "stream",
     "text": [
      "chunk:   7%| | 26/354 [09:39<00:11, 27.78it/s, now=No"
     ]
    },
    {
     "name": "stdout",
     "output_type": "stream",
     "text": [
      "MoviePy - Writing audio in C:\\Users\\Welcome\\Dhairya-Python\\sarcasm detection\\audio_context\\2_400_c.wav\n"
     ]
    },
    {
     "name": "stderr",
     "output_type": "stream",
     "text": [
      "\n",
      "chunk:   0%|       | 0/373 [00:00<?, ?it/s, now=None]\u001b[A\n",
      "chunk:   6%| | 21/373 [00:00<00:01, 209.99it/s, now=N\u001b[A\n",
      "chunk:  38%|▍| 142/373 [00:00<00:00, 798.19it/s, now=\u001b[A\n",
      "chunk:  62%|▌| 232/373 [00:00<00:00, 844.65it/s, now=\u001b[A\n",
      "chunk:  87%|▊| 325/373 [00:00<00:00, 878.33it/s, now=\u001b[A\n",
      "chunk:   7%| | 26/354 [09:40<00:11, 27.78it/s, now=No\u001b[A"
     ]
    },
    {
     "name": "stdout",
     "output_type": "stream",
     "text": [
      "MoviePy - Done.\n"
     ]
    },
    {
     "name": "stderr",
     "output_type": "stream",
     "text": [
      "chunk:   7%| | 26/354 [09:40<00:11, 27.78it/s, now=No"
     ]
    },
    {
     "name": "stdout",
     "output_type": "stream",
     "text": [
      "MoviePy - Writing audio in C:\\Users\\Welcome\\Dhairya-Python\\sarcasm detection\\audio_context\\2_405_c.wav\n"
     ]
    },
    {
     "name": "stderr",
     "output_type": "stream",
     "text": [
      "\n",
      "chunk:   0%|       | 0/153 [00:00<?, ?it/s, now=None]\u001b[A\n",
      "chunk:  35%|▎| 53/153 [00:00<00:00, 529.97it/s, now=N\u001b[A\n",
      "chunk:   7%| | 26/354 [09:40<00:11, 27.78it/s, now=No\u001b[A"
     ]
    },
    {
     "name": "stdout",
     "output_type": "stream",
     "text": [
      "MoviePy - Done.\n"
     ]
    },
    {
     "name": "stderr",
     "output_type": "stream",
     "text": [
      "chunk:   7%| | 26/354 [09:41<00:11, 27.78it/s, now=No"
     ]
    },
    {
     "name": "stdout",
     "output_type": "stream",
     "text": [
      "MoviePy - Writing audio in C:\\Users\\Welcome\\Dhairya-Python\\sarcasm detection\\audio_context\\2_406_c.wav\n"
     ]
    },
    {
     "name": "stderr",
     "output_type": "stream",
     "text": [
      "\n",
      "chunk:   0%|       | 0/259 [00:00<?, ?it/s, now=None]\u001b[A\n",
      "chunk:   9%| | 23/259 [00:00<00:01, 229.99it/s, now=N\u001b[A\n",
      "chunk:  51%|▌| 132/259 [00:00<00:00, 735.84it/s, now=\u001b[A\n",
      "chunk:  80%|▊| 208/259 [00:00<00:00, 708.06it/s, now=\u001b[A\n",
      "chunk:   7%| | 26/354 [09:41<00:11, 27.78it/s, now=No\u001b[A"
     ]
    },
    {
     "name": "stdout",
     "output_type": "stream",
     "text": [
      "MoviePy - Done.\n"
     ]
    },
    {
     "name": "stderr",
     "output_type": "stream",
     "text": [
      "chunk:   7%| | 26/354 [09:42<00:11, 27.78it/s, now=No"
     ]
    },
    {
     "name": "stdout",
     "output_type": "stream",
     "text": [
      "MoviePy - Writing audio in C:\\Users\\Welcome\\Dhairya-Python\\sarcasm detection\\audio_context\\2_407_c.wav\n"
     ]
    },
    {
     "name": "stderr",
     "output_type": "stream",
     "text": [
      "\n",
      "chunk:   0%|       | 0/353 [00:00<?, ?it/s, now=None]\u001b[A\n",
      "chunk:   1%| | 3/353 [00:00<00:14, 24.59it/s, now=Non\u001b[A\n",
      "chunk:  32%|▎| 112/353 [00:00<00:00, 599.21it/s, now=\u001b[A\n",
      "chunk:  58%|▌| 204/353 [00:00<00:00, 661.11it/s, now=\u001b[A\n",
      "chunk:  83%|▊| 293/353 [00:00<00:00, 742.91it/s, now=\u001b[A\n",
      "chunk:   7%| | 26/354 [09:43<00:11, 27.78it/s, now=No\u001b[A"
     ]
    },
    {
     "name": "stdout",
     "output_type": "stream",
     "text": [
      "MoviePy - Done.\n"
     ]
    },
    {
     "name": "stderr",
     "output_type": "stream",
     "text": [
      "chunk:   7%| | 26/354 [09:43<00:11, 27.78it/s, now=No"
     ]
    },
    {
     "name": "stdout",
     "output_type": "stream",
     "text": [
      "MoviePy - Writing audio in C:\\Users\\Welcome\\Dhairya-Python\\sarcasm detection\\audio_context\\2_408_c.wav\n"
     ]
    },
    {
     "name": "stderr",
     "output_type": "stream",
     "text": [
      "\n",
      "chunk:   0%|       | 0/410 [00:00<?, ?it/s, now=None]\u001b[A\n",
      "chunk:   1%| | 3/410 [00:00<00:18, 22.22it/s, now=Non\u001b[A\n",
      "chunk:  16%|▏| 67/410 [00:00<00:01, 339.83it/s, now=N\u001b[A\n",
      "chunk:  38%|▍| 157/410 [00:00<00:00, 577.02it/s, now=\u001b[A\n",
      "chunk:  62%|▌| 255/410 [00:00<00:00, 710.15it/s, now=\u001b[A\n",
      "chunk:  89%|▉| 363/410 [00:00<00:00, 837.40it/s, now=\u001b[A\n",
      "chunk:   7%| | 26/354 [09:44<00:11, 27.78it/s, now=No\u001b[A"
     ]
    },
    {
     "name": "stdout",
     "output_type": "stream",
     "text": [
      "MoviePy - Done.\n"
     ]
    },
    {
     "name": "stderr",
     "output_type": "stream",
     "text": [
      "chunk:   7%| | 26/354 [09:45<00:11, 27.78it/s, now=No"
     ]
    },
    {
     "name": "stdout",
     "output_type": "stream",
     "text": [
      "MoviePy - Writing audio in C:\\Users\\Welcome\\Dhairya-Python\\sarcasm detection\\audio_context\\2_409_c.wav\n"
     ]
    },
    {
     "name": "stderr",
     "output_type": "stream",
     "text": [
      "\n",
      "chunk:   0%|       | 0/183 [00:00<?, ?it/s, now=None]\u001b[A\n",
      "chunk:  15%|▏| 27/183 [00:00<00:00, 269.98it/s, now=N\u001b[A\n",
      "chunk:  60%|▌| 109/183 [00:00<00:00, 590.02it/s, now=\u001b[A\n",
      "chunk:   7%| | 26/354 [09:45<00:11, 27.78it/s, now=No\u001b[A"
     ]
    },
    {
     "name": "stdout",
     "output_type": "stream",
     "text": [
      "MoviePy - Done.\n"
     ]
    },
    {
     "name": "stderr",
     "output_type": "stream",
     "text": [
      "chunk:   7%| | 26/354 [09:46<00:11, 27.78it/s, now=No"
     ]
    },
    {
     "name": "stdout",
     "output_type": "stream",
     "text": [
      "MoviePy - Writing audio in C:\\Users\\Welcome\\Dhairya-Python\\sarcasm detection\\audio_context\\2_410_c.wav\n"
     ]
    },
    {
     "name": "stderr",
     "output_type": "stream",
     "text": [
      "\n",
      "chunk:   0%|       | 0/657 [00:00<?, ?it/s, now=None]\u001b[A\n",
      "chunk:   4%| | 23/657 [00:00<00:02, 229.99it/s, now=N\u001b[A\n",
      "chunk:  16%|▏| 102/657 [00:00<00:01, 482.71it/s, now=\u001b[A\n",
      "chunk:  24%|▏| 159/657 [00:00<00:00, 517.22it/s, now=\u001b[A\n",
      "chunk:  32%|▎| 211/657 [00:00<00:00, 455.22it/s, now=\u001b[A\n",
      "chunk:  39%|▍| 258/657 [00:00<00:00, 432.31it/s, now=\u001b[A\n",
      "chunk:  47%|▍| 306/657 [00:00<00:01, 342.70it/s, now=\u001b[A\n",
      "chunk:  58%|▌| 383/657 [00:00<00:00, 448.49it/s, now=\u001b[A\n",
      "chunk:  70%|▋| 459/657 [00:01<00:00, 475.24it/s, now=\u001b[A\n",
      "chunk:  78%|▊| 510/657 [00:01<00:00, 455.40it/s, now=\u001b[A\n",
      "chunk:  86%|▊| 564/657 [00:01<00:00, 475.52it/s, now=\u001b[A\n",
      "chunk:  96%|▉| 628/657 [00:01<00:00, 518.99it/s, now=\u001b[A\n",
      "chunk:   7%| | 26/354 [09:47<00:11, 27.78it/s, now=No\u001b[A"
     ]
    },
    {
     "name": "stdout",
     "output_type": "stream",
     "text": [
      "MoviePy - Done.\n"
     ]
    },
    {
     "name": "stderr",
     "output_type": "stream",
     "text": [
      "chunk:   7%| | 26/354 [09:48<00:11, 27.78it/s, now=No"
     ]
    },
    {
     "name": "stdout",
     "output_type": "stream",
     "text": [
      "MoviePy - Writing audio in C:\\Users\\Welcome\\Dhairya-Python\\sarcasm detection\\audio_context\\2_413_c.wav\n"
     ]
    },
    {
     "name": "stderr",
     "output_type": "stream",
     "text": [
      "\n",
      "chunk:   0%|       | 0/187 [00:00<?, ?it/s, now=None]\u001b[A\n",
      "chunk:   2%| | 3/187 [00:00<00:06, 26.31it/s, now=Non\u001b[A\n",
      "chunk:  55%|▌| 102/187 [00:00<00:00, 409.62it/s, now=\u001b[A\n",
      "chunk:   7%| | 26/354 [09:48<00:11, 27.78it/s, now=No\u001b[A"
     ]
    },
    {
     "name": "stdout",
     "output_type": "stream",
     "text": [
      "MoviePy - Done.\n"
     ]
    },
    {
     "name": "stderr",
     "output_type": "stream",
     "text": [
      "chunk:   7%| | 26/354 [09:49<00:11, 27.78it/s, now=No"
     ]
    },
    {
     "name": "stdout",
     "output_type": "stream",
     "text": [
      "MoviePy - Writing audio in C:\\Users\\Welcome\\Dhairya-Python\\sarcasm detection\\audio_context\\2_415_c.wav\n"
     ]
    },
    {
     "name": "stderr",
     "output_type": "stream",
     "text": [
      "\n",
      "chunk:   0%|       | 0/290 [00:00<?, ?it/s, now=None]\u001b[A\n",
      "chunk:   9%| | 27/290 [00:00<00:00, 269.98it/s, now=N\u001b[A\n",
      "chunk:  35%|▎| 102/290 [00:00<00:00, 539.62it/s, now=\u001b[A\n",
      "chunk:  70%|▋| 204/290 [00:00<00:00, 676.84it/s, now=\u001b[A\n",
      "chunk:   7%| | 26/354 [09:50<00:11, 27.78it/s, now=No\u001b[A"
     ]
    },
    {
     "name": "stdout",
     "output_type": "stream",
     "text": [
      "MoviePy - Done.\n"
     ]
    },
    {
     "name": "stderr",
     "output_type": "stream",
     "text": [
      "chunk:   7%| | 26/354 [09:50<00:11, 27.78it/s, now=No"
     ]
    },
    {
     "name": "stdout",
     "output_type": "stream",
     "text": [
      "MoviePy - Writing audio in C:\\Users\\Welcome\\Dhairya-Python\\sarcasm detection\\audio_context\\2_416_c.wav\n"
     ]
    },
    {
     "name": "stderr",
     "output_type": "stream",
     "text": [
      "\n",
      "chunk:   0%|       | 0/240 [00:00<?, ?it/s, now=None]\u001b[A\n",
      "chunk:  12%| | 29/240 [00:00<00:00, 289.98it/s, now=N\u001b[A\n",
      "chunk:  77%|▊| 185/240 [00:00<00:00, 1037.00it/s, now\u001b[A\n",
      "chunk:   7%| | 26/354 [09:50<00:11, 27.78it/s, now=No\u001b[A"
     ]
    },
    {
     "name": "stdout",
     "output_type": "stream",
     "text": [
      "MoviePy - Done.\n"
     ]
    },
    {
     "name": "stderr",
     "output_type": "stream",
     "text": [
      "chunk:   7%| | 26/354 [09:51<00:11, 27.78it/s, now=No"
     ]
    },
    {
     "name": "stdout",
     "output_type": "stream",
     "text": [
      "MoviePy - Writing audio in C:\\Users\\Welcome\\Dhairya-Python\\sarcasm detection\\audio_context\\2_419_c.wav\n"
     ]
    },
    {
     "name": "stderr",
     "output_type": "stream",
     "text": [
      "\n",
      "chunk:   0%|       | 0/391 [00:00<?, ?it/s, now=None]\u001b[A\n",
      "chunk:   6%| | 23/391 [00:00<00:01, 229.99it/s, now=N\u001b[A\n",
      "chunk:  39%|▍| 153/391 [00:00<00:00, 734.13it/s, now=\u001b[A\n",
      "chunk:  65%|▋| 255/391 [00:00<00:00, 843.00it/s, now=\u001b[A\n",
      "chunk:  87%|▊| 340/391 [00:00<00:00, 833.21it/s, now=\u001b[A\n",
      "chunk:   7%| | 26/354 [09:52<00:11, 27.78it/s, now=No\u001b[A"
     ]
    },
    {
     "name": "stdout",
     "output_type": "stream",
     "text": [
      "MoviePy - Done.\n"
     ]
    },
    {
     "name": "stderr",
     "output_type": "stream",
     "text": [
      "chunk:   7%| | 26/354 [09:52<00:11, 27.78it/s, now=No"
     ]
    },
    {
     "name": "stdout",
     "output_type": "stream",
     "text": [
      "MoviePy - Writing audio in C:\\Users\\Welcome\\Dhairya-Python\\sarcasm detection\\audio_context\\2_420_c.wav\n"
     ]
    },
    {
     "name": "stderr",
     "output_type": "stream",
     "text": [
      "\n",
      "chunk:   0%|       | 0/379 [00:00<?, ?it/s, now=None]\u001b[A\n",
      "chunk:   1%| | 3/379 [00:00<00:19, 19.48it/s, now=Non\u001b[A\n",
      "chunk:  40%|▍| 153/379 [00:00<00:00, 731.91it/s, now=\u001b[A\n",
      "chunk:  81%|▊| 306/379 [00:00<00:00, 1023.65it/s, now\u001b[A\n",
      "chunk:   7%| | 26/354 [09:52<00:11, 27.78it/s, now=No\u001b[A"
     ]
    },
    {
     "name": "stdout",
     "output_type": "stream",
     "text": [
      "MoviePy - Done.\n"
     ]
    },
    {
     "name": "stderr",
     "output_type": "stream",
     "text": [
      "chunk:   7%| | 26/354 [09:53<00:11, 27.78it/s, now=No"
     ]
    },
    {
     "name": "stdout",
     "output_type": "stream",
     "text": [
      "MoviePy - Writing audio in C:\\Users\\Welcome\\Dhairya-Python\\sarcasm detection\\audio_context\\2_421_c.wav\n"
     ]
    },
    {
     "name": "stderr",
     "output_type": "stream",
     "text": [
      "\n",
      "chunk:   0%|       | 0/336 [00:00<?, ?it/s, now=None]\u001b[A\n",
      "chunk:   1%| | 5/336 [00:00<00:06, 50.00it/s, now=Non\u001b[A\n",
      "chunk:  30%|▎| 102/336 [00:00<00:00, 567.76it/s, now=\u001b[A\n",
      "chunk:  74%|▋| 250/336 [00:00<00:00, 975.16it/s, now=\u001b[A\n",
      "chunk:   7%| | 26/354 [09:54<00:11, 27.78it/s, now=No\u001b[A"
     ]
    },
    {
     "name": "stdout",
     "output_type": "stream",
     "text": [
      "MoviePy - Done.\n"
     ]
    },
    {
     "name": "stderr",
     "output_type": "stream",
     "text": [
      "chunk:   7%| | 26/354 [09:54<00:11, 27.78it/s, now=No"
     ]
    },
    {
     "name": "stdout",
     "output_type": "stream",
     "text": [
      "MoviePy - Writing audio in C:\\Users\\Welcome\\Dhairya-Python\\sarcasm detection\\audio_context\\2_422_c.wav\n"
     ]
    },
    {
     "name": "stderr",
     "output_type": "stream",
     "text": [
      "\n",
      "chunk:   0%|       | 0/377 [00:00<?, ?it/s, now=None]\u001b[A\n",
      "chunk:   1%| | 3/377 [00:00<00:14, 26.09it/s, now=Non\u001b[A\n",
      "chunk:  34%|▎| 127/377 [00:00<00:00, 698.57it/s, now=\u001b[A\n",
      "chunk:  54%|▌| 203/377 [00:00<00:00, 725.69it/s, now=\u001b[A\n",
      "chunk:  74%|▋| 279/377 [00:00<00:00, 722.18it/s, now=\u001b[A\n",
      "chunk: 100%|▉| 376/377 [00:00<00:00, 809.08it/s, now=\u001b[A\n",
      "chunk:   7%| | 26/354 [09:55<00:11, 27.78it/s, now=No\u001b[A"
     ]
    },
    {
     "name": "stdout",
     "output_type": "stream",
     "text": [
      "MoviePy - Done.\n"
     ]
    },
    {
     "name": "stderr",
     "output_type": "stream",
     "text": [
      "chunk:   7%| | 26/354 [09:55<00:11, 27.78it/s, now=No"
     ]
    },
    {
     "name": "stdout",
     "output_type": "stream",
     "text": [
      "MoviePy - Writing audio in C:\\Users\\Welcome\\Dhairya-Python\\sarcasm detection\\audio_context\\2_423_c.wav\n"
     ]
    },
    {
     "name": "stderr",
     "output_type": "stream",
     "text": [
      "\n",
      "chunk:   0%|       | 0/160 [00:00<?, ?it/s, now=None]\u001b[A\n",
      "chunk:  29%|▎| 46/160 [00:00<00:00, 459.97it/s, now=N\u001b[A\n",
      "chunk:  96%|▉| 153/160 [00:00<00:00, 813.99it/s, now=\u001b[A\n",
      "chunk:   7%| | 26/354 [09:56<00:11, 27.78it/s, now=No\u001b[A"
     ]
    },
    {
     "name": "stdout",
     "output_type": "stream",
     "text": [
      "MoviePy - Done.\n"
     ]
    },
    {
     "name": "stderr",
     "output_type": "stream",
     "text": [
      "chunk:   7%| | 26/354 [09:56<00:11, 27.78it/s, now=No"
     ]
    },
    {
     "name": "stdout",
     "output_type": "stream",
     "text": [
      "MoviePy - Writing audio in C:\\Users\\Welcome\\Dhairya-Python\\sarcasm detection\\audio_context\\2_425_c.wav\n"
     ]
    },
    {
     "name": "stderr",
     "output_type": "stream",
     "text": [
      "\n",
      "chunk:   0%|       | 0/293 [00:00<?, ?it/s, now=None]\u001b[A\n",
      "chunk:  10%| | 29/293 [00:00<00:00, 287.11it/s, now=N\u001b[A\n",
      "chunk:  35%|▎| 102/293 [00:00<00:00, 540.21it/s, now=\u001b[A\n",
      "chunk:  70%|▋| 204/293 [00:00<00:00, 656.36it/s, now=\u001b[A\n",
      "chunk:  92%|▉| 270/293 [00:00<00:00, 648.34it/s, now=\u001b[A\n",
      "chunk:   7%| | 26/354 [09:57<00:11, 27.78it/s, now=No\u001b[A"
     ]
    },
    {
     "name": "stdout",
     "output_type": "stream",
     "text": [
      "MoviePy - Done.\n"
     ]
    },
    {
     "name": "stderr",
     "output_type": "stream",
     "text": [
      "chunk:   7%| | 26/354 [09:58<00:11, 27.78it/s, now=No"
     ]
    },
    {
     "name": "stdout",
     "output_type": "stream",
     "text": [
      "MoviePy - Writing audio in C:\\Users\\Welcome\\Dhairya-Python\\sarcasm detection\\audio_context\\2_426_c.wav\n"
     ]
    },
    {
     "name": "stderr",
     "output_type": "stream",
     "text": [
      "\n",
      "chunk:   0%|       | 0/283 [00:00<?, ?it/s, now=None]\u001b[A\n",
      "chunk:   1%| | 3/283 [00:00<00:18, 15.07it/s, now=Non\u001b[A\n",
      "chunk:  51%|▌| 143/283 [00:00<00:00, 593.78it/s, now=\u001b[A\n",
      "chunk:  81%|▊| 228/283 [00:00<00:00, 624.21it/s, now=\u001b[A\n",
      "chunk:   7%| | 26/354 [09:58<00:11, 27.78it/s, now=No\u001b[A"
     ]
    },
    {
     "name": "stdout",
     "output_type": "stream",
     "text": [
      "MoviePy - Done.\n"
     ]
    },
    {
     "name": "stderr",
     "output_type": "stream",
     "text": [
      "chunk:   7%| | 26/354 [09:59<00:11, 27.78it/s, now=No"
     ]
    },
    {
     "name": "stdout",
     "output_type": "stream",
     "text": [
      "MoviePy - Writing audio in C:\\Users\\Welcome\\Dhairya-Python\\sarcasm detection\\audio_context\\2_427_c.wav\n"
     ]
    },
    {
     "name": "stderr",
     "output_type": "stream",
     "text": [
      "\n",
      "chunk:   0%|       | 0/176 [00:00<?, ?it/s, now=None]\u001b[A\n",
      "chunk:  10%| | 17/176 [00:00<00:00, 169.99it/s, now=N\u001b[A\n",
      "chunk:  87%|▊| 153/176 [00:00<00:00, 849.95it/s, now=\u001b[A\n",
      "chunk:   7%| | 26/354 [09:59<00:11, 27.78it/s, now=No\u001b[A"
     ]
    },
    {
     "name": "stdout",
     "output_type": "stream",
     "text": [
      "MoviePy - Done.\n"
     ]
    },
    {
     "name": "stderr",
     "output_type": "stream",
     "text": [
      "chunk:   7%| | 26/354 [10:00<00:11, 27.78it/s, now=No"
     ]
    },
    {
     "name": "stdout",
     "output_type": "stream",
     "text": [
      "MoviePy - Writing audio in C:\\Users\\Welcome\\Dhairya-Python\\sarcasm detection\\audio_context\\2_428_c.wav\n"
     ]
    },
    {
     "name": "stderr",
     "output_type": "stream",
     "text": [
      "\n",
      "chunk:   0%|       | 0/336 [00:00<?, ?it/s, now=None]\u001b[A\n",
      "chunk:   8%| | 27/336 [00:00<00:01, 269.98it/s, now=N\u001b[A\n",
      "chunk:  46%|▍| 156/336 [00:00<00:00, 869.95it/s, now=\u001b[A\n",
      "chunk:  91%|▉| 306/336 [00:00<00:00, 1141.96it/s, now\u001b[A\n",
      "chunk:   7%| | 26/354 [10:00<00:11, 27.78it/s, now=No\u001b[A"
     ]
    },
    {
     "name": "stdout",
     "output_type": "stream",
     "text": [
      "MoviePy - Done.\n"
     ]
    },
    {
     "name": "stderr",
     "output_type": "stream",
     "text": [
      "chunk:   7%| | 26/354 [10:01<00:11, 27.78it/s, now=No"
     ]
    },
    {
     "name": "stdout",
     "output_type": "stream",
     "text": [
      "MoviePy - Writing audio in C:\\Users\\Welcome\\Dhairya-Python\\sarcasm detection\\audio_context\\2_429_c.wav\n"
     ]
    },
    {
     "name": "stderr",
     "output_type": "stream",
     "text": [
      "\n",
      "chunk:   0%|       | 0/188 [00:00<?, ?it/s, now=None]\u001b[A\n",
      "chunk:  19%|▏| 35/188 [00:00<00:00, 349.98it/s, now=N\u001b[A\n",
      "chunk:  81%|▊| 153/188 [00:00<00:00, 723.31it/s, now=\u001b[A\n",
      "chunk:   7%| | 26/354 [10:01<00:11, 27.78it/s, now=No\u001b[A"
     ]
    },
    {
     "name": "stdout",
     "output_type": "stream",
     "text": [
      "MoviePy - Done.\n"
     ]
    },
    {
     "name": "stderr",
     "output_type": "stream",
     "text": [
      "chunk:   7%| | 26/354 [10:02<00:11, 27.78it/s, now=No"
     ]
    },
    {
     "name": "stdout",
     "output_type": "stream",
     "text": [
      "MoviePy - Writing audio in C:\\Users\\Welcome\\Dhairya-Python\\sarcasm detection\\audio_context\\2_42_c.wav\n"
     ]
    },
    {
     "name": "stderr",
     "output_type": "stream",
     "text": [
      "\n",
      "chunk:   0%|       | 0/231 [00:00<?, ?it/s, now=None]\u001b[A\n",
      "chunk:  13%|▏| 30/231 [00:00<00:00, 299.98it/s, now=N\u001b[A\n",
      "chunk:  66%|▋| 153/231 [00:00<00:00, 304.42it/s, now=\u001b[A\n",
      "chunk:   7%| | 26/354 [10:03<00:11, 27.78it/s, now=No\u001b[A"
     ]
    },
    {
     "name": "stdout",
     "output_type": "stream",
     "text": [
      "MoviePy - Done.\n"
     ]
    },
    {
     "name": "stderr",
     "output_type": "stream",
     "text": [
      "chunk:   7%| | 26/354 [10:03<00:11, 27.78it/s, now=No"
     ]
    },
    {
     "name": "stdout",
     "output_type": "stream",
     "text": [
      "MoviePy - Writing audio in C:\\Users\\Welcome\\Dhairya-Python\\sarcasm detection\\audio_context\\2_430_c.wav\n"
     ]
    },
    {
     "name": "stderr",
     "output_type": "stream",
     "text": [
      "\n",
      "chunk:   0%|        | 0/42 [00:00<?, ?it/s, now=None]\u001b[A\n",
      "chunk:   7%| | 3/42 [00:00<00:01, 27.52it/s, now=None\u001b[A\n",
      "chunk:   7%| | 26/354 [10:03<00:11, 27.78it/s, now=No\u001b[A"
     ]
    },
    {
     "name": "stdout",
     "output_type": "stream",
     "text": [
      "MoviePy - Done.\n"
     ]
    },
    {
     "name": "stderr",
     "output_type": "stream",
     "text": [
      "chunk:   7%| | 26/354 [10:04<00:11, 27.78it/s, now=No"
     ]
    },
    {
     "name": "stdout",
     "output_type": "stream",
     "text": [
      "MoviePy - Writing audio in C:\\Users\\Welcome\\Dhairya-Python\\sarcasm detection\\audio_context\\2_431_c.wav\n"
     ]
    },
    {
     "name": "stderr",
     "output_type": "stream",
     "text": [
      "\n",
      "chunk:   0%|       | 0/114 [00:00<?, ?it/s, now=None]\u001b[A\n",
      "chunk:   3%| | 3/114 [00:00<00:04, 24.00it/s, now=Non\u001b[A\n",
      "chunk:   7%| | 26/354 [10:04<00:11, 27.78it/s, now=No\u001b[A"
     ]
    },
    {
     "name": "stdout",
     "output_type": "stream",
     "text": [
      "MoviePy - Done.\n"
     ]
    },
    {
     "name": "stderr",
     "output_type": "stream",
     "text": [
      "chunk:   7%| | 26/354 [10:05<00:11, 27.78it/s, now=No"
     ]
    },
    {
     "name": "stdout",
     "output_type": "stream",
     "text": [
      "MoviePy - Writing audio in C:\\Users\\Welcome\\Dhairya-Python\\sarcasm detection\\audio_context\\2_433_c.wav\n"
     ]
    },
    {
     "name": "stderr",
     "output_type": "stream",
     "text": [
      "\n",
      "chunk:   0%|       | 0/194 [00:00<?, ?it/s, now=None]\u001b[A\n",
      "chunk:  15%|▏| 29/194 [00:00<00:00, 289.98it/s, now=N\u001b[A\n",
      "chunk:  95%|▉| 185/194 [00:00<00:00, 1037.00it/s, now\u001b[A\n",
      "chunk:   7%| | 26/354 [10:05<00:11, 27.78it/s, now=No\u001b[A"
     ]
    },
    {
     "name": "stdout",
     "output_type": "stream",
     "text": [
      "MoviePy - Done.\n"
     ]
    },
    {
     "name": "stderr",
     "output_type": "stream",
     "text": [
      "chunk:   7%| | 26/354 [10:06<00:11, 27.78it/s, now=No"
     ]
    },
    {
     "name": "stdout",
     "output_type": "stream",
     "text": [
      "MoviePy - Writing audio in C:\\Users\\Welcome\\Dhairya-Python\\sarcasm detection\\audio_context\\2_434_c.wav\n"
     ]
    },
    {
     "name": "stderr",
     "output_type": "stream",
     "text": [
      "\n",
      "chunk:   0%|        | 0/40 [00:00<?, ?it/s, now=None]\u001b[A\n",
      "chunk:  25%|▎| 10/40 [00:00<00:00, 99.99it/s, now=Non\u001b[A\n",
      "chunk:   7%| | 26/354 [10:06<00:11, 27.78it/s, now=No\u001b[A"
     ]
    },
    {
     "name": "stdout",
     "output_type": "stream",
     "text": [
      "MoviePy - Done.\n"
     ]
    },
    {
     "name": "stderr",
     "output_type": "stream",
     "text": [
      "chunk:   7%| | 26/354 [10:07<00:11, 27.78it/s, now=No"
     ]
    },
    {
     "name": "stdout",
     "output_type": "stream",
     "text": [
      "MoviePy - Writing audio in C:\\Users\\Welcome\\Dhairya-Python\\sarcasm detection\\audio_context\\2_435_c.wav\n"
     ]
    },
    {
     "name": "stderr",
     "output_type": "stream",
     "text": [
      "\n",
      "chunk:   0%|       | 0/217 [00:00<?, ?it/s, now=None]\u001b[A\n",
      "chunk:   2%| | 5/217 [00:00<00:04, 50.00it/s, now=Non\u001b[A\n",
      "chunk:  64%|▋| 139/217 [00:00<00:00, 808.78it/s, now=\u001b[A\n",
      "chunk:   7%| | 26/354 [10:07<00:11, 27.78it/s, now=No\u001b[A"
     ]
    },
    {
     "name": "stdout",
     "output_type": "stream",
     "text": [
      "MoviePy - Done.\n"
     ]
    },
    {
     "name": "stderr",
     "output_type": "stream",
     "text": [
      "chunk:   7%| | 26/354 [10:08<00:11, 27.78it/s, now=No"
     ]
    },
    {
     "name": "stdout",
     "output_type": "stream",
     "text": [
      "MoviePy - Writing audio in C:\\Users\\Welcome\\Dhairya-Python\\sarcasm detection\\audio_context\\2_437_c.wav\n"
     ]
    },
    {
     "name": "stderr",
     "output_type": "stream",
     "text": [
      "\n",
      "chunk:   0%|       | 0/271 [00:00<?, ?it/s, now=None]\u001b[A\n",
      "chunk:   7%| | 20/271 [00:00<00:01, 199.99it/s, now=N\u001b[A\n",
      "chunk:  48%|▍| 131/271 [00:00<00:00, 735.25it/s, now=\u001b[A\n",
      "chunk:  76%|▊| 207/271 [00:00<00:00, 633.68it/s, now=\u001b[A\n",
      "chunk:   7%| | 26/354 [10:08<00:11, 27.78it/s, now=No\u001b[A"
     ]
    },
    {
     "name": "stdout",
     "output_type": "stream",
     "text": [
      "MoviePy - Done.\n"
     ]
    },
    {
     "name": "stderr",
     "output_type": "stream",
     "text": [
      "chunk:   7%| | 26/354 [10:09<00:11, 27.78it/s, now=No"
     ]
    },
    {
     "name": "stdout",
     "output_type": "stream",
     "text": [
      "MoviePy - Writing audio in C:\\Users\\Welcome\\Dhairya-Python\\sarcasm detection\\audio_context\\2_438_c.wav\n"
     ]
    },
    {
     "name": "stderr",
     "output_type": "stream",
     "text": [
      "\n",
      "chunk:   0%|        | 0/89 [00:00<?, ?it/s, now=None]\u001b[A\n",
      "chunk:  13%|▏| 12/89 [00:00<00:00, 119.99it/s, now=No\u001b[A\n",
      "chunk:   7%| | 26/354 [10:09<00:11, 27.78it/s, now=No\u001b[A"
     ]
    },
    {
     "name": "stdout",
     "output_type": "stream",
     "text": [
      "MoviePy - Done.\n"
     ]
    },
    {
     "name": "stderr",
     "output_type": "stream",
     "text": [
      "chunk:   7%| | 26/354 [10:09<00:11, 27.78it/s, now=No"
     ]
    },
    {
     "name": "stdout",
     "output_type": "stream",
     "text": [
      "MoviePy - Writing audio in C:\\Users\\Welcome\\Dhairya-Python\\sarcasm detection\\audio_context\\2_439_c.wav\n"
     ]
    },
    {
     "name": "stderr",
     "output_type": "stream",
     "text": [
      "\n",
      "chunk:   0%|       | 0/275 [00:00<?, ?it/s, now=None]\u001b[A\n",
      "chunk:  14%|▏| 38/275 [00:00<00:00, 379.98it/s, now=N\u001b[A\n",
      "chunk:  57%|▌| 157/275 [00:00<00:00, 856.42it/s, now=\u001b[A\n",
      "chunk:   7%| | 26/354 [10:10<00:11, 27.78it/s, now=No\u001b[A"
     ]
    },
    {
     "name": "stdout",
     "output_type": "stream",
     "text": [
      "MoviePy - Done.\n"
     ]
    },
    {
     "name": "stderr",
     "output_type": "stream",
     "text": [
      "chunk:   7%| | 26/354 [10:10<00:11, 27.78it/s, now=No"
     ]
    },
    {
     "name": "stdout",
     "output_type": "stream",
     "text": [
      "MoviePy - Writing audio in C:\\Users\\Welcome\\Dhairya-Python\\sarcasm detection\\audio_context\\2_43_c.wav\n"
     ]
    },
    {
     "name": "stderr",
     "output_type": "stream",
     "text": [
      "\n",
      "chunk:   0%|       | 0/271 [00:00<?, ?it/s, now=None]\u001b[A\n",
      "chunk:   7%| | 18/271 [00:00<00:01, 179.99it/s, now=N\u001b[A\n",
      "chunk:  48%|▍| 131/271 [00:00<00:00, 738.78it/s, now=\u001b[A\n",
      "chunk:  76%|▊| 205/271 [00:00<00:00, 610.98it/s, now=\u001b[A\n",
      "chunk:   7%| | 26/354 [10:11<00:11, 27.78it/s, now=No\u001b[A"
     ]
    },
    {
     "name": "stdout",
     "output_type": "stream",
     "text": [
      "MoviePy - Done.\n"
     ]
    },
    {
     "name": "stderr",
     "output_type": "stream",
     "text": [
      "chunk:   7%| | 26/354 [10:11<00:11, 27.78it/s, now=No"
     ]
    },
    {
     "name": "stdout",
     "output_type": "stream",
     "text": [
      "MoviePy - Writing audio in C:\\Users\\Welcome\\Dhairya-Python\\sarcasm detection\\audio_context\\2_440_c.wav\n"
     ]
    },
    {
     "name": "stderr",
     "output_type": "stream",
     "text": [
      "\n",
      "chunk:   0%|       | 0/128 [00:00<?, ?it/s, now=None]\u001b[A\n",
      "chunk:  25%|▎| 32/128 [00:00<00:00, 319.98it/s, now=N\u001b[A\n",
      "chunk:   7%| | 26/354 [10:12<00:11, 27.78it/s, now=No\u001b[A"
     ]
    },
    {
     "name": "stdout",
     "output_type": "stream",
     "text": [
      "MoviePy - Done.\n"
     ]
    },
    {
     "name": "stderr",
     "output_type": "stream",
     "text": [
      "chunk:   7%| | 26/354 [10:12<00:11, 27.78it/s, now=No"
     ]
    },
    {
     "name": "stdout",
     "output_type": "stream",
     "text": [
      "MoviePy - Writing audio in C:\\Users\\Welcome\\Dhairya-Python\\sarcasm detection\\audio_context\\2_441_c.wav\n"
     ]
    },
    {
     "name": "stderr",
     "output_type": "stream",
     "text": [
      "\n",
      "chunk:   0%|       | 0/350 [00:00<?, ?it/s, now=None]\u001b[A\n",
      "chunk:   8%| | 29/350 [00:00<00:01, 284.30it/s, now=N\u001b[A\n",
      "chunk:  44%|▍| 153/350 [00:00<00:00, 682.55it/s, now=\u001b[A\n",
      "chunk:  70%|▋| 245/350 [00:00<00:00, 699.32it/s, now=\u001b[A\n",
      "chunk:  89%|▉| 313/350 [00:00<00:00, 622.64it/s, now=\u001b[A\n",
      "chunk:   7%| | 26/354 [10:13<00:11, 27.78it/s, now=No\u001b[A"
     ]
    },
    {
     "name": "stdout",
     "output_type": "stream",
     "text": [
      "MoviePy - Done.\n"
     ]
    },
    {
     "name": "stderr",
     "output_type": "stream",
     "text": [
      "chunk:   7%| | 26/354 [10:13<00:11, 27.78it/s, now=No"
     ]
    },
    {
     "name": "stdout",
     "output_type": "stream",
     "text": [
      "MoviePy - Writing audio in C:\\Users\\Welcome\\Dhairya-Python\\sarcasm detection\\audio_context\\2_442_c.wav\n"
     ]
    },
    {
     "name": "stderr",
     "output_type": "stream",
     "text": [
      "\n",
      "chunk:   0%|       | 0/258 [00:00<?, ?it/s, now=None]\u001b[A\n",
      "chunk:   2%| | 4/258 [00:00<00:06, 40.00it/s, now=Non\u001b[A\n",
      "chunk:  59%|▌| 153/258 [00:00<00:00, 872.36it/s, now=\u001b[A\n",
      "chunk:   7%| | 26/354 [10:14<00:11, 27.78it/s, now=No\u001b[A"
     ]
    },
    {
     "name": "stdout",
     "output_type": "stream",
     "text": [
      "MoviePy - Done.\n"
     ]
    },
    {
     "name": "stderr",
     "output_type": "stream",
     "text": [
      "chunk:   7%| | 26/354 [10:14<00:11, 27.78it/s, now=No"
     ]
    },
    {
     "name": "stdout",
     "output_type": "stream",
     "text": [
      "MoviePy - Writing audio in C:\\Users\\Welcome\\Dhairya-Python\\sarcasm detection\\audio_context\\2_443_c.wav\n"
     ]
    },
    {
     "name": "stderr",
     "output_type": "stream",
     "text": [
      "\n",
      "chunk:   0%|       | 0/294 [00:00<?, ?it/s, now=None]\u001b[A\n",
      "chunk:   1%| | 3/294 [00:00<00:11, 25.42it/s, now=Non\u001b[A\n",
      "chunk:  52%|▌| 153/294 [00:00<00:00, 810.72it/s, now=\u001b[A\n",
      "chunk:  94%|▉| 275/294 [00:00<00:00, 987.62it/s, now=\u001b[A\n",
      "chunk:   7%| | 26/354 [10:15<00:11, 27.78it/s, now=No\u001b[A"
     ]
    },
    {
     "name": "stdout",
     "output_type": "stream",
     "text": [
      "MoviePy - Done.\n"
     ]
    },
    {
     "name": "stderr",
     "output_type": "stream",
     "text": [
      "chunk:   7%| | 26/354 [10:15<00:11, 27.78it/s, now=No"
     ]
    },
    {
     "name": "stdout",
     "output_type": "stream",
     "text": [
      "MoviePy - Writing audio in C:\\Users\\Welcome\\Dhairya-Python\\sarcasm detection\\audio_context\\2_444_c.wav\n"
     ]
    },
    {
     "name": "stderr",
     "output_type": "stream",
     "text": [
      "\n",
      "chunk:   0%|       | 0/148 [00:00<?, ?it/s, now=None]\u001b[A\n",
      "chunk:  34%|▎| 50/148 [00:00<00:00, 499.97it/s, now=N\u001b[A\n",
      "chunk:   7%| | 26/354 [10:15<00:11, 27.78it/s, now=No\u001b[A"
     ]
    },
    {
     "name": "stdout",
     "output_type": "stream",
     "text": [
      "MoviePy - Done.\n"
     ]
    },
    {
     "name": "stderr",
     "output_type": "stream",
     "text": [
      "chunk:   7%| | 26/354 [10:16<00:11, 27.78it/s, now=No"
     ]
    },
    {
     "name": "stdout",
     "output_type": "stream",
     "text": [
      "MoviePy - Writing audio in C:\\Users\\Welcome\\Dhairya-Python\\sarcasm detection\\audio_context\\2_445_c.wav\n"
     ]
    },
    {
     "name": "stderr",
     "output_type": "stream",
     "text": [
      "\n",
      "chunk:   0%|       | 0/173 [00:00<?, ?it/s, now=None]\u001b[A\n",
      "chunk:  35%|▎| 60/173 [00:00<00:00, 599.97it/s, now=N\u001b[A\n",
      "chunk:  88%|▉| 153/173 [00:00<00:00, 784.84it/s, now=\u001b[A\n",
      "chunk:   7%| | 26/354 [10:16<00:11, 27.78it/s, now=No\u001b[A"
     ]
    },
    {
     "name": "stdout",
     "output_type": "stream",
     "text": [
      "MoviePy - Done.\n"
     ]
    },
    {
     "name": "stderr",
     "output_type": "stream",
     "text": [
      "chunk:   7%| | 26/354 [10:17<00:11, 27.78it/s, now=No"
     ]
    },
    {
     "name": "stdout",
     "output_type": "stream",
     "text": [
      "MoviePy - Writing audio in C:\\Users\\Welcome\\Dhairya-Python\\sarcasm detection\\audio_context\\2_446_c.wav\n"
     ]
    },
    {
     "name": "stderr",
     "output_type": "stream",
     "text": [
      "\n",
      "chunk:   0%|       | 0/143 [00:00<?, ?it/s, now=None]\u001b[A\n",
      "chunk:  17%|▏| 25/143 [00:00<00:00, 249.99it/s, now=N\u001b[A\n",
      "chunk:   7%| | 26/354 [10:17<00:11, 27.78it/s, now=No\u001b[A"
     ]
    },
    {
     "name": "stdout",
     "output_type": "stream",
     "text": [
      "MoviePy - Done.\n"
     ]
    },
    {
     "name": "stderr",
     "output_type": "stream",
     "text": [
      "chunk:   7%| | 26/354 [10:18<00:11, 27.78it/s, now=No"
     ]
    },
    {
     "name": "stdout",
     "output_type": "stream",
     "text": [
      "MoviePy - Writing audio in C:\\Users\\Welcome\\Dhairya-Python\\sarcasm detection\\audio_context\\2_447_c.wav\n"
     ]
    },
    {
     "name": "stderr",
     "output_type": "stream",
     "text": [
      "\n",
      "chunk:   0%|       | 0/141 [00:00<?, ?it/s, now=None]\u001b[A\n",
      "chunk:  16%|▏| 23/141 [00:00<00:00, 229.99it/s, now=N\u001b[A\n",
      "chunk:   7%| | 26/354 [10:18<00:11, 27.78it/s, now=No\u001b[A"
     ]
    },
    {
     "name": "stdout",
     "output_type": "stream",
     "text": [
      "MoviePy - Done.\n"
     ]
    },
    {
     "name": "stderr",
     "output_type": "stream",
     "text": [
      "chunk:   7%| | 26/354 [10:19<00:11, 27.78it/s, now=No"
     ]
    },
    {
     "name": "stdout",
     "output_type": "stream",
     "text": [
      "MoviePy - Writing audio in C:\\Users\\Welcome\\Dhairya-Python\\sarcasm detection\\audio_context\\2_448_c.wav\n"
     ]
    },
    {
     "name": "stderr",
     "output_type": "stream",
     "text": [
      "\n",
      "chunk:   0%|       | 0/152 [00:00<?, ?it/s, now=None]\u001b[A\n",
      "chunk:  18%|▏| 27/152 [00:00<00:00, 269.98it/s, now=N\u001b[A\n",
      "chunk:   7%| | 26/354 [10:19<00:11, 27.78it/s, now=No\u001b[A"
     ]
    },
    {
     "name": "stdout",
     "output_type": "stream",
     "text": [
      "MoviePy - Done.\n"
     ]
    },
    {
     "name": "stderr",
     "output_type": "stream",
     "text": [
      "chunk:   7%| | 26/354 [10:19<00:11, 27.78it/s, now=No"
     ]
    },
    {
     "name": "stdout",
     "output_type": "stream",
     "text": [
      "MoviePy - Writing audio in C:\\Users\\Welcome\\Dhairya-Python\\sarcasm detection\\audio_context\\2_449_c.wav\n"
     ]
    },
    {
     "name": "stderr",
     "output_type": "stream",
     "text": [
      "\n",
      "chunk:   0%|       | 0/691 [00:00<?, ?it/s, now=None]\u001b[A\n",
      "chunk:   4%| | 28/691 [00:00<00:02, 279.98it/s, now=N\u001b[A\n",
      "chunk:  25%|▎| 176/691 [00:00<00:00, 985.83it/s, now=\u001b[A\n",
      "chunk:  48%|▍| 330/691 [00:00<00:00, 1238.83it/s, now\u001b[A\n",
      "chunk:  68%|▋| 467/691 [00:00<00:00, 1290.58it/s, now\u001b[A\n",
      "chunk:  89%|▉| 612/691 [00:00<00:00, 1338.39it/s, now\u001b[A\n",
      "chunk:   7%| | 26/354 [10:20<00:11, 27.78it/s, now=No\u001b[A"
     ]
    },
    {
     "name": "stdout",
     "output_type": "stream",
     "text": [
      "MoviePy - Done.\n"
     ]
    },
    {
     "name": "stderr",
     "output_type": "stream",
     "text": [
      "chunk:   7%| | 26/354 [10:21<00:11, 27.78it/s, now=No"
     ]
    },
    {
     "name": "stdout",
     "output_type": "stream",
     "text": [
      "MoviePy - Writing audio in C:\\Users\\Welcome\\Dhairya-Python\\sarcasm detection\\audio_context\\2_44_c.wav\n"
     ]
    },
    {
     "name": "stderr",
     "output_type": "stream",
     "text": [
      "\n",
      "chunk:   0%|       | 0/136 [00:00<?, ?it/s, now=None]\u001b[A\n",
      "chunk:  10%| | 14/136 [00:00<00:00, 139.99it/s, now=N\u001b[A\n",
      "chunk:   7%| | 26/354 [10:21<00:11, 27.78it/s, now=No\u001b[A"
     ]
    },
    {
     "name": "stdout",
     "output_type": "stream",
     "text": [
      "MoviePy - Done.\n"
     ]
    },
    {
     "name": "stderr",
     "output_type": "stream",
     "text": [
      "chunk:   7%| | 26/354 [10:21<00:11, 27.78it/s, now=No"
     ]
    },
    {
     "name": "stdout",
     "output_type": "stream",
     "text": [
      "MoviePy - Writing audio in C:\\Users\\Welcome\\Dhairya-Python\\sarcasm detection\\audio_context\\2_450_c.wav\n"
     ]
    },
    {
     "name": "stderr",
     "output_type": "stream",
     "text": [
      "\n",
      "chunk:   0%|       | 0/248 [00:00<?, ?it/s, now=None]\u001b[A\n",
      "chunk:  18%|▏| 44/248 [00:00<00:00, 439.97it/s, now=N\u001b[A\n",
      "chunk:  79%|▊| 195/248 [00:00<00:00, 1069.35it/s, now\u001b[A\n",
      "chunk:   7%| | 26/354 [10:22<00:11, 27.78it/s, now=No\u001b[A"
     ]
    },
    {
     "name": "stdout",
     "output_type": "stream",
     "text": [
      "MoviePy - Done.\n"
     ]
    },
    {
     "name": "stderr",
     "output_type": "stream",
     "text": [
      "chunk:   7%| | 26/354 [10:23<00:11, 27.78it/s, now=No"
     ]
    },
    {
     "name": "stdout",
     "output_type": "stream",
     "text": [
      "MoviePy - Writing audio in C:\\Users\\Welcome\\Dhairya-Python\\sarcasm detection\\audio_context\\2_454_c.wav\n"
     ]
    },
    {
     "name": "stderr",
     "output_type": "stream",
     "text": [
      "\n",
      "chunk:   0%|       | 0/296 [00:00<?, ?it/s, now=None]\u001b[A\n",
      "chunk:   1%| | 3/296 [00:00<00:12, 22.56it/s, now=Non\u001b[A\n",
      "chunk:  41%|▍| 121/296 [00:00<00:00, 621.92it/s, now=\u001b[A\n",
      "chunk:  69%|▋| 204/296 [00:00<00:00, 662.49it/s, now=\u001b[A\n",
      "chunk:   7%| | 26/354 [10:23<00:11, 27.78it/s, now=No\u001b[A"
     ]
    },
    {
     "name": "stdout",
     "output_type": "stream",
     "text": [
      "MoviePy - Done.\n"
     ]
    },
    {
     "name": "stderr",
     "output_type": "stream",
     "text": [
      "chunk:   7%| | 26/354 [10:23<00:11, 27.78it/s, now=No"
     ]
    },
    {
     "name": "stdout",
     "output_type": "stream",
     "text": [
      "MoviePy - Writing audio in C:\\Users\\Welcome\\Dhairya-Python\\sarcasm detection\\audio_context\\2_456_c.wav\n"
     ]
    },
    {
     "name": "stderr",
     "output_type": "stream",
     "text": [
      "\n",
      "chunk:   0%|       | 0/815 [00:00<?, ?it/s, now=None]\u001b[A\n",
      "chunk:   0%| | 3/815 [00:00<00:28, 28.57it/s, now=Non\u001b[A\n",
      "chunk:  17%|▏| 138/815 [00:00<00:00, 790.16it/s, now=\u001b[A\n",
      "chunk:  33%|▎| 266/815 [00:00<00:00, 1011.32it/s, now\u001b[A\n",
      "chunk:  50%|▌| 410/815 [00:00<00:00, 1179.39it/s, now\u001b[A\n",
      "chunk:  69%|▋| 561/815 [00:00<00:00, 1257.43it/s, now\u001b[A\n",
      "chunk:  87%|▊| 712/815 [00:00<00:00, 1341.24it/s, now\u001b[A\n",
      "chunk:   7%| | 26/354 [10:24<00:11, 27.78it/s, now=No\u001b[A"
     ]
    },
    {
     "name": "stdout",
     "output_type": "stream",
     "text": [
      "MoviePy - Done.\n"
     ]
    },
    {
     "name": "stderr",
     "output_type": "stream",
     "text": [
      "chunk:   7%| | 26/354 [10:25<00:11, 27.78it/s, now=No"
     ]
    },
    {
     "name": "stdout",
     "output_type": "stream",
     "text": [
      "MoviePy - Writing audio in C:\\Users\\Welcome\\Dhairya-Python\\sarcasm detection\\audio_context\\2_457_c.wav\n"
     ]
    },
    {
     "name": "stderr",
     "output_type": "stream",
     "text": [
      "\n",
      "chunk:   0%|        | 0/83 [00:00<?, ?it/s, now=None]\u001b[A\n",
      "chunk:  23%|▏| 19/83 [00:00<00:00, 189.99it/s, now=No\u001b[A\n",
      "chunk:   7%| | 26/354 [10:25<00:11, 27.78it/s, now=No\u001b[A"
     ]
    },
    {
     "name": "stdout",
     "output_type": "stream",
     "text": [
      "MoviePy - Done.\n"
     ]
    },
    {
     "name": "stderr",
     "output_type": "stream",
     "text": [
      "chunk:   7%| | 26/354 [10:26<00:11, 27.78it/s, now=No"
     ]
    },
    {
     "name": "stdout",
     "output_type": "stream",
     "text": [
      "MoviePy - Writing audio in C:\\Users\\Welcome\\Dhairya-Python\\sarcasm detection\\audio_context\\2_458_c.wav\n"
     ]
    },
    {
     "name": "stderr",
     "output_type": "stream",
     "text": [
      "\n",
      "chunk:   0%|       | 0/243 [00:00<?, ?it/s, now=None]\u001b[A\n",
      "chunk:  10%| | 24/243 [00:00<00:00, 239.99it/s, now=N\u001b[A\n",
      "chunk:  51%|▌| 125/243 [00:00<00:00, 692.90it/s, now=\u001b[A\n",
      "chunk:  84%|▊| 204/243 [00:00<00:00, 730.55it/s, now=\u001b[A\n",
      "chunk:   7%| | 26/354 [10:26<00:11, 27.78it/s, now=No\u001b[A"
     ]
    },
    {
     "name": "stdout",
     "output_type": "stream",
     "text": [
      "MoviePy - Done.\n"
     ]
    },
    {
     "name": "stderr",
     "output_type": "stream",
     "text": [
      "chunk:   7%| | 26/354 [10:26<00:11, 27.78it/s, now=No"
     ]
    },
    {
     "name": "stdout",
     "output_type": "stream",
     "text": [
      "MoviePy - Writing audio in C:\\Users\\Welcome\\Dhairya-Python\\sarcasm detection\\audio_context\\2_45_c.wav\n"
     ]
    },
    {
     "name": "stderr",
     "output_type": "stream",
     "text": [
      "\n",
      "chunk:   0%|       | 0/111 [00:00<?, ?it/s, now=None]\u001b[A\n",
      "chunk:   3%| | 3/111 [00:00<00:04, 21.90it/s, now=Non\u001b[A\n",
      "chunk:   7%| | 26/354 [10:27<00:11, 27.78it/s, now=No\u001b[A"
     ]
    },
    {
     "name": "stdout",
     "output_type": "stream",
     "text": [
      "MoviePy - Done.\n"
     ]
    },
    {
     "name": "stderr",
     "output_type": "stream",
     "text": [
      "chunk:   7%| | 26/354 [10:27<00:11, 27.78it/s, now=No"
     ]
    },
    {
     "name": "stdout",
     "output_type": "stream",
     "text": [
      "MoviePy - Writing audio in C:\\Users\\Welcome\\Dhairya-Python\\sarcasm detection\\audio_context\\2_461_c.wav\n"
     ]
    },
    {
     "name": "stderr",
     "output_type": "stream",
     "text": [
      "\n",
      "chunk:   0%|        | 0/65 [00:00<?, ?it/s, now=None]\u001b[A\n",
      "chunk:  45%|▍| 29/65 [00:00<00:00, 281.54it/s, now=No\u001b[A\n",
      "chunk:   7%| | 26/354 [10:27<00:11, 27.78it/s, now=No\u001b[A"
     ]
    },
    {
     "name": "stdout",
     "output_type": "stream",
     "text": [
      "MoviePy - Done.\n"
     ]
    },
    {
     "name": "stderr",
     "output_type": "stream",
     "text": [
      "chunk:   7%| | 26/354 [10:28<00:11, 27.78it/s, now=No"
     ]
    },
    {
     "name": "stdout",
     "output_type": "stream",
     "text": [
      "MoviePy - Writing audio in C:\\Users\\Welcome\\Dhairya-Python\\sarcasm detection\\audio_context\\2_462_c.wav\n"
     ]
    },
    {
     "name": "stderr",
     "output_type": "stream",
     "text": [
      "\n",
      "chunk:   0%|       | 0/119 [00:00<?, ?it/s, now=None]\u001b[A\n",
      "chunk:  24%|▏| 29/119 [00:00<00:00, 263.62it/s, now=N\u001b[A\n",
      "chunk:   7%| | 26/354 [10:28<00:11, 27.78it/s, now=No\u001b[A"
     ]
    },
    {
     "name": "stdout",
     "output_type": "stream",
     "text": [
      "MoviePy - Done.\n"
     ]
    },
    {
     "name": "stderr",
     "output_type": "stream",
     "text": [
      "chunk:   7%| | 26/354 [10:29<00:11, 27.78it/s, now=No"
     ]
    },
    {
     "name": "stdout",
     "output_type": "stream",
     "text": [
      "MoviePy - Writing audio in C:\\Users\\Welcome\\Dhairya-Python\\sarcasm detection\\audio_context\\2_463_c.wav\n"
     ]
    },
    {
     "name": "stderr",
     "output_type": "stream",
     "text": [
      "\n",
      "chunk:   0%|       | 0/210 [00:00<?, ?it/s, now=None]\u001b[A\n",
      "chunk:   2%| | 5/210 [00:00<00:04, 50.00it/s, now=Non\u001b[A\n",
      "chunk:  49%|▍| 102/210 [00:00<00:00, 591.14it/s, now=\u001b[A\n",
      "chunk:  84%|▊| 176/210 [00:00<00:00, 659.09it/s, now=\u001b[A\n",
      "chunk:   7%| | 26/354 [10:29<00:11, 27.78it/s, now=No\u001b[A"
     ]
    },
    {
     "name": "stdout",
     "output_type": "stream",
     "text": [
      "MoviePy - Done.\n"
     ]
    },
    {
     "name": "stderr",
     "output_type": "stream",
     "text": [
      "chunk:   7%| | 26/354 [10:30<00:11, 27.78it/s, now=No"
     ]
    },
    {
     "name": "stdout",
     "output_type": "stream",
     "text": [
      "MoviePy - Writing audio in C:\\Users\\Welcome\\Dhairya-Python\\sarcasm detection\\audio_context\\2_464_c.wav\n"
     ]
    },
    {
     "name": "stderr",
     "output_type": "stream",
     "text": [
      "\n",
      "chunk:   0%|        | 0/85 [00:00<?, ?it/s, now=None]\u001b[A\n",
      "chunk:   4%| | 3/85 [00:00<00:03, 27.03it/s, now=None\u001b[A\n",
      "chunk:   7%| | 26/354 [10:30<00:11, 27.78it/s, now=No\u001b[A"
     ]
    },
    {
     "name": "stdout",
     "output_type": "stream",
     "text": [
      "MoviePy - Done.\n"
     ]
    },
    {
     "name": "stderr",
     "output_type": "stream",
     "text": [
      "chunk:   7%| | 26/354 [10:30<00:11, 27.78it/s, now=No"
     ]
    },
    {
     "name": "stdout",
     "output_type": "stream",
     "text": [
      "MoviePy - Writing audio in C:\\Users\\Welcome\\Dhairya-Python\\sarcasm detection\\audio_context\\2_465_c.wav\n"
     ]
    },
    {
     "name": "stderr",
     "output_type": "stream",
     "text": [
      "\n",
      "chunk:   0%|       | 0/119 [00:00<?, ?it/s, now=None]\u001b[A\n",
      "chunk:  49%|▍| 58/119 [00:00<00:00, 579.97it/s, now=N\u001b[A\n",
      "chunk:   7%| | 26/354 [10:31<00:11, 27.78it/s, now=No\u001b[A"
     ]
    },
    {
     "name": "stdout",
     "output_type": "stream",
     "text": [
      "MoviePy - Done.\n"
     ]
    },
    {
     "name": "stderr",
     "output_type": "stream",
     "text": [
      "chunk:   7%| | 26/354 [10:31<00:11, 27.78it/s, now=No"
     ]
    },
    {
     "name": "stdout",
     "output_type": "stream",
     "text": [
      "MoviePy - Writing audio in C:\\Users\\Welcome\\Dhairya-Python\\sarcasm detection\\audio_context\\2_467_c.wav\n"
     ]
    },
    {
     "name": "stderr",
     "output_type": "stream",
     "text": [
      "\n",
      "chunk:   0%|       | 0/193 [00:00<?, ?it/s, now=None]\u001b[A\n",
      "chunk:  12%| | 24/193 [00:00<00:00, 239.99it/s, now=N\u001b[A\n",
      "chunk:  53%|▌| 102/193 [00:00<00:00, 506.92it/s, now=\u001b[A\n",
      "chunk:  94%|▉| 182/193 [00:00<00:00, 633.83it/s, now=\u001b[A\n",
      "chunk:   7%| | 26/354 [10:32<00:11, 27.78it/s, now=No\u001b[A"
     ]
    },
    {
     "name": "stdout",
     "output_type": "stream",
     "text": [
      "MoviePy - Done.\n"
     ]
    },
    {
     "name": "stderr",
     "output_type": "stream",
     "text": [
      "chunk:   7%| | 26/354 [10:32<00:11, 27.78it/s, now=No"
     ]
    },
    {
     "name": "stdout",
     "output_type": "stream",
     "text": [
      "MoviePy - Writing audio in C:\\Users\\Welcome\\Dhairya-Python\\sarcasm detection\\audio_context\\2_471_c.wav\n"
     ]
    },
    {
     "name": "stderr",
     "output_type": "stream",
     "text": [
      "\n",
      "chunk:   0%|        | 0/88 [00:00<?, ?it/s, now=None]\u001b[A\n",
      "chunk:  32%|▎| 28/88 [00:00<00:00, 279.98it/s, now=No\u001b[A\n",
      "chunk:   7%| | 26/354 [10:32<00:11, 27.78it/s, now=No\u001b[A"
     ]
    },
    {
     "name": "stdout",
     "output_type": "stream",
     "text": [
      "MoviePy - Done.\n"
     ]
    },
    {
     "name": "stderr",
     "output_type": "stream",
     "text": [
      "chunk:   7%| | 26/354 [10:33<00:11, 27.78it/s, now=No"
     ]
    },
    {
     "name": "stdout",
     "output_type": "stream",
     "text": [
      "MoviePy - Writing audio in C:\\Users\\Welcome\\Dhairya-Python\\sarcasm detection\\audio_context\\2_472_c.wav\n"
     ]
    },
    {
     "name": "stderr",
     "output_type": "stream",
     "text": [
      "\n",
      "chunk:   0%|       | 0/146 [00:00<?, ?it/s, now=None]\u001b[A\n",
      "chunk:  14%|▏| 21/146 [00:00<00:00, 209.99it/s, now=N\u001b[A\n",
      "chunk:   7%| | 26/354 [10:33<00:11, 27.78it/s, now=No\u001b[A"
     ]
    },
    {
     "name": "stdout",
     "output_type": "stream",
     "text": [
      "MoviePy - Done.\n"
     ]
    },
    {
     "name": "stderr",
     "output_type": "stream",
     "text": [
      "chunk:   7%| | 26/354 [10:34<00:11, 27.78it/s, now=No"
     ]
    },
    {
     "name": "stdout",
     "output_type": "stream",
     "text": [
      "MoviePy - Writing audio in C:\\Users\\Welcome\\Dhairya-Python\\sarcasm detection\\audio_context\\2_473_c.wav\n"
     ]
    },
    {
     "name": "stderr",
     "output_type": "stream",
     "text": [
      "\n",
      "chunk:   0%|       | 0/377 [00:00<?, ?it/s, now=None]\u001b[A\n",
      "chunk:   1%| | 3/377 [00:00<00:15, 23.81it/s, now=Non\u001b[A\n",
      "chunk:  27%|▎| 102/377 [00:00<00:00, 485.56it/s, now=\u001b[A\n",
      "chunk:  54%|▌| 204/377 [00:00<00:00, 600.40it/s, now=\u001b[A\n",
      "chunk:  81%|▊| 306/377 [00:00<00:00, 587.55it/s, now=\u001b[A\n",
      "chunk:   7%| | 26/354 [10:34<00:11, 27.78it/s, now=No\u001b[A"
     ]
    },
    {
     "name": "stdout",
     "output_type": "stream",
     "text": [
      "MoviePy - Done.\n"
     ]
    },
    {
     "name": "stderr",
     "output_type": "stream",
     "text": [
      "chunk:   7%| | 26/354 [10:35<00:11, 27.78it/s, now=No"
     ]
    },
    {
     "name": "stdout",
     "output_type": "stream",
     "text": [
      "MoviePy - Writing audio in C:\\Users\\Welcome\\Dhairya-Python\\sarcasm detection\\audio_context\\2_474_c.wav\n"
     ]
    },
    {
     "name": "stderr",
     "output_type": "stream",
     "text": [
      "\n",
      "chunk:   0%|        | 0/83 [00:00<?, ?it/s, now=None]\u001b[A\n",
      "chunk:  20%|▏| 17/83 [00:00<00:00, 169.99it/s, now=No\u001b[A\n",
      "chunk:   7%| | 26/354 [10:35<00:11, 27.78it/s, now=No\u001b[A"
     ]
    },
    {
     "name": "stdout",
     "output_type": "stream",
     "text": [
      "MoviePy - Done.\n"
     ]
    },
    {
     "name": "stderr",
     "output_type": "stream",
     "text": [
      "chunk:   7%| | 26/354 [10:36<00:11, 27.78it/s, now=No"
     ]
    },
    {
     "name": "stdout",
     "output_type": "stream",
     "text": [
      "MoviePy - Writing audio in C:\\Users\\Welcome\\Dhairya-Python\\sarcasm detection\\audio_context\\2_475_c.wav\n"
     ]
    },
    {
     "name": "stderr",
     "output_type": "stream",
     "text": [
      "\n",
      "chunk:   0%|       | 0/132 [00:00<?, ?it/s, now=None]\u001b[A\n",
      "chunk:  20%|▏| 26/132 [00:00<00:00, 259.99it/s, now=N\u001b[A\n",
      "chunk:   7%| | 26/354 [10:36<00:11, 27.78it/s, now=No\u001b[A"
     ]
    },
    {
     "name": "stdout",
     "output_type": "stream",
     "text": [
      "MoviePy - Done.\n"
     ]
    },
    {
     "name": "stderr",
     "output_type": "stream",
     "text": [
      "chunk:   7%| | 26/354 [10:36<00:11, 27.78it/s, now=No"
     ]
    },
    {
     "name": "stdout",
     "output_type": "stream",
     "text": [
      "MoviePy - Writing audio in C:\\Users\\Welcome\\Dhairya-Python\\sarcasm detection\\audio_context\\2_477_c.wav\n"
     ]
    },
    {
     "name": "stderr",
     "output_type": "stream",
     "text": [
      "\n",
      "chunk:   0%|       | 0/217 [00:00<?, ?it/s, now=None]\u001b[A\n",
      "chunk:   8%| | 18/217 [00:00<00:01, 179.99it/s, now=N\u001b[A\n",
      "chunk:  77%|▊| 168/217 [00:00<00:00, 956.42it/s, now=\u001b[A\n",
      "chunk:   7%| | 26/354 [10:37<00:11, 27.78it/s, now=No\u001b[A"
     ]
    },
    {
     "name": "stdout",
     "output_type": "stream",
     "text": [
      "MoviePy - Done.\n"
     ]
    },
    {
     "name": "stderr",
     "output_type": "stream",
     "text": [
      "chunk:   7%| | 26/354 [10:37<00:11, 27.78it/s, now=No"
     ]
    },
    {
     "name": "stdout",
     "output_type": "stream",
     "text": [
      "MoviePy - Writing audio in C:\\Users\\Welcome\\Dhairya-Python\\sarcasm detection\\audio_context\\2_478_c.wav\n"
     ]
    },
    {
     "name": "stderr",
     "output_type": "stream",
     "text": [
      "\n",
      "chunk:   0%|       | 0/416 [00:00<?, ?it/s, now=None]\u001b[A\n",
      "chunk:   8%| | 32/416 [00:00<00:01, 319.98it/s, now=N\u001b[A\n",
      "chunk:  43%|▍| 179/416 [00:00<00:00, 996.41it/s, now=\u001b[A\n",
      "chunk:  75%|▋| 310/416 [00:00<00:00, 1139.57it/s, now\u001b[A\n",
      "chunk:   7%| | 26/354 [10:38<00:11, 27.78it/s, now=No\u001b[A"
     ]
    },
    {
     "name": "stdout",
     "output_type": "stream",
     "text": [
      "MoviePy - Done.\n"
     ]
    },
    {
     "name": "stderr",
     "output_type": "stream",
     "text": [
      "chunk:   7%| | 26/354 [10:38<00:11, 27.78it/s, now=No"
     ]
    },
    {
     "name": "stdout",
     "output_type": "stream",
     "text": [
      "MoviePy - Writing audio in C:\\Users\\Welcome\\Dhairya-Python\\sarcasm detection\\audio_context\\2_479_c.wav\n"
     ]
    },
    {
     "name": "stderr",
     "output_type": "stream",
     "text": [
      "\n",
      "chunk:   0%|       | 0/151 [00:00<?, ?it/s, now=None]\u001b[A\n",
      "chunk:  19%|▏| 29/151 [00:00<00:00, 284.30it/s, now=N\u001b[A\n",
      "chunk:   7%| | 26/354 [10:38<00:11, 27.78it/s, now=No\u001b[A"
     ]
    },
    {
     "name": "stdout",
     "output_type": "stream",
     "text": [
      "MoviePy - Done.\n"
     ]
    },
    {
     "name": "stderr",
     "output_type": "stream",
     "text": [
      "chunk:   7%| | 26/354 [10:39<00:11, 27.78it/s, now=No"
     ]
    },
    {
     "name": "stdout",
     "output_type": "stream",
     "text": [
      "MoviePy - Writing audio in C:\\Users\\Welcome\\Dhairya-Python\\sarcasm detection\\audio_context\\2_481_c.wav\n"
     ]
    },
    {
     "name": "stderr",
     "output_type": "stream",
     "text": [
      "\n",
      "chunk:   0%|       | 0/152 [00:00<?, ?it/s, now=None]\u001b[A\n",
      "chunk:   2%| | 3/152 [00:00<00:06, 22.73it/s, now=Non\u001b[A\n",
      "chunk:  67%|▋| 102/152 [00:00<00:00, 525.44it/s, now=\u001b[A\n",
      "chunk:   7%| | 26/354 [10:39<00:11, 27.78it/s, now=No\u001b[A"
     ]
    },
    {
     "name": "stdout",
     "output_type": "stream",
     "text": [
      "MoviePy - Done.\n"
     ]
    },
    {
     "name": "stderr",
     "output_type": "stream",
     "text": [
      "chunk:   7%| | 26/354 [10:40<00:11, 27.78it/s, now=No"
     ]
    },
    {
     "name": "stdout",
     "output_type": "stream",
     "text": [
      "MoviePy - Writing audio in C:\\Users\\Welcome\\Dhairya-Python\\sarcasm detection\\audio_context\\2_482_c.wav\n"
     ]
    },
    {
     "name": "stderr",
     "output_type": "stream",
     "text": [
      "\n",
      "chunk:   0%|       | 0/196 [00:00<?, ?it/s, now=None]\u001b[A\n",
      "chunk:  12%| | 23/196 [00:00<00:00, 229.99it/s, now=N\u001b[A\n",
      "chunk:  78%|▊| 153/196 [00:00<00:00, 606.19it/s, now=\u001b[A\n",
      "chunk:   7%| | 26/354 [10:40<00:11, 27.78it/s, now=No\u001b[A"
     ]
    },
    {
     "name": "stdout",
     "output_type": "stream",
     "text": [
      "MoviePy - Done.\n"
     ]
    },
    {
     "name": "stderr",
     "output_type": "stream",
     "text": [
      "chunk:   7%| | 26/354 [10:41<00:11, 27.78it/s, now=No"
     ]
    },
    {
     "name": "stdout",
     "output_type": "stream",
     "text": [
      "MoviePy - Writing audio in C:\\Users\\Welcome\\Dhairya-Python\\sarcasm detection\\audio_context\\2_484_c.wav\n"
     ]
    },
    {
     "name": "stderr",
     "output_type": "stream",
     "text": [
      "\n",
      "chunk:   0%|      | 0/1241 [00:00<?, ?it/s, now=None]\u001b[A\n",
      "chunk:   1%| | 17/1241 [00:00<00:07, 169.99it/s, now=\u001b[A\n",
      "chunk:  13%|▏| 161/1241 [00:00<00:01, 917.01it/s, now\u001b[A\n",
      "chunk:  25%|▏| 306/1241 [00:00<00:00, 1149.84it/s, no\u001b[A\n",
      "chunk:  37%|▎| 459/1241 [00:00<00:00, 1278.98it/s, no\u001b[A\n",
      "chunk:  49%|▍| 612/1241 [00:00<00:00, 1353.80it/s, no\u001b[A\n",
      "chunk:  62%|▌| 765/1241 [00:00<00:00, 1384.93it/s, no\u001b[A\n",
      "chunk:  74%|▋| 918/1241 [00:00<00:00, 1399.92it/s, no\u001b[A\n",
      "chunk:  86%|▊| 1071/1241 [00:00<00:00, 1405.34it/s, n\u001b[A\n",
      "chunk:  99%|▉| 1224/1241 [00:00<00:00, 1417.23it/s, n\u001b[A\n",
      "chunk:   7%| | 26/354 [10:42<00:11, 27.78it/s, now=No\u001b[A"
     ]
    },
    {
     "name": "stdout",
     "output_type": "stream",
     "text": [
      "MoviePy - Done.\n"
     ]
    },
    {
     "name": "stderr",
     "output_type": "stream",
     "text": [
      "chunk:   7%| | 26/354 [10:42<00:11, 27.78it/s, now=No"
     ]
    },
    {
     "name": "stdout",
     "output_type": "stream",
     "text": [
      "MoviePy - Writing audio in C:\\Users\\Welcome\\Dhairya-Python\\sarcasm detection\\audio_context\\2_485_c.wav\n"
     ]
    },
    {
     "name": "stderr",
     "output_type": "stream",
     "text": [
      "\n",
      "chunk:   0%|       | 0/314 [00:00<?, ?it/s, now=None]\u001b[A\n",
      "chunk:   1%| | 3/314 [00:00<00:10, 29.41it/s, now=Non\u001b[A\n",
      "chunk:  32%|▎| 102/314 [00:00<00:00, 573.10it/s, now=\u001b[A\n",
      "chunk:  81%|▊| 255/314 [00:00<00:00, 975.06it/s, now=\u001b[A\n",
      "chunk:   7%| | 26/354 [10:43<00:11, 27.78it/s, now=No\u001b[A"
     ]
    },
    {
     "name": "stdout",
     "output_type": "stream",
     "text": [
      "MoviePy - Done.\n"
     ]
    },
    {
     "name": "stderr",
     "output_type": "stream",
     "text": [
      "chunk:   7%| | 26/354 [10:43<00:11, 27.78it/s, now=No"
     ]
    },
    {
     "name": "stdout",
     "output_type": "stream",
     "text": [
      "MoviePy - Writing audio in C:\\Users\\Welcome\\Dhairya-Python\\sarcasm detection\\audio_context\\2_486_c.wav\n"
     ]
    },
    {
     "name": "stderr",
     "output_type": "stream",
     "text": [
      "\n",
      "chunk:   0%|       | 0/113 [00:00<?, ?it/s, now=None]\u001b[A\n",
      "chunk:   3%| | 3/113 [00:00<00:04, 22.22it/s, now=Non\u001b[A\n",
      "chunk:   7%| | 26/354 [10:44<00:11, 27.78it/s, now=No\u001b[A"
     ]
    },
    {
     "name": "stdout",
     "output_type": "stream",
     "text": [
      "MoviePy - Done.\n"
     ]
    },
    {
     "name": "stderr",
     "output_type": "stream",
     "text": [
      "chunk:   7%| | 26/354 [10:44<00:11, 27.78it/s, now=No"
     ]
    },
    {
     "name": "stdout",
     "output_type": "stream",
     "text": [
      "MoviePy - Writing audio in C:\\Users\\Welcome\\Dhairya-Python\\sarcasm detection\\audio_context\\2_487_c.wav\n"
     ]
    },
    {
     "name": "stderr",
     "output_type": "stream",
     "text": [
      "\n",
      "chunk:   0%|       | 0/402 [00:00<?, ?it/s, now=None]\u001b[A\n",
      "chunk:  10%| | 42/402 [00:00<00:00, 419.98it/s, now=N\u001b[A\n",
      "chunk:  51%|▌| 204/402 [00:00<00:00, 1069.21it/s, now\u001b[A\n",
      "chunk:  83%|▊| 332/402 [00:00<00:00, 1162.74it/s, now\u001b[A\n",
      "chunk:   7%| | 26/354 [10:44<00:11, 27.78it/s, now=No\u001b[A"
     ]
    },
    {
     "name": "stdout",
     "output_type": "stream",
     "text": [
      "MoviePy - Done.\n"
     ]
    },
    {
     "name": "stderr",
     "output_type": "stream",
     "text": [
      "chunk:   7%| | 26/354 [10:45<00:11, 27.78it/s, now=No"
     ]
    },
    {
     "name": "stdout",
     "output_type": "stream",
     "text": [
      "MoviePy - Writing audio in C:\\Users\\Welcome\\Dhairya-Python\\sarcasm detection\\audio_context\\2_488_c.wav\n"
     ]
    },
    {
     "name": "stderr",
     "output_type": "stream",
     "text": [
      "\n",
      "chunk:   0%|        | 0/87 [00:00<?, ?it/s, now=None]\u001b[A\n",
      "chunk:  18%|▏| 16/87 [00:00<00:00, 159.99it/s, now=No\u001b[A\n",
      "chunk:   7%| | 26/354 [10:45<00:11, 27.78it/s, now=No\u001b[A"
     ]
    },
    {
     "name": "stdout",
     "output_type": "stream",
     "text": [
      "MoviePy - Done.\n"
     ]
    },
    {
     "name": "stderr",
     "output_type": "stream",
     "text": [
      "chunk:   7%| | 26/354 [10:46<00:11, 27.78it/s, now=No"
     ]
    },
    {
     "name": "stdout",
     "output_type": "stream",
     "text": [
      "MoviePy - Writing audio in C:\\Users\\Welcome\\Dhairya-Python\\sarcasm detection\\audio_context\\2_489_c.wav\n"
     ]
    },
    {
     "name": "stderr",
     "output_type": "stream",
     "text": [
      "\n",
      "chunk:   0%|       | 0/150 [00:00<?, ?it/s, now=None]\u001b[A\n",
      "chunk:  13%|▏| 20/150 [00:00<00:00, 199.99it/s, now=N\u001b[A\n",
      "chunk:   7%| | 26/354 [10:46<00:11, 27.78it/s, now=No\u001b[A"
     ]
    },
    {
     "name": "stdout",
     "output_type": "stream",
     "text": [
      "MoviePy - Done.\n"
     ]
    },
    {
     "name": "stderr",
     "output_type": "stream",
     "text": [
      "chunk:   7%| | 26/354 [10:47<00:11, 27.78it/s, now=No"
     ]
    },
    {
     "name": "stdout",
     "output_type": "stream",
     "text": [
      "MoviePy - Writing audio in C:\\Users\\Welcome\\Dhairya-Python\\sarcasm detection\\audio_context\\2_48_c.wav\n"
     ]
    },
    {
     "name": "stderr",
     "output_type": "stream",
     "text": [
      "\n",
      "chunk:   0%|       | 0/222 [00:00<?, ?it/s, now=None]\u001b[A\n",
      "chunk:   3%| | 7/222 [00:00<00:03, 70.00it/s, now=Non\u001b[A\n",
      "chunk:  51%|▌| 113/222 [00:00<00:00, 652.32it/s, now=\u001b[A\n",
      "chunk:  93%|▉| 206/222 [00:00<00:00, 779.09it/s, now=\u001b[A\n",
      "chunk:   7%| | 26/354 [10:47<00:11, 27.78it/s, now=No\u001b[A"
     ]
    },
    {
     "name": "stdout",
     "output_type": "stream",
     "text": [
      "MoviePy - Done.\n"
     ]
    },
    {
     "name": "stderr",
     "output_type": "stream",
     "text": [
      "chunk:   7%| | 26/354 [10:48<00:11, 27.78it/s, now=No"
     ]
    },
    {
     "name": "stdout",
     "output_type": "stream",
     "text": [
      "MoviePy - Writing audio in C:\\Users\\Welcome\\Dhairya-Python\\sarcasm detection\\audio_context\\2_490_c.wav\n"
     ]
    },
    {
     "name": "stderr",
     "output_type": "stream",
     "text": [
      "\n",
      "chunk:   0%|       | 0/219 [00:00<?, ?it/s, now=None]\u001b[A\n",
      "chunk:   4%| | 9/219 [00:00<00:02, 89.99it/s, now=Non\u001b[A\n",
      "chunk:  70%|▋| 153/219 [00:00<00:00, 844.33it/s, now=\u001b[A\n",
      "chunk:   7%| | 26/354 [10:48<00:11, 27.78it/s, now=No\u001b[A"
     ]
    },
    {
     "name": "stdout",
     "output_type": "stream",
     "text": [
      "MoviePy - Done.\n"
     ]
    },
    {
     "name": "stderr",
     "output_type": "stream",
     "text": [
      "chunk:   7%| | 26/354 [10:48<00:11, 27.78it/s, now=No"
     ]
    },
    {
     "name": "stdout",
     "output_type": "stream",
     "text": [
      "MoviePy - Writing audio in C:\\Users\\Welcome\\Dhairya-Python\\sarcasm detection\\audio_context\\2_491_c.wav\n"
     ]
    },
    {
     "name": "stderr",
     "output_type": "stream",
     "text": [
      "\n",
      "chunk:   0%|        | 0/38 [00:00<?, ?it/s, now=None]\u001b[A\n",
      "chunk:  29%|▎| 11/38 [00:00<00:00, 109.99it/s, now=No\u001b[A\n",
      "chunk:   7%| | 26/354 [10:49<00:11, 27.78it/s, now=No\u001b[A"
     ]
    },
    {
     "name": "stdout",
     "output_type": "stream",
     "text": [
      "MoviePy - Done.\n"
     ]
    },
    {
     "name": "stderr",
     "output_type": "stream",
     "text": [
      "chunk:   7%| | 26/354 [10:49<00:11, 27.78it/s, now=No"
     ]
    },
    {
     "name": "stdout",
     "output_type": "stream",
     "text": [
      "MoviePy - Writing audio in C:\\Users\\Welcome\\Dhairya-Python\\sarcasm detection\\audio_context\\2_492_c.wav\n"
     ]
    },
    {
     "name": "stderr",
     "output_type": "stream",
     "text": [
      "\n",
      "chunk:   0%|       | 0/653 [00:00<?, ?it/s, now=None]\u001b[A\n",
      "chunk:   3%| | 20/653 [00:00<00:03, 199.99it/s, now=N\u001b[A\n",
      "chunk:  23%|▏| 153/653 [00:00<00:00, 864.66it/s, now=\u001b[A\n",
      "chunk:  47%|▍| 306/653 [00:00<00:00, 1127.25it/s, now\u001b[A\n",
      "chunk:  67%|▋| 440/653 [00:00<00:00, 1209.39it/s, now\u001b[A\n",
      "chunk:  90%|▉| 587/653 [00:00<00:00, 1302.03it/s, now\u001b[A\n",
      "chunk:   7%| | 26/354 [10:50<00:11, 27.78it/s, now=No\u001b[A"
     ]
    },
    {
     "name": "stdout",
     "output_type": "stream",
     "text": [
      "MoviePy - Done.\n"
     ]
    },
    {
     "name": "stderr",
     "output_type": "stream",
     "text": [
      "chunk:   7%| | 26/354 [10:50<00:11, 27.78it/s, now=No"
     ]
    },
    {
     "name": "stdout",
     "output_type": "stream",
     "text": [
      "MoviePy - Writing audio in C:\\Users\\Welcome\\Dhairya-Python\\sarcasm detection\\audio_context\\2_493_c.wav\n"
     ]
    },
    {
     "name": "stderr",
     "output_type": "stream",
     "text": [
      "\n",
      "chunk:   0%|        | 0/72 [00:00<?, ?it/s, now=None]\u001b[A\n",
      "chunk:  38%|▍| 27/72 [00:00<00:00, 269.98it/s, now=No\u001b[A\n",
      "chunk:   7%| | 26/354 [10:50<00:11, 27.78it/s, now=No\u001b[A"
     ]
    },
    {
     "name": "stdout",
     "output_type": "stream",
     "text": [
      "MoviePy - Done.\n"
     ]
    },
    {
     "name": "stderr",
     "output_type": "stream",
     "text": [
      "chunk:   7%| | 26/354 [10:51<00:11, 27.78it/s, now=No"
     ]
    },
    {
     "name": "stdout",
     "output_type": "stream",
     "text": [
      "MoviePy - Writing audio in C:\\Users\\Welcome\\Dhairya-Python\\sarcasm detection\\audio_context\\2_494_c.wav\n"
     ]
    },
    {
     "name": "stderr",
     "output_type": "stream",
     "text": [
      "\n",
      "chunk:   0%|       | 0/215 [00:00<?, ?it/s, now=None]\u001b[A\n",
      "chunk:  13%|▏| 29/215 [00:00<00:00, 284.30it/s, now=N\u001b[A\n",
      "chunk:  85%|▊| 182/215 [00:00<00:00, 1011.03it/s, now\u001b[A\n",
      "chunk:   7%| | 26/354 [10:51<00:11, 27.78it/s, now=No\u001b[A"
     ]
    },
    {
     "name": "stdout",
     "output_type": "stream",
     "text": [
      "MoviePy - Done.\n"
     ]
    },
    {
     "name": "stderr",
     "output_type": "stream",
     "text": [
      "chunk:   7%| | 26/354 [10:52<00:11, 27.78it/s, now=No"
     ]
    },
    {
     "name": "stdout",
     "output_type": "stream",
     "text": [
      "MoviePy - Writing audio in C:\\Users\\Welcome\\Dhairya-Python\\sarcasm detection\\audio_context\\2_495_c.wav\n"
     ]
    },
    {
     "name": "stderr",
     "output_type": "stream",
     "text": [
      "\n",
      "chunk:   0%|       | 0/149 [00:00<?, ?it/s, now=None]\u001b[A\n",
      "chunk:  17%|▏| 26/149 [00:00<00:00, 259.99it/s, now=N\u001b[A\n",
      "chunk:  88%|▉| 131/149 [00:00<00:00, 724.67it/s, now=\u001b[A\n",
      "chunk:   7%| | 26/354 [10:52<00:11, 27.78it/s, now=No\u001b[A"
     ]
    },
    {
     "name": "stdout",
     "output_type": "stream",
     "text": [
      "MoviePy - Done.\n"
     ]
    },
    {
     "name": "stderr",
     "output_type": "stream",
     "text": [
      "chunk:   7%| | 26/354 [10:53<00:11, 27.78it/s, now=No"
     ]
    },
    {
     "name": "stdout",
     "output_type": "stream",
     "text": [
      "MoviePy - Writing audio in C:\\Users\\Welcome\\Dhairya-Python\\sarcasm detection\\audio_context\\2_498_c.wav\n"
     ]
    },
    {
     "name": "stderr",
     "output_type": "stream",
     "text": [
      "\n",
      "chunk:   0%|       | 0/438 [00:00<?, ?it/s, now=None]\u001b[A\n",
      "chunk:   6%| | 27/438 [00:00<00:01, 269.98it/s, now=N\u001b[A\n",
      "chunk:  39%|▍| 173/438 [00:00<00:00, 969.94it/s, now=\u001b[A\n",
      "chunk:  70%|▋| 306/438 [00:00<00:00, 1089.54it/s, now\u001b[A\n",
      "chunk:   7%| | 26/354 [10:53<00:11, 27.78it/s, now=No\u001b[A"
     ]
    },
    {
     "name": "stdout",
     "output_type": "stream",
     "text": [
      "MoviePy - Done.\n"
     ]
    },
    {
     "name": "stderr",
     "output_type": "stream",
     "text": [
      "chunk:   7%| | 26/354 [10:54<00:11, 27.78it/s, now=No"
     ]
    },
    {
     "name": "stdout",
     "output_type": "stream",
     "text": [
      "MoviePy - Writing audio in C:\\Users\\Welcome\\Dhairya-Python\\sarcasm detection\\audio_context\\2_499_c.wav\n"
     ]
    },
    {
     "name": "stderr",
     "output_type": "stream",
     "text": [
      "\n",
      "chunk:   0%|       | 0/486 [00:00<?, ?it/s, now=None]\u001b[A\n",
      "chunk:   4%| | 21/486 [00:00<00:02, 209.99it/s, now=N\u001b[A\n",
      "chunk:  27%|▎| 133/486 [00:00<00:00, 745.25it/s, now=\u001b[A\n",
      "chunk:  43%|▍| 210/486 [00:00<00:00, 720.35it/s, now=\u001b[A\n",
      "chunk:  63%|▋| 306/486 [00:00<00:00, 765.24it/s, now=\u001b[A\n",
      "chunk:  84%|▊| 407/486 [00:00<00:00, 848.50it/s, now=\u001b[A\n",
      "chunk:   7%| | 26/354 [10:54<00:11, 27.78it/s, now=No\u001b[A"
     ]
    },
    {
     "name": "stdout",
     "output_type": "stream",
     "text": [
      "MoviePy - Done.\n"
     ]
    },
    {
     "name": "stderr",
     "output_type": "stream",
     "text": [
      "chunk:   7%| | 26/354 [10:55<00:11, 27.78it/s, now=No"
     ]
    },
    {
     "name": "stdout",
     "output_type": "stream",
     "text": [
      "MoviePy - Writing audio in C:\\Users\\Welcome\\Dhairya-Python\\sarcasm detection\\audio_context\\2_49_c.wav\n"
     ]
    },
    {
     "name": "stderr",
     "output_type": "stream",
     "text": [
      "\n",
      "chunk:   0%|       | 0/562 [00:00<?, ?it/s, now=None]\u001b[A\n",
      "chunk:   4%| | 21/562 [00:00<00:02, 209.99it/s, now=N\u001b[A\n",
      "chunk:  29%|▎| 161/562 [00:00<00:00, 909.95it/s, now=\u001b[A\n",
      "chunk:  56%|▌| 315/562 [00:00<00:00, 1197.60it/s, now\u001b[A\n",
      "chunk:  82%|▊| 459/562 [00:00<00:00, 1268.23it/s, now\u001b[A\n",
      "chunk:   7%| | 26/354 [10:55<00:11, 27.78it/s, now=No\u001b[A"
     ]
    },
    {
     "name": "stdout",
     "output_type": "stream",
     "text": [
      "MoviePy - Done.\n"
     ]
    },
    {
     "name": "stderr",
     "output_type": "stream",
     "text": [
      "chunk:   7%| | 26/354 [10:56<00:11, 27.78it/s, now=No"
     ]
    },
    {
     "name": "stdout",
     "output_type": "stream",
     "text": [
      "MoviePy - Writing audio in C:\\Users\\Welcome\\Dhairya-Python\\sarcasm detection\\audio_context\\2_500_c.wav\n"
     ]
    },
    {
     "name": "stderr",
     "output_type": "stream",
     "text": [
      "\n",
      "chunk:   0%|       | 0/372 [00:00<?, ?it/s, now=None]\u001b[A\n",
      "chunk:  14%|▏| 52/372 [00:00<00:00, 519.97it/s, now=N\u001b[A\n",
      "chunk:  55%|▌| 204/372 [00:00<00:00, 1046.61it/s, now\u001b[A\n",
      "chunk:  96%|▉| 357/372 [00:00<00:00, 1243.95it/s, now\u001b[A\n",
      "chunk:   7%| | 26/354 [10:56<00:11, 27.78it/s, now=No\u001b[A"
     ]
    },
    {
     "name": "stdout",
     "output_type": "stream",
     "text": [
      "MoviePy - Done.\n"
     ]
    },
    {
     "name": "stderr",
     "output_type": "stream",
     "text": [
      "chunk:   7%| | 26/354 [10:57<00:11, 27.78it/s, now=No"
     ]
    },
    {
     "name": "stdout",
     "output_type": "stream",
     "text": [
      "MoviePy - Writing audio in C:\\Users\\Welcome\\Dhairya-Python\\sarcasm detection\\audio_context\\2_502_c.wav\n"
     ]
    },
    {
     "name": "stderr",
     "output_type": "stream",
     "text": [
      "\n",
      "chunk:   0%|        | 0/57 [00:00<?, ?it/s, now=None]\u001b[A\n",
      "chunk:   5%| | 3/57 [00:00<00:02, 26.55it/s, now=None\u001b[A\n",
      "chunk:   7%| | 26/354 [10:57<00:11, 27.78it/s, now=No\u001b[A"
     ]
    },
    {
     "name": "stdout",
     "output_type": "stream",
     "text": [
      "MoviePy - Done.\n"
     ]
    },
    {
     "name": "stderr",
     "output_type": "stream",
     "text": [
      "chunk:   7%| | 26/354 [10:58<00:11, 27.78it/s, now=No"
     ]
    },
    {
     "name": "stdout",
     "output_type": "stream",
     "text": [
      "MoviePy - Writing audio in C:\\Users\\Welcome\\Dhairya-Python\\sarcasm detection\\audio_context\\2_504_c.wav\n"
     ]
    },
    {
     "name": "stderr",
     "output_type": "stream",
     "text": [
      "\n",
      "chunk:   0%|       | 0/192 [00:00<?, ?it/s, now=None]\u001b[A\n",
      "chunk:  15%|▏| 28/192 [00:00<00:00, 279.98it/s, now=N\u001b[A\n",
      "chunk:  80%|▊| 153/192 [00:00<00:00, 749.18it/s, now=\u001b[A\n",
      "chunk:   7%| | 26/354 [10:58<00:11, 27.78it/s, now=No\u001b[A"
     ]
    },
    {
     "name": "stdout",
     "output_type": "stream",
     "text": [
      "MoviePy - Done.\n"
     ]
    },
    {
     "name": "stderr",
     "output_type": "stream",
     "text": [
      "chunk:   7%| | 26/354 [10:58<00:11, 27.78it/s, now=No"
     ]
    },
    {
     "name": "stdout",
     "output_type": "stream",
     "text": [
      "MoviePy - Writing audio in C:\\Users\\Welcome\\Dhairya-Python\\sarcasm detection\\audio_context\\2_505_c.wav\n"
     ]
    },
    {
     "name": "stderr",
     "output_type": "stream",
     "text": [
      "\n",
      "chunk:   0%|       | 0/145 [00:00<?, ?it/s, now=None]\u001b[A\n",
      "chunk:  18%|▏| 26/145 [00:00<00:00, 259.99it/s, now=N\u001b[A\n",
      "chunk:   7%| | 26/354 [10:59<00:11, 27.78it/s, now=No\u001b[A"
     ]
    },
    {
     "name": "stdout",
     "output_type": "stream",
     "text": [
      "MoviePy - Done.\n"
     ]
    },
    {
     "name": "stderr",
     "output_type": "stream",
     "text": [
      "chunk:   7%| | 26/354 [10:59<00:11, 27.78it/s, now=No"
     ]
    },
    {
     "name": "stdout",
     "output_type": "stream",
     "text": [
      "MoviePy - Writing audio in C:\\Users\\Welcome\\Dhairya-Python\\sarcasm detection\\audio_context\\2_506_c.wav\n"
     ]
    },
    {
     "name": "stderr",
     "output_type": "stream",
     "text": [
      "\n",
      "chunk:   0%|       | 0/129 [00:00<?, ?it/s, now=None]\u001b[A\n",
      "chunk:  21%|▏| 27/129 [00:00<00:00, 269.98it/s, now=N\u001b[A\n",
      "chunk:   7%| | 26/354 [11:00<00:11, 27.78it/s, now=No\u001b[A"
     ]
    },
    {
     "name": "stdout",
     "output_type": "stream",
     "text": [
      "MoviePy - Done.\n"
     ]
    },
    {
     "name": "stderr",
     "output_type": "stream",
     "text": [
      "chunk:   7%| | 26/354 [11:00<00:11, 27.78it/s, now=No"
     ]
    },
    {
     "name": "stdout",
     "output_type": "stream",
     "text": [
      "MoviePy - Writing audio in C:\\Users\\Welcome\\Dhairya-Python\\sarcasm detection\\audio_context\\2_507_c.wav\n"
     ]
    },
    {
     "name": "stderr",
     "output_type": "stream",
     "text": [
      "\n",
      "chunk:   0%|        | 0/62 [00:00<?, ?it/s, now=None]\u001b[A\n",
      "chunk:  24%|▏| 15/62 [00:00<00:00, 149.99it/s, now=No\u001b[A\n",
      "chunk:   7%| | 26/354 [11:00<00:11, 27.78it/s, now=No\u001b[A"
     ]
    },
    {
     "name": "stdout",
     "output_type": "stream",
     "text": [
      "MoviePy - Done.\n"
     ]
    },
    {
     "name": "stderr",
     "output_type": "stream",
     "text": [
      "chunk:   7%| | 26/354 [11:01<00:11, 27.78it/s, now=No"
     ]
    },
    {
     "name": "stdout",
     "output_type": "stream",
     "text": [
      "MoviePy - Writing audio in C:\\Users\\Welcome\\Dhairya-Python\\sarcasm detection\\audio_context\\2_508_c.wav\n"
     ]
    },
    {
     "name": "stderr",
     "output_type": "stream",
     "text": [
      "\n",
      "chunk:   0%|       | 0/393 [00:00<?, ?it/s, now=None]\u001b[A\n",
      "chunk:   1%| | 3/393 [00:00<00:13, 30.00it/s, now=Non\u001b[A\n",
      "chunk:  39%|▍| 153/393 [00:00<00:00, 879.14it/s, now=\u001b[A\n",
      "chunk:  65%|▋| 255/393 [00:00<00:00, 882.92it/s, now=\u001b[A\n",
      "chunk:   7%| | 26/354 [11:01<00:11, 27.78it/s, now=No\u001b[A"
     ]
    },
    {
     "name": "stdout",
     "output_type": "stream",
     "text": [
      "MoviePy - Done.\n"
     ]
    },
    {
     "name": "stderr",
     "output_type": "stream",
     "text": [
      "chunk:   7%| | 26/354 [11:02<00:11, 27.78it/s, now=No"
     ]
    },
    {
     "name": "stdout",
     "output_type": "stream",
     "text": [
      "MoviePy - Writing audio in C:\\Users\\Welcome\\Dhairya-Python\\sarcasm detection\\audio_context\\2_509_c.wav\n"
     ]
    },
    {
     "name": "stderr",
     "output_type": "stream",
     "text": [
      "\n",
      "chunk:   0%|       | 0/104 [00:00<?, ?it/s, now=None]\u001b[A\n",
      "chunk:   3%| | 3/104 [00:00<00:03, 27.27it/s, now=Non\u001b[A\n",
      "chunk:   7%| | 26/354 [11:02<00:11, 27.78it/s, now=No\u001b[A"
     ]
    },
    {
     "name": "stdout",
     "output_type": "stream",
     "text": [
      "MoviePy - Done.\n"
     ]
    },
    {
     "name": "stderr",
     "output_type": "stream",
     "text": [
      "chunk:   7%| | 26/354 [11:02<00:11, 27.78it/s, now=No"
     ]
    },
    {
     "name": "stdout",
     "output_type": "stream",
     "text": [
      "MoviePy - Writing audio in C:\\Users\\Welcome\\Dhairya-Python\\sarcasm detection\\audio_context\\2_50_c.wav\n"
     ]
    },
    {
     "name": "stderr",
     "output_type": "stream",
     "text": [
      "\n",
      "chunk:   0%|       | 0/324 [00:00<?, ?it/s, now=None]\u001b[A\n",
      "chunk:  15%|▏| 48/324 [00:00<00:00, 479.97it/s, now=N\u001b[A\n",
      "chunk:  47%|▍| 153/324 [00:00<00:00, 787.45it/s, now=\u001b[A\n",
      "chunk:  94%|▉| 306/324 [00:00<00:00, 1095.56it/s, now\u001b[A\n",
      "chunk:   7%| | 26/354 [11:03<00:11, 27.78it/s, now=No\u001b[A"
     ]
    },
    {
     "name": "stdout",
     "output_type": "stream",
     "text": [
      "MoviePy - Done.\n"
     ]
    },
    {
     "name": "stderr",
     "output_type": "stream",
     "text": [
      "chunk:   7%| | 26/354 [11:03<00:11, 27.78it/s, now=No"
     ]
    },
    {
     "name": "stdout",
     "output_type": "stream",
     "text": [
      "MoviePy - Writing audio in C:\\Users\\Welcome\\Dhairya-Python\\sarcasm detection\\audio_context\\2_511_c.wav\n"
     ]
    },
    {
     "name": "stderr",
     "output_type": "stream",
     "text": [
      "\n",
      "chunk:   0%|        | 0/69 [00:00<?, ?it/s, now=None]\u001b[A\n",
      "chunk:  28%|▎| 19/69 [00:00<00:00, 189.99it/s, now=No\u001b[A\n",
      "chunk:   7%| | 26/354 [11:03<00:11, 27.78it/s, now=No\u001b[A"
     ]
    },
    {
     "name": "stdout",
     "output_type": "stream",
     "text": [
      "MoviePy - Done.\n"
     ]
    },
    {
     "name": "stderr",
     "output_type": "stream",
     "text": [
      "chunk:   7%| | 26/354 [11:04<00:11, 27.78it/s, now=No"
     ]
    },
    {
     "name": "stdout",
     "output_type": "stream",
     "text": [
      "MoviePy - Writing audio in C:\\Users\\Welcome\\Dhairya-Python\\sarcasm detection\\audio_context\\2_512_c.wav\n"
     ]
    },
    {
     "name": "stderr",
     "output_type": "stream",
     "text": [
      "\n",
      "chunk:   0%|       | 0/283 [00:00<?, ?it/s, now=None]\u001b[A\n",
      "chunk:   5%| | 14/283 [00:00<00:01, 139.99it/s, now=N\u001b[A\n",
      "chunk:  58%|▌| 164/283 [00:00<00:00, 939.95it/s, now=\u001b[A\n",
      "chunk:   7%| | 26/354 [11:04<00:11, 27.78it/s, now=No\u001b[A"
     ]
    },
    {
     "name": "stdout",
     "output_type": "stream",
     "text": [
      "MoviePy - Done.\n"
     ]
    },
    {
     "name": "stderr",
     "output_type": "stream",
     "text": [
      "chunk:   7%| | 26/354 [11:05<00:11, 27.78it/s, now=No"
     ]
    },
    {
     "name": "stdout",
     "output_type": "stream",
     "text": [
      "MoviePy - Writing audio in C:\\Users\\Welcome\\Dhairya-Python\\sarcasm detection\\audio_context\\2_514_c.wav\n"
     ]
    },
    {
     "name": "stderr",
     "output_type": "stream",
     "text": [
      "\n",
      "chunk:   0%|       | 0/309 [00:00<?, ?it/s, now=None]\u001b[A\n",
      "chunk:   1%| | 4/309 [00:00<00:07, 40.00it/s, now=Non\u001b[A\n",
      "chunk:  38%|▍| 116/309 [00:00<00:00, 675.26it/s, now=\u001b[A\n",
      "chunk:  66%|▋| 204/309 [00:00<00:00, 731.96it/s, now=\u001b[A\n",
      "chunk:   7%| | 26/354 [11:05<00:11, 27.78it/s, now=No\u001b[A"
     ]
    },
    {
     "name": "stdout",
     "output_type": "stream",
     "text": [
      "MoviePy - Done.\n"
     ]
    },
    {
     "name": "stderr",
     "output_type": "stream",
     "text": [
      "chunk:   7%| | 26/354 [11:06<00:11, 27.78it/s, now=No"
     ]
    },
    {
     "name": "stdout",
     "output_type": "stream",
     "text": [
      "MoviePy - Writing audio in C:\\Users\\Welcome\\Dhairya-Python\\sarcasm detection\\audio_context\\2_517_c.wav\n"
     ]
    },
    {
     "name": "stderr",
     "output_type": "stream",
     "text": [
      "\n",
      "chunk:   0%|       | 0/128 [00:00<?, ?it/s, now=None]\u001b[A\n",
      "chunk:   5%| | 7/128 [00:00<00:01, 70.00it/s, now=Non\u001b[A\n",
      "chunk:  90%|▉| 115/128 [00:00<00:00, 664.08it/s, now=\u001b[A\n",
      "chunk:   7%| | 26/354 [11:06<00:11, 27.78it/s, now=No\u001b[A"
     ]
    },
    {
     "name": "stdout",
     "output_type": "stream",
     "text": [
      "MoviePy - Done.\n"
     ]
    },
    {
     "name": "stderr",
     "output_type": "stream",
     "text": [
      "chunk:   7%| | 26/354 [11:07<00:11, 27.78it/s, now=No"
     ]
    },
    {
     "name": "stdout",
     "output_type": "stream",
     "text": [
      "MoviePy - Writing audio in C:\\Users\\Welcome\\Dhairya-Python\\sarcasm detection\\audio_context\\2_518_c.wav\n"
     ]
    },
    {
     "name": "stderr",
     "output_type": "stream",
     "text": [
      "\n",
      "chunk:   0%|       | 0/466 [00:00<?, ?it/s, now=None]\u001b[A\n",
      "chunk:   1%| | 3/466 [00:00<00:16, 28.30it/s, now=Non\u001b[A\n",
      "chunk:  33%|▎| 153/466 [00:00<00:00, 873.08it/s, now=\u001b[A\n",
      "chunk:  66%|▋| 306/466 [00:00<00:00, 1123.47it/s, now\u001b[A\n",
      "chunk:  92%|▉| 431/466 [00:00<00:00, 1171.80it/s, now\u001b[A\n",
      "chunk:   7%| | 26/354 [11:07<00:11, 27.78it/s, now=No\u001b[A"
     ]
    },
    {
     "name": "stdout",
     "output_type": "stream",
     "text": [
      "MoviePy - Done.\n"
     ]
    },
    {
     "name": "stderr",
     "output_type": "stream",
     "text": [
      "chunk:   7%| | 26/354 [11:08<00:11, 27.78it/s, now=No"
     ]
    },
    {
     "name": "stdout",
     "output_type": "stream",
     "text": [
      "MoviePy - Writing audio in C:\\Users\\Welcome\\Dhairya-Python\\sarcasm detection\\audio_context\\2_51_c.wav\n"
     ]
    },
    {
     "name": "stderr",
     "output_type": "stream",
     "text": [
      "\n",
      "chunk:   0%|       | 0/188 [00:00<?, ?it/s, now=None]\u001b[A\n",
      "chunk:   6%| | 12/188 [00:00<00:01, 119.99it/s, now=N\u001b[A\n",
      "chunk:  66%|▋| 124/188 [00:00<00:00, 708.20it/s, now=\u001b[A\n",
      "chunk:   7%| | 26/354 [11:09<00:11, 27.78it/s, now=No\u001b[A"
     ]
    },
    {
     "name": "stdout",
     "output_type": "stream",
     "text": [
      "MoviePy - Done.\n"
     ]
    },
    {
     "name": "stderr",
     "output_type": "stream",
     "text": [
      "chunk:   7%| | 26/354 [11:09<00:11, 27.78it/s, now=No"
     ]
    },
    {
     "name": "stdout",
     "output_type": "stream",
     "text": [
      "MoviePy - Writing audio in C:\\Users\\Welcome\\Dhairya-Python\\sarcasm detection\\audio_context\\2_521_c.wav\n"
     ]
    },
    {
     "name": "stderr",
     "output_type": "stream",
     "text": [
      "\n",
      "chunk:   0%|       | 0/158 [00:00<?, ?it/s, now=None]\u001b[A\n",
      "chunk:  15%|▏| 24/158 [00:00<00:00, 239.99it/s, now=N\u001b[A\n",
      "chunk:  65%|▋| 102/158 [00:00<00:00, 547.94it/s, now=\u001b[A\n",
      "chunk:   7%| | 26/354 [11:09<00:11, 27.78it/s, now=No\u001b[A"
     ]
    },
    {
     "name": "stdout",
     "output_type": "stream",
     "text": [
      "MoviePy - Done.\n"
     ]
    },
    {
     "name": "stderr",
     "output_type": "stream",
     "text": [
      "chunk:   7%| | 26/354 [11:10<00:11, 27.78it/s, now=No"
     ]
    },
    {
     "name": "stdout",
     "output_type": "stream",
     "text": [
      "MoviePy - Writing audio in C:\\Users\\Welcome\\Dhairya-Python\\sarcasm detection\\audio_context\\2_522_c.wav\n"
     ]
    },
    {
     "name": "stderr",
     "output_type": "stream",
     "text": [
      "\n",
      "chunk:   0%|       | 0/306 [00:00<?, ?it/s, now=None]\u001b[A\n",
      "chunk:   6%| | 18/306 [00:00<00:01, 179.99it/s, now=N\u001b[A\n",
      "chunk:  46%|▍| 140/306 [00:00<00:00, 791.72it/s, now=\u001b[A\n",
      "chunk:  72%|▋| 221/306 [00:00<00:00, 727.01it/s, now=\u001b[A\n",
      "chunk: 100%|█| 306/306 [00:00<00:00, 761.43it/s, now=\u001b[A\n",
      "chunk:   7%| | 26/354 [11:10<00:11, 27.78it/s, now=No\u001b[A"
     ]
    },
    {
     "name": "stdout",
     "output_type": "stream",
     "text": [
      "MoviePy - Done.\n"
     ]
    },
    {
     "name": "stderr",
     "output_type": "stream",
     "text": [
      "chunk:   7%| | 26/354 [11:11<00:11, 27.78it/s, now=No"
     ]
    },
    {
     "name": "stdout",
     "output_type": "stream",
     "text": [
      "MoviePy - Writing audio in C:\\Users\\Welcome\\Dhairya-Python\\sarcasm detection\\audio_context\\2_523_c.wav\n"
     ]
    },
    {
     "name": "stderr",
     "output_type": "stream",
     "text": [
      "\n",
      "chunk:   0%|       | 0/114 [00:00<?, ?it/s, now=None]\u001b[A\n",
      "chunk:   3%| | 3/114 [00:00<00:03, 28.04it/s, now=Non\u001b[A\n",
      "chunk:   7%| | 26/354 [11:11<00:11, 27.78it/s, now=No\u001b[A"
     ]
    },
    {
     "name": "stdout",
     "output_type": "stream",
     "text": [
      "MoviePy - Done.\n"
     ]
    },
    {
     "name": "stderr",
     "output_type": "stream",
     "text": [
      "chunk:   7%| | 26/354 [11:12<00:11, 27.78it/s, now=No"
     ]
    },
    {
     "name": "stdout",
     "output_type": "stream",
     "text": [
      "MoviePy - Writing audio in C:\\Users\\Welcome\\Dhairya-Python\\sarcasm detection\\audio_context\\2_524_c.wav\n"
     ]
    },
    {
     "name": "stderr",
     "output_type": "stream",
     "text": [
      "\n",
      "chunk:   0%|       | 0/155 [00:00<?, ?it/s, now=None]\u001b[A\n",
      "chunk:   2%| | 3/155 [00:00<00:05, 30.00it/s, now=Non\u001b[A\n",
      "chunk:   7%| | 26/354 [11:12<00:11, 27.78it/s, now=No\u001b[A"
     ]
    },
    {
     "name": "stdout",
     "output_type": "stream",
     "text": [
      "MoviePy - Done.\n"
     ]
    },
    {
     "name": "stderr",
     "output_type": "stream",
     "text": [
      "chunk:   7%| | 26/354 [11:13<00:11, 27.78it/s, now=No"
     ]
    },
    {
     "name": "stdout",
     "output_type": "stream",
     "text": [
      "MoviePy - Writing audio in C:\\Users\\Welcome\\Dhairya-Python\\sarcasm detection\\audio_context\\2_525_c.wav\n"
     ]
    },
    {
     "name": "stderr",
     "output_type": "stream",
     "text": [
      "\n",
      "chunk:   0%|       | 0/213 [00:00<?, ?it/s, now=None]\u001b[A\n",
      "chunk:   8%| | 16/213 [00:00<00:01, 159.99it/s, now=N\u001b[A\n",
      "chunk:  61%|▌| 130/213 [00:00<00:00, 736.43it/s, now=\u001b[A\n",
      "chunk:  97%|▉| 206/213 [00:00<00:00, 747.17it/s, now=\u001b[A\n",
      "chunk:   7%| | 26/354 [11:13<00:11, 27.78it/s, now=No\u001b[A"
     ]
    },
    {
     "name": "stdout",
     "output_type": "stream",
     "text": [
      "MoviePy - Done.\n"
     ]
    },
    {
     "name": "stderr",
     "output_type": "stream",
     "text": [
      "chunk:   7%| | 26/354 [11:14<00:11, 27.78it/s, now=No"
     ]
    },
    {
     "name": "stdout",
     "output_type": "stream",
     "text": [
      "MoviePy - Writing audio in C:\\Users\\Welcome\\Dhairya-Python\\sarcasm detection\\audio_context\\2_526_c.wav\n"
     ]
    },
    {
     "name": "stderr",
     "output_type": "stream",
     "text": [
      "\n",
      "chunk:   0%|       | 0/247 [00:00<?, ?it/s, now=None]\u001b[A\n",
      "chunk:   1%| | 3/247 [00:00<00:12, 18.99it/s, now=Non\u001b[A\n",
      "chunk:  41%|▍| 102/247 [00:00<00:00, 438.40it/s, now=\u001b[A\n",
      "chunk:  81%|▊| 201/247 [00:00<00:00, 649.38it/s, now=\u001b[A\n",
      "chunk:   7%| | 26/354 [11:14<00:11, 27.78it/s, now=No\u001b[A"
     ]
    },
    {
     "name": "stdout",
     "output_type": "stream",
     "text": [
      "MoviePy - Done.\n"
     ]
    },
    {
     "name": "stderr",
     "output_type": "stream",
     "text": [
      "chunk:   7%| | 26/354 [11:15<00:11, 27.78it/s, now=No"
     ]
    },
    {
     "name": "stdout",
     "output_type": "stream",
     "text": [
      "MoviePy - Writing audio in C:\\Users\\Welcome\\Dhairya-Python\\sarcasm detection\\audio_context\\2_527_c.wav\n"
     ]
    },
    {
     "name": "stderr",
     "output_type": "stream",
     "text": [
      "\n",
      "chunk:   0%|        | 0/76 [00:00<?, ?it/s, now=None]\u001b[A\n",
      "chunk:  30%|▎| 23/76 [00:00<00:00, 229.99it/s, now=No\u001b[A\n",
      "chunk:   7%| | 26/354 [11:15<00:11, 27.78it/s, now=No\u001b[A"
     ]
    },
    {
     "name": "stdout",
     "output_type": "stream",
     "text": [
      "MoviePy - Done.\n"
     ]
    },
    {
     "name": "stderr",
     "output_type": "stream",
     "text": [
      "chunk:   7%| | 26/354 [11:16<00:11, 27.78it/s, now=No"
     ]
    },
    {
     "name": "stdout",
     "output_type": "stream",
     "text": [
      "MoviePy - Writing audio in C:\\Users\\Welcome\\Dhairya-Python\\sarcasm detection\\audio_context\\2_530_c.wav\n"
     ]
    },
    {
     "name": "stderr",
     "output_type": "stream",
     "text": [
      "\n",
      "chunk:   0%|       | 0/246 [00:00<?, ?it/s, now=None]\u001b[A\n",
      "chunk:   1%| | 3/246 [00:00<00:09, 25.00it/s, now=Non\u001b[A\n",
      "chunk:  41%|▍| 102/246 [00:00<00:00, 529.29it/s, now=\u001b[A\n",
      "chunk:  65%|▋| 159/246 [00:00<00:00, 480.85it/s, now=\u001b[A\n",
      "chunk:   7%| | 26/354 [11:16<00:11, 27.78it/s, now=No\u001b[A"
     ]
    },
    {
     "name": "stdout",
     "output_type": "stream",
     "text": [
      "MoviePy - Done.\n"
     ]
    },
    {
     "name": "stderr",
     "output_type": "stream",
     "text": [
      "chunk:   7%| | 26/354 [11:17<00:11, 27.78it/s, now=No"
     ]
    },
    {
     "name": "stdout",
     "output_type": "stream",
     "text": [
      "MoviePy - Writing audio in C:\\Users\\Welcome\\Dhairya-Python\\sarcasm detection\\audio_context\\2_531_c.wav\n"
     ]
    },
    {
     "name": "stderr",
     "output_type": "stream",
     "text": [
      "\n",
      "chunk:   0%|       | 0/139 [00:00<?, ?it/s, now=None]\u001b[A\n",
      "chunk:   9%| | 13/139 [00:00<00:00, 129.99it/s, now=N\u001b[A\n",
      "chunk:  73%|▋| 102/139 [00:00<00:00, 577.03it/s, now=\u001b[A\n",
      "chunk:   7%| | 26/354 [11:17<00:11, 27.78it/s, now=No\u001b[A"
     ]
    },
    {
     "name": "stdout",
     "output_type": "stream",
     "text": [
      "MoviePy - Done.\n"
     ]
    },
    {
     "name": "stderr",
     "output_type": "stream",
     "text": [
      "chunk:   7%| | 26/354 [11:17<00:11, 27.78it/s, now=No"
     ]
    },
    {
     "name": "stdout",
     "output_type": "stream",
     "text": [
      "MoviePy - Writing audio in C:\\Users\\Welcome\\Dhairya-Python\\sarcasm detection\\audio_context\\2_532_c.wav\n"
     ]
    },
    {
     "name": "stderr",
     "output_type": "stream",
     "text": [
      "\n",
      "chunk:   0%|        | 0/85 [00:00<?, ?it/s, now=None]\u001b[A\n",
      "chunk:  48%|▍| 41/85 [00:00<00:00, 409.98it/s, now=No\u001b[A\n",
      "chunk:   7%| | 26/354 [11:18<00:11, 27.78it/s, now=No\u001b[A"
     ]
    },
    {
     "name": "stdout",
     "output_type": "stream",
     "text": [
      "MoviePy - Done.\n"
     ]
    },
    {
     "name": "stderr",
     "output_type": "stream",
     "text": [
      "chunk:   7%| | 26/354 [11:18<00:11, 27.78it/s, now=No"
     ]
    },
    {
     "name": "stdout",
     "output_type": "stream",
     "text": [
      "MoviePy - Writing audio in C:\\Users\\Welcome\\Dhairya-Python\\sarcasm detection\\audio_context\\2_534_c.wav\n"
     ]
    },
    {
     "name": "stderr",
     "output_type": "stream",
     "text": [
      "\n",
      "chunk:   0%|       | 0/168 [00:00<?, ?it/s, now=None]\u001b[A\n",
      "chunk:   9%| | 15/168 [00:00<00:01, 149.99it/s, now=N\u001b[A\n",
      "chunk:  76%|▊| 127/168 [00:00<00:00, 720.55it/s, now=\u001b[A\n",
      "chunk:   7%| | 26/354 [11:18<00:11, 27.78it/s, now=No\u001b[A"
     ]
    },
    {
     "name": "stdout",
     "output_type": "stream",
     "text": [
      "MoviePy - Done.\n"
     ]
    },
    {
     "name": "stderr",
     "output_type": "stream",
     "text": [
      "chunk:   7%| | 26/354 [11:19<00:11, 27.78it/s, now=No"
     ]
    },
    {
     "name": "stdout",
     "output_type": "stream",
     "text": [
      "MoviePy - Writing audio in C:\\Users\\Welcome\\Dhairya-Python\\sarcasm detection\\audio_context\\2_535_c.wav\n"
     ]
    },
    {
     "name": "stderr",
     "output_type": "stream",
     "text": [
      "\n",
      "chunk:   0%|       | 0/414 [00:00<?, ?it/s, now=None]\u001b[A\n",
      "chunk:   3%| | 12/414 [00:00<00:03, 119.99it/s, now=N\u001b[A\n",
      "chunk:  25%|▏| 102/414 [00:00<00:00, 549.69it/s, now=\u001b[A\n",
      "chunk:  49%|▍| 204/414 [00:00<00:00, 679.95it/s, now=\u001b[A\n",
      "chunk:  74%|▋| 306/414 [00:00<00:00, 726.78it/s, now=\u001b[A\n",
      "chunk:   7%| | 26/354 [11:20<00:11, 27.78it/s, now=No\u001b[A"
     ]
    },
    {
     "name": "stdout",
     "output_type": "stream",
     "text": [
      "MoviePy - Done.\n"
     ]
    },
    {
     "name": "stderr",
     "output_type": "stream",
     "text": [
      "chunk:   7%| | 26/354 [11:20<00:11, 27.78it/s, now=No"
     ]
    },
    {
     "name": "stdout",
     "output_type": "stream",
     "text": [
      "MoviePy - Writing audio in C:\\Users\\Welcome\\Dhairya-Python\\sarcasm detection\\audio_context\\2_536_c.wav\n"
     ]
    },
    {
     "name": "stderr",
     "output_type": "stream",
     "text": [
      "\n",
      "chunk:   0%|       | 0/240 [00:00<?, ?it/s, now=None]\u001b[A\n",
      "chunk:  16%|▏| 38/240 [00:00<00:00, 379.98it/s, now=N\u001b[A\n",
      "chunk:  64%|▋| 153/240 [00:00<00:00, 715.11it/s, now=\u001b[A\n",
      "chunk:   7%| | 26/354 [11:21<00:11, 27.78it/s, now=No\u001b[A"
     ]
    },
    {
     "name": "stdout",
     "output_type": "stream",
     "text": [
      "MoviePy - Done.\n"
     ]
    },
    {
     "name": "stderr",
     "output_type": "stream",
     "text": [
      "chunk:   7%| | 26/354 [11:21<00:11, 27.78it/s, now=No"
     ]
    },
    {
     "name": "stdout",
     "output_type": "stream",
     "text": [
      "MoviePy - Writing audio in C:\\Users\\Welcome\\Dhairya-Python\\sarcasm detection\\audio_context\\2_537_c.wav\n"
     ]
    },
    {
     "name": "stderr",
     "output_type": "stream",
     "text": [
      "\n",
      "chunk:   0%|       | 0/138 [00:00<?, ?it/s, now=None]\u001b[A\n",
      "chunk:  21%|▏| 29/138 [00:00<00:00, 284.30it/s, now=N\u001b[A\n",
      "chunk:   7%| | 26/354 [11:21<00:11, 27.78it/s, now=No\u001b[A"
     ]
    },
    {
     "name": "stdout",
     "output_type": "stream",
     "text": [
      "MoviePy - Done.\n"
     ]
    },
    {
     "name": "stderr",
     "output_type": "stream",
     "text": [
      "chunk:   7%| | 26/354 [11:22<00:11, 27.78it/s, now=No"
     ]
    },
    {
     "name": "stdout",
     "output_type": "stream",
     "text": [
      "MoviePy - Writing audio in C:\\Users\\Welcome\\Dhairya-Python\\sarcasm detection\\audio_context\\2_53_c.wav\n"
     ]
    },
    {
     "name": "stderr",
     "output_type": "stream",
     "text": [
      "\n",
      "chunk:   0%|       | 0/278 [00:00<?, ?it/s, now=None]\u001b[A\n",
      "chunk:   9%| | 25/278 [00:00<00:01, 249.99it/s, now=N\u001b[A\n",
      "chunk:  55%|▌| 153/278 [00:00<00:00, 831.38it/s, now=\u001b[A\n",
      "chunk:   7%| | 26/354 [11:22<00:11, 27.78it/s, now=No\u001b[A"
     ]
    },
    {
     "name": "stdout",
     "output_type": "stream",
     "text": [
      "MoviePy - Done.\n"
     ]
    },
    {
     "name": "stderr",
     "output_type": "stream",
     "text": [
      "chunk:   7%| | 26/354 [11:23<00:11, 27.78it/s, now=No"
     ]
    },
    {
     "name": "stdout",
     "output_type": "stream",
     "text": [
      "MoviePy - Writing audio in C:\\Users\\Welcome\\Dhairya-Python\\sarcasm detection\\audio_context\\2_540_c.wav\n"
     ]
    },
    {
     "name": "stderr",
     "output_type": "stream",
     "text": [
      "\n",
      "chunk:   0%|       | 0/101 [00:00<?, ?it/s, now=None]\u001b[A\n",
      "chunk:  20%|▏| 20/101 [00:00<00:00, 199.99it/s, now=N\u001b[A\n",
      "chunk:   7%| | 26/354 [11:23<00:11, 27.78it/s, now=No\u001b[A"
     ]
    },
    {
     "name": "stdout",
     "output_type": "stream",
     "text": [
      "MoviePy - Done.\n"
     ]
    },
    {
     "name": "stderr",
     "output_type": "stream",
     "text": [
      "chunk:   7%| | 26/354 [11:24<00:11, 27.78it/s, now=No"
     ]
    },
    {
     "name": "stdout",
     "output_type": "stream",
     "text": [
      "MoviePy - Writing audio in C:\\Users\\Welcome\\Dhairya-Python\\sarcasm detection\\audio_context\\2_541_c.wav\n"
     ]
    },
    {
     "name": "stderr",
     "output_type": "stream",
     "text": [
      "\n",
      "chunk:   0%|        | 0/45 [00:00<?, ?it/s, now=None]\u001b[A\n",
      "chunk:   7%| | 3/45 [00:00<00:01, 29.70it/s, now=None\u001b[A\n",
      "chunk:   7%| | 26/354 [11:24<00:11, 27.78it/s, now=No\u001b[A"
     ]
    },
    {
     "name": "stdout",
     "output_type": "stream",
     "text": [
      "MoviePy - Done.\n"
     ]
    },
    {
     "name": "stderr",
     "output_type": "stream",
     "text": [
      "chunk:   7%| | 26/354 [11:24<00:11, 27.78it/s, now=No"
     ]
    },
    {
     "name": "stdout",
     "output_type": "stream",
     "text": [
      "MoviePy - Writing audio in C:\\Users\\Welcome\\Dhairya-Python\\sarcasm detection\\audio_context\\2_542_c.wav\n"
     ]
    },
    {
     "name": "stderr",
     "output_type": "stream",
     "text": [
      "\n",
      "chunk:   0%|       | 0/255 [00:00<?, ?it/s, now=None]\u001b[A\n",
      "chunk:   1%| | 3/255 [00:00<00:11, 21.90it/s, now=Non\u001b[A\n",
      "chunk:  49%|▍| 124/255 [00:00<00:00, 628.35it/s, now=\u001b[A\n",
      "chunk:  80%|▊| 204/255 [00:00<00:00, 643.71it/s, now=\u001b[A\n",
      "chunk:   7%| | 26/354 [11:25<00:11, 27.78it/s, now=No\u001b[A"
     ]
    },
    {
     "name": "stdout",
     "output_type": "stream",
     "text": [
      "MoviePy - Done.\n"
     ]
    },
    {
     "name": "stderr",
     "output_type": "stream",
     "text": [
      "chunk:   7%| | 26/354 [11:25<00:11, 27.78it/s, now=No"
     ]
    },
    {
     "name": "stdout",
     "output_type": "stream",
     "text": [
      "MoviePy - Writing audio in C:\\Users\\Welcome\\Dhairya-Python\\sarcasm detection\\audio_context\\2_546_c.wav\n"
     ]
    },
    {
     "name": "stderr",
     "output_type": "stream",
     "text": [
      "\n",
      "chunk:   0%|       | 0/107 [00:00<?, ?it/s, now=None]\u001b[A\n",
      "chunk:  20%|▏| 21/107 [00:00<00:00, 209.99it/s, now=N\u001b[A\n",
      "chunk:   7%| | 26/354 [11:26<00:11, 27.78it/s, now=No\u001b[A"
     ]
    },
    {
     "name": "stdout",
     "output_type": "stream",
     "text": [
      "MoviePy - Done.\n"
     ]
    },
    {
     "name": "stderr",
     "output_type": "stream",
     "text": [
      "chunk:   7%| | 26/354 [11:26<00:11, 27.78it/s, now=No"
     ]
    },
    {
     "name": "stdout",
     "output_type": "stream",
     "text": [
      "MoviePy - Writing audio in C:\\Users\\Welcome\\Dhairya-Python\\sarcasm detection\\audio_context\\2_547_c.wav\n"
     ]
    },
    {
     "name": "stderr",
     "output_type": "stream",
     "text": [
      "\n",
      "chunk:   0%|       | 0/222 [00:00<?, ?it/s, now=None]\u001b[A\n",
      "chunk:  11%| | 25/222 [00:00<00:00, 249.99it/s, now=N\u001b[A\n",
      "chunk:  69%|▋| 153/222 [00:00<00:00, 734.81it/s, now=\u001b[A\n",
      "chunk:   7%| | 26/354 [11:26<00:11, 27.78it/s, now=No\u001b[A"
     ]
    },
    {
     "name": "stdout",
     "output_type": "stream",
     "text": [
      "MoviePy - Done.\n"
     ]
    },
    {
     "name": "stderr",
     "output_type": "stream",
     "text": [
      "chunk:   7%| | 26/354 [11:27<00:11, 27.78it/s, now=No"
     ]
    },
    {
     "name": "stdout",
     "output_type": "stream",
     "text": [
      "MoviePy - Writing audio in C:\\Users\\Welcome\\Dhairya-Python\\sarcasm detection\\audio_context\\2_548_c.wav\n"
     ]
    },
    {
     "name": "stderr",
     "output_type": "stream",
     "text": [
      "\n",
      "chunk:   0%|        | 0/70 [00:00<?, ?it/s, now=None]\u001b[A\n",
      "chunk:  17%|▏| 12/70 [00:00<00:00, 119.99it/s, now=No\u001b[A\n",
      "chunk:   7%| | 26/354 [11:27<00:11, 27.78it/s, now=No\u001b[A"
     ]
    },
    {
     "name": "stdout",
     "output_type": "stream",
     "text": [
      "MoviePy - Done.\n"
     ]
    },
    {
     "name": "stderr",
     "output_type": "stream",
     "text": [
      "chunk:   7%| | 26/354 [11:28<00:11, 27.78it/s, now=No"
     ]
    },
    {
     "name": "stdout",
     "output_type": "stream",
     "text": [
      "MoviePy - Writing audio in C:\\Users\\Welcome\\Dhairya-Python\\sarcasm detection\\audio_context\\2_549_c.wav\n"
     ]
    },
    {
     "name": "stderr",
     "output_type": "stream",
     "text": [
      "\n",
      "chunk:   0%|        | 0/59 [00:00<?, ?it/s, now=None]\u001b[A\n",
      "chunk:  54%|▌| 32/59 [00:00<00:00, 319.98it/s, now=No\u001b[A\n",
      "chunk:   7%| | 26/354 [11:28<00:11, 27.78it/s, now=No\u001b[A"
     ]
    },
    {
     "name": "stdout",
     "output_type": "stream",
     "text": [
      "MoviePy - Done.\n"
     ]
    },
    {
     "name": "stderr",
     "output_type": "stream",
     "text": [
      "chunk:   7%| | 26/354 [11:28<00:11, 27.78it/s, now=No"
     ]
    },
    {
     "name": "stdout",
     "output_type": "stream",
     "text": [
      "MoviePy - Writing audio in C:\\Users\\Welcome\\Dhairya-Python\\sarcasm detection\\audio_context\\2_54_c.wav\n"
     ]
    },
    {
     "name": "stderr",
     "output_type": "stream",
     "text": [
      "\n",
      "chunk:   0%|       | 0/192 [00:00<?, ?it/s, now=None]\u001b[A\n",
      "chunk:   2%| | 3/192 [00:00<00:06, 28.04it/s, now=Non\u001b[A\n",
      "chunk:  55%|▌| 106/192 [00:00<00:00, 600.88it/s, now=\u001b[A\n",
      "chunk:  88%|▉| 168/192 [00:00<00:00, 609.46it/s, now=\u001b[A\n",
      "chunk:   7%| | 26/354 [11:29<00:11, 27.78it/s, now=No\u001b[A"
     ]
    },
    {
     "name": "stdout",
     "output_type": "stream",
     "text": [
      "MoviePy - Done.\n"
     ]
    },
    {
     "name": "stderr",
     "output_type": "stream",
     "text": [
      "chunk:   7%| | 26/354 [11:30<00:11, 27.78it/s, now=No"
     ]
    },
    {
     "name": "stdout",
     "output_type": "stream",
     "text": [
      "MoviePy - Writing audio in C:\\Users\\Welcome\\Dhairya-Python\\sarcasm detection\\audio_context\\2_550_c.wav\n"
     ]
    },
    {
     "name": "stderr",
     "output_type": "stream",
     "text": [
      "\n",
      "chunk:   0%|       | 0/113 [00:00<?, ?it/s, now=None]\u001b[A\n",
      "chunk:   3%| | 3/113 [00:00<00:03, 28.04it/s, now=Non\u001b[A\n",
      "chunk:  46%|▍| 52/113 [00:00<00:00, 292.15it/s, now=N\u001b[A\n",
      "chunk:   7%| | 26/354 [11:30<00:11, 27.78it/s, now=No\u001b[A"
     ]
    },
    {
     "name": "stdout",
     "output_type": "stream",
     "text": [
      "MoviePy - Done.\n"
     ]
    },
    {
     "name": "stderr",
     "output_type": "stream",
     "text": [
      "chunk:   7%| | 26/354 [11:31<00:11, 27.78it/s, now=No"
     ]
    },
    {
     "name": "stdout",
     "output_type": "stream",
     "text": [
      "MoviePy - Writing audio in C:\\Users\\Welcome\\Dhairya-Python\\sarcasm detection\\audio_context\\2_552_c.wav\n"
     ]
    },
    {
     "name": "stderr",
     "output_type": "stream",
     "text": [
      "\n",
      "chunk:   0%|       | 0/134 [00:00<?, ?it/s, now=None]\u001b[A\n",
      "chunk:  43%|▍| 58/134 [00:00<00:00, 579.97it/s, now=N\u001b[A\n",
      "chunk:   7%| | 26/354 [11:31<00:11, 27.78it/s, now=No\u001b[A"
     ]
    },
    {
     "name": "stdout",
     "output_type": "stream",
     "text": [
      "MoviePy - Done.\n"
     ]
    },
    {
     "name": "stderr",
     "output_type": "stream",
     "text": [
      "chunk:   7%| | 26/354 [11:31<00:11, 27.78it/s, now=No"
     ]
    },
    {
     "name": "stdout",
     "output_type": "stream",
     "text": [
      "MoviePy - Writing audio in C:\\Users\\Welcome\\Dhairya-Python\\sarcasm detection\\audio_context\\2_553_c.wav\n"
     ]
    },
    {
     "name": "stderr",
     "output_type": "stream",
     "text": [
      "\n",
      "chunk:   0%|       | 0/195 [00:00<?, ?it/s, now=None]\u001b[A\n",
      "chunk:  18%|▏| 35/195 [00:00<00:00, 349.98it/s, now=N\u001b[A\n",
      "chunk:  52%|▌| 102/195 [00:00<00:00, 427.55it/s, now=\u001b[A\n",
      "chunk:  89%|▉| 173/195 [00:00<00:00, 540.60it/s, now=\u001b[A\n",
      "chunk:   7%| | 26/354 [11:32<00:11, 27.78it/s, now=No\u001b[A"
     ]
    },
    {
     "name": "stdout",
     "output_type": "stream",
     "text": [
      "MoviePy - Done.\n"
     ]
    },
    {
     "name": "stderr",
     "output_type": "stream",
     "text": [
      "chunk:   7%| | 26/354 [11:33<00:11, 27.78it/s, now=No"
     ]
    },
    {
     "name": "stdout",
     "output_type": "stream",
     "text": [
      "MoviePy - Writing audio in C:\\Users\\Welcome\\Dhairya-Python\\sarcasm detection\\audio_context\\2_555_c.wav\n"
     ]
    },
    {
     "name": "stderr",
     "output_type": "stream",
     "text": [
      "\n",
      "chunk:   0%|       | 0/204 [00:00<?, ?it/s, now=None]\u001b[A\n",
      "chunk:  31%|▎| 63/204 [00:00<00:00, 629.96it/s, now=N\u001b[A\n",
      "chunk:  79%|▊| 161/204 [00:00<00:00, 835.83it/s, now=\u001b[A\n",
      "chunk:   7%| | 26/354 [11:33<00:11, 27.78it/s, now=No\u001b[A"
     ]
    },
    {
     "name": "stdout",
     "output_type": "stream",
     "text": [
      "MoviePy - Done.\n"
     ]
    },
    {
     "name": "stderr",
     "output_type": "stream",
     "text": [
      "chunk:   7%| | 26/354 [11:33<00:11, 27.78it/s, now=No"
     ]
    },
    {
     "name": "stdout",
     "output_type": "stream",
     "text": [
      "MoviePy - Writing audio in C:\\Users\\Welcome\\Dhairya-Python\\sarcasm detection\\audio_context\\2_556_c.wav\n"
     ]
    },
    {
     "name": "stderr",
     "output_type": "stream",
     "text": [
      "\n",
      "chunk:   0%|       | 0/322 [00:00<?, ?it/s, now=None]\u001b[A\n",
      "chunk:  10%| | 31/322 [00:00<00:01, 284.39it/s, now=N\u001b[A\n",
      "chunk:  35%|▎| 113/322 [00:00<00:00, 588.17it/s, now=\u001b[A\n",
      "chunk:  62%|▌| 200/322 [00:00<00:00, 714.30it/s, now=\u001b[A\n",
      "chunk:  88%|▉| 284/322 [00:00<00:00, 763.31it/s, now=\u001b[A\n",
      "chunk:   7%| | 26/354 [11:34<00:11, 27.78it/s, now=No\u001b[A"
     ]
    },
    {
     "name": "stdout",
     "output_type": "stream",
     "text": [
      "MoviePy - Done.\n"
     ]
    },
    {
     "name": "stderr",
     "output_type": "stream",
     "text": [
      "chunk:   7%| | 26/354 [11:35<00:11, 27.78it/s, now=No"
     ]
    },
    {
     "name": "stdout",
     "output_type": "stream",
     "text": [
      "MoviePy - Writing audio in C:\\Users\\Welcome\\Dhairya-Python\\sarcasm detection\\audio_context\\2_557_c.wav\n"
     ]
    },
    {
     "name": "stderr",
     "output_type": "stream",
     "text": [
      "\n",
      "chunk:   0%|       | 0/275 [00:00<?, ?it/s, now=None]\u001b[A\n",
      "chunk:   5%| | 15/275 [00:00<00:01, 149.99it/s, now=N\u001b[A\n",
      "chunk:  37%|▎| 102/275 [00:00<00:00, 544.66it/s, now=\u001b[A\n",
      "chunk:  57%|▌| 158/275 [00:00<00:00, 534.84it/s, now=\u001b[A\n",
      "chunk:  93%|▉| 255/275 [00:00<00:00, 679.81it/s, now=\u001b[A\n",
      "chunk:   7%| | 26/354 [11:35<00:11, 27.78it/s, now=No\u001b[A"
     ]
    },
    {
     "name": "stdout",
     "output_type": "stream",
     "text": [
      "MoviePy - Done.\n"
     ]
    },
    {
     "name": "stderr",
     "output_type": "stream",
     "text": [
      "chunk:   7%| | 26/354 [11:36<00:11, 27.78it/s, now=No"
     ]
    },
    {
     "name": "stdout",
     "output_type": "stream",
     "text": [
      "MoviePy - Writing audio in C:\\Users\\Welcome\\Dhairya-Python\\sarcasm detection\\audio_context\\2_558_c.wav\n"
     ]
    },
    {
     "name": "stderr",
     "output_type": "stream",
     "text": [
      "\n",
      "chunk:   0%|       | 0/182 [00:00<?, ?it/s, now=None]\u001b[A\n",
      "chunk:   2%| | 3/182 [00:00<00:06, 28.04it/s, now=Non\u001b[A\n",
      "chunk:  25%|▏| 45/182 [00:00<00:00, 246.49it/s, now=N\u001b[A\n",
      "chunk:  56%|▌| 102/182 [00:00<00:00, 338.95it/s, now=\u001b[A\n",
      "chunk:   7%| | 26/354 [11:36<00:11, 27.78it/s, now=No\u001b[A"
     ]
    },
    {
     "name": "stdout",
     "output_type": "stream",
     "text": [
      "MoviePy - Done.\n"
     ]
    },
    {
     "name": "stderr",
     "output_type": "stream",
     "text": [
      "chunk:   7%| | 26/354 [11:37<00:11, 27.78it/s, now=No"
     ]
    },
    {
     "name": "stdout",
     "output_type": "stream",
     "text": [
      "MoviePy - Writing audio in C:\\Users\\Welcome\\Dhairya-Python\\sarcasm detection\\audio_context\\2_559_c.wav\n"
     ]
    },
    {
     "name": "stderr",
     "output_type": "stream",
     "text": [
      "\n",
      "chunk:   0%|       | 0/284 [00:00<?, ?it/s, now=None]\u001b[A\n",
      "chunk:  19%|▏| 53/284 [00:00<00:00, 529.97it/s, now=N\u001b[A\n",
      "chunk:  54%|▌| 153/284 [00:00<00:00, 541.87it/s, now=\u001b[A\n",
      "chunk:  90%|▉| 255/284 [00:00<00:00, 636.32it/s, now=\u001b[A\n",
      "chunk:   7%| | 26/354 [11:37<00:11, 27.78it/s, now=No\u001b[A"
     ]
    },
    {
     "name": "stdout",
     "output_type": "stream",
     "text": [
      "MoviePy - Done.\n"
     ]
    },
    {
     "name": "stderr",
     "output_type": "stream",
     "text": [
      "chunk:   7%| | 26/354 [11:38<00:11, 27.78it/s, now=No"
     ]
    },
    {
     "name": "stdout",
     "output_type": "stream",
     "text": [
      "MoviePy - Writing audio in C:\\Users\\Welcome\\Dhairya-Python\\sarcasm detection\\audio_context\\2_55_c.wav\n"
     ]
    },
    {
     "name": "stderr",
     "output_type": "stream",
     "text": [
      "\n",
      "chunk:   0%|       | 0/459 [00:00<?, ?it/s, now=None]\u001b[A\n",
      "chunk:   1%| | 3/459 [00:00<00:15, 28.57it/s, now=Non\u001b[A\n",
      "chunk:  22%|▏| 102/459 [00:00<00:00, 525.16it/s, now=\u001b[A\n",
      "chunk:  44%|▍| 204/459 [00:00<00:00, 723.60it/s, now=\u001b[A\n",
      "chunk:  67%|▋| 306/459 [00:00<00:00, 737.86it/s, now=\u001b[A\n",
      "chunk:  89%|▉| 408/459 [00:00<00:00, 766.87it/s, now=\u001b[A\n",
      "chunk:   7%| | 26/354 [11:39<00:11, 27.78it/s, now=No\u001b[A"
     ]
    },
    {
     "name": "stdout",
     "output_type": "stream",
     "text": [
      "MoviePy - Done.\n"
     ]
    },
    {
     "name": "stderr",
     "output_type": "stream",
     "text": [
      "chunk:   7%| | 26/354 [11:39<00:11, 27.78it/s, now=No"
     ]
    },
    {
     "name": "stdout",
     "output_type": "stream",
     "text": [
      "MoviePy - Writing audio in C:\\Users\\Welcome\\Dhairya-Python\\sarcasm detection\\audio_context\\2_560_c.wav\n"
     ]
    },
    {
     "name": "stderr",
     "output_type": "stream",
     "text": [
      "\n",
      "chunk:   0%|       | 0/103 [00:00<?, ?it/s, now=None]\u001b[A\n",
      "chunk:  49%|▍| 50/103 [00:00<00:00, 499.97it/s, now=N\u001b[A\n",
      "chunk:   7%| | 26/354 [11:39<00:11, 27.78it/s, now=No\u001b[A"
     ]
    },
    {
     "name": "stdout",
     "output_type": "stream",
     "text": [
      "MoviePy - Done.\n"
     ]
    },
    {
     "name": "stderr",
     "output_type": "stream",
     "text": [
      "chunk:   7%| | 26/354 [11:41<00:11, 27.78it/s, now=No"
     ]
    },
    {
     "name": "stdout",
     "output_type": "stream",
     "text": [
      "MoviePy - Writing audio in C:\\Users\\Welcome\\Dhairya-Python\\sarcasm detection\\audio_context\\2_562_c.wav\n"
     ]
    },
    {
     "name": "stderr",
     "output_type": "stream",
     "text": [
      "\n",
      "chunk:   0%|       | 0/242 [00:00<?, ?it/s, now=None]\u001b[A\n",
      "chunk:   1%| | 3/242 [00:00<00:19, 12.50it/s, now=Non\u001b[A\n",
      "chunk:  42%|▍| 102/242 [00:00<00:00, 330.37it/s, now=\u001b[A\n",
      "chunk:  63%|▋| 153/242 [00:00<00:00, 283.04it/s, now=\u001b[A\n",
      "chunk:  83%|▊| 201/242 [00:00<00:00, 332.13it/s, now=\u001b[A\n",
      "chunk: 100%|█| 242/242 [00:00<00:00, 340.94it/s, now=\u001b[A\n",
      "chunk:   7%| | 26/354 [11:42<00:11, 27.78it/s, now=No\u001b[A"
     ]
    },
    {
     "name": "stdout",
     "output_type": "stream",
     "text": [
      "MoviePy - Done.\n"
     ]
    },
    {
     "name": "stderr",
     "output_type": "stream",
     "text": [
      "chunk:   7%| | 26/354 [11:45<00:11, 27.78it/s, now=No"
     ]
    },
    {
     "name": "stdout",
     "output_type": "stream",
     "text": [
      "MoviePy - Writing audio in C:\\Users\\Welcome\\Dhairya-Python\\sarcasm detection\\audio_context\\2_564_c.wav\n"
     ]
    },
    {
     "name": "stderr",
     "output_type": "stream",
     "text": [
      "\n",
      "chunk:   0%|       | 0/394 [00:00<?, ?it/s, now=None]\u001b[A\n",
      "chunk:   1%| | 3/394 [00:00<00:18, 21.28it/s, now=Non\u001b[A\n",
      "chunk:  26%|▎| 102/394 [00:00<00:00, 420.00it/s, now=\u001b[A\n",
      "chunk:  39%|▍| 153/394 [00:00<00:00, 451.83it/s, now=\u001b[A\n",
      "chunk:  65%|▋| 255/394 [00:00<00:00, 446.59it/s, now=\u001b[A\n",
      "chunk:  91%|▉| 357/394 [00:00<00:00, 574.78it/s, now=\u001b[A\n",
      "chunk:   7%| | 26/354 [11:46<00:11, 27.78it/s, now=No\u001b[A"
     ]
    },
    {
     "name": "stdout",
     "output_type": "stream",
     "text": [
      "MoviePy - Done.\n"
     ]
    },
    {
     "name": "stderr",
     "output_type": "stream",
     "text": [
      "chunk:   7%| | 26/354 [11:47<00:11, 27.78it/s, now=No"
     ]
    },
    {
     "name": "stdout",
     "output_type": "stream",
     "text": [
      "MoviePy - Writing audio in C:\\Users\\Welcome\\Dhairya-Python\\sarcasm detection\\audio_context\\2_567_c.wav\n"
     ]
    },
    {
     "name": "stderr",
     "output_type": "stream",
     "text": [
      "\n",
      "chunk:   0%|       | 0/137 [00:00<?, ?it/s, now=None]\u001b[A\n",
      "chunk:   2%| | 3/137 [00:00<00:04, 29.12it/s, now=Non\u001b[A\n",
      "chunk:  67%|▋| 92/137 [00:00<00:00, 529.31it/s, now=N\u001b[A\n",
      "chunk:   7%| | 26/354 [11:47<00:11, 27.78it/s, now=No\u001b[A"
     ]
    },
    {
     "name": "stdout",
     "output_type": "stream",
     "text": [
      "MoviePy - Done.\n"
     ]
    },
    {
     "name": "stderr",
     "output_type": "stream",
     "text": [
      "chunk:   7%| | 26/354 [11:49<00:11, 27.78it/s, now=No"
     ]
    },
    {
     "name": "stdout",
     "output_type": "stream",
     "text": [
      "MoviePy - Writing audio in C:\\Users\\Welcome\\Dhairya-Python\\sarcasm detection\\audio_context\\2_569_c.wav\n"
     ]
    },
    {
     "name": "stderr",
     "output_type": "stream",
     "text": [
      "\n",
      "chunk:   0%|       | 0/433 [00:00<?, ?it/s, now=None]\u001b[A\n",
      "chunk:   1%| | 3/433 [00:00<00:19, 22.22it/s, now=Non\u001b[A\n",
      "chunk:  15%|▏| 64/433 [00:00<00:01, 324.40it/s, now=N\u001b[A\n",
      "chunk:  24%|▏| 102/433 [00:00<00:01, 235.33it/s, now=\u001b[A\n",
      "chunk:  35%|▎| 153/433 [00:00<00:00, 307.05it/s, now=\u001b[A\n",
      "chunk:  47%|▍| 204/433 [00:00<00:00, 294.30it/s, now=\u001b[A\n",
      "chunk:  59%|▌| 255/433 [00:00<00:00, 320.08it/s, now=\u001b[A\n",
      "chunk:  71%|▋| 306/433 [00:01<00:00, 330.99it/s, now=\u001b[A\n",
      "chunk:  82%|▊| 357/433 [00:01<00:00, 365.32it/s, now=\u001b[A\n",
      "chunk:  94%|▉| 408/433 [00:01<00:00, 399.70it/s, now=\u001b[A\n",
      "chunk:   7%| | 26/354 [11:50<00:11, 27.78it/s, now=No\u001b[A"
     ]
    },
    {
     "name": "stdout",
     "output_type": "stream",
     "text": [
      "MoviePy - Done.\n"
     ]
    },
    {
     "name": "stderr",
     "output_type": "stream",
     "text": [
      "chunk:   7%| | 26/354 [11:51<00:11, 27.78it/s, now=No"
     ]
    },
    {
     "name": "stdout",
     "output_type": "stream",
     "text": [
      "MoviePy - Writing audio in C:\\Users\\Welcome\\Dhairya-Python\\sarcasm detection\\audio_context\\2_56_c.wav\n"
     ]
    },
    {
     "name": "stderr",
     "output_type": "stream",
     "text": [
      "\n",
      "chunk:   0%|       | 0/133 [00:00<?, ?it/s, now=None]\u001b[A\n",
      "chunk:  17%|▏| 23/133 [00:00<00:00, 229.99it/s, now=N\u001b[A\n",
      "chunk:  77%|▊| 102/133 [00:00<00:00, 434.22it/s, now=\u001b[A\n",
      "chunk:   7%| | 26/354 [11:52<00:11, 27.78it/s, now=No\u001b[A"
     ]
    },
    {
     "name": "stdout",
     "output_type": "stream",
     "text": [
      "MoviePy - Done.\n"
     ]
    },
    {
     "name": "stderr",
     "output_type": "stream",
     "text": [
      "chunk:   7%| | 26/354 [11:52<00:11, 27.78it/s, now=No"
     ]
    },
    {
     "name": "stdout",
     "output_type": "stream",
     "text": [
      "MoviePy - Writing audio in C:\\Users\\Welcome\\Dhairya-Python\\sarcasm detection\\audio_context\\2_570_c.wav\n"
     ]
    },
    {
     "name": "stderr",
     "output_type": "stream",
     "text": [
      "\n",
      "chunk:   0%|        | 0/77 [00:00<?, ?it/s, now=None]\u001b[A\n",
      "chunk:  65%|▋| 50/77 [00:00<00:00, 499.97it/s, now=No\u001b[A\n",
      "chunk:   7%| | 26/354 [11:53<00:11, 27.78it/s, now=No\u001b[A"
     ]
    },
    {
     "name": "stdout",
     "output_type": "stream",
     "text": [
      "MoviePy - Done.\n"
     ]
    },
    {
     "name": "stderr",
     "output_type": "stream",
     "text": [
      "chunk:   7%| | 26/354 [11:54<00:11, 27.78it/s, now=No"
     ]
    },
    {
     "name": "stdout",
     "output_type": "stream",
     "text": [
      "MoviePy - Writing audio in C:\\Users\\Welcome\\Dhairya-Python\\sarcasm detection\\audio_context\\2_572_c.wav\n"
     ]
    },
    {
     "name": "stderr",
     "output_type": "stream",
     "text": [
      "\n",
      "chunk:   0%|       | 0/172 [00:00<?, ?it/s, now=None]\u001b[A\n",
      "chunk:   6%| | 11/172 [00:00<00:01, 109.99it/s, now=N\u001b[A\n",
      "chunk:  51%|▌| 87/172 [00:00<00:00, 492.32it/s, now=N\u001b[A\n",
      "chunk:  80%|▊| 138/172 [00:00<00:00, 360.47it/s, now=\u001b[A\n",
      "chunk:   7%| | 26/354 [11:54<00:11, 27.78it/s, now=No\u001b[A"
     ]
    },
    {
     "name": "stdout",
     "output_type": "stream",
     "text": [
      "MoviePy - Done.\n"
     ]
    },
    {
     "name": "stderr",
     "output_type": "stream",
     "text": [
      "chunk:   7%| | 26/354 [11:55<00:11, 27.78it/s, now=No"
     ]
    },
    {
     "name": "stdout",
     "output_type": "stream",
     "text": [
      "MoviePy - Writing audio in C:\\Users\\Welcome\\Dhairya-Python\\sarcasm detection\\audio_context\\2_573_c.wav\n"
     ]
    },
    {
     "name": "stderr",
     "output_type": "stream",
     "text": [
      "\n",
      "chunk:   0%|       | 0/479 [00:00<?, ?it/s, now=None]\u001b[A\n",
      "chunk:   9%| | 42/479 [00:00<00:01, 419.98it/s, now=N\u001b[A\n",
      "chunk:  43%|▍| 204/479 [00:00<00:00, 750.55it/s, now=\u001b[A\n",
      "chunk:  62%|▌| 298/479 [00:00<00:00, 815.62it/s, now=\u001b[A\n",
      "chunk:  85%|▊| 408/479 [00:00<00:00, 838.09it/s, now=\u001b[A\n",
      "chunk:   7%| | 26/354 [11:56<00:11, 27.78it/s, now=No\u001b[A"
     ]
    },
    {
     "name": "stdout",
     "output_type": "stream",
     "text": [
      "MoviePy - Done.\n"
     ]
    },
    {
     "name": "stderr",
     "output_type": "stream",
     "text": [
      "chunk:   7%| | 26/354 [11:57<00:11, 27.78it/s, now=No"
     ]
    },
    {
     "name": "stdout",
     "output_type": "stream",
     "text": [
      "MoviePy - Writing audio in C:\\Users\\Welcome\\Dhairya-Python\\sarcasm detection\\audio_context\\2_574_c.wav\n"
     ]
    },
    {
     "name": "stderr",
     "output_type": "stream",
     "text": [
      "\n",
      "chunk:   0%|       | 0/554 [00:00<?, ?it/s, now=None]\u001b[A\n",
      "chunk:   8%| | 44/554 [00:00<00:01, 439.98it/s, now=N\u001b[A\n",
      "chunk:  28%|▎| 153/554 [00:00<00:00, 404.02it/s, now=\u001b[A\n",
      "chunk:  53%|▌| 293/554 [00:00<00:00, 695.05it/s, now=\u001b[A\n",
      "chunk:  74%|▋| 408/554 [00:00<00:00, 807.61it/s, now=\u001b[A\n",
      "chunk:  91%|▉| 503/554 [00:00<00:00, 820.37it/s, now=\u001b[A\n",
      "chunk:   7%| | 26/354 [11:58<00:11, 27.78it/s, now=No\u001b[A"
     ]
    },
    {
     "name": "stdout",
     "output_type": "stream",
     "text": [
      "MoviePy - Done.\n"
     ]
    },
    {
     "name": "stderr",
     "output_type": "stream",
     "text": [
      "chunk:   7%| | 26/354 [12:00<00:11, 27.78it/s, now=No"
     ]
    },
    {
     "name": "stdout",
     "output_type": "stream",
     "text": [
      "MoviePy - Writing audio in C:\\Users\\Welcome\\Dhairya-Python\\sarcasm detection\\audio_context\\2_575_c.wav\n"
     ]
    },
    {
     "name": "stderr",
     "output_type": "stream",
     "text": [
      "\n",
      "chunk:   0%|       | 0/144 [00:00<?, ?it/s, now=None]\u001b[A\n",
      "chunk:  34%|▎| 49/144 [00:00<00:00, 489.97it/s, now=N\u001b[A\n",
      "chunk:  71%|▋| 102/144 [00:00<00:00, 302.06it/s, now=\u001b[A\n",
      "chunk:   7%| | 26/354 [12:00<00:11, 27.78it/s, now=No\u001b[A"
     ]
    },
    {
     "name": "stdout",
     "output_type": "stream",
     "text": [
      "MoviePy - Done.\n"
     ]
    },
    {
     "name": "stderr",
     "output_type": "stream",
     "text": [
      "chunk:   7%| | 26/354 [12:01<00:11, 27.78it/s, now=No"
     ]
    },
    {
     "name": "stdout",
     "output_type": "stream",
     "text": [
      "MoviePy - Writing audio in C:\\Users\\Welcome\\Dhairya-Python\\sarcasm detection\\audio_context\\2_576_c.wav\n"
     ]
    },
    {
     "name": "stderr",
     "output_type": "stream",
     "text": [
      "\n",
      "chunk:   0%|       | 0/286 [00:00<?, ?it/s, now=None]\u001b[A\n",
      "chunk:  19%|▏| 55/286 [00:00<00:00, 549.97it/s, now=N\u001b[A\n",
      "chunk:  39%|▍| 111/286 [00:00<00:00, 317.10it/s, now=\u001b[A\n",
      "chunk:  71%|▋| 204/286 [00:00<00:00, 396.27it/s, now=\u001b[A\n",
      "chunk:   7%| | 26/354 [12:02<00:11, 27.78it/s, now=No\u001b[A"
     ]
    },
    {
     "name": "stdout",
     "output_type": "stream",
     "text": [
      "MoviePy - Done.\n"
     ]
    },
    {
     "name": "stderr",
     "output_type": "stream",
     "text": [
      "chunk:   7%| | 26/354 [12:02<00:11, 27.78it/s, now=No"
     ]
    },
    {
     "name": "stdout",
     "output_type": "stream",
     "text": [
      "MoviePy - Writing audio in C:\\Users\\Welcome\\Dhairya-Python\\sarcasm detection\\audio_context\\2_577_c.wav\n"
     ]
    },
    {
     "name": "stderr",
     "output_type": "stream",
     "text": [
      "\n",
      "chunk:   0%|       | 0/177 [00:00<?, ?it/s, now=None]\u001b[A\n",
      "chunk:  30%|▎| 53/177 [00:00<00:00, 529.97it/s, now=N\u001b[A\n",
      "chunk:  60%|▌| 106/177 [00:00<00:00, 338.70it/s, now=\u001b[A\n",
      "chunk:   7%| | 26/354 [12:03<00:11, 27.78it/s, now=No\u001b[A"
     ]
    },
    {
     "name": "stdout",
     "output_type": "stream",
     "text": [
      "MoviePy - Done.\n"
     ]
    },
    {
     "name": "stderr",
     "output_type": "stream",
     "text": [
      "chunk:   7%| | 26/354 [12:04<00:11, 27.78it/s, now=No"
     ]
    },
    {
     "name": "stdout",
     "output_type": "stream",
     "text": [
      "MoviePy - Writing audio in C:\\Users\\Welcome\\Dhairya-Python\\sarcasm detection\\audio_context\\2_579_c.wav\n"
     ]
    },
    {
     "name": "stderr",
     "output_type": "stream",
     "text": [
      "\n",
      "chunk:   0%|       | 0/132 [00:00<?, ?it/s, now=None]\u001b[A\n",
      "chunk:  34%|▎| 45/132 [00:00<00:00, 449.97it/s, now=N\u001b[A\n",
      "chunk:   7%| | 26/354 [12:04<00:11, 27.78it/s, now=No\u001b[A"
     ]
    },
    {
     "name": "stdout",
     "output_type": "stream",
     "text": [
      "MoviePy - Done.\n"
     ]
    },
    {
     "name": "stderr",
     "output_type": "stream",
     "text": [
      "chunk:   7%| | 26/354 [12:04<00:11, 27.78it/s, now=No"
     ]
    },
    {
     "name": "stdout",
     "output_type": "stream",
     "text": [
      "MoviePy - Writing audio in C:\\Users\\Welcome\\Dhairya-Python\\sarcasm detection\\audio_context\\2_581_c.wav\n"
     ]
    },
    {
     "name": "stderr",
     "output_type": "stream",
     "text": [
      "\n",
      "chunk:   0%|       | 0/218 [00:00<?, ?it/s, now=None]\u001b[A\n",
      "chunk:  24%|▏| 53/218 [00:00<00:00, 529.97it/s, now=N\u001b[A\n",
      "chunk:  94%|▉| 205/218 [00:00<00:00, 1112.29it/s, now\u001b[A\n",
      "chunk:   7%| | 26/354 [12:05<00:11, 27.78it/s, now=No\u001b[A"
     ]
    },
    {
     "name": "stdout",
     "output_type": "stream",
     "text": [
      "MoviePy - Done.\n"
     ]
    },
    {
     "name": "stderr",
     "output_type": "stream",
     "text": [
      "chunk:   7%| | 26/354 [12:05<00:11, 27.78it/s, now=No"
     ]
    },
    {
     "name": "stdout",
     "output_type": "stream",
     "text": [
      "MoviePy - Writing audio in C:\\Users\\Welcome\\Dhairya-Python\\sarcasm detection\\audio_context\\2_583_c.wav\n"
     ]
    },
    {
     "name": "stderr",
     "output_type": "stream",
     "text": [
      "\n",
      "chunk:   0%|       | 0/176 [00:00<?, ?it/s, now=None]\u001b[A\n",
      "chunk:  33%|▎| 58/176 [00:00<00:00, 579.97it/s, now=N\u001b[A\n",
      "chunk:   7%| | 26/354 [12:05<00:11, 27.78it/s, now=No\u001b[A"
     ]
    },
    {
     "name": "stdout",
     "output_type": "stream",
     "text": [
      "MoviePy - Done.\n"
     ]
    },
    {
     "name": "stderr",
     "output_type": "stream",
     "text": [
      "chunk:   7%| | 26/354 [12:06<00:11, 27.78it/s, now=No"
     ]
    },
    {
     "name": "stdout",
     "output_type": "stream",
     "text": [
      "MoviePy - Writing audio in C:\\Users\\Welcome\\Dhairya-Python\\sarcasm detection\\audio_context\\2_585_c.wav\n"
     ]
    },
    {
     "name": "stderr",
     "output_type": "stream",
     "text": [
      "\n",
      "chunk:   0%|       | 0/211 [00:00<?, ?it/s, now=None]\u001b[A\n",
      "chunk:  20%|▏| 42/211 [00:00<00:00, 419.98it/s, now=N\u001b[A\n",
      "chunk:  64%|▋| 135/211 [00:00<00:00, 711.59it/s, now=\u001b[A\n",
      "chunk:   7%| | 26/354 [12:06<00:11, 27.78it/s, now=No\u001b[A"
     ]
    },
    {
     "name": "stdout",
     "output_type": "stream",
     "text": [
      "MoviePy - Done.\n"
     ]
    },
    {
     "name": "stderr",
     "output_type": "stream",
     "text": [
      "chunk:   7%| | 26/354 [12:07<00:11, 27.78it/s, now=No"
     ]
    },
    {
     "name": "stdout",
     "output_type": "stream",
     "text": [
      "MoviePy - Writing audio in C:\\Users\\Welcome\\Dhairya-Python\\sarcasm detection\\audio_context\\2_586_c.wav\n"
     ]
    },
    {
     "name": "stderr",
     "output_type": "stream",
     "text": [
      "\n",
      "chunk:   0%|       | 0/235 [00:00<?, ?it/s, now=None]\u001b[A\n",
      "chunk:  23%|▏| 55/235 [00:00<00:00, 549.97it/s, now=N\u001b[A\n",
      "chunk:  93%|▉| 218/235 [00:00<00:00, 1185.23it/s, now\u001b[A\n",
      "chunk:   7%| | 26/354 [12:07<00:11, 27.78it/s, now=No\u001b[A"
     ]
    },
    {
     "name": "stdout",
     "output_type": "stream",
     "text": [
      "MoviePy - Done.\n"
     ]
    },
    {
     "name": "stderr",
     "output_type": "stream",
     "text": [
      "chunk:   7%| | 26/354 [12:08<00:11, 27.78it/s, now=No"
     ]
    },
    {
     "name": "stdout",
     "output_type": "stream",
     "text": [
      "MoviePy - Writing audio in C:\\Users\\Welcome\\Dhairya-Python\\sarcasm detection\\audio_context\\2_587_c.wav\n"
     ]
    },
    {
     "name": "stderr",
     "output_type": "stream",
     "text": [
      "\n",
      "chunk:   0%|        | 0/83 [00:00<?, ?it/s, now=None]\u001b[A\n",
      "chunk:  82%|▊| 68/83 [00:00<00:00, 679.96it/s, now=No\u001b[A\n",
      "chunk:   7%| | 26/354 [12:08<00:11, 27.78it/s, now=No\u001b[A"
     ]
    },
    {
     "name": "stdout",
     "output_type": "stream",
     "text": [
      "MoviePy - Done.\n"
     ]
    },
    {
     "name": "stderr",
     "output_type": "stream",
     "text": [
      "chunk:   7%| | 26/354 [12:08<00:11, 27.78it/s, now=No"
     ]
    },
    {
     "name": "stdout",
     "output_type": "stream",
     "text": [
      "MoviePy - Writing audio in C:\\Users\\Welcome\\Dhairya-Python\\sarcasm detection\\audio_context\\2_588_c.wav\n"
     ]
    },
    {
     "name": "stderr",
     "output_type": "stream",
     "text": [
      "\n",
      "chunk:   0%|       | 0/113 [00:00<?, ?it/s, now=None]\u001b[A\n",
      "chunk:  60%|▌| 68/113 [00:00<00:00, 679.96it/s, now=N\u001b[A\n",
      "chunk:   7%| | 26/354 [12:09<00:11, 27.78it/s, now=No\u001b[A"
     ]
    },
    {
     "name": "stdout",
     "output_type": "stream",
     "text": [
      "MoviePy - Done.\n"
     ]
    },
    {
     "name": "stderr",
     "output_type": "stream",
     "text": [
      "chunk:   7%| | 26/354 [12:09<00:11, 27.78it/s, now=No"
     ]
    },
    {
     "name": "stdout",
     "output_type": "stream",
     "text": [
      "MoviePy - Writing audio in C:\\Users\\Welcome\\Dhairya-Python\\sarcasm detection\\audio_context\\2_589_c.wav\n"
     ]
    },
    {
     "name": "stderr",
     "output_type": "stream",
     "text": [
      "\n",
      "chunk:   0%|       | 0/187 [00:00<?, ?it/s, now=None]\u001b[A\n",
      "chunk:   2%| | 3/187 [00:00<00:06, 30.00it/s, now=Non\u001b[A\n",
      "chunk:  93%|▉| 174/187 [00:00<00:00, 1018.18it/s, now\u001b[A\n",
      "chunk:   7%| | 26/354 [12:09<00:11, 27.78it/s, now=No\u001b[A"
     ]
    },
    {
     "name": "stdout",
     "output_type": "stream",
     "text": [
      "MoviePy - Done.\n"
     ]
    },
    {
     "name": "stderr",
     "output_type": "stream",
     "text": [
      "chunk:   7%| | 26/354 [12:10<00:11, 27.78it/s, now=No"
     ]
    },
    {
     "name": "stdout",
     "output_type": "stream",
     "text": [
      "MoviePy - Writing audio in C:\\Users\\Welcome\\Dhairya-Python\\sarcasm detection\\audio_context\\2_58_c.wav\n"
     ]
    },
    {
     "name": "stderr",
     "output_type": "stream",
     "text": [
      "\n",
      "chunk:   0%|       | 0/137 [00:00<?, ?it/s, now=None]\u001b[A\n",
      "chunk:  39%|▍| 53/137 [00:00<00:00, 529.97it/s, now=N\u001b[A\n",
      "chunk:   7%| | 26/354 [12:10<00:11, 27.78it/s, now=No\u001b[A"
     ]
    },
    {
     "name": "stdout",
     "output_type": "stream",
     "text": [
      "MoviePy - Done.\n"
     ]
    },
    {
     "name": "stderr",
     "output_type": "stream",
     "text": [
      "chunk:   7%| | 26/354 [12:11<00:11, 27.78it/s, now=No"
     ]
    },
    {
     "name": "stdout",
     "output_type": "stream",
     "text": [
      "MoviePy - Writing audio in C:\\Users\\Welcome\\Dhairya-Python\\sarcasm detection\\audio_context\\2_590_c.wav\n"
     ]
    },
    {
     "name": "stderr",
     "output_type": "stream",
     "text": [
      "\n",
      "chunk:   0%|       | 0/456 [00:00<?, ?it/s, now=None]\u001b[A\n",
      "chunk:  15%|▏| 69/456 [00:00<00:00, 689.96it/s, now=N\u001b[A\n",
      "chunk:  34%|▎| 153/456 [00:00<00:00, 629.96it/s, now=\u001b[A\n",
      "chunk:  56%|▌| 255/456 [00:00<00:00, 742.74it/s, now=\u001b[A\n",
      "chunk:  78%|▊| 357/456 [00:00<00:00, 787.74it/s, now=\u001b[A\n",
      "chunk:   7%| | 26/354 [12:11<00:11, 27.78it/s, now=No\u001b[A"
     ]
    },
    {
     "name": "stdout",
     "output_type": "stream",
     "text": [
      "MoviePy - Done.\n"
     ]
    },
    {
     "name": "stderr",
     "output_type": "stream",
     "text": [
      "chunk:   7%| | 26/354 [12:12<00:11, 27.78it/s, now=No"
     ]
    },
    {
     "name": "stdout",
     "output_type": "stream",
     "text": [
      "MoviePy - Writing audio in C:\\Users\\Welcome\\Dhairya-Python\\sarcasm detection\\audio_context\\2_591_c.wav\n"
     ]
    },
    {
     "name": "stderr",
     "output_type": "stream",
     "text": [
      "\n",
      "chunk:   0%|       | 0/132 [00:00<?, ?it/s, now=None]\u001b[A\n",
      "chunk:  45%|▍| 60/132 [00:00<00:00, 599.97it/s, now=N\u001b[A\n",
      "chunk:   7%| | 26/354 [12:12<00:11, 27.78it/s, now=No\u001b[A"
     ]
    },
    {
     "name": "stdout",
     "output_type": "stream",
     "text": [
      "MoviePy - Done.\n"
     ]
    },
    {
     "name": "stderr",
     "output_type": "stream",
     "text": [
      "chunk:   7%| | 26/354 [12:12<00:11, 27.78it/s, now=No"
     ]
    },
    {
     "name": "stdout",
     "output_type": "stream",
     "text": [
      "MoviePy - Writing audio in C:\\Users\\Welcome\\Dhairya-Python\\sarcasm detection\\audio_context\\2_594_c.wav\n"
     ]
    },
    {
     "name": "stderr",
     "output_type": "stream",
     "text": [
      "\n",
      "chunk:   0%|        | 0/85 [00:00<?, ?it/s, now=None]\u001b[A\n",
      "chunk:  62%|▌| 53/85 [00:00<00:00, 529.97it/s, now=No\u001b[A\n",
      "chunk:   7%| | 26/354 [12:13<00:11, 27.78it/s, now=No\u001b[A"
     ]
    },
    {
     "name": "stdout",
     "output_type": "stream",
     "text": [
      "MoviePy - Done.\n"
     ]
    },
    {
     "name": "stderr",
     "output_type": "stream",
     "text": [
      "chunk:   7%| | 26/354 [12:13<00:11, 27.78it/s, now=No"
     ]
    },
    {
     "name": "stdout",
     "output_type": "stream",
     "text": [
      "MoviePy - Writing audio in C:\\Users\\Welcome\\Dhairya-Python\\sarcasm detection\\audio_context\\2_595_c.wav\n"
     ]
    },
    {
     "name": "stderr",
     "output_type": "stream",
     "text": [
      "\n",
      "chunk:   0%|       | 0/467 [00:00<?, ?it/s, now=None]\u001b[A\n",
      "chunk:   7%| | 33/467 [00:00<00:01, 329.98it/s, now=N\u001b[A\n",
      "chunk:  44%|▍| 204/467 [00:00<00:00, 1109.08it/s, now\u001b[A\n",
      "chunk:  79%|▊| 370/467 [00:00<00:00, 1356.64it/s, now\u001b[A\n",
      "chunk:   7%| | 26/354 [12:14<00:11, 27.78it/s, now=No\u001b[A"
     ]
    },
    {
     "name": "stdout",
     "output_type": "stream",
     "text": [
      "MoviePy - Done.\n"
     ]
    },
    {
     "name": "stderr",
     "output_type": "stream",
     "text": [
      "chunk:   7%| | 26/354 [12:14<00:11, 27.78it/s, now=No"
     ]
    },
    {
     "name": "stdout",
     "output_type": "stream",
     "text": [
      "MoviePy - Writing audio in C:\\Users\\Welcome\\Dhairya-Python\\sarcasm detection\\audio_context\\2_596_c.wav\n"
     ]
    },
    {
     "name": "stderr",
     "output_type": "stream",
     "text": [
      "\n",
      "chunk:   0%|       | 0/202 [00:00<?, ?it/s, now=None]\u001b[A\n",
      "chunk:  31%|▎| 63/202 [00:00<00:00, 629.96it/s, now=N\u001b[A\n",
      "chunk:   7%| | 26/354 [12:14<00:11, 27.78it/s, now=No\u001b[A"
     ]
    },
    {
     "name": "stdout",
     "output_type": "stream",
     "text": [
      "MoviePy - Done.\n"
     ]
    },
    {
     "name": "stderr",
     "output_type": "stream",
     "text": [
      "chunk:   7%| | 26/354 [12:15<00:11, 27.78it/s, now=No"
     ]
    },
    {
     "name": "stdout",
     "output_type": "stream",
     "text": [
      "MoviePy - Writing audio in C:\\Users\\Welcome\\Dhairya-Python\\sarcasm detection\\audio_context\\2_598_c.wav\n"
     ]
    },
    {
     "name": "stderr",
     "output_type": "stream",
     "text": [
      "\n",
      "chunk:   0%|        | 0/95 [00:00<?, ?it/s, now=None]\u001b[A\n",
      "chunk:  49%|▍| 47/95 [00:00<00:00, 469.97it/s, now=No\u001b[A\n",
      "chunk:   7%| | 26/354 [12:15<00:11, 27.78it/s, now=No\u001b[A"
     ]
    },
    {
     "name": "stdout",
     "output_type": "stream",
     "text": [
      "MoviePy - Done.\n"
     ]
    },
    {
     "name": "stderr",
     "output_type": "stream",
     "text": [
      "chunk:   7%| | 26/354 [12:15<00:11, 27.78it/s, now=No"
     ]
    },
    {
     "name": "stdout",
     "output_type": "stream",
     "text": [
      "MoviePy - Writing audio in C:\\Users\\Welcome\\Dhairya-Python\\sarcasm detection\\audio_context\\2_599_c.wav\n"
     ]
    },
    {
     "name": "stderr",
     "output_type": "stream",
     "text": [
      "\n",
      "chunk:   0%|       | 0/128 [00:00<?, ?it/s, now=None]\u001b[A\n",
      "chunk:  52%|▌| 67/128 [00:00<00:00, 669.96it/s, now=N\u001b[A\n",
      "chunk:   7%| | 26/354 [12:15<00:11, 27.78it/s, now=No\u001b[A"
     ]
    },
    {
     "name": "stdout",
     "output_type": "stream",
     "text": [
      "MoviePy - Done.\n"
     ]
    },
    {
     "name": "stderr",
     "output_type": "stream",
     "text": [
      "chunk:   7%| | 26/354 [12:16<00:11, 27.78it/s, now=No"
     ]
    },
    {
     "name": "stdout",
     "output_type": "stream",
     "text": [
      "MoviePy - Writing audio in C:\\Users\\Welcome\\Dhairya-Python\\sarcasm detection\\audio_context\\2_602_c.wav\n"
     ]
    },
    {
     "name": "stderr",
     "output_type": "stream",
     "text": [
      "\n",
      "chunk:   0%|       | 0/111 [00:00<?, ?it/s, now=None]\u001b[A\n",
      "chunk:  59%|▌| 65/111 [00:00<00:00, 649.96it/s, now=N\u001b[A\n",
      "chunk:   7%| | 26/354 [12:16<00:11, 27.78it/s, now=No\u001b[A"
     ]
    },
    {
     "name": "stdout",
     "output_type": "stream",
     "text": [
      "MoviePy - Done.\n"
     ]
    },
    {
     "name": "stderr",
     "output_type": "stream",
     "text": [
      "chunk:   7%| | 26/354 [12:17<00:11, 27.78it/s, now=No"
     ]
    },
    {
     "name": "stdout",
     "output_type": "stream",
     "text": [
      "MoviePy - Writing audio in C:\\Users\\Welcome\\Dhairya-Python\\sarcasm detection\\audio_context\\2_604_c.wav\n"
     ]
    },
    {
     "name": "stderr",
     "output_type": "stream",
     "text": [
      "\n",
      "chunk:   0%|        | 0/69 [00:00<?, ?it/s, now=None]\u001b[A\n",
      "chunk:  88%|▉| 61/69 [00:00<00:00, 609.97it/s, now=No\u001b[A\n",
      "chunk:   7%| | 26/354 [12:17<00:11, 27.78it/s, now=No\u001b[A"
     ]
    },
    {
     "name": "stdout",
     "output_type": "stream",
     "text": [
      "MoviePy - Done.\n"
     ]
    },
    {
     "name": "stderr",
     "output_type": "stream",
     "text": [
      "chunk:   7%| | 26/354 [12:17<00:11, 27.78it/s, now=No"
     ]
    },
    {
     "name": "stdout",
     "output_type": "stream",
     "text": [
      "MoviePy - Writing audio in C:\\Users\\Welcome\\Dhairya-Python\\sarcasm detection\\audio_context\\2_607_c.wav\n"
     ]
    },
    {
     "name": "stderr",
     "output_type": "stream",
     "text": [
      "\n",
      "chunk:   0%|       | 0/128 [00:00<?, ?it/s, now=None]\u001b[A\n",
      "chunk:  46%|▍| 59/128 [00:00<00:00, 589.97it/s, now=N\u001b[A\n",
      "chunk:   7%| | 26/354 [12:17<00:11, 27.78it/s, now=No\u001b[A"
     ]
    },
    {
     "name": "stdout",
     "output_type": "stream",
     "text": [
      "MoviePy - Done.\n"
     ]
    },
    {
     "name": "stderr",
     "output_type": "stream",
     "text": [
      "chunk:   7%| | 26/354 [12:18<00:11, 27.78it/s, now=No"
     ]
    },
    {
     "name": "stdout",
     "output_type": "stream",
     "text": [
      "MoviePy - Writing audio in C:\\Users\\Welcome\\Dhairya-Python\\sarcasm detection\\audio_context\\2_608_c.wav\n"
     ]
    },
    {
     "name": "stderr",
     "output_type": "stream",
     "text": [
      "\n",
      "chunk:   0%|       | 0/252 [00:00<?, ?it/s, now=None]\u001b[A\n",
      "chunk:  21%|▏| 54/252 [00:00<00:00, 539.97it/s, now=N\u001b[A\n",
      "chunk:  62%|▌| 156/252 [00:00<00:00, 822.31it/s, now=\u001b[A\n",
      "chunk:  95%|▉| 239/252 [00:00<00:00, 753.54it/s, now=\u001b[A\n",
      "chunk:   7%| | 26/354 [12:18<00:11, 27.78it/s, now=No\u001b[A"
     ]
    },
    {
     "name": "stdout",
     "output_type": "stream",
     "text": [
      "MoviePy - Done.\n"
     ]
    },
    {
     "name": "stderr",
     "output_type": "stream",
     "text": [
      "chunk:   7%| | 26/354 [12:19<00:11, 27.78it/s, now=No"
     ]
    },
    {
     "name": "stdout",
     "output_type": "stream",
     "text": [
      "MoviePy - Writing audio in C:\\Users\\Welcome\\Dhairya-Python\\sarcasm detection\\audio_context\\2_609_c.wav\n"
     ]
    },
    {
     "name": "stderr",
     "output_type": "stream",
     "text": [
      "\n",
      "chunk:   0%|       | 0/349 [00:00<?, ?it/s, now=None]\u001b[A\n",
      "chunk:   7%| | 26/349 [00:00<00:01, 259.98it/s, now=N\u001b[A\n",
      "chunk:  35%|▎| 122/349 [00:00<00:00, 671.73it/s, now=\u001b[A\n",
      "chunk:  63%|▋| 221/349 [00:00<00:00, 817.03it/s, now=\u001b[A\n",
      "chunk:  87%|▊| 303/349 [00:00<00:00, 814.97it/s, now=\u001b[A\n",
      "chunk:   7%| | 26/354 [12:19<00:11, 27.78it/s, now=No\u001b[A"
     ]
    },
    {
     "name": "stdout",
     "output_type": "stream",
     "text": [
      "MoviePy - Done.\n"
     ]
    },
    {
     "name": "stderr",
     "output_type": "stream",
     "text": [
      "chunk:   7%| | 26/354 [12:20<00:11, 27.78it/s, now=No"
     ]
    },
    {
     "name": "stdout",
     "output_type": "stream",
     "text": [
      "MoviePy - Writing audio in C:\\Users\\Welcome\\Dhairya-Python\\sarcasm detection\\audio_context\\2_611_c.wav\n"
     ]
    },
    {
     "name": "stderr",
     "output_type": "stream",
     "text": [
      "\n",
      "chunk:   0%|       | 0/256 [00:00<?, ?it/s, now=None]\u001b[A\n",
      "chunk:  23%|▏| 60/256 [00:00<00:00, 599.96it/s, now=N\u001b[A\n",
      "chunk:  60%|▌| 153/256 [00:00<00:00, 758.38it/s, now=\u001b[A\n",
      "chunk:  89%|▉| 229/256 [00:00<00:00, 634.74it/s, now=\u001b[A\n",
      "chunk:   7%| | 26/354 [12:20<00:11, 27.78it/s, now=No\u001b[A"
     ]
    },
    {
     "name": "stdout",
     "output_type": "stream",
     "text": [
      "MoviePy - Done.\n"
     ]
    },
    {
     "name": "stderr",
     "output_type": "stream",
     "text": [
      "chunk:   7%| | 26/354 [12:21<00:11, 27.78it/s, now=No"
     ]
    },
    {
     "name": "stdout",
     "output_type": "stream",
     "text": [
      "MoviePy - Writing audio in C:\\Users\\Welcome\\Dhairya-Python\\sarcasm detection\\audio_context\\2_612_c.wav\n"
     ]
    },
    {
     "name": "stderr",
     "output_type": "stream",
     "text": [
      "\n",
      "chunk:   0%|       | 0/268 [00:00<?, ?it/s, now=None]\u001b[A\n",
      "chunk:  19%|▏| 52/268 [00:00<00:00, 519.97it/s, now=N\u001b[A\n",
      "chunk:  76%|▊| 204/268 [00:00<00:00, 1095.29it/s, now\u001b[A\n",
      "chunk:   7%| | 26/354 [12:21<00:11, 27.78it/s, now=No\u001b[A"
     ]
    },
    {
     "name": "stdout",
     "output_type": "stream",
     "text": [
      "MoviePy - Done.\n"
     ]
    },
    {
     "name": "stderr",
     "output_type": "stream",
     "text": [
      "chunk:   7%| | 26/354 [12:22<00:11, 27.78it/s, now=No"
     ]
    },
    {
     "name": "stdout",
     "output_type": "stream",
     "text": [
      "MoviePy - Writing audio in C:\\Users\\Welcome\\Dhairya-Python\\sarcasm detection\\audio_context\\2_615_c.wav\n"
     ]
    },
    {
     "name": "stderr",
     "output_type": "stream",
     "text": [
      "\n",
      "chunk:   0%|       | 0/294 [00:00<?, ?it/s, now=None]\u001b[A\n",
      "chunk:  11%| | 33/294 [00:00<00:00, 329.98it/s, now=N\u001b[A\n",
      "chunk:  49%|▍| 144/294 [00:00<00:00, 788.78it/s, now=\u001b[A\n",
      "chunk:  76%|▊| 224/294 [00:00<00:00, 703.89it/s, now=\u001b[A\n",
      "chunk:   7%| | 26/354 [12:22<00:11, 27.78it/s, now=No\u001b[A"
     ]
    },
    {
     "name": "stdout",
     "output_type": "stream",
     "text": [
      "MoviePy - Done.\n"
     ]
    },
    {
     "name": "stderr",
     "output_type": "stream",
     "text": [
      "chunk:   7%| | 26/354 [12:23<00:11, 27.78it/s, now=No"
     ]
    },
    {
     "name": "stdout",
     "output_type": "stream",
     "text": [
      "MoviePy - Writing audio in C:\\Users\\Welcome\\Dhairya-Python\\sarcasm detection\\audio_context\\2_617_c.wav\n"
     ]
    },
    {
     "name": "stderr",
     "output_type": "stream",
     "text": [
      "\n",
      "chunk:   0%|       | 0/208 [00:00<?, ?it/s, now=None]\u001b[A\n",
      "chunk:  14%|▏| 29/208 [00:00<00:00, 287.11it/s, now=N\u001b[A\n",
      "chunk:  74%|▋| 153/208 [00:00<00:00, 756.64it/s, now=\u001b[A\n",
      "chunk:   7%| | 26/354 [12:23<00:11, 27.78it/s, now=No\u001b[A"
     ]
    },
    {
     "name": "stdout",
     "output_type": "stream",
     "text": [
      "MoviePy - Done.\n"
     ]
    },
    {
     "name": "stderr",
     "output_type": "stream",
     "text": [
      "chunk:   7%| | 26/354 [12:23<00:11, 27.78it/s, now=No"
     ]
    },
    {
     "name": "stdout",
     "output_type": "stream",
     "text": [
      "MoviePy - Writing audio in C:\\Users\\Welcome\\Dhairya-Python\\sarcasm detection\\audio_context\\2_622_c.wav\n"
     ]
    },
    {
     "name": "stderr",
     "output_type": "stream",
     "text": [
      "\n",
      "chunk:   0%|       | 0/210 [00:00<?, ?it/s, now=None]\u001b[A\n",
      "chunk:  31%|▎| 66/210 [00:00<00:00, 659.96it/s, now=N\u001b[A\n",
      "chunk:   7%| | 26/354 [12:24<00:11, 27.78it/s, now=No\u001b[A"
     ]
    },
    {
     "name": "stdout",
     "output_type": "stream",
     "text": [
      "MoviePy - Done.\n"
     ]
    },
    {
     "name": "stderr",
     "output_type": "stream",
     "text": [
      "chunk:   7%| | 26/354 [12:24<00:11, 27.78it/s, now=No"
     ]
    },
    {
     "name": "stdout",
     "output_type": "stream",
     "text": [
      "MoviePy - Writing audio in C:\\Users\\Welcome\\Dhairya-Python\\sarcasm detection\\audio_context\\2_623_c.wav\n"
     ]
    },
    {
     "name": "stderr",
     "output_type": "stream",
     "text": [
      "\n",
      "chunk:   0%|       | 0/366 [00:00<?, ?it/s, now=None]\u001b[A\n",
      "chunk:  14%|▏| 51/366 [00:00<00:00, 509.97it/s, now=N\u001b[A\n",
      "chunk:  56%|▌| 204/366 [00:00<00:00, 1109.93it/s, now\u001b[A\n",
      "chunk:  99%|▉| 363/366 [00:00<00:00, 1329.10it/s, now\u001b[A\n",
      "chunk:   7%| | 26/354 [12:24<00:11, 27.78it/s, now=No\u001b[A"
     ]
    },
    {
     "name": "stdout",
     "output_type": "stream",
     "text": [
      "MoviePy - Done.\n"
     ]
    },
    {
     "name": "stderr",
     "output_type": "stream",
     "text": [
      "chunk:   7%| | 26/354 [12:25<00:11, 27.78it/s, now=No"
     ]
    },
    {
     "name": "stdout",
     "output_type": "stream",
     "text": [
      "MoviePy - Writing audio in C:\\Users\\Welcome\\Dhairya-Python\\sarcasm detection\\audio_context\\2_626_c.wav\n"
     ]
    },
    {
     "name": "stderr",
     "output_type": "stream",
     "text": [
      "\n",
      "chunk:   0%|       | 0/135 [00:00<?, ?it/s, now=None]\u001b[A\n",
      "chunk:  39%|▍| 53/135 [00:00<00:00, 529.97it/s, now=N\u001b[A\n",
      "chunk:   7%| | 26/354 [12:25<00:11, 27.78it/s, now=No\u001b[A"
     ]
    },
    {
     "name": "stdout",
     "output_type": "stream",
     "text": [
      "MoviePy - Done.\n"
     ]
    },
    {
     "name": "stderr",
     "output_type": "stream",
     "text": [
      "chunk:   7%| | 26/354 [12:26<00:11, 27.78it/s, now=No"
     ]
    },
    {
     "name": "stdout",
     "output_type": "stream",
     "text": [
      "MoviePy - Writing audio in C:\\Users\\Welcome\\Dhairya-Python\\sarcasm detection\\audio_context\\2_627_c.wav\n"
     ]
    },
    {
     "name": "stderr",
     "output_type": "stream",
     "text": [
      "\n",
      "chunk:   0%|       | 0/368 [00:00<?, ?it/s, now=None]\u001b[A\n",
      "chunk:  15%|▏| 57/368 [00:00<00:00, 569.97it/s, now=N\u001b[A\n",
      "chunk:  42%|▍| 154/368 [00:00<00:00, 805.25it/s, now=\u001b[A\n",
      "chunk:  64%|▋| 236/368 [00:00<00:00, 763.18it/s, now=\u001b[A\n",
      "chunk:  86%|▊| 315/368 [00:00<00:00, 773.35it/s, now=\u001b[A\n",
      "chunk:   7%| | 26/354 [12:26<00:11, 27.78it/s, now=No\u001b[A"
     ]
    },
    {
     "name": "stdout",
     "output_type": "stream",
     "text": [
      "MoviePy - Done.\n"
     ]
    },
    {
     "name": "stderr",
     "output_type": "stream",
     "text": [
      "chunk:   7%| | 26/354 [12:27<00:11, 27.78it/s, now=No"
     ]
    },
    {
     "name": "stdout",
     "output_type": "stream",
     "text": [
      "MoviePy - Writing audio in C:\\Users\\Welcome\\Dhairya-Python\\sarcasm detection\\audio_context\\2_65_c.wav\n"
     ]
    },
    {
     "name": "stderr",
     "output_type": "stream",
     "text": [
      "\n",
      "chunk:   0%|       | 0/121 [00:00<?, ?it/s, now=None]\u001b[A\n",
      "chunk:  57%|▌| 69/121 [00:00<00:00, 689.96it/s, now=N\u001b[A\n",
      "chunk:   7%| | 26/354 [12:27<00:11, 27.78it/s, now=No\u001b[A"
     ]
    },
    {
     "name": "stdout",
     "output_type": "stream",
     "text": [
      "MoviePy - Done.\n"
     ]
    },
    {
     "name": "stderr",
     "output_type": "stream",
     "text": [
      "chunk:   7%| | 26/354 [12:27<00:11, 27.78it/s, now=No"
     ]
    },
    {
     "name": "stdout",
     "output_type": "stream",
     "text": [
      "MoviePy - Writing audio in C:\\Users\\Welcome\\Dhairya-Python\\sarcasm detection\\audio_context\\2_66_c.wav\n"
     ]
    },
    {
     "name": "stderr",
     "output_type": "stream",
     "text": [
      "\n",
      "chunk:   0%|       | 0/641 [00:00<?, ?it/s, now=None]\u001b[A\n",
      "chunk:  10%| | 62/641 [00:00<00:00, 619.96it/s, now=N\u001b[A\n",
      "chunk:  32%|▎| 206/641 [00:00<00:00, 1102.29it/s, now\u001b[A\n",
      "chunk:  56%|▌| 362/641 [00:00<00:00, 1311.25it/s, now\u001b[A\n",
      "chunk:  83%|▊| 534/641 [00:00<00:00, 1472.58it/s, now\u001b[A\n",
      "chunk:   7%| | 26/354 [12:28<00:11, 27.78it/s, now=No\u001b[A"
     ]
    },
    {
     "name": "stdout",
     "output_type": "stream",
     "text": [
      "MoviePy - Done.\n"
     ]
    },
    {
     "name": "stderr",
     "output_type": "stream",
     "text": [
      "chunk:   7%| | 26/354 [12:29<00:11, 27.78it/s, now=No"
     ]
    },
    {
     "name": "stdout",
     "output_type": "stream",
     "text": [
      "MoviePy - Writing audio in C:\\Users\\Welcome\\Dhairya-Python\\sarcasm detection\\audio_context\\2_69_c.wav\n"
     ]
    },
    {
     "name": "stderr",
     "output_type": "stream",
     "text": [
      "\n",
      "chunk:   0%|       | 0/165 [00:00<?, ?it/s, now=None]\u001b[A\n",
      "chunk:  38%|▍| 63/165 [00:00<00:00, 629.96it/s, now=N\u001b[A\n",
      "chunk:  77%|▊| 127/165 [00:00<00:00, 554.33it/s, now=\u001b[A\n",
      "chunk:   7%| | 26/354 [12:29<00:11, 27.78it/s, now=No\u001b[A"
     ]
    },
    {
     "name": "stdout",
     "output_type": "stream",
     "text": [
      "MoviePy - Done.\n"
     ]
    },
    {
     "name": "stderr",
     "output_type": "stream",
     "text": [
      "chunk:   7%| | 26/354 [12:29<00:11, 27.78it/s, now=No"
     ]
    },
    {
     "name": "stdout",
     "output_type": "stream",
     "text": [
      "MoviePy - Writing audio in C:\\Users\\Welcome\\Dhairya-Python\\sarcasm detection\\audio_context\\2_71_c.wav\n"
     ]
    },
    {
     "name": "stderr",
     "output_type": "stream",
     "text": [
      "\n",
      "chunk:   0%|      | 0/1105 [00:00<?, ?it/s, now=None]\u001b[A\n",
      "chunk:   5%| | 57/1105 [00:00<00:01, 569.97it/s, now=\u001b[A\n",
      "chunk:  20%|▏| 221/1105 [00:00<00:00, 1199.34it/s, no\u001b[A\n",
      "chunk:  35%|▎| 387/1105 [00:00<00:00, 1409.65it/s, no\u001b[A\n",
      "chunk:  51%|▌| 561/1105 [00:00<00:00, 1487.18it/s, no\u001b[A\n",
      "chunk:  65%|▋| 714/1105 [00:00<00:00, 1486.53it/s, no\u001b[A\n",
      "chunk:  79%|▊| 875/1105 [00:00<00:00, 1527.57it/s, no\u001b[A\n",
      "chunk:  94%|▉| 1037/1105 [00:00<00:00, 1557.31it/s, n\u001b[A\n",
      "chunk:   7%| | 26/354 [12:30<00:11, 27.78it/s, now=No\u001b[A"
     ]
    },
    {
     "name": "stdout",
     "output_type": "stream",
     "text": [
      "MoviePy - Done.\n"
     ]
    },
    {
     "name": "stderr",
     "output_type": "stream",
     "text": [
      "chunk:   7%| | 26/354 [12:31<00:11, 27.78it/s, now=No"
     ]
    },
    {
     "name": "stdout",
     "output_type": "stream",
     "text": [
      "MoviePy - Writing audio in C:\\Users\\Welcome\\Dhairya-Python\\sarcasm detection\\audio_context\\2_72_c.wav\n"
     ]
    },
    {
     "name": "stderr",
     "output_type": "stream",
     "text": [
      "\n",
      "chunk:   0%|       | 0/179 [00:00<?, ?it/s, now=None]\u001b[A\n",
      "chunk:  37%|▎| 67/179 [00:00<00:00, 669.96it/s, now=N\u001b[A\n",
      "chunk:  88%|▉| 158/179 [00:00<00:00, 811.13it/s, now=\u001b[A\n",
      "chunk:   7%| | 26/354 [12:31<00:11, 27.78it/s, now=No\u001b[A"
     ]
    },
    {
     "name": "stdout",
     "output_type": "stream",
     "text": [
      "MoviePy - Done.\n"
     ]
    },
    {
     "name": "stderr",
     "output_type": "stream",
     "text": [
      "chunk:   7%| | 26/354 [12:31<00:11, 27.78it/s, now=No"
     ]
    },
    {
     "name": "stdout",
     "output_type": "stream",
     "text": [
      "MoviePy - Writing audio in C:\\Users\\Welcome\\Dhairya-Python\\sarcasm detection\\audio_context\\2_73_c.wav\n"
     ]
    },
    {
     "name": "stderr",
     "output_type": "stream",
     "text": [
      "\n",
      "chunk:   0%|       | 0/180 [00:00<?, ?it/s, now=None]\u001b[A\n",
      "chunk:  33%|▎| 59/180 [00:00<00:00, 589.97it/s, now=N\u001b[A\n",
      "chunk:   7%| | 26/354 [12:32<00:11, 27.78it/s, now=No\u001b[A"
     ]
    },
    {
     "name": "stdout",
     "output_type": "stream",
     "text": [
      "MoviePy - Done.\n"
     ]
    },
    {
     "name": "stderr",
     "output_type": "stream",
     "text": [
      "chunk:   7%| | 26/354 [12:32<00:11, 27.78it/s, now=No"
     ]
    },
    {
     "name": "stdout",
     "output_type": "stream",
     "text": [
      "MoviePy - Writing audio in C:\\Users\\Welcome\\Dhairya-Python\\sarcasm detection\\audio_context\\2_74_c.wav\n"
     ]
    },
    {
     "name": "stderr",
     "output_type": "stream",
     "text": [
      "\n",
      "chunk:   0%|       | 0/110 [00:00<?, ?it/s, now=None]\u001b[A\n",
      "chunk:  34%|▎| 37/110 [00:00<00:00, 369.98it/s, now=N\u001b[A\n",
      "chunk:   7%| | 26/354 [12:32<00:11, 27.78it/s, now=No\u001b[A"
     ]
    },
    {
     "name": "stdout",
     "output_type": "stream",
     "text": [
      "MoviePy - Done.\n"
     ]
    },
    {
     "name": "stderr",
     "output_type": "stream",
     "text": [
      "chunk:   7%| | 26/354 [12:33<00:11, 27.78it/s, now=No"
     ]
    },
    {
     "name": "stdout",
     "output_type": "stream",
     "text": [
      "MoviePy - Writing audio in C:\\Users\\Welcome\\Dhairya-Python\\sarcasm detection\\audio_context\\2_77_c.wav\n"
     ]
    },
    {
     "name": "stderr",
     "output_type": "stream",
     "text": [
      "\n",
      "chunk:   0%|       | 0/107 [00:00<?, ?it/s, now=None]\u001b[A\n",
      "chunk:  53%|▌| 57/107 [00:00<00:00, 569.97it/s, now=N\u001b[A\n",
      "chunk:   7%| | 26/354 [12:33<00:11, 27.78it/s, now=No\u001b[A"
     ]
    },
    {
     "name": "stdout",
     "output_type": "stream",
     "text": [
      "MoviePy - Done.\n"
     ]
    },
    {
     "name": "stderr",
     "output_type": "stream",
     "text": [
      "chunk:   7%| | 26/354 [12:34<00:11, 27.78it/s, now=No"
     ]
    },
    {
     "name": "stdout",
     "output_type": "stream",
     "text": [
      "MoviePy - Writing audio in C:\\Users\\Welcome\\Dhairya-Python\\sarcasm detection\\audio_context\\2_78_c.wav\n"
     ]
    },
    {
     "name": "stderr",
     "output_type": "stream",
     "text": [
      "\n",
      "chunk:   0%|       | 0/159 [00:00<?, ?it/s, now=None]\u001b[A\n",
      "chunk:  40%|▍| 63/159 [00:00<00:00, 629.96it/s, now=N\u001b[A\n",
      "chunk:   7%| | 26/354 [12:34<00:11, 27.78it/s, now=No\u001b[A"
     ]
    },
    {
     "name": "stdout",
     "output_type": "stream",
     "text": [
      "MoviePy - Done.\n"
     ]
    },
    {
     "name": "stderr",
     "output_type": "stream",
     "text": [
      "chunk:   7%| | 26/354 [12:35<00:11, 27.78it/s, now=No"
     ]
    },
    {
     "name": "stdout",
     "output_type": "stream",
     "text": [
      "MoviePy - Writing audio in C:\\Users\\Welcome\\Dhairya-Python\\sarcasm detection\\audio_context\\2_79_c.wav\n"
     ]
    },
    {
     "name": "stderr",
     "output_type": "stream",
     "text": [
      "\n",
      "chunk:   0%|       | 0/230 [00:00<?, ?it/s, now=None]\u001b[A\n",
      "chunk:  24%|▏| 55/230 [00:00<00:00, 549.97it/s, now=N\u001b[A\n",
      "chunk:  67%|▋| 153/230 [00:00<00:00, 722.18it/s, now=\u001b[A\n",
      "chunk:   7%| | 26/354 [12:35<00:11, 27.78it/s, now=No\u001b[A"
     ]
    },
    {
     "name": "stdout",
     "output_type": "stream",
     "text": [
      "MoviePy - Done.\n"
     ]
    },
    {
     "name": "stderr",
     "output_type": "stream",
     "text": [
      "chunk:   7%| | 26/354 [12:35<00:11, 27.78it/s, now=No"
     ]
    },
    {
     "name": "stdout",
     "output_type": "stream",
     "text": [
      "MoviePy - Writing audio in C:\\Users\\Welcome\\Dhairya-Python\\sarcasm detection\\audio_context\\2_7_c.wav\n"
     ]
    },
    {
     "name": "stderr",
     "output_type": "stream",
     "text": [
      "\n",
      "chunk:   0%|       | 0/131 [00:00<?, ?it/s, now=None]\u001b[A\n",
      "chunk:  46%|▍| 60/131 [00:00<00:00, 599.96it/s, now=N\u001b[A\n",
      "chunk:   7%| | 26/354 [12:36<00:11, 27.78it/s, now=No\u001b[A"
     ]
    },
    {
     "name": "stdout",
     "output_type": "stream",
     "text": [
      "MoviePy - Done.\n"
     ]
    },
    {
     "name": "stderr",
     "output_type": "stream",
     "text": [
      "chunk:   7%| | 26/354 [12:36<00:11, 27.78it/s, now=No"
     ]
    },
    {
     "name": "stdout",
     "output_type": "stream",
     "text": [
      "MoviePy - Writing audio in C:\\Users\\Welcome\\Dhairya-Python\\sarcasm detection\\audio_context\\2_84_c.wav\n"
     ]
    },
    {
     "name": "stderr",
     "output_type": "stream",
     "text": [
      "\n",
      "chunk:   0%|       | 0/558 [00:00<?, ?it/s, now=None]\u001b[A\n",
      "chunk:  11%| | 59/558 [00:00<00:00, 589.97it/s, now=N\u001b[A\n",
      "chunk:  38%|▍| 212/558 [00:00<00:00, 1142.88it/s, now\u001b[A\n",
      "chunk:  67%|▋| 373/558 [00:00<00:00, 1356.13it/s, now\u001b[A\n",
      "chunk:  92%|▉| 511/558 [00:00<00:00, 1365.52it/s, now\u001b[A\n",
      "chunk:   7%| | 26/354 [12:37<00:11, 27.78it/s, now=No\u001b[A"
     ]
    },
    {
     "name": "stdout",
     "output_type": "stream",
     "text": [
      "MoviePy - Done.\n"
     ]
    },
    {
     "name": "stderr",
     "output_type": "stream",
     "text": [
      "chunk:   7%| | 26/354 [12:37<00:11, 27.78it/s, now=No"
     ]
    },
    {
     "name": "stdout",
     "output_type": "stream",
     "text": [
      "MoviePy - Writing audio in C:\\Users\\Welcome\\Dhairya-Python\\sarcasm detection\\audio_context\\2_86_c.wav\n"
     ]
    },
    {
     "name": "stderr",
     "output_type": "stream",
     "text": [
      "\n",
      "chunk:   0%|       | 0/338 [00:00<?, ?it/s, now=None]\u001b[A\n",
      "chunk:  17%|▏| 59/338 [00:00<00:00, 589.97it/s, now=N\u001b[A\n",
      "chunk:  45%|▍| 153/338 [00:00<00:00, 791.18it/s, now=\u001b[A\n",
      "chunk:  73%|▋| 248/338 [00:00<00:00, 863.45it/s, now=\u001b[A\n",
      "chunk:   7%| | 26/354 [12:38<00:11, 27.78it/s, now=No\u001b[A"
     ]
    },
    {
     "name": "stdout",
     "output_type": "stream",
     "text": [
      "MoviePy - Done.\n"
     ]
    },
    {
     "name": "stderr",
     "output_type": "stream",
     "text": [
      "chunk:   7%| | 26/354 [12:38<00:11, 27.78it/s, now=No"
     ]
    },
    {
     "name": "stdout",
     "output_type": "stream",
     "text": [
      "MoviePy - Writing audio in C:\\Users\\Welcome\\Dhairya-Python\\sarcasm detection\\audio_context\\2_87_c.wav\n"
     ]
    },
    {
     "name": "stderr",
     "output_type": "stream",
     "text": [
      "\n",
      "chunk:   0%|       | 0/177 [00:00<?, ?it/s, now=None]\u001b[A\n",
      "chunk:  18%|▏| 32/177 [00:00<00:00, 319.98it/s, now=N\u001b[A\n",
      "chunk:  86%|▊| 153/177 [00:00<00:00, 805.57it/s, now=\u001b[A\n",
      "chunk:   7%| | 26/354 [12:39<00:11, 27.78it/s, now=No\u001b[A"
     ]
    },
    {
     "name": "stdout",
     "output_type": "stream",
     "text": [
      "MoviePy - Done.\n"
     ]
    },
    {
     "name": "stderr",
     "output_type": "stream",
     "text": [
      "chunk:   7%| | 26/354 [12:39<00:11, 27.78it/s, now=No"
     ]
    },
    {
     "name": "stdout",
     "output_type": "stream",
     "text": [
      "MoviePy - Writing audio in C:\\Users\\Welcome\\Dhairya-Python\\sarcasm detection\\audio_context\\2_88_c.wav\n"
     ]
    },
    {
     "name": "stderr",
     "output_type": "stream",
     "text": [
      "\n",
      "chunk:   0%|        | 0/89 [00:00<?, ?it/s, now=None]\u001b[A\n",
      "chunk:  61%|▌| 54/89 [00:00<00:00, 539.97it/s, now=No\u001b[A\n",
      "chunk:   7%| | 26/354 [12:39<00:11, 27.78it/s, now=No\u001b[A"
     ]
    },
    {
     "name": "stdout",
     "output_type": "stream",
     "text": [
      "MoviePy - Done.\n"
     ]
    },
    {
     "name": "stderr",
     "output_type": "stream",
     "text": [
      "chunk:   7%| | 26/354 [12:40<00:11, 27.78it/s, now=No"
     ]
    },
    {
     "name": "stdout",
     "output_type": "stream",
     "text": [
      "MoviePy - Writing audio in C:\\Users\\Welcome\\Dhairya-Python\\sarcasm detection\\audio_context\\2_89_c.wav\n"
     ]
    },
    {
     "name": "stderr",
     "output_type": "stream",
     "text": [
      "\n",
      "chunk:   0%|      | 0/1209 [00:00<?, ?it/s, now=None]\u001b[A\n",
      "chunk:   5%| | 63/1209 [00:00<00:01, 629.96it/s, now=\u001b[A\n",
      "chunk:  19%|▏| 226/1209 [00:00<00:00, 1218.17it/s, no\u001b[A\n",
      "chunk:  33%|▎| 399/1209 [00:00<00:00, 1451.83it/s, no\u001b[A\n",
      "chunk:  45%|▍| 547/1209 [00:00<00:00, 1457.17it/s, no\u001b[A\n",
      "chunk:  59%|▌| 712/1209 [00:00<00:00, 1526.49it/s, no\u001b[A\n",
      "chunk:  72%|▋| 867/1209 [00:00<00:00, 1518.98it/s, no\u001b[A\n",
      "chunk:  86%|▊| 1034/1209 [00:00<00:00, 1567.93it/s, n\u001b[A\n",
      "chunk: 100%|▉| 1206/1209 [00:00<00:00, 1616.05it/s, n\u001b[A\n",
      "chunk:   7%| | 26/354 [12:41<00:11, 27.78it/s, now=No\u001b[A"
     ]
    },
    {
     "name": "stdout",
     "output_type": "stream",
     "text": [
      "MoviePy - Done.\n"
     ]
    },
    {
     "name": "stderr",
     "output_type": "stream",
     "text": [
      "chunk:   7%| | 26/354 [12:41<00:11, 27.78it/s, now=No"
     ]
    },
    {
     "name": "stdout",
     "output_type": "stream",
     "text": [
      "MoviePy - Writing audio in C:\\Users\\Welcome\\Dhairya-Python\\sarcasm detection\\audio_context\\2_8_c.wav\n"
     ]
    },
    {
     "name": "stderr",
     "output_type": "stream",
     "text": [
      "\n",
      "chunk:   0%|       | 0/217 [00:00<?, ?it/s, now=None]\u001b[A\n",
      "chunk:  24%|▏| 51/217 [00:00<00:00, 509.97it/s, now=N\u001b[A\n",
      "chunk:  71%|▋| 153/217 [00:00<00:00, 702.51it/s, now=\u001b[A\n",
      "chunk:   7%| | 26/354 [12:41<00:11, 27.78it/s, now=No\u001b[A"
     ]
    },
    {
     "name": "stdout",
     "output_type": "stream",
     "text": [
      "MoviePy - Done.\n"
     ]
    },
    {
     "name": "stderr",
     "output_type": "stream",
     "text": [
      "chunk:   7%| | 26/354 [12:42<00:11, 27.78it/s, now=No"
     ]
    },
    {
     "name": "stdout",
     "output_type": "stream",
     "text": [
      "MoviePy - Writing audio in C:\\Users\\Welcome\\Dhairya-Python\\sarcasm detection\\audio_context\\2_91_c.wav\n"
     ]
    },
    {
     "name": "stderr",
     "output_type": "stream",
     "text": [
      "\n",
      "chunk:   0%|       | 0/301 [00:00<?, ?it/s, now=None]\u001b[A\n",
      "chunk:  18%|▏| 53/301 [00:00<00:00, 529.97it/s, now=N\u001b[A\n",
      "chunk:  51%|▌| 154/301 [00:00<00:00, 812.31it/s, now=\u001b[A\n",
      "chunk:  85%|▊| 255/301 [00:00<00:00, 866.92it/s, now=\u001b[A\n",
      "chunk:   7%| | 26/354 [12:42<00:11, 27.78it/s, now=No\u001b[A"
     ]
    },
    {
     "name": "stdout",
     "output_type": "stream",
     "text": [
      "MoviePy - Done.\n"
     ]
    },
    {
     "name": "stderr",
     "output_type": "stream",
     "text": [
      "chunk:   7%| | 26/354 [12:43<00:11, 27.78it/s, now=No"
     ]
    },
    {
     "name": "stdout",
     "output_type": "stream",
     "text": [
      "MoviePy - Writing audio in C:\\Users\\Welcome\\Dhairya-Python\\sarcasm detection\\audio_context\\2_92_c.wav\n"
     ]
    },
    {
     "name": "stderr",
     "output_type": "stream",
     "text": [
      "\n",
      "chunk:   0%|        | 0/82 [00:00<?, ?it/s, now=None]\u001b[A\n",
      "chunk:  57%|▌| 47/82 [00:00<00:00, 469.97it/s, now=No\u001b[A\n",
      "chunk:   7%| | 26/354 [12:43<00:11, 27.78it/s, now=No\u001b[A"
     ]
    },
    {
     "name": "stdout",
     "output_type": "stream",
     "text": [
      "MoviePy - Done.\n"
     ]
    },
    {
     "name": "stderr",
     "output_type": "stream",
     "text": [
      "chunk:   7%| | 26/354 [12:43<00:11, 27.78it/s, now=No"
     ]
    },
    {
     "name": "stdout",
     "output_type": "stream",
     "text": [
      "MoviePy - Writing audio in C:\\Users\\Welcome\\Dhairya-Python\\sarcasm detection\\audio_context\\2_94_c.wav\n"
     ]
    },
    {
     "name": "stderr",
     "output_type": "stream",
     "text": [
      "\n",
      "chunk:   0%|       | 0/220 [00:00<?, ?it/s, now=None]\u001b[A\n",
      "chunk:  28%|▎| 62/220 [00:00<00:00, 619.97it/s, now=N\u001b[A\n",
      "chunk:  70%|▋| 153/220 [00:00<00:00, 772.37it/s, now=\u001b[A\n",
      "chunk:   7%| | 26/354 [12:44<00:11, 27.78it/s, now=No\u001b[A"
     ]
    },
    {
     "name": "stdout",
     "output_type": "stream",
     "text": [
      "MoviePy - Done.\n"
     ]
    },
    {
     "name": "stderr",
     "output_type": "stream",
     "text": [
      "chunk:   7%| | 26/354 [12:44<00:11, 27.78it/s, now=No"
     ]
    },
    {
     "name": "stdout",
     "output_type": "stream",
     "text": [
      "MoviePy - Writing audio in C:\\Users\\Welcome\\Dhairya-Python\\sarcasm detection\\audio_context\\2_96_c.wav\n"
     ]
    },
    {
     "name": "stderr",
     "output_type": "stream",
     "text": [
      "\n",
      "chunk:   0%|       | 0/283 [00:00<?, ?it/s, now=None]\u001b[A\n",
      "chunk:  12%| | 33/283 [00:00<00:00, 329.98it/s, now=N\u001b[A\n",
      "chunk:  54%|▌| 153/283 [00:00<00:00, 831.93it/s, now=\u001b[A\n",
      "chunk:  94%|▉| 265/283 [00:00<00:00, 962.60it/s, now=\u001b[A\n",
      "chunk:   7%| | 26/354 [12:45<00:11, 27.78it/s, now=No\u001b[A"
     ]
    },
    {
     "name": "stdout",
     "output_type": "stream",
     "text": [
      "MoviePy - Done.\n"
     ]
    },
    {
     "name": "stderr",
     "output_type": "stream",
     "text": [
      "chunk:   7%| | 26/354 [12:45<00:11, 27.78it/s, now=No"
     ]
    },
    {
     "name": "stdout",
     "output_type": "stream",
     "text": [
      "MoviePy - Writing audio in C:\\Users\\Welcome\\Dhairya-Python\\sarcasm detection\\audio_context\\2_97_c.wav\n"
     ]
    },
    {
     "name": "stderr",
     "output_type": "stream",
     "text": [
      "\n",
      "chunk:   0%|       | 0/174 [00:00<?, ?it/s, now=None]\u001b[A\n",
      "chunk:  22%|▏| 39/174 [00:00<00:00, 389.98it/s, now=N\u001b[A\n",
      "chunk:  88%|▉| 153/174 [00:00<00:00, 812.02it/s, now=\u001b[A\n",
      "chunk:   7%| | 26/354 [12:45<00:11, 27.78it/s, now=No\u001b[A"
     ]
    },
    {
     "name": "stdout",
     "output_type": "stream",
     "text": [
      "MoviePy - Done.\n"
     ]
    },
    {
     "name": "stderr",
     "output_type": "stream",
     "text": [
      "chunk:   7%| | 26/354 [12:46<00:11, 27.78it/s, now=No"
     ]
    },
    {
     "name": "stdout",
     "output_type": "stream",
     "text": [
      "MoviePy - Writing audio in C:\\Users\\Welcome\\Dhairya-Python\\sarcasm detection\\audio_context\\2_99_c.wav\n"
     ]
    },
    {
     "name": "stderr",
     "output_type": "stream",
     "text": [
      "\n",
      "chunk:   0%|       | 0/289 [00:00<?, ?it/s, now=None]\u001b[A\n",
      "chunk:   1%| | 3/289 [00:00<00:14, 20.27it/s, now=Non\u001b[A\n",
      "chunk:  34%|▎| 98/289 [00:00<00:00, 474.56it/s, now=N\u001b[A\n",
      "chunk:  54%|▌| 156/289 [00:00<00:00, 400.87it/s, now=\u001b[A\n",
      "chunk:  71%|▋| 204/289 [00:00<00:00, 401.74it/s, now=\u001b[A\n",
      "chunk:   7%| | 26/354 [12:47<00:11, 27.78it/s, now=No\u001b[A"
     ]
    },
    {
     "name": "stdout",
     "output_type": "stream",
     "text": [
      "MoviePy - Done.\n"
     ]
    },
    {
     "name": "stderr",
     "output_type": "stream",
     "text": [
      "chunk:   7%| | 26/354 [12:47<00:11, 27.78it/s, now=No"
     ]
    },
    {
     "name": "stdout",
     "output_type": "stream",
     "text": [
      "MoviePy - Writing audio in C:\\Users\\Welcome\\Dhairya-Python\\sarcasm detection\\audio_context\\2_9_c.wav\n"
     ]
    },
    {
     "name": "stderr",
     "output_type": "stream",
     "text": [
      "\n",
      "chunk:   0%|       | 0/101 [00:00<?, ?it/s, now=None]\u001b[A\n",
      "chunk:  29%|▎| 29/101 [00:00<00:00, 284.30it/s, now=N\u001b[A\n",
      "chunk:   7%| | 26/354 [12:48<00:11, 27.78it/s, now=No\u001b[A"
     ]
    },
    {
     "name": "stdout",
     "output_type": "stream",
     "text": [
      "MoviePy - Done.\n"
     ]
    }
   ],
   "source": [
    "path_context = \"E:\\\\soft comp\\\\context_final\"\n",
    "save_context_path = \"C:\\\\Users\\\\Welcome\\\\Dhairya-Python\\\\sarcasm detection\\\\audio_context\"\n",
    "\n",
    "for file in os.listdir(path_context):\n",
    "    video_path = path_context + \"\\\\\" + file\n",
    "    video = mp.VideoFileClip(video_path)\n",
    "    name_audio = file.split(\".\")[0]\n",
    "    final_video_path = save_context_path + \"\\\\\" + name_audio + \".wav\"\n",
    "    temp = video.audio\n",
    "    temp.write_audiofile(final_video_path)\n",
    "    video.close()\n",
    "    temp.close()"
   ]
  },
  {
   "cell_type": "code",
   "execution_count": 3,
   "id": "593fd8ec",
   "metadata": {},
   "outputs": [
    {
     "name": "stdout",
     "output_type": "stream",
     "text": [
      "MoviePy - Writing audio in C:\\Users\\Welcome\\Dhairya-Python\\sarcasm detection\\audio_utter\\1_10004.mp3\n"
     ]
    },
    {
     "name": "stderr",
     "output_type": "stream",
     "text": [
      "                                                     \r"
     ]
    },
    {
     "name": "stdout",
     "output_type": "stream",
     "text": [
      "MoviePy - Done.\n",
      "MoviePy - Writing audio in C:\\Users\\Welcome\\Dhairya-Python\\sarcasm detection\\audio_utter\\1_10009.mp3\n"
     ]
    },
    {
     "name": "stderr",
     "output_type": "stream",
     "text": [
      "                                                     \r"
     ]
    },
    {
     "name": "stdout",
     "output_type": "stream",
     "text": [
      "MoviePy - Done.\n",
      "MoviePy - Writing audio in C:\\Users\\Welcome\\Dhairya-Python\\sarcasm detection\\audio_utter\\1_1001.mp3\n"
     ]
    },
    {
     "name": "stderr",
     "output_type": "stream",
     "text": [
      "                                                     \r"
     ]
    },
    {
     "name": "stdout",
     "output_type": "stream",
     "text": [
      "MoviePy - Done.\n",
      "MoviePy - Writing audio in C:\\Users\\Welcome\\Dhairya-Python\\sarcasm detection\\audio_utter\\1_1003.mp3\n"
     ]
    },
    {
     "name": "stderr",
     "output_type": "stream",
     "text": [
      "                                                     \r"
     ]
    },
    {
     "name": "stdout",
     "output_type": "stream",
     "text": [
      "MoviePy - Done.\n",
      "MoviePy - Writing audio in C:\\Users\\Welcome\\Dhairya-Python\\sarcasm detection\\audio_utter\\1_10190.mp3\n"
     ]
    },
    {
     "name": "stderr",
     "output_type": "stream",
     "text": [
      "                                                     \r"
     ]
    },
    {
     "name": "stdout",
     "output_type": "stream",
     "text": [
      "MoviePy - Done.\n",
      "MoviePy - Writing audio in C:\\Users\\Welcome\\Dhairya-Python\\sarcasm detection\\audio_utter\\1_10462.mp3\n"
     ]
    },
    {
     "name": "stderr",
     "output_type": "stream",
     "text": [
      "                                                     \r"
     ]
    },
    {
     "name": "stdout",
     "output_type": "stream",
     "text": [
      "MoviePy - Done.\n",
      "MoviePy - Writing audio in C:\\Users\\Welcome\\Dhairya-Python\\sarcasm detection\\audio_utter\\1_10495.mp3\n"
     ]
    },
    {
     "name": "stderr",
     "output_type": "stream",
     "text": [
      "                                                     \r"
     ]
    },
    {
     "name": "stdout",
     "output_type": "stream",
     "text": [
      "MoviePy - Done.\n",
      "MoviePy - Writing audio in C:\\Users\\Welcome\\Dhairya-Python\\sarcasm detection\\audio_utter\\1_10496.mp3\n"
     ]
    },
    {
     "name": "stderr",
     "output_type": "stream",
     "text": [
      "                                                     \r"
     ]
    },
    {
     "name": "stdout",
     "output_type": "stream",
     "text": [
      "MoviePy - Done.\n",
      "MoviePy - Writing audio in C:\\Users\\Welcome\\Dhairya-Python\\sarcasm detection\\audio_utter\\1_105.mp3\n"
     ]
    },
    {
     "name": "stderr",
     "output_type": "stream",
     "text": [
      "                                                     \r"
     ]
    },
    {
     "name": "stdout",
     "output_type": "stream",
     "text": [
      "MoviePy - Done.\n",
      "MoviePy - Writing audio in C:\\Users\\Welcome\\Dhairya-Python\\sarcasm detection\\audio_utter\\1_10748.mp3\n"
     ]
    },
    {
     "name": "stderr",
     "output_type": "stream",
     "text": [
      "                                                     \r"
     ]
    },
    {
     "name": "stdout",
     "output_type": "stream",
     "text": [
      "MoviePy - Done.\n",
      "MoviePy - Writing audio in C:\\Users\\Welcome\\Dhairya-Python\\sarcasm detection\\audio_utter\\1_10797.mp3\n"
     ]
    },
    {
     "name": "stderr",
     "output_type": "stream",
     "text": [
      "                                                     \r"
     ]
    },
    {
     "name": "stdout",
     "output_type": "stream",
     "text": [
      "MoviePy - Done.\n",
      "MoviePy - Writing audio in C:\\Users\\Welcome\\Dhairya-Python\\sarcasm detection\\audio_utter\\1_10810.mp3\n"
     ]
    },
    {
     "name": "stderr",
     "output_type": "stream",
     "text": [
      "                                                     \r"
     ]
    },
    {
     "name": "stdout",
     "output_type": "stream",
     "text": [
      "MoviePy - Done.\n",
      "MoviePy - Writing audio in C:\\Users\\Welcome\\Dhairya-Python\\sarcasm detection\\audio_utter\\1_10829.mp3\n"
     ]
    },
    {
     "name": "stderr",
     "output_type": "stream",
     "text": [
      "                                                     \r"
     ]
    },
    {
     "name": "stdout",
     "output_type": "stream",
     "text": [
      "MoviePy - Done.\n",
      "MoviePy - Writing audio in C:\\Users\\Welcome\\Dhairya-Python\\sarcasm detection\\audio_utter\\1_10849.mp3\n"
     ]
    },
    {
     "name": "stderr",
     "output_type": "stream",
     "text": [
      "                                                     \r"
     ]
    },
    {
     "name": "stdout",
     "output_type": "stream",
     "text": [
      "MoviePy - Done.\n",
      "MoviePy - Writing audio in C:\\Users\\Welcome\\Dhairya-Python\\sarcasm detection\\audio_utter\\1_10853.mp3\n"
     ]
    },
    {
     "name": "stderr",
     "output_type": "stream",
     "text": [
      "                                                     \r"
     ]
    },
    {
     "name": "stdout",
     "output_type": "stream",
     "text": [
      "MoviePy - Done.\n",
      "MoviePy - Writing audio in C:\\Users\\Welcome\\Dhairya-Python\\sarcasm detection\\audio_utter\\1_10857.mp3\n"
     ]
    },
    {
     "name": "stderr",
     "output_type": "stream",
     "text": [
      "                                                     \r"
     ]
    },
    {
     "name": "stdout",
     "output_type": "stream",
     "text": [
      "MoviePy - Done.\n",
      "MoviePy - Writing audio in C:\\Users\\Welcome\\Dhairya-Python\\sarcasm detection\\audio_utter\\1_10859.mp3\n"
     ]
    },
    {
     "name": "stderr",
     "output_type": "stream",
     "text": [
      "                                                     \r"
     ]
    },
    {
     "name": "stdout",
     "output_type": "stream",
     "text": [
      "MoviePy - Done.\n",
      "MoviePy - Writing audio in C:\\Users\\Welcome\\Dhairya-Python\\sarcasm detection\\audio_utter\\1_10890.mp3\n"
     ]
    },
    {
     "name": "stderr",
     "output_type": "stream",
     "text": [
      "                                                     \r"
     ]
    },
    {
     "name": "stdout",
     "output_type": "stream",
     "text": [
      "MoviePy - Done.\n",
      "MoviePy - Writing audio in C:\\Users\\Welcome\\Dhairya-Python\\sarcasm detection\\audio_utter\\1_10977.mp3\n"
     ]
    },
    {
     "name": "stderr",
     "output_type": "stream",
     "text": [
      "                                                     \r"
     ]
    },
    {
     "name": "stdout",
     "output_type": "stream",
     "text": [
      "MoviePy - Done.\n",
      "MoviePy - Writing audio in C:\\Users\\Welcome\\Dhairya-Python\\sarcasm detection\\audio_utter\\1_11006.mp3\n"
     ]
    },
    {
     "name": "stderr",
     "output_type": "stream",
     "text": [
      "                                                     \r"
     ]
    },
    {
     "name": "stdout",
     "output_type": "stream",
     "text": [
      "MoviePy - Done.\n",
      "MoviePy - Writing audio in C:\\Users\\Welcome\\Dhairya-Python\\sarcasm detection\\audio_utter\\1_11021.mp3\n"
     ]
    },
    {
     "name": "stderr",
     "output_type": "stream",
     "text": [
      "                                                     \r"
     ]
    },
    {
     "name": "stdout",
     "output_type": "stream",
     "text": [
      "MoviePy - Done.\n",
      "MoviePy - Writing audio in C:\\Users\\Welcome\\Dhairya-Python\\sarcasm detection\\audio_utter\\1_11042.mp3\n"
     ]
    },
    {
     "name": "stderr",
     "output_type": "stream",
     "text": [
      "                                                     \r"
     ]
    },
    {
     "name": "stdout",
     "output_type": "stream",
     "text": [
      "MoviePy - Done.\n",
      "MoviePy - Writing audio in C:\\Users\\Welcome\\Dhairya-Python\\sarcasm detection\\audio_utter\\1_11046.mp3\n"
     ]
    },
    {
     "name": "stderr",
     "output_type": "stream",
     "text": [
      "                                                     \r"
     ]
    },
    {
     "name": "stdout",
     "output_type": "stream",
     "text": [
      "MoviePy - Done.\n",
      "MoviePy - Writing audio in C:\\Users\\Welcome\\Dhairya-Python\\sarcasm detection\\audio_utter\\1_11051.mp3\n"
     ]
    },
    {
     "name": "stderr",
     "output_type": "stream",
     "text": [
      "                                                     \r"
     ]
    },
    {
     "name": "stdout",
     "output_type": "stream",
     "text": [
      "MoviePy - Done.\n",
      "MoviePy - Writing audio in C:\\Users\\Welcome\\Dhairya-Python\\sarcasm detection\\audio_utter\\1_11055.mp3\n"
     ]
    },
    {
     "name": "stderr",
     "output_type": "stream",
     "text": [
      "                                                     \r"
     ]
    },
    {
     "name": "stdout",
     "output_type": "stream",
     "text": [
      "MoviePy - Done.\n",
      "MoviePy - Writing audio in C:\\Users\\Welcome\\Dhairya-Python\\sarcasm detection\\audio_utter\\1_11098.mp3\n"
     ]
    },
    {
     "name": "stderr",
     "output_type": "stream",
     "text": [
      "                                                     \r"
     ]
    },
    {
     "name": "stdout",
     "output_type": "stream",
     "text": [
      "MoviePy - Done.\n",
      "MoviePy - Writing audio in C:\\Users\\Welcome\\Dhairya-Python\\sarcasm detection\\audio_utter\\1_11120.mp3\n"
     ]
    },
    {
     "name": "stderr",
     "output_type": "stream",
     "text": [
      "                                                     \r"
     ]
    },
    {
     "name": "stdout",
     "output_type": "stream",
     "text": [
      "MoviePy - Done.\n",
      "MoviePy - Writing audio in C:\\Users\\Welcome\\Dhairya-Python\\sarcasm detection\\audio_utter\\1_11177.mp3\n"
     ]
    },
    {
     "name": "stderr",
     "output_type": "stream",
     "text": [
      "                                                     \r"
     ]
    },
    {
     "name": "stdout",
     "output_type": "stream",
     "text": [
      "MoviePy - Done.\n",
      "MoviePy - Writing audio in C:\\Users\\Welcome\\Dhairya-Python\\sarcasm detection\\audio_utter\\1_11201.mp3\n"
     ]
    },
    {
     "name": "stderr",
     "output_type": "stream",
     "text": [
      "                                                     \r"
     ]
    },
    {
     "name": "stdout",
     "output_type": "stream",
     "text": [
      "MoviePy - Done.\n",
      "MoviePy - Writing audio in C:\\Users\\Welcome\\Dhairya-Python\\sarcasm detection\\audio_utter\\1_11224.mp3\n"
     ]
    },
    {
     "name": "stderr",
     "output_type": "stream",
     "text": [
      "                                                     \r"
     ]
    },
    {
     "name": "stdout",
     "output_type": "stream",
     "text": [
      "MoviePy - Done.\n",
      "MoviePy - Writing audio in C:\\Users\\Welcome\\Dhairya-Python\\sarcasm detection\\audio_utter\\1_11232.mp3\n"
     ]
    },
    {
     "name": "stderr",
     "output_type": "stream",
     "text": [
      "                                                     \r"
     ]
    },
    {
     "name": "stdout",
     "output_type": "stream",
     "text": [
      "MoviePy - Done.\n",
      "MoviePy - Writing audio in C:\\Users\\Welcome\\Dhairya-Python\\sarcasm detection\\audio_utter\\1_11236.mp3\n"
     ]
    },
    {
     "name": "stderr",
     "output_type": "stream",
     "text": [
      "                                                     \r"
     ]
    },
    {
     "name": "stdout",
     "output_type": "stream",
     "text": [
      "MoviePy - Done.\n",
      "MoviePy - Writing audio in C:\\Users\\Welcome\\Dhairya-Python\\sarcasm detection\\audio_utter\\1_11242.mp3\n"
     ]
    },
    {
     "name": "stderr",
     "output_type": "stream",
     "text": [
      "                                                     \r"
     ]
    },
    {
     "name": "stdout",
     "output_type": "stream",
     "text": [
      "MoviePy - Done.\n",
      "MoviePy - Writing audio in C:\\Users\\Welcome\\Dhairya-Python\\sarcasm detection\\audio_utter\\1_11243.mp3\n"
     ]
    },
    {
     "name": "stderr",
     "output_type": "stream",
     "text": [
      "                                                     \r"
     ]
    },
    {
     "name": "stdout",
     "output_type": "stream",
     "text": [
      "MoviePy - Done.\n",
      "MoviePy - Writing audio in C:\\Users\\Welcome\\Dhairya-Python\\sarcasm detection\\audio_utter\\1_11253.mp3\n"
     ]
    },
    {
     "name": "stderr",
     "output_type": "stream",
     "text": [
      "                                                     \r"
     ]
    },
    {
     "name": "stdout",
     "output_type": "stream",
     "text": [
      "MoviePy - Done.\n",
      "MoviePy - Writing audio in C:\\Users\\Welcome\\Dhairya-Python\\sarcasm detection\\audio_utter\\1_11257.mp3\n"
     ]
    },
    {
     "name": "stderr",
     "output_type": "stream",
     "text": [
      "                                                     \r"
     ]
    },
    {
     "name": "stdout",
     "output_type": "stream",
     "text": [
      "MoviePy - Done.\n",
      "MoviePy - Writing audio in C:\\Users\\Welcome\\Dhairya-Python\\sarcasm detection\\audio_utter\\1_11306.mp3\n"
     ]
    },
    {
     "name": "stderr",
     "output_type": "stream",
     "text": [
      "                                                     \r"
     ]
    },
    {
     "name": "stdout",
     "output_type": "stream",
     "text": [
      "MoviePy - Done.\n",
      "MoviePy - Writing audio in C:\\Users\\Welcome\\Dhairya-Python\\sarcasm detection\\audio_utter\\1_11322.mp3\n"
     ]
    },
    {
     "name": "stderr",
     "output_type": "stream",
     "text": [
      "                                                     \r"
     ]
    },
    {
     "name": "stdout",
     "output_type": "stream",
     "text": [
      "MoviePy - Done.\n",
      "MoviePy - Writing audio in C:\\Users\\Welcome\\Dhairya-Python\\sarcasm detection\\audio_utter\\1_11378.mp3\n"
     ]
    },
    {
     "name": "stderr",
     "output_type": "stream",
     "text": [
      "                                                     \r"
     ]
    },
    {
     "name": "stdout",
     "output_type": "stream",
     "text": [
      "MoviePy - Done.\n",
      "MoviePy - Writing audio in C:\\Users\\Welcome\\Dhairya-Python\\sarcasm detection\\audio_utter\\1_11439.mp3\n"
     ]
    },
    {
     "name": "stderr",
     "output_type": "stream",
     "text": [
      "                                                     \r"
     ]
    },
    {
     "name": "stdout",
     "output_type": "stream",
     "text": [
      "MoviePy - Done.\n",
      "MoviePy - Writing audio in C:\\Users\\Welcome\\Dhairya-Python\\sarcasm detection\\audio_utter\\1_1144.mp3\n"
     ]
    },
    {
     "name": "stderr",
     "output_type": "stream",
     "text": [
      "                                                     \r"
     ]
    },
    {
     "name": "stdout",
     "output_type": "stream",
     "text": [
      "MoviePy - Done.\n",
      "MoviePy - Writing audio in C:\\Users\\Welcome\\Dhairya-Python\\sarcasm detection\\audio_utter\\1_11485.mp3\n"
     ]
    },
    {
     "name": "stderr",
     "output_type": "stream",
     "text": [
      "                                                     \r"
     ]
    },
    {
     "name": "stdout",
     "output_type": "stream",
     "text": [
      "MoviePy - Done.\n",
      "MoviePy - Writing audio in C:\\Users\\Welcome\\Dhairya-Python\\sarcasm detection\\audio_utter\\1_11526.mp3\n"
     ]
    },
    {
     "name": "stderr",
     "output_type": "stream",
     "text": [
      "                                                     \r"
     ]
    },
    {
     "name": "stdout",
     "output_type": "stream",
     "text": [
      "MoviePy - Done.\n",
      "MoviePy - Writing audio in C:\\Users\\Welcome\\Dhairya-Python\\sarcasm detection\\audio_utter\\1_11529.mp3\n"
     ]
    },
    {
     "name": "stderr",
     "output_type": "stream",
     "text": [
      "                                                     \r"
     ]
    },
    {
     "name": "stdout",
     "output_type": "stream",
     "text": [
      "MoviePy - Done.\n",
      "MoviePy - Writing audio in C:\\Users\\Welcome\\Dhairya-Python\\sarcasm detection\\audio_utter\\1_11609.mp3\n"
     ]
    },
    {
     "name": "stderr",
     "output_type": "stream",
     "text": [
      "                                                     \r"
     ]
    },
    {
     "name": "stdout",
     "output_type": "stream",
     "text": [
      "MoviePy - Done.\n",
      "MoviePy - Writing audio in C:\\Users\\Welcome\\Dhairya-Python\\sarcasm detection\\audio_utter\\1_11697.mp3\n"
     ]
    },
    {
     "name": "stderr",
     "output_type": "stream",
     "text": [
      "                                                     \r"
     ]
    },
    {
     "name": "stdout",
     "output_type": "stream",
     "text": [
      "MoviePy - Done.\n",
      "MoviePy - Writing audio in C:\\Users\\Welcome\\Dhairya-Python\\sarcasm detection\\audio_utter\\1_11699.mp3\n"
     ]
    },
    {
     "name": "stderr",
     "output_type": "stream",
     "text": [
      "                                                     \r"
     ]
    },
    {
     "name": "stdout",
     "output_type": "stream",
     "text": [
      "MoviePy - Done.\n",
      "MoviePy - Writing audio in C:\\Users\\Welcome\\Dhairya-Python\\sarcasm detection\\audio_utter\\1_11723.mp3\n"
     ]
    },
    {
     "name": "stderr",
     "output_type": "stream",
     "text": [
      "                                                     \r"
     ]
    },
    {
     "name": "stdout",
     "output_type": "stream",
     "text": [
      "MoviePy - Done.\n",
      "MoviePy - Writing audio in C:\\Users\\Welcome\\Dhairya-Python\\sarcasm detection\\audio_utter\\1_11736.mp3\n"
     ]
    },
    {
     "name": "stderr",
     "output_type": "stream",
     "text": [
      "                                                     \r"
     ]
    },
    {
     "name": "stdout",
     "output_type": "stream",
     "text": [
      "MoviePy - Done.\n",
      "MoviePy - Writing audio in C:\\Users\\Welcome\\Dhairya-Python\\sarcasm detection\\audio_utter\\1_11773.mp3\n"
     ]
    },
    {
     "name": "stderr",
     "output_type": "stream",
     "text": [
      "                                                     \r"
     ]
    },
    {
     "name": "stdout",
     "output_type": "stream",
     "text": [
      "MoviePy - Done.\n",
      "MoviePy - Writing audio in C:\\Users\\Welcome\\Dhairya-Python\\sarcasm detection\\audio_utter\\1_1180.mp3\n"
     ]
    },
    {
     "name": "stderr",
     "output_type": "stream",
     "text": [
      "                                                     \r"
     ]
    },
    {
     "name": "stdout",
     "output_type": "stream",
     "text": [
      "MoviePy - Done.\n",
      "MoviePy - Writing audio in C:\\Users\\Welcome\\Dhairya-Python\\sarcasm detection\\audio_utter\\1_1185.mp3\n"
     ]
    },
    {
     "name": "stderr",
     "output_type": "stream",
     "text": [
      "                                                     \r"
     ]
    },
    {
     "name": "stdout",
     "output_type": "stream",
     "text": [
      "MoviePy - Done.\n",
      "MoviePy - Writing audio in C:\\Users\\Welcome\\Dhairya-Python\\sarcasm detection\\audio_utter\\1_11885.mp3\n"
     ]
    },
    {
     "name": "stderr",
     "output_type": "stream",
     "text": [
      "                                                     \r"
     ]
    },
    {
     "name": "stdout",
     "output_type": "stream",
     "text": [
      "MoviePy - Done.\n",
      "MoviePy - Writing audio in C:\\Users\\Welcome\\Dhairya-Python\\sarcasm detection\\audio_utter\\1_11889.mp3\n"
     ]
    },
    {
     "name": "stderr",
     "output_type": "stream",
     "text": [
      "                                                     \r"
     ]
    },
    {
     "name": "stdout",
     "output_type": "stream",
     "text": [
      "MoviePy - Done.\n",
      "MoviePy - Writing audio in C:\\Users\\Welcome\\Dhairya-Python\\sarcasm detection\\audio_utter\\1_1189.mp3\n"
     ]
    },
    {
     "name": "stderr",
     "output_type": "stream",
     "text": [
      "                                                     \r"
     ]
    },
    {
     "name": "stdout",
     "output_type": "stream",
     "text": [
      "MoviePy - Done.\n",
      "MoviePy - Writing audio in C:\\Users\\Welcome\\Dhairya-Python\\sarcasm detection\\audio_utter\\1_11901.mp3\n"
     ]
    },
    {
     "name": "stderr",
     "output_type": "stream",
     "text": [
      "                                                     \r"
     ]
    },
    {
     "name": "stdout",
     "output_type": "stream",
     "text": [
      "MoviePy - Done.\n",
      "MoviePy - Writing audio in C:\\Users\\Welcome\\Dhairya-Python\\sarcasm detection\\audio_utter\\1_11913.mp3\n"
     ]
    },
    {
     "name": "stderr",
     "output_type": "stream",
     "text": [
      "                                                     \r"
     ]
    },
    {
     "name": "stdout",
     "output_type": "stream",
     "text": [
      "MoviePy - Done.\n",
      "MoviePy - Writing audio in C:\\Users\\Welcome\\Dhairya-Python\\sarcasm detection\\audio_utter\\1_11924.mp3\n"
     ]
    },
    {
     "name": "stderr",
     "output_type": "stream",
     "text": [
      "                                                     \r"
     ]
    },
    {
     "name": "stdout",
     "output_type": "stream",
     "text": [
      "MoviePy - Done.\n",
      "MoviePy - Writing audio in C:\\Users\\Welcome\\Dhairya-Python\\sarcasm detection\\audio_utter\\1_11928.mp3\n"
     ]
    },
    {
     "name": "stderr",
     "output_type": "stream",
     "text": [
      "                                                     \r"
     ]
    },
    {
     "name": "stdout",
     "output_type": "stream",
     "text": [
      "MoviePy - Done.\n",
      "MoviePy - Writing audio in C:\\Users\\Welcome\\Dhairya-Python\\sarcasm detection\\audio_utter\\1_12002.mp3\n"
     ]
    },
    {
     "name": "stderr",
     "output_type": "stream",
     "text": [
      "                                                     \r"
     ]
    },
    {
     "name": "stdout",
     "output_type": "stream",
     "text": [
      "MoviePy - Done.\n",
      "MoviePy - Writing audio in C:\\Users\\Welcome\\Dhairya-Python\\sarcasm detection\\audio_utter\\1_12083.mp3\n"
     ]
    },
    {
     "name": "stderr",
     "output_type": "stream",
     "text": [
      "                                                     \r"
     ]
    },
    {
     "name": "stdout",
     "output_type": "stream",
     "text": [
      "MoviePy - Done.\n",
      "MoviePy - Writing audio in C:\\Users\\Welcome\\Dhairya-Python\\sarcasm detection\\audio_utter\\1_12202.mp3\n"
     ]
    },
    {
     "name": "stderr",
     "output_type": "stream",
     "text": [
      "                                                     \r"
     ]
    },
    {
     "name": "stdout",
     "output_type": "stream",
     "text": [
      "MoviePy - Done.\n",
      "MoviePy - Writing audio in C:\\Users\\Welcome\\Dhairya-Python\\sarcasm detection\\audio_utter\\1_12275.mp3\n"
     ]
    },
    {
     "name": "stderr",
     "output_type": "stream",
     "text": [
      "                                                     \r"
     ]
    },
    {
     "name": "stdout",
     "output_type": "stream",
     "text": [
      "MoviePy - Done.\n",
      "MoviePy - Writing audio in C:\\Users\\Welcome\\Dhairya-Python\\sarcasm detection\\audio_utter\\1_12320.mp3\n"
     ]
    },
    {
     "name": "stderr",
     "output_type": "stream",
     "text": [
      "                                                     \r"
     ]
    },
    {
     "name": "stdout",
     "output_type": "stream",
     "text": [
      "MoviePy - Done.\n",
      "MoviePy - Writing audio in C:\\Users\\Welcome\\Dhairya-Python\\sarcasm detection\\audio_utter\\1_12331.mp3\n"
     ]
    },
    {
     "name": "stderr",
     "output_type": "stream",
     "text": [
      "                                                     \r"
     ]
    },
    {
     "name": "stdout",
     "output_type": "stream",
     "text": [
      "MoviePy - Done.\n",
      "MoviePy - Writing audio in C:\\Users\\Welcome\\Dhairya-Python\\sarcasm detection\\audio_utter\\1_1262.mp3\n"
     ]
    },
    {
     "name": "stderr",
     "output_type": "stream",
     "text": [
      "                                                     \r"
     ]
    },
    {
     "name": "stdout",
     "output_type": "stream",
     "text": [
      "MoviePy - Done.\n",
      "MoviePy - Writing audio in C:\\Users\\Welcome\\Dhairya-Python\\sarcasm detection\\audio_utter\\1_1296.mp3\n"
     ]
    },
    {
     "name": "stderr",
     "output_type": "stream",
     "text": [
      "                                                     \r"
     ]
    },
    {
     "name": "stdout",
     "output_type": "stream",
     "text": [
      "MoviePy - Done.\n",
      "MoviePy - Writing audio in C:\\Users\\Welcome\\Dhairya-Python\\sarcasm detection\\audio_utter\\1_1466.mp3\n"
     ]
    },
    {
     "name": "stderr",
     "output_type": "stream",
     "text": [
      "                                                     \r"
     ]
    },
    {
     "name": "stdout",
     "output_type": "stream",
     "text": [
      "MoviePy - Done.\n",
      "MoviePy - Writing audio in C:\\Users\\Welcome\\Dhairya-Python\\sarcasm detection\\audio_utter\\1_1470.mp3\n"
     ]
    },
    {
     "name": "stderr",
     "output_type": "stream",
     "text": [
      "                                                     \r"
     ]
    },
    {
     "name": "stdout",
     "output_type": "stream",
     "text": [
      "MoviePy - Done.\n",
      "MoviePy - Writing audio in C:\\Users\\Welcome\\Dhairya-Python\\sarcasm detection\\audio_utter\\1_1478.mp3\n"
     ]
    },
    {
     "name": "stderr",
     "output_type": "stream",
     "text": [
      "                                                     \r"
     ]
    },
    {
     "name": "stdout",
     "output_type": "stream",
     "text": [
      "MoviePy - Done.\n",
      "MoviePy - Writing audio in C:\\Users\\Welcome\\Dhairya-Python\\sarcasm detection\\audio_utter\\1_1484.mp3\n"
     ]
    },
    {
     "name": "stderr",
     "output_type": "stream",
     "text": [
      "                                                     \r"
     ]
    },
    {
     "name": "stdout",
     "output_type": "stream",
     "text": [
      "MoviePy - Done.\n",
      "MoviePy - Writing audio in C:\\Users\\Welcome\\Dhairya-Python\\sarcasm detection\\audio_utter\\1_1549.mp3\n"
     ]
    },
    {
     "name": "stderr",
     "output_type": "stream",
     "text": [
      "                                                     \r"
     ]
    },
    {
     "name": "stdout",
     "output_type": "stream",
     "text": [
      "MoviePy - Done.\n",
      "MoviePy - Writing audio in C:\\Users\\Welcome\\Dhairya-Python\\sarcasm detection\\audio_utter\\1_1560.mp3\n"
     ]
    },
    {
     "name": "stderr",
     "output_type": "stream",
     "text": [
      "                                                     \r"
     ]
    },
    {
     "name": "stdout",
     "output_type": "stream",
     "text": [
      "MoviePy - Done.\n",
      "MoviePy - Writing audio in C:\\Users\\Welcome\\Dhairya-Python\\sarcasm detection\\audio_utter\\1_162.mp3\n"
     ]
    },
    {
     "name": "stderr",
     "output_type": "stream",
     "text": [
      "                                                     \r"
     ]
    },
    {
     "name": "stdout",
     "output_type": "stream",
     "text": [
      "MoviePy - Done.\n",
      "MoviePy - Writing audio in C:\\Users\\Welcome\\Dhairya-Python\\sarcasm detection\\audio_utter\\1_1627.mp3\n"
     ]
    },
    {
     "name": "stderr",
     "output_type": "stream",
     "text": [
      "                                                     \r"
     ]
    },
    {
     "name": "stdout",
     "output_type": "stream",
     "text": [
      "MoviePy - Done.\n",
      "MoviePy - Writing audio in C:\\Users\\Welcome\\Dhairya-Python\\sarcasm detection\\audio_utter\\1_1638.mp3\n"
     ]
    },
    {
     "name": "stderr",
     "output_type": "stream",
     "text": [
      "                                                     \r"
     ]
    },
    {
     "name": "stdout",
     "output_type": "stream",
     "text": [
      "MoviePy - Done.\n",
      "MoviePy - Writing audio in C:\\Users\\Welcome\\Dhairya-Python\\sarcasm detection\\audio_utter\\1_1666.mp3\n"
     ]
    },
    {
     "name": "stderr",
     "output_type": "stream",
     "text": [
      "                                                     \r"
     ]
    },
    {
     "name": "stdout",
     "output_type": "stream",
     "text": [
      "MoviePy - Done.\n",
      "MoviePy - Writing audio in C:\\Users\\Welcome\\Dhairya-Python\\sarcasm detection\\audio_utter\\1_1678.mp3\n"
     ]
    },
    {
     "name": "stderr",
     "output_type": "stream",
     "text": [
      "                                                     \r"
     ]
    },
    {
     "name": "stdout",
     "output_type": "stream",
     "text": [
      "MoviePy - Done.\n",
      "MoviePy - Writing audio in C:\\Users\\Welcome\\Dhairya-Python\\sarcasm detection\\audio_utter\\1_1722.mp3\n"
     ]
    },
    {
     "name": "stderr",
     "output_type": "stream",
     "text": [
      "                                                     \r"
     ]
    },
    {
     "name": "stdout",
     "output_type": "stream",
     "text": [
      "MoviePy - Done.\n",
      "MoviePy - Writing audio in C:\\Users\\Welcome\\Dhairya-Python\\sarcasm detection\\audio_utter\\1_1732.mp3\n"
     ]
    },
    {
     "name": "stderr",
     "output_type": "stream",
     "text": [
      "                                                     \r"
     ]
    },
    {
     "name": "stdout",
     "output_type": "stream",
     "text": [
      "MoviePy - Done.\n",
      "MoviePy - Writing audio in C:\\Users\\Welcome\\Dhairya-Python\\sarcasm detection\\audio_utter\\1_175.mp3\n"
     ]
    },
    {
     "name": "stderr",
     "output_type": "stream",
     "text": [
      "                                                     \r"
     ]
    },
    {
     "name": "stdout",
     "output_type": "stream",
     "text": [
      "MoviePy - Done.\n",
      "MoviePy - Writing audio in C:\\Users\\Welcome\\Dhairya-Python\\sarcasm detection\\audio_utter\\1_1772.mp3\n"
     ]
    },
    {
     "name": "stderr",
     "output_type": "stream",
     "text": [
      "                                                     \r"
     ]
    },
    {
     "name": "stdout",
     "output_type": "stream",
     "text": [
      "MoviePy - Done.\n",
      "MoviePy - Writing audio in C:\\Users\\Welcome\\Dhairya-Python\\sarcasm detection\\audio_utter\\1_1798.mp3\n"
     ]
    },
    {
     "name": "stderr",
     "output_type": "stream",
     "text": [
      "                                                     \r"
     ]
    },
    {
     "name": "stdout",
     "output_type": "stream",
     "text": [
      "MoviePy - Done.\n",
      "MoviePy - Writing audio in C:\\Users\\Welcome\\Dhairya-Python\\sarcasm detection\\audio_utter\\1_1803.mp3\n"
     ]
    },
    {
     "name": "stderr",
     "output_type": "stream",
     "text": [
      "                                                     \r"
     ]
    },
    {
     "name": "stdout",
     "output_type": "stream",
     "text": [
      "MoviePy - Done.\n",
      "MoviePy - Writing audio in C:\\Users\\Welcome\\Dhairya-Python\\sarcasm detection\\audio_utter\\1_182.mp3\n"
     ]
    },
    {
     "name": "stderr",
     "output_type": "stream",
     "text": [
      "                                                     \r"
     ]
    },
    {
     "name": "stdout",
     "output_type": "stream",
     "text": [
      "MoviePy - Done.\n",
      "MoviePy - Writing audio in C:\\Users\\Welcome\\Dhairya-Python\\sarcasm detection\\audio_utter\\1_1931.mp3\n"
     ]
    },
    {
     "name": "stderr",
     "output_type": "stream",
     "text": [
      "                                                     \r"
     ]
    },
    {
     "name": "stdout",
     "output_type": "stream",
     "text": [
      "MoviePy - Done.\n",
      "MoviePy - Writing audio in C:\\Users\\Welcome\\Dhairya-Python\\sarcasm detection\\audio_utter\\1_1973.mp3\n"
     ]
    },
    {
     "name": "stderr",
     "output_type": "stream",
     "text": [
      "                                                     \r"
     ]
    },
    {
     "name": "stdout",
     "output_type": "stream",
     "text": [
      "MoviePy - Done.\n",
      "MoviePy - Writing audio in C:\\Users\\Welcome\\Dhairya-Python\\sarcasm detection\\audio_utter\\1_1987.mp3\n"
     ]
    },
    {
     "name": "stderr",
     "output_type": "stream",
     "text": [
      "                                                     \r"
     ]
    },
    {
     "name": "stdout",
     "output_type": "stream",
     "text": [
      "MoviePy - Done.\n",
      "MoviePy - Writing audio in C:\\Users\\Welcome\\Dhairya-Python\\sarcasm detection\\audio_utter\\1_2075.mp3\n"
     ]
    },
    {
     "name": "stderr",
     "output_type": "stream",
     "text": [
      "                                                     \r"
     ]
    },
    {
     "name": "stdout",
     "output_type": "stream",
     "text": [
      "MoviePy - Done.\n",
      "MoviePy - Writing audio in C:\\Users\\Welcome\\Dhairya-Python\\sarcasm detection\\audio_utter\\1_2119.mp3\n"
     ]
    },
    {
     "name": "stderr",
     "output_type": "stream",
     "text": [
      "                                                     \r"
     ]
    },
    {
     "name": "stdout",
     "output_type": "stream",
     "text": [
      "MoviePy - Done.\n",
      "MoviePy - Writing audio in C:\\Users\\Welcome\\Dhairya-Python\\sarcasm detection\\audio_utter\\1_213.mp3\n"
     ]
    },
    {
     "name": "stderr",
     "output_type": "stream",
     "text": [
      "                                                     \r"
     ]
    },
    {
     "name": "stdout",
     "output_type": "stream",
     "text": [
      "MoviePy - Done.\n",
      "MoviePy - Writing audio in C:\\Users\\Welcome\\Dhairya-Python\\sarcasm detection\\audio_utter\\1_2198.mp3\n"
     ]
    },
    {
     "name": "stderr",
     "output_type": "stream",
     "text": [
      "                                                     \r"
     ]
    },
    {
     "name": "stdout",
     "output_type": "stream",
     "text": [
      "MoviePy - Done.\n",
      "MoviePy - Writing audio in C:\\Users\\Welcome\\Dhairya-Python\\sarcasm detection\\audio_utter\\1_2216.mp3\n"
     ]
    },
    {
     "name": "stderr",
     "output_type": "stream",
     "text": [
      "                                                     \r"
     ]
    },
    {
     "name": "stdout",
     "output_type": "stream",
     "text": [
      "MoviePy - Done.\n",
      "MoviePy - Writing audio in C:\\Users\\Welcome\\Dhairya-Python\\sarcasm detection\\audio_utter\\1_2354.mp3\n"
     ]
    },
    {
     "name": "stderr",
     "output_type": "stream",
     "text": [
      "                                                     \r"
     ]
    },
    {
     "name": "stdout",
     "output_type": "stream",
     "text": [
      "MoviePy - Done.\n",
      "MoviePy - Writing audio in C:\\Users\\Welcome\\Dhairya-Python\\sarcasm detection\\audio_utter\\1_2361.mp3\n"
     ]
    },
    {
     "name": "stderr",
     "output_type": "stream",
     "text": [
      "                                                     \r"
     ]
    },
    {
     "name": "stdout",
     "output_type": "stream",
     "text": [
      "MoviePy - Done.\n",
      "MoviePy - Writing audio in C:\\Users\\Welcome\\Dhairya-Python\\sarcasm detection\\audio_utter\\1_2420.mp3\n"
     ]
    },
    {
     "name": "stderr",
     "output_type": "stream",
     "text": [
      "                                                     \r"
     ]
    },
    {
     "name": "stdout",
     "output_type": "stream",
     "text": [
      "MoviePy - Done.\n",
      "MoviePy - Writing audio in C:\\Users\\Welcome\\Dhairya-Python\\sarcasm detection\\audio_utter\\1_2423.mp3\n"
     ]
    },
    {
     "name": "stderr",
     "output_type": "stream",
     "text": [
      "                                                     \r"
     ]
    },
    {
     "name": "stdout",
     "output_type": "stream",
     "text": [
      "MoviePy - Done.\n",
      "MoviePy - Writing audio in C:\\Users\\Welcome\\Dhairya-Python\\sarcasm detection\\audio_utter\\1_2464.mp3\n"
     ]
    },
    {
     "name": "stderr",
     "output_type": "stream",
     "text": [
      "                                                     \r"
     ]
    },
    {
     "name": "stdout",
     "output_type": "stream",
     "text": [
      "MoviePy - Done.\n",
      "MoviePy - Writing audio in C:\\Users\\Welcome\\Dhairya-Python\\sarcasm detection\\audio_utter\\1_2575.mp3\n"
     ]
    },
    {
     "name": "stderr",
     "output_type": "stream",
     "text": [
      "                                                     \r"
     ]
    },
    {
     "name": "stdout",
     "output_type": "stream",
     "text": [
      "MoviePy - Done.\n",
      "MoviePy - Writing audio in C:\\Users\\Welcome\\Dhairya-Python\\sarcasm detection\\audio_utter\\1_2580.mp3\n"
     ]
    },
    {
     "name": "stderr",
     "output_type": "stream",
     "text": [
      "                                                     \r"
     ]
    },
    {
     "name": "stdout",
     "output_type": "stream",
     "text": [
      "MoviePy - Done.\n",
      "MoviePy - Writing audio in C:\\Users\\Welcome\\Dhairya-Python\\sarcasm detection\\audio_utter\\1_2614.mp3\n"
     ]
    },
    {
     "name": "stderr",
     "output_type": "stream",
     "text": [
      "                                                     \r"
     ]
    },
    {
     "name": "stdout",
     "output_type": "stream",
     "text": [
      "MoviePy - Done.\n",
      "MoviePy - Writing audio in C:\\Users\\Welcome\\Dhairya-Python\\sarcasm detection\\audio_utter\\1_2616.mp3\n"
     ]
    },
    {
     "name": "stderr",
     "output_type": "stream",
     "text": [
      "                                                     \r"
     ]
    },
    {
     "name": "stdout",
     "output_type": "stream",
     "text": [
      "MoviePy - Done.\n",
      "MoviePy - Writing audio in C:\\Users\\Welcome\\Dhairya-Python\\sarcasm detection\\audio_utter\\1_2664.mp3\n"
     ]
    },
    {
     "name": "stderr",
     "output_type": "stream",
     "text": [
      "                                                     \r"
     ]
    },
    {
     "name": "stdout",
     "output_type": "stream",
     "text": [
      "MoviePy - Done.\n",
      "MoviePy - Writing audio in C:\\Users\\Welcome\\Dhairya-Python\\sarcasm detection\\audio_utter\\1_2669.mp3\n"
     ]
    },
    {
     "name": "stderr",
     "output_type": "stream",
     "text": [
      "                                                     \r"
     ]
    },
    {
     "name": "stdout",
     "output_type": "stream",
     "text": [
      "MoviePy - Done.\n",
      "MoviePy - Writing audio in C:\\Users\\Welcome\\Dhairya-Python\\sarcasm detection\\audio_utter\\1_276.mp3\n"
     ]
    },
    {
     "name": "stderr",
     "output_type": "stream",
     "text": [
      "                                                     \r"
     ]
    },
    {
     "name": "stdout",
     "output_type": "stream",
     "text": [
      "MoviePy - Done.\n",
      "MoviePy - Writing audio in C:\\Users\\Welcome\\Dhairya-Python\\sarcasm detection\\audio_utter\\1_2778.mp3\n"
     ]
    },
    {
     "name": "stderr",
     "output_type": "stream",
     "text": [
      "                                                     \r"
     ]
    },
    {
     "name": "stdout",
     "output_type": "stream",
     "text": [
      "MoviePy - Done.\n",
      "MoviePy - Writing audio in C:\\Users\\Welcome\\Dhairya-Python\\sarcasm detection\\audio_utter\\1_2792.mp3\n"
     ]
    },
    {
     "name": "stderr",
     "output_type": "stream",
     "text": [
      "                                                     \r"
     ]
    },
    {
     "name": "stdout",
     "output_type": "stream",
     "text": [
      "MoviePy - Done.\n",
      "MoviePy - Writing audio in C:\\Users\\Welcome\\Dhairya-Python\\sarcasm detection\\audio_utter\\1_2797.mp3\n"
     ]
    },
    {
     "name": "stderr",
     "output_type": "stream",
     "text": [
      "                                                     \r"
     ]
    },
    {
     "name": "stdout",
     "output_type": "stream",
     "text": [
      "MoviePy - Done.\n",
      "MoviePy - Writing audio in C:\\Users\\Welcome\\Dhairya-Python\\sarcasm detection\\audio_utter\\1_2819.mp3\n"
     ]
    },
    {
     "name": "stderr",
     "output_type": "stream",
     "text": [
      "                                                     \r"
     ]
    },
    {
     "name": "stdout",
     "output_type": "stream",
     "text": [
      "MoviePy - Done.\n",
      "MoviePy - Writing audio in C:\\Users\\Welcome\\Dhairya-Python\\sarcasm detection\\audio_utter\\1_2830.mp3\n"
     ]
    },
    {
     "name": "stderr",
     "output_type": "stream",
     "text": [
      "                                                     \r"
     ]
    },
    {
     "name": "stdout",
     "output_type": "stream",
     "text": [
      "MoviePy - Done.\n",
      "MoviePy - Writing audio in C:\\Users\\Welcome\\Dhairya-Python\\sarcasm detection\\audio_utter\\1_2837.mp3\n"
     ]
    },
    {
     "name": "stderr",
     "output_type": "stream",
     "text": [
      "                                                     \r"
     ]
    },
    {
     "name": "stdout",
     "output_type": "stream",
     "text": [
      "MoviePy - Done.\n",
      "MoviePy - Writing audio in C:\\Users\\Welcome\\Dhairya-Python\\sarcasm detection\\audio_utter\\1_2842.mp3\n"
     ]
    },
    {
     "name": "stderr",
     "output_type": "stream",
     "text": [
      "                                                     \r"
     ]
    },
    {
     "name": "stdout",
     "output_type": "stream",
     "text": [
      "MoviePy - Done.\n",
      "MoviePy - Writing audio in C:\\Users\\Welcome\\Dhairya-Python\\sarcasm detection\\audio_utter\\1_2853.mp3\n"
     ]
    },
    {
     "name": "stderr",
     "output_type": "stream",
     "text": [
      "                                                     \r"
     ]
    },
    {
     "name": "stdout",
     "output_type": "stream",
     "text": [
      "MoviePy - Done.\n",
      "MoviePy - Writing audio in C:\\Users\\Welcome\\Dhairya-Python\\sarcasm detection\\audio_utter\\1_3064.mp3\n"
     ]
    },
    {
     "name": "stderr",
     "output_type": "stream",
     "text": [
      "                                                     \r"
     ]
    },
    {
     "name": "stdout",
     "output_type": "stream",
     "text": [
      "MoviePy - Done.\n",
      "MoviePy - Writing audio in C:\\Users\\Welcome\\Dhairya-Python\\sarcasm detection\\audio_utter\\1_3069.mp3\n"
     ]
    },
    {
     "name": "stderr",
     "output_type": "stream",
     "text": [
      "                                                     \r"
     ]
    },
    {
     "name": "stdout",
     "output_type": "stream",
     "text": [
      "MoviePy - Done.\n",
      "MoviePy - Writing audio in C:\\Users\\Welcome\\Dhairya-Python\\sarcasm detection\\audio_utter\\1_3125.mp3\n"
     ]
    },
    {
     "name": "stderr",
     "output_type": "stream",
     "text": [
      "                                                     \r"
     ]
    },
    {
     "name": "stdout",
     "output_type": "stream",
     "text": [
      "MoviePy - Done.\n",
      "MoviePy - Writing audio in C:\\Users\\Welcome\\Dhairya-Python\\sarcasm detection\\audio_utter\\1_3177.mp3\n"
     ]
    },
    {
     "name": "stderr",
     "output_type": "stream",
     "text": [
      "                                                     \r"
     ]
    },
    {
     "name": "stdout",
     "output_type": "stream",
     "text": [
      "MoviePy - Done.\n",
      "MoviePy - Writing audio in C:\\Users\\Welcome\\Dhairya-Python\\sarcasm detection\\audio_utter\\1_3204.mp3\n"
     ]
    },
    {
     "name": "stderr",
     "output_type": "stream",
     "text": [
      "                                                     \r"
     ]
    },
    {
     "name": "stdout",
     "output_type": "stream",
     "text": [
      "MoviePy - Done.\n",
      "MoviePy - Writing audio in C:\\Users\\Welcome\\Dhairya-Python\\sarcasm detection\\audio_utter\\1_3256.mp3\n"
     ]
    },
    {
     "name": "stderr",
     "output_type": "stream",
     "text": [
      "                                                     \r"
     ]
    },
    {
     "name": "stdout",
     "output_type": "stream",
     "text": [
      "MoviePy - Done.\n",
      "MoviePy - Writing audio in C:\\Users\\Welcome\\Dhairya-Python\\sarcasm detection\\audio_utter\\1_3259.mp3\n"
     ]
    },
    {
     "name": "stderr",
     "output_type": "stream",
     "text": [
      "                                                     \r"
     ]
    },
    {
     "name": "stdout",
     "output_type": "stream",
     "text": [
      "MoviePy - Done.\n",
      "MoviePy - Writing audio in C:\\Users\\Welcome\\Dhairya-Python\\sarcasm detection\\audio_utter\\1_3287.mp3\n"
     ]
    },
    {
     "name": "stderr",
     "output_type": "stream",
     "text": [
      "                                                     \r"
     ]
    },
    {
     "name": "stdout",
     "output_type": "stream",
     "text": [
      "MoviePy - Done.\n",
      "MoviePy - Writing audio in C:\\Users\\Welcome\\Dhairya-Python\\sarcasm detection\\audio_utter\\1_3293.mp3\n"
     ]
    },
    {
     "name": "stderr",
     "output_type": "stream",
     "text": [
      "                                                     \r"
     ]
    },
    {
     "name": "stdout",
     "output_type": "stream",
     "text": [
      "MoviePy - Done.\n",
      "MoviePy - Writing audio in C:\\Users\\Welcome\\Dhairya-Python\\sarcasm detection\\audio_utter\\1_3333.mp3\n"
     ]
    },
    {
     "name": "stderr",
     "output_type": "stream",
     "text": [
      "                                                     \r"
     ]
    },
    {
     "name": "stdout",
     "output_type": "stream",
     "text": [
      "MoviePy - Done.\n",
      "MoviePy - Writing audio in C:\\Users\\Welcome\\Dhairya-Python\\sarcasm detection\\audio_utter\\1_3348.mp3\n"
     ]
    },
    {
     "name": "stderr",
     "output_type": "stream",
     "text": [
      "                                                     \r"
     ]
    },
    {
     "name": "stdout",
     "output_type": "stream",
     "text": [
      "MoviePy - Done.\n",
      "MoviePy - Writing audio in C:\\Users\\Welcome\\Dhairya-Python\\sarcasm detection\\audio_utter\\1_3371.mp3\n"
     ]
    },
    {
     "name": "stderr",
     "output_type": "stream",
     "text": [
      "                                                     \r"
     ]
    },
    {
     "name": "stdout",
     "output_type": "stream",
     "text": [
      "MoviePy - Done.\n",
      "MoviePy - Writing audio in C:\\Users\\Welcome\\Dhairya-Python\\sarcasm detection\\audio_utter\\1_340.mp3\n"
     ]
    },
    {
     "name": "stderr",
     "output_type": "stream",
     "text": [
      "                                                     \r"
     ]
    },
    {
     "name": "stdout",
     "output_type": "stream",
     "text": [
      "MoviePy - Done.\n",
      "MoviePy - Writing audio in C:\\Users\\Welcome\\Dhairya-Python\\sarcasm detection\\audio_utter\\1_3419.mp3\n"
     ]
    },
    {
     "name": "stderr",
     "output_type": "stream",
     "text": [
      "                                                     \r"
     ]
    },
    {
     "name": "stdout",
     "output_type": "stream",
     "text": [
      "MoviePy - Done.\n",
      "MoviePy - Writing audio in C:\\Users\\Welcome\\Dhairya-Python\\sarcasm detection\\audio_utter\\1_3476.mp3\n"
     ]
    },
    {
     "name": "stderr",
     "output_type": "stream",
     "text": [
      "                                                     \r"
     ]
    },
    {
     "name": "stdout",
     "output_type": "stream",
     "text": [
      "MoviePy - Done.\n",
      "MoviePy - Writing audio in C:\\Users\\Welcome\\Dhairya-Python\\sarcasm detection\\audio_utter\\1_3545.mp3\n"
     ]
    },
    {
     "name": "stderr",
     "output_type": "stream",
     "text": [
      "                                                     \r"
     ]
    },
    {
     "name": "stdout",
     "output_type": "stream",
     "text": [
      "MoviePy - Done.\n",
      "MoviePy - Writing audio in C:\\Users\\Welcome\\Dhairya-Python\\sarcasm detection\\audio_utter\\1_3573.mp3\n"
     ]
    },
    {
     "name": "stderr",
     "output_type": "stream",
     "text": [
      "                                                     \r"
     ]
    },
    {
     "name": "stdout",
     "output_type": "stream",
     "text": [
      "MoviePy - Done.\n",
      "MoviePy - Writing audio in C:\\Users\\Welcome\\Dhairya-Python\\sarcasm detection\\audio_utter\\1_3599.mp3\n"
     ]
    },
    {
     "name": "stderr",
     "output_type": "stream",
     "text": [
      "                                                     \r"
     ]
    },
    {
     "name": "stdout",
     "output_type": "stream",
     "text": [
      "MoviePy - Done.\n",
      "MoviePy - Writing audio in C:\\Users\\Welcome\\Dhairya-Python\\sarcasm detection\\audio_utter\\1_3649.mp3\n"
     ]
    },
    {
     "name": "stderr",
     "output_type": "stream",
     "text": [
      "                                                     \r"
     ]
    },
    {
     "name": "stdout",
     "output_type": "stream",
     "text": [
      "MoviePy - Done.\n",
      "MoviePy - Writing audio in C:\\Users\\Welcome\\Dhairya-Python\\sarcasm detection\\audio_utter\\1_3660.mp3\n"
     ]
    },
    {
     "name": "stderr",
     "output_type": "stream",
     "text": [
      "                                                     \r"
     ]
    },
    {
     "name": "stdout",
     "output_type": "stream",
     "text": [
      "MoviePy - Done.\n",
      "MoviePy - Writing audio in C:\\Users\\Welcome\\Dhairya-Python\\sarcasm detection\\audio_utter\\1_3707.mp3\n"
     ]
    },
    {
     "name": "stderr",
     "output_type": "stream",
     "text": [
      "                                                     \r"
     ]
    },
    {
     "name": "stdout",
     "output_type": "stream",
     "text": [
      "MoviePy - Done.\n",
      "MoviePy - Writing audio in C:\\Users\\Welcome\\Dhairya-Python\\sarcasm detection\\audio_utter\\1_3766.mp3\n"
     ]
    },
    {
     "name": "stderr",
     "output_type": "stream",
     "text": [
      "                                                     \r"
     ]
    },
    {
     "name": "stdout",
     "output_type": "stream",
     "text": [
      "MoviePy - Done.\n",
      "MoviePy - Writing audio in C:\\Users\\Welcome\\Dhairya-Python\\sarcasm detection\\audio_utter\\1_3837.mp3\n"
     ]
    },
    {
     "name": "stderr",
     "output_type": "stream",
     "text": [
      "                                                     \r"
     ]
    },
    {
     "name": "stdout",
     "output_type": "stream",
     "text": [
      "MoviePy - Done.\n",
      "MoviePy - Writing audio in C:\\Users\\Welcome\\Dhairya-Python\\sarcasm detection\\audio_utter\\1_3840.mp3\n"
     ]
    },
    {
     "name": "stderr",
     "output_type": "stream",
     "text": [
      "                                                     \r"
     ]
    },
    {
     "name": "stdout",
     "output_type": "stream",
     "text": [
      "MoviePy - Done.\n",
      "MoviePy - Writing audio in C:\\Users\\Welcome\\Dhairya-Python\\sarcasm detection\\audio_utter\\1_3842.mp3\n"
     ]
    },
    {
     "name": "stderr",
     "output_type": "stream",
     "text": [
      "                                                     \r"
     ]
    },
    {
     "name": "stdout",
     "output_type": "stream",
     "text": [
      "MoviePy - Done.\n",
      "MoviePy - Writing audio in C:\\Users\\Welcome\\Dhairya-Python\\sarcasm detection\\audio_utter\\1_3911.mp3\n"
     ]
    },
    {
     "name": "stderr",
     "output_type": "stream",
     "text": [
      "                                                     \r"
     ]
    },
    {
     "name": "stdout",
     "output_type": "stream",
     "text": [
      "MoviePy - Done.\n",
      "MoviePy - Writing audio in C:\\Users\\Welcome\\Dhairya-Python\\sarcasm detection\\audio_utter\\1_4031.mp3\n"
     ]
    },
    {
     "name": "stderr",
     "output_type": "stream",
     "text": [
      "                                                     \r"
     ]
    },
    {
     "name": "stdout",
     "output_type": "stream",
     "text": [
      "MoviePy - Done.\n",
      "MoviePy - Writing audio in C:\\Users\\Welcome\\Dhairya-Python\\sarcasm detection\\audio_utter\\1_410.mp3\n"
     ]
    },
    {
     "name": "stderr",
     "output_type": "stream",
     "text": [
      "                                                     \r"
     ]
    },
    {
     "name": "stdout",
     "output_type": "stream",
     "text": [
      "MoviePy - Done.\n",
      "MoviePy - Writing audio in C:\\Users\\Welcome\\Dhairya-Python\\sarcasm detection\\audio_utter\\1_4145.mp3\n"
     ]
    },
    {
     "name": "stderr",
     "output_type": "stream",
     "text": [
      "                                                     \r"
     ]
    },
    {
     "name": "stdout",
     "output_type": "stream",
     "text": [
      "MoviePy - Done.\n",
      "MoviePy - Writing audio in C:\\Users\\Welcome\\Dhairya-Python\\sarcasm detection\\audio_utter\\1_427.mp3\n"
     ]
    },
    {
     "name": "stderr",
     "output_type": "stream",
     "text": [
      "                                                     \r"
     ]
    },
    {
     "name": "stdout",
     "output_type": "stream",
     "text": [
      "MoviePy - Done.\n",
      "MoviePy - Writing audio in C:\\Users\\Welcome\\Dhairya-Python\\sarcasm detection\\audio_utter\\1_4281.mp3\n"
     ]
    },
    {
     "name": "stderr",
     "output_type": "stream",
     "text": [
      "                                                     \r"
     ]
    },
    {
     "name": "stdout",
     "output_type": "stream",
     "text": [
      "MoviePy - Done.\n",
      "MoviePy - Writing audio in C:\\Users\\Welcome\\Dhairya-Python\\sarcasm detection\\audio_utter\\1_4286.mp3\n"
     ]
    },
    {
     "name": "stderr",
     "output_type": "stream",
     "text": [
      "                                                     \r"
     ]
    },
    {
     "name": "stdout",
     "output_type": "stream",
     "text": [
      "MoviePy - Done.\n",
      "MoviePy - Writing audio in C:\\Users\\Welcome\\Dhairya-Python\\sarcasm detection\\audio_utter\\1_4290.mp3\n"
     ]
    },
    {
     "name": "stderr",
     "output_type": "stream",
     "text": [
      "                                                     \r"
     ]
    },
    {
     "name": "stdout",
     "output_type": "stream",
     "text": [
      "MoviePy - Done.\n",
      "MoviePy - Writing audio in C:\\Users\\Welcome\\Dhairya-Python\\sarcasm detection\\audio_utter\\1_430.mp3\n"
     ]
    },
    {
     "name": "stderr",
     "output_type": "stream",
     "text": [
      "                                                     \r"
     ]
    },
    {
     "name": "stdout",
     "output_type": "stream",
     "text": [
      "MoviePy - Done.\n",
      "MoviePy - Writing audio in C:\\Users\\Welcome\\Dhairya-Python\\sarcasm detection\\audio_utter\\1_4352.mp3\n"
     ]
    },
    {
     "name": "stderr",
     "output_type": "stream",
     "text": [
      "                                                     \r"
     ]
    },
    {
     "name": "stdout",
     "output_type": "stream",
     "text": [
      "MoviePy - Done.\n",
      "MoviePy - Writing audio in C:\\Users\\Welcome\\Dhairya-Python\\sarcasm detection\\audio_utter\\1_4477.mp3\n"
     ]
    },
    {
     "name": "stderr",
     "output_type": "stream",
     "text": [
      "                                                     \r"
     ]
    },
    {
     "name": "stdout",
     "output_type": "stream",
     "text": [
      "MoviePy - Done.\n",
      "MoviePy - Writing audio in C:\\Users\\Welcome\\Dhairya-Python\\sarcasm detection\\audio_utter\\1_4544.mp3\n"
     ]
    },
    {
     "name": "stderr",
     "output_type": "stream",
     "text": [
      "                                                     \r"
     ]
    },
    {
     "name": "stdout",
     "output_type": "stream",
     "text": [
      "MoviePy - Done.\n",
      "MoviePy - Writing audio in C:\\Users\\Welcome\\Dhairya-Python\\sarcasm detection\\audio_utter\\1_4552.mp3\n"
     ]
    },
    {
     "name": "stderr",
     "output_type": "stream",
     "text": [
      "                                                     \r"
     ]
    },
    {
     "name": "stdout",
     "output_type": "stream",
     "text": [
      "MoviePy - Done.\n",
      "MoviePy - Writing audio in C:\\Users\\Welcome\\Dhairya-Python\\sarcasm detection\\audio_utter\\1_4576.mp3\n"
     ]
    },
    {
     "name": "stderr",
     "output_type": "stream",
     "text": [
      "                                                     \r"
     ]
    },
    {
     "name": "stdout",
     "output_type": "stream",
     "text": [
      "MoviePy - Done.\n",
      "MoviePy - Writing audio in C:\\Users\\Welcome\\Dhairya-Python\\sarcasm detection\\audio_utter\\1_4603.mp3\n"
     ]
    },
    {
     "name": "stderr",
     "output_type": "stream",
     "text": [
      "                                                     \r"
     ]
    },
    {
     "name": "stdout",
     "output_type": "stream",
     "text": [
      "MoviePy - Done.\n",
      "MoviePy - Writing audio in C:\\Users\\Welcome\\Dhairya-Python\\sarcasm detection\\audio_utter\\1_4639.mp3\n"
     ]
    },
    {
     "name": "stderr",
     "output_type": "stream",
     "text": [
      "                                                     \r"
     ]
    },
    {
     "name": "stdout",
     "output_type": "stream",
     "text": [
      "MoviePy - Done.\n",
      "MoviePy - Writing audio in C:\\Users\\Welcome\\Dhairya-Python\\sarcasm detection\\audio_utter\\1_467.mp3\n"
     ]
    },
    {
     "name": "stderr",
     "output_type": "stream",
     "text": [
      "                                                     \r"
     ]
    },
    {
     "name": "stdout",
     "output_type": "stream",
     "text": [
      "MoviePy - Done.\n",
      "MoviePy - Writing audio in C:\\Users\\Welcome\\Dhairya-Python\\sarcasm detection\\audio_utter\\1_4743.mp3\n"
     ]
    },
    {
     "name": "stderr",
     "output_type": "stream",
     "text": [
      "                                                     \r"
     ]
    },
    {
     "name": "stdout",
     "output_type": "stream",
     "text": [
      "MoviePy - Done.\n",
      "MoviePy - Writing audio in C:\\Users\\Welcome\\Dhairya-Python\\sarcasm detection\\audio_utter\\1_4760.mp3\n"
     ]
    },
    {
     "name": "stderr",
     "output_type": "stream",
     "text": [
      "                                                     \r"
     ]
    },
    {
     "name": "stdout",
     "output_type": "stream",
     "text": [
      "MoviePy - Done.\n",
      "MoviePy - Writing audio in C:\\Users\\Welcome\\Dhairya-Python\\sarcasm detection\\audio_utter\\1_4789.mp3\n"
     ]
    },
    {
     "name": "stderr",
     "output_type": "stream",
     "text": [
      "                                                     \r"
     ]
    },
    {
     "name": "stdout",
     "output_type": "stream",
     "text": [
      "MoviePy - Done.\n",
      "MoviePy - Writing audio in C:\\Users\\Welcome\\Dhairya-Python\\sarcasm detection\\audio_utter\\1_4792.mp3\n"
     ]
    },
    {
     "name": "stderr",
     "output_type": "stream",
     "text": [
      "                                                     \r"
     ]
    },
    {
     "name": "stdout",
     "output_type": "stream",
     "text": [
      "MoviePy - Done.\n",
      "MoviePy - Writing audio in C:\\Users\\Welcome\\Dhairya-Python\\sarcasm detection\\audio_utter\\1_4850.mp3\n"
     ]
    },
    {
     "name": "stderr",
     "output_type": "stream",
     "text": [
      "                                                     \r"
     ]
    },
    {
     "name": "stdout",
     "output_type": "stream",
     "text": [
      "MoviePy - Done.\n",
      "MoviePy - Writing audio in C:\\Users\\Welcome\\Dhairya-Python\\sarcasm detection\\audio_utter\\1_4949.mp3\n"
     ]
    },
    {
     "name": "stderr",
     "output_type": "stream",
     "text": [
      "                                                     \r"
     ]
    },
    {
     "name": "stdout",
     "output_type": "stream",
     "text": [
      "MoviePy - Done.\n",
      "MoviePy - Writing audio in C:\\Users\\Welcome\\Dhairya-Python\\sarcasm detection\\audio_utter\\1_4967.mp3\n"
     ]
    },
    {
     "name": "stderr",
     "output_type": "stream",
     "text": [
      "                                                     \r"
     ]
    },
    {
     "name": "stdout",
     "output_type": "stream",
     "text": [
      "MoviePy - Done.\n",
      "MoviePy - Writing audio in C:\\Users\\Welcome\\Dhairya-Python\\sarcasm detection\\audio_utter\\1_4995.mp3\n"
     ]
    },
    {
     "name": "stderr",
     "output_type": "stream",
     "text": [
      "                                                     \r"
     ]
    },
    {
     "name": "stdout",
     "output_type": "stream",
     "text": [
      "MoviePy - Done.\n",
      "MoviePy - Writing audio in C:\\Users\\Welcome\\Dhairya-Python\\sarcasm detection\\audio_utter\\1_5058.mp3\n"
     ]
    },
    {
     "name": "stderr",
     "output_type": "stream",
     "text": [
      "                                                     \r"
     ]
    },
    {
     "name": "stdout",
     "output_type": "stream",
     "text": [
      "MoviePy - Done.\n",
      "MoviePy - Writing audio in C:\\Users\\Welcome\\Dhairya-Python\\sarcasm detection\\audio_utter\\1_506.mp3\n"
     ]
    },
    {
     "name": "stderr",
     "output_type": "stream",
     "text": [
      "                                                     \r"
     ]
    },
    {
     "name": "stdout",
     "output_type": "stream",
     "text": [
      "MoviePy - Done.\n",
      "MoviePy - Writing audio in C:\\Users\\Welcome\\Dhairya-Python\\sarcasm detection\\audio_utter\\1_507.mp3\n"
     ]
    },
    {
     "name": "stderr",
     "output_type": "stream",
     "text": [
      "                                                     \r"
     ]
    },
    {
     "name": "stdout",
     "output_type": "stream",
     "text": [
      "MoviePy - Done.\n",
      "MoviePy - Writing audio in C:\\Users\\Welcome\\Dhairya-Python\\sarcasm detection\\audio_utter\\1_5109.mp3\n"
     ]
    },
    {
     "name": "stderr",
     "output_type": "stream",
     "text": [
      "                                                     \r"
     ]
    },
    {
     "name": "stdout",
     "output_type": "stream",
     "text": [
      "MoviePy - Done.\n",
      "MoviePy - Writing audio in C:\\Users\\Welcome\\Dhairya-Python\\sarcasm detection\\audio_utter\\1_5134.mp3\n"
     ]
    },
    {
     "name": "stderr",
     "output_type": "stream",
     "text": [
      "                                                     \r"
     ]
    },
    {
     "name": "stdout",
     "output_type": "stream",
     "text": [
      "MoviePy - Done.\n",
      "MoviePy - Writing audio in C:\\Users\\Welcome\\Dhairya-Python\\sarcasm detection\\audio_utter\\1_5156.mp3\n"
     ]
    },
    {
     "name": "stderr",
     "output_type": "stream",
     "text": [
      "                                                     \r"
     ]
    },
    {
     "name": "stdout",
     "output_type": "stream",
     "text": [
      "MoviePy - Done.\n",
      "MoviePy - Writing audio in C:\\Users\\Welcome\\Dhairya-Python\\sarcasm detection\\audio_utter\\1_5166.mp3\n"
     ]
    },
    {
     "name": "stderr",
     "output_type": "stream",
     "text": [
      "                                                     \r"
     ]
    },
    {
     "name": "stdout",
     "output_type": "stream",
     "text": [
      "MoviePy - Done.\n",
      "MoviePy - Writing audio in C:\\Users\\Welcome\\Dhairya-Python\\sarcasm detection\\audio_utter\\1_5169.mp3\n"
     ]
    },
    {
     "name": "stderr",
     "output_type": "stream",
     "text": [
      "                                                     \r"
     ]
    },
    {
     "name": "stdout",
     "output_type": "stream",
     "text": [
      "MoviePy - Done.\n",
      "MoviePy - Writing audio in C:\\Users\\Welcome\\Dhairya-Python\\sarcasm detection\\audio_utter\\1_5211.mp3\n"
     ]
    },
    {
     "name": "stderr",
     "output_type": "stream",
     "text": [
      "                                                     \r"
     ]
    },
    {
     "name": "stdout",
     "output_type": "stream",
     "text": [
      "MoviePy - Done.\n",
      "MoviePy - Writing audio in C:\\Users\\Welcome\\Dhairya-Python\\sarcasm detection\\audio_utter\\1_5212.mp3\n"
     ]
    },
    {
     "name": "stderr",
     "output_type": "stream",
     "text": [
      "                                                     \r"
     ]
    },
    {
     "name": "stdout",
     "output_type": "stream",
     "text": [
      "MoviePy - Done.\n",
      "MoviePy - Writing audio in C:\\Users\\Welcome\\Dhairya-Python\\sarcasm detection\\audio_utter\\1_533.mp3\n"
     ]
    },
    {
     "name": "stderr",
     "output_type": "stream",
     "text": [
      "                                                     \r"
     ]
    },
    {
     "name": "stdout",
     "output_type": "stream",
     "text": [
      "MoviePy - Done.\n",
      "MoviePy - Writing audio in C:\\Users\\Welcome\\Dhairya-Python\\sarcasm detection\\audio_utter\\1_536.mp3\n"
     ]
    },
    {
     "name": "stderr",
     "output_type": "stream",
     "text": [
      "                                                     \r"
     ]
    },
    {
     "name": "stdout",
     "output_type": "stream",
     "text": [
      "MoviePy - Done.\n",
      "MoviePy - Writing audio in C:\\Users\\Welcome\\Dhairya-Python\\sarcasm detection\\audio_utter\\1_537.mp3\n"
     ]
    },
    {
     "name": "stderr",
     "output_type": "stream",
     "text": [
      "                                                     \r"
     ]
    },
    {
     "name": "stdout",
     "output_type": "stream",
     "text": [
      "MoviePy - Done.\n",
      "MoviePy - Writing audio in C:\\Users\\Welcome\\Dhairya-Python\\sarcasm detection\\audio_utter\\1_5496.mp3\n"
     ]
    },
    {
     "name": "stderr",
     "output_type": "stream",
     "text": [
      "                                                     \r"
     ]
    },
    {
     "name": "stdout",
     "output_type": "stream",
     "text": [
      "MoviePy - Done.\n",
      "MoviePy - Writing audio in C:\\Users\\Welcome\\Dhairya-Python\\sarcasm detection\\audio_utter\\1_5571.mp3\n"
     ]
    },
    {
     "name": "stderr",
     "output_type": "stream",
     "text": [
      "                                                     \r"
     ]
    },
    {
     "name": "stdout",
     "output_type": "stream",
     "text": [
      "MoviePy - Done.\n",
      "MoviePy - Writing audio in C:\\Users\\Welcome\\Dhairya-Python\\sarcasm detection\\audio_utter\\1_5572.mp3\n"
     ]
    },
    {
     "name": "stderr",
     "output_type": "stream",
     "text": [
      "                                                     \r"
     ]
    },
    {
     "name": "stdout",
     "output_type": "stream",
     "text": [
      "MoviePy - Done.\n",
      "MoviePy - Writing audio in C:\\Users\\Welcome\\Dhairya-Python\\sarcasm detection\\audio_utter\\1_5580.mp3\n"
     ]
    },
    {
     "name": "stderr",
     "output_type": "stream",
     "text": [
      "                                                     \r"
     ]
    },
    {
     "name": "stdout",
     "output_type": "stream",
     "text": [
      "MoviePy - Done.\n",
      "MoviePy - Writing audio in C:\\Users\\Welcome\\Dhairya-Python\\sarcasm detection\\audio_utter\\1_5581.mp3\n"
     ]
    },
    {
     "name": "stderr",
     "output_type": "stream",
     "text": [
      "                                                     \r"
     ]
    },
    {
     "name": "stdout",
     "output_type": "stream",
     "text": [
      "MoviePy - Done.\n",
      "MoviePy - Writing audio in C:\\Users\\Welcome\\Dhairya-Python\\sarcasm detection\\audio_utter\\1_5617.mp3\n"
     ]
    },
    {
     "name": "stderr",
     "output_type": "stream",
     "text": [
      "                                                     \r"
     ]
    },
    {
     "name": "stdout",
     "output_type": "stream",
     "text": [
      "MoviePy - Done.\n",
      "MoviePy - Writing audio in C:\\Users\\Welcome\\Dhairya-Python\\sarcasm detection\\audio_utter\\1_5627.mp3\n"
     ]
    },
    {
     "name": "stderr",
     "output_type": "stream",
     "text": [
      "                                                     \r"
     ]
    },
    {
     "name": "stdout",
     "output_type": "stream",
     "text": [
      "MoviePy - Done.\n",
      "MoviePy - Writing audio in C:\\Users\\Welcome\\Dhairya-Python\\sarcasm detection\\audio_utter\\1_5679.mp3\n"
     ]
    },
    {
     "name": "stderr",
     "output_type": "stream",
     "text": [
      "                                                     \r"
     ]
    },
    {
     "name": "stdout",
     "output_type": "stream",
     "text": [
      "MoviePy - Done.\n",
      "MoviePy - Writing audio in C:\\Users\\Welcome\\Dhairya-Python\\sarcasm detection\\audio_utter\\1_5699.mp3\n"
     ]
    },
    {
     "name": "stderr",
     "output_type": "stream",
     "text": [
      "                                                     \r"
     ]
    },
    {
     "name": "stdout",
     "output_type": "stream",
     "text": [
      "MoviePy - Done.\n",
      "MoviePy - Writing audio in C:\\Users\\Welcome\\Dhairya-Python\\sarcasm detection\\audio_utter\\1_5751.mp3\n"
     ]
    },
    {
     "name": "stderr",
     "output_type": "stream",
     "text": [
      "                                                     \r"
     ]
    },
    {
     "name": "stdout",
     "output_type": "stream",
     "text": [
      "MoviePy - Done.\n",
      "MoviePy - Writing audio in C:\\Users\\Welcome\\Dhairya-Python\\sarcasm detection\\audio_utter\\1_5758.mp3\n"
     ]
    },
    {
     "name": "stderr",
     "output_type": "stream",
     "text": [
      "                                                     \r"
     ]
    },
    {
     "name": "stdout",
     "output_type": "stream",
     "text": [
      "MoviePy - Done.\n",
      "MoviePy - Writing audio in C:\\Users\\Welcome\\Dhairya-Python\\sarcasm detection\\audio_utter\\1_5786.mp3\n"
     ]
    },
    {
     "name": "stderr",
     "output_type": "stream",
     "text": [
      "                                                     \r"
     ]
    },
    {
     "name": "stdout",
     "output_type": "stream",
     "text": [
      "MoviePy - Done.\n",
      "MoviePy - Writing audio in C:\\Users\\Welcome\\Dhairya-Python\\sarcasm detection\\audio_utter\\1_5880.mp3\n"
     ]
    },
    {
     "name": "stderr",
     "output_type": "stream",
     "text": [
      "                                                     \r"
     ]
    },
    {
     "name": "stdout",
     "output_type": "stream",
     "text": [
      "MoviePy - Done.\n",
      "MoviePy - Writing audio in C:\\Users\\Welcome\\Dhairya-Python\\sarcasm detection\\audio_utter\\1_5919.mp3\n"
     ]
    },
    {
     "name": "stderr",
     "output_type": "stream",
     "text": [
      "                                                     \r"
     ]
    },
    {
     "name": "stdout",
     "output_type": "stream",
     "text": [
      "MoviePy - Done.\n",
      "MoviePy - Writing audio in C:\\Users\\Welcome\\Dhairya-Python\\sarcasm detection\\audio_utter\\1_5953.mp3\n"
     ]
    },
    {
     "name": "stderr",
     "output_type": "stream",
     "text": [
      "                                                     \r"
     ]
    },
    {
     "name": "stdout",
     "output_type": "stream",
     "text": [
      "MoviePy - Done.\n",
      "MoviePy - Writing audio in C:\\Users\\Welcome\\Dhairya-Python\\sarcasm detection\\audio_utter\\1_5964.mp3\n"
     ]
    },
    {
     "name": "stderr",
     "output_type": "stream",
     "text": [
      "                                                     \r"
     ]
    },
    {
     "name": "stdout",
     "output_type": "stream",
     "text": [
      "MoviePy - Done.\n",
      "MoviePy - Writing audio in C:\\Users\\Welcome\\Dhairya-Python\\sarcasm detection\\audio_utter\\1_60.mp3\n"
     ]
    },
    {
     "name": "stderr",
     "output_type": "stream",
     "text": [
      "                                                     \r"
     ]
    },
    {
     "name": "stdout",
     "output_type": "stream",
     "text": [
      "MoviePy - Done.\n",
      "MoviePy - Writing audio in C:\\Users\\Welcome\\Dhairya-Python\\sarcasm detection\\audio_utter\\1_6020.mp3\n"
     ]
    },
    {
     "name": "stderr",
     "output_type": "stream",
     "text": [
      "                                                     \r"
     ]
    },
    {
     "name": "stdout",
     "output_type": "stream",
     "text": [
      "MoviePy - Done.\n",
      "MoviePy - Writing audio in C:\\Users\\Welcome\\Dhairya-Python\\sarcasm detection\\audio_utter\\1_6032.mp3\n"
     ]
    },
    {
     "name": "stderr",
     "output_type": "stream",
     "text": [
      "                                                     \r"
     ]
    },
    {
     "name": "stdout",
     "output_type": "stream",
     "text": [
      "MoviePy - Done.\n",
      "MoviePy - Writing audio in C:\\Users\\Welcome\\Dhairya-Python\\sarcasm detection\\audio_utter\\1_6039.mp3\n"
     ]
    },
    {
     "name": "stderr",
     "output_type": "stream",
     "text": [
      "                                                     \r"
     ]
    },
    {
     "name": "stdout",
     "output_type": "stream",
     "text": [
      "MoviePy - Done.\n",
      "MoviePy - Writing audio in C:\\Users\\Welcome\\Dhairya-Python\\sarcasm detection\\audio_utter\\1_6065.mp3\n"
     ]
    },
    {
     "name": "stderr",
     "output_type": "stream",
     "text": [
      "                                                     \r"
     ]
    },
    {
     "name": "stdout",
     "output_type": "stream",
     "text": [
      "MoviePy - Done.\n",
      "MoviePy - Writing audio in C:\\Users\\Welcome\\Dhairya-Python\\sarcasm detection\\audio_utter\\1_6092.mp3\n"
     ]
    },
    {
     "name": "stderr",
     "output_type": "stream",
     "text": [
      "                                                     \r"
     ]
    },
    {
     "name": "stdout",
     "output_type": "stream",
     "text": [
      "MoviePy - Done.\n",
      "MoviePy - Writing audio in C:\\Users\\Welcome\\Dhairya-Python\\sarcasm detection\\audio_utter\\1_6113.mp3\n"
     ]
    },
    {
     "name": "stderr",
     "output_type": "stream",
     "text": [
      "                                                     \r"
     ]
    },
    {
     "name": "stdout",
     "output_type": "stream",
     "text": [
      "MoviePy - Done.\n",
      "MoviePy - Writing audio in C:\\Users\\Welcome\\Dhairya-Python\\sarcasm detection\\audio_utter\\1_6134.mp3\n"
     ]
    },
    {
     "name": "stderr",
     "output_type": "stream",
     "text": [
      "                                                     \r"
     ]
    },
    {
     "name": "stdout",
     "output_type": "stream",
     "text": [
      "MoviePy - Done.\n",
      "MoviePy - Writing audio in C:\\Users\\Welcome\\Dhairya-Python\\sarcasm detection\\audio_utter\\1_6165.mp3\n"
     ]
    },
    {
     "name": "stderr",
     "output_type": "stream",
     "text": [
      "                                                     \r"
     ]
    },
    {
     "name": "stdout",
     "output_type": "stream",
     "text": [
      "MoviePy - Done.\n",
      "MoviePy - Writing audio in C:\\Users\\Welcome\\Dhairya-Python\\sarcasm detection\\audio_utter\\1_6183.mp3\n"
     ]
    },
    {
     "name": "stderr",
     "output_type": "stream",
     "text": [
      "                                                     \r"
     ]
    },
    {
     "name": "stdout",
     "output_type": "stream",
     "text": [
      "MoviePy - Done.\n",
      "MoviePy - Writing audio in C:\\Users\\Welcome\\Dhairya-Python\\sarcasm detection\\audio_utter\\1_6188.mp3\n"
     ]
    },
    {
     "name": "stderr",
     "output_type": "stream",
     "text": [
      "                                                     \r"
     ]
    },
    {
     "name": "stdout",
     "output_type": "stream",
     "text": [
      "MoviePy - Done.\n",
      "MoviePy - Writing audio in C:\\Users\\Welcome\\Dhairya-Python\\sarcasm detection\\audio_utter\\1_6211.mp3\n"
     ]
    },
    {
     "name": "stderr",
     "output_type": "stream",
     "text": [
      "                                                     \r"
     ]
    },
    {
     "name": "stdout",
     "output_type": "stream",
     "text": [
      "MoviePy - Done.\n",
      "MoviePy - Writing audio in C:\\Users\\Welcome\\Dhairya-Python\\sarcasm detection\\audio_utter\\1_6221.mp3\n"
     ]
    },
    {
     "name": "stderr",
     "output_type": "stream",
     "text": [
      "                                                     \r"
     ]
    },
    {
     "name": "stdout",
     "output_type": "stream",
     "text": [
      "MoviePy - Done.\n",
      "MoviePy - Writing audio in C:\\Users\\Welcome\\Dhairya-Python\\sarcasm detection\\audio_utter\\1_6355.mp3\n"
     ]
    },
    {
     "name": "stderr",
     "output_type": "stream",
     "text": [
      "                                                     \r"
     ]
    },
    {
     "name": "stdout",
     "output_type": "stream",
     "text": [
      "MoviePy - Done.\n",
      "MoviePy - Writing audio in C:\\Users\\Welcome\\Dhairya-Python\\sarcasm detection\\audio_utter\\1_6370.mp3\n"
     ]
    },
    {
     "name": "stderr",
     "output_type": "stream",
     "text": [
      "                                                     \r"
     ]
    },
    {
     "name": "stdout",
     "output_type": "stream",
     "text": [
      "MoviePy - Done.\n",
      "MoviePy - Writing audio in C:\\Users\\Welcome\\Dhairya-Python\\sarcasm detection\\audio_utter\\1_6426.mp3\n"
     ]
    },
    {
     "name": "stderr",
     "output_type": "stream",
     "text": [
      "                                                     \r"
     ]
    },
    {
     "name": "stdout",
     "output_type": "stream",
     "text": [
      "MoviePy - Done.\n",
      "MoviePy - Writing audio in C:\\Users\\Welcome\\Dhairya-Python\\sarcasm detection\\audio_utter\\1_6427.mp3\n"
     ]
    },
    {
     "name": "stderr",
     "output_type": "stream",
     "text": [
      "                                                     \r"
     ]
    },
    {
     "name": "stdout",
     "output_type": "stream",
     "text": [
      "MoviePy - Done.\n",
      "MoviePy - Writing audio in C:\\Users\\Welcome\\Dhairya-Python\\sarcasm detection\\audio_utter\\1_6428.mp3\n"
     ]
    },
    {
     "name": "stderr",
     "output_type": "stream",
     "text": [
      "                                                     \r"
     ]
    },
    {
     "name": "stdout",
     "output_type": "stream",
     "text": [
      "MoviePy - Done.\n",
      "MoviePy - Writing audio in C:\\Users\\Welcome\\Dhairya-Python\\sarcasm detection\\audio_utter\\1_6472.mp3\n"
     ]
    },
    {
     "name": "stderr",
     "output_type": "stream",
     "text": [
      "                                                     \r"
     ]
    },
    {
     "name": "stdout",
     "output_type": "stream",
     "text": [
      "MoviePy - Done.\n",
      "MoviePy - Writing audio in C:\\Users\\Welcome\\Dhairya-Python\\sarcasm detection\\audio_utter\\1_6504.mp3\n"
     ]
    },
    {
     "name": "stderr",
     "output_type": "stream",
     "text": [
      "                                                     \r"
     ]
    },
    {
     "name": "stdout",
     "output_type": "stream",
     "text": [
      "MoviePy - Done.\n",
      "MoviePy - Writing audio in C:\\Users\\Welcome\\Dhairya-Python\\sarcasm detection\\audio_utter\\1_6534.mp3\n"
     ]
    },
    {
     "name": "stderr",
     "output_type": "stream",
     "text": [
      "                                                     \r"
     ]
    },
    {
     "name": "stdout",
     "output_type": "stream",
     "text": [
      "MoviePy - Done.\n",
      "MoviePy - Writing audio in C:\\Users\\Welcome\\Dhairya-Python\\sarcasm detection\\audio_utter\\1_6627.mp3\n"
     ]
    },
    {
     "name": "stderr",
     "output_type": "stream",
     "text": [
      "                                                     \r"
     ]
    },
    {
     "name": "stdout",
     "output_type": "stream",
     "text": [
      "MoviePy - Done.\n",
      "MoviePy - Writing audio in C:\\Users\\Welcome\\Dhairya-Python\\sarcasm detection\\audio_utter\\1_6645.mp3\n"
     ]
    },
    {
     "name": "stderr",
     "output_type": "stream",
     "text": [
      "                                                     \r"
     ]
    },
    {
     "name": "stdout",
     "output_type": "stream",
     "text": [
      "MoviePy - Done.\n",
      "MoviePy - Writing audio in C:\\Users\\Welcome\\Dhairya-Python\\sarcasm detection\\audio_utter\\1_6648.mp3\n"
     ]
    },
    {
     "name": "stderr",
     "output_type": "stream",
     "text": [
      "                                                     \r"
     ]
    },
    {
     "name": "stdout",
     "output_type": "stream",
     "text": [
      "MoviePy - Done.\n",
      "MoviePy - Writing audio in C:\\Users\\Welcome\\Dhairya-Python\\sarcasm detection\\audio_utter\\1_6683.mp3\n"
     ]
    },
    {
     "name": "stderr",
     "output_type": "stream",
     "text": [
      "                                                     \r"
     ]
    },
    {
     "name": "stdout",
     "output_type": "stream",
     "text": [
      "MoviePy - Done.\n",
      "MoviePy - Writing audio in C:\\Users\\Welcome\\Dhairya-Python\\sarcasm detection\\audio_utter\\1_672.mp3\n"
     ]
    },
    {
     "name": "stderr",
     "output_type": "stream",
     "text": [
      "                                                     \r"
     ]
    },
    {
     "name": "stdout",
     "output_type": "stream",
     "text": [
      "MoviePy - Done.\n",
      "MoviePy - Writing audio in C:\\Users\\Welcome\\Dhairya-Python\\sarcasm detection\\audio_utter\\1_6766.mp3\n"
     ]
    },
    {
     "name": "stderr",
     "output_type": "stream",
     "text": [
      "                                                     \r"
     ]
    },
    {
     "name": "stdout",
     "output_type": "stream",
     "text": [
      "MoviePy - Done.\n",
      "MoviePy - Writing audio in C:\\Users\\Welcome\\Dhairya-Python\\sarcasm detection\\audio_utter\\1_6769.mp3\n"
     ]
    },
    {
     "name": "stderr",
     "output_type": "stream",
     "text": [
      "                                                     \r"
     ]
    },
    {
     "name": "stdout",
     "output_type": "stream",
     "text": [
      "MoviePy - Done.\n",
      "MoviePy - Writing audio in C:\\Users\\Welcome\\Dhairya-Python\\sarcasm detection\\audio_utter\\1_6835.mp3\n"
     ]
    },
    {
     "name": "stderr",
     "output_type": "stream",
     "text": [
      "                                                     \r"
     ]
    },
    {
     "name": "stdout",
     "output_type": "stream",
     "text": [
      "MoviePy - Done.\n",
      "MoviePy - Writing audio in C:\\Users\\Welcome\\Dhairya-Python\\sarcasm detection\\audio_utter\\1_6860.mp3\n"
     ]
    },
    {
     "name": "stderr",
     "output_type": "stream",
     "text": [
      "                                                     \r"
     ]
    },
    {
     "name": "stdout",
     "output_type": "stream",
     "text": [
      "MoviePy - Done.\n",
      "MoviePy - Writing audio in C:\\Users\\Welcome\\Dhairya-Python\\sarcasm detection\\audio_utter\\1_70.mp3\n"
     ]
    },
    {
     "name": "stderr",
     "output_type": "stream",
     "text": [
      "                                                     \r"
     ]
    },
    {
     "name": "stdout",
     "output_type": "stream",
     "text": [
      "MoviePy - Done.\n",
      "MoviePy - Writing audio in C:\\Users\\Welcome\\Dhairya-Python\\sarcasm detection\\audio_utter\\1_7047.mp3\n"
     ]
    },
    {
     "name": "stderr",
     "output_type": "stream",
     "text": [
      "                                                     \r"
     ]
    },
    {
     "name": "stdout",
     "output_type": "stream",
     "text": [
      "MoviePy - Done.\n",
      "MoviePy - Writing audio in C:\\Users\\Welcome\\Dhairya-Python\\sarcasm detection\\audio_utter\\1_7082.mp3\n"
     ]
    },
    {
     "name": "stderr",
     "output_type": "stream",
     "text": [
      "                                                     \r"
     ]
    },
    {
     "name": "stdout",
     "output_type": "stream",
     "text": [
      "MoviePy - Done.\n",
      "MoviePy - Writing audio in C:\\Users\\Welcome\\Dhairya-Python\\sarcasm detection\\audio_utter\\1_7089.mp3\n"
     ]
    },
    {
     "name": "stderr",
     "output_type": "stream",
     "text": [
      "                                                     \r"
     ]
    },
    {
     "name": "stdout",
     "output_type": "stream",
     "text": [
      "MoviePy - Done.\n",
      "MoviePy - Writing audio in C:\\Users\\Welcome\\Dhairya-Python\\sarcasm detection\\audio_utter\\1_7186.mp3\n"
     ]
    },
    {
     "name": "stderr",
     "output_type": "stream",
     "text": [
      "                                                     \r"
     ]
    },
    {
     "name": "stdout",
     "output_type": "stream",
     "text": [
      "MoviePy - Done.\n",
      "MoviePy - Writing audio in C:\\Users\\Welcome\\Dhairya-Python\\sarcasm detection\\audio_utter\\1_7281.mp3\n"
     ]
    },
    {
     "name": "stderr",
     "output_type": "stream",
     "text": [
      "                                                     \r"
     ]
    },
    {
     "name": "stdout",
     "output_type": "stream",
     "text": [
      "MoviePy - Done.\n",
      "MoviePy - Writing audio in C:\\Users\\Welcome\\Dhairya-Python\\sarcasm detection\\audio_utter\\1_7341.mp3\n"
     ]
    },
    {
     "name": "stderr",
     "output_type": "stream",
     "text": [
      "                                                     \r"
     ]
    },
    {
     "name": "stdout",
     "output_type": "stream",
     "text": [
      "MoviePy - Done.\n",
      "MoviePy - Writing audio in C:\\Users\\Welcome\\Dhairya-Python\\sarcasm detection\\audio_utter\\1_7357.mp3\n"
     ]
    },
    {
     "name": "stderr",
     "output_type": "stream",
     "text": [
      "                                                     \r"
     ]
    },
    {
     "name": "stdout",
     "output_type": "stream",
     "text": [
      "MoviePy - Done.\n",
      "MoviePy - Writing audio in C:\\Users\\Welcome\\Dhairya-Python\\sarcasm detection\\audio_utter\\1_7395.mp3\n"
     ]
    },
    {
     "name": "stderr",
     "output_type": "stream",
     "text": [
      "                                                     \r"
     ]
    },
    {
     "name": "stdout",
     "output_type": "stream",
     "text": [
      "MoviePy - Done.\n",
      "MoviePy - Writing audio in C:\\Users\\Welcome\\Dhairya-Python\\sarcasm detection\\audio_utter\\1_7400.mp3\n"
     ]
    },
    {
     "name": "stderr",
     "output_type": "stream",
     "text": [
      "                                                     \r"
     ]
    },
    {
     "name": "stdout",
     "output_type": "stream",
     "text": [
      "MoviePy - Done.\n",
      "MoviePy - Writing audio in C:\\Users\\Welcome\\Dhairya-Python\\sarcasm detection\\audio_utter\\1_7402.mp3\n"
     ]
    },
    {
     "name": "stderr",
     "output_type": "stream",
     "text": [
      "                                                     \r"
     ]
    },
    {
     "name": "stdout",
     "output_type": "stream",
     "text": [
      "MoviePy - Done.\n",
      "MoviePy - Writing audio in C:\\Users\\Welcome\\Dhairya-Python\\sarcasm detection\\audio_utter\\1_7442.mp3\n"
     ]
    },
    {
     "name": "stderr",
     "output_type": "stream",
     "text": [
      "                                                     \r"
     ]
    },
    {
     "name": "stdout",
     "output_type": "stream",
     "text": [
      "MoviePy - Done.\n",
      "MoviePy - Writing audio in C:\\Users\\Welcome\\Dhairya-Python\\sarcasm detection\\audio_utter\\1_7443.mp3\n"
     ]
    },
    {
     "name": "stderr",
     "output_type": "stream",
     "text": [
      "                                                     \r"
     ]
    },
    {
     "name": "stdout",
     "output_type": "stream",
     "text": [
      "MoviePy - Done.\n",
      "MoviePy - Writing audio in C:\\Users\\Welcome\\Dhairya-Python\\sarcasm detection\\audio_utter\\1_7445.mp3\n"
     ]
    },
    {
     "name": "stderr",
     "output_type": "stream",
     "text": [
      "                                                     \r"
     ]
    },
    {
     "name": "stdout",
     "output_type": "stream",
     "text": [
      "MoviePy - Done.\n",
      "MoviePy - Writing audio in C:\\Users\\Welcome\\Dhairya-Python\\sarcasm detection\\audio_utter\\1_7449.mp3\n"
     ]
    },
    {
     "name": "stderr",
     "output_type": "stream",
     "text": [
      "                                                     \r"
     ]
    },
    {
     "name": "stdout",
     "output_type": "stream",
     "text": [
      "MoviePy - Done.\n",
      "MoviePy - Writing audio in C:\\Users\\Welcome\\Dhairya-Python\\sarcasm detection\\audio_utter\\1_7487.mp3\n"
     ]
    },
    {
     "name": "stderr",
     "output_type": "stream",
     "text": [
      "                                                     \r"
     ]
    },
    {
     "name": "stdout",
     "output_type": "stream",
     "text": [
      "MoviePy - Done.\n",
      "MoviePy - Writing audio in C:\\Users\\Welcome\\Dhairya-Python\\sarcasm detection\\audio_utter\\1_7490.mp3\n"
     ]
    },
    {
     "name": "stderr",
     "output_type": "stream",
     "text": [
      "                                                     \r"
     ]
    },
    {
     "name": "stdout",
     "output_type": "stream",
     "text": [
      "MoviePy - Done.\n",
      "MoviePy - Writing audio in C:\\Users\\Welcome\\Dhairya-Python\\sarcasm detection\\audio_utter\\1_7494.mp3\n"
     ]
    },
    {
     "name": "stderr",
     "output_type": "stream",
     "text": [
      "                                                     \r"
     ]
    },
    {
     "name": "stdout",
     "output_type": "stream",
     "text": [
      "MoviePy - Done.\n",
      "MoviePy - Writing audio in C:\\Users\\Welcome\\Dhairya-Python\\sarcasm detection\\audio_utter\\1_7504.mp3\n"
     ]
    },
    {
     "name": "stderr",
     "output_type": "stream",
     "text": [
      "                                                     \r"
     ]
    },
    {
     "name": "stdout",
     "output_type": "stream",
     "text": [
      "MoviePy - Done.\n",
      "MoviePy - Writing audio in C:\\Users\\Welcome\\Dhairya-Python\\sarcasm detection\\audio_utter\\1_7575.mp3\n"
     ]
    },
    {
     "name": "stderr",
     "output_type": "stream",
     "text": [
      "                                                     \r"
     ]
    },
    {
     "name": "stdout",
     "output_type": "stream",
     "text": [
      "MoviePy - Done.\n",
      "MoviePy - Writing audio in C:\\Users\\Welcome\\Dhairya-Python\\sarcasm detection\\audio_utter\\1_7593.mp3\n"
     ]
    },
    {
     "name": "stderr",
     "output_type": "stream",
     "text": [
      "                                                     \r"
     ]
    },
    {
     "name": "stdout",
     "output_type": "stream",
     "text": [
      "MoviePy - Done.\n",
      "MoviePy - Writing audio in C:\\Users\\Welcome\\Dhairya-Python\\sarcasm detection\\audio_utter\\1_7641.mp3\n"
     ]
    },
    {
     "name": "stderr",
     "output_type": "stream",
     "text": [
      "                                                     \r"
     ]
    },
    {
     "name": "stdout",
     "output_type": "stream",
     "text": [
      "MoviePy - Done.\n",
      "MoviePy - Writing audio in C:\\Users\\Welcome\\Dhairya-Python\\sarcasm detection\\audio_utter\\1_7661.mp3\n"
     ]
    },
    {
     "name": "stderr",
     "output_type": "stream",
     "text": [
      "                                                     \r"
     ]
    },
    {
     "name": "stdout",
     "output_type": "stream",
     "text": [
      "MoviePy - Done.\n",
      "MoviePy - Writing audio in C:\\Users\\Welcome\\Dhairya-Python\\sarcasm detection\\audio_utter\\1_7675.mp3\n"
     ]
    },
    {
     "name": "stderr",
     "output_type": "stream",
     "text": [
      "                                                     \r"
     ]
    },
    {
     "name": "stdout",
     "output_type": "stream",
     "text": [
      "MoviePy - Done.\n",
      "MoviePy - Writing audio in C:\\Users\\Welcome\\Dhairya-Python\\sarcasm detection\\audio_utter\\1_7722.mp3\n"
     ]
    },
    {
     "name": "stderr",
     "output_type": "stream",
     "text": [
      "                                                     \r"
     ]
    },
    {
     "name": "stdout",
     "output_type": "stream",
     "text": [
      "MoviePy - Done.\n",
      "MoviePy - Writing audio in C:\\Users\\Welcome\\Dhairya-Python\\sarcasm detection\\audio_utter\\1_7894.mp3\n"
     ]
    },
    {
     "name": "stderr",
     "output_type": "stream",
     "text": [
      "                                                     \r"
     ]
    },
    {
     "name": "stdout",
     "output_type": "stream",
     "text": [
      "MoviePy - Done.\n",
      "MoviePy - Writing audio in C:\\Users\\Welcome\\Dhairya-Python\\sarcasm detection\\audio_utter\\1_7938.mp3\n"
     ]
    },
    {
     "name": "stderr",
     "output_type": "stream",
     "text": [
      "                                                     \r"
     ]
    },
    {
     "name": "stdout",
     "output_type": "stream",
     "text": [
      "MoviePy - Done.\n",
      "MoviePy - Writing audio in C:\\Users\\Welcome\\Dhairya-Python\\sarcasm detection\\audio_utter\\1_7953.mp3\n"
     ]
    },
    {
     "name": "stderr",
     "output_type": "stream",
     "text": [
      "                                                     \r"
     ]
    },
    {
     "name": "stdout",
     "output_type": "stream",
     "text": [
      "MoviePy - Done.\n",
      "MoviePy - Writing audio in C:\\Users\\Welcome\\Dhairya-Python\\sarcasm detection\\audio_utter\\1_80.mp3\n"
     ]
    },
    {
     "name": "stderr",
     "output_type": "stream",
     "text": [
      "                                                     \r"
     ]
    },
    {
     "name": "stdout",
     "output_type": "stream",
     "text": [
      "MoviePy - Done.\n",
      "MoviePy - Writing audio in C:\\Users\\Welcome\\Dhairya-Python\\sarcasm detection\\audio_utter\\1_8042.mp3\n"
     ]
    },
    {
     "name": "stderr",
     "output_type": "stream",
     "text": [
      "                                                     \r"
     ]
    },
    {
     "name": "stdout",
     "output_type": "stream",
     "text": [
      "MoviePy - Done.\n",
      "MoviePy - Writing audio in C:\\Users\\Welcome\\Dhairya-Python\\sarcasm detection\\audio_utter\\1_8045.mp3\n"
     ]
    },
    {
     "name": "stderr",
     "output_type": "stream",
     "text": [
      "                                                     \r"
     ]
    },
    {
     "name": "stdout",
     "output_type": "stream",
     "text": [
      "MoviePy - Done.\n",
      "MoviePy - Writing audio in C:\\Users\\Welcome\\Dhairya-Python\\sarcasm detection\\audio_utter\\1_8052.mp3\n"
     ]
    },
    {
     "name": "stderr",
     "output_type": "stream",
     "text": [
      "                                                     \r"
     ]
    },
    {
     "name": "stdout",
     "output_type": "stream",
     "text": [
      "MoviePy - Done.\n",
      "MoviePy - Writing audio in C:\\Users\\Welcome\\Dhairya-Python\\sarcasm detection\\audio_utter\\1_8078.mp3\n"
     ]
    },
    {
     "name": "stderr",
     "output_type": "stream",
     "text": [
      "                                                     \r"
     ]
    },
    {
     "name": "stdout",
     "output_type": "stream",
     "text": [
      "MoviePy - Done.\n",
      "MoviePy - Writing audio in C:\\Users\\Welcome\\Dhairya-Python\\sarcasm detection\\audio_utter\\1_8136.mp3\n"
     ]
    },
    {
     "name": "stderr",
     "output_type": "stream",
     "text": [
      "                                                     \r"
     ]
    },
    {
     "name": "stdout",
     "output_type": "stream",
     "text": [
      "MoviePy - Done.\n",
      "MoviePy - Writing audio in C:\\Users\\Welcome\\Dhairya-Python\\sarcasm detection\\audio_utter\\1_8159.mp3\n"
     ]
    },
    {
     "name": "stderr",
     "output_type": "stream",
     "text": [
      "                                                     \r"
     ]
    },
    {
     "name": "stdout",
     "output_type": "stream",
     "text": [
      "MoviePy - Done.\n",
      "MoviePy - Writing audio in C:\\Users\\Welcome\\Dhairya-Python\\sarcasm detection\\audio_utter\\1_8185.mp3\n"
     ]
    },
    {
     "name": "stderr",
     "output_type": "stream",
     "text": [
      "                                                     \r"
     ]
    },
    {
     "name": "stdout",
     "output_type": "stream",
     "text": [
      "MoviePy - Done.\n",
      "MoviePy - Writing audio in C:\\Users\\Welcome\\Dhairya-Python\\sarcasm detection\\audio_utter\\1_8217.mp3\n"
     ]
    },
    {
     "name": "stderr",
     "output_type": "stream",
     "text": [
      "                                                     \r"
     ]
    },
    {
     "name": "stdout",
     "output_type": "stream",
     "text": [
      "MoviePy - Done.\n",
      "MoviePy - Writing audio in C:\\Users\\Welcome\\Dhairya-Python\\sarcasm detection\\audio_utter\\1_8407.mp3\n"
     ]
    },
    {
     "name": "stderr",
     "output_type": "stream",
     "text": [
      "                                                     \r"
     ]
    },
    {
     "name": "stdout",
     "output_type": "stream",
     "text": [
      "MoviePy - Done.\n",
      "MoviePy - Writing audio in C:\\Users\\Welcome\\Dhairya-Python\\sarcasm detection\\audio_utter\\1_8417.mp3\n"
     ]
    },
    {
     "name": "stderr",
     "output_type": "stream",
     "text": [
      "                                                     \r"
     ]
    },
    {
     "name": "stdout",
     "output_type": "stream",
     "text": [
      "MoviePy - Done.\n",
      "MoviePy - Writing audio in C:\\Users\\Welcome\\Dhairya-Python\\sarcasm detection\\audio_utter\\1_8452.mp3\n"
     ]
    },
    {
     "name": "stderr",
     "output_type": "stream",
     "text": [
      "                                                     \r"
     ]
    },
    {
     "name": "stdout",
     "output_type": "stream",
     "text": [
      "MoviePy - Done.\n",
      "MoviePy - Writing audio in C:\\Users\\Welcome\\Dhairya-Python\\sarcasm detection\\audio_utter\\1_8505.mp3\n"
     ]
    },
    {
     "name": "stderr",
     "output_type": "stream",
     "text": [
      "                                                     \r"
     ]
    },
    {
     "name": "stdout",
     "output_type": "stream",
     "text": [
      "MoviePy - Done.\n",
      "MoviePy - Writing audio in C:\\Users\\Welcome\\Dhairya-Python\\sarcasm detection\\audio_utter\\1_8717.mp3\n"
     ]
    },
    {
     "name": "stderr",
     "output_type": "stream",
     "text": [
      "                                                     \r"
     ]
    },
    {
     "name": "stdout",
     "output_type": "stream",
     "text": [
      "MoviePy - Done.\n",
      "MoviePy - Writing audio in C:\\Users\\Welcome\\Dhairya-Python\\sarcasm detection\\audio_utter\\1_8746.mp3\n"
     ]
    },
    {
     "name": "stderr",
     "output_type": "stream",
     "text": [
      "                                                     \r"
     ]
    },
    {
     "name": "stdout",
     "output_type": "stream",
     "text": [
      "MoviePy - Done.\n",
      "MoviePy - Writing audio in C:\\Users\\Welcome\\Dhairya-Python\\sarcasm detection\\audio_utter\\1_8749.mp3\n"
     ]
    },
    {
     "name": "stderr",
     "output_type": "stream",
     "text": [
      "                                                     \r"
     ]
    },
    {
     "name": "stdout",
     "output_type": "stream",
     "text": [
      "MoviePy - Done.\n",
      "MoviePy - Writing audio in C:\\Users\\Welcome\\Dhairya-Python\\sarcasm detection\\audio_utter\\1_8827.mp3\n"
     ]
    },
    {
     "name": "stderr",
     "output_type": "stream",
     "text": [
      "                                                     \r"
     ]
    },
    {
     "name": "stdout",
     "output_type": "stream",
     "text": [
      "MoviePy - Done.\n",
      "MoviePy - Writing audio in C:\\Users\\Welcome\\Dhairya-Python\\sarcasm detection\\audio_utter\\1_8837.mp3\n"
     ]
    },
    {
     "name": "stderr",
     "output_type": "stream",
     "text": [
      "                                                     \r"
     ]
    },
    {
     "name": "stdout",
     "output_type": "stream",
     "text": [
      "MoviePy - Done.\n",
      "MoviePy - Writing audio in C:\\Users\\Welcome\\Dhairya-Python\\sarcasm detection\\audio_utter\\1_90.mp3\n"
     ]
    },
    {
     "name": "stderr",
     "output_type": "stream",
     "text": [
      "                                                     \r"
     ]
    },
    {
     "name": "stdout",
     "output_type": "stream",
     "text": [
      "MoviePy - Done.\n",
      "MoviePy - Writing audio in C:\\Users\\Welcome\\Dhairya-Python\\sarcasm detection\\audio_utter\\1_9003.mp3\n"
     ]
    },
    {
     "name": "stderr",
     "output_type": "stream",
     "text": [
      "                                                     \r"
     ]
    },
    {
     "name": "stdout",
     "output_type": "stream",
     "text": [
      "MoviePy - Done.\n",
      "MoviePy - Writing audio in C:\\Users\\Welcome\\Dhairya-Python\\sarcasm detection\\audio_utter\\1_9009.mp3\n"
     ]
    },
    {
     "name": "stderr",
     "output_type": "stream",
     "text": [
      "                                                     \r"
     ]
    },
    {
     "name": "stdout",
     "output_type": "stream",
     "text": [
      "MoviePy - Done.\n",
      "MoviePy - Writing audio in C:\\Users\\Welcome\\Dhairya-Python\\sarcasm detection\\audio_utter\\1_9087.mp3\n"
     ]
    },
    {
     "name": "stderr",
     "output_type": "stream",
     "text": [
      "                                                     \r"
     ]
    },
    {
     "name": "stdout",
     "output_type": "stream",
     "text": [
      "MoviePy - Done.\n",
      "MoviePy - Writing audio in C:\\Users\\Welcome\\Dhairya-Python\\sarcasm detection\\audio_utter\\1_9245.mp3\n"
     ]
    },
    {
     "name": "stderr",
     "output_type": "stream",
     "text": [
      "                                                     \r"
     ]
    },
    {
     "name": "stdout",
     "output_type": "stream",
     "text": [
      "MoviePy - Done.\n",
      "MoviePy - Writing audio in C:\\Users\\Welcome\\Dhairya-Python\\sarcasm detection\\audio_utter\\1_9594.mp3\n"
     ]
    },
    {
     "name": "stderr",
     "output_type": "stream",
     "text": [
      "                                                     \r"
     ]
    },
    {
     "name": "stdout",
     "output_type": "stream",
     "text": [
      "MoviePy - Done.\n",
      "MoviePy - Writing audio in C:\\Users\\Welcome\\Dhairya-Python\\sarcasm detection\\audio_utter\\1_9668.mp3\n"
     ]
    },
    {
     "name": "stderr",
     "output_type": "stream",
     "text": [
      "                                                     \r"
     ]
    },
    {
     "name": "stdout",
     "output_type": "stream",
     "text": [
      "MoviePy - Done.\n",
      "MoviePy - Writing audio in C:\\Users\\Welcome\\Dhairya-Python\\sarcasm detection\\audio_utter\\1_971.mp3\n"
     ]
    },
    {
     "name": "stderr",
     "output_type": "stream",
     "text": [
      "                                                     \r"
     ]
    },
    {
     "name": "stdout",
     "output_type": "stream",
     "text": [
      "MoviePy - Done.\n",
      "MoviePy - Writing audio in C:\\Users\\Welcome\\Dhairya-Python\\sarcasm detection\\audio_utter\\1_9963.mp3\n"
     ]
    },
    {
     "name": "stderr",
     "output_type": "stream",
     "text": [
      "                                                     \r"
     ]
    },
    {
     "name": "stdout",
     "output_type": "stream",
     "text": [
      "MoviePy - Done.\n",
      "MoviePy - Writing audio in C:\\Users\\Welcome\\Dhairya-Python\\sarcasm detection\\audio_utter\\1_9971.mp3\n"
     ]
    },
    {
     "name": "stderr",
     "output_type": "stream",
     "text": [
      "                                                     \r"
     ]
    },
    {
     "name": "stdout",
     "output_type": "stream",
     "text": [
      "MoviePy - Done.\n",
      "MoviePy - Writing audio in C:\\Users\\Welcome\\Dhairya-Python\\sarcasm detection\\audio_utter\\1_9972.mp3\n"
     ]
    },
    {
     "name": "stderr",
     "output_type": "stream",
     "text": [
      "                                                     \r"
     ]
    },
    {
     "name": "stdout",
     "output_type": "stream",
     "text": [
      "MoviePy - Done.\n",
      "MoviePy - Writing audio in C:\\Users\\Welcome\\Dhairya-Python\\sarcasm detection\\audio_utter\\1_9993.mp3\n"
     ]
    },
    {
     "name": "stderr",
     "output_type": "stream",
     "text": [
      "                                                     \r"
     ]
    },
    {
     "name": "stdout",
     "output_type": "stream",
     "text": [
      "MoviePy - Done.\n",
      "MoviePy - Writing audio in C:\\Users\\Welcome\\Dhairya-Python\\sarcasm detection\\audio_utter\\2_1.mp3\n"
     ]
    },
    {
     "name": "stderr",
     "output_type": "stream",
     "text": [
      "                                                     \r"
     ]
    },
    {
     "name": "stdout",
     "output_type": "stream",
     "text": [
      "MoviePy - Done.\n",
      "MoviePy - Writing audio in C:\\Users\\Welcome\\Dhairya-Python\\sarcasm detection\\audio_utter\\2_102.mp3\n"
     ]
    },
    {
     "name": "stderr",
     "output_type": "stream",
     "text": [
      "                                                     \r"
     ]
    },
    {
     "name": "stdout",
     "output_type": "stream",
     "text": [
      "MoviePy - Done.\n",
      "MoviePy - Writing audio in C:\\Users\\Welcome\\Dhairya-Python\\sarcasm detection\\audio_utter\\2_103.mp3\n"
     ]
    },
    {
     "name": "stderr",
     "output_type": "stream",
     "text": [
      "                                                     \r"
     ]
    },
    {
     "name": "stdout",
     "output_type": "stream",
     "text": [
      "MoviePy - Done.\n",
      "MoviePy - Writing audio in C:\\Users\\Welcome\\Dhairya-Python\\sarcasm detection\\audio_utter\\2_104.mp3\n"
     ]
    },
    {
     "name": "stderr",
     "output_type": "stream",
     "text": [
      "                                                     \r"
     ]
    },
    {
     "name": "stdout",
     "output_type": "stream",
     "text": [
      "MoviePy - Done.\n",
      "MoviePy - Writing audio in C:\\Users\\Welcome\\Dhairya-Python\\sarcasm detection\\audio_utter\\2_105.mp3\n"
     ]
    },
    {
     "name": "stderr",
     "output_type": "stream",
     "text": [
      "                                                     \r"
     ]
    },
    {
     "name": "stdout",
     "output_type": "stream",
     "text": [
      "MoviePy - Done.\n",
      "MoviePy - Writing audio in C:\\Users\\Welcome\\Dhairya-Python\\sarcasm detection\\audio_utter\\2_107.mp3\n"
     ]
    },
    {
     "name": "stderr",
     "output_type": "stream",
     "text": [
      "                                                     \r"
     ]
    },
    {
     "name": "stdout",
     "output_type": "stream",
     "text": [
      "MoviePy - Done.\n",
      "MoviePy - Writing audio in C:\\Users\\Welcome\\Dhairya-Python\\sarcasm detection\\audio_utter\\2_109.mp3\n"
     ]
    },
    {
     "name": "stderr",
     "output_type": "stream",
     "text": [
      "                                                     \r"
     ]
    },
    {
     "name": "stdout",
     "output_type": "stream",
     "text": [
      "MoviePy - Done.\n",
      "MoviePy - Writing audio in C:\\Users\\Welcome\\Dhairya-Python\\sarcasm detection\\audio_utter\\2_11.mp3\n"
     ]
    },
    {
     "name": "stderr",
     "output_type": "stream",
     "text": [
      "                                                     \r"
     ]
    },
    {
     "name": "stdout",
     "output_type": "stream",
     "text": [
      "MoviePy - Done.\n",
      "MoviePy - Writing audio in C:\\Users\\Welcome\\Dhairya-Python\\sarcasm detection\\audio_utter\\2_111.mp3\n"
     ]
    },
    {
     "name": "stderr",
     "output_type": "stream",
     "text": [
      "                                                     \r"
     ]
    },
    {
     "name": "stdout",
     "output_type": "stream",
     "text": [
      "MoviePy - Done.\n",
      "MoviePy - Writing audio in C:\\Users\\Welcome\\Dhairya-Python\\sarcasm detection\\audio_utter\\2_112.mp3\n"
     ]
    },
    {
     "name": "stderr",
     "output_type": "stream",
     "text": [
      "                                                     \r"
     ]
    },
    {
     "name": "stdout",
     "output_type": "stream",
     "text": [
      "MoviePy - Done.\n",
      "MoviePy - Writing audio in C:\\Users\\Welcome\\Dhairya-Python\\sarcasm detection\\audio_utter\\2_113.mp3\n"
     ]
    },
    {
     "name": "stderr",
     "output_type": "stream",
     "text": [
      "                                                     \r"
     ]
    },
    {
     "name": "stdout",
     "output_type": "stream",
     "text": [
      "MoviePy - Done.\n",
      "MoviePy - Writing audio in C:\\Users\\Welcome\\Dhairya-Python\\sarcasm detection\\audio_utter\\2_114.mp3\n"
     ]
    },
    {
     "name": "stderr",
     "output_type": "stream",
     "text": [
      "                                                     \r"
     ]
    },
    {
     "name": "stdout",
     "output_type": "stream",
     "text": [
      "MoviePy - Done.\n",
      "MoviePy - Writing audio in C:\\Users\\Welcome\\Dhairya-Python\\sarcasm detection\\audio_utter\\2_115.mp3\n"
     ]
    },
    {
     "name": "stderr",
     "output_type": "stream",
     "text": [
      "                                                     \r"
     ]
    },
    {
     "name": "stdout",
     "output_type": "stream",
     "text": [
      "MoviePy - Done.\n",
      "MoviePy - Writing audio in C:\\Users\\Welcome\\Dhairya-Python\\sarcasm detection\\audio_utter\\2_118.mp3\n"
     ]
    },
    {
     "name": "stderr",
     "output_type": "stream",
     "text": [
      "                                                     \r"
     ]
    },
    {
     "name": "stdout",
     "output_type": "stream",
     "text": [
      "MoviePy - Done.\n",
      "MoviePy - Writing audio in C:\\Users\\Welcome\\Dhairya-Python\\sarcasm detection\\audio_utter\\2_119.mp3\n"
     ]
    },
    {
     "name": "stderr",
     "output_type": "stream",
     "text": [
      "                                                     \r"
     ]
    },
    {
     "name": "stdout",
     "output_type": "stream",
     "text": [
      "MoviePy - Done.\n",
      "MoviePy - Writing audio in C:\\Users\\Welcome\\Dhairya-Python\\sarcasm detection\\audio_utter\\2_12.mp3\n"
     ]
    },
    {
     "name": "stderr",
     "output_type": "stream",
     "text": [
      "                                                     \r"
     ]
    },
    {
     "name": "stdout",
     "output_type": "stream",
     "text": [
      "MoviePy - Done.\n",
      "MoviePy - Writing audio in C:\\Users\\Welcome\\Dhairya-Python\\sarcasm detection\\audio_utter\\2_120.mp3\n"
     ]
    },
    {
     "name": "stderr",
     "output_type": "stream",
     "text": [
      "                                                     \r"
     ]
    },
    {
     "name": "stdout",
     "output_type": "stream",
     "text": [
      "MoviePy - Done.\n",
      "MoviePy - Writing audio in C:\\Users\\Welcome\\Dhairya-Python\\sarcasm detection\\audio_utter\\2_121.mp3\n"
     ]
    },
    {
     "name": "stderr",
     "output_type": "stream",
     "text": [
      "                                                     \r"
     ]
    },
    {
     "name": "stdout",
     "output_type": "stream",
     "text": [
      "MoviePy - Done.\n",
      "MoviePy - Writing audio in C:\\Users\\Welcome\\Dhairya-Python\\sarcasm detection\\audio_utter\\2_123.mp3\n"
     ]
    },
    {
     "name": "stderr",
     "output_type": "stream",
     "text": [
      "                                                     \r"
     ]
    },
    {
     "name": "stdout",
     "output_type": "stream",
     "text": [
      "MoviePy - Done.\n",
      "MoviePy - Writing audio in C:\\Users\\Welcome\\Dhairya-Python\\sarcasm detection\\audio_utter\\2_124.mp3\n"
     ]
    },
    {
     "name": "stderr",
     "output_type": "stream",
     "text": [
      "                                                     \r"
     ]
    },
    {
     "name": "stdout",
     "output_type": "stream",
     "text": [
      "MoviePy - Done.\n",
      "MoviePy - Writing audio in C:\\Users\\Welcome\\Dhairya-Python\\sarcasm detection\\audio_utter\\2_125.mp3\n"
     ]
    },
    {
     "name": "stderr",
     "output_type": "stream",
     "text": [
      "                                                     \r"
     ]
    },
    {
     "name": "stdout",
     "output_type": "stream",
     "text": [
      "MoviePy - Done.\n",
      "MoviePy - Writing audio in C:\\Users\\Welcome\\Dhairya-Python\\sarcasm detection\\audio_utter\\2_126.mp3\n"
     ]
    },
    {
     "name": "stderr",
     "output_type": "stream",
     "text": [
      "                                                     \r"
     ]
    },
    {
     "name": "stdout",
     "output_type": "stream",
     "text": [
      "MoviePy - Done.\n",
      "MoviePy - Writing audio in C:\\Users\\Welcome\\Dhairya-Python\\sarcasm detection\\audio_utter\\2_127.mp3\n"
     ]
    },
    {
     "name": "stderr",
     "output_type": "stream",
     "text": [
      "                                                     \r"
     ]
    },
    {
     "name": "stdout",
     "output_type": "stream",
     "text": [
      "MoviePy - Done.\n",
      "MoviePy - Writing audio in C:\\Users\\Welcome\\Dhairya-Python\\sarcasm detection\\audio_utter\\2_128.mp3\n"
     ]
    },
    {
     "name": "stderr",
     "output_type": "stream",
     "text": [
      "                                                     \r"
     ]
    },
    {
     "name": "stdout",
     "output_type": "stream",
     "text": [
      "MoviePy - Done.\n",
      "MoviePy - Writing audio in C:\\Users\\Welcome\\Dhairya-Python\\sarcasm detection\\audio_utter\\2_129.mp3\n"
     ]
    },
    {
     "name": "stderr",
     "output_type": "stream",
     "text": [
      "                                                     \r"
     ]
    },
    {
     "name": "stdout",
     "output_type": "stream",
     "text": [
      "MoviePy - Done.\n",
      "MoviePy - Writing audio in C:\\Users\\Welcome\\Dhairya-Python\\sarcasm detection\\audio_utter\\2_13.mp3\n"
     ]
    },
    {
     "name": "stderr",
     "output_type": "stream",
     "text": [
      "                                                     \r"
     ]
    },
    {
     "name": "stdout",
     "output_type": "stream",
     "text": [
      "MoviePy - Done.\n",
      "MoviePy - Writing audio in C:\\Users\\Welcome\\Dhairya-Python\\sarcasm detection\\audio_utter\\2_131.mp3\n"
     ]
    },
    {
     "name": "stderr",
     "output_type": "stream",
     "text": [
      "                                                     \r"
     ]
    },
    {
     "name": "stdout",
     "output_type": "stream",
     "text": [
      "MoviePy - Done.\n",
      "MoviePy - Writing audio in C:\\Users\\Welcome\\Dhairya-Python\\sarcasm detection\\audio_utter\\2_134.mp3\n"
     ]
    },
    {
     "name": "stderr",
     "output_type": "stream",
     "text": [
      "                                                     \r"
     ]
    },
    {
     "name": "stdout",
     "output_type": "stream",
     "text": [
      "MoviePy - Done.\n",
      "MoviePy - Writing audio in C:\\Users\\Welcome\\Dhairya-Python\\sarcasm detection\\audio_utter\\2_135.mp3\n"
     ]
    },
    {
     "name": "stderr",
     "output_type": "stream",
     "text": [
      "                                                     \r"
     ]
    },
    {
     "name": "stdout",
     "output_type": "stream",
     "text": [
      "MoviePy - Done.\n",
      "MoviePy - Writing audio in C:\\Users\\Welcome\\Dhairya-Python\\sarcasm detection\\audio_utter\\2_137.mp3\n"
     ]
    },
    {
     "name": "stderr",
     "output_type": "stream",
     "text": [
      "                                                     \r"
     ]
    },
    {
     "name": "stdout",
     "output_type": "stream",
     "text": [
      "MoviePy - Done.\n",
      "MoviePy - Writing audio in C:\\Users\\Welcome\\Dhairya-Python\\sarcasm detection\\audio_utter\\2_140.mp3\n"
     ]
    },
    {
     "name": "stderr",
     "output_type": "stream",
     "text": [
      "                                                     \r"
     ]
    },
    {
     "name": "stdout",
     "output_type": "stream",
     "text": [
      "MoviePy - Done.\n",
      "MoviePy - Writing audio in C:\\Users\\Welcome\\Dhairya-Python\\sarcasm detection\\audio_utter\\2_141.mp3\n"
     ]
    },
    {
     "name": "stderr",
     "output_type": "stream",
     "text": [
      "                                                     \r"
     ]
    },
    {
     "name": "stdout",
     "output_type": "stream",
     "text": [
      "MoviePy - Done.\n",
      "MoviePy - Writing audio in C:\\Users\\Welcome\\Dhairya-Python\\sarcasm detection\\audio_utter\\2_144.mp3\n"
     ]
    },
    {
     "name": "stderr",
     "output_type": "stream",
     "text": [
      "                                                     \r"
     ]
    },
    {
     "name": "stdout",
     "output_type": "stream",
     "text": [
      "MoviePy - Done.\n",
      "MoviePy - Writing audio in C:\\Users\\Welcome\\Dhairya-Python\\sarcasm detection\\audio_utter\\2_146.mp3\n"
     ]
    },
    {
     "name": "stderr",
     "output_type": "stream",
     "text": [
      "                                                     \r"
     ]
    },
    {
     "name": "stdout",
     "output_type": "stream",
     "text": [
      "MoviePy - Done.\n",
      "MoviePy - Writing audio in C:\\Users\\Welcome\\Dhairya-Python\\sarcasm detection\\audio_utter\\2_147.mp3\n"
     ]
    },
    {
     "name": "stderr",
     "output_type": "stream",
     "text": [
      "                                                     \r"
     ]
    },
    {
     "name": "stdout",
     "output_type": "stream",
     "text": [
      "MoviePy - Done.\n",
      "MoviePy - Writing audio in C:\\Users\\Welcome\\Dhairya-Python\\sarcasm detection\\audio_utter\\2_148.mp3\n"
     ]
    },
    {
     "name": "stderr",
     "output_type": "stream",
     "text": [
      "                                                     \r"
     ]
    },
    {
     "name": "stdout",
     "output_type": "stream",
     "text": [
      "MoviePy - Done.\n",
      "MoviePy - Writing audio in C:\\Users\\Welcome\\Dhairya-Python\\sarcasm detection\\audio_utter\\2_149.mp3\n"
     ]
    },
    {
     "name": "stderr",
     "output_type": "stream",
     "text": [
      "                                                     \r"
     ]
    },
    {
     "name": "stdout",
     "output_type": "stream",
     "text": [
      "MoviePy - Done.\n",
      "MoviePy - Writing audio in C:\\Users\\Welcome\\Dhairya-Python\\sarcasm detection\\audio_utter\\2_15.mp3\n"
     ]
    },
    {
     "name": "stderr",
     "output_type": "stream",
     "text": [
      "                                                     \r"
     ]
    },
    {
     "name": "stdout",
     "output_type": "stream",
     "text": [
      "MoviePy - Done.\n",
      "MoviePy - Writing audio in C:\\Users\\Welcome\\Dhairya-Python\\sarcasm detection\\audio_utter\\2_150.mp3\n"
     ]
    },
    {
     "name": "stderr",
     "output_type": "stream",
     "text": [
      "                                                     \r"
     ]
    },
    {
     "name": "stdout",
     "output_type": "stream",
     "text": [
      "MoviePy - Done.\n",
      "MoviePy - Writing audio in C:\\Users\\Welcome\\Dhairya-Python\\sarcasm detection\\audio_utter\\2_151.mp3\n"
     ]
    },
    {
     "name": "stderr",
     "output_type": "stream",
     "text": [
      "                                                     \r"
     ]
    },
    {
     "name": "stdout",
     "output_type": "stream",
     "text": [
      "MoviePy - Done.\n",
      "MoviePy - Writing audio in C:\\Users\\Welcome\\Dhairya-Python\\sarcasm detection\\audio_utter\\2_152.mp3\n"
     ]
    },
    {
     "name": "stderr",
     "output_type": "stream",
     "text": [
      "                                                     \r"
     ]
    },
    {
     "name": "stdout",
     "output_type": "stream",
     "text": [
      "MoviePy - Done.\n",
      "MoviePy - Writing audio in C:\\Users\\Welcome\\Dhairya-Python\\sarcasm detection\\audio_utter\\2_154.mp3\n"
     ]
    },
    {
     "name": "stderr",
     "output_type": "stream",
     "text": [
      "                                                     \r"
     ]
    },
    {
     "name": "stdout",
     "output_type": "stream",
     "text": [
      "MoviePy - Done.\n",
      "MoviePy - Writing audio in C:\\Users\\Welcome\\Dhairya-Python\\sarcasm detection\\audio_utter\\2_155.mp3\n"
     ]
    },
    {
     "name": "stderr",
     "output_type": "stream",
     "text": [
      "                                                     \r"
     ]
    },
    {
     "name": "stdout",
     "output_type": "stream",
     "text": [
      "MoviePy - Done.\n",
      "MoviePy - Writing audio in C:\\Users\\Welcome\\Dhairya-Python\\sarcasm detection\\audio_utter\\2_158.mp3\n"
     ]
    },
    {
     "name": "stderr",
     "output_type": "stream",
     "text": [
      "                                                     \r"
     ]
    },
    {
     "name": "stdout",
     "output_type": "stream",
     "text": [
      "MoviePy - Done.\n",
      "MoviePy - Writing audio in C:\\Users\\Welcome\\Dhairya-Python\\sarcasm detection\\audio_utter\\2_160.mp3\n"
     ]
    },
    {
     "name": "stderr",
     "output_type": "stream",
     "text": [
      "                                                     \r"
     ]
    },
    {
     "name": "stdout",
     "output_type": "stream",
     "text": [
      "MoviePy - Done.\n",
      "MoviePy - Writing audio in C:\\Users\\Welcome\\Dhairya-Python\\sarcasm detection\\audio_utter\\2_161.mp3\n"
     ]
    },
    {
     "name": "stderr",
     "output_type": "stream",
     "text": [
      "                                                     \r"
     ]
    },
    {
     "name": "stdout",
     "output_type": "stream",
     "text": [
      "MoviePy - Done.\n",
      "MoviePy - Writing audio in C:\\Users\\Welcome\\Dhairya-Python\\sarcasm detection\\audio_utter\\2_162.mp3\n"
     ]
    },
    {
     "name": "stderr",
     "output_type": "stream",
     "text": [
      "                                                     \r"
     ]
    },
    {
     "name": "stdout",
     "output_type": "stream",
     "text": [
      "MoviePy - Done.\n",
      "MoviePy - Writing audio in C:\\Users\\Welcome\\Dhairya-Python\\sarcasm detection\\audio_utter\\2_163.mp3\n"
     ]
    },
    {
     "name": "stderr",
     "output_type": "stream",
     "text": [
      "                                                     \r"
     ]
    },
    {
     "name": "stdout",
     "output_type": "stream",
     "text": [
      "MoviePy - Done.\n",
      "MoviePy - Writing audio in C:\\Users\\Welcome\\Dhairya-Python\\sarcasm detection\\audio_utter\\2_166.mp3\n"
     ]
    },
    {
     "name": "stderr",
     "output_type": "stream",
     "text": [
      "                                                     \r"
     ]
    },
    {
     "name": "stdout",
     "output_type": "stream",
     "text": [
      "MoviePy - Done.\n",
      "MoviePy - Writing audio in C:\\Users\\Welcome\\Dhairya-Python\\sarcasm detection\\audio_utter\\2_167.mp3\n"
     ]
    },
    {
     "name": "stderr",
     "output_type": "stream",
     "text": [
      "                                                     \r"
     ]
    },
    {
     "name": "stdout",
     "output_type": "stream",
     "text": [
      "MoviePy - Done.\n",
      "MoviePy - Writing audio in C:\\Users\\Welcome\\Dhairya-Python\\sarcasm detection\\audio_utter\\2_168.mp3\n"
     ]
    },
    {
     "name": "stderr",
     "output_type": "stream",
     "text": [
      "                                                     \r"
     ]
    },
    {
     "name": "stdout",
     "output_type": "stream",
     "text": [
      "MoviePy - Done.\n",
      "MoviePy - Writing audio in C:\\Users\\Welcome\\Dhairya-Python\\sarcasm detection\\audio_utter\\2_169.mp3\n"
     ]
    },
    {
     "name": "stderr",
     "output_type": "stream",
     "text": [
      "                                                     \r"
     ]
    },
    {
     "name": "stdout",
     "output_type": "stream",
     "text": [
      "MoviePy - Done.\n",
      "MoviePy - Writing audio in C:\\Users\\Welcome\\Dhairya-Python\\sarcasm detection\\audio_utter\\2_170.mp3\n"
     ]
    },
    {
     "name": "stderr",
     "output_type": "stream",
     "text": [
      "                                                     \r"
     ]
    },
    {
     "name": "stdout",
     "output_type": "stream",
     "text": [
      "MoviePy - Done.\n",
      "MoviePy - Writing audio in C:\\Users\\Welcome\\Dhairya-Python\\sarcasm detection\\audio_utter\\2_171.mp3\n"
     ]
    },
    {
     "name": "stderr",
     "output_type": "stream",
     "text": [
      "                                                     \r"
     ]
    },
    {
     "name": "stdout",
     "output_type": "stream",
     "text": [
      "MoviePy - Done.\n",
      "MoviePy - Writing audio in C:\\Users\\Welcome\\Dhairya-Python\\sarcasm detection\\audio_utter\\2_172.mp3\n"
     ]
    },
    {
     "name": "stderr",
     "output_type": "stream",
     "text": [
      "                                                     \r"
     ]
    },
    {
     "name": "stdout",
     "output_type": "stream",
     "text": [
      "MoviePy - Done.\n",
      "MoviePy - Writing audio in C:\\Users\\Welcome\\Dhairya-Python\\sarcasm detection\\audio_utter\\2_173.mp3\n"
     ]
    },
    {
     "name": "stderr",
     "output_type": "stream",
     "text": [
      "                                                     \r"
     ]
    },
    {
     "name": "stdout",
     "output_type": "stream",
     "text": [
      "MoviePy - Done.\n",
      "MoviePy - Writing audio in C:\\Users\\Welcome\\Dhairya-Python\\sarcasm detection\\audio_utter\\2_174.mp3\n"
     ]
    },
    {
     "name": "stderr",
     "output_type": "stream",
     "text": [
      "                                                     \r"
     ]
    },
    {
     "name": "stdout",
     "output_type": "stream",
     "text": [
      "MoviePy - Done.\n",
      "MoviePy - Writing audio in C:\\Users\\Welcome\\Dhairya-Python\\sarcasm detection\\audio_utter\\2_176.mp3\n"
     ]
    },
    {
     "name": "stderr",
     "output_type": "stream",
     "text": [
      "                                                     \r"
     ]
    },
    {
     "name": "stdout",
     "output_type": "stream",
     "text": [
      "MoviePy - Done.\n",
      "MoviePy - Writing audio in C:\\Users\\Welcome\\Dhairya-Python\\sarcasm detection\\audio_utter\\2_177.mp3\n"
     ]
    },
    {
     "name": "stderr",
     "output_type": "stream",
     "text": [
      "                                                     \r"
     ]
    },
    {
     "name": "stdout",
     "output_type": "stream",
     "text": [
      "MoviePy - Done.\n",
      "MoviePy - Writing audio in C:\\Users\\Welcome\\Dhairya-Python\\sarcasm detection\\audio_utter\\2_178.mp3\n"
     ]
    },
    {
     "name": "stderr",
     "output_type": "stream",
     "text": [
      "                                                     \r"
     ]
    },
    {
     "name": "stdout",
     "output_type": "stream",
     "text": [
      "MoviePy - Done.\n",
      "MoviePy - Writing audio in C:\\Users\\Welcome\\Dhairya-Python\\sarcasm detection\\audio_utter\\2_180.mp3\n"
     ]
    },
    {
     "name": "stderr",
     "output_type": "stream",
     "text": [
      "                                                     \r"
     ]
    },
    {
     "name": "stdout",
     "output_type": "stream",
     "text": [
      "MoviePy - Done.\n",
      "MoviePy - Writing audio in C:\\Users\\Welcome\\Dhairya-Python\\sarcasm detection\\audio_utter\\2_181.mp3\n"
     ]
    },
    {
     "name": "stderr",
     "output_type": "stream",
     "text": [
      "                                                     "
     ]
    },
    {
     "name": "stdout",
     "output_type": "stream",
     "text": [
      "MoviePy - Done.\n"
     ]
    },
    {
     "name": "stderr",
     "output_type": "stream",
     "text": [
      "\r"
     ]
    },
    {
     "name": "stdout",
     "output_type": "stream",
     "text": [
      "MoviePy - Writing audio in C:\\Users\\Welcome\\Dhairya-Python\\sarcasm detection\\audio_utter\\2_182.mp3\n"
     ]
    },
    {
     "name": "stderr",
     "output_type": "stream",
     "text": [
      "                                                     \r"
     ]
    },
    {
     "name": "stdout",
     "output_type": "stream",
     "text": [
      "MoviePy - Done.\n",
      "MoviePy - Writing audio in C:\\Users\\Welcome\\Dhairya-Python\\sarcasm detection\\audio_utter\\2_183.mp3\n"
     ]
    },
    {
     "name": "stderr",
     "output_type": "stream",
     "text": [
      "                                                     \r"
     ]
    },
    {
     "name": "stdout",
     "output_type": "stream",
     "text": [
      "MoviePy - Done.\n",
      "MoviePy - Writing audio in C:\\Users\\Welcome\\Dhairya-Python\\sarcasm detection\\audio_utter\\2_186.mp3\n"
     ]
    },
    {
     "name": "stderr",
     "output_type": "stream",
     "text": [
      "                                                     \r"
     ]
    },
    {
     "name": "stdout",
     "output_type": "stream",
     "text": [
      "MoviePy - Done.\n",
      "MoviePy - Writing audio in C:\\Users\\Welcome\\Dhairya-Python\\sarcasm detection\\audio_utter\\2_187.mp3\n"
     ]
    },
    {
     "name": "stderr",
     "output_type": "stream",
     "text": [
      "                                                     \r"
     ]
    },
    {
     "name": "stdout",
     "output_type": "stream",
     "text": [
      "MoviePy - Done.\n",
      "MoviePy - Writing audio in C:\\Users\\Welcome\\Dhairya-Python\\sarcasm detection\\audio_utter\\2_188.mp3\n"
     ]
    },
    {
     "name": "stderr",
     "output_type": "stream",
     "text": [
      "                                                     \r"
     ]
    },
    {
     "name": "stdout",
     "output_type": "stream",
     "text": [
      "MoviePy - Done.\n",
      "MoviePy - Writing audio in C:\\Users\\Welcome\\Dhairya-Python\\sarcasm detection\\audio_utter\\2_189.mp3\n"
     ]
    },
    {
     "name": "stderr",
     "output_type": "stream",
     "text": [
      "                                                     \r"
     ]
    },
    {
     "name": "stdout",
     "output_type": "stream",
     "text": [
      "MoviePy - Done.\n",
      "MoviePy - Writing audio in C:\\Users\\Welcome\\Dhairya-Python\\sarcasm detection\\audio_utter\\2_190.mp3\n"
     ]
    },
    {
     "name": "stderr",
     "output_type": "stream",
     "text": [
      "                                                     \r"
     ]
    },
    {
     "name": "stdout",
     "output_type": "stream",
     "text": [
      "MoviePy - Done.\n",
      "MoviePy - Writing audio in C:\\Users\\Welcome\\Dhairya-Python\\sarcasm detection\\audio_utter\\2_191.mp3\n"
     ]
    },
    {
     "name": "stderr",
     "output_type": "stream",
     "text": [
      "                                                     \r"
     ]
    },
    {
     "name": "stdout",
     "output_type": "stream",
     "text": [
      "MoviePy - Done.\n",
      "MoviePy - Writing audio in C:\\Users\\Welcome\\Dhairya-Python\\sarcasm detection\\audio_utter\\2_193.mp3\n"
     ]
    },
    {
     "name": "stderr",
     "output_type": "stream",
     "text": [
      "                                                     \r"
     ]
    },
    {
     "name": "stdout",
     "output_type": "stream",
     "text": [
      "MoviePy - Done.\n",
      "MoviePy - Writing audio in C:\\Users\\Welcome\\Dhairya-Python\\sarcasm detection\\audio_utter\\2_194.mp3\n"
     ]
    },
    {
     "name": "stderr",
     "output_type": "stream",
     "text": [
      "                                                     \r"
     ]
    },
    {
     "name": "stdout",
     "output_type": "stream",
     "text": [
      "MoviePy - Done.\n",
      "MoviePy - Writing audio in C:\\Users\\Welcome\\Dhairya-Python\\sarcasm detection\\audio_utter\\2_196.mp3\n"
     ]
    },
    {
     "name": "stderr",
     "output_type": "stream",
     "text": [
      "                                                     "
     ]
    },
    {
     "name": "stdout",
     "output_type": "stream",
     "text": [
      "MoviePy - Done."
     ]
    },
    {
     "name": "stderr",
     "output_type": "stream",
     "text": [
      "\r"
     ]
    },
    {
     "name": "stdout",
     "output_type": "stream",
     "text": [
      "\n",
      "MoviePy - Writing audio in C:\\Users\\Welcome\\Dhairya-Python\\sarcasm detection\\audio_utter\\2_197.mp3\n"
     ]
    },
    {
     "name": "stderr",
     "output_type": "stream",
     "text": [
      "                                                     \r"
     ]
    },
    {
     "name": "stdout",
     "output_type": "stream",
     "text": [
      "MoviePy - Done.\n",
      "MoviePy - Writing audio in C:\\Users\\Welcome\\Dhairya-Python\\sarcasm detection\\audio_utter\\2_198.mp3\n"
     ]
    },
    {
     "name": "stderr",
     "output_type": "stream",
     "text": [
      "                                                     "
     ]
    },
    {
     "name": "stdout",
     "output_type": "stream",
     "text": [
      "MoviePy - Done.\n"
     ]
    },
    {
     "name": "stderr",
     "output_type": "stream",
     "text": [
      "\r"
     ]
    },
    {
     "name": "stdout",
     "output_type": "stream",
     "text": [
      "MoviePy - Writing audio in C:\\Users\\Welcome\\Dhairya-Python\\sarcasm detection\\audio_utter\\2_2.mp3\n"
     ]
    },
    {
     "name": "stderr",
     "output_type": "stream",
     "text": [
      "                                                     \r"
     ]
    },
    {
     "name": "stdout",
     "output_type": "stream",
     "text": [
      "MoviePy - Done.\n",
      "MoviePy - Writing audio in C:\\Users\\Welcome\\Dhairya-Python\\sarcasm detection\\audio_utter\\2_20.mp3\n"
     ]
    },
    {
     "name": "stderr",
     "output_type": "stream",
     "text": [
      "                                                     \r"
     ]
    },
    {
     "name": "stdout",
     "output_type": "stream",
     "text": [
      "MoviePy - Done.\n",
      "MoviePy - Writing audio in C:\\Users\\Welcome\\Dhairya-Python\\sarcasm detection\\audio_utter\\2_202.mp3\n"
     ]
    },
    {
     "name": "stderr",
     "output_type": "stream",
     "text": [
      "                                                     "
     ]
    },
    {
     "name": "stdout",
     "output_type": "stream",
     "text": [
      "MoviePy - Done.\n"
     ]
    },
    {
     "name": "stderr",
     "output_type": "stream",
     "text": [
      "\r"
     ]
    },
    {
     "name": "stdout",
     "output_type": "stream",
     "text": [
      "MoviePy - Writing audio in C:\\Users\\Welcome\\Dhairya-Python\\sarcasm detection\\audio_utter\\2_203.mp3\n"
     ]
    },
    {
     "name": "stderr",
     "output_type": "stream",
     "text": [
      "                                                     \r"
     ]
    },
    {
     "name": "stdout",
     "output_type": "stream",
     "text": [
      "MoviePy - Done.\n",
      "MoviePy - Writing audio in C:\\Users\\Welcome\\Dhairya-Python\\sarcasm detection\\audio_utter\\2_204.mp3\n"
     ]
    },
    {
     "name": "stderr",
     "output_type": "stream",
     "text": [
      "                                                     \r"
     ]
    },
    {
     "name": "stdout",
     "output_type": "stream",
     "text": [
      "MoviePy - Done.\n",
      "MoviePy - Writing audio in C:\\Users\\Welcome\\Dhairya-Python\\sarcasm detection\\audio_utter\\2_205.mp3\n"
     ]
    },
    {
     "name": "stderr",
     "output_type": "stream",
     "text": [
      "                                                     \r"
     ]
    },
    {
     "name": "stdout",
     "output_type": "stream",
     "text": [
      "MoviePy - Done.\n",
      "MoviePy - Writing audio in C:\\Users\\Welcome\\Dhairya-Python\\sarcasm detection\\audio_utter\\2_206.mp3\n"
     ]
    },
    {
     "name": "stderr",
     "output_type": "stream",
     "text": [
      "                                                     \r"
     ]
    },
    {
     "name": "stdout",
     "output_type": "stream",
     "text": [
      "MoviePy - Done.\n",
      "MoviePy - Writing audio in C:\\Users\\Welcome\\Dhairya-Python\\sarcasm detection\\audio_utter\\2_208.mp3\n"
     ]
    },
    {
     "name": "stderr",
     "output_type": "stream",
     "text": [
      "                                                     \r"
     ]
    },
    {
     "name": "stdout",
     "output_type": "stream",
     "text": [
      "MoviePy - Done.\n",
      "MoviePy - Writing audio in C:\\Users\\Welcome\\Dhairya-Python\\sarcasm detection\\audio_utter\\2_209.mp3\n"
     ]
    },
    {
     "name": "stderr",
     "output_type": "stream",
     "text": [
      "                                                     "
     ]
    },
    {
     "name": "stdout",
     "output_type": "stream",
     "text": [
      "MoviePy - Done."
     ]
    },
    {
     "name": "stderr",
     "output_type": "stream",
     "text": [
      "\r"
     ]
    },
    {
     "name": "stdout",
     "output_type": "stream",
     "text": [
      "\n",
      "MoviePy - Writing audio in C:\\Users\\Welcome\\Dhairya-Python\\sarcasm detection\\audio_utter\\2_210.mp3\n"
     ]
    },
    {
     "name": "stderr",
     "output_type": "stream",
     "text": [
      "                                                     \r"
     ]
    },
    {
     "name": "stdout",
     "output_type": "stream",
     "text": [
      "MoviePy - Done.\n",
      "MoviePy - Writing audio in C:\\Users\\Welcome\\Dhairya-Python\\sarcasm detection\\audio_utter\\2_213.mp3\n"
     ]
    },
    {
     "name": "stderr",
     "output_type": "stream",
     "text": [
      "                                                     \r"
     ]
    },
    {
     "name": "stdout",
     "output_type": "stream",
     "text": [
      "MoviePy - Done.\n",
      "MoviePy - Writing audio in C:\\Users\\Welcome\\Dhairya-Python\\sarcasm detection\\audio_utter\\2_217.mp3\n"
     ]
    },
    {
     "name": "stderr",
     "output_type": "stream",
     "text": [
      "                                                     \r"
     ]
    },
    {
     "name": "stdout",
     "output_type": "stream",
     "text": [
      "MoviePy - Done.\n",
      "MoviePy - Writing audio in C:\\Users\\Welcome\\Dhairya-Python\\sarcasm detection\\audio_utter\\2_218.mp3\n"
     ]
    },
    {
     "name": "stderr",
     "output_type": "stream",
     "text": [
      "                                                     \r"
     ]
    },
    {
     "name": "stdout",
     "output_type": "stream",
     "text": [
      "MoviePy - Done.\n",
      "MoviePy - Writing audio in C:\\Users\\Welcome\\Dhairya-Python\\sarcasm detection\\audio_utter\\2_221.mp3\n"
     ]
    },
    {
     "name": "stderr",
     "output_type": "stream",
     "text": [
      "                                                     \r"
     ]
    },
    {
     "name": "stdout",
     "output_type": "stream",
     "text": [
      "MoviePy - Done.\n",
      "MoviePy - Writing audio in C:\\Users\\Welcome\\Dhairya-Python\\sarcasm detection\\audio_utter\\2_222.mp3\n"
     ]
    },
    {
     "name": "stderr",
     "output_type": "stream",
     "text": [
      "                                                     \r"
     ]
    },
    {
     "name": "stdout",
     "output_type": "stream",
     "text": [
      "MoviePy - Done.\n",
      "MoviePy - Writing audio in C:\\Users\\Welcome\\Dhairya-Python\\sarcasm detection\\audio_utter\\2_223.mp3\n"
     ]
    },
    {
     "name": "stderr",
     "output_type": "stream",
     "text": [
      "                                                     \r"
     ]
    },
    {
     "name": "stdout",
     "output_type": "stream",
     "text": [
      "MoviePy - Done.\n",
      "MoviePy - Writing audio in C:\\Users\\Welcome\\Dhairya-Python\\sarcasm detection\\audio_utter\\2_225.mp3\n"
     ]
    },
    {
     "name": "stderr",
     "output_type": "stream",
     "text": [
      "                                                     \r"
     ]
    },
    {
     "name": "stdout",
     "output_type": "stream",
     "text": [
      "MoviePy - Done.\n",
      "MoviePy - Writing audio in C:\\Users\\Welcome\\Dhairya-Python\\sarcasm detection\\audio_utter\\2_226.mp3\n"
     ]
    },
    {
     "name": "stderr",
     "output_type": "stream",
     "text": [
      "                                                     \r"
     ]
    },
    {
     "name": "stdout",
     "output_type": "stream",
     "text": [
      "MoviePy - Done.\n",
      "MoviePy - Writing audio in C:\\Users\\Welcome\\Dhairya-Python\\sarcasm detection\\audio_utter\\2_227.mp3\n"
     ]
    },
    {
     "name": "stderr",
     "output_type": "stream",
     "text": [
      "                                                     \r"
     ]
    },
    {
     "name": "stdout",
     "output_type": "stream",
     "text": [
      "MoviePy - Done.\n",
      "MoviePy - Writing audio in C:\\Users\\Welcome\\Dhairya-Python\\sarcasm detection\\audio_utter\\2_228.mp3\n"
     ]
    },
    {
     "name": "stderr",
     "output_type": "stream",
     "text": [
      "                                                     \r"
     ]
    },
    {
     "name": "stdout",
     "output_type": "stream",
     "text": [
      "MoviePy - Done.\n",
      "MoviePy - Writing audio in C:\\Users\\Welcome\\Dhairya-Python\\sarcasm detection\\audio_utter\\2_230.mp3\n"
     ]
    },
    {
     "name": "stderr",
     "output_type": "stream",
     "text": [
      "                                                     \r"
     ]
    },
    {
     "name": "stdout",
     "output_type": "stream",
     "text": [
      "MoviePy - Done.\n",
      "MoviePy - Writing audio in C:\\Users\\Welcome\\Dhairya-Python\\sarcasm detection\\audio_utter\\2_231.mp3\n"
     ]
    },
    {
     "name": "stderr",
     "output_type": "stream",
     "text": [
      "                                                     \r"
     ]
    },
    {
     "name": "stdout",
     "output_type": "stream",
     "text": [
      "MoviePy - Done.\n",
      "MoviePy - Writing audio in C:\\Users\\Welcome\\Dhairya-Python\\sarcasm detection\\audio_utter\\2_232.mp3\n"
     ]
    },
    {
     "name": "stderr",
     "output_type": "stream",
     "text": [
      "                                                     \r"
     ]
    },
    {
     "name": "stdout",
     "output_type": "stream",
     "text": [
      "MoviePy - Done.\n",
      "MoviePy - Writing audio in C:\\Users\\Welcome\\Dhairya-Python\\sarcasm detection\\audio_utter\\2_234.mp3\n"
     ]
    },
    {
     "name": "stderr",
     "output_type": "stream",
     "text": [
      "                                                     \r"
     ]
    },
    {
     "name": "stdout",
     "output_type": "stream",
     "text": [
      "MoviePy - Done.\n",
      "MoviePy - Writing audio in C:\\Users\\Welcome\\Dhairya-Python\\sarcasm detection\\audio_utter\\2_235.mp3\n"
     ]
    },
    {
     "name": "stderr",
     "output_type": "stream",
     "text": [
      "                                                     \r"
     ]
    },
    {
     "name": "stdout",
     "output_type": "stream",
     "text": [
      "MoviePy - Done.\n",
      "MoviePy - Writing audio in C:\\Users\\Welcome\\Dhairya-Python\\sarcasm detection\\audio_utter\\2_236.mp3\n"
     ]
    },
    {
     "name": "stderr",
     "output_type": "stream",
     "text": [
      "                                                     \r"
     ]
    },
    {
     "name": "stdout",
     "output_type": "stream",
     "text": [
      "MoviePy - Done.\n",
      "MoviePy - Writing audio in C:\\Users\\Welcome\\Dhairya-Python\\sarcasm detection\\audio_utter\\2_24.mp3\n"
     ]
    },
    {
     "name": "stderr",
     "output_type": "stream",
     "text": [
      "                                                     \r"
     ]
    },
    {
     "name": "stdout",
     "output_type": "stream",
     "text": [
      "MoviePy - Done.\n",
      "MoviePy - Writing audio in C:\\Users\\Welcome\\Dhairya-Python\\sarcasm detection\\audio_utter\\2_240.mp3\n"
     ]
    },
    {
     "name": "stderr",
     "output_type": "stream",
     "text": [
      "                                                     \r"
     ]
    },
    {
     "name": "stdout",
     "output_type": "stream",
     "text": [
      "MoviePy - Done.\n",
      "MoviePy - Writing audio in C:\\Users\\Welcome\\Dhairya-Python\\sarcasm detection\\audio_utter\\2_241.mp3\n"
     ]
    },
    {
     "name": "stderr",
     "output_type": "stream",
     "text": [
      "                                                     \r"
     ]
    },
    {
     "name": "stdout",
     "output_type": "stream",
     "text": [
      "MoviePy - Done.\n",
      "MoviePy - Writing audio in C:\\Users\\Welcome\\Dhairya-Python\\sarcasm detection\\audio_utter\\2_242.mp3\n"
     ]
    },
    {
     "name": "stderr",
     "output_type": "stream",
     "text": [
      "                                                     \r"
     ]
    },
    {
     "name": "stdout",
     "output_type": "stream",
     "text": [
      "MoviePy - Done.\n",
      "MoviePy - Writing audio in C:\\Users\\Welcome\\Dhairya-Python\\sarcasm detection\\audio_utter\\2_243.mp3\n"
     ]
    },
    {
     "name": "stderr",
     "output_type": "stream",
     "text": [
      "                                                     \r"
     ]
    },
    {
     "name": "stdout",
     "output_type": "stream",
     "text": [
      "MoviePy - Done.\n",
      "MoviePy - Writing audio in C:\\Users\\Welcome\\Dhairya-Python\\sarcasm detection\\audio_utter\\2_245.mp3\n"
     ]
    },
    {
     "name": "stderr",
     "output_type": "stream",
     "text": [
      "                                                     \r"
     ]
    },
    {
     "name": "stdout",
     "output_type": "stream",
     "text": [
      "MoviePy - Done.\n",
      "MoviePy - Writing audio in C:\\Users\\Welcome\\Dhairya-Python\\sarcasm detection\\audio_utter\\2_246.mp3\n"
     ]
    },
    {
     "name": "stderr",
     "output_type": "stream",
     "text": [
      "                                                     \r"
     ]
    },
    {
     "name": "stdout",
     "output_type": "stream",
     "text": [
      "MoviePy - Done.\n",
      "MoviePy - Writing audio in C:\\Users\\Welcome\\Dhairya-Python\\sarcasm detection\\audio_utter\\2_247.mp3\n"
     ]
    },
    {
     "name": "stderr",
     "output_type": "stream",
     "text": [
      "                                                     \r"
     ]
    },
    {
     "name": "stdout",
     "output_type": "stream",
     "text": [
      "MoviePy - Done.\n",
      "MoviePy - Writing audio in C:\\Users\\Welcome\\Dhairya-Python\\sarcasm detection\\audio_utter\\2_248.mp3\n"
     ]
    },
    {
     "name": "stderr",
     "output_type": "stream",
     "text": [
      "                                                     \r"
     ]
    },
    {
     "name": "stdout",
     "output_type": "stream",
     "text": [
      "MoviePy - Done.\n",
      "MoviePy - Writing audio in C:\\Users\\Welcome\\Dhairya-Python\\sarcasm detection\\audio_utter\\2_250.mp3\n"
     ]
    },
    {
     "name": "stderr",
     "output_type": "stream",
     "text": [
      "                                                     \r"
     ]
    },
    {
     "name": "stdout",
     "output_type": "stream",
     "text": [
      "MoviePy - Done.\n",
      "MoviePy - Writing audio in C:\\Users\\Welcome\\Dhairya-Python\\sarcasm detection\\audio_utter\\2_251.mp3\n"
     ]
    },
    {
     "name": "stderr",
     "output_type": "stream",
     "text": [
      "                                                     \r"
     ]
    },
    {
     "name": "stdout",
     "output_type": "stream",
     "text": [
      "MoviePy - Done.\n",
      "MoviePy - Writing audio in C:\\Users\\Welcome\\Dhairya-Python\\sarcasm detection\\audio_utter\\2_253.mp3\n"
     ]
    },
    {
     "name": "stderr",
     "output_type": "stream",
     "text": [
      "                                                     \r"
     ]
    },
    {
     "name": "stdout",
     "output_type": "stream",
     "text": [
      "MoviePy - Done.\n",
      "MoviePy - Writing audio in C:\\Users\\Welcome\\Dhairya-Python\\sarcasm detection\\audio_utter\\2_254.mp3\n"
     ]
    },
    {
     "name": "stderr",
     "output_type": "stream",
     "text": [
      "                                                     \r"
     ]
    },
    {
     "name": "stdout",
     "output_type": "stream",
     "text": [
      "MoviePy - Done.\n",
      "MoviePy - Writing audio in C:\\Users\\Welcome\\Dhairya-Python\\sarcasm detection\\audio_utter\\2_255.mp3\n"
     ]
    },
    {
     "name": "stderr",
     "output_type": "stream",
     "text": [
      "                                                     \r"
     ]
    },
    {
     "name": "stdout",
     "output_type": "stream",
     "text": [
      "MoviePy - Done.\n",
      "MoviePy - Writing audio in C:\\Users\\Welcome\\Dhairya-Python\\sarcasm detection\\audio_utter\\2_257.mp3\n"
     ]
    },
    {
     "name": "stderr",
     "output_type": "stream",
     "text": [
      "                                                     \r"
     ]
    },
    {
     "name": "stdout",
     "output_type": "stream",
     "text": [
      "MoviePy - Done.\n",
      "MoviePy - Writing audio in C:\\Users\\Welcome\\Dhairya-Python\\sarcasm detection\\audio_utter\\2_258.mp3\n"
     ]
    },
    {
     "name": "stderr",
     "output_type": "stream",
     "text": [
      "                                                     \r"
     ]
    },
    {
     "name": "stdout",
     "output_type": "stream",
     "text": [
      "MoviePy - Done.\n",
      "MoviePy - Writing audio in C:\\Users\\Welcome\\Dhairya-Python\\sarcasm detection\\audio_utter\\2_259.mp3\n"
     ]
    },
    {
     "name": "stderr",
     "output_type": "stream",
     "text": [
      "                                                     \r"
     ]
    },
    {
     "name": "stdout",
     "output_type": "stream",
     "text": [
      "MoviePy - Done.\n",
      "MoviePy - Writing audio in C:\\Users\\Welcome\\Dhairya-Python\\sarcasm detection\\audio_utter\\2_260.mp3\n"
     ]
    },
    {
     "name": "stderr",
     "output_type": "stream",
     "text": [
      "                                                     \r"
     ]
    },
    {
     "name": "stdout",
     "output_type": "stream",
     "text": [
      "MoviePy - Done.\n",
      "MoviePy - Writing audio in C:\\Users\\Welcome\\Dhairya-Python\\sarcasm detection\\audio_utter\\2_261.mp3\n"
     ]
    },
    {
     "name": "stderr",
     "output_type": "stream",
     "text": [
      "                                                     \r"
     ]
    },
    {
     "name": "stdout",
     "output_type": "stream",
     "text": [
      "MoviePy - Done.\n",
      "MoviePy - Writing audio in C:\\Users\\Welcome\\Dhairya-Python\\sarcasm detection\\audio_utter\\2_263.mp3\n"
     ]
    },
    {
     "name": "stderr",
     "output_type": "stream",
     "text": [
      "                                                     \r"
     ]
    },
    {
     "name": "stdout",
     "output_type": "stream",
     "text": [
      "MoviePy - Done.\n",
      "MoviePy - Writing audio in C:\\Users\\Welcome\\Dhairya-Python\\sarcasm detection\\audio_utter\\2_264.mp3\n"
     ]
    },
    {
     "name": "stderr",
     "output_type": "stream",
     "text": [
      "                                                     \r"
     ]
    },
    {
     "name": "stdout",
     "output_type": "stream",
     "text": [
      "MoviePy - Done.\n",
      "MoviePy - Writing audio in C:\\Users\\Welcome\\Dhairya-Python\\sarcasm detection\\audio_utter\\2_267.mp3\n"
     ]
    },
    {
     "name": "stderr",
     "output_type": "stream",
     "text": [
      "                                                     "
     ]
    },
    {
     "name": "stdout",
     "output_type": "stream",
     "text": [
      "MoviePy - Done.\n"
     ]
    },
    {
     "name": "stderr",
     "output_type": "stream",
     "text": [
      "\r"
     ]
    },
    {
     "name": "stdout",
     "output_type": "stream",
     "text": [
      "MoviePy - Writing audio in C:\\Users\\Welcome\\Dhairya-Python\\sarcasm detection\\audio_utter\\2_268.mp3\n"
     ]
    },
    {
     "name": "stderr",
     "output_type": "stream",
     "text": [
      "                                                     \r"
     ]
    },
    {
     "name": "stdout",
     "output_type": "stream",
     "text": [
      "MoviePy - Done.\n",
      "MoviePy - Writing audio in C:\\Users\\Welcome\\Dhairya-Python\\sarcasm detection\\audio_utter\\2_27.mp3\n"
     ]
    },
    {
     "name": "stderr",
     "output_type": "stream",
     "text": [
      "                                                     \r"
     ]
    },
    {
     "name": "stdout",
     "output_type": "stream",
     "text": [
      "MoviePy - Done.\n",
      "MoviePy - Writing audio in C:\\Users\\Welcome\\Dhairya-Python\\sarcasm detection\\audio_utter\\2_270.mp3\n"
     ]
    },
    {
     "name": "stderr",
     "output_type": "stream",
     "text": [
      "                                                     \r"
     ]
    },
    {
     "name": "stdout",
     "output_type": "stream",
     "text": [
      "MoviePy - Done.\n",
      "MoviePy - Writing audio in C:\\Users\\Welcome\\Dhairya-Python\\sarcasm detection\\audio_utter\\2_271.mp3\n"
     ]
    },
    {
     "name": "stderr",
     "output_type": "stream",
     "text": [
      "                                                     \r"
     ]
    },
    {
     "name": "stdout",
     "output_type": "stream",
     "text": [
      "MoviePy - Done.\n",
      "MoviePy - Writing audio in C:\\Users\\Welcome\\Dhairya-Python\\sarcasm detection\\audio_utter\\2_272.mp3\n"
     ]
    },
    {
     "name": "stderr",
     "output_type": "stream",
     "text": [
      "                                                     \r"
     ]
    },
    {
     "name": "stdout",
     "output_type": "stream",
     "text": [
      "MoviePy - Done.\n",
      "MoviePy - Writing audio in C:\\Users\\Welcome\\Dhairya-Python\\sarcasm detection\\audio_utter\\2_278.mp3\n"
     ]
    },
    {
     "name": "stderr",
     "output_type": "stream",
     "text": [
      "                                                     "
     ]
    },
    {
     "name": "stdout",
     "output_type": "stream",
     "text": [
      "MoviePy - Done.\n"
     ]
    },
    {
     "name": "stderr",
     "output_type": "stream",
     "text": [
      "\r"
     ]
    },
    {
     "name": "stdout",
     "output_type": "stream",
     "text": [
      "MoviePy - Writing audio in C:\\Users\\Welcome\\Dhairya-Python\\sarcasm detection\\audio_utter\\2_279.mp3\n"
     ]
    },
    {
     "name": "stderr",
     "output_type": "stream",
     "text": [
      "                                                     \r"
     ]
    },
    {
     "name": "stdout",
     "output_type": "stream",
     "text": [
      "MoviePy - Done.\n",
      "MoviePy - Writing audio in C:\\Users\\Welcome\\Dhairya-Python\\sarcasm detection\\audio_utter\\2_28.mp3\n"
     ]
    },
    {
     "name": "stderr",
     "output_type": "stream",
     "text": [
      "                                                     \r"
     ]
    },
    {
     "name": "stdout",
     "output_type": "stream",
     "text": [
      "MoviePy - Done.\n",
      "MoviePy - Writing audio in C:\\Users\\Welcome\\Dhairya-Python\\sarcasm detection\\audio_utter\\2_280.mp3\n"
     ]
    },
    {
     "name": "stderr",
     "output_type": "stream",
     "text": [
      "                                                     \r"
     ]
    },
    {
     "name": "stdout",
     "output_type": "stream",
     "text": [
      "MoviePy - Done.\n",
      "MoviePy - Writing audio in C:\\Users\\Welcome\\Dhairya-Python\\sarcasm detection\\audio_utter\\2_281.mp3\n"
     ]
    },
    {
     "name": "stderr",
     "output_type": "stream",
     "text": [
      "                                                     \r"
     ]
    },
    {
     "name": "stdout",
     "output_type": "stream",
     "text": [
      "MoviePy - Done.\n",
      "MoviePy - Writing audio in C:\\Users\\Welcome\\Dhairya-Python\\sarcasm detection\\audio_utter\\2_282.mp3\n"
     ]
    },
    {
     "name": "stderr",
     "output_type": "stream",
     "text": [
      "                                                     \r"
     ]
    },
    {
     "name": "stdout",
     "output_type": "stream",
     "text": [
      "MoviePy - Done.\n",
      "MoviePy - Writing audio in C:\\Users\\Welcome\\Dhairya-Python\\sarcasm detection\\audio_utter\\2_283.mp3\n"
     ]
    },
    {
     "name": "stderr",
     "output_type": "stream",
     "text": [
      "                                                     \r"
     ]
    },
    {
     "name": "stdout",
     "output_type": "stream",
     "text": [
      "MoviePy - Done.\n",
      "MoviePy - Writing audio in C:\\Users\\Welcome\\Dhairya-Python\\sarcasm detection\\audio_utter\\2_284.mp3\n"
     ]
    },
    {
     "name": "stderr",
     "output_type": "stream",
     "text": [
      "                                                     \r"
     ]
    },
    {
     "name": "stdout",
     "output_type": "stream",
     "text": [
      "MoviePy - Done.\n",
      "MoviePy - Writing audio in C:\\Users\\Welcome\\Dhairya-Python\\sarcasm detection\\audio_utter\\2_286.mp3\n"
     ]
    },
    {
     "name": "stderr",
     "output_type": "stream",
     "text": [
      "                                                     \r"
     ]
    },
    {
     "name": "stdout",
     "output_type": "stream",
     "text": [
      "MoviePy - Done.\n",
      "MoviePy - Writing audio in C:\\Users\\Welcome\\Dhairya-Python\\sarcasm detection\\audio_utter\\2_287.mp3\n"
     ]
    },
    {
     "name": "stderr",
     "output_type": "stream",
     "text": [
      "                                                     \r"
     ]
    },
    {
     "name": "stdout",
     "output_type": "stream",
     "text": [
      "MoviePy - Done.\n",
      "MoviePy - Writing audio in C:\\Users\\Welcome\\Dhairya-Python\\sarcasm detection\\audio_utter\\2_288.mp3\n"
     ]
    },
    {
     "name": "stderr",
     "output_type": "stream",
     "text": [
      "                                                     \r"
     ]
    },
    {
     "name": "stdout",
     "output_type": "stream",
     "text": [
      "MoviePy - Done.\n",
      "MoviePy - Writing audio in C:\\Users\\Welcome\\Dhairya-Python\\sarcasm detection\\audio_utter\\2_289.mp3\n"
     ]
    },
    {
     "name": "stderr",
     "output_type": "stream",
     "text": [
      "                                                     \r"
     ]
    },
    {
     "name": "stdout",
     "output_type": "stream",
     "text": [
      "MoviePy - Done.\n",
      "MoviePy - Writing audio in C:\\Users\\Welcome\\Dhairya-Python\\sarcasm detection\\audio_utter\\2_29.mp3\n"
     ]
    },
    {
     "name": "stderr",
     "output_type": "stream",
     "text": [
      "                                                     "
     ]
    },
    {
     "name": "stdout",
     "output_type": "stream",
     "text": [
      "MoviePy - Done.\n"
     ]
    },
    {
     "name": "stderr",
     "output_type": "stream",
     "text": [
      "\r"
     ]
    },
    {
     "name": "stdout",
     "output_type": "stream",
     "text": [
      "MoviePy - Writing audio in C:\\Users\\Welcome\\Dhairya-Python\\sarcasm detection\\audio_utter\\2_291.mp3\n"
     ]
    },
    {
     "name": "stderr",
     "output_type": "stream",
     "text": [
      "                                                     \r"
     ]
    },
    {
     "name": "stdout",
     "output_type": "stream",
     "text": [
      "MoviePy - Done.\n",
      "MoviePy - Writing audio in C:\\Users\\Welcome\\Dhairya-Python\\sarcasm detection\\audio_utter\\2_292.mp3\n"
     ]
    },
    {
     "name": "stderr",
     "output_type": "stream",
     "text": [
      "                                                     \r"
     ]
    },
    {
     "name": "stdout",
     "output_type": "stream",
     "text": [
      "MoviePy - Done.\n",
      "MoviePy - Writing audio in C:\\Users\\Welcome\\Dhairya-Python\\sarcasm detection\\audio_utter\\2_293.mp3\n"
     ]
    },
    {
     "name": "stderr",
     "output_type": "stream",
     "text": [
      "                                                     \r"
     ]
    },
    {
     "name": "stdout",
     "output_type": "stream",
     "text": [
      "MoviePy - Done.\n",
      "MoviePy - Writing audio in C:\\Users\\Welcome\\Dhairya-Python\\sarcasm detection\\audio_utter\\2_294.mp3\n"
     ]
    },
    {
     "name": "stderr",
     "output_type": "stream",
     "text": [
      "                                                     \r"
     ]
    },
    {
     "name": "stdout",
     "output_type": "stream",
     "text": [
      "MoviePy - Done.\n",
      "MoviePy - Writing audio in C:\\Users\\Welcome\\Dhairya-Python\\sarcasm detection\\audio_utter\\2_295.mp3\n"
     ]
    },
    {
     "name": "stderr",
     "output_type": "stream",
     "text": [
      "                                                     "
     ]
    },
    {
     "name": "stdout",
     "output_type": "stream",
     "text": [
      "MoviePy - Done."
     ]
    },
    {
     "name": "stderr",
     "output_type": "stream",
     "text": [
      "\r"
     ]
    },
    {
     "name": "stdout",
     "output_type": "stream",
     "text": [
      "\n",
      "MoviePy - Writing audio in C:\\Users\\Welcome\\Dhairya-Python\\sarcasm detection\\audio_utter\\2_297.mp3\n"
     ]
    },
    {
     "name": "stderr",
     "output_type": "stream",
     "text": [
      "                                                     \r"
     ]
    },
    {
     "name": "stdout",
     "output_type": "stream",
     "text": [
      "MoviePy - Done.\n",
      "MoviePy - Writing audio in C:\\Users\\Welcome\\Dhairya-Python\\sarcasm detection\\audio_utter\\2_299.mp3\n"
     ]
    },
    {
     "name": "stderr",
     "output_type": "stream",
     "text": [
      "                                                     \r"
     ]
    },
    {
     "name": "stdout",
     "output_type": "stream",
     "text": [
      "MoviePy - Done.\n",
      "MoviePy - Writing audio in C:\\Users\\Welcome\\Dhairya-Python\\sarcasm detection\\audio_utter\\2_3.mp3\n"
     ]
    },
    {
     "name": "stderr",
     "output_type": "stream",
     "text": [
      "                                                     \r"
     ]
    },
    {
     "name": "stdout",
     "output_type": "stream",
     "text": [
      "MoviePy - Done.\n",
      "MoviePy - Writing audio in C:\\Users\\Welcome\\Dhairya-Python\\sarcasm detection\\audio_utter\\2_30.mp3\n"
     ]
    },
    {
     "name": "stderr",
     "output_type": "stream",
     "text": [
      "                                                     "
     ]
    },
    {
     "name": "stdout",
     "output_type": "stream",
     "text": [
      "MoviePy - Done."
     ]
    },
    {
     "name": "stderr",
     "output_type": "stream",
     "text": [
      "\r"
     ]
    },
    {
     "name": "stdout",
     "output_type": "stream",
     "text": [
      "\n",
      "MoviePy - Writing audio in C:\\Users\\Welcome\\Dhairya-Python\\sarcasm detection\\audio_utter\\2_300.mp3\n"
     ]
    },
    {
     "name": "stderr",
     "output_type": "stream",
     "text": [
      "                                                     \r"
     ]
    },
    {
     "name": "stdout",
     "output_type": "stream",
     "text": [
      "MoviePy - Done.\n",
      "MoviePy - Writing audio in C:\\Users\\Welcome\\Dhairya-Python\\sarcasm detection\\audio_utter\\2_301.mp3\n"
     ]
    },
    {
     "name": "stderr",
     "output_type": "stream",
     "text": [
      "                                                     \r"
     ]
    },
    {
     "name": "stdout",
     "output_type": "stream",
     "text": [
      "MoviePy - Done.\n",
      "MoviePy - Writing audio in C:\\Users\\Welcome\\Dhairya-Python\\sarcasm detection\\audio_utter\\2_302.mp3\n"
     ]
    },
    {
     "name": "stderr",
     "output_type": "stream",
     "text": [
      "                                                     \r"
     ]
    },
    {
     "name": "stdout",
     "output_type": "stream",
     "text": [
      "MoviePy - Done.\n",
      "MoviePy - Writing audio in C:\\Users\\Welcome\\Dhairya-Python\\sarcasm detection\\audio_utter\\2_303.mp3\n"
     ]
    },
    {
     "name": "stderr",
     "output_type": "stream",
     "text": [
      "                                                     \r"
     ]
    },
    {
     "name": "stdout",
     "output_type": "stream",
     "text": [
      "MoviePy - Done.\n",
      "MoviePy - Writing audio in C:\\Users\\Welcome\\Dhairya-Python\\sarcasm detection\\audio_utter\\2_305.mp3\n"
     ]
    },
    {
     "name": "stderr",
     "output_type": "stream",
     "text": [
      "                                                     \r"
     ]
    },
    {
     "name": "stdout",
     "output_type": "stream",
     "text": [
      "MoviePy - Done.\n",
      "MoviePy - Writing audio in C:\\Users\\Welcome\\Dhairya-Python\\sarcasm detection\\audio_utter\\2_306.mp3\n"
     ]
    },
    {
     "name": "stderr",
     "output_type": "stream",
     "text": [
      "                                                     \r"
     ]
    },
    {
     "name": "stdout",
     "output_type": "stream",
     "text": [
      "MoviePy - Done.\n",
      "MoviePy - Writing audio in C:\\Users\\Welcome\\Dhairya-Python\\sarcasm detection\\audio_utter\\2_31.mp3\n"
     ]
    },
    {
     "name": "stderr",
     "output_type": "stream",
     "text": [
      "                                                     \r"
     ]
    },
    {
     "name": "stdout",
     "output_type": "stream",
     "text": [
      "MoviePy - Done.\n",
      "MoviePy - Writing audio in C:\\Users\\Welcome\\Dhairya-Python\\sarcasm detection\\audio_utter\\2_310.mp3\n"
     ]
    },
    {
     "name": "stderr",
     "output_type": "stream",
     "text": [
      "                                                     \r"
     ]
    },
    {
     "name": "stdout",
     "output_type": "stream",
     "text": [
      "MoviePy - Done.\n",
      "MoviePy - Writing audio in C:\\Users\\Welcome\\Dhairya-Python\\sarcasm detection\\audio_utter\\2_312.mp3\n"
     ]
    },
    {
     "name": "stderr",
     "output_type": "stream",
     "text": [
      "                                                     \r"
     ]
    },
    {
     "name": "stdout",
     "output_type": "stream",
     "text": [
      "MoviePy - Done.\n",
      "MoviePy - Writing audio in C:\\Users\\Welcome\\Dhairya-Python\\sarcasm detection\\audio_utter\\2_313.mp3\n"
     ]
    },
    {
     "name": "stderr",
     "output_type": "stream",
     "text": [
      "                                                     \r"
     ]
    },
    {
     "name": "stdout",
     "output_type": "stream",
     "text": [
      "MoviePy - Done.\n",
      "MoviePy - Writing audio in C:\\Users\\Welcome\\Dhairya-Python\\sarcasm detection\\audio_utter\\2_314.mp3\n"
     ]
    },
    {
     "name": "stderr",
     "output_type": "stream",
     "text": [
      "                                                     "
     ]
    },
    {
     "name": "stdout",
     "output_type": "stream",
     "text": [
      "MoviePy - Done.\n"
     ]
    },
    {
     "name": "stderr",
     "output_type": "stream",
     "text": [
      "\r"
     ]
    },
    {
     "name": "stdout",
     "output_type": "stream",
     "text": [
      "MoviePy - Writing audio in C:\\Users\\Welcome\\Dhairya-Python\\sarcasm detection\\audio_utter\\2_315.mp3\n"
     ]
    },
    {
     "name": "stderr",
     "output_type": "stream",
     "text": [
      "                                                     \r"
     ]
    },
    {
     "name": "stdout",
     "output_type": "stream",
     "text": [
      "MoviePy - Done.\n",
      "MoviePy - Writing audio in C:\\Users\\Welcome\\Dhairya-Python\\sarcasm detection\\audio_utter\\2_316.mp3\n"
     ]
    },
    {
     "name": "stderr",
     "output_type": "stream",
     "text": [
      "                                                     "
     ]
    },
    {
     "name": "stdout",
     "output_type": "stream",
     "text": [
      "MoviePy - Done.\n"
     ]
    },
    {
     "name": "stderr",
     "output_type": "stream",
     "text": [
      "\r"
     ]
    },
    {
     "name": "stdout",
     "output_type": "stream",
     "text": [
      "MoviePy - Writing audio in C:\\Users\\Welcome\\Dhairya-Python\\sarcasm detection\\audio_utter\\2_317.mp3\n"
     ]
    },
    {
     "name": "stderr",
     "output_type": "stream",
     "text": [
      "                                                     \r"
     ]
    },
    {
     "name": "stdout",
     "output_type": "stream",
     "text": [
      "MoviePy - Done.\n",
      "MoviePy - Writing audio in C:\\Users\\Welcome\\Dhairya-Python\\sarcasm detection\\audio_utter\\2_318.mp3\n"
     ]
    },
    {
     "name": "stderr",
     "output_type": "stream",
     "text": [
      "                                                     "
     ]
    },
    {
     "name": "stdout",
     "output_type": "stream",
     "text": [
      "MoviePy - Done.\n"
     ]
    },
    {
     "name": "stderr",
     "output_type": "stream",
     "text": [
      "\r"
     ]
    },
    {
     "name": "stdout",
     "output_type": "stream",
     "text": [
      "MoviePy - Writing audio in C:\\Users\\Welcome\\Dhairya-Python\\sarcasm detection\\audio_utter\\2_319.mp3\n"
     ]
    },
    {
     "name": "stderr",
     "output_type": "stream",
     "text": [
      "                                                     \r"
     ]
    },
    {
     "name": "stdout",
     "output_type": "stream",
     "text": [
      "MoviePy - Done.\n",
      "MoviePy - Writing audio in C:\\Users\\Welcome\\Dhairya-Python\\sarcasm detection\\audio_utter\\2_322.mp3\n"
     ]
    },
    {
     "name": "stderr",
     "output_type": "stream",
     "text": [
      "                                                     \r"
     ]
    },
    {
     "name": "stdout",
     "output_type": "stream",
     "text": [
      "MoviePy - Done.\n",
      "MoviePy - Writing audio in C:\\Users\\Welcome\\Dhairya-Python\\sarcasm detection\\audio_utter\\2_323.mp3\n"
     ]
    },
    {
     "name": "stderr",
     "output_type": "stream",
     "text": [
      "                                                     \r"
     ]
    },
    {
     "name": "stdout",
     "output_type": "stream",
     "text": [
      "MoviePy - Done.\n",
      "MoviePy - Writing audio in C:\\Users\\Welcome\\Dhairya-Python\\sarcasm detection\\audio_utter\\2_326.mp3\n"
     ]
    },
    {
     "name": "stderr",
     "output_type": "stream",
     "text": [
      "                                                     \r"
     ]
    },
    {
     "name": "stdout",
     "output_type": "stream",
     "text": [
      "MoviePy - Done.\n",
      "MoviePy - Writing audio in C:\\Users\\Welcome\\Dhairya-Python\\sarcasm detection\\audio_utter\\2_33.mp3\n"
     ]
    },
    {
     "name": "stderr",
     "output_type": "stream",
     "text": [
      "                                                     \r"
     ]
    },
    {
     "name": "stdout",
     "output_type": "stream",
     "text": [
      "MoviePy - Done.\n",
      "MoviePy - Writing audio in C:\\Users\\Welcome\\Dhairya-Python\\sarcasm detection\\audio_utter\\2_334.mp3\n"
     ]
    },
    {
     "name": "stderr",
     "output_type": "stream",
     "text": [
      "                                                     \r"
     ]
    },
    {
     "name": "stdout",
     "output_type": "stream",
     "text": [
      "MoviePy - Done.\n",
      "MoviePy - Writing audio in C:\\Users\\Welcome\\Dhairya-Python\\sarcasm detection\\audio_utter\\2_337.mp3\n"
     ]
    },
    {
     "name": "stderr",
     "output_type": "stream",
     "text": [
      "                                                     \r"
     ]
    },
    {
     "name": "stdout",
     "output_type": "stream",
     "text": [
      "MoviePy - Done.\n",
      "MoviePy - Writing audio in C:\\Users\\Welcome\\Dhairya-Python\\sarcasm detection\\audio_utter\\2_338.mp3\n"
     ]
    },
    {
     "name": "stderr",
     "output_type": "stream",
     "text": [
      "                                                     \r"
     ]
    },
    {
     "name": "stdout",
     "output_type": "stream",
     "text": [
      "MoviePy - Done.\n",
      "MoviePy - Writing audio in C:\\Users\\Welcome\\Dhairya-Python\\sarcasm detection\\audio_utter\\2_339.mp3\n"
     ]
    },
    {
     "name": "stderr",
     "output_type": "stream",
     "text": [
      "                                                     \r"
     ]
    },
    {
     "name": "stdout",
     "output_type": "stream",
     "text": [
      "MoviePy - Done.\n",
      "MoviePy - Writing audio in C:\\Users\\Welcome\\Dhairya-Python\\sarcasm detection\\audio_utter\\2_34.mp3\n"
     ]
    },
    {
     "name": "stderr",
     "output_type": "stream",
     "text": [
      "                                                     \r"
     ]
    },
    {
     "name": "stdout",
     "output_type": "stream",
     "text": [
      "MoviePy - Done.\n",
      "MoviePy - Writing audio in C:\\Users\\Welcome\\Dhairya-Python\\sarcasm detection\\audio_utter\\2_340.mp3\n"
     ]
    },
    {
     "name": "stderr",
     "output_type": "stream",
     "text": [
      "                                                     "
     ]
    },
    {
     "name": "stdout",
     "output_type": "stream",
     "text": [
      "MoviePy - Done.\n"
     ]
    },
    {
     "name": "stderr",
     "output_type": "stream",
     "text": [
      "\r"
     ]
    },
    {
     "name": "stdout",
     "output_type": "stream",
     "text": [
      "MoviePy - Writing audio in C:\\Users\\Welcome\\Dhairya-Python\\sarcasm detection\\audio_utter\\2_341.mp3\n"
     ]
    },
    {
     "name": "stderr",
     "output_type": "stream",
     "text": [
      "                                                     \r"
     ]
    },
    {
     "name": "stdout",
     "output_type": "stream",
     "text": [
      "MoviePy - Done.\n",
      "MoviePy - Writing audio in C:\\Users\\Welcome\\Dhairya-Python\\sarcasm detection\\audio_utter\\2_342.mp3\n"
     ]
    },
    {
     "name": "stderr",
     "output_type": "stream",
     "text": [
      "                                                     \r"
     ]
    },
    {
     "name": "stdout",
     "output_type": "stream",
     "text": [
      "MoviePy - Done.\n",
      "MoviePy - Writing audio in C:\\Users\\Welcome\\Dhairya-Python\\sarcasm detection\\audio_utter\\2_343.mp3\n"
     ]
    },
    {
     "name": "stderr",
     "output_type": "stream",
     "text": [
      "                                                     \r"
     ]
    },
    {
     "name": "stdout",
     "output_type": "stream",
     "text": [
      "MoviePy - Done.\n",
      "MoviePy - Writing audio in C:\\Users\\Welcome\\Dhairya-Python\\sarcasm detection\\audio_utter\\2_344.mp3\n"
     ]
    },
    {
     "name": "stderr",
     "output_type": "stream",
     "text": [
      "                                                     \r"
     ]
    },
    {
     "name": "stdout",
     "output_type": "stream",
     "text": [
      "MoviePy - Done.\n",
      "MoviePy - Writing audio in C:\\Users\\Welcome\\Dhairya-Python\\sarcasm detection\\audio_utter\\2_345.mp3\n"
     ]
    },
    {
     "name": "stderr",
     "output_type": "stream",
     "text": [
      "                                                     \r"
     ]
    },
    {
     "name": "stdout",
     "output_type": "stream",
     "text": [
      "MoviePy - Done.\n",
      "MoviePy - Writing audio in C:\\Users\\Welcome\\Dhairya-Python\\sarcasm detection\\audio_utter\\2_347.mp3\n"
     ]
    },
    {
     "name": "stderr",
     "output_type": "stream",
     "text": [
      "                                                     \r"
     ]
    },
    {
     "name": "stdout",
     "output_type": "stream",
     "text": [
      "MoviePy - Done.\n",
      "MoviePy - Writing audio in C:\\Users\\Welcome\\Dhairya-Python\\sarcasm detection\\audio_utter\\2_35.mp3\n"
     ]
    },
    {
     "name": "stderr",
     "output_type": "stream",
     "text": [
      "                                                     \r"
     ]
    },
    {
     "name": "stdout",
     "output_type": "stream",
     "text": [
      "MoviePy - Done.\n",
      "MoviePy - Writing audio in C:\\Users\\Welcome\\Dhairya-Python\\sarcasm detection\\audio_utter\\2_350.mp3\n"
     ]
    },
    {
     "name": "stderr",
     "output_type": "stream",
     "text": [
      "                                                     \r"
     ]
    },
    {
     "name": "stdout",
     "output_type": "stream",
     "text": [
      "MoviePy - Done.\n",
      "MoviePy - Writing audio in C:\\Users\\Welcome\\Dhairya-Python\\sarcasm detection\\audio_utter\\2_351.mp3\n"
     ]
    },
    {
     "name": "stderr",
     "output_type": "stream",
     "text": [
      "                                                     \r"
     ]
    },
    {
     "name": "stdout",
     "output_type": "stream",
     "text": [
      "MoviePy - Done.\n",
      "MoviePy - Writing audio in C:\\Users\\Welcome\\Dhairya-Python\\sarcasm detection\\audio_utter\\2_352.mp3\n"
     ]
    },
    {
     "name": "stderr",
     "output_type": "stream",
     "text": [
      "                                                     \r"
     ]
    },
    {
     "name": "stdout",
     "output_type": "stream",
     "text": [
      "MoviePy - Done.\n",
      "MoviePy - Writing audio in C:\\Users\\Welcome\\Dhairya-Python\\sarcasm detection\\audio_utter\\2_353.mp3\n"
     ]
    },
    {
     "name": "stderr",
     "output_type": "stream",
     "text": [
      "                                                     \r"
     ]
    },
    {
     "name": "stdout",
     "output_type": "stream",
     "text": [
      "MoviePy - Done.\n",
      "MoviePy - Writing audio in C:\\Users\\Welcome\\Dhairya-Python\\sarcasm detection\\audio_utter\\2_356.mp3\n"
     ]
    },
    {
     "name": "stderr",
     "output_type": "stream",
     "text": [
      "                                                     "
     ]
    },
    {
     "name": "stdout",
     "output_type": "stream",
     "text": [
      "MoviePy - Done.\n"
     ]
    },
    {
     "name": "stderr",
     "output_type": "stream",
     "text": [
      "\r"
     ]
    },
    {
     "name": "stdout",
     "output_type": "stream",
     "text": [
      "MoviePy - Writing audio in C:\\Users\\Welcome\\Dhairya-Python\\sarcasm detection\\audio_utter\\2_357.mp3\n"
     ]
    },
    {
     "name": "stderr",
     "output_type": "stream",
     "text": [
      "                                                     \r"
     ]
    },
    {
     "name": "stdout",
     "output_type": "stream",
     "text": [
      "MoviePy - Done.\n",
      "MoviePy - Writing audio in C:\\Users\\Welcome\\Dhairya-Python\\sarcasm detection\\audio_utter\\2_358.mp3\n"
     ]
    },
    {
     "name": "stderr",
     "output_type": "stream",
     "text": [
      "                                                     \r"
     ]
    },
    {
     "name": "stdout",
     "output_type": "stream",
     "text": [
      "MoviePy - Done.\n",
      "MoviePy - Writing audio in C:\\Users\\Welcome\\Dhairya-Python\\sarcasm detection\\audio_utter\\2_359.mp3\n"
     ]
    },
    {
     "name": "stderr",
     "output_type": "stream",
     "text": [
      "                                                     \r"
     ]
    },
    {
     "name": "stdout",
     "output_type": "stream",
     "text": [
      "MoviePy - Done.\n",
      "MoviePy - Writing audio in C:\\Users\\Welcome\\Dhairya-Python\\sarcasm detection\\audio_utter\\2_36.mp3\n"
     ]
    },
    {
     "name": "stderr",
     "output_type": "stream",
     "text": [
      "                                                     \r"
     ]
    },
    {
     "name": "stdout",
     "output_type": "stream",
     "text": [
      "MoviePy - Done.\n",
      "MoviePy - Writing audio in C:\\Users\\Welcome\\Dhairya-Python\\sarcasm detection\\audio_utter\\2_361.mp3\n"
     ]
    },
    {
     "name": "stderr",
     "output_type": "stream",
     "text": [
      "                                                     "
     ]
    },
    {
     "name": "stdout",
     "output_type": "stream",
     "text": [
      "MoviePy - Done.\n"
     ]
    },
    {
     "name": "stderr",
     "output_type": "stream",
     "text": [
      "\r"
     ]
    },
    {
     "name": "stdout",
     "output_type": "stream",
     "text": [
      "MoviePy - Writing audio in C:\\Users\\Welcome\\Dhairya-Python\\sarcasm detection\\audio_utter\\2_365.mp3\n"
     ]
    },
    {
     "name": "stderr",
     "output_type": "stream",
     "text": [
      "                                                     \r"
     ]
    },
    {
     "name": "stdout",
     "output_type": "stream",
     "text": [
      "MoviePy - Done.\n",
      "MoviePy - Writing audio in C:\\Users\\Welcome\\Dhairya-Python\\sarcasm detection\\audio_utter\\2_367.mp3\n"
     ]
    },
    {
     "name": "stderr",
     "output_type": "stream",
     "text": [
      "                                                     "
     ]
    },
    {
     "name": "stdout",
     "output_type": "stream",
     "text": [
      "MoviePy - Done."
     ]
    },
    {
     "name": "stderr",
     "output_type": "stream",
     "text": [
      "\r"
     ]
    },
    {
     "name": "stdout",
     "output_type": "stream",
     "text": [
      "\n",
      "MoviePy - Writing audio in C:\\Users\\Welcome\\Dhairya-Python\\sarcasm detection\\audio_utter\\2_369.mp3\n"
     ]
    },
    {
     "name": "stderr",
     "output_type": "stream",
     "text": [
      "                                                     \r"
     ]
    },
    {
     "name": "stdout",
     "output_type": "stream",
     "text": [
      "MoviePy - Done.\n",
      "MoviePy - Writing audio in C:\\Users\\Welcome\\Dhairya-Python\\sarcasm detection\\audio_utter\\2_370.mp3\n"
     ]
    },
    {
     "name": "stderr",
     "output_type": "stream",
     "text": [
      "                                                     \r"
     ]
    },
    {
     "name": "stdout",
     "output_type": "stream",
     "text": [
      "MoviePy - Done.\n",
      "MoviePy - Writing audio in C:\\Users\\Welcome\\Dhairya-Python\\sarcasm detection\\audio_utter\\2_371.mp3\n"
     ]
    },
    {
     "name": "stderr",
     "output_type": "stream",
     "text": [
      "                                                     "
     ]
    },
    {
     "name": "stdout",
     "output_type": "stream",
     "text": [
      "MoviePy - Done.\n"
     ]
    },
    {
     "name": "stderr",
     "output_type": "stream",
     "text": [
      "\r"
     ]
    },
    {
     "name": "stdout",
     "output_type": "stream",
     "text": [
      "MoviePy - Writing audio in C:\\Users\\Welcome\\Dhairya-Python\\sarcasm detection\\audio_utter\\2_372.mp3\n"
     ]
    },
    {
     "name": "stderr",
     "output_type": "stream",
     "text": [
      "                                                     \r"
     ]
    },
    {
     "name": "stdout",
     "output_type": "stream",
     "text": [
      "MoviePy - Done.\n",
      "MoviePy - Writing audio in C:\\Users\\Welcome\\Dhairya-Python\\sarcasm detection\\audio_utter\\2_373.mp3\n"
     ]
    },
    {
     "name": "stderr",
     "output_type": "stream",
     "text": [
      "                                                     \r"
     ]
    },
    {
     "name": "stdout",
     "output_type": "stream",
     "text": [
      "MoviePy - Done.\n",
      "MoviePy - Writing audio in C:\\Users\\Welcome\\Dhairya-Python\\sarcasm detection\\audio_utter\\2_374.mp3\n"
     ]
    },
    {
     "name": "stderr",
     "output_type": "stream",
     "text": [
      "                                                     \r"
     ]
    },
    {
     "name": "stdout",
     "output_type": "stream",
     "text": [
      "MoviePy - Done.\n",
      "MoviePy - Writing audio in C:\\Users\\Welcome\\Dhairya-Python\\sarcasm detection\\audio_utter\\2_375.mp3\n"
     ]
    },
    {
     "name": "stderr",
     "output_type": "stream",
     "text": [
      "                                                     \r"
     ]
    },
    {
     "name": "stdout",
     "output_type": "stream",
     "text": [
      "MoviePy - Done.\n",
      "MoviePy - Writing audio in C:\\Users\\Welcome\\Dhairya-Python\\sarcasm detection\\audio_utter\\2_376.mp3\n"
     ]
    },
    {
     "name": "stderr",
     "output_type": "stream",
     "text": [
      "                                                     \r"
     ]
    },
    {
     "name": "stdout",
     "output_type": "stream",
     "text": [
      "MoviePy - Done.\n",
      "MoviePy - Writing audio in C:\\Users\\Welcome\\Dhairya-Python\\sarcasm detection\\audio_utter\\2_377.mp3\n"
     ]
    },
    {
     "name": "stderr",
     "output_type": "stream",
     "text": [
      "                                                     \r"
     ]
    },
    {
     "name": "stdout",
     "output_type": "stream",
     "text": [
      "MoviePy - Done.\n",
      "MoviePy - Writing audio in C:\\Users\\Welcome\\Dhairya-Python\\sarcasm detection\\audio_utter\\2_378.mp3\n"
     ]
    },
    {
     "name": "stderr",
     "output_type": "stream",
     "text": [
      "                                                     \r"
     ]
    },
    {
     "name": "stdout",
     "output_type": "stream",
     "text": [
      "MoviePy - Done.\n",
      "MoviePy - Writing audio in C:\\Users\\Welcome\\Dhairya-Python\\sarcasm detection\\audio_utter\\2_38.mp3\n"
     ]
    },
    {
     "name": "stderr",
     "output_type": "stream",
     "text": [
      "                                                     "
     ]
    },
    {
     "name": "stdout",
     "output_type": "stream",
     "text": [
      "MoviePy - Done.\n"
     ]
    },
    {
     "name": "stderr",
     "output_type": "stream",
     "text": [
      "\r"
     ]
    },
    {
     "name": "stdout",
     "output_type": "stream",
     "text": [
      "MoviePy - Writing audio in C:\\Users\\Welcome\\Dhairya-Python\\sarcasm detection\\audio_utter\\2_380.mp3\n"
     ]
    },
    {
     "name": "stderr",
     "output_type": "stream",
     "text": [
      "                                                     \r"
     ]
    },
    {
     "name": "stdout",
     "output_type": "stream",
     "text": [
      "MoviePy - Done.\n",
      "MoviePy - Writing audio in C:\\Users\\Welcome\\Dhairya-Python\\sarcasm detection\\audio_utter\\2_381.mp3\n"
     ]
    },
    {
     "name": "stderr",
     "output_type": "stream",
     "text": [
      "                                                     \r"
     ]
    },
    {
     "name": "stdout",
     "output_type": "stream",
     "text": [
      "MoviePy - Done.\n",
      "MoviePy - Writing audio in C:\\Users\\Welcome\\Dhairya-Python\\sarcasm detection\\audio_utter\\2_385.mp3\n"
     ]
    },
    {
     "name": "stderr",
     "output_type": "stream",
     "text": [
      "                                                     "
     ]
    },
    {
     "name": "stdout",
     "output_type": "stream",
     "text": [
      "MoviePy - Done.\n"
     ]
    },
    {
     "name": "stderr",
     "output_type": "stream",
     "text": [
      "\r"
     ]
    },
    {
     "name": "stdout",
     "output_type": "stream",
     "text": [
      "MoviePy - Writing audio in C:\\Users\\Welcome\\Dhairya-Python\\sarcasm detection\\audio_utter\\2_387.mp3\n"
     ]
    },
    {
     "name": "stderr",
     "output_type": "stream",
     "text": [
      "                                                     \r"
     ]
    },
    {
     "name": "stdout",
     "output_type": "stream",
     "text": [
      "MoviePy - Done.\n",
      "MoviePy - Writing audio in C:\\Users\\Welcome\\Dhairya-Python\\sarcasm detection\\audio_utter\\2_388.mp3\n"
     ]
    },
    {
     "name": "stderr",
     "output_type": "stream",
     "text": [
      "                                                     \r"
     ]
    },
    {
     "name": "stdout",
     "output_type": "stream",
     "text": [
      "MoviePy - Done.\n",
      "MoviePy - Writing audio in C:\\Users\\Welcome\\Dhairya-Python\\sarcasm detection\\audio_utter\\2_389.mp3\n"
     ]
    },
    {
     "name": "stderr",
     "output_type": "stream",
     "text": [
      "                                                     \r"
     ]
    },
    {
     "name": "stdout",
     "output_type": "stream",
     "text": [
      "MoviePy - Done.\n",
      "MoviePy - Writing audio in C:\\Users\\Welcome\\Dhairya-Python\\sarcasm detection\\audio_utter\\2_39.mp3\n"
     ]
    },
    {
     "name": "stderr",
     "output_type": "stream",
     "text": [
      "                                                     \r"
     ]
    },
    {
     "name": "stdout",
     "output_type": "stream",
     "text": [
      "MoviePy - Done.\n",
      "MoviePy - Writing audio in C:\\Users\\Welcome\\Dhairya-Python\\sarcasm detection\\audio_utter\\2_390.mp3\n"
     ]
    },
    {
     "name": "stderr",
     "output_type": "stream",
     "text": [
      "                                                     \r"
     ]
    },
    {
     "name": "stdout",
     "output_type": "stream",
     "text": [
      "MoviePy - Done.\n",
      "MoviePy - Writing audio in C:\\Users\\Welcome\\Dhairya-Python\\sarcasm detection\\audio_utter\\2_392.mp3\n"
     ]
    },
    {
     "name": "stderr",
     "output_type": "stream",
     "text": [
      "                                                     \r"
     ]
    },
    {
     "name": "stdout",
     "output_type": "stream",
     "text": [
      "MoviePy - Done.\n",
      "MoviePy - Writing audio in C:\\Users\\Welcome\\Dhairya-Python\\sarcasm detection\\audio_utter\\2_393.mp3\n"
     ]
    },
    {
     "name": "stderr",
     "output_type": "stream",
     "text": [
      "                                                     "
     ]
    },
    {
     "name": "stdout",
     "output_type": "stream",
     "text": [
      "MoviePy - Done.\n"
     ]
    },
    {
     "name": "stderr",
     "output_type": "stream",
     "text": [
      "\r"
     ]
    },
    {
     "name": "stdout",
     "output_type": "stream",
     "text": [
      "MoviePy - Writing audio in C:\\Users\\Welcome\\Dhairya-Python\\sarcasm detection\\audio_utter\\2_397.mp3\n"
     ]
    },
    {
     "name": "stderr",
     "output_type": "stream",
     "text": [
      "                                                     "
     ]
    },
    {
     "name": "stdout",
     "output_type": "stream",
     "text": [
      "MoviePy - Done.\n"
     ]
    },
    {
     "name": "stderr",
     "output_type": "stream",
     "text": [
      "\r"
     ]
    },
    {
     "name": "stdout",
     "output_type": "stream",
     "text": [
      "MoviePy - Writing audio in C:\\Users\\Welcome\\Dhairya-Python\\sarcasm detection\\audio_utter\\2_398.mp3\n"
     ]
    },
    {
     "name": "stderr",
     "output_type": "stream",
     "text": [
      "                                                     \r"
     ]
    },
    {
     "name": "stdout",
     "output_type": "stream",
     "text": [
      "MoviePy - Done.\n",
      "MoviePy - Writing audio in C:\\Users\\Welcome\\Dhairya-Python\\sarcasm detection\\audio_utter\\2_400.mp3\n"
     ]
    },
    {
     "name": "stderr",
     "output_type": "stream",
     "text": [
      "                                                     \r"
     ]
    },
    {
     "name": "stdout",
     "output_type": "stream",
     "text": [
      "MoviePy - Done.\n",
      "MoviePy - Writing audio in C:\\Users\\Welcome\\Dhairya-Python\\sarcasm detection\\audio_utter\\2_405.mp3\n"
     ]
    },
    {
     "name": "stderr",
     "output_type": "stream",
     "text": [
      "                                                     \r"
     ]
    },
    {
     "name": "stdout",
     "output_type": "stream",
     "text": [
      "MoviePy - Done.\n",
      "MoviePy - Writing audio in C:\\Users\\Welcome\\Dhairya-Python\\sarcasm detection\\audio_utter\\2_406.mp3\n"
     ]
    },
    {
     "name": "stderr",
     "output_type": "stream",
     "text": [
      "                                                     \r"
     ]
    },
    {
     "name": "stdout",
     "output_type": "stream",
     "text": [
      "MoviePy - Done.\n",
      "MoviePy - Writing audio in C:\\Users\\Welcome\\Dhairya-Python\\sarcasm detection\\audio_utter\\2_407.mp3\n"
     ]
    },
    {
     "name": "stderr",
     "output_type": "stream",
     "text": [
      "                                                     "
     ]
    },
    {
     "name": "stdout",
     "output_type": "stream",
     "text": [
      "MoviePy - Done.\n"
     ]
    },
    {
     "name": "stderr",
     "output_type": "stream",
     "text": [
      "\r"
     ]
    },
    {
     "name": "stdout",
     "output_type": "stream",
     "text": [
      "MoviePy - Writing audio in C:\\Users\\Welcome\\Dhairya-Python\\sarcasm detection\\audio_utter\\2_408.mp3\n"
     ]
    },
    {
     "name": "stderr",
     "output_type": "stream",
     "text": [
      "                                                     \r"
     ]
    },
    {
     "name": "stdout",
     "output_type": "stream",
     "text": [
      "MoviePy - Done.\n",
      "MoviePy - Writing audio in C:\\Users\\Welcome\\Dhairya-Python\\sarcasm detection\\audio_utter\\2_409.mp3\n"
     ]
    },
    {
     "name": "stderr",
     "output_type": "stream",
     "text": [
      "                                                     \r"
     ]
    },
    {
     "name": "stdout",
     "output_type": "stream",
     "text": [
      "MoviePy - Done.\n",
      "MoviePy - Writing audio in C:\\Users\\Welcome\\Dhairya-Python\\sarcasm detection\\audio_utter\\2_410.mp3\n"
     ]
    },
    {
     "name": "stderr",
     "output_type": "stream",
     "text": [
      "                                                     "
     ]
    },
    {
     "name": "stdout",
     "output_type": "stream",
     "text": [
      "MoviePy - Done."
     ]
    },
    {
     "name": "stderr",
     "output_type": "stream",
     "text": [
      "\r"
     ]
    },
    {
     "name": "stdout",
     "output_type": "stream",
     "text": [
      "\n",
      "MoviePy - Writing audio in C:\\Users\\Welcome\\Dhairya-Python\\sarcasm detection\\audio_utter\\2_413.mp3\n"
     ]
    },
    {
     "name": "stderr",
     "output_type": "stream",
     "text": [
      "                                                     \r"
     ]
    },
    {
     "name": "stdout",
     "output_type": "stream",
     "text": [
      "MoviePy - Done.\n",
      "MoviePy - Writing audio in C:\\Users\\Welcome\\Dhairya-Python\\sarcasm detection\\audio_utter\\2_415.mp3\n"
     ]
    },
    {
     "name": "stderr",
     "output_type": "stream",
     "text": [
      "                                                     \r"
     ]
    },
    {
     "name": "stdout",
     "output_type": "stream",
     "text": [
      "MoviePy - Done.\n",
      "MoviePy - Writing audio in C:\\Users\\Welcome\\Dhairya-Python\\sarcasm detection\\audio_utter\\2_416.mp3\n"
     ]
    },
    {
     "name": "stderr",
     "output_type": "stream",
     "text": [
      "                                                     \r"
     ]
    },
    {
     "name": "stdout",
     "output_type": "stream",
     "text": [
      "MoviePy - Done.\n",
      "MoviePy - Writing audio in C:\\Users\\Welcome\\Dhairya-Python\\sarcasm detection\\audio_utter\\2_419.mp3\n"
     ]
    },
    {
     "name": "stderr",
     "output_type": "stream",
     "text": [
      "                                                     "
     ]
    },
    {
     "name": "stdout",
     "output_type": "stream",
     "text": [
      "MoviePy - Done.\n"
     ]
    },
    {
     "name": "stderr",
     "output_type": "stream",
     "text": [
      "\r"
     ]
    },
    {
     "name": "stdout",
     "output_type": "stream",
     "text": [
      "MoviePy - Writing audio in C:\\Users\\Welcome\\Dhairya-Python\\sarcasm detection\\audio_utter\\2_42.mp3\n"
     ]
    },
    {
     "name": "stderr",
     "output_type": "stream",
     "text": [
      "                                                     \r"
     ]
    },
    {
     "name": "stdout",
     "output_type": "stream",
     "text": [
      "MoviePy - Done.\n",
      "MoviePy - Writing audio in C:\\Users\\Welcome\\Dhairya-Python\\sarcasm detection\\audio_utter\\2_420.mp3\n"
     ]
    },
    {
     "name": "stderr",
     "output_type": "stream",
     "text": [
      "                                                     \r"
     ]
    },
    {
     "name": "stdout",
     "output_type": "stream",
     "text": [
      "MoviePy - Done.\n",
      "MoviePy - Writing audio in C:\\Users\\Welcome\\Dhairya-Python\\sarcasm detection\\audio_utter\\2_421.mp3\n"
     ]
    },
    {
     "name": "stderr",
     "output_type": "stream",
     "text": [
      "                                                     \r"
     ]
    },
    {
     "name": "stdout",
     "output_type": "stream",
     "text": [
      "MoviePy - Done.\n",
      "MoviePy - Writing audio in C:\\Users\\Welcome\\Dhairya-Python\\sarcasm detection\\audio_utter\\2_422.mp3\n"
     ]
    },
    {
     "name": "stderr",
     "output_type": "stream",
     "text": [
      "                                                     \r"
     ]
    },
    {
     "name": "stdout",
     "output_type": "stream",
     "text": [
      "MoviePy - Done.\n",
      "MoviePy - Writing audio in C:\\Users\\Welcome\\Dhairya-Python\\sarcasm detection\\audio_utter\\2_423.mp3\n"
     ]
    },
    {
     "name": "stderr",
     "output_type": "stream",
     "text": [
      "                                                     \r"
     ]
    },
    {
     "name": "stdout",
     "output_type": "stream",
     "text": [
      "MoviePy - Done.\n",
      "MoviePy - Writing audio in C:\\Users\\Welcome\\Dhairya-Python\\sarcasm detection\\audio_utter\\2_425.mp3\n"
     ]
    },
    {
     "name": "stderr",
     "output_type": "stream",
     "text": [
      "                                                     \r"
     ]
    },
    {
     "name": "stdout",
     "output_type": "stream",
     "text": [
      "MoviePy - Done.\n",
      "MoviePy - Writing audio in C:\\Users\\Welcome\\Dhairya-Python\\sarcasm detection\\audio_utter\\2_426.mp3\n"
     ]
    },
    {
     "name": "stderr",
     "output_type": "stream",
     "text": [
      "                                                     \r"
     ]
    },
    {
     "name": "stdout",
     "output_type": "stream",
     "text": [
      "MoviePy - Done.\n",
      "MoviePy - Writing audio in C:\\Users\\Welcome\\Dhairya-Python\\sarcasm detection\\audio_utter\\2_427.mp3\n"
     ]
    },
    {
     "name": "stderr",
     "output_type": "stream",
     "text": [
      "                                                     \r"
     ]
    },
    {
     "name": "stdout",
     "output_type": "stream",
     "text": [
      "MoviePy - Done.\n",
      "MoviePy - Writing audio in C:\\Users\\Welcome\\Dhairya-Python\\sarcasm detection\\audio_utter\\2_428.mp3\n"
     ]
    },
    {
     "name": "stderr",
     "output_type": "stream",
     "text": [
      "                                                     \r"
     ]
    },
    {
     "name": "stdout",
     "output_type": "stream",
     "text": [
      "MoviePy - Done.\n",
      "MoviePy - Writing audio in C:\\Users\\Welcome\\Dhairya-Python\\sarcasm detection\\audio_utter\\2_429.mp3\n"
     ]
    },
    {
     "name": "stderr",
     "output_type": "stream",
     "text": [
      "                                                     \r"
     ]
    },
    {
     "name": "stdout",
     "output_type": "stream",
     "text": [
      "MoviePy - Done.\n",
      "MoviePy - Writing audio in C:\\Users\\Welcome\\Dhairya-Python\\sarcasm detection\\audio_utter\\2_43.mp3\n"
     ]
    },
    {
     "name": "stderr",
     "output_type": "stream",
     "text": [
      "                                                     \r"
     ]
    },
    {
     "name": "stdout",
     "output_type": "stream",
     "text": [
      "MoviePy - Done.\n",
      "MoviePy - Writing audio in C:\\Users\\Welcome\\Dhairya-Python\\sarcasm detection\\audio_utter\\2_430.mp3\n"
     ]
    },
    {
     "name": "stderr",
     "output_type": "stream",
     "text": [
      "                                                     \r"
     ]
    },
    {
     "name": "stdout",
     "output_type": "stream",
     "text": [
      "MoviePy - Done.\n",
      "MoviePy - Writing audio in C:\\Users\\Welcome\\Dhairya-Python\\sarcasm detection\\audio_utter\\2_431.mp3\n"
     ]
    },
    {
     "name": "stderr",
     "output_type": "stream",
     "text": [
      "                                                     \r"
     ]
    },
    {
     "name": "stdout",
     "output_type": "stream",
     "text": [
      "MoviePy - Done.\n",
      "MoviePy - Writing audio in C:\\Users\\Welcome\\Dhairya-Python\\sarcasm detection\\audio_utter\\2_433.mp3\n"
     ]
    },
    {
     "name": "stderr",
     "output_type": "stream",
     "text": [
      "                                                     \r"
     ]
    },
    {
     "name": "stdout",
     "output_type": "stream",
     "text": [
      "MoviePy - Done.\n",
      "MoviePy - Writing audio in C:\\Users\\Welcome\\Dhairya-Python\\sarcasm detection\\audio_utter\\2_434.mp3\n"
     ]
    },
    {
     "name": "stderr",
     "output_type": "stream",
     "text": [
      "                                                     \r"
     ]
    },
    {
     "name": "stdout",
     "output_type": "stream",
     "text": [
      "MoviePy - Done.\n",
      "MoviePy - Writing audio in C:\\Users\\Welcome\\Dhairya-Python\\sarcasm detection\\audio_utter\\2_435.mp3\n"
     ]
    },
    {
     "name": "stderr",
     "output_type": "stream",
     "text": [
      "                                                     \r"
     ]
    },
    {
     "name": "stdout",
     "output_type": "stream",
     "text": [
      "MoviePy - Done.\n",
      "MoviePy - Writing audio in C:\\Users\\Welcome\\Dhairya-Python\\sarcasm detection\\audio_utter\\2_437.mp3\n"
     ]
    },
    {
     "name": "stderr",
     "output_type": "stream",
     "text": [
      "                                                     \r"
     ]
    },
    {
     "name": "stdout",
     "output_type": "stream",
     "text": [
      "MoviePy - Done.\n",
      "MoviePy - Writing audio in C:\\Users\\Welcome\\Dhairya-Python\\sarcasm detection\\audio_utter\\2_438.mp3\n"
     ]
    },
    {
     "name": "stderr",
     "output_type": "stream",
     "text": [
      "                                                     \r"
     ]
    },
    {
     "name": "stdout",
     "output_type": "stream",
     "text": [
      "MoviePy - Done.\n",
      "MoviePy - Writing audio in C:\\Users\\Welcome\\Dhairya-Python\\sarcasm detection\\audio_utter\\2_439.mp3\n"
     ]
    },
    {
     "name": "stderr",
     "output_type": "stream",
     "text": [
      "                                                     \r"
     ]
    },
    {
     "name": "stdout",
     "output_type": "stream",
     "text": [
      "MoviePy - Done.\n",
      "MoviePy - Writing audio in C:\\Users\\Welcome\\Dhairya-Python\\sarcasm detection\\audio_utter\\2_44.mp3\n"
     ]
    },
    {
     "name": "stderr",
     "output_type": "stream",
     "text": [
      "                                                     \r"
     ]
    },
    {
     "name": "stdout",
     "output_type": "stream",
     "text": [
      "MoviePy - Done.\n",
      "MoviePy - Writing audio in C:\\Users\\Welcome\\Dhairya-Python\\sarcasm detection\\audio_utter\\2_440.mp3\n"
     ]
    },
    {
     "name": "stderr",
     "output_type": "stream",
     "text": [
      "                                                     \r"
     ]
    },
    {
     "name": "stdout",
     "output_type": "stream",
     "text": [
      "MoviePy - Done.\n",
      "MoviePy - Writing audio in C:\\Users\\Welcome\\Dhairya-Python\\sarcasm detection\\audio_utter\\2_441.mp3\n"
     ]
    },
    {
     "name": "stderr",
     "output_type": "stream",
     "text": [
      "                                                     \r"
     ]
    },
    {
     "name": "stdout",
     "output_type": "stream",
     "text": [
      "MoviePy - Done.\n",
      "MoviePy - Writing audio in C:\\Users\\Welcome\\Dhairya-Python\\sarcasm detection\\audio_utter\\2_442.mp3\n"
     ]
    },
    {
     "name": "stderr",
     "output_type": "stream",
     "text": [
      "                                                     \r"
     ]
    },
    {
     "name": "stdout",
     "output_type": "stream",
     "text": [
      "MoviePy - Done.\n",
      "MoviePy - Writing audio in C:\\Users\\Welcome\\Dhairya-Python\\sarcasm detection\\audio_utter\\2_443.mp3\n"
     ]
    },
    {
     "name": "stderr",
     "output_type": "stream",
     "text": [
      "                                                     \r"
     ]
    },
    {
     "name": "stdout",
     "output_type": "stream",
     "text": [
      "MoviePy - Done.\n",
      "MoviePy - Writing audio in C:\\Users\\Welcome\\Dhairya-Python\\sarcasm detection\\audio_utter\\2_444.mp3\n"
     ]
    },
    {
     "name": "stderr",
     "output_type": "stream",
     "text": [
      "                                                     \r"
     ]
    },
    {
     "name": "stdout",
     "output_type": "stream",
     "text": [
      "MoviePy - Done.\n",
      "MoviePy - Writing audio in C:\\Users\\Welcome\\Dhairya-Python\\sarcasm detection\\audio_utter\\2_445.mp3\n"
     ]
    },
    {
     "name": "stderr",
     "output_type": "stream",
     "text": [
      "                                                     "
     ]
    },
    {
     "name": "stdout",
     "output_type": "stream",
     "text": [
      "MoviePy - Done.\n"
     ]
    },
    {
     "name": "stderr",
     "output_type": "stream",
     "text": [
      "\r"
     ]
    },
    {
     "name": "stdout",
     "output_type": "stream",
     "text": [
      "MoviePy - Writing audio in C:\\Users\\Welcome\\Dhairya-Python\\sarcasm detection\\audio_utter\\2_446.mp3\n"
     ]
    },
    {
     "name": "stderr",
     "output_type": "stream",
     "text": [
      "                                                     \r"
     ]
    },
    {
     "name": "stdout",
     "output_type": "stream",
     "text": [
      "MoviePy - Done.\n",
      "MoviePy - Writing audio in C:\\Users\\Welcome\\Dhairya-Python\\sarcasm detection\\audio_utter\\2_447.mp3\n"
     ]
    },
    {
     "name": "stderr",
     "output_type": "stream",
     "text": [
      "                                                     \r"
     ]
    },
    {
     "name": "stdout",
     "output_type": "stream",
     "text": [
      "MoviePy - Done.\n",
      "MoviePy - Writing audio in C:\\Users\\Welcome\\Dhairya-Python\\sarcasm detection\\audio_utter\\2_448.mp3\n"
     ]
    },
    {
     "name": "stderr",
     "output_type": "stream",
     "text": [
      "                                                     \r"
     ]
    },
    {
     "name": "stdout",
     "output_type": "stream",
     "text": [
      "MoviePy - Done.\n",
      "MoviePy - Writing audio in C:\\Users\\Welcome\\Dhairya-Python\\sarcasm detection\\audio_utter\\2_449.mp3\n"
     ]
    },
    {
     "name": "stderr",
     "output_type": "stream",
     "text": [
      "                                                     \r"
     ]
    },
    {
     "name": "stdout",
     "output_type": "stream",
     "text": [
      "MoviePy - Done.\n",
      "MoviePy - Writing audio in C:\\Users\\Welcome\\Dhairya-Python\\sarcasm detection\\audio_utter\\2_45.mp3\n"
     ]
    },
    {
     "name": "stderr",
     "output_type": "stream",
     "text": [
      "                                                     \r"
     ]
    },
    {
     "name": "stdout",
     "output_type": "stream",
     "text": [
      "MoviePy - Done.\n",
      "MoviePy - Writing audio in C:\\Users\\Welcome\\Dhairya-Python\\sarcasm detection\\audio_utter\\2_450.mp3\n"
     ]
    },
    {
     "name": "stderr",
     "output_type": "stream",
     "text": [
      "                                                     \r"
     ]
    },
    {
     "name": "stdout",
     "output_type": "stream",
     "text": [
      "MoviePy - Done.\n",
      "MoviePy - Writing audio in C:\\Users\\Welcome\\Dhairya-Python\\sarcasm detection\\audio_utter\\2_454.mp3\n"
     ]
    },
    {
     "name": "stderr",
     "output_type": "stream",
     "text": [
      "                                                     \r"
     ]
    },
    {
     "name": "stdout",
     "output_type": "stream",
     "text": [
      "MoviePy - Done.\n",
      "MoviePy - Writing audio in C:\\Users\\Welcome\\Dhairya-Python\\sarcasm detection\\audio_utter\\2_456.mp3\n"
     ]
    },
    {
     "name": "stderr",
     "output_type": "stream",
     "text": [
      "                                                     \r"
     ]
    },
    {
     "name": "stdout",
     "output_type": "stream",
     "text": [
      "MoviePy - Done.\n",
      "MoviePy - Writing audio in C:\\Users\\Welcome\\Dhairya-Python\\sarcasm detection\\audio_utter\\2_457.mp3\n"
     ]
    },
    {
     "name": "stderr",
     "output_type": "stream",
     "text": [
      "                                                     \r"
     ]
    },
    {
     "name": "stdout",
     "output_type": "stream",
     "text": [
      "MoviePy - Done.\n",
      "MoviePy - Writing audio in C:\\Users\\Welcome\\Dhairya-Python\\sarcasm detection\\audio_utter\\2_458.mp3\n"
     ]
    },
    {
     "name": "stderr",
     "output_type": "stream",
     "text": [
      "                                                     "
     ]
    },
    {
     "name": "stdout",
     "output_type": "stream",
     "text": [
      "MoviePy - Done.\n"
     ]
    },
    {
     "name": "stderr",
     "output_type": "stream",
     "text": [
      "\r"
     ]
    },
    {
     "name": "stdout",
     "output_type": "stream",
     "text": [
      "MoviePy - Writing audio in C:\\Users\\Welcome\\Dhairya-Python\\sarcasm detection\\audio_utter\\2_461.mp3\n"
     ]
    },
    {
     "name": "stderr",
     "output_type": "stream",
     "text": [
      "                                                     \r"
     ]
    },
    {
     "name": "stdout",
     "output_type": "stream",
     "text": [
      "MoviePy - Done.\n",
      "MoviePy - Writing audio in C:\\Users\\Welcome\\Dhairya-Python\\sarcasm detection\\audio_utter\\2_462.mp3\n"
     ]
    },
    {
     "name": "stderr",
     "output_type": "stream",
     "text": [
      "                                                     \r"
     ]
    },
    {
     "name": "stdout",
     "output_type": "stream",
     "text": [
      "MoviePy - Done.\n",
      "MoviePy - Writing audio in C:\\Users\\Welcome\\Dhairya-Python\\sarcasm detection\\audio_utter\\2_463.mp3\n"
     ]
    },
    {
     "name": "stderr",
     "output_type": "stream",
     "text": [
      "                                                     "
     ]
    },
    {
     "name": "stdout",
     "output_type": "stream",
     "text": [
      "MoviePy - Done."
     ]
    },
    {
     "name": "stderr",
     "output_type": "stream",
     "text": [
      "\r"
     ]
    },
    {
     "name": "stdout",
     "output_type": "stream",
     "text": [
      "\n",
      "MoviePy - Writing audio in C:\\Users\\Welcome\\Dhairya-Python\\sarcasm detection\\audio_utter\\2_464.mp3\n"
     ]
    },
    {
     "name": "stderr",
     "output_type": "stream",
     "text": [
      "                                                     \r"
     ]
    },
    {
     "name": "stdout",
     "output_type": "stream",
     "text": [
      "MoviePy - Done.\n",
      "MoviePy - Writing audio in C:\\Users\\Welcome\\Dhairya-Python\\sarcasm detection\\audio_utter\\2_465.mp3\n"
     ]
    },
    {
     "name": "stderr",
     "output_type": "stream",
     "text": [
      "                                                     \r"
     ]
    },
    {
     "name": "stdout",
     "output_type": "stream",
     "text": [
      "MoviePy - Done.\n",
      "MoviePy - Writing audio in C:\\Users\\Welcome\\Dhairya-Python\\sarcasm detection\\audio_utter\\2_467.mp3\n"
     ]
    },
    {
     "name": "stderr",
     "output_type": "stream",
     "text": [
      "                                                     "
     ]
    },
    {
     "name": "stdout",
     "output_type": "stream",
     "text": [
      "MoviePy - Done.\n"
     ]
    },
    {
     "name": "stderr",
     "output_type": "stream",
     "text": [
      "\r"
     ]
    },
    {
     "name": "stdout",
     "output_type": "stream",
     "text": [
      "MoviePy - Writing audio in C:\\Users\\Welcome\\Dhairya-Python\\sarcasm detection\\audio_utter\\2_471.mp3\n"
     ]
    },
    {
     "name": "stderr",
     "output_type": "stream",
     "text": [
      "                                                     \r"
     ]
    },
    {
     "name": "stdout",
     "output_type": "stream",
     "text": [
      "MoviePy - Done.\n",
      "MoviePy - Writing audio in C:\\Users\\Welcome\\Dhairya-Python\\sarcasm detection\\audio_utter\\2_472.mp3\n"
     ]
    },
    {
     "name": "stderr",
     "output_type": "stream",
     "text": [
      "                                                     \r"
     ]
    },
    {
     "name": "stdout",
     "output_type": "stream",
     "text": [
      "MoviePy - Done.\n",
      "MoviePy - Writing audio in C:\\Users\\Welcome\\Dhairya-Python\\sarcasm detection\\audio_utter\\2_473.mp3\n"
     ]
    },
    {
     "name": "stderr",
     "output_type": "stream",
     "text": [
      "                                                     "
     ]
    },
    {
     "name": "stdout",
     "output_type": "stream",
     "text": [
      "MoviePy - Done."
     ]
    },
    {
     "name": "stderr",
     "output_type": "stream",
     "text": [
      "\r"
     ]
    },
    {
     "name": "stdout",
     "output_type": "stream",
     "text": [
      "\n",
      "MoviePy - Writing audio in C:\\Users\\Welcome\\Dhairya-Python\\sarcasm detection\\audio_utter\\2_474.mp3\n"
     ]
    },
    {
     "name": "stderr",
     "output_type": "stream",
     "text": [
      "                                                     "
     ]
    },
    {
     "name": "stdout",
     "output_type": "stream",
     "text": [
      "MoviePy - Done."
     ]
    },
    {
     "name": "stderr",
     "output_type": "stream",
     "text": [
      "\r"
     ]
    },
    {
     "name": "stdout",
     "output_type": "stream",
     "text": [
      "\n",
      "MoviePy - Writing audio in C:\\Users\\Welcome\\Dhairya-Python\\sarcasm detection\\audio_utter\\2_475.mp3\n"
     ]
    },
    {
     "name": "stderr",
     "output_type": "stream",
     "text": [
      "                                                     \r"
     ]
    },
    {
     "name": "stdout",
     "output_type": "stream",
     "text": [
      "MoviePy - Done.\n",
      "MoviePy - Writing audio in C:\\Users\\Welcome\\Dhairya-Python\\sarcasm detection\\audio_utter\\2_477.mp3\n"
     ]
    },
    {
     "name": "stderr",
     "output_type": "stream",
     "text": [
      "                                                     \r"
     ]
    },
    {
     "name": "stdout",
     "output_type": "stream",
     "text": [
      "MoviePy - Done.\n",
      "MoviePy - Writing audio in C:\\Users\\Welcome\\Dhairya-Python\\sarcasm detection\\audio_utter\\2_478.mp3\n"
     ]
    },
    {
     "name": "stderr",
     "output_type": "stream",
     "text": [
      "                                                     \r"
     ]
    },
    {
     "name": "stdout",
     "output_type": "stream",
     "text": [
      "MoviePy - Done.\n",
      "MoviePy - Writing audio in C:\\Users\\Welcome\\Dhairya-Python\\sarcasm detection\\audio_utter\\2_479.mp3\n"
     ]
    },
    {
     "name": "stderr",
     "output_type": "stream",
     "text": [
      "                                                     \r"
     ]
    },
    {
     "name": "stdout",
     "output_type": "stream",
     "text": [
      "MoviePy - Done.\n",
      "MoviePy - Writing audio in C:\\Users\\Welcome\\Dhairya-Python\\sarcasm detection\\audio_utter\\2_48.mp3\n"
     ]
    },
    {
     "name": "stderr",
     "output_type": "stream",
     "text": [
      "                                                     \r"
     ]
    },
    {
     "name": "stdout",
     "output_type": "stream",
     "text": [
      "MoviePy - Done.\n",
      "MoviePy - Writing audio in C:\\Users\\Welcome\\Dhairya-Python\\sarcasm detection\\audio_utter\\2_481.mp3\n"
     ]
    },
    {
     "name": "stderr",
     "output_type": "stream",
     "text": [
      "                                                     "
     ]
    },
    {
     "name": "stdout",
     "output_type": "stream",
     "text": [
      "MoviePy - Done.\n"
     ]
    },
    {
     "name": "stderr",
     "output_type": "stream",
     "text": [
      "\r"
     ]
    },
    {
     "name": "stdout",
     "output_type": "stream",
     "text": [
      "MoviePy - Writing audio in C:\\Users\\Welcome\\Dhairya-Python\\sarcasm detection\\audio_utter\\2_482.mp3\n"
     ]
    },
    {
     "name": "stderr",
     "output_type": "stream",
     "text": [
      "                                                     \r"
     ]
    },
    {
     "name": "stdout",
     "output_type": "stream",
     "text": [
      "MoviePy - Done.\n",
      "MoviePy - Writing audio in C:\\Users\\Welcome\\Dhairya-Python\\sarcasm detection\\audio_utter\\2_484.mp3\n"
     ]
    },
    {
     "name": "stderr",
     "output_type": "stream",
     "text": [
      "                                                     \r"
     ]
    },
    {
     "name": "stdout",
     "output_type": "stream",
     "text": [
      "MoviePy - Done.\n",
      "MoviePy - Writing audio in C:\\Users\\Welcome\\Dhairya-Python\\sarcasm detection\\audio_utter\\2_485.mp3\n"
     ]
    },
    {
     "name": "stderr",
     "output_type": "stream",
     "text": [
      "                                                     \r"
     ]
    },
    {
     "name": "stdout",
     "output_type": "stream",
     "text": [
      "MoviePy - Done.\n",
      "MoviePy - Writing audio in C:\\Users\\Welcome\\Dhairya-Python\\sarcasm detection\\audio_utter\\2_486.mp3\n"
     ]
    },
    {
     "name": "stderr",
     "output_type": "stream",
     "text": [
      "                                                     \r"
     ]
    },
    {
     "name": "stdout",
     "output_type": "stream",
     "text": [
      "MoviePy - Done.\n",
      "MoviePy - Writing audio in C:\\Users\\Welcome\\Dhairya-Python\\sarcasm detection\\audio_utter\\2_487.mp3\n"
     ]
    },
    {
     "name": "stderr",
     "output_type": "stream",
     "text": [
      "                                                     \r"
     ]
    },
    {
     "name": "stdout",
     "output_type": "stream",
     "text": [
      "MoviePy - Done.\n",
      "MoviePy - Writing audio in C:\\Users\\Welcome\\Dhairya-Python\\sarcasm detection\\audio_utter\\2_488.mp3\n"
     ]
    },
    {
     "name": "stderr",
     "output_type": "stream",
     "text": [
      "                                                     \r"
     ]
    },
    {
     "name": "stdout",
     "output_type": "stream",
     "text": [
      "MoviePy - Done.\n",
      "MoviePy - Writing audio in C:\\Users\\Welcome\\Dhairya-Python\\sarcasm detection\\audio_utter\\2_489.mp3\n"
     ]
    },
    {
     "name": "stderr",
     "output_type": "stream",
     "text": [
      "                                                     \r"
     ]
    },
    {
     "name": "stdout",
     "output_type": "stream",
     "text": [
      "MoviePy - Done.\n",
      "MoviePy - Writing audio in C:\\Users\\Welcome\\Dhairya-Python\\sarcasm detection\\audio_utter\\2_49.mp3\n"
     ]
    },
    {
     "name": "stderr",
     "output_type": "stream",
     "text": [
      "                                                     \r"
     ]
    },
    {
     "name": "stdout",
     "output_type": "stream",
     "text": [
      "MoviePy - Done.\n",
      "MoviePy - Writing audio in C:\\Users\\Welcome\\Dhairya-Python\\sarcasm detection\\audio_utter\\2_490.mp3\n"
     ]
    },
    {
     "name": "stderr",
     "output_type": "stream",
     "text": [
      "                                                     \r"
     ]
    },
    {
     "name": "stdout",
     "output_type": "stream",
     "text": [
      "MoviePy - Done.\n",
      "MoviePy - Writing audio in C:\\Users\\Welcome\\Dhairya-Python\\sarcasm detection\\audio_utter\\2_491.mp3\n"
     ]
    },
    {
     "name": "stderr",
     "output_type": "stream",
     "text": [
      "                                                     \r"
     ]
    },
    {
     "name": "stdout",
     "output_type": "stream",
     "text": [
      "MoviePy - Done.\n",
      "MoviePy - Writing audio in C:\\Users\\Welcome\\Dhairya-Python\\sarcasm detection\\audio_utter\\2_492.mp3\n"
     ]
    },
    {
     "name": "stderr",
     "output_type": "stream",
     "text": [
      "                                                     \r"
     ]
    },
    {
     "name": "stdout",
     "output_type": "stream",
     "text": [
      "MoviePy - Done.\n",
      "MoviePy - Writing audio in C:\\Users\\Welcome\\Dhairya-Python\\sarcasm detection\\audio_utter\\2_493.mp3\n"
     ]
    },
    {
     "name": "stderr",
     "output_type": "stream",
     "text": [
      "                                                     \r"
     ]
    },
    {
     "name": "stdout",
     "output_type": "stream",
     "text": [
      "MoviePy - Done.\n",
      "MoviePy - Writing audio in C:\\Users\\Welcome\\Dhairya-Python\\sarcasm detection\\audio_utter\\2_494.mp3\n"
     ]
    },
    {
     "name": "stderr",
     "output_type": "stream",
     "text": [
      "                                                     \r"
     ]
    },
    {
     "name": "stdout",
     "output_type": "stream",
     "text": [
      "MoviePy - Done.\n",
      "MoviePy - Writing audio in C:\\Users\\Welcome\\Dhairya-Python\\sarcasm detection\\audio_utter\\2_495.mp3\n"
     ]
    },
    {
     "name": "stderr",
     "output_type": "stream",
     "text": [
      "                                                     \r"
     ]
    },
    {
     "name": "stdout",
     "output_type": "stream",
     "text": [
      "MoviePy - Done.\n",
      "MoviePy - Writing audio in C:\\Users\\Welcome\\Dhairya-Python\\sarcasm detection\\audio_utter\\2_498.mp3\n"
     ]
    },
    {
     "name": "stderr",
     "output_type": "stream",
     "text": [
      "                                                     \r"
     ]
    },
    {
     "name": "stdout",
     "output_type": "stream",
     "text": [
      "MoviePy - Done.\n",
      "MoviePy - Writing audio in C:\\Users\\Welcome\\Dhairya-Python\\sarcasm detection\\audio_utter\\2_499.mp3\n"
     ]
    },
    {
     "name": "stderr",
     "output_type": "stream",
     "text": [
      "                                                     "
     ]
    },
    {
     "name": "stdout",
     "output_type": "stream",
     "text": [
      "MoviePy - Done.\n"
     ]
    },
    {
     "name": "stderr",
     "output_type": "stream",
     "text": [
      "\r"
     ]
    },
    {
     "name": "stdout",
     "output_type": "stream",
     "text": [
      "MoviePy - Writing audio in C:\\Users\\Welcome\\Dhairya-Python\\sarcasm detection\\audio_utter\\2_50.mp3\n"
     ]
    },
    {
     "name": "stderr",
     "output_type": "stream",
     "text": [
      "                                                     \r"
     ]
    },
    {
     "name": "stdout",
     "output_type": "stream",
     "text": [
      "MoviePy - Done.\n",
      "MoviePy - Writing audio in C:\\Users\\Welcome\\Dhairya-Python\\sarcasm detection\\audio_utter\\2_500.mp3\n"
     ]
    },
    {
     "name": "stderr",
     "output_type": "stream",
     "text": [
      "                                                     \r"
     ]
    },
    {
     "name": "stdout",
     "output_type": "stream",
     "text": [
      "MoviePy - Done.\n",
      "MoviePy - Writing audio in C:\\Users\\Welcome\\Dhairya-Python\\sarcasm detection\\audio_utter\\2_502.mp3\n"
     ]
    },
    {
     "name": "stderr",
     "output_type": "stream",
     "text": [
      "                                                     \r"
     ]
    },
    {
     "name": "stdout",
     "output_type": "stream",
     "text": [
      "MoviePy - Done.\n",
      "MoviePy - Writing audio in C:\\Users\\Welcome\\Dhairya-Python\\sarcasm detection\\audio_utter\\2_504.mp3\n"
     ]
    },
    {
     "name": "stderr",
     "output_type": "stream",
     "text": [
      "                                                     \r"
     ]
    },
    {
     "name": "stdout",
     "output_type": "stream",
     "text": [
      "MoviePy - Done.\n",
      "MoviePy - Writing audio in C:\\Users\\Welcome\\Dhairya-Python\\sarcasm detection\\audio_utter\\2_505.mp3\n"
     ]
    },
    {
     "name": "stderr",
     "output_type": "stream",
     "text": [
      "                                                     \r"
     ]
    },
    {
     "name": "stdout",
     "output_type": "stream",
     "text": [
      "MoviePy - Done.\n",
      "MoviePy - Writing audio in C:\\Users\\Welcome\\Dhairya-Python\\sarcasm detection\\audio_utter\\2_506.mp3\n"
     ]
    },
    {
     "name": "stderr",
     "output_type": "stream",
     "text": [
      "                                                     \r"
     ]
    },
    {
     "name": "stdout",
     "output_type": "stream",
     "text": [
      "MoviePy - Done.\n",
      "MoviePy - Writing audio in C:\\Users\\Welcome\\Dhairya-Python\\sarcasm detection\\audio_utter\\2_507.mp3\n"
     ]
    },
    {
     "name": "stderr",
     "output_type": "stream",
     "text": [
      "                                                     \r"
     ]
    },
    {
     "name": "stdout",
     "output_type": "stream",
     "text": [
      "MoviePy - Done.\n",
      "MoviePy - Writing audio in C:\\Users\\Welcome\\Dhairya-Python\\sarcasm detection\\audio_utter\\2_508.mp3\n"
     ]
    },
    {
     "name": "stderr",
     "output_type": "stream",
     "text": [
      "                                                     \r"
     ]
    },
    {
     "name": "stdout",
     "output_type": "stream",
     "text": [
      "MoviePy - Done.\n",
      "MoviePy - Writing audio in C:\\Users\\Welcome\\Dhairya-Python\\sarcasm detection\\audio_utter\\2_509.mp3\n"
     ]
    },
    {
     "name": "stderr",
     "output_type": "stream",
     "text": [
      "                                                     \r"
     ]
    },
    {
     "name": "stdout",
     "output_type": "stream",
     "text": [
      "MoviePy - Done.\n",
      "MoviePy - Writing audio in C:\\Users\\Welcome\\Dhairya-Python\\sarcasm detection\\audio_utter\\2_51.mp3\n"
     ]
    },
    {
     "name": "stderr",
     "output_type": "stream",
     "text": [
      "                                                     \r"
     ]
    },
    {
     "name": "stdout",
     "output_type": "stream",
     "text": [
      "MoviePy - Done.\n",
      "MoviePy - Writing audio in C:\\Users\\Welcome\\Dhairya-Python\\sarcasm detection\\audio_utter\\2_511.mp3\n"
     ]
    },
    {
     "name": "stderr",
     "output_type": "stream",
     "text": [
      "                                                     \r"
     ]
    },
    {
     "name": "stdout",
     "output_type": "stream",
     "text": [
      "MoviePy - Done.\n",
      "MoviePy - Writing audio in C:\\Users\\Welcome\\Dhairya-Python\\sarcasm detection\\audio_utter\\2_512.mp3\n"
     ]
    },
    {
     "name": "stderr",
     "output_type": "stream",
     "text": [
      "                                                     \r"
     ]
    },
    {
     "name": "stdout",
     "output_type": "stream",
     "text": [
      "MoviePy - Done.\n",
      "MoviePy - Writing audio in C:\\Users\\Welcome\\Dhairya-Python\\sarcasm detection\\audio_utter\\2_514.mp3\n"
     ]
    },
    {
     "name": "stderr",
     "output_type": "stream",
     "text": [
      "                                                     \r"
     ]
    },
    {
     "name": "stdout",
     "output_type": "stream",
     "text": [
      "MoviePy - Done.\n",
      "MoviePy - Writing audio in C:\\Users\\Welcome\\Dhairya-Python\\sarcasm detection\\audio_utter\\2_517.mp3\n"
     ]
    },
    {
     "name": "stderr",
     "output_type": "stream",
     "text": [
      "                                                     "
     ]
    },
    {
     "name": "stdout",
     "output_type": "stream",
     "text": [
      "MoviePy - Done.\n"
     ]
    },
    {
     "name": "stderr",
     "output_type": "stream",
     "text": [
      "\r"
     ]
    },
    {
     "name": "stdout",
     "output_type": "stream",
     "text": [
      "MoviePy - Writing audio in C:\\Users\\Welcome\\Dhairya-Python\\sarcasm detection\\audio_utter\\2_518.mp3\n"
     ]
    },
    {
     "name": "stderr",
     "output_type": "stream",
     "text": [
      "                                                     \r"
     ]
    },
    {
     "name": "stdout",
     "output_type": "stream",
     "text": [
      "MoviePy - Done.\n",
      "MoviePy - Writing audio in C:\\Users\\Welcome\\Dhairya-Python\\sarcasm detection\\audio_utter\\2_521.mp3\n"
     ]
    },
    {
     "name": "stderr",
     "output_type": "stream",
     "text": [
      "                                                     "
     ]
    },
    {
     "name": "stdout",
     "output_type": "stream",
     "text": [
      "MoviePy - Done.\n"
     ]
    },
    {
     "name": "stderr",
     "output_type": "stream",
     "text": [
      "\r"
     ]
    },
    {
     "name": "stdout",
     "output_type": "stream",
     "text": [
      "MoviePy - Writing audio in C:\\Users\\Welcome\\Dhairya-Python\\sarcasm detection\\audio_utter\\2_522.mp3\n"
     ]
    },
    {
     "name": "stderr",
     "output_type": "stream",
     "text": [
      "                                                     "
     ]
    },
    {
     "name": "stdout",
     "output_type": "stream",
     "text": [
      "MoviePy - Done.\n"
     ]
    },
    {
     "name": "stderr",
     "output_type": "stream",
     "text": [
      "\r"
     ]
    },
    {
     "name": "stdout",
     "output_type": "stream",
     "text": [
      "MoviePy - Writing audio in C:\\Users\\Welcome\\Dhairya-Python\\sarcasm detection\\audio_utter\\2_523.mp3\n"
     ]
    },
    {
     "name": "stderr",
     "output_type": "stream",
     "text": [
      "                                                     \r"
     ]
    },
    {
     "name": "stdout",
     "output_type": "stream",
     "text": [
      "MoviePy - Done.\n",
      "MoviePy - Writing audio in C:\\Users\\Welcome\\Dhairya-Python\\sarcasm detection\\audio_utter\\2_524.mp3\n"
     ]
    },
    {
     "name": "stderr",
     "output_type": "stream",
     "text": [
      "                                                     \r"
     ]
    },
    {
     "name": "stdout",
     "output_type": "stream",
     "text": [
      "MoviePy - Done.\n",
      "MoviePy - Writing audio in C:\\Users\\Welcome\\Dhairya-Python\\sarcasm detection\\audio_utter\\2_525.mp3\n"
     ]
    },
    {
     "name": "stderr",
     "output_type": "stream",
     "text": [
      "                                                     "
     ]
    },
    {
     "name": "stdout",
     "output_type": "stream",
     "text": [
      "MoviePy - Done."
     ]
    },
    {
     "name": "stderr",
     "output_type": "stream",
     "text": [
      "\r"
     ]
    },
    {
     "name": "stdout",
     "output_type": "stream",
     "text": [
      "\n",
      "MoviePy - Writing audio in C:\\Users\\Welcome\\Dhairya-Python\\sarcasm detection\\audio_utter\\2_526.mp3\n"
     ]
    },
    {
     "name": "stderr",
     "output_type": "stream",
     "text": [
      "                                                     \r"
     ]
    },
    {
     "name": "stdout",
     "output_type": "stream",
     "text": [
      "MoviePy - Done.\n",
      "MoviePy - Writing audio in C:\\Users\\Welcome\\Dhairya-Python\\sarcasm detection\\audio_utter\\2_527.mp3\n"
     ]
    },
    {
     "name": "stderr",
     "output_type": "stream",
     "text": [
      "                                                     \r"
     ]
    },
    {
     "name": "stdout",
     "output_type": "stream",
     "text": [
      "MoviePy - Done.\n",
      "MoviePy - Writing audio in C:\\Users\\Welcome\\Dhairya-Python\\sarcasm detection\\audio_utter\\2_53.mp3\n"
     ]
    },
    {
     "name": "stderr",
     "output_type": "stream",
     "text": [
      "                                                     \r"
     ]
    },
    {
     "name": "stdout",
     "output_type": "stream",
     "text": [
      "MoviePy - Done.\n",
      "MoviePy - Writing audio in C:\\Users\\Welcome\\Dhairya-Python\\sarcasm detection\\audio_utter\\2_530.mp3\n"
     ]
    },
    {
     "name": "stderr",
     "output_type": "stream",
     "text": [
      "                                                     \r"
     ]
    },
    {
     "name": "stdout",
     "output_type": "stream",
     "text": [
      "MoviePy - Done.\n",
      "MoviePy - Writing audio in C:\\Users\\Welcome\\Dhairya-Python\\sarcasm detection\\audio_utter\\2_531.mp3\n"
     ]
    },
    {
     "name": "stderr",
     "output_type": "stream",
     "text": [
      "                                                     \r"
     ]
    },
    {
     "name": "stdout",
     "output_type": "stream",
     "text": [
      "MoviePy - Done.\n",
      "MoviePy - Writing audio in C:\\Users\\Welcome\\Dhairya-Python\\sarcasm detection\\audio_utter\\2_532.mp3\n"
     ]
    },
    {
     "name": "stderr",
     "output_type": "stream",
     "text": [
      "                                                     \r"
     ]
    },
    {
     "name": "stdout",
     "output_type": "stream",
     "text": [
      "MoviePy - Done.\n",
      "MoviePy - Writing audio in C:\\Users\\Welcome\\Dhairya-Python\\sarcasm detection\\audio_utter\\2_534.mp3\n"
     ]
    },
    {
     "name": "stderr",
     "output_type": "stream",
     "text": [
      "                                                     \r"
     ]
    },
    {
     "name": "stdout",
     "output_type": "stream",
     "text": [
      "MoviePy - Done.\n",
      "MoviePy - Writing audio in C:\\Users\\Welcome\\Dhairya-Python\\sarcasm detection\\audio_utter\\2_535.mp3\n"
     ]
    },
    {
     "name": "stderr",
     "output_type": "stream",
     "text": [
      "                                                     \r"
     ]
    },
    {
     "name": "stdout",
     "output_type": "stream",
     "text": [
      "MoviePy - Done.\n",
      "MoviePy - Writing audio in C:\\Users\\Welcome\\Dhairya-Python\\sarcasm detection\\audio_utter\\2_536.mp3\n"
     ]
    },
    {
     "name": "stderr",
     "output_type": "stream",
     "text": [
      "                                                     "
     ]
    },
    {
     "name": "stdout",
     "output_type": "stream",
     "text": [
      "MoviePy - Done.\n"
     ]
    },
    {
     "name": "stderr",
     "output_type": "stream",
     "text": [
      "\r"
     ]
    },
    {
     "name": "stdout",
     "output_type": "stream",
     "text": [
      "MoviePy - Writing audio in C:\\Users\\Welcome\\Dhairya-Python\\sarcasm detection\\audio_utter\\2_537.mp3\n"
     ]
    },
    {
     "name": "stderr",
     "output_type": "stream",
     "text": [
      "                                                     \r"
     ]
    },
    {
     "name": "stdout",
     "output_type": "stream",
     "text": [
      "MoviePy - Done.\n",
      "MoviePy - Writing audio in C:\\Users\\Welcome\\Dhairya-Python\\sarcasm detection\\audio_utter\\2_54.mp3\n"
     ]
    },
    {
     "name": "stderr",
     "output_type": "stream",
     "text": [
      "                                                     \r"
     ]
    },
    {
     "name": "stdout",
     "output_type": "stream",
     "text": [
      "MoviePy - Done.\n",
      "MoviePy - Writing audio in C:\\Users\\Welcome\\Dhairya-Python\\sarcasm detection\\audio_utter\\2_540.mp3\n"
     ]
    },
    {
     "name": "stderr",
     "output_type": "stream",
     "text": [
      "                                                     "
     ]
    },
    {
     "name": "stdout",
     "output_type": "stream",
     "text": [
      "MoviePy - Done.\n"
     ]
    },
    {
     "name": "stderr",
     "output_type": "stream",
     "text": [
      "\r"
     ]
    },
    {
     "name": "stdout",
     "output_type": "stream",
     "text": [
      "MoviePy - Writing audio in C:\\Users\\Welcome\\Dhairya-Python\\sarcasm detection\\audio_utter\\2_541.mp3\n"
     ]
    },
    {
     "name": "stderr",
     "output_type": "stream",
     "text": [
      "                                                     \r"
     ]
    },
    {
     "name": "stdout",
     "output_type": "stream",
     "text": [
      "MoviePy - Done.\n",
      "MoviePy - Writing audio in C:\\Users\\Welcome\\Dhairya-Python\\sarcasm detection\\audio_utter\\2_542.mp3\n"
     ]
    },
    {
     "name": "stderr",
     "output_type": "stream",
     "text": [
      "                                                     \r"
     ]
    },
    {
     "name": "stdout",
     "output_type": "stream",
     "text": [
      "MoviePy - Done.\n",
      "MoviePy - Writing audio in C:\\Users\\Welcome\\Dhairya-Python\\sarcasm detection\\audio_utter\\2_546.mp3\n"
     ]
    },
    {
     "name": "stderr",
     "output_type": "stream",
     "text": [
      "                                                     \r"
     ]
    },
    {
     "name": "stdout",
     "output_type": "stream",
     "text": [
      "MoviePy - Done.\n",
      "MoviePy - Writing audio in C:\\Users\\Welcome\\Dhairya-Python\\sarcasm detection\\audio_utter\\2_547.mp3\n"
     ]
    },
    {
     "name": "stderr",
     "output_type": "stream",
     "text": [
      "                                                     \r"
     ]
    },
    {
     "name": "stdout",
     "output_type": "stream",
     "text": [
      "MoviePy - Done.\n",
      "MoviePy - Writing audio in C:\\Users\\Welcome\\Dhairya-Python\\sarcasm detection\\audio_utter\\2_548.mp3\n"
     ]
    },
    {
     "name": "stderr",
     "output_type": "stream",
     "text": [
      "                                                     \r"
     ]
    },
    {
     "name": "stdout",
     "output_type": "stream",
     "text": [
      "MoviePy - Done.\n",
      "MoviePy - Writing audio in C:\\Users\\Welcome\\Dhairya-Python\\sarcasm detection\\audio_utter\\2_549.mp3\n"
     ]
    },
    {
     "name": "stderr",
     "output_type": "stream",
     "text": [
      "                                                     "
     ]
    },
    {
     "name": "stdout",
     "output_type": "stream",
     "text": [
      "MoviePy - Done.\n"
     ]
    },
    {
     "name": "stderr",
     "output_type": "stream",
     "text": [
      "\r"
     ]
    },
    {
     "name": "stdout",
     "output_type": "stream",
     "text": [
      "MoviePy - Writing audio in C:\\Users\\Welcome\\Dhairya-Python\\sarcasm detection\\audio_utter\\2_55.mp3\n"
     ]
    },
    {
     "name": "stderr",
     "output_type": "stream",
     "text": [
      "                                                     \r"
     ]
    },
    {
     "name": "stdout",
     "output_type": "stream",
     "text": [
      "MoviePy - Done.\n",
      "MoviePy - Writing audio in C:\\Users\\Welcome\\Dhairya-Python\\sarcasm detection\\audio_utter\\2_550.mp3\n"
     ]
    },
    {
     "name": "stderr",
     "output_type": "stream",
     "text": [
      "                                                     "
     ]
    },
    {
     "name": "stdout",
     "output_type": "stream",
     "text": [
      "MoviePy - Done."
     ]
    },
    {
     "name": "stderr",
     "output_type": "stream",
     "text": [
      "\r"
     ]
    },
    {
     "name": "stdout",
     "output_type": "stream",
     "text": [
      "\n",
      "MoviePy - Writing audio in C:\\Users\\Welcome\\Dhairya-Python\\sarcasm detection\\audio_utter\\2_552.mp3\n"
     ]
    },
    {
     "name": "stderr",
     "output_type": "stream",
     "text": [
      "                                                     "
     ]
    },
    {
     "name": "stdout",
     "output_type": "stream",
     "text": [
      "MoviePy - Done.\n"
     ]
    },
    {
     "name": "stderr",
     "output_type": "stream",
     "text": [
      "\r"
     ]
    },
    {
     "name": "stdout",
     "output_type": "stream",
     "text": [
      "MoviePy - Writing audio in C:\\Users\\Welcome\\Dhairya-Python\\sarcasm detection\\audio_utter\\2_553.mp3\n"
     ]
    },
    {
     "name": "stderr",
     "output_type": "stream",
     "text": [
      "                                                     \r"
     ]
    },
    {
     "name": "stdout",
     "output_type": "stream",
     "text": [
      "MoviePy - Done.\n",
      "MoviePy - Writing audio in C:\\Users\\Welcome\\Dhairya-Python\\sarcasm detection\\audio_utter\\2_555.mp3\n"
     ]
    },
    {
     "name": "stderr",
     "output_type": "stream",
     "text": [
      "                                                     \r"
     ]
    },
    {
     "name": "stdout",
     "output_type": "stream",
     "text": [
      "MoviePy - Done.\n",
      "MoviePy - Writing audio in C:\\Users\\Welcome\\Dhairya-Python\\sarcasm detection\\audio_utter\\2_556.mp3\n"
     ]
    },
    {
     "name": "stderr",
     "output_type": "stream",
     "text": [
      "                                                     \r"
     ]
    },
    {
     "name": "stdout",
     "output_type": "stream",
     "text": [
      "MoviePy - Done.\n",
      "MoviePy - Writing audio in C:\\Users\\Welcome\\Dhairya-Python\\sarcasm detection\\audio_utter\\2_557.mp3\n"
     ]
    },
    {
     "name": "stderr",
     "output_type": "stream",
     "text": [
      "                                                     \r"
     ]
    },
    {
     "name": "stdout",
     "output_type": "stream",
     "text": [
      "MoviePy - Done.\n",
      "MoviePy - Writing audio in C:\\Users\\Welcome\\Dhairya-Python\\sarcasm detection\\audio_utter\\2_558.mp3\n"
     ]
    },
    {
     "name": "stderr",
     "output_type": "stream",
     "text": [
      "                                                     \r"
     ]
    },
    {
     "name": "stdout",
     "output_type": "stream",
     "text": [
      "MoviePy - Done.\n",
      "MoviePy - Writing audio in C:\\Users\\Welcome\\Dhairya-Python\\sarcasm detection\\audio_utter\\2_559.mp3\n"
     ]
    },
    {
     "name": "stderr",
     "output_type": "stream",
     "text": [
      "                                                     "
     ]
    },
    {
     "name": "stdout",
     "output_type": "stream",
     "text": [
      "MoviePy - Done.\n"
     ]
    },
    {
     "name": "stderr",
     "output_type": "stream",
     "text": [
      "\r"
     ]
    },
    {
     "name": "stdout",
     "output_type": "stream",
     "text": [
      "MoviePy - Writing audio in C:\\Users\\Welcome\\Dhairya-Python\\sarcasm detection\\audio_utter\\2_56.mp3\n"
     ]
    },
    {
     "name": "stderr",
     "output_type": "stream",
     "text": [
      "                                                     \r"
     ]
    },
    {
     "name": "stdout",
     "output_type": "stream",
     "text": [
      "MoviePy - Done.\n",
      "MoviePy - Writing audio in C:\\Users\\Welcome\\Dhairya-Python\\sarcasm detection\\audio_utter\\2_560.mp3\n"
     ]
    },
    {
     "name": "stderr",
     "output_type": "stream",
     "text": [
      "                                                     \r"
     ]
    },
    {
     "name": "stdout",
     "output_type": "stream",
     "text": [
      "MoviePy - Done.\n",
      "MoviePy - Writing audio in C:\\Users\\Welcome\\Dhairya-Python\\sarcasm detection\\audio_utter\\2_562.mp3\n"
     ]
    },
    {
     "name": "stderr",
     "output_type": "stream",
     "text": [
      "                                                     \r"
     ]
    },
    {
     "name": "stdout",
     "output_type": "stream",
     "text": [
      "MoviePy - Done.\n",
      "MoviePy - Writing audio in C:\\Users\\Welcome\\Dhairya-Python\\sarcasm detection\\audio_utter\\2_564.mp3\n"
     ]
    },
    {
     "name": "stderr",
     "output_type": "stream",
     "text": [
      "                                                     \r"
     ]
    },
    {
     "name": "stdout",
     "output_type": "stream",
     "text": [
      "MoviePy - Done.\n",
      "MoviePy - Writing audio in C:\\Users\\Welcome\\Dhairya-Python\\sarcasm detection\\audio_utter\\2_567.mp3\n"
     ]
    },
    {
     "name": "stderr",
     "output_type": "stream",
     "text": [
      "                                                     \r"
     ]
    },
    {
     "name": "stdout",
     "output_type": "stream",
     "text": [
      "MoviePy - Done.\n",
      "MoviePy - Writing audio in C:\\Users\\Welcome\\Dhairya-Python\\sarcasm detection\\audio_utter\\2_569.mp3\n"
     ]
    },
    {
     "name": "stderr",
     "output_type": "stream",
     "text": [
      "                                                     "
     ]
    },
    {
     "name": "stdout",
     "output_type": "stream",
     "text": [
      "MoviePy - Done.\n"
     ]
    },
    {
     "name": "stderr",
     "output_type": "stream",
     "text": [
      "\r"
     ]
    },
    {
     "name": "stdout",
     "output_type": "stream",
     "text": [
      "MoviePy - Writing audio in C:\\Users\\Welcome\\Dhairya-Python\\sarcasm detection\\audio_utter\\2_570.mp3\n"
     ]
    },
    {
     "name": "stderr",
     "output_type": "stream",
     "text": [
      "                                                     \r"
     ]
    },
    {
     "name": "stdout",
     "output_type": "stream",
     "text": [
      "MoviePy - Done.\n",
      "MoviePy - Writing audio in C:\\Users\\Welcome\\Dhairya-Python\\sarcasm detection\\audio_utter\\2_572.mp3\n"
     ]
    },
    {
     "name": "stderr",
     "output_type": "stream",
     "text": [
      "                                                     "
     ]
    },
    {
     "name": "stdout",
     "output_type": "stream",
     "text": [
      "MoviePy - Done."
     ]
    },
    {
     "name": "stderr",
     "output_type": "stream",
     "text": [
      "\r"
     ]
    },
    {
     "name": "stdout",
     "output_type": "stream",
     "text": [
      "\n",
      "MoviePy - Writing audio in C:\\Users\\Welcome\\Dhairya-Python\\sarcasm detection\\audio_utter\\2_573.mp3\n"
     ]
    },
    {
     "name": "stderr",
     "output_type": "stream",
     "text": [
      "                                                     \r"
     ]
    },
    {
     "name": "stdout",
     "output_type": "stream",
     "text": [
      "MoviePy - Done.\n",
      "MoviePy - Writing audio in C:\\Users\\Welcome\\Dhairya-Python\\sarcasm detection\\audio_utter\\2_574.mp3\n"
     ]
    },
    {
     "name": "stderr",
     "output_type": "stream",
     "text": [
      "                                                     \r"
     ]
    },
    {
     "name": "stdout",
     "output_type": "stream",
     "text": [
      "MoviePy - Done.\n",
      "MoviePy - Writing audio in C:\\Users\\Welcome\\Dhairya-Python\\sarcasm detection\\audio_utter\\2_575.mp3\n"
     ]
    },
    {
     "name": "stderr",
     "output_type": "stream",
     "text": [
      "                                                     \r"
     ]
    },
    {
     "name": "stdout",
     "output_type": "stream",
     "text": [
      "MoviePy - Done.\n",
      "MoviePy - Writing audio in C:\\Users\\Welcome\\Dhairya-Python\\sarcasm detection\\audio_utter\\2_576.mp3\n"
     ]
    },
    {
     "name": "stderr",
     "output_type": "stream",
     "text": [
      "                                                     \r"
     ]
    },
    {
     "name": "stdout",
     "output_type": "stream",
     "text": [
      "MoviePy - Done.\n",
      "MoviePy - Writing audio in C:\\Users\\Welcome\\Dhairya-Python\\sarcasm detection\\audio_utter\\2_577.mp3\n"
     ]
    },
    {
     "name": "stderr",
     "output_type": "stream",
     "text": [
      "                                                     \r"
     ]
    },
    {
     "name": "stdout",
     "output_type": "stream",
     "text": [
      "MoviePy - Done.\n",
      "MoviePy - Writing audio in C:\\Users\\Welcome\\Dhairya-Python\\sarcasm detection\\audio_utter\\2_579.mp3\n"
     ]
    },
    {
     "name": "stderr",
     "output_type": "stream",
     "text": [
      "                                                     "
     ]
    },
    {
     "name": "stdout",
     "output_type": "stream",
     "text": [
      "MoviePy - Done."
     ]
    },
    {
     "name": "stderr",
     "output_type": "stream",
     "text": [
      "\r"
     ]
    },
    {
     "name": "stdout",
     "output_type": "stream",
     "text": [
      "\n",
      "MoviePy - Writing audio in C:\\Users\\Welcome\\Dhairya-Python\\sarcasm detection\\audio_utter\\2_58.mp3\n"
     ]
    },
    {
     "name": "stderr",
     "output_type": "stream",
     "text": [
      "                                                     "
     ]
    },
    {
     "name": "stdout",
     "output_type": "stream",
     "text": [
      "MoviePy - Done."
     ]
    },
    {
     "name": "stderr",
     "output_type": "stream",
     "text": [
      "\r"
     ]
    },
    {
     "name": "stdout",
     "output_type": "stream",
     "text": [
      "\n",
      "MoviePy - Writing audio in C:\\Users\\Welcome\\Dhairya-Python\\sarcasm detection\\audio_utter\\2_581.mp3\n"
     ]
    },
    {
     "name": "stderr",
     "output_type": "stream",
     "text": [
      "                                                     \r"
     ]
    },
    {
     "name": "stdout",
     "output_type": "stream",
     "text": [
      "MoviePy - Done.\n",
      "MoviePy - Writing audio in C:\\Users\\Welcome\\Dhairya-Python\\sarcasm detection\\audio_utter\\2_583.mp3\n"
     ]
    },
    {
     "name": "stderr",
     "output_type": "stream",
     "text": [
      "                                                     \r"
     ]
    },
    {
     "name": "stdout",
     "output_type": "stream",
     "text": [
      "MoviePy - Done.\n",
      "MoviePy - Writing audio in C:\\Users\\Welcome\\Dhairya-Python\\sarcasm detection\\audio_utter\\2_585.mp3\n"
     ]
    },
    {
     "name": "stderr",
     "output_type": "stream",
     "text": [
      "                                                     \r"
     ]
    },
    {
     "name": "stdout",
     "output_type": "stream",
     "text": [
      "MoviePy - Done.\n",
      "MoviePy - Writing audio in C:\\Users\\Welcome\\Dhairya-Python\\sarcasm detection\\audio_utter\\2_586.mp3\n"
     ]
    },
    {
     "name": "stderr",
     "output_type": "stream",
     "text": [
      "                                                     \r"
     ]
    },
    {
     "name": "stdout",
     "output_type": "stream",
     "text": [
      "MoviePy - Done.\n",
      "MoviePy - Writing audio in C:\\Users\\Welcome\\Dhairya-Python\\sarcasm detection\\audio_utter\\2_587.mp3\n"
     ]
    },
    {
     "name": "stderr",
     "output_type": "stream",
     "text": [
      "                                                     \r"
     ]
    },
    {
     "name": "stdout",
     "output_type": "stream",
     "text": [
      "MoviePy - Done.\n",
      "MoviePy - Writing audio in C:\\Users\\Welcome\\Dhairya-Python\\sarcasm detection\\audio_utter\\2_588.mp3\n"
     ]
    },
    {
     "name": "stderr",
     "output_type": "stream",
     "text": [
      "                                                     \r"
     ]
    },
    {
     "name": "stdout",
     "output_type": "stream",
     "text": [
      "MoviePy - Done.\n",
      "MoviePy - Writing audio in C:\\Users\\Welcome\\Dhairya-Python\\sarcasm detection\\audio_utter\\2_589.mp3\n"
     ]
    },
    {
     "name": "stderr",
     "output_type": "stream",
     "text": [
      "                                                     \r"
     ]
    },
    {
     "name": "stdout",
     "output_type": "stream",
     "text": [
      "MoviePy - Done.\n",
      "MoviePy - Writing audio in C:\\Users\\Welcome\\Dhairya-Python\\sarcasm detection\\audio_utter\\2_590.mp3\n"
     ]
    },
    {
     "name": "stderr",
     "output_type": "stream",
     "text": [
      "                                                     \r"
     ]
    },
    {
     "name": "stdout",
     "output_type": "stream",
     "text": [
      "MoviePy - Done.\n",
      "MoviePy - Writing audio in C:\\Users\\Welcome\\Dhairya-Python\\sarcasm detection\\audio_utter\\2_591.mp3\n"
     ]
    },
    {
     "name": "stderr",
     "output_type": "stream",
     "text": [
      "                                                     \r"
     ]
    },
    {
     "name": "stdout",
     "output_type": "stream",
     "text": [
      "MoviePy - Done.\n",
      "MoviePy - Writing audio in C:\\Users\\Welcome\\Dhairya-Python\\sarcasm detection\\audio_utter\\2_594.mp3\n"
     ]
    },
    {
     "name": "stderr",
     "output_type": "stream",
     "text": [
      "                                                     \r"
     ]
    },
    {
     "name": "stdout",
     "output_type": "stream",
     "text": [
      "MoviePy - Done.\n",
      "MoviePy - Writing audio in C:\\Users\\Welcome\\Dhairya-Python\\sarcasm detection\\audio_utter\\2_595.mp3\n"
     ]
    },
    {
     "name": "stderr",
     "output_type": "stream",
     "text": [
      "                                                     \r"
     ]
    },
    {
     "name": "stdout",
     "output_type": "stream",
     "text": [
      "MoviePy - Done.\n",
      "MoviePy - Writing audio in C:\\Users\\Welcome\\Dhairya-Python\\sarcasm detection\\audio_utter\\2_596.mp3\n"
     ]
    },
    {
     "name": "stderr",
     "output_type": "stream",
     "text": [
      "                                                     \r"
     ]
    },
    {
     "name": "stdout",
     "output_type": "stream",
     "text": [
      "MoviePy - Done.\n",
      "MoviePy - Writing audio in C:\\Users\\Welcome\\Dhairya-Python\\sarcasm detection\\audio_utter\\2_598.mp3\n"
     ]
    },
    {
     "name": "stderr",
     "output_type": "stream",
     "text": [
      "                                                     \r"
     ]
    },
    {
     "name": "stdout",
     "output_type": "stream",
     "text": [
      "MoviePy - Done.\n",
      "MoviePy - Writing audio in C:\\Users\\Welcome\\Dhairya-Python\\sarcasm detection\\audio_utter\\2_599.mp3\n"
     ]
    },
    {
     "name": "stderr",
     "output_type": "stream",
     "text": [
      "                                                     \r"
     ]
    },
    {
     "name": "stdout",
     "output_type": "stream",
     "text": [
      "MoviePy - Done.\n",
      "MoviePy - Writing audio in C:\\Users\\Welcome\\Dhairya-Python\\sarcasm detection\\audio_utter\\2_602.mp3\n"
     ]
    },
    {
     "name": "stderr",
     "output_type": "stream",
     "text": [
      "                                                     "
     ]
    },
    {
     "name": "stdout",
     "output_type": "stream",
     "text": [
      "MoviePy - Done.\n"
     ]
    },
    {
     "name": "stderr",
     "output_type": "stream",
     "text": [
      "\r"
     ]
    },
    {
     "name": "stdout",
     "output_type": "stream",
     "text": [
      "MoviePy - Writing audio in C:\\Users\\Welcome\\Dhairya-Python\\sarcasm detection\\audio_utter\\2_604.mp3\n"
     ]
    },
    {
     "name": "stderr",
     "output_type": "stream",
     "text": [
      "                                                     \r"
     ]
    },
    {
     "name": "stdout",
     "output_type": "stream",
     "text": [
      "MoviePy - Done.\n",
      "MoviePy - Writing audio in C:\\Users\\Welcome\\Dhairya-Python\\sarcasm detection\\audio_utter\\2_607.mp3\n"
     ]
    },
    {
     "name": "stderr",
     "output_type": "stream",
     "text": [
      "                                                     "
     ]
    },
    {
     "name": "stdout",
     "output_type": "stream",
     "text": [
      "MoviePy - Done.\n"
     ]
    },
    {
     "name": "stderr",
     "output_type": "stream",
     "text": [
      "\r"
     ]
    },
    {
     "name": "stdout",
     "output_type": "stream",
     "text": [
      "MoviePy - Writing audio in C:\\Users\\Welcome\\Dhairya-Python\\sarcasm detection\\audio_utter\\2_608.mp3\n"
     ]
    },
    {
     "name": "stderr",
     "output_type": "stream",
     "text": [
      "                                                     \r"
     ]
    },
    {
     "name": "stdout",
     "output_type": "stream",
     "text": [
      "MoviePy - Done.\n",
      "MoviePy - Writing audio in C:\\Users\\Welcome\\Dhairya-Python\\sarcasm detection\\audio_utter\\2_609.mp3\n"
     ]
    },
    {
     "name": "stderr",
     "output_type": "stream",
     "text": [
      "                                                     "
     ]
    },
    {
     "name": "stdout",
     "output_type": "stream",
     "text": [
      "MoviePy - Done.\n"
     ]
    },
    {
     "name": "stderr",
     "output_type": "stream",
     "text": [
      "\r"
     ]
    },
    {
     "name": "stdout",
     "output_type": "stream",
     "text": [
      "MoviePy - Writing audio in C:\\Users\\Welcome\\Dhairya-Python\\sarcasm detection\\audio_utter\\2_611.mp3\n"
     ]
    },
    {
     "name": "stderr",
     "output_type": "stream",
     "text": [
      "                                                     "
     ]
    },
    {
     "name": "stdout",
     "output_type": "stream",
     "text": [
      "MoviePy - Done.\n"
     ]
    },
    {
     "name": "stderr",
     "output_type": "stream",
     "text": [
      "\r"
     ]
    },
    {
     "name": "stdout",
     "output_type": "stream",
     "text": [
      "MoviePy - Writing audio in C:\\Users\\Welcome\\Dhairya-Python\\sarcasm detection\\audio_utter\\2_612.mp3\n"
     ]
    },
    {
     "name": "stderr",
     "output_type": "stream",
     "text": [
      "                                                     \r"
     ]
    },
    {
     "name": "stdout",
     "output_type": "stream",
     "text": [
      "MoviePy - Done.\n",
      "MoviePy - Writing audio in C:\\Users\\Welcome\\Dhairya-Python\\sarcasm detection\\audio_utter\\2_615.mp3\n"
     ]
    },
    {
     "name": "stderr",
     "output_type": "stream",
     "text": [
      "                                                     \r"
     ]
    },
    {
     "name": "stdout",
     "output_type": "stream",
     "text": [
      "MoviePy - Done.\n",
      "MoviePy - Writing audio in C:\\Users\\Welcome\\Dhairya-Python\\sarcasm detection\\audio_utter\\2_617.mp3\n"
     ]
    },
    {
     "name": "stderr",
     "output_type": "stream",
     "text": [
      "                                                     \r"
     ]
    },
    {
     "name": "stdout",
     "output_type": "stream",
     "text": [
      "MoviePy - Done.\n",
      "MoviePy - Writing audio in C:\\Users\\Welcome\\Dhairya-Python\\sarcasm detection\\audio_utter\\2_622.mp3\n"
     ]
    },
    {
     "name": "stderr",
     "output_type": "stream",
     "text": [
      "                                                     \r"
     ]
    },
    {
     "name": "stdout",
     "output_type": "stream",
     "text": [
      "MoviePy - Done.\n",
      "MoviePy - Writing audio in C:\\Users\\Welcome\\Dhairya-Python\\sarcasm detection\\audio_utter\\2_623.mp3\n"
     ]
    },
    {
     "name": "stderr",
     "output_type": "stream",
     "text": [
      "                                                     \r"
     ]
    },
    {
     "name": "stdout",
     "output_type": "stream",
     "text": [
      "MoviePy - Done.\n",
      "MoviePy - Writing audio in C:\\Users\\Welcome\\Dhairya-Python\\sarcasm detection\\audio_utter\\2_626.mp3\n"
     ]
    },
    {
     "name": "stderr",
     "output_type": "stream",
     "text": [
      "                                                     \r"
     ]
    },
    {
     "name": "stdout",
     "output_type": "stream",
     "text": [
      "MoviePy - Done.\n",
      "MoviePy - Writing audio in C:\\Users\\Welcome\\Dhairya-Python\\sarcasm detection\\audio_utter\\2_627.mp3\n"
     ]
    },
    {
     "name": "stderr",
     "output_type": "stream",
     "text": [
      "                                                     \r"
     ]
    },
    {
     "name": "stdout",
     "output_type": "stream",
     "text": [
      "MoviePy - Done.\n",
      "MoviePy - Writing audio in C:\\Users\\Welcome\\Dhairya-Python\\sarcasm detection\\audio_utter\\2_65.mp3\n"
     ]
    },
    {
     "name": "stderr",
     "output_type": "stream",
     "text": [
      "                                                     "
     ]
    },
    {
     "name": "stdout",
     "output_type": "stream",
     "text": [
      "MoviePy - Done."
     ]
    },
    {
     "name": "stderr",
     "output_type": "stream",
     "text": [
      "\r"
     ]
    },
    {
     "name": "stdout",
     "output_type": "stream",
     "text": [
      "\n",
      "MoviePy - Writing audio in C:\\Users\\Welcome\\Dhairya-Python\\sarcasm detection\\audio_utter\\2_66.mp3\n"
     ]
    },
    {
     "name": "stderr",
     "output_type": "stream",
     "text": [
      "                                                     \r"
     ]
    },
    {
     "name": "stdout",
     "output_type": "stream",
     "text": [
      "MoviePy - Done.\n",
      "MoviePy - Writing audio in C:\\Users\\Welcome\\Dhairya-Python\\sarcasm detection\\audio_utter\\2_69.mp3\n"
     ]
    },
    {
     "name": "stderr",
     "output_type": "stream",
     "text": [
      "                                                     "
     ]
    },
    {
     "name": "stdout",
     "output_type": "stream",
     "text": [
      "MoviePy - Done.\n"
     ]
    },
    {
     "name": "stderr",
     "output_type": "stream",
     "text": [
      "\r"
     ]
    },
    {
     "name": "stdout",
     "output_type": "stream",
     "text": [
      "MoviePy - Writing audio in C:\\Users\\Welcome\\Dhairya-Python\\sarcasm detection\\audio_utter\\2_7.mp3\n"
     ]
    },
    {
     "name": "stderr",
     "output_type": "stream",
     "text": [
      "                                                     \r"
     ]
    },
    {
     "name": "stdout",
     "output_type": "stream",
     "text": [
      "MoviePy - Done.\n",
      "MoviePy - Writing audio in C:\\Users\\Welcome\\Dhairya-Python\\sarcasm detection\\audio_utter\\2_71.mp3\n"
     ]
    },
    {
     "name": "stderr",
     "output_type": "stream",
     "text": [
      "                                                     \r"
     ]
    },
    {
     "name": "stdout",
     "output_type": "stream",
     "text": [
      "MoviePy - Done.\n",
      "MoviePy - Writing audio in C:\\Users\\Welcome\\Dhairya-Python\\sarcasm detection\\audio_utter\\2_72.mp3\n"
     ]
    },
    {
     "name": "stderr",
     "output_type": "stream",
     "text": [
      "                                                     \r"
     ]
    },
    {
     "name": "stdout",
     "output_type": "stream",
     "text": [
      "MoviePy - Done.\n",
      "MoviePy - Writing audio in C:\\Users\\Welcome\\Dhairya-Python\\sarcasm detection\\audio_utter\\2_73.mp3\n"
     ]
    },
    {
     "name": "stderr",
     "output_type": "stream",
     "text": [
      "                                                     \r"
     ]
    },
    {
     "name": "stdout",
     "output_type": "stream",
     "text": [
      "MoviePy - Done.\n",
      "MoviePy - Writing audio in C:\\Users\\Welcome\\Dhairya-Python\\sarcasm detection\\audio_utter\\2_74.mp3\n"
     ]
    },
    {
     "name": "stderr",
     "output_type": "stream",
     "text": [
      "                                                     \r"
     ]
    },
    {
     "name": "stdout",
     "output_type": "stream",
     "text": [
      "MoviePy - Done.\n",
      "MoviePy - Writing audio in C:\\Users\\Welcome\\Dhairya-Python\\sarcasm detection\\audio_utter\\2_77.mp3\n"
     ]
    },
    {
     "name": "stderr",
     "output_type": "stream",
     "text": [
      "                                                     \r"
     ]
    },
    {
     "name": "stdout",
     "output_type": "stream",
     "text": [
      "MoviePy - Done.\n",
      "MoviePy - Writing audio in C:\\Users\\Welcome\\Dhairya-Python\\sarcasm detection\\audio_utter\\2_78.mp3\n"
     ]
    },
    {
     "name": "stderr",
     "output_type": "stream",
     "text": [
      "                                                     \r"
     ]
    },
    {
     "name": "stdout",
     "output_type": "stream",
     "text": [
      "MoviePy - Done.\n",
      "MoviePy - Writing audio in C:\\Users\\Welcome\\Dhairya-Python\\sarcasm detection\\audio_utter\\2_79.mp3\n"
     ]
    },
    {
     "name": "stderr",
     "output_type": "stream",
     "text": [
      "                                                     \r"
     ]
    },
    {
     "name": "stdout",
     "output_type": "stream",
     "text": [
      "MoviePy - Done.\n",
      "MoviePy - Writing audio in C:\\Users\\Welcome\\Dhairya-Python\\sarcasm detection\\audio_utter\\2_8.mp3\n"
     ]
    },
    {
     "name": "stderr",
     "output_type": "stream",
     "text": [
      "                                                     "
     ]
    },
    {
     "name": "stdout",
     "output_type": "stream",
     "text": [
      "MoviePy - Done.\n"
     ]
    },
    {
     "name": "stderr",
     "output_type": "stream",
     "text": [
      "\r"
     ]
    },
    {
     "name": "stdout",
     "output_type": "stream",
     "text": [
      "MoviePy - Writing audio in C:\\Users\\Welcome\\Dhairya-Python\\sarcasm detection\\audio_utter\\2_84.mp3\n"
     ]
    },
    {
     "name": "stderr",
     "output_type": "stream",
     "text": [
      "                                                     \r"
     ]
    },
    {
     "name": "stdout",
     "output_type": "stream",
     "text": [
      "MoviePy - Done.\n",
      "MoviePy - Writing audio in C:\\Users\\Welcome\\Dhairya-Python\\sarcasm detection\\audio_utter\\2_86.mp3\n"
     ]
    },
    {
     "name": "stderr",
     "output_type": "stream",
     "text": [
      "                                                     \r"
     ]
    },
    {
     "name": "stdout",
     "output_type": "stream",
     "text": [
      "MoviePy - Done.\n",
      "MoviePy - Writing audio in C:\\Users\\Welcome\\Dhairya-Python\\sarcasm detection\\audio_utter\\2_87.mp3\n"
     ]
    },
    {
     "name": "stderr",
     "output_type": "stream",
     "text": [
      "                                                     \r"
     ]
    },
    {
     "name": "stdout",
     "output_type": "stream",
     "text": [
      "MoviePy - Done.\n",
      "MoviePy - Writing audio in C:\\Users\\Welcome\\Dhairya-Python\\sarcasm detection\\audio_utter\\2_88.mp3\n"
     ]
    },
    {
     "name": "stderr",
     "output_type": "stream",
     "text": [
      "                                                     \r"
     ]
    },
    {
     "name": "stdout",
     "output_type": "stream",
     "text": [
      "MoviePy - Done.\n",
      "MoviePy - Writing audio in C:\\Users\\Welcome\\Dhairya-Python\\sarcasm detection\\audio_utter\\2_89.mp3\n"
     ]
    },
    {
     "name": "stderr",
     "output_type": "stream",
     "text": [
      "                                                     \r"
     ]
    },
    {
     "name": "stdout",
     "output_type": "stream",
     "text": [
      "MoviePy - Done.\n",
      "MoviePy - Writing audio in C:\\Users\\Welcome\\Dhairya-Python\\sarcasm detection\\audio_utter\\2_9.mp3\n"
     ]
    },
    {
     "name": "stderr",
     "output_type": "stream",
     "text": [
      "                                                     \r"
     ]
    },
    {
     "name": "stdout",
     "output_type": "stream",
     "text": [
      "MoviePy - Done.\n",
      "MoviePy - Writing audio in C:\\Users\\Welcome\\Dhairya-Python\\sarcasm detection\\audio_utter\\2_91.mp3\n"
     ]
    },
    {
     "name": "stderr",
     "output_type": "stream",
     "text": [
      "                                                     \r"
     ]
    },
    {
     "name": "stdout",
     "output_type": "stream",
     "text": [
      "MoviePy - Done.\n",
      "MoviePy - Writing audio in C:\\Users\\Welcome\\Dhairya-Python\\sarcasm detection\\audio_utter\\2_92.mp3\n"
     ]
    },
    {
     "name": "stderr",
     "output_type": "stream",
     "text": [
      "                                                     \r"
     ]
    },
    {
     "name": "stdout",
     "output_type": "stream",
     "text": [
      "MoviePy - Done.\n",
      "MoviePy - Writing audio in C:\\Users\\Welcome\\Dhairya-Python\\sarcasm detection\\audio_utter\\2_94.mp3\n"
     ]
    },
    {
     "name": "stderr",
     "output_type": "stream",
     "text": [
      "                                                     \r"
     ]
    },
    {
     "name": "stdout",
     "output_type": "stream",
     "text": [
      "MoviePy - Done.\n",
      "MoviePy - Writing audio in C:\\Users\\Welcome\\Dhairya-Python\\sarcasm detection\\audio_utter\\2_96.mp3\n"
     ]
    },
    {
     "name": "stderr",
     "output_type": "stream",
     "text": [
      "                                                     \r"
     ]
    },
    {
     "name": "stdout",
     "output_type": "stream",
     "text": [
      "MoviePy - Done.\n",
      "MoviePy - Writing audio in C:\\Users\\Welcome\\Dhairya-Python\\sarcasm detection\\audio_utter\\2_97.mp3\n"
     ]
    },
    {
     "name": "stderr",
     "output_type": "stream",
     "text": [
      "                                                     \r"
     ]
    },
    {
     "name": "stdout",
     "output_type": "stream",
     "text": [
      "MoviePy - Done.\n",
      "MoviePy - Writing audio in C:\\Users\\Welcome\\Dhairya-Python\\sarcasm detection\\audio_utter\\2_99.mp3\n"
     ]
    },
    {
     "name": "stderr",
     "output_type": "stream",
     "text": [
      "                                                     "
     ]
    },
    {
     "name": "stdout",
     "output_type": "stream",
     "text": [
      "MoviePy - Done.\n"
     ]
    },
    {
     "name": "stderr",
     "output_type": "stream",
     "text": [
      "\r"
     ]
    }
   ],
   "source": [
    "path_utter = \"E:\\\\soft comp\\\\utterances_final\"\n",
    "save_utter_path = \"C:\\\\Users\\\\Welcome\\\\Dhairya-Python\\\\sarcasm detection\\\\audio_utter\"\n",
    "\n",
    "for file in os.listdir(path_utter):\n",
    "    video_path = path_utter + \"\\\\\" + file\n",
    "    video = mp.VideoFileClip(video_path)\n",
    "    name_audio = file.split(\".\")[0]\n",
    "    final_video_path = save_utter_path + \"\\\\\" + name_audio + \".wav\"\n",
    "    temp = video.audio\n",
    "    temp.write_audiofile(final_video_path)\n",
    "    video.close()\n",
    "    temp.close()\n",
    "    "
   ]
  },
  {
   "cell_type": "code",
   "execution_count": 19,
   "id": "0a4783a4",
   "metadata": {},
   "outputs": [
    {
     "ename": "TypeError",
     "evalue": "mfcc() takes 0 positional arguments but 1 positional argument (and 2 keyword-only arguments) were given",
     "output_type": "error",
     "traceback": [
      "\u001b[1;31m------------------------------------------------------\u001b[0m",
      "\u001b[1;31mTypeError\u001b[0m            Traceback (most recent call last)",
      "Cell \u001b[1;32mIn[19], line 26\u001b[0m\n\u001b[0;32m     23\u001b[0m audio, sr \u001b[38;5;241m=\u001b[39m librosa\u001b[38;5;241m.\u001b[39mload(filepath, sr\u001b[38;5;241m=\u001b[39m\u001b[38;5;241m44100\u001b[39m, mono\u001b[38;5;241m=\u001b[39m\u001b[38;5;28;01mTrue\u001b[39;00m)\n\u001b[0;32m     25\u001b[0m \u001b[38;5;66;03m# extract MFCC features\u001b[39;00m\n\u001b[1;32m---> 26\u001b[0m mfccs \u001b[38;5;241m=\u001b[39m \u001b[43mlibrosa\u001b[49m\u001b[38;5;241;43m.\u001b[39;49m\u001b[43mfeature\u001b[49m\u001b[38;5;241;43m.\u001b[39;49m\u001b[43mmfcc\u001b[49m\u001b[43m(\u001b[49m\u001b[43maudio\u001b[49m\u001b[43m,\u001b[49m\u001b[43m \u001b[49m\u001b[43msr\u001b[49m\u001b[38;5;241;43m=\u001b[39;49m\u001b[43msr\u001b[49m\u001b[43m,\u001b[49m\u001b[43m \u001b[49m\u001b[43mn_mfcc\u001b[49m\u001b[38;5;241;43m=\u001b[39;49m\u001b[38;5;241;43m13\u001b[39;49m\u001b[43m)\u001b[49m\n\u001b[0;32m     27\u001b[0m mean_mfccs \u001b[38;5;241m=\u001b[39m np\u001b[38;5;241m.\u001b[39mmean(mfccs, axis\u001b[38;5;241m=\u001b[39m\u001b[38;5;241m1\u001b[39m)  \u001b[38;5;66;03m# compute mean along time axis\u001b[39;00m\n\u001b[0;32m     29\u001b[0m \u001b[38;5;66;03m# append features and label to lists\u001b[39;00m\n",
      "\u001b[1;31mTypeError\u001b[0m: mfcc() takes 0 positional arguments but 1 positional argument (and 2 keyword-only arguments) were given"
     ]
    }
   ],
   "source": [
    "import os\n",
    "import librosa\n",
    "import numpy as np\n",
    "import pandas as pd\n",
    "\n",
    "# set input and output directories\n",
    "input_dir = \"C:\\\\Users\\\\Welcome\\\\Dhairya-Python\\\\sarcasm detection\\\\audio_utter\"\n",
    "output_dir = \"C:\\\\Users\\\\Welcome\\\\Dhairya-Python\\\\sarcasm detection\"\n",
    "\n",
    "# create output directory if it doesn't exist\n",
    "if not os.path.exists(output_dir):\n",
    "    os.makedirs(output_dir)\n",
    "\n",
    "# initialize empty lists to store features and labels\n",
    "features = []\n",
    "labels = []\n",
    "\n",
    "# loop over all audio files in input directory\n",
    "for filename in os.listdir(input_dir):\n",
    "    if filename.endswith(\".mp3\") or filename.endswith(\".wav\"):\n",
    "        # load audio file using librosa\n",
    "        filepath = os.path.join(input_dir, filename)\n",
    "        audio, sr = librosa.load(filepath, sr=44100, mono=True)\n",
    "\n",
    "        # extract MFCC features\n",
    "        mfccs = librosa.feature.mfcc(audio, sr = sr, n_mfcc=13)\n",
    "        mean_mfccs = np.mean(mfccs, axis=1)  # compute mean along time axis\n",
    "\n",
    "        # append features and label to lists\n",
    "        features.append(mean_mfccs)\n",
    "        labels.append(filename)\n",
    "\n",
    "# convert features and labels to numpy arrays\n",
    "features = np.array(features)\n",
    "labels = np.array(labels)\n",
    "\n",
    "# create pandas dataframe and save as CSV file\n",
    "df = pd.DataFrame(features, columns=[\"mfcc{}\".format(i+1) for i in range(features.shape[1])])\n",
    "df[\"label\"] = labels\n",
    "output_path = os.path.join(output_dir, \"audio_features_utter.csv\")\n",
    "df.to_csv(output_path, index = False)\n"
   ]
  },
  {
   "cell_type": "markdown",
   "id": "88370ce2",
   "metadata": {},
   "source": [
    "# JSON TO CSV"
   ]
  },
  {
   "cell_type": "code",
   "execution_count": null,
   "id": "49e28d22",
   "metadata": {},
   "outputs": [],
   "source": []
  },
  {
   "cell_type": "markdown",
   "id": "9a224cfc",
   "metadata": {},
   "source": [
    "# DATA CLEANING"
   ]
  },
  {
   "cell_type": "code",
   "execution_count": 143,
   "id": "0057ccc4",
   "metadata": {},
   "outputs": [],
   "source": [
    "import pandas as pd\n",
    "import numpy as np\n",
    "import math "
   ]
  },
  {
   "cell_type": "code",
   "execution_count": 144,
   "id": "499f8c81",
   "metadata": {},
   "outputs": [],
   "source": [
    "df = pd.read_csv(\"sarcasm_data.csv\")"
   ]
  },
  {
   "cell_type": "code",
   "execution_count": 145,
   "id": "45ee00af",
   "metadata": {},
   "outputs": [],
   "source": [
    "import nltk \n",
    "from nltk.tokenize import word_tokenize\n",
    "from nltk.corpus import stopwords\n",
    "import string \n",
    "import re"
   ]
  },
  {
   "cell_type": "code",
   "execution_count": 146,
   "id": "d835b6d4",
   "metadata": {},
   "outputs": [],
   "source": [
    "def one_hot_encoding(value):\n",
    "    if value == False:\n",
    "        return 0\n",
    "    else:\n",
    "        return 1\n",
    "\n",
    "df['sarcasm'] = df['sarcasm'].apply(one_hot_encoding)"
   ]
  },
  {
   "cell_type": "code",
   "execution_count": 147,
   "id": "e9dd7d69",
   "metadata": {},
   "outputs": [],
   "source": [
    "# Label Encoding of column -> Show\n",
    "\n",
    "from sklearn.preprocessing import LabelEncoder\n",
    "le = LabelEncoder()\n",
    "df['show'] = le.fit_transform(df['show'])"
   ]
  },
  {
   "cell_type": "code",
   "execution_count": 148,
   "id": "684792c9",
   "metadata": {},
   "outputs": [
    {
     "data": {
      "text/html": [
       "<div>\n",
       "<style scoped>\n",
       "    .dataframe tbody tr th:only-of-type {\n",
       "        vertical-align: middle;\n",
       "    }\n",
       "\n",
       "    .dataframe tbody tr th {\n",
       "        vertical-align: top;\n",
       "    }\n",
       "\n",
       "    .dataframe thead th {\n",
       "        text-align: right;\n",
       "    }\n",
       "</style>\n",
       "<table border=\"1\" class=\"dataframe\">\n",
       "  <thead>\n",
       "    <tr style=\"text-align: right;\">\n",
       "      <th></th>\n",
       "      <th>id</th>\n",
       "      <th>utterance</th>\n",
       "      <th>speaker</th>\n",
       "      <th>context</th>\n",
       "      <th>context_speakers</th>\n",
       "      <th>show</th>\n",
       "      <th>sarcasm</th>\n",
       "    </tr>\n",
       "  </thead>\n",
       "  <tbody>\n",
       "    <tr>\n",
       "      <th>0</th>\n",
       "      <td>1_60</td>\n",
       "      <td>It's just a privilege to watch your mind at work.</td>\n",
       "      <td>SHELDON</td>\n",
       "      <td>I never would have identified the fingerprints...</td>\n",
       "      <td>LEONARD|SHELDON</td>\n",
       "      <td>0</td>\n",
       "      <td>1</td>\n",
       "    </tr>\n",
       "    <tr>\n",
       "      <th>1</th>\n",
       "      <td>1_70</td>\n",
       "      <td>I don't think I'll be able to stop thinking ab...</td>\n",
       "      <td>PENNY</td>\n",
       "      <td>This is one of my favorite places to kick back...</td>\n",
       "      <td>HOWARD|PENNY|HOWARD|HOWARD|HOWARD|PENNY|HOWARD</td>\n",
       "      <td>0</td>\n",
       "      <td>1</td>\n",
       "    </tr>\n",
       "    <tr>\n",
       "      <th>2</th>\n",
       "      <td>1_80</td>\n",
       "      <td>Since it's not bee season, you can have my epi...</td>\n",
       "      <td>SHELDON</td>\n",
       "      <td>Here we go. Pad thai, no peanuts.|But does it ...</td>\n",
       "      <td>LEONARD|HOWARD|LEONARD</td>\n",
       "      <td>0</td>\n",
       "      <td>0</td>\n",
       "    </tr>\n",
       "    <tr>\n",
       "      <th>3</th>\n",
       "      <td>1_90</td>\n",
       "      <td>Lois Lane is falling, accelerating at an initi...</td>\n",
       "      <td>SHELDON</td>\n",
       "      <td>A marathon? How many Superman movies are there...</td>\n",
       "      <td>PENNY|SHELDON|PENNY|SHELDON|SHELDON|PENNY|SHELDON</td>\n",
       "      <td>0</td>\n",
       "      <td>0</td>\n",
       "    </tr>\n",
       "    <tr>\n",
       "      <th>4</th>\n",
       "      <td>1_105</td>\n",
       "      <td>I'm just inferring this is a couch because the...</td>\n",
       "      <td>SHELDON</td>\n",
       "      <td>Great Caesar's ghost, look at this place.|So P...</td>\n",
       "      <td>SHELDON|LEONARD|SHELDON|SHELDON|SHELDON|SHELDON</td>\n",
       "      <td>0</td>\n",
       "      <td>1</td>\n",
       "    </tr>\n",
       "  </tbody>\n",
       "</table>\n",
       "</div>"
      ],
      "text/plain": [
       "      id                                          utterance  speaker   \n",
       "0   1_60  It's just a privilege to watch your mind at work.  SHELDON  \\\n",
       "1   1_70  I don't think I'll be able to stop thinking ab...    PENNY   \n",
       "2   1_80  Since it's not bee season, you can have my epi...  SHELDON   \n",
       "3   1_90  Lois Lane is falling, accelerating at an initi...  SHELDON   \n",
       "4  1_105  I'm just inferring this is a couch because the...  SHELDON   \n",
       "\n",
       "                                             context   \n",
       "0  I never would have identified the fingerprints...  \\\n",
       "1  This is one of my favorite places to kick back...   \n",
       "2  Here we go. Pad thai, no peanuts.|But does it ...   \n",
       "3  A marathon? How many Superman movies are there...   \n",
       "4  Great Caesar's ghost, look at this place.|So P...   \n",
       "\n",
       "                                    context_speakers  show  sarcasm  \n",
       "0                                    LEONARD|SHELDON     0        1  \n",
       "1     HOWARD|PENNY|HOWARD|HOWARD|HOWARD|PENNY|HOWARD     0        1  \n",
       "2                             LEONARD|HOWARD|LEONARD     0        0  \n",
       "3  PENNY|SHELDON|PENNY|SHELDON|SHELDON|PENNY|SHELDON     0        0  \n",
       "4    SHELDON|LEONARD|SHELDON|SHELDON|SHELDON|SHELDON     0        1  "
      ]
     },
     "execution_count": 148,
     "metadata": {},
     "output_type": "execute_result"
    }
   ],
   "source": [
    "df.head()"
   ]
  },
  {
   "cell_type": "code",
   "execution_count": 149,
   "id": "0ef235d7",
   "metadata": {},
   "outputs": [],
   "source": [
    "# Only for column -> context_speakers & context\n",
    "def tokenize_remove_or(value):\n",
    "\n",
    "    # To Lower Case\n",
    "    value = value.lower()\n",
    "    \n",
    "    # Split by '|''\n",
    "    tokenized_value = value.split(\"|\")\n",
    "    \n",
    "    return tokenized_value\n",
    "\n",
    "df['context_speakers'] = df['context_speakers'].apply(tokenize_remove_or)\n",
    "df['context'] = df['context'].apply(tokenize_remove_or)"
   ]
  },
  {
   "cell_type": "code",
   "execution_count": 150,
   "id": "0caa40f8",
   "metadata": {},
   "outputs": [
    {
     "data": {
      "text/html": [
       "<div>\n",
       "<style scoped>\n",
       "    .dataframe tbody tr th:only-of-type {\n",
       "        vertical-align: middle;\n",
       "    }\n",
       "\n",
       "    .dataframe tbody tr th {\n",
       "        vertical-align: top;\n",
       "    }\n",
       "\n",
       "    .dataframe thead th {\n",
       "        text-align: right;\n",
       "    }\n",
       "</style>\n",
       "<table border=\"1\" class=\"dataframe\">\n",
       "  <thead>\n",
       "    <tr style=\"text-align: right;\">\n",
       "      <th></th>\n",
       "      <th>id</th>\n",
       "      <th>utterance</th>\n",
       "      <th>speaker</th>\n",
       "      <th>context</th>\n",
       "      <th>context_speakers</th>\n",
       "      <th>show</th>\n",
       "      <th>sarcasm</th>\n",
       "    </tr>\n",
       "  </thead>\n",
       "  <tbody>\n",
       "    <tr>\n",
       "      <th>0</th>\n",
       "      <td>1_60</td>\n",
       "      <td>It's just a privilege to watch your mind at work.</td>\n",
       "      <td>SHELDON</td>\n",
       "      <td>[i never would have identified the fingerprint...</td>\n",
       "      <td>[leonard, sheldon]</td>\n",
       "      <td>0</td>\n",
       "      <td>1</td>\n",
       "    </tr>\n",
       "    <tr>\n",
       "      <th>1</th>\n",
       "      <td>1_70</td>\n",
       "      <td>I don't think I'll be able to stop thinking ab...</td>\n",
       "      <td>PENNY</td>\n",
       "      <td>[this is one of my favorite places to kick bac...</td>\n",
       "      <td>[howard, penny, howard, howard, howard, penny,...</td>\n",
       "      <td>0</td>\n",
       "      <td>1</td>\n",
       "    </tr>\n",
       "    <tr>\n",
       "      <th>2</th>\n",
       "      <td>1_80</td>\n",
       "      <td>Since it's not bee season, you can have my epi...</td>\n",
       "      <td>SHELDON</td>\n",
       "      <td>[here we go. pad thai, no peanuts., but does i...</td>\n",
       "      <td>[leonard, howard, leonard]</td>\n",
       "      <td>0</td>\n",
       "      <td>0</td>\n",
       "    </tr>\n",
       "    <tr>\n",
       "      <th>3</th>\n",
       "      <td>1_90</td>\n",
       "      <td>Lois Lane is falling, accelerating at an initi...</td>\n",
       "      <td>SHELDON</td>\n",
       "      <td>[a marathon? how many superman movies are ther...</td>\n",
       "      <td>[penny, sheldon, penny, sheldon, sheldon, penn...</td>\n",
       "      <td>0</td>\n",
       "      <td>0</td>\n",
       "    </tr>\n",
       "    <tr>\n",
       "      <th>4</th>\n",
       "      <td>1_105</td>\n",
       "      <td>I'm just inferring this is a couch because the...</td>\n",
       "      <td>SHELDON</td>\n",
       "      <td>[great caesar's ghost, look at this place., so...</td>\n",
       "      <td>[sheldon, leonard, sheldon, sheldon, sheldon, ...</td>\n",
       "      <td>0</td>\n",
       "      <td>1</td>\n",
       "    </tr>\n",
       "  </tbody>\n",
       "</table>\n",
       "</div>"
      ],
      "text/plain": [
       "      id                                          utterance  speaker   \n",
       "0   1_60  It's just a privilege to watch your mind at work.  SHELDON  \\\n",
       "1   1_70  I don't think I'll be able to stop thinking ab...    PENNY   \n",
       "2   1_80  Since it's not bee season, you can have my epi...  SHELDON   \n",
       "3   1_90  Lois Lane is falling, accelerating at an initi...  SHELDON   \n",
       "4  1_105  I'm just inferring this is a couch because the...  SHELDON   \n",
       "\n",
       "                                             context   \n",
       "0  [i never would have identified the fingerprint...  \\\n",
       "1  [this is one of my favorite places to kick bac...   \n",
       "2  [here we go. pad thai, no peanuts., but does i...   \n",
       "3  [a marathon? how many superman movies are ther...   \n",
       "4  [great caesar's ghost, look at this place., so...   \n",
       "\n",
       "                                    context_speakers  show  sarcasm  \n",
       "0                                 [leonard, sheldon]     0        1  \n",
       "1  [howard, penny, howard, howard, howard, penny,...     0        1  \n",
       "2                         [leonard, howard, leonard]     0        0  \n",
       "3  [penny, sheldon, penny, sheldon, sheldon, penn...     0        0  \n",
       "4  [sheldon, leonard, sheldon, sheldon, sheldon, ...     0        1  "
      ]
     },
     "execution_count": 150,
     "metadata": {},
     "output_type": "execute_result"
    }
   ],
   "source": [
    "df.head()"
   ]
  },
  {
   "cell_type": "code",
   "execution_count": 151,
   "id": "91790268",
   "metadata": {},
   "outputs": [],
   "source": [
    "# Cleaning text for only Column - > context\n",
    "\n",
    "def clean_text(text):\n",
    "    \n",
    "    result = []\n",
    "    for sentence in text:\n",
    "        \n",
    "        # Convert sentence to lowercase\n",
    "        sentence = sentence.lower()\n",
    "        \n",
    "        # Remove all punctuation\n",
    "        sentence = sentence.translate(str.maketrans(\"\", \"\", string.punctuation))\n",
    "        \n",
    "        # Remove Apostrophe & Full-Stop\n",
    "        for word in sentence:\n",
    "            if \"'\" in word:\n",
    "                word = word.replace(\"'\", \"\")\n",
    "            if \".\" in word:\n",
    "                word = word.replace(\".\", \"\")\n",
    "    \n",
    "        # Remove all digits\n",
    "        sentence = re.sub(r\"\\d+\", \"\", sentence)\n",
    "\n",
    "        # Remove all extra whitespace\n",
    "        sentence = re.sub(r\"\\s+\", \" \", sentence).strip()\n",
    "\n",
    "        # Remove all stop words (optional)\n",
    "        stop_words = set(stopwords.words('english'))\n",
    "        sentence = ' '.join([word for word in sentence.split() if word not in stop_words])\n",
    "\n",
    "        result.append(sentence)\n",
    "    \n",
    "    return result"
   ]
  },
  {
   "cell_type": "code",
   "execution_count": 152,
   "id": "8a3b68ea",
   "metadata": {},
   "outputs": [
    {
     "data": {
      "text/plain": [
       "['never would identified fingerprints string theory aftermath big bang',\n",
       " 'apologies whats plan']"
      ]
     },
     "execution_count": 152,
     "metadata": {},
     "output_type": "execute_result"
    }
   ],
   "source": [
    "# | Stop Word | Punctuation | Lowercase | \n",
    "df['context'] = df['context'].apply(clean_text)\n",
    "df.iloc[0, 3]"
   ]
  },
  {
   "cell_type": "code",
   "execution_count": 155,
   "id": "15f86428",
   "metadata": {},
   "outputs": [],
   "source": [
    "# For Columns -> Utterances & Speaker\n",
    "def clean_text_cols12(text):\n",
    "    # Convert all text to lowercase\n",
    "    text = text.lower()\n",
    "   \n",
    "    # Remove all punctuation\n",
    "    text = text.translate(str.maketrans(\"\", \"\", string.punctuation))\n",
    "    \n",
    "    # Remove Apostrophe & Full-Stop\n",
    "    for word in text:\n",
    "        if \"'\" in word:\n",
    "            word = word.replace(\"'\", \"\")\n",
    "        if \".\" in word:\n",
    "            word = word.replace(\".\", \"\")\n",
    "    \n",
    "    # Remove all digits\n",
    "    text = re.sub(r\"\\d+\", \"\", text)\n",
    "   \n",
    "    # Remove all extra whitespace\n",
    "    text = re.sub(r\"\\s+\", \" \", text).strip()\n",
    "   \n",
    "    # Remove all stop words (optional)\n",
    "    stop_words = set(stopwords.words('english'))\n",
    "    text = ' '.join([word for word in text.split() if word not in stop_words])\n",
    "   \n",
    "    return text"
   ]
  },
  {
   "cell_type": "code",
   "execution_count": 157,
   "id": "25e049e7",
   "metadata": {},
   "outputs": [
    {
     "name": "stdout",
     "output_type": "stream",
     "text": [
      "privilege watch mind work \n",
      "\n",
      "sheldon \n",
      "\n"
     ]
    }
   ],
   "source": [
    "# | Stop Word | Punctuation | Lowercase | \n",
    "df['utterance'] = df['utterance'].apply(clean_text_cols12)\n",
    "df['speaker'] = df['speaker'].apply(clean_text_cols12)\n",
    "\n",
    "print(df.iloc[0, 1], \"\\n\")\n",
    "print(df.iloc[0,2], \"\\n\")\n"
   ]
  },
  {
   "cell_type": "code",
   "execution_count": 158,
   "id": "c88593ae",
   "metadata": {},
   "outputs": [
    {
     "data": {
      "text/html": [
       "<div>\n",
       "<style scoped>\n",
       "    .dataframe tbody tr th:only-of-type {\n",
       "        vertical-align: middle;\n",
       "    }\n",
       "\n",
       "    .dataframe tbody tr th {\n",
       "        vertical-align: top;\n",
       "    }\n",
       "\n",
       "    .dataframe thead th {\n",
       "        text-align: right;\n",
       "    }\n",
       "</style>\n",
       "<table border=\"1\" class=\"dataframe\">\n",
       "  <thead>\n",
       "    <tr style=\"text-align: right;\">\n",
       "      <th></th>\n",
       "      <th>id</th>\n",
       "      <th>utterance</th>\n",
       "      <th>speaker</th>\n",
       "      <th>context</th>\n",
       "      <th>context_speakers</th>\n",
       "      <th>show</th>\n",
       "      <th>sarcasm</th>\n",
       "    </tr>\n",
       "  </thead>\n",
       "  <tbody>\n",
       "    <tr>\n",
       "      <th>0</th>\n",
       "      <td>1_60</td>\n",
       "      <td>privilege watch mind work</td>\n",
       "      <td>sheldon</td>\n",
       "      <td>[never would identified fingerprints string th...</td>\n",
       "      <td>[leonard, sheldon]</td>\n",
       "      <td>0</td>\n",
       "      <td>1</td>\n",
       "    </tr>\n",
       "    <tr>\n",
       "      <th>1</th>\n",
       "      <td>1_70</td>\n",
       "      <td>dont think ill able stop thinking</td>\n",
       "      <td>penny</td>\n",
       "      <td>[one favorite places kick back quest great hou...</td>\n",
       "      <td>[howard, penny, howard, howard, howard, penny,...</td>\n",
       "      <td>0</td>\n",
       "      <td>1</td>\n",
       "    </tr>\n",
       "    <tr>\n",
       "      <th>2</th>\n",
       "      <td>1_80</td>\n",
       "      <td>since bee season epinephrine</td>\n",
       "      <td>sheldon</td>\n",
       "      <td>[go pad thai peanuts, peanut oil, im sure ever...</td>\n",
       "      <td>[leonard, howard, leonard]</td>\n",
       "      <td>0</td>\n",
       "      <td>0</td>\n",
       "    </tr>\n",
       "    <tr>\n",
       "      <th>3</th>\n",
       "      <td>1_90</td>\n",
       "      <td>lois lane falling accelerating initial rate fe...</td>\n",
       "      <td>sheldon</td>\n",
       "      <td>[marathon many superman movies, youre kidding ...</td>\n",
       "      <td>[penny, sheldon, penny, sheldon, sheldon, penn...</td>\n",
       "      <td>0</td>\n",
       "      <td>0</td>\n",
       "    </tr>\n",
       "    <tr>\n",
       "      <th>4</th>\n",
       "      <td>1_105</td>\n",
       "      <td>im inferring couch evidence suggests coffee ta...</td>\n",
       "      <td>sheldon</td>\n",
       "      <td>[great caesars ghost look place, pennys little...</td>\n",
       "      <td>[sheldon, leonard, sheldon, sheldon, sheldon, ...</td>\n",
       "      <td>0</td>\n",
       "      <td>1</td>\n",
       "    </tr>\n",
       "  </tbody>\n",
       "</table>\n",
       "</div>"
      ],
      "text/plain": [
       "      id                                          utterance  speaker   \n",
       "0   1_60                          privilege watch mind work  sheldon  \\\n",
       "1   1_70                  dont think ill able stop thinking    penny   \n",
       "2   1_80                       since bee season epinephrine  sheldon   \n",
       "3   1_90  lois lane falling accelerating initial rate fe...  sheldon   \n",
       "4  1_105  im inferring couch evidence suggests coffee ta...  sheldon   \n",
       "\n",
       "                                             context   \n",
       "0  [never would identified fingerprints string th...  \\\n",
       "1  [one favorite places kick back quest great hou...   \n",
       "2  [go pad thai peanuts, peanut oil, im sure ever...   \n",
       "3  [marathon many superman movies, youre kidding ...   \n",
       "4  [great caesars ghost look place, pennys little...   \n",
       "\n",
       "                                    context_speakers  show  sarcasm  \n",
       "0                                 [leonard, sheldon]     0        1  \n",
       "1  [howard, penny, howard, howard, howard, penny,...     0        1  \n",
       "2                         [leonard, howard, leonard]     0        0  \n",
       "3  [penny, sheldon, penny, sheldon, sheldon, penn...     0        0  \n",
       "4  [sheldon, leonard, sheldon, sheldon, sheldon, ...     0        1  "
      ]
     },
     "execution_count": 158,
     "metadata": {},
     "output_type": "execute_result"
    }
   ],
   "source": [
    "df.head()"
   ]
  },
  {
   "cell_type": "code",
   "execution_count": 163,
   "id": "77f6091a",
   "metadata": {},
   "outputs": [],
   "source": [
    "# Lemmatization\n",
    "\n",
    "from nltk.corpus import wordnet\n",
    "from nltk.stem import WordNetLemmatizer\n",
    "\n",
    "# initialize lemmatizer\n",
    "lemmatizer = WordNetLemmatizer()\n",
    "\n",
    "# define function to map POS tag to WordNet POS tag\n",
    "def get_wordnet_pos(word):\n",
    "    \"\"\"Map POS tag to WordNet POS tag\"\"\"\n",
    "    tag = nltk.pos_tag([word])[0][1]\n",
    "    if tag.startswith('J'):\n",
    "        return wordnet.ADJ\n",
    "    elif tag.startswith('V'):\n",
    "        return wordnet.VERB\n",
    "    elif tag.startswith('N'):\n",
    "        return wordnet.NOUN\n",
    "    elif tag.startswith('R'):\n",
    "        return wordnet.ADV\n",
    "    else:\n",
    "        return wordnet.NOUN\n",
    "\n",
    "# define function to perform lemmatization on a sentence of CONTEXT\n",
    "def lemmatization(cell):\n",
    "    \n",
    "    lemma_result = []\n",
    "    \n",
    "    for sentence in cell:\n",
    "        \n",
    "        # tokenize each sentence in cell\n",
    "        tokens = sentence.split(\" \")\n",
    "        \n",
    "        # lemmatize each tokens\n",
    "        lemmatized_list_of_tokens = [lemmatizer.lemmatize(token, get_wordnet_pos(token)) for token in tokens]\n",
    "   \n",
    "        # append to lemma_result -> list of list\n",
    "        lemma_result.append(lemmatized_list_of_tokens)\n",
    "   \n",
    "    return lemma_result\n",
    "\n",
    "# define function to perform lemmatization on a sentence of UTTERANCES\n",
    "def lemmatization_col1(sentence):\n",
    "\n",
    "    # tokenize each sentence in cell\n",
    "    tokens = sentence.split(\" \")\n",
    "\n",
    "    # lemmatize each tokens\n",
    "    lemmatized_list_of_tokens = [lemmatizer.lemmatize(token, get_wordnet_pos(token)) for token in tokens]\n",
    "   \n",
    "    return lemmatized_list_of_tokens"
   ]
  },
  {
   "cell_type": "code",
   "execution_count": 169,
   "id": "8f7c5e43",
   "metadata": {},
   "outputs": [
    {
     "name": "stdout",
     "output_type": "stream",
     "text": [
      "['never would identified fingerprints string theory aftermath big bang', 'apologies whats plan'] \n",
      "\n",
      "[['never', 'would', 'identify', 'fingerprint', 'string', 'theory', 'aftermath', 'big', 'bang'], ['apology', 'whats', 'plan']] \n",
      "\n",
      "latest copy applied particle physics quarterly \n",
      "\n",
      "['late', 'copy', 'apply', 'particle', 'physic', 'quarterly'] \n",
      "\n"
     ]
    }
   ],
   "source": [
    "# lemmatization column -> context\n",
    "a = df.iloc[0,3]\n",
    "print(a, \"\\n\")\n",
    "a = lemmatization(a)\n",
    "print(a, \"\\n\")\n",
    "\n",
    "# lemmatization column -> utterances\n",
    "b = df.iloc[18,1]\n",
    "print(b, \"\\n\")\n",
    "b = lemmatization_col1(b)\n",
    "print(b, \"\\n\")"
   ]
  },
  {
   "cell_type": "code",
   "execution_count": 170,
   "id": "c3a7bb79",
   "metadata": {},
   "outputs": [],
   "source": [
    "# Apply lemmatization on column -> context\n",
    "df['context'] = df['context'].apply(lemmatization)\n",
    "\n",
    "# Apply lemmatization on column -> utterance\n",
    "df['utterance'] = df['utterance'].apply(lemmatization_col1)"
   ]
  },
  {
   "cell_type": "code",
   "execution_count": 171,
   "id": "69cf5138",
   "metadata": {},
   "outputs": [
    {
     "data": {
      "text/html": [
       "<div>\n",
       "<style scoped>\n",
       "    .dataframe tbody tr th:only-of-type {\n",
       "        vertical-align: middle;\n",
       "    }\n",
       "\n",
       "    .dataframe tbody tr th {\n",
       "        vertical-align: top;\n",
       "    }\n",
       "\n",
       "    .dataframe thead th {\n",
       "        text-align: right;\n",
       "    }\n",
       "</style>\n",
       "<table border=\"1\" class=\"dataframe\">\n",
       "  <thead>\n",
       "    <tr style=\"text-align: right;\">\n",
       "      <th></th>\n",
       "      <th>id</th>\n",
       "      <th>utterance</th>\n",
       "      <th>speaker</th>\n",
       "      <th>context</th>\n",
       "      <th>context_speakers</th>\n",
       "      <th>show</th>\n",
       "      <th>sarcasm</th>\n",
       "    </tr>\n",
       "  </thead>\n",
       "  <tbody>\n",
       "    <tr>\n",
       "      <th>0</th>\n",
       "      <td>1_60</td>\n",
       "      <td>[privilege, watch, mind, work]</td>\n",
       "      <td>sheldon</td>\n",
       "      <td>[[never, would, identify, fingerprint, string,...</td>\n",
       "      <td>[leonard, sheldon]</td>\n",
       "      <td>0</td>\n",
       "      <td>1</td>\n",
       "    </tr>\n",
       "    <tr>\n",
       "      <th>1</th>\n",
       "      <td>1_70</td>\n",
       "      <td>[dont, think, ill, able, stop, think]</td>\n",
       "      <td>penny</td>\n",
       "      <td>[[one, favorite, place, kick, back, quest, gre...</td>\n",
       "      <td>[howard, penny, howard, howard, howard, penny,...</td>\n",
       "      <td>0</td>\n",
       "      <td>1</td>\n",
       "    </tr>\n",
       "    <tr>\n",
       "      <th>2</th>\n",
       "      <td>1_80</td>\n",
       "      <td>[since, bee, season, epinephrine]</td>\n",
       "      <td>sheldon</td>\n",
       "      <td>[[go, pad, thai, peanut], [peanut, oil], [im, ...</td>\n",
       "      <td>[leonard, howard, leonard]</td>\n",
       "      <td>0</td>\n",
       "      <td>0</td>\n",
       "    </tr>\n",
       "    <tr>\n",
       "      <th>3</th>\n",
       "      <td>1_90</td>\n",
       "      <td>[lois, lane, fall, accelerate, initial, rate, ...</td>\n",
       "      <td>sheldon</td>\n",
       "      <td>[[marathon, many, superman, movie], [youre, ki...</td>\n",
       "      <td>[penny, sheldon, penny, sheldon, sheldon, penn...</td>\n",
       "      <td>0</td>\n",
       "      <td>0</td>\n",
       "    </tr>\n",
       "    <tr>\n",
       "      <th>4</th>\n",
       "      <td>1_105</td>\n",
       "      <td>[im, infer, couch, evidence, suggests, coffee,...</td>\n",
       "      <td>sheldon</td>\n",
       "      <td>[[great, caesar, ghost, look, place], [penny, ...</td>\n",
       "      <td>[sheldon, leonard, sheldon, sheldon, sheldon, ...</td>\n",
       "      <td>0</td>\n",
       "      <td>1</td>\n",
       "    </tr>\n",
       "  </tbody>\n",
       "</table>\n",
       "</div>"
      ],
      "text/plain": [
       "      id                                          utterance  speaker   \n",
       "0   1_60                     [privilege, watch, mind, work]  sheldon  \\\n",
       "1   1_70              [dont, think, ill, able, stop, think]    penny   \n",
       "2   1_80                  [since, bee, season, epinephrine]  sheldon   \n",
       "3   1_90  [lois, lane, fall, accelerate, initial, rate, ...  sheldon   \n",
       "4  1_105  [im, infer, couch, evidence, suggests, coffee,...  sheldon   \n",
       "\n",
       "                                             context   \n",
       "0  [[never, would, identify, fingerprint, string,...  \\\n",
       "1  [[one, favorite, place, kick, back, quest, gre...   \n",
       "2  [[go, pad, thai, peanut], [peanut, oil], [im, ...   \n",
       "3  [[marathon, many, superman, movie], [youre, ki...   \n",
       "4  [[great, caesar, ghost, look, place], [penny, ...   \n",
       "\n",
       "                                    context_speakers  show  sarcasm  \n",
       "0                                 [leonard, sheldon]     0        1  \n",
       "1  [howard, penny, howard, howard, howard, penny,...     0        1  \n",
       "2                         [leonard, howard, leonard]     0        0  \n",
       "3  [penny, sheldon, penny, sheldon, sheldon, penn...     0        0  \n",
       "4  [sheldon, leonard, sheldon, sheldon, sheldon, ...     0        1  "
      ]
     },
     "execution_count": 171,
     "metadata": {},
     "output_type": "execute_result"
    }
   ],
   "source": [
    "df.head()"
   ]
  },
  {
   "cell_type": "code",
   "execution_count": 57,
   "id": "6a3f2963",
   "metadata": {},
   "outputs": [
    {
     "data": {
      "text/plain": [
       "'privilege watch mind work'"
      ]
     },
     "execution_count": 57,
     "metadata": {},
     "output_type": "execute_result"
    }
   ],
   "source": [
    "df.iloc[0, 1]"
   ]
  },
  {
   "cell_type": "code",
   "execution_count": 96,
   "id": "4c40d359",
   "metadata": {},
   "outputs": [
    {
     "data": {
      "text/plain": [
       "\"won't i do this\""
      ]
     },
     "execution_count": 96,
     "metadata": {},
     "output_type": "execute_result"
    }
   ],
   "source": [
    "a = \"won't i DO This\"\n",
    "a = a.lower()\n",
    "a"
   ]
  },
  {
   "cell_type": "code",
   "execution_count": 172,
   "id": "623ad788",
   "metadata": {},
   "outputs": [],
   "source": [
    "df.to_csv(\"Processed_sarcasm.csv\")"
   ]
  },
  {
   "cell_type": "code",
   "execution_count": null,
   "id": "188fc5dc",
   "metadata": {},
   "outputs": [],
   "source": []
  }
 ],
 "metadata": {
  "kernelspec": {
   "display_name": "Python 3 (ipykernel)",
   "language": "python",
   "name": "python3"
  },
  "language_info": {
   "codemirror_mode": {
    "name": "ipython",
    "version": 3
   },
   "file_extension": ".py",
   "mimetype": "text/x-python",
   "name": "python",
   "nbconvert_exporter": "python",
   "pygments_lexer": "ipython3",
   "version": "3.9.12"
  }
 },
 "nbformat": 4,
 "nbformat_minor": 5
}
